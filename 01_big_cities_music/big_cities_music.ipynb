{
 "cells": [
  {
   "cell_type": "markdown",
   "metadata": {
    "id": "E0vqbgi9ay0H"
   },
   "source": [
    "# Яндекс.Музыка"
   ]
  },
  {
   "cell_type": "markdown",
   "metadata": {
    "id": "VUC88oWjTJw2"
   },
   "source": [
    "Сравнение Москвы и Петербурга окружено мифами. Например:\n",
    " * Москва — мегаполис, подчинённый жёсткому ритму рабочей недели;\n",
    " * Петербург — культурная столица, со своими вкусами.\n",
    "\n",
    "На данных Яндекс.Музыки вы сравните поведение пользователей двух столиц.\n",
    "\n",
    "**Цель исследования** — проверьте три гипотезы:\n",
    "1. Активность пользователей зависит от дня недели. Причём в Москве и Петербурге это проявляется по-разному.\n",
    "2. В понедельник утром в Москве преобладают одни жанры, а в Петербурге — другие. Так же и вечером пятницы преобладают разные жанры — в зависимости от города. \n",
    "3. Москва и Петербург предпочитают разные жанры музыки. В Москве чаще слушают поп-музыку, в Петербурге — русский рэп.\n",
    "\n",
    "**Ход исследования**\n",
    "\n",
    "Данные о поведении пользователей вы получите из файла `yandex_music_project.csv`. О качестве данных ничего не известно. Поэтому перед проверкой гипотез понадобится обзор данных. \n",
    "\n",
    "Вы проверите данные на ошибки и оцените их влияние на исследование. Затем, на этапе предобработки вы поищете возможность исправить самые критичные ошибки данных.\n",
    " \n",
    "Таким образом, исследование пройдёт в три этапа:\n",
    " 1. Обзор данных.\n",
    " 2. Предобработка данных.\n",
    " 3. Проверка гипотез.\n",
    "\n"
   ]
  },
  {
   "cell_type": "markdown",
   "metadata": {
    "id": "Ml1hmfXC_Zcs"
   },
   "source": [
    "## Обзор данных\n",
    "\n",
    "Составьте первое представление о данных Яндекс.Музыки.\n",
    "\n",
    "\n"
   ]
  },
  {
   "cell_type": "markdown",
   "metadata": {
    "id": "57eAOGIz_Zcs"
   },
   "source": [
    "Основной инструмент аналитика — `pandas`. Импортируйте эту библиотеку."
   ]
  },
  {
   "cell_type": "code",
   "execution_count": 1,
   "metadata": {
    "id": "AXN7PHPN_Zcs"
   },
   "outputs": [],
   "source": [
    "# импорт библиотеки pandas\n",
    "import pandas as pd"
   ]
  },
  {
   "cell_type": "markdown",
   "metadata": {
    "id": "SG23P8tt_Zcs"
   },
   "source": [
    "Прочитайте файл `yandex_music_project.csv` из папки `/datasets` и сохраните его в переменной `df`:"
   ]
  },
  {
   "cell_type": "code",
   "execution_count": 2,
   "metadata": {
    "id": "fFVu7vqh_Zct",
    "scrolled": true
   },
   "outputs": [],
   "source": [
    "# чтение файла с данными и сохранение в df\n",
    "df = pd.read_csv('/datasets/yandex_music_project.csv')"
   ]
  },
  {
   "cell_type": "markdown",
   "metadata": {
    "id": "rDoOMd3uTqnZ"
   },
   "source": [
    "Выведите на экран первые десять строк таблицы:"
   ]
  },
  {
   "cell_type": "code",
   "execution_count": 3,
   "metadata": {
    "id": "oWTVX3gW_Zct"
   },
   "outputs": [
    {
     "data": {
      "text/html": [
       "<div>\n",
       "<style scoped>\n",
       "    .dataframe tbody tr th:only-of-type {\n",
       "        vertical-align: middle;\n",
       "    }\n",
       "\n",
       "    .dataframe tbody tr th {\n",
       "        vertical-align: top;\n",
       "    }\n",
       "\n",
       "    .dataframe thead th {\n",
       "        text-align: right;\n",
       "    }\n",
       "</style>\n",
       "<table border=\"1\" class=\"dataframe\">\n",
       "  <thead>\n",
       "    <tr style=\"text-align: right;\">\n",
       "      <th></th>\n",
       "      <th>userID</th>\n",
       "      <th>Track</th>\n",
       "      <th>artist</th>\n",
       "      <th>genre</th>\n",
       "      <th>City</th>\n",
       "      <th>time</th>\n",
       "      <th>Day</th>\n",
       "    </tr>\n",
       "  </thead>\n",
       "  <tbody>\n",
       "    <tr>\n",
       "      <td>0</td>\n",
       "      <td>FFB692EC</td>\n",
       "      <td>Kamigata To Boots</td>\n",
       "      <td>The Mass Missile</td>\n",
       "      <td>rock</td>\n",
       "      <td>Saint-Petersburg</td>\n",
       "      <td>20:28:33</td>\n",
       "      <td>Wednesday</td>\n",
       "    </tr>\n",
       "    <tr>\n",
       "      <td>1</td>\n",
       "      <td>55204538</td>\n",
       "      <td>Delayed Because of Accident</td>\n",
       "      <td>Andreas Rönnberg</td>\n",
       "      <td>rock</td>\n",
       "      <td>Moscow</td>\n",
       "      <td>14:07:09</td>\n",
       "      <td>Friday</td>\n",
       "    </tr>\n",
       "    <tr>\n",
       "      <td>2</td>\n",
       "      <td>20EC38</td>\n",
       "      <td>Funiculì funiculà</td>\n",
       "      <td>Mario Lanza</td>\n",
       "      <td>pop</td>\n",
       "      <td>Saint-Petersburg</td>\n",
       "      <td>20:58:07</td>\n",
       "      <td>Wednesday</td>\n",
       "    </tr>\n",
       "    <tr>\n",
       "      <td>3</td>\n",
       "      <td>A3DD03C9</td>\n",
       "      <td>Dragons in the Sunset</td>\n",
       "      <td>Fire + Ice</td>\n",
       "      <td>folk</td>\n",
       "      <td>Saint-Petersburg</td>\n",
       "      <td>08:37:09</td>\n",
       "      <td>Monday</td>\n",
       "    </tr>\n",
       "    <tr>\n",
       "      <td>4</td>\n",
       "      <td>E2DC1FAE</td>\n",
       "      <td>Soul People</td>\n",
       "      <td>Space Echo</td>\n",
       "      <td>dance</td>\n",
       "      <td>Moscow</td>\n",
       "      <td>08:34:34</td>\n",
       "      <td>Monday</td>\n",
       "    </tr>\n",
       "    <tr>\n",
       "      <td>5</td>\n",
       "      <td>842029A1</td>\n",
       "      <td>Преданная</td>\n",
       "      <td>IMPERVTOR</td>\n",
       "      <td>rusrap</td>\n",
       "      <td>Saint-Petersburg</td>\n",
       "      <td>13:09:41</td>\n",
       "      <td>Friday</td>\n",
       "    </tr>\n",
       "    <tr>\n",
       "      <td>6</td>\n",
       "      <td>4CB90AA5</td>\n",
       "      <td>True</td>\n",
       "      <td>Roman Messer</td>\n",
       "      <td>dance</td>\n",
       "      <td>Moscow</td>\n",
       "      <td>13:00:07</td>\n",
       "      <td>Wednesday</td>\n",
       "    </tr>\n",
       "    <tr>\n",
       "      <td>7</td>\n",
       "      <td>F03E1C1F</td>\n",
       "      <td>Feeling This Way</td>\n",
       "      <td>Polina Griffith</td>\n",
       "      <td>dance</td>\n",
       "      <td>Moscow</td>\n",
       "      <td>20:47:49</td>\n",
       "      <td>Wednesday</td>\n",
       "    </tr>\n",
       "    <tr>\n",
       "      <td>8</td>\n",
       "      <td>8FA1D3BE</td>\n",
       "      <td>И вновь продолжается бой</td>\n",
       "      <td>NaN</td>\n",
       "      <td>ruspop</td>\n",
       "      <td>Moscow</td>\n",
       "      <td>09:17:40</td>\n",
       "      <td>Friday</td>\n",
       "    </tr>\n",
       "    <tr>\n",
       "      <td>9</td>\n",
       "      <td>E772D5C0</td>\n",
       "      <td>Pessimist</td>\n",
       "      <td>NaN</td>\n",
       "      <td>dance</td>\n",
       "      <td>Saint-Petersburg</td>\n",
       "      <td>21:20:49</td>\n",
       "      <td>Wednesday</td>\n",
       "    </tr>\n",
       "  </tbody>\n",
       "</table>\n",
       "</div>"
      ],
      "text/plain": [
       "     userID                        Track            artist   genre  \\\n",
       "0  FFB692EC            Kamigata To Boots  The Mass Missile    rock   \n",
       "1  55204538  Delayed Because of Accident  Andreas Rönnberg    rock   \n",
       "2    20EC38            Funiculì funiculà       Mario Lanza     pop   \n",
       "3  A3DD03C9        Dragons in the Sunset        Fire + Ice    folk   \n",
       "4  E2DC1FAE                  Soul People        Space Echo   dance   \n",
       "5  842029A1                    Преданная         IMPERVTOR  rusrap   \n",
       "6  4CB90AA5                         True      Roman Messer   dance   \n",
       "7  F03E1C1F             Feeling This Way   Polina Griffith   dance   \n",
       "8  8FA1D3BE     И вновь продолжается бой               NaN  ruspop   \n",
       "9  E772D5C0                    Pessimist               NaN   dance   \n",
       "\n",
       "             City        time        Day  \n",
       "0  Saint-Petersburg  20:28:33  Wednesday  \n",
       "1            Moscow  14:07:09     Friday  \n",
       "2  Saint-Petersburg  20:58:07  Wednesday  \n",
       "3  Saint-Petersburg  08:37:09     Monday  \n",
       "4            Moscow  08:34:34     Monday  \n",
       "5  Saint-Petersburg  13:09:41     Friday  \n",
       "6            Moscow  13:00:07  Wednesday  \n",
       "7            Moscow  20:47:49  Wednesday  \n",
       "8            Moscow  09:17:40     Friday  \n",
       "9  Saint-Petersburg  21:20:49  Wednesday  "
      ]
     },
     "execution_count": 3,
     "metadata": {},
     "output_type": "execute_result"
    }
   ],
   "source": [
    "# получение первых 10 строк таблицы df\n",
    "df.head(10)"
   ]
  },
  {
   "cell_type": "markdown",
   "metadata": {
    "id": "EO73Kwic_Zct"
   },
   "source": [
    "Одной командой получить общую информацию о таблице:"
   ]
  },
  {
   "cell_type": "code",
   "execution_count": 4,
   "metadata": {
    "id": "DSf2kIb-_Zct"
   },
   "outputs": [
    {
     "name": "stdout",
     "output_type": "stream",
     "text": [
      "<class 'pandas.core.frame.DataFrame'>\n",
      "RangeIndex: 65079 entries, 0 to 65078\n",
      "Data columns (total 7 columns):\n",
      "  userID    65079 non-null object\n",
      "Track       63848 non-null object\n",
      "artist      57876 non-null object\n",
      "genre       63881 non-null object\n",
      "  City      65079 non-null object\n",
      "time        65079 non-null object\n",
      "Day         65079 non-null object\n",
      "dtypes: object(7)\n",
      "memory usage: 3.5+ MB\n"
     ]
    }
   ],
   "source": [
    "# получение общей информации о данных в таблице df\n",
    "df.info()"
   ]
  },
  {
   "cell_type": "markdown",
   "metadata": {
    "id": "TaQ2Iwbr_Zct"
   },
   "source": [
    "Итак, в таблице семь столбцов. Тип данных во всех столбцах — `object`.\n",
    "\n",
    "Согласно документации к данным:\n",
    "* `userID` — идентификатор пользователя;\n",
    "* `Track` — название трека;  \n",
    "* `artist` — имя исполнителя;\n",
    "* `genre` — название жанра;\n",
    "* `City` — город пользователя;\n",
    "* `time` — время начала прослушивания;\n",
    "* `Day` — день недели.\n",
    "\n",
    "В названиях колонок видны три нарушения стиля:\n",
    "1. Строчные буквы сочетаются с прописными.\n",
    "2. Встречаются пробелы.\n",
    "3. Встречается слитное написание слов.\n",
    "\n",
    "\n",
    "\n",
    "Количество значений в столбцах различается. Значит, в данных есть пропущенные значения.\n"
   ]
  },
  {
   "cell_type": "markdown",
   "metadata": {
    "id": "MCB6-dXG_Zct"
   },
   "source": [
    "**Выводы**\n",
    "\n",
    "В каждой строке таблицы — данные о прослушанном треке. Часть колонок описывает саму композицию: название, исполнителя и жанр. Остальные данные рассказывают о пользователе: из какого он города, когда он слушал музыку. \n",
    "\n",
    "Предварительно можно утверждать, что, данных достаточно для проверки гипотез. Но встречаются пропуски в данных, а в названиях колонок — расхождения с хорошим стилем.\n",
    "\n",
    "Чтобы двигаться дальше, нужно устранить проблемы в данных."
   ]
  },
  {
   "cell_type": "markdown",
   "metadata": {
    "id": "SjYF6Ub9_Zct"
   },
   "source": [
    "## Предобработка данных\n",
    "Исправьте стиль в заголовках столбцов, исключите пропуски. Затем проверьте данные на дубликаты."
   ]
  },
  {
   "cell_type": "markdown",
   "metadata": {
    "id": "dIaKXr29_Zct"
   },
   "source": [
    "### Стиль заголовков\n",
    "Выведите на экран названия столбцов:"
   ]
  },
  {
   "cell_type": "code",
   "execution_count": 5,
   "metadata": {
    "id": "oKOTdF_Q_Zct"
   },
   "outputs": [
    {
     "data": {
      "text/plain": [
       "Index(['  userID', 'Track', 'artist', 'genre', '  City  ', 'time', 'Day'], dtype='object')"
      ]
     },
     "execution_count": 5,
     "metadata": {},
     "output_type": "execute_result"
    }
   ],
   "source": [
    "# перечень названий столбцов таблицы df\n",
    "df.columns"
   ]
  },
  {
   "cell_type": "markdown",
   "metadata": {
    "id": "zj5534cv_Zct"
   },
   "source": [
    "Приведите названия в соответствие с хорошим стилем:\n",
    "* несколько слов в названии запишите в «змеином_регистре»,\n",
    "* все символы сделайте строчными,\n",
    "* устраните пробелы.\n",
    "\n",
    "Для этого переименуйте колонки так:\n",
    "* `'  userID'` → `'user_id'`;\n",
    "* `'Track'` → `'track'`;\n",
    "* `'  City  '` → `'city'`;\n",
    "* `'Day'` → `'day'`."
   ]
  },
  {
   "cell_type": "code",
   "execution_count": 6,
   "metadata": {
    "id": "ISlFqs5y_Zct"
   },
   "outputs": [],
   "source": [
    "# переименование столбцов\n",
    "df = df.rename(columns = {'  userID': 'user_id', 'Track': 'track', '  City  ': 'city', 'Day': 'day'})"
   ]
  },
  {
   "cell_type": "markdown",
   "metadata": {
    "id": "1dqbh00J_Zct"
   },
   "source": [
    "Проверьте результат. Для этого ещё раз выведите на экран названия столбцов:"
   ]
  },
  {
   "cell_type": "code",
   "execution_count": 7,
   "metadata": {
    "id": "d4NOAmTW_Zct"
   },
   "outputs": [
    {
     "data": {
      "text/plain": [
       "Index(['user_id', 'track', 'artist', 'genre', 'city', 'time', 'day'], dtype='object')"
      ]
     },
     "execution_count": 7,
     "metadata": {},
     "output_type": "execute_result"
    }
   ],
   "source": [
    "# проверка результатов - перечень названий столбцов\n",
    "df.columns"
   ]
  },
  {
   "cell_type": "markdown",
   "metadata": {
    "id": "5ISfbcfY_Zct"
   },
   "source": [
    "### Пропуски значений\n",
    "Сначала посчитайте, сколько в таблице пропущенных значений. Для этого достаточно двух методов `pandas`:"
   ]
  },
  {
   "cell_type": "code",
   "execution_count": 8,
   "metadata": {
    "id": "RskX29qr_Zct",
    "scrolled": true
   },
   "outputs": [
    {
     "data": {
      "text/plain": [
       "user_id       0\n",
       "track      1231\n",
       "artist     7203\n",
       "genre      1198\n",
       "city          0\n",
       "time          0\n",
       "day           0\n",
       "dtype: int64"
      ]
     },
     "execution_count": 8,
     "metadata": {},
     "output_type": "execute_result"
    }
   ],
   "source": [
    "# подсчёт пропусков\n",
    "df.isna().sum()"
   ]
  },
  {
   "cell_type": "markdown",
   "metadata": {
    "id": "qubhgnlO_Zct"
   },
   "source": [
    "Не все пропущенные значения влияют на исследование. Так в `track` и `artist` пропуски не важны для вашей работы. Достаточно заменить их явными обозначениями.\n",
    "\n",
    "Но пропуски в `genre` могут помешать сравнению музыкальных вкусов в Москве и Санкт-Петербурге. На практике было бы правильно установить причину пропусков и восстановить данные. Такой возможности нет в учебном проекте. Придётся:\n",
    "* заполнить и эти пропуски явными обозначениями,\n",
    "* оценить, насколько они повредят расчётам. "
   ]
  },
  {
   "cell_type": "markdown",
   "metadata": {
    "id": "fSv2laPA_Zct"
   },
   "source": [
    "Замените пропущенные значения в столбцах `track`, `artist` и `genre` на строку `'unknown'`. Для этого создайте список `columns_to_replace`, переберите его элементы циклом `for` и для каждого столбца выполните замену пропущенных значений:"
   ]
  },
  {
   "cell_type": "code",
   "execution_count": 9,
   "metadata": {
    "id": "KplB5qWs_Zct"
   },
   "outputs": [],
   "source": [
    "# перебор названий столбцов в цикле и замена пропущенных значений на 'unknown'\n",
    "columns_to_replace = ['track','artist','genre']\n",
    "\n",
    "for column in columns_to_replace:\n",
    "    df[column] = df[column].fillna('unknown')"
   ]
  },
  {
   "cell_type": "markdown",
   "metadata": {
    "id": "Ilsm-MZo_Zct"
   },
   "source": [
    "Убедитесь, что в таблице не осталось пропусков. Для этого ещё раз посчитайте пропущенные значения."
   ]
  },
  {
   "cell_type": "code",
   "execution_count": 10,
   "metadata": {
    "id": "Tq4nYRX4_Zct"
   },
   "outputs": [
    {
     "data": {
      "text/plain": [
       "user_id    0\n",
       "track      0\n",
       "artist     0\n",
       "genre      0\n",
       "city       0\n",
       "time       0\n",
       "day        0\n",
       "dtype: int64"
      ]
     },
     "execution_count": 10,
     "metadata": {},
     "output_type": "execute_result"
    }
   ],
   "source": [
    "# подсчёт пропусков\n",
    "df.isna().sum()"
   ]
  },
  {
   "cell_type": "markdown",
   "metadata": {
    "id": "BWKRtBJ3_Zct"
   },
   "source": [
    "### Дубликаты\n",
    "Посчитайте явные дубликаты в таблице одной командой:"
   ]
  },
  {
   "cell_type": "code",
   "execution_count": 11,
   "metadata": {
    "id": "36eES_S0_Zct"
   },
   "outputs": [
    {
     "data": {
      "text/plain": [
       "3826"
      ]
     },
     "execution_count": 11,
     "metadata": {},
     "output_type": "execute_result"
    }
   ],
   "source": [
    "# подсчёт явных дубликатов\n",
    "df.duplicated().sum()"
   ]
  },
  {
   "cell_type": "markdown",
   "metadata": {
    "id": "Ot25h6XR_Zct"
   },
   "source": [
    "Вызовите специальный метод `pandas`, чтобы удалить явные дубликаты:"
   ]
  },
  {
   "cell_type": "code",
   "execution_count": 12,
   "metadata": {
    "id": "exFHq6tt_Zct"
   },
   "outputs": [],
   "source": [
    "# удаление явных дубликатов (с удалением старых индексов и формированием новых)\n",
    "df = df.drop_duplicates().reset_index(drop = True)"
   ]
  },
  {
   "cell_type": "markdown",
   "metadata": {
    "id": "Im2YwBEG_Zct"
   },
   "source": [
    "Ещё раз посчитайте явные дубликаты в таблице — убедитесь, что полностью от них избавились:"
   ]
  },
  {
   "cell_type": "code",
   "execution_count": 13,
   "metadata": {
    "id": "-8PuNWQ0_Zct"
   },
   "outputs": [
    {
     "data": {
      "text/plain": [
       "0"
      ]
     },
     "execution_count": 13,
     "metadata": {},
     "output_type": "execute_result"
    }
   ],
   "source": [
    "# проверка на отсутствие дубликатов\n",
    "df.duplicated().sum()"
   ]
  },
  {
   "cell_type": "markdown",
   "metadata": {
    "id": "QlFBsxAr_Zct"
   },
   "source": [
    "Теперь избавьтесь от неявных дубликатов в колонке `genre`. Например, название одного и того же жанра может быть записано немного по-разному. Такие ошибки тоже повлияют на результат исследования."
   ]
  },
  {
   "cell_type": "markdown",
   "metadata": {
    "id": "eSjWwsOh_Zct"
   },
   "source": [
    "Выведите на экран список уникальных названий жанров, отсортированный в алфавитном порядке. Для этого:\n",
    "* извлеките нужный столбец датафрейма, \n",
    "* примените к нему метод сортировки,\n",
    "* для отсортированного столбца вызовите метод, который вернёт уникальные значения из столбца."
   ]
  },
  {
   "cell_type": "code",
   "execution_count": 14,
   "metadata": {
    "id": "JIUcqzZN_Zct"
   },
   "outputs": [
    {
     "data": {
      "text/plain": [
       "array(['acid', 'acoustic', 'action', 'adult', 'africa', 'afrikaans',\n",
       "       'alternative', 'alternativepunk', 'ambient', 'americana',\n",
       "       'animated', 'anime', 'arabesk', 'arabic', 'arena',\n",
       "       'argentinetango', 'art', 'audiobook', 'author', 'avantgarde',\n",
       "       'axé', 'baile', 'balkan', 'beats', 'bigroom', 'black', 'bluegrass',\n",
       "       'blues', 'bollywood', 'bossa', 'brazilian', 'breakbeat', 'breaks',\n",
       "       'broadway', 'cantautori', 'cantopop', 'canzone', 'caribbean',\n",
       "       'caucasian', 'celtic', 'chamber', 'chanson', 'children', 'chill',\n",
       "       'chinese', 'choral', 'christian', 'christmas', 'classical',\n",
       "       'classicmetal', 'club', 'colombian', 'comedy', 'conjazz',\n",
       "       'contemporary', 'country', 'cuban', 'dance', 'dancehall',\n",
       "       'dancepop', 'dark', 'death', 'deep', 'deutschrock', 'deutschspr',\n",
       "       'dirty', 'disco', 'dnb', 'documentary', 'downbeat', 'downtempo',\n",
       "       'drum', 'dub', 'dubstep', 'eastern', 'easy', 'electronic',\n",
       "       'electropop', 'emo', 'entehno', 'epicmetal', 'estrada', 'ethnic',\n",
       "       'eurofolk', 'european', 'experimental', 'extrememetal', 'fado',\n",
       "       'fairytail', 'film', 'fitness', 'flamenco', 'folk', 'folklore',\n",
       "       'folkmetal', 'folkrock', 'folktronica', 'forró', 'frankreich',\n",
       "       'französisch', 'french', 'funk', 'future', 'gangsta', 'garage',\n",
       "       'german', 'ghazal', 'gitarre', 'glitch', 'gospel', 'gothic',\n",
       "       'grime', 'grunge', 'gypsy', 'handsup', \"hard'n'heavy\", 'hardcore',\n",
       "       'hardstyle', 'hardtechno', 'hip', 'hip-hop', 'hiphop',\n",
       "       'historisch', 'holiday', 'hop', 'horror', 'house', 'hymn', 'idm',\n",
       "       'independent', 'indian', 'indie', 'indipop', 'industrial',\n",
       "       'inspirational', 'instrumental', 'international', 'irish', 'jam',\n",
       "       'japanese', 'jazz', 'jewish', 'jpop', 'jungle', 'k-pop',\n",
       "       'karadeniz', 'karaoke', 'kayokyoku', 'korean', 'laiko', 'latin',\n",
       "       'latino', 'leftfield', 'local', 'lounge', 'loungeelectronic',\n",
       "       'lovers', 'malaysian', 'mandopop', 'marschmusik', 'meditative',\n",
       "       'mediterranean', 'melodic', 'metal', 'metalcore', 'mexican',\n",
       "       'middle', 'minimal', 'miscellaneous', 'modern', 'mood', 'mpb',\n",
       "       'muslim', 'native', 'neoklassik', 'neue', 'new', 'newage',\n",
       "       'newwave', 'nu', 'nujazz', 'numetal', 'oceania', 'old', 'opera',\n",
       "       'orchestral', 'other', 'piano', 'podcasts', 'pop', 'popdance',\n",
       "       'popelectronic', 'popeurodance', 'poprussian', 'post',\n",
       "       'posthardcore', 'postrock', 'power', 'progmetal', 'progressive',\n",
       "       'psychedelic', 'punjabi', 'punk', 'quebecois', 'ragga', 'ram',\n",
       "       'rancheras', 'rap', 'rave', 'reggae', 'reggaeton', 'regional',\n",
       "       'relax', 'religious', 'retro', 'rhythm', 'rnb', 'rnr', 'rock',\n",
       "       'rockabilly', 'rockalternative', 'rockindie', 'rockother',\n",
       "       'romance', 'roots', 'ruspop', 'rusrap', 'rusrock', 'russian',\n",
       "       'salsa', 'samba', 'scenic', 'schlager', 'self', 'sertanejo',\n",
       "       'shanson', 'shoegazing', 'showtunes', 'singer', 'ska', 'skarock',\n",
       "       'slow', 'smooth', 'soft', 'soul', 'soulful', 'sound', 'soundtrack',\n",
       "       'southern', 'specialty', 'speech', 'spiritual', 'sport',\n",
       "       'stonerrock', 'surf', 'swing', 'synthpop', 'synthrock',\n",
       "       'sängerportrait', 'tango', 'tanzorchester', 'taraftar', 'tatar',\n",
       "       'tech', 'techno', 'teen', 'thrash', 'top', 'traditional',\n",
       "       'tradjazz', 'trance', 'tribal', 'trip', 'triphop', 'tropical',\n",
       "       'türk', 'türkçe', 'ukrrock', 'unknown', 'urban', 'uzbek',\n",
       "       'variété', 'vi', 'videogame', 'vocal', 'western', 'world',\n",
       "       'worldbeat', 'ïîï', 'электроника'], dtype=object)"
      ]
     },
     "execution_count": 14,
     "metadata": {},
     "output_type": "execute_result"
    }
   ],
   "source": [
    "# Просмотр уникальных названий жанров\n",
    "df['genre'].sort_values().unique()"
   ]
  },
  {
   "cell_type": "markdown",
   "metadata": {
    "id": "qej-Qmuo_Zct"
   },
   "source": [
    "Просмотрите список и найдите неявные дубликаты названия `hiphop`. Это могут быть названия с ошибками или альтернативные названия того же жанра.\n",
    "\n",
    "Вы увидите следующие неявные дубликаты:\n",
    "* *hip*,\n",
    "* *hop*,\n",
    "* *hip-hop*.\n",
    "\n",
    "Чтобы очистить от них таблицу, напишите функцию `replace_wrong_genres()` с двумя параметрами: \n",
    "* `wrong_genres` — список дубликатов,\n",
    "* `correct_genre` — строка с правильным значением.\n",
    "\n",
    "Функция должна исправить колонку `genre` в таблице `df`: заменить каждое значение из списка `wrong_genres` на значение из `correct_genre`."
   ]
  },
  {
   "cell_type": "code",
   "execution_count": 15,
   "metadata": {
    "id": "ErNDkmns_Zct"
   },
   "outputs": [],
   "source": [
    "# Функция для замены неявных дубликатов\n",
    "def replace_wrong_genres(dataframe, column, wrong_genres, correct_genre):\n",
    "    for wrong_genre in wrong_genres:\n",
    "        dataframe[column] = dataframe[column].replace(wrong_genre, correct_genre)\n",
    "    return dataframe"
   ]
  },
  {
   "cell_type": "markdown",
   "metadata": {
    "id": "aDoBJxbA_Zct"
   },
   "source": [
    "Вызовите `replace_wrong_genres()` и передайте ей такие аргументы, чтобы она устранила неявные дубликаты: вместо `hip`, `hop` и `hip-hop` в таблице должно быть значение `hiphop`:"
   ]
  },
  {
   "cell_type": "code",
   "execution_count": 16,
   "metadata": {
    "id": "YN5i2hpmSo09"
   },
   "outputs": [],
   "source": [
    "# Устранение неявных дубликатов\n",
    "\n",
    "df = replace_wrong_genres(df, 'genre', ['hip', 'hop', 'hip-hop'], 'hiphop')"
   ]
  },
  {
   "cell_type": "markdown",
   "metadata": {
    "id": "zQKF16_RG15m"
   },
   "source": [
    "Проверьте, что заменили неправильные названия:\n",
    "\n",
    "*   hip\n",
    "*   hop\n",
    "*   hip-hop\n",
    "\n",
    "Выведите отсортированный список уникальных значений столбца `genre`:"
   ]
  },
  {
   "cell_type": "code",
   "execution_count": 17,
   "metadata": {
    "id": "wvixALnFG15m"
   },
   "outputs": [
    {
     "data": {
      "text/plain": [
       "array(['acid', 'acoustic', 'action', 'adult', 'africa', 'afrikaans',\n",
       "       'alternative', 'alternativepunk', 'ambient', 'americana',\n",
       "       'animated', 'anime', 'arabesk', 'arabic', 'arena',\n",
       "       'argentinetango', 'art', 'audiobook', 'author', 'avantgarde',\n",
       "       'axé', 'baile', 'balkan', 'beats', 'bigroom', 'black', 'bluegrass',\n",
       "       'blues', 'bollywood', 'bossa', 'brazilian', 'breakbeat', 'breaks',\n",
       "       'broadway', 'cantautori', 'cantopop', 'canzone', 'caribbean',\n",
       "       'caucasian', 'celtic', 'chamber', 'chanson', 'children', 'chill',\n",
       "       'chinese', 'choral', 'christian', 'christmas', 'classical',\n",
       "       'classicmetal', 'club', 'colombian', 'comedy', 'conjazz',\n",
       "       'contemporary', 'country', 'cuban', 'dance', 'dancehall',\n",
       "       'dancepop', 'dark', 'death', 'deep', 'deutschrock', 'deutschspr',\n",
       "       'dirty', 'disco', 'dnb', 'documentary', 'downbeat', 'downtempo',\n",
       "       'drum', 'dub', 'dubstep', 'eastern', 'easy', 'electronic',\n",
       "       'electropop', 'emo', 'entehno', 'epicmetal', 'estrada', 'ethnic',\n",
       "       'eurofolk', 'european', 'experimental', 'extrememetal', 'fado',\n",
       "       'fairytail', 'film', 'fitness', 'flamenco', 'folk', 'folklore',\n",
       "       'folkmetal', 'folkrock', 'folktronica', 'forró', 'frankreich',\n",
       "       'französisch', 'french', 'funk', 'future', 'gangsta', 'garage',\n",
       "       'german', 'ghazal', 'gitarre', 'glitch', 'gospel', 'gothic',\n",
       "       'grime', 'grunge', 'gypsy', 'handsup', \"hard'n'heavy\", 'hardcore',\n",
       "       'hardstyle', 'hardtechno', 'hiphop', 'historisch', 'holiday',\n",
       "       'horror', 'house', 'hymn', 'idm', 'independent', 'indian', 'indie',\n",
       "       'indipop', 'industrial', 'inspirational', 'instrumental',\n",
       "       'international', 'irish', 'jam', 'japanese', 'jazz', 'jewish',\n",
       "       'jpop', 'jungle', 'k-pop', 'karadeniz', 'karaoke', 'kayokyoku',\n",
       "       'korean', 'laiko', 'latin', 'latino', 'leftfield', 'local',\n",
       "       'lounge', 'loungeelectronic', 'lovers', 'malaysian', 'mandopop',\n",
       "       'marschmusik', 'meditative', 'mediterranean', 'melodic', 'metal',\n",
       "       'metalcore', 'mexican', 'middle', 'minimal', 'miscellaneous',\n",
       "       'modern', 'mood', 'mpb', 'muslim', 'native', 'neoklassik', 'neue',\n",
       "       'new', 'newage', 'newwave', 'nu', 'nujazz', 'numetal', 'oceania',\n",
       "       'old', 'opera', 'orchestral', 'other', 'piano', 'podcasts', 'pop',\n",
       "       'popdance', 'popelectronic', 'popeurodance', 'poprussian', 'post',\n",
       "       'posthardcore', 'postrock', 'power', 'progmetal', 'progressive',\n",
       "       'psychedelic', 'punjabi', 'punk', 'quebecois', 'ragga', 'ram',\n",
       "       'rancheras', 'rap', 'rave', 'reggae', 'reggaeton', 'regional',\n",
       "       'relax', 'religious', 'retro', 'rhythm', 'rnb', 'rnr', 'rock',\n",
       "       'rockabilly', 'rockalternative', 'rockindie', 'rockother',\n",
       "       'romance', 'roots', 'ruspop', 'rusrap', 'rusrock', 'russian',\n",
       "       'salsa', 'samba', 'scenic', 'schlager', 'self', 'sertanejo',\n",
       "       'shanson', 'shoegazing', 'showtunes', 'singer', 'ska', 'skarock',\n",
       "       'slow', 'smooth', 'soft', 'soul', 'soulful', 'sound', 'soundtrack',\n",
       "       'southern', 'specialty', 'speech', 'spiritual', 'sport',\n",
       "       'stonerrock', 'surf', 'swing', 'synthpop', 'synthrock',\n",
       "       'sängerportrait', 'tango', 'tanzorchester', 'taraftar', 'tatar',\n",
       "       'tech', 'techno', 'teen', 'thrash', 'top', 'traditional',\n",
       "       'tradjazz', 'trance', 'tribal', 'trip', 'triphop', 'tropical',\n",
       "       'türk', 'türkçe', 'ukrrock', 'unknown', 'urban', 'uzbek',\n",
       "       'variété', 'vi', 'videogame', 'vocal', 'western', 'world',\n",
       "       'worldbeat', 'ïîï', 'электроника'], dtype=object)"
      ]
     },
     "execution_count": 17,
     "metadata": {},
     "output_type": "execute_result"
    }
   ],
   "source": [
    "# Проверка на неявные дубликаты\n",
    "df['genre'].sort_values().unique()"
   ]
  },
  {
   "cell_type": "markdown",
   "metadata": {
    "id": "jz6a9-7HQUDd"
   },
   "source": [
    "**Выводы**\n",
    "\n",
    "Предобработка обнаружила три проблемы в данных:\n",
    "\n",
    "- нарушения в стиле заголовков,\n",
    "- пропущенные значения,\n",
    "- дубликаты — явные и неявные.\n",
    "\n",
    "Вы исправили заголовки, чтобы упростить работу с таблицей. Без дубликатов исследование станет более точным.\n",
    "\n",
    "Пропущенные значения вы заменили на `'unknown'`. Ещё предстоит увидеть, не повредят ли исследованию пропуски в колонке `genre`.\n",
    "\n",
    "Теперь можно перейти к проверке гипотез. "
   ]
  },
  {
   "cell_type": "markdown",
   "metadata": {
    "id": "WttZHXH0SqKk"
   },
   "source": [
    "## Проверка гипотез"
   ]
  },
  {
   "cell_type": "markdown",
   "metadata": {
    "id": "Im936VVi_Zcu"
   },
   "source": [
    "### Сравнение поведения пользователей двух столиц"
   ]
  },
  {
   "cell_type": "markdown",
   "metadata": {
    "id": "nwt_MuaL_Zcu"
   },
   "source": [
    "Первая гипотеза утверждает, что пользователи по-разному слушают музыку в Москве и Санкт-Петербурге. Проверьте это предположение по данным о трёх днях недели — понедельнике, среде и пятнице. Для этого:\n",
    "\n",
    "* Разделите пользователей Москвы и Санкт-Петербурга\n",
    "* Сравните, сколько треков послушала каждая группа пользователей в понедельник, среду и пятницу.\n"
   ]
  },
  {
   "cell_type": "markdown",
   "metadata": {
    "id": "8Dw_YMmT_Zcu"
   },
   "source": [
    "Для тренировки сначала выполните каждый из расчётов по отдельности. \n",
    "\n",
    "Оцените активность пользователей в каждом городе. Сгруппируйте данные по городу и посчитайте прослушивания в каждой группе.\n",
    "\n"
   ]
  },
  {
   "cell_type": "code",
   "execution_count": 18,
   "metadata": {
    "id": "0_Qs96oh_Zcu"
   },
   "outputs": [
    {
     "data": {
      "text/plain": [
       "city\n",
       "Moscow              42741\n",
       "Saint-Petersburg    18512\n",
       "Name: city, dtype: int64"
      ]
     },
     "execution_count": 18,
     "metadata": {},
     "output_type": "execute_result"
    }
   ],
   "source": [
    "# Подсчёт прослушиваний в каждом городе\n",
    "df.groupby('city')['city'].count()"
   ]
  },
  {
   "cell_type": "markdown",
   "metadata": {
    "id": "dzli3w8o_Zcu"
   },
   "source": [
    "В Москве прослушиваний больше, чем в Петербурге. Из этого не следует, что московские пользователи чаще слушают музыку. Просто самих пользователей в Москве больше.\n",
    "\n",
    "Теперь сгруппируйте данные по дню недели и подсчитайте прослушивания в понедельник, среду и пятницу. Учтите, что в данных есть информация только о прослушиваниях только за эти дни.\n"
   ]
  },
  {
   "cell_type": "code",
   "execution_count": 19,
   "metadata": {
    "id": "uZMKjiJz_Zcu"
   },
   "outputs": [
    {
     "data": {
      "text/plain": [
       "day\n",
       "Friday       21840\n",
       "Monday       21354\n",
       "Wednesday    18059\n",
       "Name: day, dtype: int64"
      ]
     },
     "execution_count": 19,
     "metadata": {},
     "output_type": "execute_result"
    }
   ],
   "source": [
    "# Подсчёт прослушиваний в каждый из трёх дней\n",
    "df.groupby('day')['day'].count()"
   ]
  },
  {
   "cell_type": "markdown",
   "metadata": {
    "id": "cC2tNrlL_Zcu"
   },
   "source": [
    "В среднем пользователи из двух городов менее активны по средам. Но картина может измениться, если рассмотреть каждый город в отдельности."
   ]
  },
  {
   "cell_type": "markdown",
   "metadata": {
    "id": "POzs8bGa_Zcu"
   },
   "source": [
    "Вы видели, как работает группировка по городу и по дням недели. Теперь напишите функцию, которая объединит два эти расчёта.\n",
    "\n",
    "Создайте функцию `number_tracks()`, которая посчитает прослушивания для заданного дня и города. Ей понадобятся два параметра:\n",
    "* день недели,\n",
    "* название города.\n",
    "\n",
    "В функции сохраните в переменную строки исходной таблицы, у которых значение:\n",
    "  * в колонке `day` равно параметру `day`,\n",
    "  * в колонке `city` равно параметру `city`.\n",
    "\n",
    "Для этого примените последовательную фильтрацию с логической индексацией.\n",
    "\n",
    "Затем посчитайте значения в столбце `user_id` получившейся таблицы. Результат сохраните в новую переменную. Верните эту переменную из функции."
   ]
  },
  {
   "cell_type": "code",
   "execution_count": 20,
   "metadata": {
    "id": "Nz3GdQB1_Zcu"
   },
   "outputs": [],
   "source": [
    "# <создание функции number_tracks()>\n",
    "def number_tracks(day, city):\n",
    "    track_list = df[(df['day'] == day) & (df['city'] == city)]\n",
    "    return track_list['user_id'].count()\n",
    "    \n",
    "    \n",
    "# Объявляется функция с двумя параметрами: day, city.\n",
    "# В переменной track_list сохраняются те строки таблицы df, для которых \n",
    "# значение в столбце 'day' равно параметру day и одновременно значение\n",
    "# в столбце 'city' равно параметру city (используйте последовательную фильтрацию\n",
    "# с помощью логической индексации).\n",
    "# В переменной track_list_count сохраняется число значений столбца 'user_id',\n",
    "# рассчитанное методом count() для таблицы track_list.\n",
    "# Функция возвращает число - значение track_list_count.\n",
    "\n",
    "# Функция для подсчёта прослушиваний для конкретного города и дня.\n",
    "# С помощью последовательной фильтрации с логической индексацией она \n",
    "# сначала получит из исходной таблицы строки с нужным днём,\n",
    "# затем из результата отфильтрует строки с нужным городом,\n",
    "# методом count() посчитает количество значений в колонке user_id. \n",
    "# Это количество функция вернёт в качестве результата"
   ]
  },
  {
   "cell_type": "markdown",
   "metadata": {
    "id": "ytf7xFrFJQ2r"
   },
   "source": [
    "Вызовите `number_tracks()` шесть раз, меняя значение параметров — так, чтобы получить данные для каждого города в каждый из трёх дней."
   ]
  },
  {
   "cell_type": "code",
   "execution_count": 21,
   "metadata": {
    "id": "rJcRATNQ_Zcu"
   },
   "outputs": [
    {
     "data": {
      "text/plain": [
       "15740"
      ]
     },
     "execution_count": 21,
     "metadata": {},
     "output_type": "execute_result"
    }
   ],
   "source": [
    "# количество прослушиваний в Москве по понедельникам\n",
    "number_tracks('Monday', 'Moscow')"
   ]
  },
  {
   "cell_type": "code",
   "execution_count": 22,
   "metadata": {
    "id": "hq_ncZ5T_Zcu"
   },
   "outputs": [
    {
     "data": {
      "text/plain": [
       "5614"
      ]
     },
     "execution_count": 22,
     "metadata": {},
     "output_type": "execute_result"
    }
   ],
   "source": [
    "# количество прослушиваний в Санкт-Петербурге по понедельникам\n",
    "number_tracks('Monday', 'Saint-Petersburg')"
   ]
  },
  {
   "cell_type": "code",
   "execution_count": 23,
   "metadata": {
    "id": "_NTy2VPU_Zcu"
   },
   "outputs": [
    {
     "data": {
      "text/plain": [
       "11056"
      ]
     },
     "execution_count": 23,
     "metadata": {},
     "output_type": "execute_result"
    }
   ],
   "source": [
    "# количество прослушиваний в Москве по средам\n",
    "number_tracks('Wednesday', 'Moscow')"
   ]
  },
  {
   "cell_type": "code",
   "execution_count": 24,
   "metadata": {
    "id": "j2y3TAwo_Zcu"
   },
   "outputs": [
    {
     "data": {
      "text/plain": [
       "7003"
      ]
     },
     "execution_count": 24,
     "metadata": {},
     "output_type": "execute_result"
    }
   ],
   "source": [
    "# количество прослушиваний в Санкт-Петербурге по средам\n",
    "number_tracks('Wednesday', 'Saint-Petersburg')"
   ]
  },
  {
   "cell_type": "code",
   "execution_count": 25,
   "metadata": {
    "id": "vYDw5u_K_Zcu"
   },
   "outputs": [
    {
     "data": {
      "text/plain": [
       "15945"
      ]
     },
     "execution_count": 25,
     "metadata": {},
     "output_type": "execute_result"
    }
   ],
   "source": [
    "# количество прослушиваний в Москве по пятницам\n",
    "number_tracks('Friday', 'Moscow')"
   ]
  },
  {
   "cell_type": "code",
   "execution_count": 26,
   "metadata": {
    "id": "8_yzFtW3_Zcu"
   },
   "outputs": [
    {
     "data": {
      "text/plain": [
       "5895"
      ]
     },
     "execution_count": 26,
     "metadata": {},
     "output_type": "execute_result"
    }
   ],
   "source": [
    "# количество прослушиваний в Санкт-Петербурге по пятницам\n",
    "number_tracks('Friday', 'Saint-Petersburg')"
   ]
  },
  {
   "cell_type": "markdown",
   "metadata": {
    "id": "7QXffbO-_Zcu"
   },
   "source": [
    "Создайте c помощью конструктора `pd.DataFrame` таблицу, где\n",
    "* названия колонок — `['city', 'monday', 'wednesday', 'friday']`;\n",
    "* данные — результаты, которые вы получили с помощью `number_tracks`."
   ]
  },
  {
   "cell_type": "code",
   "execution_count": 27,
   "metadata": {
    "id": "APAcLpOr_Zcu",
    "scrolled": true
   },
   "outputs": [
    {
     "data": {
      "text/html": [
       "<div>\n",
       "<style scoped>\n",
       "    .dataframe tbody tr th:only-of-type {\n",
       "        vertical-align: middle;\n",
       "    }\n",
       "\n",
       "    .dataframe tbody tr th {\n",
       "        vertical-align: top;\n",
       "    }\n",
       "\n",
       "    .dataframe thead th {\n",
       "        text-align: right;\n",
       "    }\n",
       "</style>\n",
       "<table border=\"1\" class=\"dataframe\">\n",
       "  <thead>\n",
       "    <tr style=\"text-align: right;\">\n",
       "      <th></th>\n",
       "      <th>city</th>\n",
       "      <th>monday</th>\n",
       "      <th>wednesday</th>\n",
       "      <th>friday</th>\n",
       "    </tr>\n",
       "  </thead>\n",
       "  <tbody>\n",
       "    <tr>\n",
       "      <td>0</td>\n",
       "      <td>Moscow</td>\n",
       "      <td>15740</td>\n",
       "      <td>11056</td>\n",
       "      <td>15945</td>\n",
       "    </tr>\n",
       "    <tr>\n",
       "      <td>1</td>\n",
       "      <td>Saint-Petersburg</td>\n",
       "      <td>5614</td>\n",
       "      <td>7003</td>\n",
       "      <td>5895</td>\n",
       "    </tr>\n",
       "  </tbody>\n",
       "</table>\n",
       "</div>"
      ],
      "text/plain": [
       "               city  monday  wednesday  friday\n",
       "0            Moscow   15740      11056   15945\n",
       "1  Saint-Petersburg    5614       7003    5895"
      ]
     },
     "metadata": {},
     "output_type": "display_data"
    }
   ],
   "source": [
    "# Таблица с результатами\n",
    "data=[\n",
    "        [\n",
    "            'Moscow', \n",
    "            number_tracks('Monday', 'Moscow'), \n",
    "            number_tracks('Wednesday', 'Moscow'), \n",
    "            number_tracks('Friday', 'Moscow')\n",
    "        ],\n",
    "    \n",
    "        [\n",
    "            'Saint-Petersburg',\n",
    "            number_tracks('Monday', 'Saint-Petersburg'), \n",
    "            number_tracks('Wednesday', 'Saint-Petersburg'), \n",
    "            number_tracks('Friday', 'Saint-Petersburg')\n",
    "        ]\n",
    "     ]\n",
    "columns=['city', 'monday', 'wednesday', 'friday']\n",
    "research_results = pd.DataFrame(data = data, columns = columns)\n",
    "display(research_results)"
   ]
  },
  {
   "cell_type": "markdown",
   "metadata": {
    "id": "-EgPIHYu_Zcu"
   },
   "source": [
    "**Выводы**\n",
    "\n",
    "Данные показывают разницу поведения пользователей:\n",
    "\n",
    "- В Москве пик прослушиваний приходится на понедельник и пятницу, а в среду заметен спад.\n",
    "- В Петербурге, наоборот, больше слушают музыку по средам. Активность в понедельник и пятницу здесь почти в равной мере уступает среде.\n",
    "\n",
    "Значит, данные говорят в пользу первой гипотезы."
   ]
  },
  {
   "cell_type": "markdown",
   "metadata": {
    "id": "atZAxtq4_Zcu"
   },
   "source": [
    "### Музыка в начале и в конце недели"
   ]
  },
  {
   "cell_type": "markdown",
   "metadata": {
    "id": "eXrQqXFH_Zcu"
   },
   "source": [
    "Согласно второй гипотезе, утром в понедельник в Москве преобладают одни жанры, а в Петербурге — другие. Так же и вечером пятницы преобладают разные жанры — в зависимости от города."
   ]
  },
  {
   "cell_type": "markdown",
   "metadata": {
    "id": "S8UcW6Hw_Zcu"
   },
   "source": [
    "Сохраните таблицы с данными в две переменные:\n",
    "* по Москве — в `moscow_general`;\n",
    "* по Санкт-Петербургу — в `spb_general`."
   ]
  },
  {
   "cell_type": "code",
   "execution_count": 28,
   "metadata": {
    "id": "qeaFfM_P_Zcu"
   },
   "outputs": [],
   "source": [
    "# получение таблицы moscow_general из тех строк таблицы df, \n",
    "# для которых значение в столбце 'city' равно 'Moscow'\n",
    "moscow_general = df[df['city'] == 'Moscow']"
   ]
  },
  {
   "cell_type": "code",
   "execution_count": 29,
   "metadata": {
    "id": "ORaVRKto_Zcu"
   },
   "outputs": [],
   "source": [
    "# получение таблицы spb_general из тех строк таблицы df,\n",
    "# для которых значение в столбце 'city' равно 'Saint-Petersburg'\n",
    "spb_general = df[df['city'] == 'Saint-Petersburg']"
   ]
  },
  {
   "cell_type": "markdown",
   "metadata": {
    "id": "MEJV-CX2_Zcu"
   },
   "source": [
    "Создайте функцию `genre_weekday()` с четырьмя параметрами:\n",
    "* таблица (датафрейм) с данными,\n",
    "* день недели,\n",
    "* начальная временная метка в формате 'hh:mm', \n",
    "* последняя временная метка в формате 'hh:mm'.\n",
    "\n",
    "Функция должна вернуть информацию о топ-10 жанров тех треков, которые прослушивали в указанный день, в промежутке между двумя отметками времени."
   ]
  },
  {
   "cell_type": "code",
   "execution_count": 30,
   "metadata": {
    "id": "laJT9BYl_Zcu"
   },
   "outputs": [],
   "source": [
    "# Объявление функции genre_weekday() с параметрами table, day, time1, time2,\n",
    "def genre_weekday(table, day, time1, time2):\n",
    "    \n",
    "    genre_df = table[(table['day'] == day) & \n",
    "                     (table['time'] > time1) &\n",
    "                     (table['time'] < time2)\n",
    "                    ]\n",
    "    \n",
    "    genre_df_count = genre_df.groupby('genre')['genre'].count().sort_values(ascending = False)\n",
    "    return genre_df_count.head(10)\n",
    "    \n",
    "    \n",
    "# которая возвращает информацию о самых популярных жанрах в указанный день в\n",
    "# заданное время:\n",
    "# 1) в переменную genre_df сохраняются те строки переданного датафрейма table, для\n",
    "#    которых одновременно:\n",
    "#    - значение в столбце day равно значению аргумента day\n",
    "#    - значение в столбце time больше значения аргумента time1\n",
    "#    - значение в столбце time меньше значения аргумента time2\n",
    "#    Используйте последовательную фильтрацию с помощью логической индексации.\n",
    "# 2) сгруппировать датафрейм genre_df по столбцу genre, взять один из его\n",
    "#    столбцов и посчитать методом count() количество записей для каждого из\n",
    "#    присутствующих жанров, получившийся Series записать в переменную\n",
    "#    genre_df_count\n",
    "# 3) отсортировать genre_df_count по убыванию встречаемости и сохранить\n",
    "#    в переменную genre_df_sorted\n",
    "# 4) вернуть Series из 10 первых значений genre_df_sorted, это будут топ-10\n",
    "#    популярных жанров (в указанный день, в заданное время)"
   ]
  },
  {
   "cell_type": "markdown",
   "metadata": {
    "id": "la2s2_PF_Zcu"
   },
   "source": [
    "Cравните результаты функции `genre_weekday()` для Москвы и Санкт-Петербурга в понедельник утром (с 7:00 до 11:00) и в пятницу вечером (с 17:00 до 23:00):"
   ]
  },
  {
   "cell_type": "code",
   "execution_count": 31,
   "metadata": {
    "id": "yz7itPUQ_Zcu"
   },
   "outputs": [
    {
     "data": {
      "text/plain": [
       "genre\n",
       "pop            781\n",
       "dance          549\n",
       "electronic     480\n",
       "rock           474\n",
       "hiphop         286\n",
       "ruspop         186\n",
       "world          181\n",
       "rusrap         175\n",
       "alternative    164\n",
       "unknown        161\n",
       "Name: genre, dtype: int64"
      ]
     },
     "execution_count": 31,
     "metadata": {},
     "output_type": "execute_result"
    }
   ],
   "source": [
    "# вызов функции для утра понедельника в Москве (вместо df — таблица moscow_general)\n",
    "genre_weekday(moscow_general, 'Monday', '07:00', '11:00')\n",
    "# объекты, хранящие время, являются строками и сравниваются как строки\n",
    "# пример вызова: genre_weekday(moscow_general, 'Monday', '07:00', '11:00')"
   ]
  },
  {
   "cell_type": "code",
   "execution_count": 32,
   "metadata": {
    "id": "kwUcHPdy_Zcu"
   },
   "outputs": [
    {
     "data": {
      "text/plain": [
       "genre\n",
       "pop            218\n",
       "dance          182\n",
       "rock           162\n",
       "electronic     147\n",
       "hiphop          80\n",
       "ruspop          64\n",
       "alternative     58\n",
       "rusrap          55\n",
       "jazz            44\n",
       "classical       40\n",
       "Name: genre, dtype: int64"
      ]
     },
     "execution_count": 32,
     "metadata": {},
     "output_type": "execute_result"
    }
   ],
   "source": [
    "# вызов функции для утра понедельника в Петербурге (вместо df — таблица spb_general)\n",
    "genre_weekday(spb_general, 'Monday', '07:00', '11:00')"
   ]
  },
  {
   "cell_type": "code",
   "execution_count": 33,
   "metadata": {
    "id": "EzXVRE1o_Zcu"
   },
   "outputs": [
    {
     "data": {
      "text/plain": [
       "genre\n",
       "pop            713\n",
       "rock           517\n",
       "dance          495\n",
       "electronic     482\n",
       "hiphop         273\n",
       "world          208\n",
       "ruspop         170\n",
       "alternative    163\n",
       "classical      163\n",
       "rusrap         142\n",
       "Name: genre, dtype: int64"
      ]
     },
     "execution_count": 33,
     "metadata": {},
     "output_type": "execute_result"
    }
   ],
   "source": [
    "# вызов функции для вечера пятницы в Москве\n",
    "genre_weekday(moscow_general, 'Friday', '17:00', '23:00')"
   ]
  },
  {
   "cell_type": "code",
   "execution_count": 34,
   "metadata": {
    "id": "JZaEKu5v_Zcu"
   },
   "outputs": [
    {
     "data": {
      "text/plain": [
       "genre\n",
       "pop            256\n",
       "rock           216\n",
       "electronic     216\n",
       "dance          210\n",
       "hiphop          97\n",
       "alternative     63\n",
       "jazz            61\n",
       "classical       60\n",
       "rusrap          59\n",
       "world           54\n",
       "Name: genre, dtype: int64"
      ]
     },
     "execution_count": 34,
     "metadata": {},
     "output_type": "execute_result"
    }
   ],
   "source": [
    "# вызов функции для вечера пятницы в Петербурге\n",
    "genre_weekday(spb_general, 'Friday', '17:00', '23:00')"
   ]
  },
  {
   "cell_type": "markdown",
   "metadata": {
    "id": "wrCe4MNX_Zcu"
   },
   "source": [
    "**Выводы**\n",
    "\n",
    "Если сравнить топ-10 жанров в понедельник утром, можно сделать такие выводы:\n",
    "\n",
    "1. В Москве и Петербурге слушают похожую музыку. Единственное отличие — в московский рейтинг вошёл жанр “world”, а в петербургский — джаз и классика.\n",
    "\n",
    "2. В Москве пропущенных значений оказалось так много, что значение `'unknown'` заняло десятое место среди самых популярных жанров. Значит, пропущенные значения занимают существенную долю в данных и угрожают достоверности исследования.\n",
    "\n",
    "Вечер пятницы не меняет эту картину. Некоторые жанры поднимаются немного выше, другие спускаются, но в целом топ-10 остаётся тем же самым.\n",
    "\n",
    "Таким образом, вторая гипотеза подтвердилась лишь частично:\n",
    "* Пользователи слушают похожую музыку в начале недели и в конце.\n",
    "* Разница между Москвой и Петербургом не слишком выражена. В Москве чаще слушают русскую популярную музыку, в Петербурге — джаз.\n",
    "\n",
    "Однако пропуски в данных ставят под сомнение этот результат. В Москве их так много, что рейтинг топ-10 мог бы выглядеть иначе, если бы не утерянные  данные о жанрах."
   ]
  },
  {
   "cell_type": "markdown",
   "metadata": {
    "id": "JolODAqr_Zcu"
   },
   "source": [
    "### Жанровые предпочтения в Москве и Петербурге\n",
    "\n",
    "Гипотеза: Петербург — столица рэпа, музыку этого жанра там слушают чаще, чем в Москве.  А Москва — город контрастов, в котором, тем не менее, преобладает поп-музыка."
   ]
  },
  {
   "cell_type": "markdown",
   "metadata": {
    "id": "DlegSvaT_Zcu"
   },
   "source": [
    "Сгруппируйте таблицу `moscow_general` по жанру и посчитайте прослушивания треков каждого жанра методом `count()`. Затем отсортируйте результат в порядке убывания и сохраните его в таблице `moscow_genres`."
   ]
  },
  {
   "cell_type": "code",
   "execution_count": 35,
   "metadata": {
    "id": "r19lIPke_Zcu"
   },
   "outputs": [],
   "source": [
    "# одной строкой: группировка таблицы moscow_general по столбцу 'genre', \n",
    "# подсчёт числа значений 'genre' в этой группировке методом count(), \n",
    "# сортировка получившегося Series в порядке убывания и сохранение в moscow_genres\n",
    "moscow_genres = moscow_general.groupby('genre')['genre'].count().sort_values(ascending = False)"
   ]
  },
  {
   "cell_type": "markdown",
   "metadata": {
    "id": "6kMuomxTiIr8"
   },
   "source": [
    "Выведите на экран первые десять строк `moscow_genres`:"
   ]
  },
  {
   "cell_type": "code",
   "execution_count": 36,
   "metadata": {
    "id": "WhCSooF8_Zcv"
   },
   "outputs": [
    {
     "data": {
      "text/plain": [
       "genre\n",
       "pop            5892\n",
       "dance          4435\n",
       "rock           3965\n",
       "electronic     3786\n",
       "hiphop         2096\n",
       "classical      1616\n",
       "world          1432\n",
       "alternative    1379\n",
       "ruspop         1372\n",
       "rusrap         1161\n",
       "Name: genre, dtype: int64"
      ]
     },
     "execution_count": 36,
     "metadata": {},
     "output_type": "execute_result"
    }
   ],
   "source": [
    "# просмотр первых 10 строк moscow_genres\n",
    "moscow_genres.head(10)"
   ]
  },
  {
   "cell_type": "markdown",
   "metadata": {
    "id": "cnPG2vnN_Zcv"
   },
   "source": [
    "Теперь повторите то же и для Петербурга.\n",
    "\n",
    "Сгруппируйте таблицу `spb_general` по жанру. Посчитайте прослушивания треков каждого жанра. Результат отсортируйте в порядке убывания и сохраните в таблице `spb_genres`:\n"
   ]
  },
  {
   "cell_type": "code",
   "execution_count": 37,
   "metadata": {
    "id": "gluLIpE7_Zcv"
   },
   "outputs": [],
   "source": [
    "# одной строкой: группировка таблицы spb_general по столбцу 'genre', \n",
    "# подсчёт числа значений 'genre' в этой группировке методом count(), \n",
    "# сортировка получившегося Series в порядке убывания и сохранение в spb_genres\n",
    "spb_genres = spb_general.groupby('genre')['genre'].count().sort_values(ascending = False)"
   ]
  },
  {
   "cell_type": "markdown",
   "metadata": {
    "id": "5Doha_ODgyQ8"
   },
   "source": [
    "Выведите на экран первые десять строк `spb_genres`:"
   ]
  },
  {
   "cell_type": "code",
   "execution_count": 38,
   "metadata": {
    "id": "uaGJHjVU_Zcv"
   },
   "outputs": [
    {
     "data": {
      "text/plain": [
       "genre\n",
       "pop            2431\n",
       "dance          1932\n",
       "rock           1879\n",
       "electronic     1736\n",
       "hiphop          960\n",
       "alternative     649\n",
       "classical       646\n",
       "rusrap          564\n",
       "ruspop          538\n",
       "world           515\n",
       "Name: genre, dtype: int64"
      ]
     },
     "execution_count": 38,
     "metadata": {},
     "output_type": "execute_result"
    }
   ],
   "source": [
    "# просмотр первых 10 строк spb_genres\n",
    "spb_genres.head(10)"
   ]
  },
  {
   "cell_type": "markdown",
   "metadata": {
    "id": "RY51YJYu_Zcv"
   },
   "source": [
    "**Выводы**"
   ]
  },
  {
   "cell_type": "markdown",
   "metadata": {
    "id": "nVhnJEm__Zcv"
   },
   "source": [
    "Гипотеза частично подтвердилась:\n",
    "* Поп-музыка — самый популярный жанр в Москве, как и предполагала гипотеза. Более того, в топ-10 жанров встречается близкий жанр — русская популярная музыка.\n",
    "* Вопреки ожиданиям, рэп одинаково популярен в Москве и Петербурге. \n"
   ]
  },
  {
   "cell_type": "markdown",
   "metadata": {
    "id": "ykKQ0N65_Zcv"
   },
   "source": [
    "## Итоги исследования"
   ]
  },
  {
   "cell_type": "markdown",
   "metadata": {
    "id": "tjUwbHb3_Zcv"
   },
   "source": [
    "Вы проверили три гипотезы и установили:\n",
    "\n",
    "1. День недели по-разному влияет на активность пользователей в Москве и Петербурге. \n",
    "\n",
    "Первая гипотеза полностью подтвердилась.\n",
    "\n",
    "2. Музыкальные предпочтения не сильно меняются в течение недели — будь то Москва или Петербург. Небольшие различия заметны в начале недели, по понедельникам:\n",
    "* в Москве слушают музыку жанра “world”,\n",
    "* в Петербурге — джаз и классику.\n",
    "\n",
    "Таким образом, вторая гипотеза подтвердилась лишь отчасти. Этот результат мог оказаться иным, если бы не пропуски в данных.\n",
    "\n",
    "3. Во вкусах пользователей Москвы и Петербурга больше общего чем различий. Вопреки ожиданиям, предпочтения жанров в Петербурге напоминают московские.\n",
    "\n",
    "Третья гипотеза не подтвердилась. Если различия в предпочтениях и существуют, на основной массе пользователей они незаметны.\n",
    "\n",
    "**На практике исследования содержат проверки статистических гипотез.**\n",
    "Из данных одного сервиса не всегда можно сделать вывод о всех жителях города.\n",
    "Проверки статистических гипотез покажут, насколько они достоверны, исходя из имеющихся данных. \n",
    "С методами проверок гипотез вы ещё познакомитесь в следующих темах."
   ]
  }
 ],
 "metadata": {
  "ExecuteTimeLog": [
   {
    "duration": 419,
    "start_time": "2021-10-31T19:24:56.576Z"
   },
   {
    "duration": 113,
    "start_time": "2021-10-31T19:25:10.649Z"
   },
   {
    "duration": 323,
    "start_time": "2021-10-31T19:25:14.234Z"
   },
   {
    "duration": 334,
    "start_time": "2021-10-31T19:25:17.685Z"
   },
   {
    "duration": 367,
    "start_time": "2021-10-31T19:25:20.941Z"
   },
   {
    "duration": 345,
    "start_time": "2021-10-31T19:25:31.615Z"
   },
   {
    "duration": 651,
    "start_time": "2021-10-31T19:25:37.575Z"
   },
   {
    "duration": 3155,
    "start_time": "2021-10-31T19:25:39.849Z"
   },
   {
    "duration": 337,
    "start_time": "2021-10-31T19:25:43.201Z"
   },
   {
    "duration": 2,
    "start_time": "2021-10-31T19:26:03.371Z"
   },
   {
    "duration": 3074,
    "start_time": "2021-10-31T19:26:43.099Z"
   },
   {
    "duration": 145,
    "start_time": "2021-10-31T19:26:52.130Z"
   },
   {
    "duration": 152,
    "start_time": "2021-10-31T19:26:54.659Z"
   },
   {
    "duration": 32,
    "start_time": "2021-10-31T19:26:55.885Z"
   },
   {
    "duration": 26,
    "start_time": "2021-10-31T19:27:01.889Z"
   },
   {
    "duration": 14,
    "start_time": "2021-10-31T19:27:43.503Z"
   },
   {
    "duration": 11,
    "start_time": "2021-10-31T19:36:10.801Z"
   },
   {
    "duration": 4,
    "start_time": "2021-10-31T19:37:44.746Z"
   },
   {
    "duration": 468,
    "start_time": "2021-11-01T11:31:05.121Z"
   },
   {
    "duration": 391,
    "start_time": "2021-11-01T11:31:11.736Z"
   },
   {
    "duration": 363,
    "start_time": "2021-11-01T11:31:20.019Z"
   },
   {
    "duration": 373,
    "start_time": "2021-11-01T11:31:27.687Z"
   },
   {
    "duration": 790,
    "start_time": "2021-11-01T11:31:34.208Z"
   },
   {
    "duration": 3,
    "start_time": "2021-11-01T11:31:38.961Z"
   },
   {
    "duration": 195,
    "start_time": "2021-11-01T11:31:40.419Z"
   },
   {
    "duration": 26,
    "start_time": "2021-11-01T11:31:42.811Z"
   },
   {
    "duration": 33,
    "start_time": "2021-11-01T11:31:59.789Z"
   },
   {
    "duration": 6,
    "start_time": "2021-11-01T11:32:31.656Z"
   },
   {
    "duration": 5,
    "start_time": "2021-11-01T11:35:07.592Z"
   },
   {
    "duration": 6,
    "start_time": "2021-11-01T11:42:27.232Z"
   },
   {
    "duration": 28,
    "start_time": "2021-11-01T11:42:32.135Z"
   },
   {
    "duration": 32,
    "start_time": "2021-11-01T11:42:33.241Z"
   },
   {
    "duration": 22,
    "start_time": "2021-11-01T11:42:33.765Z"
   },
   {
    "duration": 5,
    "start_time": "2021-11-01T11:42:36.212Z"
   },
   {
    "duration": 33,
    "start_time": "2021-11-01T11:50:34.777Z"
   },
   {
    "duration": 33,
    "start_time": "2021-11-01T11:50:57.557Z"
   },
   {
    "duration": 42,
    "start_time": "2021-11-01T11:51:25.190Z"
   },
   {
    "duration": 34,
    "start_time": "2021-11-01T11:52:01.502Z"
   },
   {
    "duration": 443,
    "start_time": "2021-11-01T11:52:56.140Z"
   },
   {
    "duration": 381,
    "start_time": "2021-11-01T11:55:35.102Z"
   },
   {
    "duration": 395,
    "start_time": "2021-11-01T11:55:40.654Z"
   },
   {
    "duration": 33,
    "start_time": "2021-11-01T11:55:56.516Z"
   },
   {
    "duration": 35,
    "start_time": "2021-11-01T11:56:03.840Z"
   },
   {
    "duration": 30,
    "start_time": "2021-11-01T12:05:24.464Z"
   },
   {
    "duration": 3,
    "start_time": "2021-11-01T12:06:18.975Z"
   },
   {
    "duration": 24,
    "start_time": "2021-11-01T12:08:38.403Z"
   },
   {
    "duration": 32,
    "start_time": "2021-11-01T12:08:47.917Z"
   },
   {
    "duration": 88,
    "start_time": "2021-11-01T12:11:43.611Z"
   },
   {
    "duration": 3,
    "start_time": "2021-11-01T12:11:57.061Z"
   },
   {
    "duration": 89,
    "start_time": "2021-11-01T12:12:42.668Z"
   },
   {
    "duration": 21,
    "start_time": "2021-11-01T12:12:52.107Z"
   },
   {
    "duration": 21,
    "start_time": "2021-11-01T12:13:10.127Z"
   },
   {
    "duration": 97,
    "start_time": "2021-11-01T12:13:19.140Z"
   },
   {
    "duration": 82,
    "start_time": "2021-11-01T12:13:25.322Z"
   },
   {
    "duration": 21,
    "start_time": "2021-11-01T12:13:36.938Z"
   },
   {
    "duration": 95,
    "start_time": "2021-11-01T12:14:41.490Z"
   },
   {
    "duration": 92,
    "start_time": "2021-11-01T12:14:43.291Z"
   },
   {
    "duration": 80,
    "start_time": "2021-11-01T12:14:57.789Z"
   },
   {
    "duration": 10,
    "start_time": "2021-11-01T12:15:21.335Z"
   },
   {
    "duration": 58,
    "start_time": "2021-11-01T12:28:53.587Z"
   },
   {
    "duration": 46,
    "start_time": "2021-11-01T12:28:58.202Z"
   },
   {
    "duration": 58,
    "start_time": "2021-11-01T12:29:15.383Z"
   },
   {
    "duration": 29,
    "start_time": "2021-11-01T12:29:22.878Z"
   },
   {
    "duration": 60,
    "start_time": "2021-11-01T12:29:32.832Z"
   },
   {
    "duration": 43,
    "start_time": "2021-11-01T12:29:44.785Z"
   },
   {
    "duration": 32,
    "start_time": "2021-11-01T12:30:30.878Z"
   },
   {
    "duration": 30,
    "start_time": "2021-11-01T12:30:32.889Z"
   },
   {
    "duration": 29,
    "start_time": "2021-11-01T12:31:05.503Z"
   },
   {
    "duration": 32,
    "start_time": "2021-11-01T12:31:07.255Z"
   },
   {
    "duration": 31,
    "start_time": "2021-11-01T12:31:07.894Z"
   },
   {
    "duration": 45,
    "start_time": "2021-11-01T12:31:08.039Z"
   },
   {
    "duration": 46,
    "start_time": "2021-11-01T12:31:08.181Z"
   },
   {
    "duration": 45,
    "start_time": "2021-11-01T12:31:08.282Z"
   },
   {
    "duration": 31,
    "start_time": "2021-11-01T12:31:08.415Z"
   },
   {
    "duration": 3,
    "start_time": "2021-11-01T12:32:40.584Z"
   },
   {
    "duration": 320,
    "start_time": "2021-11-01T12:32:40.590Z"
   },
   {
    "duration": 16,
    "start_time": "2021-11-01T12:32:40.913Z"
   },
   {
    "duration": 38,
    "start_time": "2021-11-01T12:32:40.932Z"
   },
   {
    "duration": 29,
    "start_time": "2021-11-01T12:32:40.972Z"
   },
   {
    "duration": 31,
    "start_time": "2021-11-01T12:32:41.003Z"
   },
   {
    "duration": 5,
    "start_time": "2021-11-01T12:32:41.037Z"
   },
   {
    "duration": 38,
    "start_time": "2021-11-01T12:32:41.044Z"
   },
   {
    "duration": 33,
    "start_time": "2021-11-01T12:32:41.103Z"
   },
   {
    "duration": 22,
    "start_time": "2021-11-01T12:32:41.139Z"
   },
   {
    "duration": 49,
    "start_time": "2021-11-01T12:32:41.164Z"
   },
   {
    "duration": 106,
    "start_time": "2021-11-01T12:32:41.216Z"
   },
   {
    "duration": 106,
    "start_time": "2021-11-01T12:32:41.324Z"
   },
   {
    "duration": 86,
    "start_time": "2021-11-01T12:32:41.432Z"
   },
   {
    "duration": 10,
    "start_time": "2021-11-01T12:32:41.521Z"
   },
   {
    "duration": 3,
    "start_time": "2021-11-01T12:32:41.533Z"
   },
   {
    "duration": 7,
    "start_time": "2021-11-01T12:32:41.539Z"
   },
   {
    "duration": 11,
    "start_time": "2021-11-01T12:32:41.548Z"
   },
   {
    "duration": 40,
    "start_time": "2021-11-01T12:32:41.562Z"
   },
   {
    "duration": 8,
    "start_time": "2021-11-01T12:32:41.604Z"
   },
   {
    "duration": 6,
    "start_time": "2021-11-01T12:32:41.614Z"
   },
   {
    "duration": 9,
    "start_time": "2021-11-01T12:32:41.623Z"
   },
   {
    "duration": 7,
    "start_time": "2021-11-01T12:32:41.635Z"
   },
   {
    "duration": 12,
    "start_time": "2021-11-01T12:32:41.644Z"
   },
   {
    "duration": 9,
    "start_time": "2021-11-01T12:32:41.659Z"
   },
   {
    "duration": 9,
    "start_time": "2021-11-01T12:32:41.670Z"
   },
   {
    "duration": 3,
    "start_time": "2021-11-01T12:32:41.703Z"
   },
   {
    "duration": 10,
    "start_time": "2021-11-01T12:32:41.708Z"
   },
   {
    "duration": 14,
    "start_time": "2021-11-01T12:32:41.720Z"
   },
   {
    "duration": 13,
    "start_time": "2021-11-01T12:32:41.737Z"
   },
   {
    "duration": 14,
    "start_time": "2021-11-01T12:32:41.753Z"
   },
   {
    "duration": 18,
    "start_time": "2021-11-01T12:32:41.769Z"
   },
   {
    "duration": 20,
    "start_time": "2021-11-01T12:32:41.789Z"
   },
   {
    "duration": 26,
    "start_time": "2021-11-01T12:32:41.811Z"
   },
   {
    "duration": 10,
    "start_time": "2021-11-01T12:32:41.842Z"
   },
   {
    "duration": 13,
    "start_time": "2021-11-01T12:32:41.855Z"
   },
   {
    "duration": 23,
    "start_time": "2021-11-01T12:32:41.871Z"
   },
   {
    "duration": 19,
    "start_time": "2021-11-01T12:32:41.897Z"
   },
   {
    "duration": 17,
    "start_time": "2021-11-01T12:32:41.918Z"
   },
   {
    "duration": 36,
    "start_time": "2021-11-01T12:33:59.618Z"
   },
   {
    "duration": 32,
    "start_time": "2021-11-01T12:34:03.469Z"
   },
   {
    "duration": 4,
    "start_time": "2021-11-01T12:34:09.583Z"
   },
   {
    "duration": 221,
    "start_time": "2021-11-01T12:34:09.591Z"
   },
   {
    "duration": 15,
    "start_time": "2021-11-01T12:34:09.815Z"
   },
   {
    "duration": 37,
    "start_time": "2021-11-01T12:34:09.833Z"
   },
   {
    "duration": 29,
    "start_time": "2021-11-01T12:34:09.873Z"
   },
   {
    "duration": 30,
    "start_time": "2021-11-01T12:34:09.905Z"
   },
   {
    "duration": 7,
    "start_time": "2021-11-01T12:34:09.937Z"
   },
   {
    "duration": 59,
    "start_time": "2021-11-01T12:34:09.947Z"
   },
   {
    "duration": 32,
    "start_time": "2021-11-01T12:34:10.010Z"
   },
   {
    "duration": 22,
    "start_time": "2021-11-01T12:34:10.047Z"
   },
   {
    "duration": 54,
    "start_time": "2021-11-01T12:34:10.072Z"
   },
   {
    "duration": 105,
    "start_time": "2021-11-01T12:34:10.128Z"
   },
   {
    "duration": 105,
    "start_time": "2021-11-01T12:34:10.235Z"
   },
   {
    "duration": 87,
    "start_time": "2021-11-01T12:34:10.342Z"
   },
   {
    "duration": 10,
    "start_time": "2021-11-01T12:34:10.431Z"
   },
   {
    "duration": 3,
    "start_time": "2021-11-01T12:34:10.444Z"
   },
   {
    "duration": 6,
    "start_time": "2021-11-01T12:34:10.449Z"
   },
   {
    "duration": 6,
    "start_time": "2021-11-01T12:34:10.457Z"
   },
   {
    "duration": 34,
    "start_time": "2021-11-01T12:34:10.466Z"
   },
   {
    "duration": 4,
    "start_time": "2021-11-01T12:34:10.502Z"
   },
   {
    "duration": 9,
    "start_time": "2021-11-01T12:34:10.508Z"
   },
   {
    "duration": 9,
    "start_time": "2021-11-01T12:34:10.519Z"
   },
   {
    "duration": 8,
    "start_time": "2021-11-01T12:34:10.530Z"
   },
   {
    "duration": 8,
    "start_time": "2021-11-01T12:34:10.540Z"
   },
   {
    "duration": 8,
    "start_time": "2021-11-01T12:34:10.551Z"
   },
   {
    "duration": 6,
    "start_time": "2021-11-01T12:34:10.562Z"
   },
   {
    "duration": 29,
    "start_time": "2021-11-01T12:34:10.573Z"
   },
   {
    "duration": 5,
    "start_time": "2021-11-01T12:34:10.605Z"
   },
   {
    "duration": 8,
    "start_time": "2021-11-01T12:34:10.613Z"
   },
   {
    "duration": 10,
    "start_time": "2021-11-01T12:34:10.623Z"
   },
   {
    "duration": 7,
    "start_time": "2021-11-01T12:34:10.635Z"
   },
   {
    "duration": 11,
    "start_time": "2021-11-01T12:34:10.644Z"
   },
   {
    "duration": 11,
    "start_time": "2021-11-01T12:34:10.657Z"
   },
   {
    "duration": 29,
    "start_time": "2021-11-01T12:34:10.671Z"
   },
   {
    "duration": 6,
    "start_time": "2021-11-01T12:34:10.703Z"
   },
   {
    "duration": 7,
    "start_time": "2021-11-01T12:34:10.712Z"
   },
   {
    "duration": 9,
    "start_time": "2021-11-01T12:34:10.722Z"
   },
   {
    "duration": 9,
    "start_time": "2021-11-01T12:34:10.734Z"
   },
   {
    "duration": 9,
    "start_time": "2021-11-01T12:34:10.746Z"
   },
   {
    "duration": 382,
    "start_time": "2021-11-01T13:08:06.587Z"
   },
   {
    "duration": 4,
    "start_time": "2021-11-01T13:08:15.748Z"
   },
   {
    "duration": 192,
    "start_time": "2021-11-01T13:08:15.755Z"
   },
   {
    "duration": 16,
    "start_time": "2021-11-01T13:08:15.950Z"
   },
   {
    "duration": 52,
    "start_time": "2021-11-01T13:08:15.969Z"
   },
   {
    "duration": 5,
    "start_time": "2021-11-01T13:08:16.024Z"
   },
   {
    "duration": 19,
    "start_time": "2021-11-01T13:08:16.031Z"
   },
   {
    "duration": 6,
    "start_time": "2021-11-01T13:08:16.053Z"
   },
   {
    "duration": 65,
    "start_time": "2021-11-01T13:08:16.066Z"
   },
   {
    "duration": 25,
    "start_time": "2021-11-01T13:08:16.135Z"
   },
   {
    "duration": 55,
    "start_time": "2021-11-01T13:08:16.162Z"
   },
   {
    "duration": 98,
    "start_time": "2021-11-01T13:08:16.219Z"
   },
   {
    "duration": 102,
    "start_time": "2021-11-01T13:08:16.320Z"
   },
   {
    "duration": 100,
    "start_time": "2021-11-01T13:08:16.425Z"
   },
   {
    "duration": 364,
    "start_time": "2021-11-01T13:08:16.527Z"
   },
   {
    "duration": 669,
    "start_time": "2021-11-01T13:08:16.225Z"
   },
   {
    "duration": 669,
    "start_time": "2021-11-01T13:08:16.227Z"
   },
   {
    "duration": 668,
    "start_time": "2021-11-01T13:08:16.229Z"
   },
   {
    "duration": 667,
    "start_time": "2021-11-01T13:08:16.231Z"
   },
   {
    "duration": 667,
    "start_time": "2021-11-01T13:08:16.233Z"
   },
   {
    "duration": 667,
    "start_time": "2021-11-01T13:08:16.235Z"
   },
   {
    "duration": 667,
    "start_time": "2021-11-01T13:08:16.236Z"
   },
   {
    "duration": 663,
    "start_time": "2021-11-01T13:08:16.242Z"
   },
   {
    "duration": 662,
    "start_time": "2021-11-01T13:08:16.244Z"
   },
   {
    "duration": 662,
    "start_time": "2021-11-01T13:08:16.246Z"
   },
   {
    "duration": 661,
    "start_time": "2021-11-01T13:08:16.248Z"
   },
   {
    "duration": 662,
    "start_time": "2021-11-01T13:08:16.249Z"
   },
   {
    "duration": 661,
    "start_time": "2021-11-01T13:08:16.251Z"
   },
   {
    "duration": 661,
    "start_time": "2021-11-01T13:08:16.253Z"
   },
   {
    "duration": 656,
    "start_time": "2021-11-01T13:08:16.259Z"
   },
   {
    "duration": 655,
    "start_time": "2021-11-01T13:08:16.261Z"
   },
   {
    "duration": 655,
    "start_time": "2021-11-01T13:08:16.263Z"
   },
   {
    "duration": 654,
    "start_time": "2021-11-01T13:08:16.265Z"
   },
   {
    "duration": 654,
    "start_time": "2021-11-01T13:08:16.267Z"
   },
   {
    "duration": 653,
    "start_time": "2021-11-01T13:08:16.269Z"
   },
   {
    "duration": 649,
    "start_time": "2021-11-01T13:08:16.275Z"
   },
   {
    "duration": 648,
    "start_time": "2021-11-01T13:08:16.277Z"
   },
   {
    "duration": 648,
    "start_time": "2021-11-01T13:08:16.279Z"
   },
   {
    "duration": 647,
    "start_time": "2021-11-01T13:08:16.281Z"
   },
   {
    "duration": 61,
    "start_time": "2021-11-01T13:08:47.574Z"
   },
   {
    "duration": 412,
    "start_time": "2021-11-01T13:09:18.966Z"
   },
   {
    "duration": 58,
    "start_time": "2021-11-01T13:09:34.969Z"
   },
   {
    "duration": 56,
    "start_time": "2021-11-01T13:09:46.106Z"
   },
   {
    "duration": 3,
    "start_time": "2021-11-01T13:27:46.779Z"
   },
   {
    "duration": 223,
    "start_time": "2021-11-01T13:27:46.785Z"
   },
   {
    "duration": 16,
    "start_time": "2021-11-01T13:27:47.011Z"
   },
   {
    "duration": 35,
    "start_time": "2021-11-01T13:27:47.029Z"
   },
   {
    "duration": 33,
    "start_time": "2021-11-01T13:27:47.067Z"
   },
   {
    "duration": 15,
    "start_time": "2021-11-01T13:27:47.103Z"
   },
   {
    "duration": 7,
    "start_time": "2021-11-01T13:27:47.120Z"
   },
   {
    "duration": 33,
    "start_time": "2021-11-01T13:27:47.131Z"
   },
   {
    "duration": 51,
    "start_time": "2021-11-01T13:27:47.168Z"
   },
   {
    "duration": 30,
    "start_time": "2021-11-01T13:27:47.221Z"
   },
   {
    "duration": 158,
    "start_time": "2021-11-01T13:27:47.254Z"
   },
   {
    "duration": 108,
    "start_time": "2021-11-01T13:27:47.414Z"
   },
   {
    "duration": 89,
    "start_time": "2021-11-01T13:27:47.525Z"
   },
   {
    "duration": 63,
    "start_time": "2021-11-01T13:27:47.616Z"
   },
   {
    "duration": 6,
    "start_time": "2021-11-01T13:27:47.701Z"
   },
   {
    "duration": 18,
    "start_time": "2021-11-01T13:27:47.710Z"
   },
   {
    "duration": 83,
    "start_time": "2021-11-01T13:27:47.730Z"
   },
   {
    "duration": 4,
    "start_time": "2021-11-01T13:27:47.815Z"
   },
   {
    "duration": 18,
    "start_time": "2021-11-01T13:27:47.822Z"
   },
   {
    "duration": 8,
    "start_time": "2021-11-01T13:27:47.843Z"
   },
   {
    "duration": 8,
    "start_time": "2021-11-01T13:27:47.854Z"
   },
   {
    "duration": 5,
    "start_time": "2021-11-01T13:27:47.865Z"
   },
   {
    "duration": 3,
    "start_time": "2021-11-01T13:27:47.905Z"
   },
   {
    "duration": 5,
    "start_time": "2021-11-01T13:27:47.911Z"
   },
   {
    "duration": 6,
    "start_time": "2021-11-01T13:27:47.919Z"
   },
   {
    "duration": 10,
    "start_time": "2021-11-01T13:27:47.927Z"
   },
   {
    "duration": 9,
    "start_time": "2021-11-01T13:27:47.939Z"
   },
   {
    "duration": 7,
    "start_time": "2021-11-01T13:27:47.951Z"
   },
   {
    "duration": 40,
    "start_time": "2021-11-01T13:27:47.960Z"
   },
   {
    "duration": 4,
    "start_time": "2021-11-01T13:27:48.004Z"
   },
   {
    "duration": 14,
    "start_time": "2021-11-01T13:27:48.010Z"
   },
   {
    "duration": 10,
    "start_time": "2021-11-01T13:27:48.026Z"
   },
   {
    "duration": 12,
    "start_time": "2021-11-01T13:27:48.038Z"
   },
   {
    "duration": 8,
    "start_time": "2021-11-01T13:27:48.052Z"
   },
   {
    "duration": 7,
    "start_time": "2021-11-01T13:27:48.062Z"
   },
   {
    "duration": 11,
    "start_time": "2021-11-01T13:27:48.071Z"
   },
   {
    "duration": 16,
    "start_time": "2021-11-01T13:27:48.084Z"
   },
   {
    "duration": 9,
    "start_time": "2021-11-01T13:27:48.103Z"
   },
   {
    "duration": 62,
    "start_time": "2021-11-01T13:28:26.333Z"
   },
   {
    "duration": 11,
    "start_time": "2021-11-01T13:28:42.030Z"
   },
   {
    "duration": 61,
    "start_time": "2021-11-01T13:28:43.324Z"
   },
   {
    "duration": 3,
    "start_time": "2021-11-01T13:31:01.167Z"
   },
   {
    "duration": 221,
    "start_time": "2021-11-01T13:31:01.173Z"
   },
   {
    "duration": 22,
    "start_time": "2021-11-01T13:31:01.397Z"
   },
   {
    "duration": 53,
    "start_time": "2021-11-01T13:31:01.422Z"
   },
   {
    "duration": 35,
    "start_time": "2021-11-01T13:31:01.478Z"
   },
   {
    "duration": 64,
    "start_time": "2021-11-01T13:31:01.515Z"
   },
   {
    "duration": 62,
    "start_time": "2021-11-01T13:31:01.582Z"
   },
   {
    "duration": 49,
    "start_time": "2021-11-01T13:31:01.648Z"
   },
   {
    "duration": 53,
    "start_time": "2021-11-01T13:31:01.700Z"
   },
   {
    "duration": 54,
    "start_time": "2021-11-01T13:31:01.756Z"
   },
   {
    "duration": 100,
    "start_time": "2021-11-01T13:31:01.813Z"
   },
   {
    "duration": 108,
    "start_time": "2021-11-01T13:31:01.916Z"
   },
   {
    "duration": 90,
    "start_time": "2021-11-01T13:31:02.026Z"
   },
   {
    "duration": 58,
    "start_time": "2021-11-01T13:31:02.118Z"
   },
   {
    "duration": 25,
    "start_time": "2021-11-01T13:31:02.178Z"
   },
   {
    "duration": 39,
    "start_time": "2021-11-01T13:31:02.205Z"
   },
   {
    "duration": 94,
    "start_time": "2021-11-01T13:31:02.246Z"
   },
   {
    "duration": 7,
    "start_time": "2021-11-01T13:31:02.343Z"
   },
   {
    "duration": 27,
    "start_time": "2021-11-01T13:31:02.352Z"
   },
   {
    "duration": 20,
    "start_time": "2021-11-01T13:31:02.381Z"
   },
   {
    "duration": 31,
    "start_time": "2021-11-01T13:31:02.404Z"
   },
   {
    "duration": 26,
    "start_time": "2021-11-01T13:31:02.437Z"
   },
   {
    "duration": 13,
    "start_time": "2021-11-01T13:31:02.468Z"
   },
   {
    "duration": 26,
    "start_time": "2021-11-01T13:31:02.485Z"
   },
   {
    "duration": 30,
    "start_time": "2021-11-01T13:31:02.514Z"
   },
   {
    "duration": 33,
    "start_time": "2021-11-01T13:31:02.547Z"
   },
   {
    "duration": 20,
    "start_time": "2021-11-01T13:31:02.583Z"
   },
   {
    "duration": 30,
    "start_time": "2021-11-01T13:31:02.605Z"
   },
   {
    "duration": 48,
    "start_time": "2021-11-01T13:31:02.637Z"
   },
   {
    "duration": 33,
    "start_time": "2021-11-01T13:31:02.688Z"
   },
   {
    "duration": 28,
    "start_time": "2021-11-01T13:31:02.724Z"
   },
   {
    "duration": 40,
    "start_time": "2021-11-01T13:31:02.755Z"
   },
   {
    "duration": 54,
    "start_time": "2021-11-01T13:31:02.797Z"
   },
   {
    "duration": 21,
    "start_time": "2021-11-01T13:31:02.854Z"
   },
   {
    "duration": 37,
    "start_time": "2021-11-01T13:31:02.878Z"
   },
   {
    "duration": 20,
    "start_time": "2021-11-01T13:31:02.918Z"
   },
   {
    "duration": 24,
    "start_time": "2021-11-01T13:31:02.941Z"
   },
   {
    "duration": 30,
    "start_time": "2021-11-01T13:31:02.968Z"
   },
   {
    "duration": 14,
    "start_time": "2021-11-01T13:31:38.619Z"
   },
   {
    "duration": 59,
    "start_time": "2021-11-01T13:31:39.647Z"
   },
   {
    "duration": 8,
    "start_time": "2021-11-01T13:43:50.292Z"
   },
   {
    "duration": 7,
    "start_time": "2021-11-01T13:43:58.719Z"
   },
   {
    "duration": 5,
    "start_time": "2021-11-01T13:44:44.405Z"
   },
   {
    "duration": 47,
    "start_time": "2021-11-01T13:46:56.618Z"
   },
   {
    "duration": 15,
    "start_time": "2021-11-01T13:47:10.518Z"
   },
   {
    "duration": 14,
    "start_time": "2021-11-01T13:47:27.103Z"
   },
   {
    "duration": 43,
    "start_time": "2021-11-01T13:54:49.252Z"
   },
   {
    "duration": 15,
    "start_time": "2021-11-01T13:54:57.171Z"
   },
   {
    "duration": 15,
    "start_time": "2021-11-01T13:55:05.243Z"
   },
   {
    "duration": 393,
    "start_time": "2021-11-01T14:15:10.987Z"
   },
   {
    "duration": 404,
    "start_time": "2021-11-01T14:15:21.025Z"
   },
   {
    "duration": 379,
    "start_time": "2021-11-01T14:15:21.509Z"
   },
   {
    "duration": 436,
    "start_time": "2021-11-01T14:15:39.773Z"
   },
   {
    "duration": 5,
    "start_time": "2021-11-01T14:15:57.536Z"
   },
   {
    "duration": 375,
    "start_time": "2021-11-01T14:15:59.127Z"
   },
   {
    "duration": 4,
    "start_time": "2021-11-01T14:16:04.544Z"
   },
   {
    "duration": 203,
    "start_time": "2021-11-01T14:16:04.550Z"
   },
   {
    "duration": 16,
    "start_time": "2021-11-01T14:16:04.756Z"
   },
   {
    "duration": 52,
    "start_time": "2021-11-01T14:16:04.774Z"
   },
   {
    "duration": 8,
    "start_time": "2021-11-01T14:16:04.829Z"
   },
   {
    "duration": 25,
    "start_time": "2021-11-01T14:16:04.840Z"
   },
   {
    "duration": 5,
    "start_time": "2021-11-01T14:16:04.867Z"
   },
   {
    "duration": 49,
    "start_time": "2021-11-01T14:16:04.876Z"
   },
   {
    "duration": 28,
    "start_time": "2021-11-01T14:16:04.928Z"
   },
   {
    "duration": 46,
    "start_time": "2021-11-01T14:16:04.959Z"
   },
   {
    "duration": 103,
    "start_time": "2021-11-01T14:16:05.008Z"
   },
   {
    "duration": 110,
    "start_time": "2021-11-01T14:16:05.113Z"
   },
   {
    "duration": 90,
    "start_time": "2021-11-01T14:16:05.225Z"
   },
   {
    "duration": 58,
    "start_time": "2021-11-01T14:16:05.317Z"
   },
   {
    "duration": 25,
    "start_time": "2021-11-01T14:16:05.378Z"
   },
   {
    "duration": 20,
    "start_time": "2021-11-01T14:16:05.405Z"
   },
   {
    "duration": 58,
    "start_time": "2021-11-01T14:16:05.427Z"
   },
   {
    "duration": 38,
    "start_time": "2021-11-01T14:16:05.502Z"
   },
   {
    "duration": 16,
    "start_time": "2021-11-01T14:16:05.543Z"
   },
   {
    "duration": 9,
    "start_time": "2021-11-01T14:16:05.561Z"
   },
   {
    "duration": 456,
    "start_time": "2021-11-01T14:16:05.573Z"
   },
   {
    "duration": 672,
    "start_time": "2021-11-01T14:16:05.362Z"
   },
   {
    "duration": 672,
    "start_time": "2021-11-01T14:16:05.364Z"
   },
   {
    "duration": 673,
    "start_time": "2021-11-01T14:16:05.365Z"
   },
   {
    "duration": 668,
    "start_time": "2021-11-01T14:16:05.372Z"
   },
   {
    "duration": 668,
    "start_time": "2021-11-01T14:16:05.373Z"
   },
   {
    "duration": 668,
    "start_time": "2021-11-01T14:16:05.375Z"
   },
   {
    "duration": 666,
    "start_time": "2021-11-01T14:16:05.379Z"
   },
   {
    "duration": 664,
    "start_time": "2021-11-01T14:16:05.382Z"
   },
   {
    "duration": 664,
    "start_time": "2021-11-01T14:16:05.384Z"
   },
   {
    "duration": 663,
    "start_time": "2021-11-01T14:16:05.386Z"
   },
   {
    "duration": 658,
    "start_time": "2021-11-01T14:16:05.392Z"
   },
   {
    "duration": 659,
    "start_time": "2021-11-01T14:16:05.393Z"
   },
   {
    "duration": 658,
    "start_time": "2021-11-01T14:16:05.395Z"
   },
   {
    "duration": 658,
    "start_time": "2021-11-01T14:16:05.397Z"
   },
   {
    "duration": 658,
    "start_time": "2021-11-01T14:16:05.398Z"
   },
   {
    "duration": 657,
    "start_time": "2021-11-01T14:16:05.400Z"
   },
   {
    "duration": 656,
    "start_time": "2021-11-01T14:16:05.402Z"
   },
   {
    "duration": 3,
    "start_time": "2021-11-01T14:16:19.771Z"
   },
   {
    "duration": 203,
    "start_time": "2021-11-01T14:16:19.777Z"
   },
   {
    "duration": 21,
    "start_time": "2021-11-01T14:16:19.984Z"
   },
   {
    "duration": 43,
    "start_time": "2021-11-01T14:16:20.008Z"
   },
   {
    "duration": 11,
    "start_time": "2021-11-01T14:16:20.053Z"
   },
   {
    "duration": 41,
    "start_time": "2021-11-01T14:16:20.067Z"
   },
   {
    "duration": 6,
    "start_time": "2021-11-01T14:16:20.110Z"
   },
   {
    "duration": 35,
    "start_time": "2021-11-01T14:16:20.118Z"
   },
   {
    "duration": 48,
    "start_time": "2021-11-01T14:16:20.157Z"
   },
   {
    "duration": 32,
    "start_time": "2021-11-01T14:16:20.208Z"
   },
   {
    "duration": 109,
    "start_time": "2021-11-01T14:16:20.242Z"
   },
   {
    "duration": 112,
    "start_time": "2021-11-01T14:16:20.353Z"
   },
   {
    "duration": 91,
    "start_time": "2021-11-01T14:16:20.468Z"
   },
   {
    "duration": 69,
    "start_time": "2021-11-01T14:16:20.562Z"
   },
   {
    "duration": 4,
    "start_time": "2021-11-01T14:16:20.633Z"
   },
   {
    "duration": 20,
    "start_time": "2021-11-01T14:16:20.640Z"
   },
   {
    "duration": 78,
    "start_time": "2021-11-01T14:16:20.662Z"
   },
   {
    "duration": 15,
    "start_time": "2021-11-01T14:16:20.743Z"
   },
   {
    "duration": 22,
    "start_time": "2021-11-01T14:16:20.761Z"
   },
   {
    "duration": 17,
    "start_time": "2021-11-01T14:16:20.785Z"
   },
   {
    "duration": 429,
    "start_time": "2021-11-01T14:16:20.804Z"
   },
   {
    "duration": 677,
    "start_time": "2021-11-01T14:16:20.559Z"
   },
   {
    "duration": 674,
    "start_time": "2021-11-01T14:16:20.563Z"
   },
   {
    "duration": 674,
    "start_time": "2021-11-01T14:16:20.565Z"
   },
   {
    "duration": 673,
    "start_time": "2021-11-01T14:16:20.567Z"
   },
   {
    "duration": 672,
    "start_time": "2021-11-01T14:16:20.569Z"
   },
   {
    "duration": 671,
    "start_time": "2021-11-01T14:16:20.571Z"
   },
   {
    "duration": 666,
    "start_time": "2021-11-01T14:16:20.578Z"
   },
   {
    "duration": 664,
    "start_time": "2021-11-01T14:16:20.581Z"
   },
   {
    "duration": 664,
    "start_time": "2021-11-01T14:16:20.583Z"
   },
   {
    "duration": 663,
    "start_time": "2021-11-01T14:16:20.585Z"
   },
   {
    "duration": 662,
    "start_time": "2021-11-01T14:16:20.587Z"
   },
   {
    "duration": 661,
    "start_time": "2021-11-01T14:16:20.589Z"
   },
   {
    "duration": 661,
    "start_time": "2021-11-01T14:16:20.591Z"
   },
   {
    "duration": 658,
    "start_time": "2021-11-01T14:16:20.595Z"
   },
   {
    "duration": 658,
    "start_time": "2021-11-01T14:16:20.596Z"
   },
   {
    "duration": 652,
    "start_time": "2021-11-01T14:16:20.603Z"
   },
   {
    "duration": 651,
    "start_time": "2021-11-01T14:16:20.606Z"
   },
   {
    "duration": 21,
    "start_time": "2021-11-01T14:16:41.934Z"
   },
   {
    "duration": 21,
    "start_time": "2021-11-01T14:16:49.428Z"
   },
   {
    "duration": 21,
    "start_time": "2021-11-01T14:19:17.419Z"
   },
   {
    "duration": 5,
    "start_time": "2021-11-01T14:19:23.032Z"
   },
   {
    "duration": 22,
    "start_time": "2021-11-01T14:19:23.963Z"
   },
   {
    "duration": 12,
    "start_time": "2021-11-01T14:21:15.487Z"
   },
   {
    "duration": 3,
    "start_time": "2021-11-01T16:03:37.624Z"
   },
   {
    "duration": 207,
    "start_time": "2021-11-01T16:03:37.630Z"
   },
   {
    "duration": 16,
    "start_time": "2021-11-01T16:03:37.840Z"
   },
   {
    "duration": 52,
    "start_time": "2021-11-01T16:03:37.858Z"
   },
   {
    "duration": 6,
    "start_time": "2021-11-01T16:03:37.912Z"
   },
   {
    "duration": 19,
    "start_time": "2021-11-01T16:03:37.920Z"
   },
   {
    "duration": 6,
    "start_time": "2021-11-01T16:03:37.941Z"
   },
   {
    "duration": 63,
    "start_time": "2021-11-01T16:03:37.951Z"
   },
   {
    "duration": 24,
    "start_time": "2021-11-01T16:03:38.018Z"
   },
   {
    "duration": 30,
    "start_time": "2021-11-01T16:03:38.045Z"
   },
   {
    "duration": 101,
    "start_time": "2021-11-01T16:03:38.101Z"
   },
   {
    "duration": 116,
    "start_time": "2021-11-01T16:03:38.205Z"
   },
   {
    "duration": 88,
    "start_time": "2021-11-01T16:03:38.324Z"
   },
   {
    "duration": 60,
    "start_time": "2021-11-01T16:03:38.414Z"
   },
   {
    "duration": 4,
    "start_time": "2021-11-01T16:03:38.477Z"
   },
   {
    "duration": 30,
    "start_time": "2021-11-01T16:03:38.483Z"
   },
   {
    "duration": 76,
    "start_time": "2021-11-01T16:03:38.516Z"
   },
   {
    "duration": 19,
    "start_time": "2021-11-01T16:03:38.594Z"
   },
   {
    "duration": 15,
    "start_time": "2021-11-01T16:03:38.615Z"
   },
   {
    "duration": 11,
    "start_time": "2021-11-01T16:03:38.632Z"
   },
   {
    "duration": 5,
    "start_time": "2021-11-01T16:03:38.645Z"
   },
   {
    "duration": 63,
    "start_time": "2021-11-01T16:03:38.653Z"
   },
   {
    "duration": 3,
    "start_time": "2021-11-01T16:03:38.721Z"
   },
   {
    "duration": 8,
    "start_time": "2021-11-01T16:03:38.727Z"
   },
   {
    "duration": 9,
    "start_time": "2021-11-01T16:03:38.737Z"
   },
   {
    "duration": 9,
    "start_time": "2021-11-01T16:03:38.749Z"
   },
   {
    "duration": 7,
    "start_time": "2021-11-01T16:03:38.760Z"
   },
   {
    "duration": 31,
    "start_time": "2021-11-01T16:03:38.769Z"
   },
   {
    "duration": 5,
    "start_time": "2021-11-01T16:03:38.803Z"
   },
   {
    "duration": 11,
    "start_time": "2021-11-01T16:03:38.810Z"
   },
   {
    "duration": 9,
    "start_time": "2021-11-01T16:03:38.823Z"
   },
   {
    "duration": 11,
    "start_time": "2021-11-01T16:03:38.835Z"
   },
   {
    "duration": 7,
    "start_time": "2021-11-01T16:03:38.848Z"
   },
   {
    "duration": 14,
    "start_time": "2021-11-01T16:03:38.857Z"
   },
   {
    "duration": 7,
    "start_time": "2021-11-01T16:03:38.873Z"
   },
   {
    "duration": 18,
    "start_time": "2021-11-01T16:03:38.882Z"
   },
   {
    "duration": 4,
    "start_time": "2021-11-01T16:03:38.903Z"
   },
   {
    "duration": 8,
    "start_time": "2021-11-01T16:03:38.909Z"
   },
   {
    "duration": 9,
    "start_time": "2021-11-01T16:03:38.920Z"
   },
   {
    "duration": 16,
    "start_time": "2021-11-01T16:04:29.991Z"
   },
   {
    "duration": 22,
    "start_time": "2021-11-01T16:04:34.316Z"
   },
   {
    "duration": 17,
    "start_time": "2021-11-01T16:04:34.975Z"
   },
   {
    "duration": 19,
    "start_time": "2021-11-01T16:04:39.316Z"
   },
   {
    "duration": 29,
    "start_time": "2021-11-01T16:04:59.245Z"
   },
   {
    "duration": 172,
    "start_time": "2021-11-01T16:05:15.740Z"
   },
   {
    "duration": 5,
    "start_time": "2021-11-01T16:05:23.581Z"
   },
   {
    "duration": 3,
    "start_time": "2021-11-01T16:05:32.871Z"
   },
   {
    "duration": 21,
    "start_time": "2021-11-01T16:05:49.844Z"
   },
   {
    "duration": 23,
    "start_time": "2021-11-01T16:05:50.341Z"
   },
   {
    "duration": 18,
    "start_time": "2021-11-01T16:05:50.774Z"
   },
   {
    "duration": 6,
    "start_time": "2021-11-01T16:11:15.949Z"
   },
   {
    "duration": 13,
    "start_time": "2021-11-01T16:11:24.951Z"
   },
   {
    "duration": 13,
    "start_time": "2021-11-01T16:12:48.568Z"
   },
   {
    "duration": 92,
    "start_time": "2021-11-01T16:14:09.674Z"
   },
   {
    "duration": 90,
    "start_time": "2021-11-01T16:17:03.900Z"
   },
   {
    "duration": 89,
    "start_time": "2021-11-01T16:17:08.496Z"
   },
   {
    "duration": 93,
    "start_time": "2021-11-01T16:17:59.993Z"
   },
   {
    "duration": 4,
    "start_time": "2021-11-01T16:23:53.488Z"
   },
   {
    "duration": 21,
    "start_time": "2021-11-01T16:23:55.062Z"
   },
   {
    "duration": 18,
    "start_time": "2021-11-01T16:23:55.507Z"
   },
   {
    "duration": 20,
    "start_time": "2021-11-01T16:23:55.871Z"
   },
   {
    "duration": 18,
    "start_time": "2021-11-01T16:23:56.232Z"
   },
   {
    "duration": 21,
    "start_time": "2021-11-01T16:23:57.024Z"
   },
   {
    "duration": 18,
    "start_time": "2021-11-01T16:23:57.866Z"
   },
   {
    "duration": 89,
    "start_time": "2021-11-01T16:23:59.266Z"
   },
   {
    "duration": 39,
    "start_time": "2021-11-01T16:31:07.810Z"
   },
   {
    "duration": 42,
    "start_time": "2021-11-01T16:31:18.640Z"
   },
   {
    "duration": 26,
    "start_time": "2021-11-01T16:31:26.406Z"
   },
   {
    "duration": 396,
    "start_time": "2021-11-01T16:38:37.920Z"
   },
   {
    "duration": 5,
    "start_time": "2021-11-01T16:38:48.688Z"
   },
   {
    "duration": 35,
    "start_time": "2021-11-01T16:38:50.333Z"
   },
   {
    "duration": 5,
    "start_time": "2021-11-01T16:39:52.487Z"
   },
   {
    "duration": 37,
    "start_time": "2021-11-01T16:39:54.192Z"
   },
   {
    "duration": 5,
    "start_time": "2021-11-01T16:40:30.594Z"
   },
   {
    "duration": 33,
    "start_time": "2021-11-01T16:40:31.891Z"
   },
   {
    "duration": 6,
    "start_time": "2021-11-01T16:42:20.837Z"
   },
   {
    "duration": 24,
    "start_time": "2021-11-01T16:42:22.544Z"
   },
   {
    "duration": 5,
    "start_time": "2021-11-01T16:42:44.830Z"
   },
   {
    "duration": 829,
    "start_time": "2021-11-01T16:42:46.190Z"
   },
   {
    "duration": 6,
    "start_time": "2021-11-01T16:43:00.304Z"
   },
   {
    "duration": 26,
    "start_time": "2021-11-01T16:43:01.603Z"
   },
   {
    "duration": 5,
    "start_time": "2021-11-01T16:43:48.280Z"
   },
   {
    "duration": 26,
    "start_time": "2021-11-01T16:43:49.781Z"
   },
   {
    "duration": 5,
    "start_time": "2021-11-01T16:44:06.469Z"
   },
   {
    "duration": 26,
    "start_time": "2021-11-01T16:44:07.730Z"
   },
   {
    "duration": 5,
    "start_time": "2021-11-01T16:44:34.335Z"
   },
   {
    "duration": 24,
    "start_time": "2021-11-01T16:44:35.899Z"
   },
   {
    "duration": 5,
    "start_time": "2021-11-01T16:45:08.689Z"
   },
   {
    "duration": 25,
    "start_time": "2021-11-01T16:45:10.391Z"
   },
   {
    "duration": 18,
    "start_time": "2021-11-01T16:45:38.797Z"
   },
   {
    "duration": 17,
    "start_time": "2021-11-01T16:49:21.516Z"
   },
   {
    "duration": 24,
    "start_time": "2021-11-01T16:49:52.772Z"
   },
   {
    "duration": 25,
    "start_time": "2021-11-01T16:50:21.132Z"
   },
   {
    "duration": 18,
    "start_time": "2021-11-01T16:50:22.940Z"
   },
   {
    "duration": 19,
    "start_time": "2021-11-01T16:57:54.846Z"
   },
   {
    "duration": 4,
    "start_time": "2021-11-01T16:58:04.369Z"
   },
   {
    "duration": 367,
    "start_time": "2021-11-01T16:59:23.749Z"
   },
   {
    "duration": 11,
    "start_time": "2021-11-01T16:59:30.231Z"
   },
   {
    "duration": 8,
    "start_time": "2021-11-01T16:59:31.042Z"
   },
   {
    "duration": 7,
    "start_time": "2021-11-01T17:00:15.237Z"
   },
   {
    "duration": 12,
    "start_time": "2021-11-01T17:00:31.464Z"
   },
   {
    "duration": 6,
    "start_time": "2021-11-01T17:00:32.313Z"
   },
   {
    "duration": 7,
    "start_time": "2021-11-01T17:00:38.836Z"
   },
   {
    "duration": 382,
    "start_time": "2021-11-01T17:01:34.117Z"
   },
   {
    "duration": 9,
    "start_time": "2021-11-01T17:01:37.966Z"
   },
   {
    "duration": 6,
    "start_time": "2021-11-01T17:01:38.666Z"
   },
   {
    "duration": 8,
    "start_time": "2021-11-01T17:07:56.662Z"
   },
   {
    "duration": 6,
    "start_time": "2021-11-01T17:07:57.501Z"
   },
   {
    "duration": 4,
    "start_time": "2021-11-01T17:26:36.686Z"
   },
   {
    "duration": 288,
    "start_time": "2021-11-01T17:26:36.692Z"
   },
   {
    "duration": 29,
    "start_time": "2021-11-01T17:26:36.984Z"
   },
   {
    "duration": 51,
    "start_time": "2021-11-01T17:26:37.017Z"
   },
   {
    "duration": 6,
    "start_time": "2021-11-01T17:26:37.070Z"
   },
   {
    "duration": 16,
    "start_time": "2021-11-01T17:26:37.102Z"
   },
   {
    "duration": 6,
    "start_time": "2021-11-01T17:26:37.121Z"
   },
   {
    "duration": 74,
    "start_time": "2021-11-01T17:26:37.131Z"
   },
   {
    "duration": 30,
    "start_time": "2021-11-01T17:26:37.208Z"
   },
   {
    "duration": 31,
    "start_time": "2021-11-01T17:26:37.241Z"
   },
   {
    "duration": 87,
    "start_time": "2021-11-01T17:26:37.300Z"
   },
   {
    "duration": 114,
    "start_time": "2021-11-01T17:26:37.389Z"
   },
   {
    "duration": 78,
    "start_time": "2021-11-01T17:26:37.506Z"
   },
   {
    "duration": 61,
    "start_time": "2021-11-01T17:26:37.600Z"
   },
   {
    "duration": 5,
    "start_time": "2021-11-01T17:26:37.664Z"
   },
   {
    "duration": 41,
    "start_time": "2021-11-01T17:26:37.672Z"
   },
   {
    "duration": 64,
    "start_time": "2021-11-01T17:26:37.716Z"
   },
   {
    "duration": 15,
    "start_time": "2021-11-01T17:26:37.799Z"
   },
   {
    "duration": 14,
    "start_time": "2021-11-01T17:26:37.816Z"
   },
   {
    "duration": 4,
    "start_time": "2021-11-01T17:26:37.832Z"
   },
   {
    "duration": 28,
    "start_time": "2021-11-01T17:26:37.839Z"
   },
   {
    "duration": 50,
    "start_time": "2021-11-01T17:26:37.870Z"
   },
   {
    "duration": 21,
    "start_time": "2021-11-01T17:26:37.927Z"
   },
   {
    "duration": 52,
    "start_time": "2021-11-01T17:26:37.951Z"
   },
   {
    "duration": 24,
    "start_time": "2021-11-01T17:26:38.006Z"
   },
   {
    "duration": 21,
    "start_time": "2021-11-01T17:26:38.033Z"
   },
   {
    "duration": 144,
    "start_time": "2021-11-01T17:26:38.056Z"
   },
   {
    "duration": 18,
    "start_time": "2021-11-01T17:26:38.202Z"
   },
   {
    "duration": 14,
    "start_time": "2021-11-01T17:26:38.222Z"
   },
   {
    "duration": 6,
    "start_time": "2021-11-01T17:26:38.239Z"
   },
   {
    "duration": 70,
    "start_time": "2021-11-01T17:26:38.248Z"
   },
   {
    "duration": 24,
    "start_time": "2021-11-01T17:26:38.321Z"
   },
   {
    "duration": 24,
    "start_time": "2021-11-01T17:26:38.347Z"
   },
   {
    "duration": 42,
    "start_time": "2021-11-01T17:26:38.373Z"
   },
   {
    "duration": 13,
    "start_time": "2021-11-01T17:26:38.417Z"
   },
   {
    "duration": 7,
    "start_time": "2021-11-01T17:26:38.433Z"
   },
   {
    "duration": 12,
    "start_time": "2021-11-01T17:26:38.443Z"
   },
   {
    "duration": 49,
    "start_time": "2021-11-01T17:26:38.458Z"
   },
   {
    "duration": 4,
    "start_time": "2021-11-01T17:45:22.928Z"
   },
   {
    "duration": 216,
    "start_time": "2021-11-01T17:45:22.935Z"
   },
   {
    "duration": 16,
    "start_time": "2021-11-01T17:45:23.154Z"
   },
   {
    "duration": 53,
    "start_time": "2021-11-01T17:45:23.172Z"
   },
   {
    "duration": 7,
    "start_time": "2021-11-01T17:45:23.228Z"
   },
   {
    "duration": 25,
    "start_time": "2021-11-01T17:45:23.237Z"
   },
   {
    "duration": 5,
    "start_time": "2021-11-01T17:45:23.264Z"
   },
   {
    "duration": 57,
    "start_time": "2021-11-01T17:45:23.273Z"
   },
   {
    "duration": 24,
    "start_time": "2021-11-01T17:45:23.333Z"
   },
   {
    "duration": 57,
    "start_time": "2021-11-01T17:45:23.359Z"
   },
   {
    "duration": 95,
    "start_time": "2021-11-01T17:45:23.418Z"
   },
   {
    "duration": 107,
    "start_time": "2021-11-01T17:45:23.516Z"
   },
   {
    "duration": 90,
    "start_time": "2021-11-01T17:45:23.625Z"
   },
   {
    "duration": 58,
    "start_time": "2021-11-01T17:45:23.717Z"
   },
   {
    "duration": 4,
    "start_time": "2021-11-01T17:45:23.778Z"
   },
   {
    "duration": 13,
    "start_time": "2021-11-01T17:45:23.800Z"
   },
   {
    "duration": 66,
    "start_time": "2021-11-01T17:45:23.816Z"
   },
   {
    "duration": 15,
    "start_time": "2021-11-01T17:45:23.901Z"
   },
   {
    "duration": 14,
    "start_time": "2021-11-01T17:45:23.918Z"
   },
   {
    "duration": 5,
    "start_time": "2021-11-01T17:45:23.934Z"
   },
   {
    "duration": 59,
    "start_time": "2021-11-01T17:45:23.941Z"
   },
   {
    "duration": 18,
    "start_time": "2021-11-01T17:45:24.003Z"
   },
   {
    "duration": 19,
    "start_time": "2021-11-01T17:45:24.027Z"
   },
   {
    "duration": 24,
    "start_time": "2021-11-01T17:45:24.048Z"
   },
   {
    "duration": 46,
    "start_time": "2021-11-01T17:45:24.074Z"
   },
   {
    "duration": 23,
    "start_time": "2021-11-01T17:45:24.122Z"
   },
   {
    "duration": 118,
    "start_time": "2021-11-01T17:45:24.147Z"
   },
   {
    "duration": 17,
    "start_time": "2021-11-01T17:45:24.267Z"
   },
   {
    "duration": 25,
    "start_time": "2021-11-01T17:45:24.286Z"
   },
   {
    "duration": 8,
    "start_time": "2021-11-01T17:45:24.313Z"
   },
   {
    "duration": 36,
    "start_time": "2021-11-01T17:45:24.324Z"
   },
   {
    "duration": 40,
    "start_time": "2021-11-01T17:45:24.363Z"
   },
   {
    "duration": 26,
    "start_time": "2021-11-01T17:45:24.406Z"
   },
   {
    "duration": 18,
    "start_time": "2021-11-01T17:45:24.436Z"
   },
   {
    "duration": 48,
    "start_time": "2021-11-01T17:45:24.457Z"
   },
   {
    "duration": 5,
    "start_time": "2021-11-01T17:45:24.508Z"
   },
   {
    "duration": 16,
    "start_time": "2021-11-01T17:45:24.516Z"
   },
   {
    "duration": 15,
    "start_time": "2021-11-01T17:45:24.535Z"
   },
   {
    "duration": 603,
    "start_time": "2021-11-03T14:44:54.097Z"
   },
   {
    "duration": 153,
    "start_time": "2021-11-03T14:44:54.702Z"
   },
   {
    "duration": 18,
    "start_time": "2021-11-03T14:44:54.857Z"
   },
   {
    "duration": 27,
    "start_time": "2021-11-03T14:44:54.878Z"
   },
   {
    "duration": 8,
    "start_time": "2021-11-03T14:44:54.907Z"
   },
   {
    "duration": 42,
    "start_time": "2021-11-03T14:44:54.917Z"
   },
   {
    "duration": 4,
    "start_time": "2021-11-03T14:44:54.961Z"
   },
   {
    "duration": 27,
    "start_time": "2021-11-03T14:44:54.967Z"
   },
   {
    "duration": 20,
    "start_time": "2021-11-03T14:44:54.996Z"
   },
   {
    "duration": 49,
    "start_time": "2021-11-03T14:44:55.018Z"
   },
   {
    "duration": 76,
    "start_time": "2021-11-03T14:44:55.069Z"
   },
   {
    "duration": 73,
    "start_time": "2021-11-03T14:44:55.147Z"
   },
   {
    "duration": 72,
    "start_time": "2021-11-03T14:44:55.222Z"
   },
   {
    "duration": 50,
    "start_time": "2021-11-03T14:44:55.296Z"
   },
   {
    "duration": 3,
    "start_time": "2021-11-03T14:44:55.349Z"
   },
   {
    "duration": 14,
    "start_time": "2021-11-03T14:44:55.354Z"
   },
   {
    "duration": 55,
    "start_time": "2021-11-03T14:44:55.370Z"
   },
   {
    "duration": 25,
    "start_time": "2021-11-03T14:44:55.427Z"
   },
   {
    "duration": 9,
    "start_time": "2021-11-03T14:44:55.454Z"
   },
   {
    "duration": 6,
    "start_time": "2021-11-03T14:44:55.465Z"
   },
   {
    "duration": 39,
    "start_time": "2021-11-03T14:44:55.473Z"
   },
   {
    "duration": 15,
    "start_time": "2021-11-03T14:44:55.513Z"
   },
   {
    "duration": 33,
    "start_time": "2021-11-03T14:44:55.530Z"
   },
   {
    "duration": 24,
    "start_time": "2021-11-03T14:44:55.565Z"
   },
   {
    "duration": 16,
    "start_time": "2021-11-03T14:44:55.591Z"
   },
   {
    "duration": 17,
    "start_time": "2021-11-03T14:44:55.609Z"
   },
   {
    "duration": 82,
    "start_time": "2021-11-03T14:44:55.627Z"
   },
   {
    "duration": 10,
    "start_time": "2021-11-03T14:44:55.711Z"
   },
   {
    "duration": 26,
    "start_time": "2021-11-03T14:44:55.723Z"
   },
   {
    "duration": 4,
    "start_time": "2021-11-03T14:44:55.751Z"
   },
   {
    "duration": 32,
    "start_time": "2021-11-03T14:44:55.757Z"
   },
   {
    "duration": 13,
    "start_time": "2021-11-03T14:44:55.790Z"
   },
   {
    "duration": 18,
    "start_time": "2021-11-03T14:44:55.805Z"
   },
   {
    "duration": 31,
    "start_time": "2021-11-03T14:44:55.825Z"
   },
   {
    "duration": 9,
    "start_time": "2021-11-03T14:44:55.857Z"
   },
   {
    "duration": 4,
    "start_time": "2021-11-03T14:44:55.868Z"
   },
   {
    "duration": 11,
    "start_time": "2021-11-03T14:44:55.874Z"
   },
   {
    "duration": 5,
    "start_time": "2021-11-03T14:44:55.887Z"
   }
  ],
  "colab": {
   "collapsed_sections": [
    "E0vqbgi9ay0H",
    "VUC88oWjTJw2"
   ],
   "name": "yandex_music_project_2021.2.ipynb",
   "provenance": []
  },
  "kernelspec": {
   "display_name": "Python 3",
   "language": "python",
   "name": "python3"
  },
  "language_info": {
   "codemirror_mode": {
    "name": "ipython",
    "version": 3
   },
   "file_extension": ".py",
   "mimetype": "text/x-python",
   "name": "python",
   "nbconvert_exporter": "python",
   "pygments_lexer": "ipython3",
   "version": "3.8.5"
  },
  "latex_envs": {
   "LaTeX_envs_menu_present": true,
   "autoclose": true,
   "autocomplete": true,
   "bibliofile": "biblio.bib",
   "cite_by": "apalike",
   "current_citInitial": 1,
   "eqLabelWithNumbers": true,
   "eqNumInitial": 1,
   "hotkeys": {
    "equation": "Ctrl-E",
    "itemize": "Ctrl-I"
   },
   "labels_anchors": false,
   "latex_user_defs": false,
   "report_style_numbering": true,
   "user_envs_cfg": false
  },
  "toc": {
   "base_numbering": 1,
   "nav_menu": {},
   "number_sections": true,
   "sideBar": true,
   "skip_h1_title": true,
   "title_cell": "Table of Contents",
   "title_sidebar": "Contents",
   "toc_cell": false,
   "toc_position": {},
   "toc_section_display": true,
   "toc_window_display": false
  }
 },
 "nbformat": 4,
 "nbformat_minor": 1
}
