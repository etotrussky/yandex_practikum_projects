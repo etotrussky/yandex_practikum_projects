{
 "cells": [
  {
   "cell_type": "markdown",
   "metadata": {},
   "source": [
    "# Исследование надёжности заёмщиков\n",
    "\n",
    "Заказчик — кредитный отдел банка. Нужно разобраться, влияет ли семейное положение и количество детей клиента на факт погашения кредита в срок. Входные данные от банка — статистика о платёжеспособности клиентов.\n",
    "\n",
    "Результаты исследования будут учтены при построении модели **кредитного скоринга** — специальной системы, которая оценивает способность потенциального заёмщика вернуть кредит банку."
   ]
  },
  {
   "cell_type": "markdown",
   "metadata": {},
   "source": [
    "## Откройте файл с данными и изучите общую информацию"
   ]
  },
  {
   "cell_type": "code",
   "execution_count": 1,
   "metadata": {
    "scrolled": false
   },
   "outputs": [],
   "source": [
    "# импорт необходимых для работы библиотек\n",
    "\n",
    "import pandas as pd\n",
    "import matplotlib.pyplot as plt\n",
    "import numpy as np\n",
    "import math\n",
    "from pymystem3 import Mystem"
   ]
  },
  {
   "cell_type": "code",
   "execution_count": 2,
   "metadata": {},
   "outputs": [
    {
     "data": {
      "text/html": [
       "<div>\n",
       "<style scoped>\n",
       "    .dataframe tbody tr th:only-of-type {\n",
       "        vertical-align: middle;\n",
       "    }\n",
       "\n",
       "    .dataframe tbody tr th {\n",
       "        vertical-align: top;\n",
       "    }\n",
       "\n",
       "    .dataframe thead th {\n",
       "        text-align: right;\n",
       "    }\n",
       "</style>\n",
       "<table border=\"1\" class=\"dataframe\">\n",
       "  <thead>\n",
       "    <tr style=\"text-align: right;\">\n",
       "      <th></th>\n",
       "      <th>children</th>\n",
       "      <th>days_employed</th>\n",
       "      <th>dob_years</th>\n",
       "      <th>education</th>\n",
       "      <th>education_id</th>\n",
       "      <th>family_status</th>\n",
       "      <th>family_status_id</th>\n",
       "      <th>gender</th>\n",
       "      <th>income_type</th>\n",
       "      <th>debt</th>\n",
       "      <th>total_income</th>\n",
       "      <th>purpose</th>\n",
       "    </tr>\n",
       "  </thead>\n",
       "  <tbody>\n",
       "    <tr>\n",
       "      <th>0</th>\n",
       "      <td>1</td>\n",
       "      <td>-8437.673028</td>\n",
       "      <td>42</td>\n",
       "      <td>высшее</td>\n",
       "      <td>0</td>\n",
       "      <td>женат / замужем</td>\n",
       "      <td>0</td>\n",
       "      <td>F</td>\n",
       "      <td>сотрудник</td>\n",
       "      <td>0</td>\n",
       "      <td>253875.639453</td>\n",
       "      <td>покупка жилья</td>\n",
       "    </tr>\n",
       "    <tr>\n",
       "      <th>1</th>\n",
       "      <td>1</td>\n",
       "      <td>-4024.803754</td>\n",
       "      <td>36</td>\n",
       "      <td>среднее</td>\n",
       "      <td>1</td>\n",
       "      <td>женат / замужем</td>\n",
       "      <td>0</td>\n",
       "      <td>F</td>\n",
       "      <td>сотрудник</td>\n",
       "      <td>0</td>\n",
       "      <td>112080.014102</td>\n",
       "      <td>приобретение автомобиля</td>\n",
       "    </tr>\n",
       "    <tr>\n",
       "      <th>2</th>\n",
       "      <td>0</td>\n",
       "      <td>-5623.422610</td>\n",
       "      <td>33</td>\n",
       "      <td>Среднее</td>\n",
       "      <td>1</td>\n",
       "      <td>женат / замужем</td>\n",
       "      <td>0</td>\n",
       "      <td>M</td>\n",
       "      <td>сотрудник</td>\n",
       "      <td>0</td>\n",
       "      <td>145885.952297</td>\n",
       "      <td>покупка жилья</td>\n",
       "    </tr>\n",
       "    <tr>\n",
       "      <th>3</th>\n",
       "      <td>3</td>\n",
       "      <td>-4124.747207</td>\n",
       "      <td>32</td>\n",
       "      <td>среднее</td>\n",
       "      <td>1</td>\n",
       "      <td>женат / замужем</td>\n",
       "      <td>0</td>\n",
       "      <td>M</td>\n",
       "      <td>сотрудник</td>\n",
       "      <td>0</td>\n",
       "      <td>267628.550329</td>\n",
       "      <td>дополнительное образование</td>\n",
       "    </tr>\n",
       "    <tr>\n",
       "      <th>4</th>\n",
       "      <td>0</td>\n",
       "      <td>340266.072047</td>\n",
       "      <td>53</td>\n",
       "      <td>среднее</td>\n",
       "      <td>1</td>\n",
       "      <td>гражданский брак</td>\n",
       "      <td>1</td>\n",
       "      <td>F</td>\n",
       "      <td>пенсионер</td>\n",
       "      <td>0</td>\n",
       "      <td>158616.077870</td>\n",
       "      <td>сыграть свадьбу</td>\n",
       "    </tr>\n",
       "    <tr>\n",
       "      <th>5</th>\n",
       "      <td>0</td>\n",
       "      <td>-926.185831</td>\n",
       "      <td>27</td>\n",
       "      <td>высшее</td>\n",
       "      <td>0</td>\n",
       "      <td>гражданский брак</td>\n",
       "      <td>1</td>\n",
       "      <td>M</td>\n",
       "      <td>компаньон</td>\n",
       "      <td>0</td>\n",
       "      <td>255763.565419</td>\n",
       "      <td>покупка жилья</td>\n",
       "    </tr>\n",
       "    <tr>\n",
       "      <th>6</th>\n",
       "      <td>0</td>\n",
       "      <td>-2879.202052</td>\n",
       "      <td>43</td>\n",
       "      <td>высшее</td>\n",
       "      <td>0</td>\n",
       "      <td>женат / замужем</td>\n",
       "      <td>0</td>\n",
       "      <td>F</td>\n",
       "      <td>компаньон</td>\n",
       "      <td>0</td>\n",
       "      <td>240525.971920</td>\n",
       "      <td>операции с жильем</td>\n",
       "    </tr>\n",
       "    <tr>\n",
       "      <th>7</th>\n",
       "      <td>0</td>\n",
       "      <td>-152.779569</td>\n",
       "      <td>50</td>\n",
       "      <td>СРЕДНЕЕ</td>\n",
       "      <td>1</td>\n",
       "      <td>женат / замужем</td>\n",
       "      <td>0</td>\n",
       "      <td>M</td>\n",
       "      <td>сотрудник</td>\n",
       "      <td>0</td>\n",
       "      <td>135823.934197</td>\n",
       "      <td>образование</td>\n",
       "    </tr>\n",
       "    <tr>\n",
       "      <th>8</th>\n",
       "      <td>2</td>\n",
       "      <td>-6929.865299</td>\n",
       "      <td>35</td>\n",
       "      <td>ВЫСШЕЕ</td>\n",
       "      <td>0</td>\n",
       "      <td>гражданский брак</td>\n",
       "      <td>1</td>\n",
       "      <td>F</td>\n",
       "      <td>сотрудник</td>\n",
       "      <td>0</td>\n",
       "      <td>95856.832424</td>\n",
       "      <td>на проведение свадьбы</td>\n",
       "    </tr>\n",
       "    <tr>\n",
       "      <th>9</th>\n",
       "      <td>0</td>\n",
       "      <td>-2188.756445</td>\n",
       "      <td>41</td>\n",
       "      <td>среднее</td>\n",
       "      <td>1</td>\n",
       "      <td>женат / замужем</td>\n",
       "      <td>0</td>\n",
       "      <td>M</td>\n",
       "      <td>сотрудник</td>\n",
       "      <td>0</td>\n",
       "      <td>144425.938277</td>\n",
       "      <td>покупка жилья для семьи</td>\n",
       "    </tr>\n",
       "  </tbody>\n",
       "</table>\n",
       "</div>"
      ],
      "text/plain": [
       "   children  days_employed  dob_years education  education_id  \\\n",
       "0         1   -8437.673028         42    высшее             0   \n",
       "1         1   -4024.803754         36   среднее             1   \n",
       "2         0   -5623.422610         33   Среднее             1   \n",
       "3         3   -4124.747207         32   среднее             1   \n",
       "4         0  340266.072047         53   среднее             1   \n",
       "5         0    -926.185831         27    высшее             0   \n",
       "6         0   -2879.202052         43    высшее             0   \n",
       "7         0    -152.779569         50   СРЕДНЕЕ             1   \n",
       "8         2   -6929.865299         35    ВЫСШЕЕ             0   \n",
       "9         0   -2188.756445         41   среднее             1   \n",
       "\n",
       "      family_status  family_status_id gender income_type  debt   total_income  \\\n",
       "0   женат / замужем                 0      F   сотрудник     0  253875.639453   \n",
       "1   женат / замужем                 0      F   сотрудник     0  112080.014102   \n",
       "2   женат / замужем                 0      M   сотрудник     0  145885.952297   \n",
       "3   женат / замужем                 0      M   сотрудник     0  267628.550329   \n",
       "4  гражданский брак                 1      F   пенсионер     0  158616.077870   \n",
       "5  гражданский брак                 1      M   компаньон     0  255763.565419   \n",
       "6   женат / замужем                 0      F   компаньон     0  240525.971920   \n",
       "7   женат / замужем                 0      M   сотрудник     0  135823.934197   \n",
       "8  гражданский брак                 1      F   сотрудник     0   95856.832424   \n",
       "9   женат / замужем                 0      M   сотрудник     0  144425.938277   \n",
       "\n",
       "                      purpose  \n",
       "0               покупка жилья  \n",
       "1     приобретение автомобиля  \n",
       "2               покупка жилья  \n",
       "3  дополнительное образование  \n",
       "4             сыграть свадьбу  \n",
       "5               покупка жилья  \n",
       "6           операции с жильем  \n",
       "7                 образование  \n",
       "8       на проведение свадьбы  \n",
       "9     покупка жилья для семьи  "
      ]
     },
     "metadata": {},
     "output_type": "display_data"
    },
    {
     "name": "stdout",
     "output_type": "stream",
     "text": [
      "<class 'pandas.core.frame.DataFrame'>\n",
      "RangeIndex: 21525 entries, 0 to 21524\n",
      "Data columns (total 12 columns):\n",
      " #   Column            Non-Null Count  Dtype  \n",
      "---  ------            --------------  -----  \n",
      " 0   children          21525 non-null  int64  \n",
      " 1   days_employed     19351 non-null  float64\n",
      " 2   dob_years         21525 non-null  int64  \n",
      " 3   education         21525 non-null  object \n",
      " 4   education_id      21525 non-null  int64  \n",
      " 5   family_status     21525 non-null  object \n",
      " 6   family_status_id  21525 non-null  int64  \n",
      " 7   gender            21525 non-null  object \n",
      " 8   income_type       21525 non-null  object \n",
      " 9   debt              21525 non-null  int64  \n",
      " 10  total_income      19351 non-null  float64\n",
      " 11  purpose           21525 non-null  object \n",
      "dtypes: float64(2), int64(5), object(5)\n",
      "memory usage: 2.0+ MB\n"
     ]
    }
   ],
   "source": [
    "# чтение файла и сохранение в переменную data\n",
    "\n",
    "try:\n",
    "    data = pd.read_csv('/datasets/data.csv')\n",
    "except:\n",
    "    print('Невозможно открыть файл')\n",
    "        \n",
    "# вывод первых десяти строк таблицы\n",
    "display(data.head(10))\n",
    "\n",
    "# вывод сводной информации по датафрейму\n",
    "data.info()"
   ]
  },
  {
   "cell_type": "markdown",
   "metadata": {},
   "source": [
    "**Вывод**\n",
    "\n",
    "Итак, в датасете содержится 11 столбцов, соответствующих социальным характеристикам заёмщика, а также отражающих его кредитную историю. На первый взгляд, в таблице имеются неоднозначные названия колонок, пропуски данных, некорректные типы значения переменных и их типы. "
   ]
  },
  {
   "cell_type": "markdown",
   "metadata": {},
   "source": [
    "## Предобработка данных\n",
    "Для продолжения работы требуется надлежащим образом подготовить данные."
   ]
  },
  {
   "cell_type": "markdown",
   "metadata": {},
   "source": [
    "### Исправление названий столбцов\n",
    "Некорректные названия столбцов могут вводить в заблуждение, поэтому, прежде чем приступать к очистке и обогащению данных, следует присвоить колонкам более интуитивные названия."
   ]
  },
  {
   "cell_type": "code",
   "execution_count": 3,
   "metadata": {
    "scrolled": false
   },
   "outputs": [
    {
     "data": {
      "text/plain": [
       "Index(['children', 'days_employed', 'dob_years', 'education', 'education_id',\n",
       "       'family_status', 'family_status_id', 'gender', 'income_type', 'debt',\n",
       "       'total_income', 'purpose'],\n",
       "      dtype='object')"
      ]
     },
     "execution_count": 3,
     "metadata": {},
     "output_type": "execute_result"
    }
   ],
   "source": [
    "# текущие названия столбцов\n",
    "\n",
    "data.columns"
   ]
  },
  {
   "cell_type": "code",
   "execution_count": 4,
   "metadata": {},
   "outputs": [],
   "source": [
    "# dob_years → client_age\n",
    "# income_type → occupation\n",
    "# debt → had_debt\n",
    "\n",
    "data = data.rename(columns={'dob_years':'client_age','income_type':'occupation','debt':'had_debt'})"
   ]
  },
  {
   "cell_type": "markdown",
   "metadata": {},
   "source": [
    "### Удаление явных дубликатов\n",
    "Наличие дубликатов может внести искажение в результаты исследования, поэтому от них стоит избавиться как можно скорее, чтобы обогащать данными лишь уникальные строки."
   ]
  },
  {
   "cell_type": "code",
   "execution_count": 5,
   "metadata": {},
   "outputs": [
    {
     "data": {
      "text/plain": [
       "54"
      ]
     },
     "execution_count": 5,
     "metadata": {},
     "output_type": "execute_result"
    }
   ],
   "source": [
    "# Проверка количества явных дубликатов\n",
    "\n",
    "data.duplicated().sum()"
   ]
  },
  {
   "cell_type": "code",
   "execution_count": 6,
   "metadata": {
    "scrolled": true
   },
   "outputs": [],
   "source": [
    "# удаление явных дубликатов\n",
    "\n",
    "data = data.drop_duplicates().reset_index(drop=True)"
   ]
  },
  {
   "cell_type": "markdown",
   "metadata": {},
   "source": [
    "### Исправление данных"
   ]
  },
  {
   "cell_type": "markdown",
   "metadata": {},
   "source": [
    "#### Количество детей `children`\n"
   ]
  },
  {
   "cell_type": "markdown",
   "metadata": {},
   "source": [
    "Оценим разброс значений в колонке"
   ]
  },
  {
   "cell_type": "code",
   "execution_count": 7,
   "metadata": {
    "scrolled": true
   },
   "outputs": [
    {
     "data": {
      "text/plain": [
       " 0     14107\n",
       " 1      4809\n",
       " 2      2052\n",
       " 3       330\n",
       " 20       76\n",
       "-1        47\n",
       " 4        41\n",
       " 5         9\n",
       "Name: children, dtype: int64"
      ]
     },
     "execution_count": 7,
     "metadata": {},
     "output_type": "execute_result"
    }
   ],
   "source": [
    "# вывод частоты встречаемости каждого уникального значения в столбце `children`\n",
    "\n",
    "data['children'].value_counts()"
   ]
  },
  {
   "cell_type": "markdown",
   "metadata": {},
   "source": [
    "Значение `-1` скорее всего имеет тот же смысл, что и NaN: \"Отсутствие\", \"Неизвестно\", \"Не применимо\" и т.д.. Поэтому эти строки логичней всего отнести к значению `children = 0`. \n",
    "Количество детей `20` теоретически возможно, но настораживает, во-первых, полное отсутствие значений от `6` до `19`, во-вторых, количество таких записей. Вероятно, на каком-то этапе значение имело тип `float` и записывалось как `2.0` и впоследствии некорректно перенеслось из одной базы в другую. Заменим эти значения в соответствии с выдвинутой гипотезой."
   ]
  },
  {
   "cell_type": "code",
   "execution_count": 8,
   "metadata": {},
   "outputs": [],
   "source": [
    "# замена числа детей в семье с -1 на 0 и с 20 на 2\n",
    "\n",
    "data.replace((-1, 20),(0,2),inplace=True)"
   ]
  },
  {
   "cell_type": "markdown",
   "metadata": {},
   "source": [
    "Несмотря на то, что количество детей само по себе является категорией, в некоторых категориях количество наблюдений недостаточно, поэтому следует разделить всех заемщиков на следующие группы:\n",
    "* бездетная семья\n",
    "* семья с детьми\n",
    "* многодетная семья"
   ]
  },
  {
   "cell_type": "code",
   "execution_count": 9,
   "metadata": {},
   "outputs": [],
   "source": [
    "def children_grader(value):\n",
    "    if value==0:\n",
    "        return 'бездетная семья'\n",
    "    elif value<3:\n",
    "        return 'семья с детьми'\n",
    "    return 'многодетная семья'"
   ]
  },
  {
   "cell_type": "code",
   "execution_count": 10,
   "metadata": {},
   "outputs": [],
   "source": [
    "data.insert(1, 'children_grade', value=data['children'].apply(children_grader))"
   ]
  },
  {
   "cell_type": "markdown",
   "metadata": {},
   "source": [
    "#### Трудовой стаж `days_employed`"
   ]
  },
  {
   "cell_type": "markdown",
   "metadata": {},
   "source": [
    "Оценим разброс значений в колонке с указанием трудового стажа клиента. Для этого найдем минимальное и максимальное значение в колонке, а также построим график boxplot."
   ]
  },
  {
   "cell_type": "code",
   "execution_count": 11,
   "metadata": {
    "scrolled": false
   },
   "outputs": [
    {
     "name": "stdout",
     "output_type": "stream",
     "text": [
      "Минимальное значение в колонке составляет -18388.949900568383\n",
      "Максимальное значение в колонке составляет 401755.40047533\n"
     ]
    },
    {
     "data": {
      "text/plain": [
       "<AxesSubplot:>"
      ]
     },
     "execution_count": 11,
     "metadata": {},
     "output_type": "execute_result"
    },
    {
     "data": {
      "image/png": "[encoded data removed]",
      "text/plain": [
       "<Figure size 432x288 with 1 Axes>"
      ]
     },
     "metadata": {
      "needs_background": "light"
     },
     "output_type": "display_data"
    }
   ],
   "source": [
    "print(f\"Минимальное значение в колонке составляет {data['days_employed'].min()}\")\n",
    "print(f\"Максимальное значение в колонке составляет {data['days_employed'].max()}\")\n",
    "data.boxplot(column='days_employed')"
   ]
  },
  {
   "cell_type": "code",
   "execution_count": 12,
   "metadata": {},
   "outputs": [
    {
     "data": {
      "text/plain": [
       "2120"
      ]
     },
     "execution_count": 12,
     "metadata": {},
     "output_type": "execute_result"
    }
   ],
   "source": [
    "# вывод количества NaN в колонке\n",
    "\n",
    "data['days_employed'].isna().sum()"
   ]
  },
  {
   "cell_type": "markdown",
   "metadata": {},
   "source": [
    "В столбце присутствуют отрицательные, запредельные значения, и NaN. Присутствие отрицательных значений может быть связано с повреждением данных при переносе, тем более, что их абсолютные величины вполне адекватны."
   ]
  },
  {
   "cell_type": "markdown",
   "metadata": {},
   "source": [
    "Приведем все значения к абсолютным величинам:\n"
   ]
  },
  {
   "cell_type": "code",
   "execution_count": 13,
   "metadata": {},
   "outputs": [],
   "source": [
    "# переприсвоение всем значениям их модуля\n",
    "\n",
    "data['days_employed'] = abs(data['days_employed'])"
   ]
  },
  {
   "cell_type": "markdown",
   "metadata": {},
   "source": [
    "Чтобы функция приведения к типу отработала безошибочно, заменим все NaN на -1, а аномальные значения разделим на 24, исходя из гипотезы о том, что данные записаны в часах."
   ]
  },
  {
   "cell_type": "code",
   "execution_count": 14,
   "metadata": {},
   "outputs": [],
   "source": [
    "# замена всех NaN значений трубового стажа на -1\n",
    "data.loc[data['days_employed'].isna(), 'days_employed'] = -1\n",
    "\n",
    "# деление всех значений трудового стажа больше 30000 дней на 24\n",
    "data.loc[data['days_employed']>30000, 'days_employed'] = data['days_employed']/24"
   ]
  },
  {
   "cell_type": "markdown",
   "metadata": {},
   "source": [
    "Теперь, когда в колонке не осталось значений NaN, можно привести все значения к целому типу."
   ]
  },
  {
   "cell_type": "code",
   "execution_count": 15,
   "metadata": {},
   "outputs": [
    {
     "data": {
      "text/plain": [
       "0     8437\n",
       "1     4024\n",
       "2     5623\n",
       "3     4124\n",
       "4    14177\n",
       "Name: days_employed, dtype: int64"
      ]
     },
     "execution_count": 15,
     "metadata": {},
     "output_type": "execute_result"
    }
   ],
   "source": [
    "# приведение всех значений в колонке с трудовым стажем к int\n",
    "data['days_employed'] = data['days_employed'].astype('int')\n",
    "\n",
    "# вывод первых пяти строк датафрейма\n",
    "data['days_employed'].head(5)"
   ]
  },
  {
   "cell_type": "markdown",
   "metadata": {},
   "source": [
    "#### Возраст клиента `client_age`"
   ]
  },
  {
   "cell_type": "markdown",
   "metadata": {},
   "source": [
    "Оценим диапазон возраста клиентов в датасете."
   ]
  },
  {
   "cell_type": "code",
   "execution_count": 16,
   "metadata": {
    "scrolled": true
   },
   "outputs": [
    {
     "data": {
      "text/plain": [
       "array([ 0,  2, 19, 21, 22, 23, 24, 25, 26, 27, 28, 29, 30, 31, 32, 33, 34,\n",
       "       35, 36, 37, 38, 39, 40, 41, 42, 43, 44, 45, 46, 47, 48, 49, 50, 51,\n",
       "       52, 53, 54, 55, 56, 57, 58, 59, 60, 61, 62, 63, 64, 65, 66, 67, 68,\n",
       "       69, 70, 71, 72, 73, 74, 75])"
      ]
     },
     "execution_count": 16,
     "metadata": {},
     "output_type": "execute_result"
    }
   ],
   "source": [
    "# вывод уникальных значений из столбца с возрастом клиента\n",
    "\n",
    "data['client_age'].sort_values().unique()"
   ]
  },
  {
   "cell_type": "code",
   "execution_count": 17,
   "metadata": {},
   "outputs": [
    {
     "name": "stdout",
     "output_type": "stream",
     "text": [
      "Возраст не указан в 101 записи.\n"
     ]
    }
   ],
   "source": [
    "# вывод отчета об отсутствующих даных в столбце с возрастом клиента\n",
    "\n",
    "print(f\"Возраст не указан в {data[data['client_age']==0]['client_age'].count()} записи.\")"
   ]
  },
  {
   "cell_type": "markdown",
   "metadata": {},
   "source": [
    "Заполним пустые ячейки с возрастом медианным значением, рассчитанным по каждой категории признака \"семейное положение\""
   ]
  },
  {
   "cell_type": "code",
   "execution_count": 18,
   "metadata": {
    "scrolled": true
   },
   "outputs": [],
   "source": [
    "# создание Series с соответствующим медианным значением для каждого индекса исходной \n",
    "\n",
    "med_age = data.groupby(by='family_status')['client_age'].transform('median')"
   ]
  },
  {
   "cell_type": "markdown",
   "metadata": {},
   "source": [
    "Для ускорения расчетов проведем замены в два этапа. Сначала заменим все нули на NaN, а после - все NaN - на необходимое значение."
   ]
  },
  {
   "cell_type": "code",
   "execution_count": 19,
   "metadata": {
    "scrolled": true
   },
   "outputs": [],
   "source": [
    "# замена всех нулей на NaN \n",
    "data['client_age'] = data['client_age'].replace(0, np.NaN)\n",
    "\n",
    "# замена всех NaN на медианное значение\n",
    "data['client_age'] = data['client_age'].fillna(med_age).astype('int')"
   ]
  },
  {
   "cell_type": "markdown",
   "metadata": {},
   "source": [
    "####  Образование `education`"
   ]
  },
  {
   "cell_type": "markdown",
   "metadata": {},
   "source": [
    "Исследуем разнообразие значений, введенных в поле `education`."
   ]
  },
  {
   "cell_type": "code",
   "execution_count": 20,
   "metadata": {
    "scrolled": true
   },
   "outputs": [
    {
     "data": {
      "text/plain": [
       "array(['высшее', 'среднее', 'Среднее', 'СРЕДНЕЕ', 'ВЫСШЕЕ',\n",
       "       'неоконченное высшее', 'начальное', 'Высшее',\n",
       "       'НЕОКОНЧЕННОЕ ВЫСШЕЕ', 'Неоконченное высшее', 'НАЧАЛЬНОЕ',\n",
       "       'Начальное', 'Ученая степень', 'УЧЕНАЯ СТЕПЕНЬ', 'ученая степень'],\n",
       "      dtype=object)"
      ]
     },
     "execution_count": 20,
     "metadata": {},
     "output_type": "execute_result"
    }
   ],
   "source": [
    "# вывод уникальных значений из столбца с уровнем образования клиента банка\n",
    "\n",
    "data['education'].unique()"
   ]
  },
  {
   "cell_type": "markdown",
   "metadata": {},
   "source": [
    "В колонке присутствует большое количество неявных повторений. Избавиться от них можно изменением регистра текста."
   ]
  },
  {
   "cell_type": "code",
   "execution_count": 21,
   "metadata": {},
   "outputs": [],
   "source": [
    "# приведение регистра текста к строчному\n",
    "\n",
    "data['education'] = data['education'].str.lower()"
   ]
  },
  {
   "cell_type": "markdown",
   "metadata": {},
   "source": [
    "Оценим количество записей для оставшихся вариантов уровня образования"
   ]
  },
  {
   "cell_type": "code",
   "execution_count": 22,
   "metadata": {},
   "outputs": [
    {
     "data": {
      "text/plain": [
       "среднее                15188\n",
       "высшее                  5251\n",
       "неоконченное высшее      744\n",
       "начальное                282\n",
       "ученая степень             6\n",
       "Name: education, dtype: int64"
      ]
     },
     "execution_count": 22,
     "metadata": {},
     "output_type": "execute_result"
    }
   ],
   "source": [
    "# расчет количества пользователей в каждой уникальной категории уровня образования\n",
    "\n",
    "data['education'].value_counts()"
   ]
  },
  {
   "cell_type": "markdown",
   "metadata": {},
   "source": [
    "По федеральному закону \"Об образовании в Российской Федерации»\" минимальным уровнем образования является среднее, поэтому `начальное` и `неоконченное высшее` следует отнести к `среднему`, тем более они не представляют собой больших и значимых для исследования групп. Лиц, имеющих `ученую степень`, также крайне мало, поэтому их разумно отнести к `высшему` образованию."
   ]
  },
  {
   "cell_type": "code",
   "execution_count": 23,
   "metadata": {},
   "outputs": [],
   "source": [
    "# замена значений уровня образования 'начальное' на 'среднее'\n",
    "data.loc[data['education']=='начальное', 'education'] = 'среднее'\n",
    "\n",
    "# замена значений уровня образования 'неоконченное высшее' на 'среднее'\n",
    "data.loc[data['education']=='неоконченное высшее', 'education'] = 'среднее'\n",
    "\n",
    "# замена значений уровня образования 'ученая степень' на 'высшее'\n",
    "data.loc[data['education']=='ученая степень', 'education'] = 'высшее'"
   ]
  },
  {
   "cell_type": "code",
   "execution_count": 24,
   "metadata": {
    "scrolled": true
   },
   "outputs": [
    {
     "name": "stdout",
     "output_type": "stream",
     "text": [
      "После обработки регистра обнаружено 18 новых дубликатов, которые следует удалить\n"
     ]
    }
   ],
   "source": [
    "print(f'После обработки регистра обнаружено {data.duplicated().sum()} новых дубликатов, которые следует удалить')"
   ]
  },
  {
   "cell_type": "code",
   "execution_count": 25,
   "metadata": {
    "scrolled": true
   },
   "outputs": [],
   "source": [
    "data = data.drop_duplicates().reset_index(drop=True)"
   ]
  },
  {
   "cell_type": "markdown",
   "metadata": {},
   "source": [
    "#### Идентификатор уровня образования `education_id`"
   ]
  },
  {
   "cell_type": "markdown",
   "metadata": {},
   "source": [
    "На предыдущем этапе мы избавились от нескольких категорий уровня образования, поэтому в столбце с уникальным идентификатором тоже следует провести замены. "
   ]
  },
  {
   "cell_type": "code",
   "execution_count": 26,
   "metadata": {},
   "outputs": [],
   "source": [
    "# переприсвоение идентификаторов среднего образования\n",
    "data.loc[data['education']=='среднее', 'education_id'] = 0\n",
    "\n",
    "# переприсвоение идентификаторов высшего образования\n",
    "data.loc[data['education']=='высшее', 'education_id'] = 1"
   ]
  },
  {
   "cell_type": "markdown",
   "metadata": {},
   "source": [
    "#### Семейное положение `family_status`"
   ]
  },
  {
   "cell_type": "markdown",
   "metadata": {},
   "source": [
    "Оценим содержимое колонки с семейным положением клиентов."
   ]
  },
  {
   "cell_type": "code",
   "execution_count": 27,
   "metadata": {},
   "outputs": [
    {
     "data": {
      "text/plain": [
       "женат / замужем          12339\n",
       "гражданский брак          4150\n",
       "Не женат / не замужем     2810\n",
       "в разводе                 1195\n",
       "вдовец / вдова             959\n",
       "Name: family_status, dtype: int64"
      ]
     },
     "execution_count": 27,
     "metadata": {},
     "output_type": "execute_result"
    }
   ],
   "source": [
    "# вывод уникальных значений из колонки с семейным положением\n",
    "\n",
    "data['family_status'].value_counts()"
   ]
  },
  {
   "cell_type": "markdown",
   "metadata": {},
   "source": [
    "В столбце только уникальные значения, замены не требуются."
   ]
  },
  {
   "cell_type": "markdown",
   "metadata": {},
   "source": [
    "#### Идентификатор семейного положения `family_status_id`"
   ]
  },
  {
   "cell_type": "markdown",
   "metadata": {},
   "source": [
    "Проверим соответствие колонок `family_status` и `family_status_id`. Для этого выведем сводную таблицу, которая, в случае верного соответствиия семейного положения и соответствующего идентификатора, должна представлять собой диагональную матрицу с количеством записей для каждого идентификатора."
   ]
  },
  {
   "cell_type": "code",
   "execution_count": 28,
   "metadata": {
    "scrolled": true
   },
   "outputs": [
    {
     "data": {
      "text/html": [
       "<div>\n",
       "<style scoped>\n",
       "    .dataframe tbody tr th:only-of-type {\n",
       "        vertical-align: middle;\n",
       "    }\n",
       "\n",
       "    .dataframe tbody tr th {\n",
       "        vertical-align: top;\n",
       "    }\n",
       "\n",
       "    .dataframe thead th {\n",
       "        text-align: right;\n",
       "    }\n",
       "</style>\n",
       "<table border=\"1\" class=\"dataframe\">\n",
       "  <thead>\n",
       "    <tr style=\"text-align: right;\">\n",
       "      <th>family_status_id</th>\n",
       "      <th>0</th>\n",
       "      <th>1</th>\n",
       "      <th>2</th>\n",
       "      <th>3</th>\n",
       "      <th>4</th>\n",
       "    </tr>\n",
       "    <tr>\n",
       "      <th>family_status</th>\n",
       "      <th></th>\n",
       "      <th></th>\n",
       "      <th></th>\n",
       "      <th></th>\n",
       "      <th></th>\n",
       "    </tr>\n",
       "  </thead>\n",
       "  <tbody>\n",
       "    <tr>\n",
       "      <th>Не женат / не замужем</th>\n",
       "      <td>NaN</td>\n",
       "      <td>NaN</td>\n",
       "      <td>NaN</td>\n",
       "      <td>NaN</td>\n",
       "      <td>2810.0</td>\n",
       "    </tr>\n",
       "    <tr>\n",
       "      <th>в разводе</th>\n",
       "      <td>NaN</td>\n",
       "      <td>NaN</td>\n",
       "      <td>NaN</td>\n",
       "      <td>1195.0</td>\n",
       "      <td>NaN</td>\n",
       "    </tr>\n",
       "    <tr>\n",
       "      <th>вдовец / вдова</th>\n",
       "      <td>NaN</td>\n",
       "      <td>NaN</td>\n",
       "      <td>959.0</td>\n",
       "      <td>NaN</td>\n",
       "      <td>NaN</td>\n",
       "    </tr>\n",
       "    <tr>\n",
       "      <th>гражданский брак</th>\n",
       "      <td>NaN</td>\n",
       "      <td>4150.0</td>\n",
       "      <td>NaN</td>\n",
       "      <td>NaN</td>\n",
       "      <td>NaN</td>\n",
       "    </tr>\n",
       "    <tr>\n",
       "      <th>женат / замужем</th>\n",
       "      <td>12339.0</td>\n",
       "      <td>NaN</td>\n",
       "      <td>NaN</td>\n",
       "      <td>NaN</td>\n",
       "      <td>NaN</td>\n",
       "    </tr>\n",
       "  </tbody>\n",
       "</table>\n",
       "</div>"
      ],
      "text/plain": [
       "family_status_id             0       1      2       3       4\n",
       "family_status                                                \n",
       "Не женат / не замужем      NaN     NaN    NaN     NaN  2810.0\n",
       "в разводе                  NaN     NaN    NaN  1195.0     NaN\n",
       "вдовец / вдова             NaN     NaN  959.0     NaN     NaN\n",
       "гражданский брак           NaN  4150.0    NaN     NaN     NaN\n",
       "женат / замужем        12339.0     NaN    NaN     NaN     NaN"
      ]
     },
     "execution_count": 28,
     "metadata": {},
     "output_type": "execute_result"
    }
   ],
   "source": [
    "# создание сводной таблицы для сопоставления значения из колонки и его идентификатора\n",
    "\n",
    "data.pivot_table(index='family_status', columns='family_status_id', values='children', aggfunc='count')"
   ]
  },
  {
   "cell_type": "markdown",
   "metadata": {},
   "source": [
    "Действительно, каждому виду семейного положения присвоен уникальный ключ."
   ]
  },
  {
   "cell_type": "markdown",
   "metadata": {},
   "source": [
    "#### Пол  клиента `gender`"
   ]
  },
  {
   "cell_type": "markdown",
   "metadata": {},
   "source": [
    "Рассмотрим значения в колонке с указанием пола пользователя."
   ]
  },
  {
   "cell_type": "code",
   "execution_count": 29,
   "metadata": {
    "scrolled": false
   },
   "outputs": [
    {
     "data": {
      "text/plain": [
       "F      14173\n",
       "M       7279\n",
       "XNA        1\n",
       "Name: gender, dtype: int64"
      ]
     },
     "execution_count": 29,
     "metadata": {},
     "output_type": "execute_result"
    }
   ],
   "source": [
    "# вывод уникальных значений из колонки с гендером\n",
    "\n",
    "data['gender'].value_counts()"
   ]
  },
  {
   "cell_type": "markdown",
   "metadata": {},
   "source": [
    "Для одного из клиентов не указан пол. Возможно, клиент банка действительно не захотел его указывать, либо сотрудники не смогли распознать его по онлайн поданной заявке.\n",
    "Как бы то ни было, данная строка содержит ценные для исследования данные, поэтому удалять ее не следует, лучше восстановить значение. Более вероятно, что запись относится к категории с большим количествоу участников."
   ]
  },
  {
   "cell_type": "code",
   "execution_count": 30,
   "metadata": {
    "scrolled": true
   },
   "outputs": [],
   "source": [
    "# замена неуказанного пола на женский\n",
    "\n",
    "data['gender'].replace('XNA', 'F', inplace=True)"
   ]
  },
  {
   "cell_type": "markdown",
   "metadata": {},
   "source": [
    "#### Род деятельности `occupation`"
   ]
  },
  {
   "cell_type": "markdown",
   "metadata": {},
   "source": [
    "Оценим разнообразие категорий в колонке с родом деятельности."
   ]
  },
  {
   "cell_type": "code",
   "execution_count": 31,
   "metadata": {},
   "outputs": [
    {
     "data": {
      "text/plain": [
       "сотрудник          11083\n",
       "компаньон           5078\n",
       "пенсионер           3829\n",
       "госслужащий         1457\n",
       "предприниматель        2\n",
       "безработный            2\n",
       "студент                1\n",
       "в декрете              1\n",
       "Name: occupation, dtype: int64"
      ]
     },
     "execution_count": 31,
     "metadata": {},
     "output_type": "execute_result"
    }
   ],
   "source": [
    "# вывод уникальных значений из колонки с родом деятельности\n",
    "\n",
    "data['occupation'].value_counts()"
   ]
  },
  {
   "cell_type": "markdown",
   "metadata": {},
   "source": [
    "Последние четыре категории представлены всего несколькими записями, поэтому не позволят сделать обобщенных выводов относительно  представителей таких видов деятельности."
   ]
  },
  {
   "cell_type": "code",
   "execution_count": 32,
   "metadata": {
    "scrolled": false
   },
   "outputs": [
    {
     "data": {
      "text/html": [
       "<div>\n",
       "<style scoped>\n",
       "    .dataframe tbody tr th:only-of-type {\n",
       "        vertical-align: middle;\n",
       "    }\n",
       "\n",
       "    .dataframe tbody tr th {\n",
       "        vertical-align: top;\n",
       "    }\n",
       "\n",
       "    .dataframe thead th {\n",
       "        text-align: right;\n",
       "    }\n",
       "</style>\n",
       "<table border=\"1\" class=\"dataframe\">\n",
       "  <thead>\n",
       "    <tr style=\"text-align: right;\">\n",
       "      <th></th>\n",
       "      <th>children</th>\n",
       "      <th>children_grade</th>\n",
       "      <th>days_employed</th>\n",
       "      <th>client_age</th>\n",
       "      <th>education</th>\n",
       "      <th>education_id</th>\n",
       "      <th>family_status</th>\n",
       "      <th>family_status_id</th>\n",
       "      <th>gender</th>\n",
       "      <th>occupation</th>\n",
       "      <th>had_debt</th>\n",
       "      <th>total_income</th>\n",
       "      <th>purpose</th>\n",
       "    </tr>\n",
       "  </thead>\n",
       "  <tbody>\n",
       "    <tr>\n",
       "      <th>3132</th>\n",
       "      <td>1</td>\n",
       "      <td>семья с детьми</td>\n",
       "      <td>14063</td>\n",
       "      <td>31</td>\n",
       "      <td>среднее</td>\n",
       "      <td>0</td>\n",
       "      <td>женат / замужем</td>\n",
       "      <td>0</td>\n",
       "      <td>M</td>\n",
       "      <td>безработный</td>\n",
       "      <td>1</td>\n",
       "      <td>59956.991984</td>\n",
       "      <td>покупка жилья для сдачи</td>\n",
       "    </tr>\n",
       "    <tr>\n",
       "      <th>5931</th>\n",
       "      <td>0</td>\n",
       "      <td>бездетная семья</td>\n",
       "      <td>-1</td>\n",
       "      <td>58</td>\n",
       "      <td>высшее</td>\n",
       "      <td>1</td>\n",
       "      <td>женат / замужем</td>\n",
       "      <td>0</td>\n",
       "      <td>M</td>\n",
       "      <td>предприниматель</td>\n",
       "      <td>0</td>\n",
       "      <td>NaN</td>\n",
       "      <td>покупка жилой недвижимости</td>\n",
       "    </tr>\n",
       "    <tr>\n",
       "      <th>9399</th>\n",
       "      <td>0</td>\n",
       "      <td>бездетная семья</td>\n",
       "      <td>578</td>\n",
       "      <td>22</td>\n",
       "      <td>высшее</td>\n",
       "      <td>1</td>\n",
       "      <td>Не женат / не замужем</td>\n",
       "      <td>4</td>\n",
       "      <td>M</td>\n",
       "      <td>студент</td>\n",
       "      <td>0</td>\n",
       "      <td>98201.625314</td>\n",
       "      <td>строительство собственной недвижимости</td>\n",
       "    </tr>\n",
       "    <tr>\n",
       "      <th>14766</th>\n",
       "      <td>0</td>\n",
       "      <td>бездетная семья</td>\n",
       "      <td>16470</td>\n",
       "      <td>45</td>\n",
       "      <td>высшее</td>\n",
       "      <td>1</td>\n",
       "      <td>гражданский брак</td>\n",
       "      <td>1</td>\n",
       "      <td>F</td>\n",
       "      <td>безработный</td>\n",
       "      <td>0</td>\n",
       "      <td>202722.511368</td>\n",
       "      <td>ремонт жилью</td>\n",
       "    </tr>\n",
       "    <tr>\n",
       "      <th>18646</th>\n",
       "      <td>0</td>\n",
       "      <td>бездетная семья</td>\n",
       "      <td>520</td>\n",
       "      <td>27</td>\n",
       "      <td>высшее</td>\n",
       "      <td>1</td>\n",
       "      <td>гражданский брак</td>\n",
       "      <td>1</td>\n",
       "      <td>F</td>\n",
       "      <td>предприниматель</td>\n",
       "      <td>0</td>\n",
       "      <td>499163.144947</td>\n",
       "      <td>на проведение свадьбы</td>\n",
       "    </tr>\n",
       "    <tr>\n",
       "      <th>20777</th>\n",
       "      <td>2</td>\n",
       "      <td>семья с детьми</td>\n",
       "      <td>3296</td>\n",
       "      <td>39</td>\n",
       "      <td>среднее</td>\n",
       "      <td>0</td>\n",
       "      <td>женат / замужем</td>\n",
       "      <td>0</td>\n",
       "      <td>F</td>\n",
       "      <td>в декрете</td>\n",
       "      <td>1</td>\n",
       "      <td>53829.130729</td>\n",
       "      <td>автомобиль</td>\n",
       "    </tr>\n",
       "  </tbody>\n",
       "</table>\n",
       "</div>"
      ],
      "text/plain": [
       "       children   children_grade  days_employed  client_age education  \\\n",
       "3132          1   семья с детьми          14063          31   среднее   \n",
       "5931          0  бездетная семья             -1          58    высшее   \n",
       "9399          0  бездетная семья            578          22    высшее   \n",
       "14766         0  бездетная семья          16470          45    высшее   \n",
       "18646         0  бездетная семья            520          27    высшее   \n",
       "20777         2   семья с детьми           3296          39   среднее   \n",
       "\n",
       "       education_id          family_status  family_status_id gender  \\\n",
       "3132              0        женат / замужем                 0      M   \n",
       "5931              1        женат / замужем                 0      M   \n",
       "9399              1  Не женат / не замужем                 4      M   \n",
       "14766             1       гражданский брак                 1      F   \n",
       "18646             1       гражданский брак                 1      F   \n",
       "20777             0        женат / замужем                 0      F   \n",
       "\n",
       "            occupation  had_debt   total_income  \\\n",
       "3132       безработный         1   59956.991984   \n",
       "5931   предприниматель         0            NaN   \n",
       "9399           студент         0   98201.625314   \n",
       "14766      безработный         0  202722.511368   \n",
       "18646  предприниматель         0  499163.144947   \n",
       "20777        в декрете         1   53829.130729   \n",
       "\n",
       "                                      purpose  \n",
       "3132                  покупка жилья для сдачи  \n",
       "5931               покупка жилой недвижимости  \n",
       "9399   строительство собственной недвижимости  \n",
       "14766                            ремонт жилью  \n",
       "18646                   на проведение свадьбы  \n",
       "20777                              автомобиль  "
      ]
     },
     "execution_count": 32,
     "metadata": {},
     "output_type": "execute_result"
    }
   ],
   "source": [
    "data[(data['occupation']!='сотрудник') &\n",
    "     (data['occupation']!='компаньон') &\n",
    "     (data['occupation']!='пенсионер') &\n",
    "     (data['occupation']!='госслужащий')\n",
    "    ]"
   ]
  },
  {
   "cell_type": "markdown",
   "metadata": {},
   "source": [
    "Однако, в строках содержатся другие, не менее ценные для исследования данные, поэтому избавляться от них также как и в случае с полом не стоит."
   ]
  },
  {
   "cell_type": "markdown",
   "metadata": {},
   "source": [
    "#### Наличие задолженностей по кредиту `had_debt`"
   ]
  },
  {
   "cell_type": "code",
   "execution_count": 33,
   "metadata": {},
   "outputs": [
    {
     "data": {
      "text/plain": [
       "0    19712\n",
       "1     1741\n",
       "Name: had_debt, dtype: int64"
      ]
     },
     "execution_count": 33,
     "metadata": {},
     "output_type": "execute_result"
    }
   ],
   "source": [
    "# вывод уникальных значений из колонки с фактом имеющихся задолженностей по кредиту\n",
    "\n",
    "data['had_debt'].value_counts()"
   ]
  },
  {
   "cell_type": "markdown",
   "metadata": {},
   "source": [
    "Столбец с целевой переменной не содержит пропусков. Однако этому столбцу больше подходит булевый тип переменной."
   ]
  },
  {
   "cell_type": "code",
   "execution_count": 34,
   "metadata": {},
   "outputs": [],
   "source": [
    "# приведенеие всех значений к булеву типу\n",
    "\n",
    "data['had_debt'] = data['had_debt'].astype('bool')"
   ]
  },
  {
   "cell_type": "markdown",
   "metadata": {},
   "source": [
    "#### Ежемесячный доход `total_income`"
   ]
  },
  {
   "cell_type": "markdown",
   "metadata": {},
   "source": [
    "Возвращаясь к обзору датафрейма, нужно вспомнить, что в столбце с доходом пользователей отсутствовали некоторые значения. Получим их количество:"
   ]
  },
  {
   "cell_type": "code",
   "execution_count": 35,
   "metadata": {},
   "outputs": [
    {
     "data": {
      "text/plain": [
       "2102"
      ]
     },
     "execution_count": 35,
     "metadata": {},
     "output_type": "execute_result"
    }
   ],
   "source": [
    "# вывод количества NaN в колонке\n",
    "\n",
    "data['total_income'].isna().sum()"
   ]
  },
  {
   "cell_type": "markdown",
   "metadata": {},
   "source": [
    "Восстановим пропуски медианным значением по сочетанию категорий `client_age` и `gender`. К сожалению, именно по гендерному и возрастному признакам доход клиентов отличается сильнее всего."
   ]
  },
  {
   "cell_type": "code",
   "execution_count": 36,
   "metadata": {
    "scrolled": true
   },
   "outputs": [
    {
     "data": {
      "text/html": [
       "<div>\n",
       "<style scoped>\n",
       "    .dataframe tbody tr th:only-of-type {\n",
       "        vertical-align: middle;\n",
       "    }\n",
       "\n",
       "    .dataframe tbody tr th {\n",
       "        vertical-align: top;\n",
       "    }\n",
       "\n",
       "    .dataframe thead th {\n",
       "        text-align: right;\n",
       "    }\n",
       "</style>\n",
       "<table border=\"1\" class=\"dataframe\">\n",
       "  <thead>\n",
       "    <tr style=\"text-align: right;\">\n",
       "      <th>gender</th>\n",
       "      <th>F</th>\n",
       "      <th>M</th>\n",
       "      <th>difference_percent</th>\n",
       "    </tr>\n",
       "    <tr>\n",
       "      <th>client_age</th>\n",
       "      <th></th>\n",
       "      <th></th>\n",
       "      <th></th>\n",
       "    </tr>\n",
       "  </thead>\n",
       "  <tbody>\n",
       "    <tr>\n",
       "      <th>2</th>\n",
       "      <td>101512.989536</td>\n",
       "      <td>134750.749515</td>\n",
       "      <td>-32.742371</td>\n",
       "    </tr>\n",
       "    <tr>\n",
       "      <th>19</th>\n",
       "      <td>112217.756662</td>\n",
       "      <td>91876.754772</td>\n",
       "      <td>18.126367</td>\n",
       "    </tr>\n",
       "    <tr>\n",
       "      <th>21</th>\n",
       "      <td>112778.853259</td>\n",
       "      <td>147812.788085</td>\n",
       "      <td>-31.064277</td>\n",
       "    </tr>\n",
       "    <tr>\n",
       "      <th>22</th>\n",
       "      <td>111633.034748</td>\n",
       "      <td>158258.854591</td>\n",
       "      <td>-41.767045</td>\n",
       "    </tr>\n",
       "    <tr>\n",
       "      <th>23</th>\n",
       "      <td>117755.877467</td>\n",
       "      <td>137544.158776</td>\n",
       "      <td>-16.804496</td>\n",
       "    </tr>\n",
       "    <tr>\n",
       "      <th>24</th>\n",
       "      <td>122938.149557</td>\n",
       "      <td>153115.076039</td>\n",
       "      <td>-24.546430</td>\n",
       "    </tr>\n",
       "    <tr>\n",
       "      <th>25</th>\n",
       "      <td>131764.441672</td>\n",
       "      <td>161883.762815</td>\n",
       "      <td>-22.858459</td>\n",
       "    </tr>\n",
       "    <tr>\n",
       "      <th>26</th>\n",
       "      <td>132408.440852</td>\n",
       "      <td>165998.158511</td>\n",
       "      <td>-25.368260</td>\n",
       "    </tr>\n",
       "    <tr>\n",
       "      <th>27</th>\n",
       "      <td>142601.204718</td>\n",
       "      <td>170124.764755</td>\n",
       "      <td>-19.301071</td>\n",
       "    </tr>\n",
       "    <tr>\n",
       "      <th>28</th>\n",
       "      <td>124634.217107</td>\n",
       "      <td>168923.070637</td>\n",
       "      <td>-35.535068</td>\n",
       "    </tr>\n",
       "    <tr>\n",
       "      <th>29</th>\n",
       "      <td>130785.975836</td>\n",
       "      <td>178287.259247</td>\n",
       "      <td>-36.319860</td>\n",
       "    </tr>\n",
       "    <tr>\n",
       "      <th>30</th>\n",
       "      <td>144278.566350</td>\n",
       "      <td>162049.930006</td>\n",
       "      <td>-12.317397</td>\n",
       "    </tr>\n",
       "    <tr>\n",
       "      <th>31</th>\n",
       "      <td>136319.471185</td>\n",
       "      <td>166538.956087</td>\n",
       "      <td>-22.168135</td>\n",
       "    </tr>\n",
       "    <tr>\n",
       "      <th>32</th>\n",
       "      <td>132162.260689</td>\n",
       "      <td>179092.570424</td>\n",
       "      <td>-35.509615</td>\n",
       "    </tr>\n",
       "    <tr>\n",
       "      <th>33</th>\n",
       "      <td>145159.056159</td>\n",
       "      <td>187462.450139</td>\n",
       "      <td>-29.142787</td>\n",
       "    </tr>\n",
       "    <tr>\n",
       "      <th>34</th>\n",
       "      <td>138482.954618</td>\n",
       "      <td>178268.907126</td>\n",
       "      <td>-28.729855</td>\n",
       "    </tr>\n",
       "    <tr>\n",
       "      <th>35</th>\n",
       "      <td>143362.571100</td>\n",
       "      <td>166031.086381</td>\n",
       "      <td>-15.812018</td>\n",
       "    </tr>\n",
       "    <tr>\n",
       "      <th>36</th>\n",
       "      <td>145969.960775</td>\n",
       "      <td>177798.922916</td>\n",
       "      <td>-21.805145</td>\n",
       "    </tr>\n",
       "    <tr>\n",
       "      <th>37</th>\n",
       "      <td>142884.999736</td>\n",
       "      <td>182866.307925</td>\n",
       "      <td>-27.981459</td>\n",
       "    </tr>\n",
       "    <tr>\n",
       "      <th>38</th>\n",
       "      <td>134065.535773</td>\n",
       "      <td>181429.748950</td>\n",
       "      <td>-35.329149</td>\n",
       "    </tr>\n",
       "    <tr>\n",
       "      <th>39</th>\n",
       "      <td>141088.907278</td>\n",
       "      <td>174144.662759</td>\n",
       "      <td>-23.429025</td>\n",
       "    </tr>\n",
       "    <tr>\n",
       "      <th>40</th>\n",
       "      <td>143291.760057</td>\n",
       "      <td>175011.493984</td>\n",
       "      <td>-22.136468</td>\n",
       "    </tr>\n",
       "    <tr>\n",
       "      <th>41</th>\n",
       "      <td>133885.228243</td>\n",
       "      <td>171678.035103</td>\n",
       "      <td>-28.227764</td>\n",
       "    </tr>\n",
       "    <tr>\n",
       "      <th>42</th>\n",
       "      <td>136789.718171</td>\n",
       "      <td>194077.953616</td>\n",
       "      <td>-41.880513</td>\n",
       "    </tr>\n",
       "    <tr>\n",
       "      <th>43</th>\n",
       "      <td>142855.308759</td>\n",
       "      <td>166871.473138</td>\n",
       "      <td>-16.811531</td>\n",
       "    </tr>\n",
       "    <tr>\n",
       "      <th>44</th>\n",
       "      <td>144530.140907</td>\n",
       "      <td>172979.891379</td>\n",
       "      <td>-19.684303</td>\n",
       "    </tr>\n",
       "    <tr>\n",
       "      <th>45</th>\n",
       "      <td>142569.028378</td>\n",
       "      <td>176704.455638</td>\n",
       "      <td>-23.943088</td>\n",
       "    </tr>\n",
       "    <tr>\n",
       "      <th>46</th>\n",
       "      <td>147801.380127</td>\n",
       "      <td>174889.370550</td>\n",
       "      <td>-18.327292</td>\n",
       "    </tr>\n",
       "    <tr>\n",
       "      <th>47</th>\n",
       "      <td>141684.187232</td>\n",
       "      <td>176544.425811</td>\n",
       "      <td>-24.604184</td>\n",
       "    </tr>\n",
       "    <tr>\n",
       "      <th>48</th>\n",
       "      <td>145126.500321</td>\n",
       "      <td>180693.569861</td>\n",
       "      <td>-24.507633</td>\n",
       "    </tr>\n",
       "    <tr>\n",
       "      <th>49</th>\n",
       "      <td>138027.456657</td>\n",
       "      <td>188417.085709</td>\n",
       "      <td>-36.506960</td>\n",
       "    </tr>\n",
       "    <tr>\n",
       "      <th>50</th>\n",
       "      <td>129289.732150</td>\n",
       "      <td>170271.835895</td>\n",
       "      <td>-31.697880</td>\n",
       "    </tr>\n",
       "    <tr>\n",
       "      <th>51</th>\n",
       "      <td>137722.596103</td>\n",
       "      <td>166716.783971</td>\n",
       "      <td>-21.052600</td>\n",
       "    </tr>\n",
       "    <tr>\n",
       "      <th>52</th>\n",
       "      <td>139863.800573</td>\n",
       "      <td>151156.926187</td>\n",
       "      <td>-8.074373</td>\n",
       "    </tr>\n",
       "    <tr>\n",
       "      <th>53</th>\n",
       "      <td>135265.945136</td>\n",
       "      <td>165481.252629</td>\n",
       "      <td>-22.337705</td>\n",
       "    </tr>\n",
       "    <tr>\n",
       "      <th>54</th>\n",
       "      <td>128194.490642</td>\n",
       "      <td>159335.182709</td>\n",
       "      <td>-24.291755</td>\n",
       "    </tr>\n",
       "    <tr>\n",
       "      <th>55</th>\n",
       "      <td>126804.988915</td>\n",
       "      <td>152595.688030</td>\n",
       "      <td>-20.338868</td>\n",
       "    </tr>\n",
       "    <tr>\n",
       "      <th>56</th>\n",
       "      <td>127947.130141</td>\n",
       "      <td>161771.554486</td>\n",
       "      <td>-26.436251</td>\n",
       "    </tr>\n",
       "    <tr>\n",
       "      <th>57</th>\n",
       "      <td>134096.740748</td>\n",
       "      <td>165432.049780</td>\n",
       "      <td>-23.367689</td>\n",
       "    </tr>\n",
       "    <tr>\n",
       "      <th>58</th>\n",
       "      <td>124666.941017</td>\n",
       "      <td>162450.757900</td>\n",
       "      <td>-30.307808</td>\n",
       "    </tr>\n",
       "    <tr>\n",
       "      <th>59</th>\n",
       "      <td>127840.501994</td>\n",
       "      <td>157583.115164</td>\n",
       "      <td>-23.265407</td>\n",
       "    </tr>\n",
       "    <tr>\n",
       "      <th>60</th>\n",
       "      <td>119893.074697</td>\n",
       "      <td>153884.805033</td>\n",
       "      <td>-28.351705</td>\n",
       "    </tr>\n",
       "    <tr>\n",
       "      <th>61</th>\n",
       "      <td>121784.145103</td>\n",
       "      <td>156290.474852</td>\n",
       "      <td>-28.334008</td>\n",
       "    </tr>\n",
       "    <tr>\n",
       "      <th>62</th>\n",
       "      <td>132382.911657</td>\n",
       "      <td>132769.085838</td>\n",
       "      <td>-0.291710</td>\n",
       "    </tr>\n",
       "    <tr>\n",
       "      <th>63</th>\n",
       "      <td>125190.918195</td>\n",
       "      <td>117339.352662</td>\n",
       "      <td>6.271673</td>\n",
       "    </tr>\n",
       "    <tr>\n",
       "      <th>64</th>\n",
       "      <td>131790.507138</td>\n",
       "      <td>164003.047431</td>\n",
       "      <td>-24.442231</td>\n",
       "    </tr>\n",
       "    <tr>\n",
       "      <th>65</th>\n",
       "      <td>122165.093982</td>\n",
       "      <td>123529.192472</td>\n",
       "      <td>-1.116602</td>\n",
       "    </tr>\n",
       "    <tr>\n",
       "      <th>66</th>\n",
       "      <td>115625.299396</td>\n",
       "      <td>108926.657200</td>\n",
       "      <td>5.793405</td>\n",
       "    </tr>\n",
       "    <tr>\n",
       "      <th>67</th>\n",
       "      <td>105743.396347</td>\n",
       "      <td>139459.454667</td>\n",
       "      <td>-31.884789</td>\n",
       "    </tr>\n",
       "    <tr>\n",
       "      <th>68</th>\n",
       "      <td>100967.132052</td>\n",
       "      <td>124236.174894</td>\n",
       "      <td>-23.046156</td>\n",
       "    </tr>\n",
       "    <tr>\n",
       "      <th>69</th>\n",
       "      <td>101970.245624</td>\n",
       "      <td>112173.449051</td>\n",
       "      <td>-10.006059</td>\n",
       "    </tr>\n",
       "    <tr>\n",
       "      <th>70</th>\n",
       "      <td>109249.173077</td>\n",
       "      <td>135668.931586</td>\n",
       "      <td>-24.183028</td>\n",
       "    </tr>\n",
       "    <tr>\n",
       "      <th>71</th>\n",
       "      <td>114510.462596</td>\n",
       "      <td>137297.151772</td>\n",
       "      <td>-19.899220</td>\n",
       "    </tr>\n",
       "    <tr>\n",
       "      <th>72</th>\n",
       "      <td>110985.525593</td>\n",
       "      <td>114142.039967</td>\n",
       "      <td>-2.844078</td>\n",
       "    </tr>\n",
       "    <tr>\n",
       "      <th>73</th>\n",
       "      <td>119190.487878</td>\n",
       "      <td>NaN</td>\n",
       "      <td>NaN</td>\n",
       "    </tr>\n",
       "    <tr>\n",
       "      <th>74</th>\n",
       "      <td>72017.726298</td>\n",
       "      <td>89792.412577</td>\n",
       "      <td>-24.680988</td>\n",
       "    </tr>\n",
       "    <tr>\n",
       "      <th>75</th>\n",
       "      <td>153282.648133</td>\n",
       "      <td>NaN</td>\n",
       "      <td>NaN</td>\n",
       "    </tr>\n",
       "  </tbody>\n",
       "</table>\n",
       "</div>"
      ],
      "text/plain": [
       "gender                  F              M  difference_percent\n",
       "client_age                                                  \n",
       "2           101512.989536  134750.749515          -32.742371\n",
       "19          112217.756662   91876.754772           18.126367\n",
       "21          112778.853259  147812.788085          -31.064277\n",
       "22          111633.034748  158258.854591          -41.767045\n",
       "23          117755.877467  137544.158776          -16.804496\n",
       "24          122938.149557  153115.076039          -24.546430\n",
       "25          131764.441672  161883.762815          -22.858459\n",
       "26          132408.440852  165998.158511          -25.368260\n",
       "27          142601.204718  170124.764755          -19.301071\n",
       "28          124634.217107  168923.070637          -35.535068\n",
       "29          130785.975836  178287.259247          -36.319860\n",
       "30          144278.566350  162049.930006          -12.317397\n",
       "31          136319.471185  166538.956087          -22.168135\n",
       "32          132162.260689  179092.570424          -35.509615\n",
       "33          145159.056159  187462.450139          -29.142787\n",
       "34          138482.954618  178268.907126          -28.729855\n",
       "35          143362.571100  166031.086381          -15.812018\n",
       "36          145969.960775  177798.922916          -21.805145\n",
       "37          142884.999736  182866.307925          -27.981459\n",
       "38          134065.535773  181429.748950          -35.329149\n",
       "39          141088.907278  174144.662759          -23.429025\n",
       "40          143291.760057  175011.493984          -22.136468\n",
       "41          133885.228243  171678.035103          -28.227764\n",
       "42          136789.718171  194077.953616          -41.880513\n",
       "43          142855.308759  166871.473138          -16.811531\n",
       "44          144530.140907  172979.891379          -19.684303\n",
       "45          142569.028378  176704.455638          -23.943088\n",
       "46          147801.380127  174889.370550          -18.327292\n",
       "47          141684.187232  176544.425811          -24.604184\n",
       "48          145126.500321  180693.569861          -24.507633\n",
       "49          138027.456657  188417.085709          -36.506960\n",
       "50          129289.732150  170271.835895          -31.697880\n",
       "51          137722.596103  166716.783971          -21.052600\n",
       "52          139863.800573  151156.926187           -8.074373\n",
       "53          135265.945136  165481.252629          -22.337705\n",
       "54          128194.490642  159335.182709          -24.291755\n",
       "55          126804.988915  152595.688030          -20.338868\n",
       "56          127947.130141  161771.554486          -26.436251\n",
       "57          134096.740748  165432.049780          -23.367689\n",
       "58          124666.941017  162450.757900          -30.307808\n",
       "59          127840.501994  157583.115164          -23.265407\n",
       "60          119893.074697  153884.805033          -28.351705\n",
       "61          121784.145103  156290.474852          -28.334008\n",
       "62          132382.911657  132769.085838           -0.291710\n",
       "63          125190.918195  117339.352662            6.271673\n",
       "64          131790.507138  164003.047431          -24.442231\n",
       "65          122165.093982  123529.192472           -1.116602\n",
       "66          115625.299396  108926.657200            5.793405\n",
       "67          105743.396347  139459.454667          -31.884789\n",
       "68          100967.132052  124236.174894          -23.046156\n",
       "69          101970.245624  112173.449051          -10.006059\n",
       "70          109249.173077  135668.931586          -24.183028\n",
       "71          114510.462596  137297.151772          -19.899220\n",
       "72          110985.525593  114142.039967           -2.844078\n",
       "73          119190.487878            NaN                 NaN\n",
       "74           72017.726298   89792.412577          -24.680988\n",
       "75          153282.648133            NaN                 NaN"
      ]
     },
     "execution_count": 36,
     "metadata": {},
     "output_type": "execute_result"
    }
   ],
   "source": [
    "# создание сводной таблицы сопоставления доходов мужчин и женщин разных возрастов\n",
    "age_gender_pivot = data.pivot_table(index='client_age', columns='gender', values='total_income', aggfunc='median')\n",
    "\n",
    "# добавление к сводной таблице столбца с процентной разницей между доходами мужчин и женщин\n",
    "age_gender_pivot['difference_percent'] = 100*(age_gender_pivot['F'] - age_gender_pivot['M']) / age_gender_pivot['F']\n",
    "\n",
    "# вывод сводной таблицы\n",
    "age_gender_pivot[['F', 'M', 'difference_percent']]"
   ]
  },
  {
   "cell_type": "markdown",
   "metadata": {},
   "source": [
    "Напишем функцию, заполняющую отсутствующие значения медианным для обобщенной по полу и возрасту категории."
   ]
  },
  {
   "cell_type": "code",
   "execution_count": 37,
   "metadata": {},
   "outputs": [],
   "source": [
    "# создание функции\n",
    "\n",
    "def func(row):\n",
    "    if math.isnan(row['total_income']):                                  # если значение является NaN\n",
    "        return age_gender_pivot.loc[row['client_age'], row['gender']]    #   вернуть значение из сводной таблицы для указанного пола и возраста\n",
    "    else:                                                                # иначе\n",
    "        return row['total_income']                                       #   вернуть то же значение"
   ]
  },
  {
   "cell_type": "code",
   "execution_count": 38,
   "metadata": {},
   "outputs": [],
   "source": [
    "# применение функции к датафрейму и приведение всех значений к типу int\n",
    "\n",
    "data['total_income'] = data.apply(func, axis=1).astype('int')"
   ]
  },
  {
   "cell_type": "markdown",
   "metadata": {},
   "source": [
    "Разделим всех пользователей на три условных группы по уровню дохода:\n",
    "* Низкий доход (low_income)\n",
    "* Средний доход (medium_income)\n",
    "* Высокий доход (high_income)\n",
    "\n",
    "В первую группу войдут клиенты, чей доход находится в первом квартиле распределения значений в столбце `total_income`. В третью - четвертый квартиль. Все остальные пользователи войдут в группу `medium_income`. Благодаря такому распределению размеры групп будут иметь один порядок, а средний доход будет иметь половина клиентов банка."
   ]
  },
  {
   "cell_type": "code",
   "execution_count": 39,
   "metadata": {
    "scrolled": true
   },
   "outputs": [],
   "source": [
    "# написание функции разделения клиентов на группы по уровню дохода\n",
    "\n",
    "def income_grader(value):\n",
    "    if value < data['total_income'].quantile(0.25):\n",
    "        return 'Низкий доход'\n",
    "    elif value > data['total_income'].quantile(0.75):\n",
    "        return 'Высокий доход'\n",
    "    else:\n",
    "        return 'Средний доход'"
   ]
  },
  {
   "cell_type": "code",
   "execution_count": 40,
   "metadata": {},
   "outputs": [],
   "source": [
    "# создание нового столбца в положении 11 и заполнение его категориями в соответствии с написанной функцией\n",
    "\n",
    "data.insert(11, 'income_grade', value=data['total_income'].apply(income_grader)) "
   ]
  },
  {
   "cell_type": "code",
   "execution_count": 41,
   "metadata": {},
   "outputs": [
    {
     "data": {
      "text/html": [
       "<div>\n",
       "<style scoped>\n",
       "    .dataframe tbody tr th:only-of-type {\n",
       "        vertical-align: middle;\n",
       "    }\n",
       "\n",
       "    .dataframe tbody tr th {\n",
       "        vertical-align: top;\n",
       "    }\n",
       "\n",
       "    .dataframe thead th {\n",
       "        text-align: right;\n",
       "    }\n",
       "</style>\n",
       "<table border=\"1\" class=\"dataframe\">\n",
       "  <thead>\n",
       "    <tr style=\"text-align: right;\">\n",
       "      <th></th>\n",
       "      <th>children</th>\n",
       "      <th>children_grade</th>\n",
       "      <th>days_employed</th>\n",
       "      <th>client_age</th>\n",
       "      <th>education</th>\n",
       "      <th>education_id</th>\n",
       "      <th>family_status</th>\n",
       "      <th>family_status_id</th>\n",
       "      <th>gender</th>\n",
       "      <th>occupation</th>\n",
       "      <th>had_debt</th>\n",
       "      <th>income_grade</th>\n",
       "      <th>total_income</th>\n",
       "      <th>purpose</th>\n",
       "    </tr>\n",
       "  </thead>\n",
       "  <tbody>\n",
       "    <tr>\n",
       "      <th>0</th>\n",
       "      <td>1</td>\n",
       "      <td>семья с детьми</td>\n",
       "      <td>8437</td>\n",
       "      <td>42</td>\n",
       "      <td>высшее</td>\n",
       "      <td>1</td>\n",
       "      <td>женат / замужем</td>\n",
       "      <td>0</td>\n",
       "      <td>F</td>\n",
       "      <td>сотрудник</td>\n",
       "      <td>False</td>\n",
       "      <td>Высокий доход</td>\n",
       "      <td>253875</td>\n",
       "      <td>покупка жилья</td>\n",
       "    </tr>\n",
       "    <tr>\n",
       "      <th>1</th>\n",
       "      <td>1</td>\n",
       "      <td>семья с детьми</td>\n",
       "      <td>4024</td>\n",
       "      <td>36</td>\n",
       "      <td>среднее</td>\n",
       "      <td>0</td>\n",
       "      <td>женат / замужем</td>\n",
       "      <td>0</td>\n",
       "      <td>F</td>\n",
       "      <td>сотрудник</td>\n",
       "      <td>False</td>\n",
       "      <td>Средний доход</td>\n",
       "      <td>112080</td>\n",
       "      <td>приобретение автомобиля</td>\n",
       "    </tr>\n",
       "    <tr>\n",
       "      <th>2</th>\n",
       "      <td>0</td>\n",
       "      <td>бездетная семья</td>\n",
       "      <td>5623</td>\n",
       "      <td>33</td>\n",
       "      <td>среднее</td>\n",
       "      <td>0</td>\n",
       "      <td>женат / замужем</td>\n",
       "      <td>0</td>\n",
       "      <td>M</td>\n",
       "      <td>сотрудник</td>\n",
       "      <td>False</td>\n",
       "      <td>Средний доход</td>\n",
       "      <td>145885</td>\n",
       "      <td>покупка жилья</td>\n",
       "    </tr>\n",
       "    <tr>\n",
       "      <th>3</th>\n",
       "      <td>3</td>\n",
       "      <td>многодетная семья</td>\n",
       "      <td>4124</td>\n",
       "      <td>32</td>\n",
       "      <td>среднее</td>\n",
       "      <td>0</td>\n",
       "      <td>женат / замужем</td>\n",
       "      <td>0</td>\n",
       "      <td>M</td>\n",
       "      <td>сотрудник</td>\n",
       "      <td>False</td>\n",
       "      <td>Высокий доход</td>\n",
       "      <td>267628</td>\n",
       "      <td>дополнительное образование</td>\n",
       "    </tr>\n",
       "    <tr>\n",
       "      <th>4</th>\n",
       "      <td>0</td>\n",
       "      <td>бездетная семья</td>\n",
       "      <td>14177</td>\n",
       "      <td>53</td>\n",
       "      <td>среднее</td>\n",
       "      <td>0</td>\n",
       "      <td>гражданский брак</td>\n",
       "      <td>1</td>\n",
       "      <td>F</td>\n",
       "      <td>пенсионер</td>\n",
       "      <td>False</td>\n",
       "      <td>Средний доход</td>\n",
       "      <td>158616</td>\n",
       "      <td>сыграть свадьбу</td>\n",
       "    </tr>\n",
       "  </tbody>\n",
       "</table>\n",
       "</div>"
      ],
      "text/plain": [
       "   children     children_grade  days_employed  client_age education  \\\n",
       "0         1     семья с детьми           8437          42    высшее   \n",
       "1         1     семья с детьми           4024          36   среднее   \n",
       "2         0    бездетная семья           5623          33   среднее   \n",
       "3         3  многодетная семья           4124          32   среднее   \n",
       "4         0    бездетная семья          14177          53   среднее   \n",
       "\n",
       "   education_id     family_status  family_status_id gender occupation  \\\n",
       "0             1   женат / замужем                 0      F  сотрудник   \n",
       "1             0   женат / замужем                 0      F  сотрудник   \n",
       "2             0   женат / замужем                 0      M  сотрудник   \n",
       "3             0   женат / замужем                 0      M  сотрудник   \n",
       "4             0  гражданский брак                 1      F  пенсионер   \n",
       "\n",
       "   had_debt   income_grade  total_income                     purpose  \n",
       "0     False  Высокий доход        253875               покупка жилья  \n",
       "1     False  Средний доход        112080     приобретение автомобиля  \n",
       "2     False  Средний доход        145885               покупка жилья  \n",
       "3     False  Высокий доход        267628  дополнительное образование  \n",
       "4     False  Средний доход        158616             сыграть свадьбу  "
      ]
     },
     "execution_count": 41,
     "metadata": {},
     "output_type": "execute_result"
    }
   ],
   "source": [
    "# вывод первых пяти строк датафрейма\n",
    "\n",
    "data.head(5)"
   ]
  },
  {
   "cell_type": "code",
   "execution_count": 42,
   "metadata": {},
   "outputs": [
    {
     "data": {
      "text/html": [
       "<div>\n",
       "<style scoped>\n",
       "    .dataframe tbody tr th:only-of-type {\n",
       "        vertical-align: middle;\n",
       "    }\n",
       "\n",
       "    .dataframe tbody tr th {\n",
       "        vertical-align: top;\n",
       "    }\n",
       "\n",
       "    .dataframe thead th {\n",
       "        text-align: right;\n",
       "    }\n",
       "</style>\n",
       "<table border=\"1\" class=\"dataframe\">\n",
       "  <thead>\n",
       "    <tr style=\"text-align: right;\">\n",
       "      <th></th>\n",
       "      <th>children</th>\n",
       "      <th>days_employed</th>\n",
       "      <th>client_age</th>\n",
       "      <th>education_id</th>\n",
       "      <th>family_status_id</th>\n",
       "      <th>total_income</th>\n",
       "    </tr>\n",
       "  </thead>\n",
       "  <tbody>\n",
       "    <tr>\n",
       "      <th>count</th>\n",
       "      <td>21453.000000</td>\n",
       "      <td>21453.000000</td>\n",
       "      <td>21453.000000</td>\n",
       "      <td>21453.000000</td>\n",
       "      <td>21453.000000</td>\n",
       "      <td>2.145300e+04</td>\n",
       "    </tr>\n",
       "    <tr>\n",
       "      <th>mean</th>\n",
       "      <td>0.478395</td>\n",
       "      <td>4186.297254</td>\n",
       "      <td>43.428705</td>\n",
       "      <td>0.245001</td>\n",
       "      <td>0.973896</td>\n",
       "      <td>1.652416e+05</td>\n",
       "    </tr>\n",
       "    <tr>\n",
       "      <th>std</th>\n",
       "      <td>0.756020</td>\n",
       "      <td>5270.688047</td>\n",
       "      <td>12.330976</td>\n",
       "      <td>0.430098</td>\n",
       "      <td>1.421601</td>\n",
       "      <td>9.821082e+04</td>\n",
       "    </tr>\n",
       "    <tr>\n",
       "      <th>min</th>\n",
       "      <td>0.000000</td>\n",
       "      <td>-1.000000</td>\n",
       "      <td>2.000000</td>\n",
       "      <td>0.000000</td>\n",
       "      <td>0.000000</td>\n",
       "      <td>2.066700e+04</td>\n",
       "    </tr>\n",
       "    <tr>\n",
       "      <th>25%</th>\n",
       "      <td>0.000000</td>\n",
       "      <td>622.000000</td>\n",
       "      <td>33.000000</td>\n",
       "      <td>0.000000</td>\n",
       "      <td>0.000000</td>\n",
       "      <td>1.073100e+05</td>\n",
       "    </tr>\n",
       "    <tr>\n",
       "      <th>50%</th>\n",
       "      <td>0.000000</td>\n",
       "      <td>1822.000000</td>\n",
       "      <td>43.000000</td>\n",
       "      <td>0.000000</td>\n",
       "      <td>0.000000</td>\n",
       "      <td>1.433620e+05</td>\n",
       "    </tr>\n",
       "    <tr>\n",
       "      <th>75%</th>\n",
       "      <td>1.000000</td>\n",
       "      <td>4797.000000</td>\n",
       "      <td>53.000000</td>\n",
       "      <td>0.000000</td>\n",
       "      <td>1.000000</td>\n",
       "      <td>1.958180e+05</td>\n",
       "    </tr>\n",
       "    <tr>\n",
       "      <th>max</th>\n",
       "      <td>5.000000</td>\n",
       "      <td>18388.000000</td>\n",
       "      <td>75.000000</td>\n",
       "      <td>1.000000</td>\n",
       "      <td>4.000000</td>\n",
       "      <td>2.265604e+06</td>\n",
       "    </tr>\n",
       "  </tbody>\n",
       "</table>\n",
       "</div>"
      ],
      "text/plain": [
       "           children  days_employed    client_age  education_id  \\\n",
       "count  21453.000000   21453.000000  21453.000000  21453.000000   \n",
       "mean       0.478395    4186.297254     43.428705      0.245001   \n",
       "std        0.756020    5270.688047     12.330976      0.430098   \n",
       "min        0.000000      -1.000000      2.000000      0.000000   \n",
       "25%        0.000000     622.000000     33.000000      0.000000   \n",
       "50%        0.000000    1822.000000     43.000000      0.000000   \n",
       "75%        1.000000    4797.000000     53.000000      0.000000   \n",
       "max        5.000000   18388.000000     75.000000      1.000000   \n",
       "\n",
       "       family_status_id  total_income  \n",
       "count      21453.000000  2.145300e+04  \n",
       "mean           0.973896  1.652416e+05  \n",
       "std            1.421601  9.821082e+04  \n",
       "min            0.000000  2.066700e+04  \n",
       "25%            0.000000  1.073100e+05  \n",
       "50%            0.000000  1.433620e+05  \n",
       "75%            1.000000  1.958180e+05  \n",
       "max            4.000000  2.265604e+06  "
      ]
     },
     "execution_count": 42,
     "metadata": {},
     "output_type": "execute_result"
    }
   ],
   "source": [
    "# вывод сводной информации о датасете\n",
    "\n",
    "data.describe()"
   ]
  },
  {
   "cell_type": "markdown",
   "metadata": {},
   "source": [
    "**Вывод**\n",
    "\n",
    "Данные приведены в порядок. Дубликаты удалены, некорректные данные заменены корректными в соответствии с выдвинутыми гипотезами, исправлены типы данных."
   ]
  },
  {
   "cell_type": "markdown",
   "metadata": {},
   "source": [
    "### Лемматизация"
   ]
  },
  {
   "cell_type": "markdown",
   "metadata": {},
   "source": [
    "В колонке `purpose` в достаточно свободной форме описана цель, с которой клиент брал кредит в банке. Чтобы иметь возможность сравнить цели пользователей, формулировки необходимо лемматизировать."
   ]
  },
  {
   "cell_type": "code",
   "execution_count": 43,
   "metadata": {
    "scrolled": false
   },
   "outputs": [],
   "source": [
    "# написание функции, разделяющей словосочетания на леммы\n",
    "\n",
    "m = Mystem()                         # вызов экземпляра класса Mystem()\n",
    "def lemmatized(value):               # объявление функции\n",
    "    lst = list(m.lemmatize(value))   # создание списка из лемм, обнаруженных в ячейке\n",
    "    while ' ' in lst:                # удаление из списка пустых строк\n",
    "        lst.remove(' ')              # -//-\n",
    "    lst.remove('\\n')                 # удаление из списка символов переноса строки\n",
    "    return lst                       # возвращение очищенного списка"
   ]
  },
  {
   "cell_type": "code",
   "execution_count": 44,
   "metadata": {
    "scrolled": true
   },
   "outputs": [],
   "source": [
    "# применение написанной функции к новому столбцу 'purpose_lemmas'\n",
    "\n",
    "data['purpose_lemmas'] = data['purpose'].apply(lemmatized)"
   ]
  },
  {
   "cell_type": "code",
   "execution_count": 45,
   "metadata": {},
   "outputs": [
    {
     "data": {
      "text/html": [
       "<div>\n",
       "<style scoped>\n",
       "    .dataframe tbody tr th:only-of-type {\n",
       "        vertical-align: middle;\n",
       "    }\n",
       "\n",
       "    .dataframe tbody tr th {\n",
       "        vertical-align: top;\n",
       "    }\n",
       "\n",
       "    .dataframe thead th {\n",
       "        text-align: right;\n",
       "    }\n",
       "</style>\n",
       "<table border=\"1\" class=\"dataframe\">\n",
       "  <thead>\n",
       "    <tr style=\"text-align: right;\">\n",
       "      <th></th>\n",
       "      <th>children</th>\n",
       "      <th>children_grade</th>\n",
       "      <th>days_employed</th>\n",
       "      <th>client_age</th>\n",
       "      <th>education</th>\n",
       "      <th>education_id</th>\n",
       "      <th>family_status</th>\n",
       "      <th>family_status_id</th>\n",
       "      <th>gender</th>\n",
       "      <th>occupation</th>\n",
       "      <th>had_debt</th>\n",
       "      <th>income_grade</th>\n",
       "      <th>total_income</th>\n",
       "      <th>purpose</th>\n",
       "      <th>purpose_lemmas</th>\n",
       "    </tr>\n",
       "  </thead>\n",
       "  <tbody>\n",
       "    <tr>\n",
       "      <th>0</th>\n",
       "      <td>1</td>\n",
       "      <td>семья с детьми</td>\n",
       "      <td>8437</td>\n",
       "      <td>42</td>\n",
       "      <td>высшее</td>\n",
       "      <td>1</td>\n",
       "      <td>женат / замужем</td>\n",
       "      <td>0</td>\n",
       "      <td>F</td>\n",
       "      <td>сотрудник</td>\n",
       "      <td>False</td>\n",
       "      <td>Высокий доход</td>\n",
       "      <td>253875</td>\n",
       "      <td>покупка жилья</td>\n",
       "      <td>[покупка, жилье]</td>\n",
       "    </tr>\n",
       "    <tr>\n",
       "      <th>1</th>\n",
       "      <td>1</td>\n",
       "      <td>семья с детьми</td>\n",
       "      <td>4024</td>\n",
       "      <td>36</td>\n",
       "      <td>среднее</td>\n",
       "      <td>0</td>\n",
       "      <td>женат / замужем</td>\n",
       "      <td>0</td>\n",
       "      <td>F</td>\n",
       "      <td>сотрудник</td>\n",
       "      <td>False</td>\n",
       "      <td>Средний доход</td>\n",
       "      <td>112080</td>\n",
       "      <td>приобретение автомобиля</td>\n",
       "      <td>[приобретение, автомобиль]</td>\n",
       "    </tr>\n",
       "    <tr>\n",
       "      <th>2</th>\n",
       "      <td>0</td>\n",
       "      <td>бездетная семья</td>\n",
       "      <td>5623</td>\n",
       "      <td>33</td>\n",
       "      <td>среднее</td>\n",
       "      <td>0</td>\n",
       "      <td>женат / замужем</td>\n",
       "      <td>0</td>\n",
       "      <td>M</td>\n",
       "      <td>сотрудник</td>\n",
       "      <td>False</td>\n",
       "      <td>Средний доход</td>\n",
       "      <td>145885</td>\n",
       "      <td>покупка жилья</td>\n",
       "      <td>[покупка, жилье]</td>\n",
       "    </tr>\n",
       "    <tr>\n",
       "      <th>3</th>\n",
       "      <td>3</td>\n",
       "      <td>многодетная семья</td>\n",
       "      <td>4124</td>\n",
       "      <td>32</td>\n",
       "      <td>среднее</td>\n",
       "      <td>0</td>\n",
       "      <td>женат / замужем</td>\n",
       "      <td>0</td>\n",
       "      <td>M</td>\n",
       "      <td>сотрудник</td>\n",
       "      <td>False</td>\n",
       "      <td>Высокий доход</td>\n",
       "      <td>267628</td>\n",
       "      <td>дополнительное образование</td>\n",
       "      <td>[дополнительный, образование]</td>\n",
       "    </tr>\n",
       "    <tr>\n",
       "      <th>4</th>\n",
       "      <td>0</td>\n",
       "      <td>бездетная семья</td>\n",
       "      <td>14177</td>\n",
       "      <td>53</td>\n",
       "      <td>среднее</td>\n",
       "      <td>0</td>\n",
       "      <td>гражданский брак</td>\n",
       "      <td>1</td>\n",
       "      <td>F</td>\n",
       "      <td>пенсионер</td>\n",
       "      <td>False</td>\n",
       "      <td>Средний доход</td>\n",
       "      <td>158616</td>\n",
       "      <td>сыграть свадьбу</td>\n",
       "      <td>[сыграть, свадьба]</td>\n",
       "    </tr>\n",
       "  </tbody>\n",
       "</table>\n",
       "</div>"
      ],
      "text/plain": [
       "   children     children_grade  days_employed  client_age education  \\\n",
       "0         1     семья с детьми           8437          42    высшее   \n",
       "1         1     семья с детьми           4024          36   среднее   \n",
       "2         0    бездетная семья           5623          33   среднее   \n",
       "3         3  многодетная семья           4124          32   среднее   \n",
       "4         0    бездетная семья          14177          53   среднее   \n",
       "\n",
       "   education_id     family_status  family_status_id gender occupation  \\\n",
       "0             1   женат / замужем                 0      F  сотрудник   \n",
       "1             0   женат / замужем                 0      F  сотрудник   \n",
       "2             0   женат / замужем                 0      M  сотрудник   \n",
       "3             0   женат / замужем                 0      M  сотрудник   \n",
       "4             0  гражданский брак                 1      F  пенсионер   \n",
       "\n",
       "   had_debt   income_grade  total_income                     purpose  \\\n",
       "0     False  Высокий доход        253875               покупка жилья   \n",
       "1     False  Средний доход        112080     приобретение автомобиля   \n",
       "2     False  Средний доход        145885               покупка жилья   \n",
       "3     False  Высокий доход        267628  дополнительное образование   \n",
       "4     False  Средний доход        158616             сыграть свадьбу   \n",
       "\n",
       "                  purpose_lemmas  \n",
       "0               [покупка, жилье]  \n",
       "1     [приобретение, автомобиль]  \n",
       "2               [покупка, жилье]  \n",
       "3  [дополнительный, образование]  \n",
       "4             [сыграть, свадьба]  "
      ]
     },
     "execution_count": 45,
     "metadata": {},
     "output_type": "execute_result"
    }
   ],
   "source": [
    "# вывод первых пяти строк датафрейма\n",
    "\n",
    "data.head()"
   ]
  },
  {
   "cell_type": "markdown",
   "metadata": {},
   "source": [
    "Выделим уникальные слова в столбце с леммами."
   ]
  },
  {
   "cell_type": "code",
   "execution_count": 46,
   "metadata": {},
   "outputs": [
    {
     "data": {
      "text/plain": [
       "'сыграть, операция, автомобиль, недвижимость, на, покупка, коммерческий, для, приобретение, сделка, с, образование, высокий, заниматься, подержанный, жилой, собственный, проведение, со, получение, жилье, семья, свадьба, сдача, профильный, строительство, подержать, ремонт, свой, дополнительный'"
      ]
     },
     "execution_count": 46,
     "metadata": {},
     "output_type": "execute_result"
    }
   ],
   "source": [
    "# вывод строки, в которой через запятую перечислены все леммы, встречающиеся в колонке 'purpose_lemmas'\n",
    "\n",
    "', '.join(set(data['purpose_lemmas'].sum()))"
   ]
  },
  {
   "cell_type": "markdown",
   "metadata": {},
   "source": [
    "В списке прослеживается несколько основных целей, для реализации которых клиенты брали кредиты: покупка автомобиля, сделки с недвижимостью, расходы на образование и свадьбу. Добавим эти категории в датасет."
   ]
  },
  {
   "cell_type": "code",
   "execution_count": 47,
   "metadata": {},
   "outputs": [],
   "source": [
    "# написание функции категоризации целей кредита\n",
    "\n",
    "def definite_purpose (value):                               # объявление функции\n",
    "    if 'автомобиль' in value:                               # если в списке встречается слово \"автомобиль\"\n",
    "        return 'авто'                                       #    вернуть \"авто\"\n",
    "    elif ('жилье' in value) or ('недвижимость' in value):   # если встречается слово \"жилье\" или \"недвижимость\"\n",
    "        return 'недвижимость'                               #    вернуть \"недвижимость\"\n",
    "    elif 'образование' in value:                            # если встречается слово \"образование\"\n",
    "        return 'образование'                                #    вернуть \"образование\"\n",
    "    elif 'свадьба' in value:                                # если встречается слово \"свадьба\"\n",
    "        return 'свадьба'                                    #    вернуть \"свадьба\"\n",
    "    else:                                                   # иначе\n",
    "        return 'не определено'                              #    вернуть \"не определено\""
   ]
  },
  {
   "cell_type": "code",
   "execution_count": 48,
   "metadata": {},
   "outputs": [],
   "source": [
    "# применение написанной функции к колонке 'purpose_lemmas' и запись значений в колонку 'purpose'\n",
    "\n",
    "data['purpose'] = data['purpose_lemmas'].apply(definite_purpose)"
   ]
  },
  {
   "cell_type": "code",
   "execution_count": 49,
   "metadata": {},
   "outputs": [
    {
     "data": {
      "text/plain": [
       "недвижимость    10811\n",
       "авто             4306\n",
       "образование      4013\n",
       "свадьба          2323\n",
       "Name: purpose, dtype: int64"
      ]
     },
     "execution_count": 49,
     "metadata": {},
     "output_type": "execute_result"
    }
   ],
   "source": [
    "# вывод уникальных значений из колонки 'purpose'\n",
    "\n",
    "data['purpose'].value_counts()"
   ]
  },
  {
   "cell_type": "markdown",
   "metadata": {},
   "source": [
    "Все записи удалось отнести к определенной категории. Поскольку столбец `purpose_lemmas` больше не требуется, избавимся от него."
   ]
  },
  {
   "cell_type": "code",
   "execution_count": 50,
   "metadata": {
    "scrolled": true
   },
   "outputs": [],
   "source": [
    "# удаление колонки 'purpose_lemmas'\n",
    "\n",
    "data.drop('purpose_lemmas', axis=1, inplace=True) "
   ]
  },
  {
   "cell_type": "code",
   "execution_count": 51,
   "metadata": {
    "scrolled": true
   },
   "outputs": [
    {
     "data": {
      "text/html": [
       "<div>\n",
       "<style scoped>\n",
       "    .dataframe tbody tr th:only-of-type {\n",
       "        vertical-align: middle;\n",
       "    }\n",
       "\n",
       "    .dataframe tbody tr th {\n",
       "        vertical-align: top;\n",
       "    }\n",
       "\n",
       "    .dataframe thead th {\n",
       "        text-align: right;\n",
       "    }\n",
       "</style>\n",
       "<table border=\"1\" class=\"dataframe\">\n",
       "  <thead>\n",
       "    <tr style=\"text-align: right;\">\n",
       "      <th></th>\n",
       "      <th>children</th>\n",
       "      <th>children_grade</th>\n",
       "      <th>days_employed</th>\n",
       "      <th>client_age</th>\n",
       "      <th>education</th>\n",
       "      <th>education_id</th>\n",
       "      <th>family_status</th>\n",
       "      <th>family_status_id</th>\n",
       "      <th>gender</th>\n",
       "      <th>occupation</th>\n",
       "      <th>had_debt</th>\n",
       "      <th>income_grade</th>\n",
       "      <th>total_income</th>\n",
       "      <th>purpose</th>\n",
       "    </tr>\n",
       "  </thead>\n",
       "  <tbody>\n",
       "    <tr>\n",
       "      <th>0</th>\n",
       "      <td>1</td>\n",
       "      <td>семья с детьми</td>\n",
       "      <td>8437</td>\n",
       "      <td>42</td>\n",
       "      <td>высшее</td>\n",
       "      <td>1</td>\n",
       "      <td>женат / замужем</td>\n",
       "      <td>0</td>\n",
       "      <td>F</td>\n",
       "      <td>сотрудник</td>\n",
       "      <td>False</td>\n",
       "      <td>Высокий доход</td>\n",
       "      <td>253875</td>\n",
       "      <td>недвижимость</td>\n",
       "    </tr>\n",
       "    <tr>\n",
       "      <th>1</th>\n",
       "      <td>1</td>\n",
       "      <td>семья с детьми</td>\n",
       "      <td>4024</td>\n",
       "      <td>36</td>\n",
       "      <td>среднее</td>\n",
       "      <td>0</td>\n",
       "      <td>женат / замужем</td>\n",
       "      <td>0</td>\n",
       "      <td>F</td>\n",
       "      <td>сотрудник</td>\n",
       "      <td>False</td>\n",
       "      <td>Средний доход</td>\n",
       "      <td>112080</td>\n",
       "      <td>авто</td>\n",
       "    </tr>\n",
       "    <tr>\n",
       "      <th>2</th>\n",
       "      <td>0</td>\n",
       "      <td>бездетная семья</td>\n",
       "      <td>5623</td>\n",
       "      <td>33</td>\n",
       "      <td>среднее</td>\n",
       "      <td>0</td>\n",
       "      <td>женат / замужем</td>\n",
       "      <td>0</td>\n",
       "      <td>M</td>\n",
       "      <td>сотрудник</td>\n",
       "      <td>False</td>\n",
       "      <td>Средний доход</td>\n",
       "      <td>145885</td>\n",
       "      <td>недвижимость</td>\n",
       "    </tr>\n",
       "    <tr>\n",
       "      <th>3</th>\n",
       "      <td>3</td>\n",
       "      <td>многодетная семья</td>\n",
       "      <td>4124</td>\n",
       "      <td>32</td>\n",
       "      <td>среднее</td>\n",
       "      <td>0</td>\n",
       "      <td>женат / замужем</td>\n",
       "      <td>0</td>\n",
       "      <td>M</td>\n",
       "      <td>сотрудник</td>\n",
       "      <td>False</td>\n",
       "      <td>Высокий доход</td>\n",
       "      <td>267628</td>\n",
       "      <td>образование</td>\n",
       "    </tr>\n",
       "    <tr>\n",
       "      <th>4</th>\n",
       "      <td>0</td>\n",
       "      <td>бездетная семья</td>\n",
       "      <td>14177</td>\n",
       "      <td>53</td>\n",
       "      <td>среднее</td>\n",
       "      <td>0</td>\n",
       "      <td>гражданский брак</td>\n",
       "      <td>1</td>\n",
       "      <td>F</td>\n",
       "      <td>пенсионер</td>\n",
       "      <td>False</td>\n",
       "      <td>Средний доход</td>\n",
       "      <td>158616</td>\n",
       "      <td>свадьба</td>\n",
       "    </tr>\n",
       "  </tbody>\n",
       "</table>\n",
       "</div>"
      ],
      "text/plain": [
       "   children     children_grade  days_employed  client_age education  \\\n",
       "0         1     семья с детьми           8437          42    высшее   \n",
       "1         1     семья с детьми           4024          36   среднее   \n",
       "2         0    бездетная семья           5623          33   среднее   \n",
       "3         3  многодетная семья           4124          32   среднее   \n",
       "4         0    бездетная семья          14177          53   среднее   \n",
       "\n",
       "   education_id     family_status  family_status_id gender occupation  \\\n",
       "0             1   женат / замужем                 0      F  сотрудник   \n",
       "1             0   женат / замужем                 0      F  сотрудник   \n",
       "2             0   женат / замужем                 0      M  сотрудник   \n",
       "3             0   женат / замужем                 0      M  сотрудник   \n",
       "4             0  гражданский брак                 1      F  пенсионер   \n",
       "\n",
       "   had_debt   income_grade  total_income       purpose  \n",
       "0     False  Высокий доход        253875  недвижимость  \n",
       "1     False  Средний доход        112080          авто  \n",
       "2     False  Средний доход        145885  недвижимость  \n",
       "3     False  Высокий доход        267628   образование  \n",
       "4     False  Средний доход        158616       свадьба  "
      ]
     },
     "execution_count": 51,
     "metadata": {},
     "output_type": "execute_result"
    }
   ],
   "source": [
    "# вывод первых пяти строк датафрейма\n",
    "\n",
    "data.head()"
   ]
  },
  {
   "cell_type": "markdown",
   "metadata": {},
   "source": [
    "**Вывод**\n",
    "\n",
    "Из общего списка формулировок целей, с которыми клиенты банка брали кредиты, путем лемматизации выделены наиболее характерные. Каждой записи о выданном кредите присвоен одна из нескольких категорий."
   ]
  },
  {
   "cell_type": "code",
   "execution_count": 52,
   "metadata": {},
   "outputs": [
    {
     "data": {
      "text/html": [
       "<div>\n",
       "<style scoped>\n",
       "    .dataframe tbody tr th:only-of-type {\n",
       "        vertical-align: middle;\n",
       "    }\n",
       "\n",
       "    .dataframe tbody tr th {\n",
       "        vertical-align: top;\n",
       "    }\n",
       "\n",
       "    .dataframe thead th {\n",
       "        text-align: right;\n",
       "    }\n",
       "</style>\n",
       "<table border=\"1\" class=\"dataframe\">\n",
       "  <thead>\n",
       "    <tr style=\"text-align: right;\">\n",
       "      <th></th>\n",
       "      <th>children</th>\n",
       "      <th>children_grade</th>\n",
       "      <th>days_employed</th>\n",
       "      <th>client_age</th>\n",
       "      <th>education</th>\n",
       "      <th>education_id</th>\n",
       "      <th>family_status</th>\n",
       "      <th>family_status_id</th>\n",
       "      <th>gender</th>\n",
       "      <th>occupation</th>\n",
       "      <th>had_debt</th>\n",
       "      <th>income_grade</th>\n",
       "      <th>total_income</th>\n",
       "      <th>purpose</th>\n",
       "    </tr>\n",
       "  </thead>\n",
       "  <tbody>\n",
       "    <tr>\n",
       "      <th>9183</th>\n",
       "      <td>0</td>\n",
       "      <td>бездетная семья</td>\n",
       "      <td>-1</td>\n",
       "      <td>68</td>\n",
       "      <td>среднее</td>\n",
       "      <td>0</td>\n",
       "      <td>женат / замужем</td>\n",
       "      <td>0</td>\n",
       "      <td>F</td>\n",
       "      <td>пенсионер</td>\n",
       "      <td>False</td>\n",
       "      <td>Низкий доход</td>\n",
       "      <td>100967</td>\n",
       "      <td>недвижимость</td>\n",
       "    </tr>\n",
       "    <tr>\n",
       "      <th>8423</th>\n",
       "      <td>0</td>\n",
       "      <td>бездетная семья</td>\n",
       "      <td>-1</td>\n",
       "      <td>67</td>\n",
       "      <td>среднее</td>\n",
       "      <td>0</td>\n",
       "      <td>женат / замужем</td>\n",
       "      <td>0</td>\n",
       "      <td>F</td>\n",
       "      <td>пенсионер</td>\n",
       "      <td>False</td>\n",
       "      <td>Низкий доход</td>\n",
       "      <td>105743</td>\n",
       "      <td>образование</td>\n",
       "    </tr>\n",
       "    <tr>\n",
       "      <th>16829</th>\n",
       "      <td>0</td>\n",
       "      <td>бездетная семья</td>\n",
       "      <td>-1</td>\n",
       "      <td>67</td>\n",
       "      <td>среднее</td>\n",
       "      <td>0</td>\n",
       "      <td>женат / замужем</td>\n",
       "      <td>0</td>\n",
       "      <td>F</td>\n",
       "      <td>пенсионер</td>\n",
       "      <td>False</td>\n",
       "      <td>Низкий доход</td>\n",
       "      <td>105743</td>\n",
       "      <td>образование</td>\n",
       "    </tr>\n",
       "    <tr>\n",
       "      <th>17299</th>\n",
       "      <td>0</td>\n",
       "      <td>бездетная семья</td>\n",
       "      <td>-1</td>\n",
       "      <td>67</td>\n",
       "      <td>среднее</td>\n",
       "      <td>0</td>\n",
       "      <td>женат / замужем</td>\n",
       "      <td>0</td>\n",
       "      <td>F</td>\n",
       "      <td>пенсионер</td>\n",
       "      <td>False</td>\n",
       "      <td>Низкий доход</td>\n",
       "      <td>105743</td>\n",
       "      <td>недвижимость</td>\n",
       "    </tr>\n",
       "    <tr>\n",
       "      <th>18337</th>\n",
       "      <td>0</td>\n",
       "      <td>бездетная семья</td>\n",
       "      <td>-1</td>\n",
       "      <td>21</td>\n",
       "      <td>среднее</td>\n",
       "      <td>0</td>\n",
       "      <td>гражданский брак</td>\n",
       "      <td>1</td>\n",
       "      <td>F</td>\n",
       "      <td>сотрудник</td>\n",
       "      <td>False</td>\n",
       "      <td>Средний доход</td>\n",
       "      <td>112778</td>\n",
       "      <td>недвижимость</td>\n",
       "    </tr>\n",
       "    <tr>\n",
       "      <th>...</th>\n",
       "      <td>...</td>\n",
       "      <td>...</td>\n",
       "      <td>...</td>\n",
       "      <td>...</td>\n",
       "      <td>...</td>\n",
       "      <td>...</td>\n",
       "      <td>...</td>\n",
       "      <td>...</td>\n",
       "      <td>...</td>\n",
       "      <td>...</td>\n",
       "      <td>...</td>\n",
       "      <td>...</td>\n",
       "      <td>...</td>\n",
       "      <td>...</td>\n",
       "    </tr>\n",
       "    <tr>\n",
       "      <th>19265</th>\n",
       "      <td>0</td>\n",
       "      <td>бездетная семья</td>\n",
       "      <td>-1</td>\n",
       "      <td>49</td>\n",
       "      <td>среднее</td>\n",
       "      <td>0</td>\n",
       "      <td>женат / замужем</td>\n",
       "      <td>0</td>\n",
       "      <td>M</td>\n",
       "      <td>сотрудник</td>\n",
       "      <td>False</td>\n",
       "      <td>Средний доход</td>\n",
       "      <td>188417</td>\n",
       "      <td>недвижимость</td>\n",
       "    </tr>\n",
       "    <tr>\n",
       "      <th>8716</th>\n",
       "      <td>1</td>\n",
       "      <td>семья с детьми</td>\n",
       "      <td>-1</td>\n",
       "      <td>42</td>\n",
       "      <td>среднее</td>\n",
       "      <td>0</td>\n",
       "      <td>женат / замужем</td>\n",
       "      <td>0</td>\n",
       "      <td>M</td>\n",
       "      <td>сотрудник</td>\n",
       "      <td>False</td>\n",
       "      <td>Средний доход</td>\n",
       "      <td>194077</td>\n",
       "      <td>недвижимость</td>\n",
       "    </tr>\n",
       "    <tr>\n",
       "      <th>7689</th>\n",
       "      <td>0</td>\n",
       "      <td>бездетная семья</td>\n",
       "      <td>-1</td>\n",
       "      <td>42</td>\n",
       "      <td>среднее</td>\n",
       "      <td>0</td>\n",
       "      <td>Не женат / не замужем</td>\n",
       "      <td>4</td>\n",
       "      <td>M</td>\n",
       "      <td>сотрудник</td>\n",
       "      <td>False</td>\n",
       "      <td>Средний доход</td>\n",
       "      <td>194077</td>\n",
       "      <td>недвижимость</td>\n",
       "    </tr>\n",
       "    <tr>\n",
       "      <th>17201</th>\n",
       "      <td>0</td>\n",
       "      <td>бездетная семья</td>\n",
       "      <td>-1</td>\n",
       "      <td>42</td>\n",
       "      <td>среднее</td>\n",
       "      <td>0</td>\n",
       "      <td>женат / замужем</td>\n",
       "      <td>0</td>\n",
       "      <td>M</td>\n",
       "      <td>сотрудник</td>\n",
       "      <td>False</td>\n",
       "      <td>Средний доход</td>\n",
       "      <td>194077</td>\n",
       "      <td>авто</td>\n",
       "    </tr>\n",
       "    <tr>\n",
       "      <th>5038</th>\n",
       "      <td>0</td>\n",
       "      <td>бездетная семья</td>\n",
       "      <td>-1</td>\n",
       "      <td>42</td>\n",
       "      <td>среднее</td>\n",
       "      <td>0</td>\n",
       "      <td>гражданский брак</td>\n",
       "      <td>1</td>\n",
       "      <td>M</td>\n",
       "      <td>сотрудник</td>\n",
       "      <td>False</td>\n",
       "      <td>Средний доход</td>\n",
       "      <td>194077</td>\n",
       "      <td>свадьба</td>\n",
       "    </tr>\n",
       "  </tbody>\n",
       "</table>\n",
       "<p>364 rows × 14 columns</p>\n",
       "</div>"
      ],
      "text/plain": [
       "       children   children_grade  days_employed  client_age education  \\\n",
       "9183          0  бездетная семья             -1          68   среднее   \n",
       "8423          0  бездетная семья             -1          67   среднее   \n",
       "16829         0  бездетная семья             -1          67   среднее   \n",
       "17299         0  бездетная семья             -1          67   среднее   \n",
       "18337         0  бездетная семья             -1          21   среднее   \n",
       "...         ...              ...            ...         ...       ...   \n",
       "19265         0  бездетная семья             -1          49   среднее   \n",
       "8716          1   семья с детьми             -1          42   среднее   \n",
       "7689          0  бездетная семья             -1          42   среднее   \n",
       "17201         0  бездетная семья             -1          42   среднее   \n",
       "5038          0  бездетная семья             -1          42   среднее   \n",
       "\n",
       "       education_id          family_status  family_status_id gender  \\\n",
       "9183              0        женат / замужем                 0      F   \n",
       "8423              0        женат / замужем                 0      F   \n",
       "16829             0        женат / замужем                 0      F   \n",
       "17299             0        женат / замужем                 0      F   \n",
       "18337             0       гражданский брак                 1      F   \n",
       "...             ...                    ...               ...    ...   \n",
       "19265             0        женат / замужем                 0      M   \n",
       "8716              0        женат / замужем                 0      M   \n",
       "7689              0  Не женат / не замужем                 4      M   \n",
       "17201             0        женат / замужем                 0      M   \n",
       "5038              0       гражданский брак                 1      M   \n",
       "\n",
       "      occupation  had_debt   income_grade  total_income       purpose  \n",
       "9183   пенсионер     False   Низкий доход        100967  недвижимость  \n",
       "8423   пенсионер     False   Низкий доход        105743   образование  \n",
       "16829  пенсионер     False   Низкий доход        105743   образование  \n",
       "17299  пенсионер     False   Низкий доход        105743  недвижимость  \n",
       "18337  сотрудник     False  Средний доход        112778  недвижимость  \n",
       "...          ...       ...            ...           ...           ...  \n",
       "19265  сотрудник     False  Средний доход        188417  недвижимость  \n",
       "8716   сотрудник     False  Средний доход        194077  недвижимость  \n",
       "7689   сотрудник     False  Средний доход        194077  недвижимость  \n",
       "17201  сотрудник     False  Средний доход        194077          авто  \n",
       "5038   сотрудник     False  Средний доход        194077       свадьба  \n",
       "\n",
       "[364 rows x 14 columns]"
      ]
     },
     "execution_count": 52,
     "metadata": {},
     "output_type": "execute_result"
    }
   ],
   "source": [
    "data[data.duplicated()].sort_values(by='total_income')"
   ]
  },
  {
   "cell_type": "markdown",
   "metadata": {},
   "source": [
    "### Исследование данных по категориям"
   ]
  },
  {
   "cell_type": "markdown",
   "metadata": {},
   "source": [
    "Целью исследования является вывод о том, как влияет тот или иной социальный признак на вероятность возврата кредита. Поэтому выделим четыре целевых признака и для каждого построим сводную таблицу, в которой каждой категории признака будет соответствовать вероятность не вернуть кредит. \n",
    "* Количество детей\n",
    "* Семейное положение\n",
    "* Уровень дохода\n",
    "* Цель кредита"
   ]
  },
  {
   "cell_type": "code",
   "execution_count": 53,
   "metadata": {},
   "outputs": [
    {
     "data": {
      "text/html": [
       "<div>\n",
       "<style scoped>\n",
       "    .dataframe tbody tr th:only-of-type {\n",
       "        vertical-align: middle;\n",
       "    }\n",
       "\n",
       "    .dataframe tbody tr th {\n",
       "        vertical-align: top;\n",
       "    }\n",
       "\n",
       "    .dataframe thead tr th {\n",
       "        text-align: left;\n",
       "    }\n",
       "\n",
       "    .dataframe thead tr:last-of-type th {\n",
       "        text-align: right;\n",
       "    }\n",
       "</style>\n",
       "<table border=\"1\" class=\"dataframe\">\n",
       "  <thead>\n",
       "    <tr>\n",
       "      <th></th>\n",
       "      <th colspan=\"2\" halign=\"left\">had_debt</th>\n",
       "      <th>risks</th>\n",
       "    </tr>\n",
       "    <tr>\n",
       "      <th></th>\n",
       "      <th>count</th>\n",
       "      <th>sum</th>\n",
       "      <th></th>\n",
       "    </tr>\n",
       "    <tr>\n",
       "      <th>children_grade</th>\n",
       "      <th></th>\n",
       "      <th></th>\n",
       "      <th></th>\n",
       "    </tr>\n",
       "  </thead>\n",
       "  <tbody>\n",
       "    <tr>\n",
       "      <th>семья с детьми</th>\n",
       "      <td>6936</td>\n",
       "      <td>646</td>\n",
       "      <td>0.093137</td>\n",
       "    </tr>\n",
       "    <tr>\n",
       "      <th>многодетная семья</th>\n",
       "      <td>380</td>\n",
       "      <td>31</td>\n",
       "      <td>0.081579</td>\n",
       "    </tr>\n",
       "    <tr>\n",
       "      <th>бездетная семья</th>\n",
       "      <td>14137</td>\n",
       "      <td>1064</td>\n",
       "      <td>0.075263</td>\n",
       "    </tr>\n",
       "  </tbody>\n",
       "</table>\n",
       "</div>"
      ],
      "text/plain": [
       "                  had_debt           risks\n",
       "                     count   sum          \n",
       "children_grade                            \n",
       "семья с детьми        6936   646  0.093137\n",
       "многодетная семья      380    31  0.081579\n",
       "бездетная семья      14137  1064  0.075263"
      ]
     },
     "execution_count": 53,
     "metadata": {},
     "output_type": "execute_result"
    }
   ],
   "source": [
    "# создание таблицы, отражающей количество взятых и просроченных кредитов для каждой из категорий признака \"количество детей\"\n",
    "children_feature_reliability = data.groupby(by='children_grade').agg({'had_debt':['count', 'sum']})\n",
    "\n",
    "# добавление к таблице столбца с вероятностью возврата кредита для каждой из категорий\n",
    "children_feature_reliability['risks'] = children_feature_reliability['had_debt']['sum'] / children_feature_reliability['had_debt']['count']\n",
    "\n",
    "# сортировка таблицы по убыванию вероятности возврата кредита\n",
    "children_feature_reliability.sort_values(by='risks', ascending=False)"
   ]
  },
  {
   "cell_type": "code",
   "execution_count": 54,
   "metadata": {},
   "outputs": [
    {
     "data": {
      "text/html": [
       "<div>\n",
       "<style scoped>\n",
       "    .dataframe tbody tr th:only-of-type {\n",
       "        vertical-align: middle;\n",
       "    }\n",
       "\n",
       "    .dataframe tbody tr th {\n",
       "        vertical-align: top;\n",
       "    }\n",
       "\n",
       "    .dataframe thead tr th {\n",
       "        text-align: left;\n",
       "    }\n",
       "\n",
       "    .dataframe thead tr:last-of-type th {\n",
       "        text-align: right;\n",
       "    }\n",
       "</style>\n",
       "<table border=\"1\" class=\"dataframe\">\n",
       "  <thead>\n",
       "    <tr>\n",
       "      <th></th>\n",
       "      <th colspan=\"2\" halign=\"left\">had_debt</th>\n",
       "      <th>risks</th>\n",
       "    </tr>\n",
       "    <tr>\n",
       "      <th></th>\n",
       "      <th>count</th>\n",
       "      <th>sum</th>\n",
       "      <th></th>\n",
       "    </tr>\n",
       "    <tr>\n",
       "      <th>family_status</th>\n",
       "      <th></th>\n",
       "      <th></th>\n",
       "      <th></th>\n",
       "    </tr>\n",
       "  </thead>\n",
       "  <tbody>\n",
       "    <tr>\n",
       "      <th>Не женат / не замужем</th>\n",
       "      <td>2810</td>\n",
       "      <td>274</td>\n",
       "      <td>0.097509</td>\n",
       "    </tr>\n",
       "    <tr>\n",
       "      <th>гражданский брак</th>\n",
       "      <td>4150</td>\n",
       "      <td>388</td>\n",
       "      <td>0.093494</td>\n",
       "    </tr>\n",
       "    <tr>\n",
       "      <th>женат / замужем</th>\n",
       "      <td>12339</td>\n",
       "      <td>931</td>\n",
       "      <td>0.075452</td>\n",
       "    </tr>\n",
       "    <tr>\n",
       "      <th>в разводе</th>\n",
       "      <td>1195</td>\n",
       "      <td>85</td>\n",
       "      <td>0.071130</td>\n",
       "    </tr>\n",
       "    <tr>\n",
       "      <th>вдовец / вдова</th>\n",
       "      <td>959</td>\n",
       "      <td>63</td>\n",
       "      <td>0.065693</td>\n",
       "    </tr>\n",
       "  </tbody>\n",
       "</table>\n",
       "</div>"
      ],
      "text/plain": [
       "                      had_debt          risks\n",
       "                         count  sum          \n",
       "family_status                                \n",
       "Не женат / не замужем     2810  274  0.097509\n",
       "гражданский брак          4150  388  0.093494\n",
       "женат / замужем          12339  931  0.075452\n",
       "в разводе                 1195   85  0.071130\n",
       "вдовец / вдова             959   63  0.065693"
      ]
     },
     "execution_count": 54,
     "metadata": {},
     "output_type": "execute_result"
    }
   ],
   "source": [
    "# создание таблицы, отражающей количество взятых и просроченных кредитов для каждой из категорий признака \"семейное положение\"\n",
    "family_feature_reliability = data.groupby(by='family_status').agg({'had_debt':['count', 'sum']})\n",
    "\n",
    "# добавление к таблице столбца с вероятностью невозврата кредита для каждой из категорий\n",
    "family_feature_reliability['risks'] = family_feature_reliability['had_debt']['sum'] / family_feature_reliability['had_debt']['count']\n",
    "\n",
    "# сортировка таблицы по убыванию вероятности невозврата кредита\n",
    "family_feature_reliability.sort_values(by='risks', ascending=False)"
   ]
  },
  {
   "cell_type": "code",
   "execution_count": 55,
   "metadata": {},
   "outputs": [
    {
     "data": {
      "text/html": [
       "<div>\n",
       "<style scoped>\n",
       "    .dataframe tbody tr th:only-of-type {\n",
       "        vertical-align: middle;\n",
       "    }\n",
       "\n",
       "    .dataframe tbody tr th {\n",
       "        vertical-align: top;\n",
       "    }\n",
       "\n",
       "    .dataframe thead tr th {\n",
       "        text-align: left;\n",
       "    }\n",
       "\n",
       "    .dataframe thead tr:last-of-type th {\n",
       "        text-align: right;\n",
       "    }\n",
       "</style>\n",
       "<table border=\"1\" class=\"dataframe\">\n",
       "  <thead>\n",
       "    <tr>\n",
       "      <th></th>\n",
       "      <th colspan=\"2\" halign=\"left\">had_debt</th>\n",
       "      <th>risks</th>\n",
       "    </tr>\n",
       "    <tr>\n",
       "      <th></th>\n",
       "      <th>count</th>\n",
       "      <th>sum</th>\n",
       "      <th></th>\n",
       "    </tr>\n",
       "    <tr>\n",
       "      <th>income_grade</th>\n",
       "      <th></th>\n",
       "      <th></th>\n",
       "      <th></th>\n",
       "    </tr>\n",
       "  </thead>\n",
       "  <tbody>\n",
       "    <tr>\n",
       "      <th>Средний доход</th>\n",
       "      <td>10727</td>\n",
       "      <td>932</td>\n",
       "      <td>0.086884</td>\n",
       "    </tr>\n",
       "    <tr>\n",
       "      <th>Низкий доход</th>\n",
       "      <td>5363</td>\n",
       "      <td>426</td>\n",
       "      <td>0.079433</td>\n",
       "    </tr>\n",
       "    <tr>\n",
       "      <th>Высокий доход</th>\n",
       "      <td>5363</td>\n",
       "      <td>383</td>\n",
       "      <td>0.071415</td>\n",
       "    </tr>\n",
       "  </tbody>\n",
       "</table>\n",
       "</div>"
      ],
      "text/plain": [
       "              had_debt          risks\n",
       "                 count  sum          \n",
       "income_grade                         \n",
       "Средний доход    10727  932  0.086884\n",
       "Низкий доход      5363  426  0.079433\n",
       "Высокий доход     5363  383  0.071415"
      ]
     },
     "execution_count": 55,
     "metadata": {},
     "output_type": "execute_result"
    }
   ],
   "source": [
    "# создание таблицы, отражающей количество взятых и просроченных кредитов для каждой из категорий признака \"уровень дохода\"\n",
    "income_feature_reliability = data.groupby(by='income_grade').agg({'had_debt':['count', 'sum']})\n",
    "\n",
    "# добавление к таблице столбца с вероятностью невозврата кредита для каждой из категорий\n",
    "income_feature_reliability['risks'] = income_feature_reliability['had_debt']['sum'] / income_feature_reliability['had_debt']['count']\n",
    "\n",
    "# сортировка таблицы по убыванию вероятности невозврата кредита\n",
    "income_feature_reliability.sort_values(by='risks', ascending=False)"
   ]
  },
  {
   "cell_type": "code",
   "execution_count": 56,
   "metadata": {},
   "outputs": [
    {
     "data": {
      "text/html": [
       "<div>\n",
       "<style scoped>\n",
       "    .dataframe tbody tr th:only-of-type {\n",
       "        vertical-align: middle;\n",
       "    }\n",
       "\n",
       "    .dataframe tbody tr th {\n",
       "        vertical-align: top;\n",
       "    }\n",
       "\n",
       "    .dataframe thead tr th {\n",
       "        text-align: left;\n",
       "    }\n",
       "\n",
       "    .dataframe thead tr:last-of-type th {\n",
       "        text-align: right;\n",
       "    }\n",
       "</style>\n",
       "<table border=\"1\" class=\"dataframe\">\n",
       "  <thead>\n",
       "    <tr>\n",
       "      <th></th>\n",
       "      <th colspan=\"2\" halign=\"left\">had_debt</th>\n",
       "      <th>risks</th>\n",
       "    </tr>\n",
       "    <tr>\n",
       "      <th></th>\n",
       "      <th>count</th>\n",
       "      <th>sum</th>\n",
       "      <th></th>\n",
       "    </tr>\n",
       "    <tr>\n",
       "      <th>purpose</th>\n",
       "      <th></th>\n",
       "      <th></th>\n",
       "      <th></th>\n",
       "    </tr>\n",
       "  </thead>\n",
       "  <tbody>\n",
       "    <tr>\n",
       "      <th>авто</th>\n",
       "      <td>4306</td>\n",
       "      <td>403</td>\n",
       "      <td>0.093590</td>\n",
       "    </tr>\n",
       "    <tr>\n",
       "      <th>образование</th>\n",
       "      <td>4013</td>\n",
       "      <td>370</td>\n",
       "      <td>0.092200</td>\n",
       "    </tr>\n",
       "    <tr>\n",
       "      <th>свадьба</th>\n",
       "      <td>2323</td>\n",
       "      <td>186</td>\n",
       "      <td>0.080069</td>\n",
       "    </tr>\n",
       "    <tr>\n",
       "      <th>недвижимость</th>\n",
       "      <td>10811</td>\n",
       "      <td>782</td>\n",
       "      <td>0.072334</td>\n",
       "    </tr>\n",
       "  </tbody>\n",
       "</table>\n",
       "</div>"
      ],
      "text/plain": [
       "             had_debt          risks\n",
       "                count  sum          \n",
       "purpose                             \n",
       "авто             4306  403  0.093590\n",
       "образование      4013  370  0.092200\n",
       "свадьба          2323  186  0.080069\n",
       "недвижимость    10811  782  0.072334"
      ]
     },
     "execution_count": 56,
     "metadata": {},
     "output_type": "execute_result"
    }
   ],
   "source": [
    "# создание таблицы, отражающей количество взятых и просроченных кредитов для каждой из категорий признака \"цель кредита\"\n",
    "purpose_feature_reliability = data.groupby(by='purpose').agg({'had_debt':['count', 'sum']})\n",
    "\n",
    "# добавление к таблице столбца с вероятностью невозврата кредита для каждой из категорий\n",
    "purpose_feature_reliability['risks'] = purpose_feature_reliability['had_debt']['sum'] / purpose_feature_reliability['had_debt']['count']\n",
    "\n",
    "# сортировка таблицы по убыванию вероятности невозврата кредита\n",
    "purpose_feature_reliability.sort_values(by='risks', ascending=False)"
   ]
  },
  {
   "cell_type": "markdown",
   "metadata": {},
   "source": [
    "**Вывод**\n",
    "\n",
    "Выведенные для каждой категории показатели вероятности не имеют выраженных отклонений, однако с учетом объемов кредитования банки обязаны учитывать даже несколько процентов разницы, чтобы не получить убытки от невозвращенных кредитов."
   ]
  },
  {
   "cell_type": "markdown",
   "metadata": {},
   "source": [
    "### Исследование данных по совместным признакам"
   ]
  },
  {
   "cell_type": "markdown",
   "metadata": {},
   "source": [
    "Гораздо интересней исследовать совокупное влияние признака на вероятность возврата кредита. Для этого построим совокупные сводные таблицы для каждой пары признаков. Для четырех признаков таких таблиц должно быть 6. Сразу необходимо ввести уточнение, что вероятность возврата кредита будет рассчитываться только для достаточно больших групп (не менее ста участников), иначе выводы могут быть искажены."
   ]
  },
  {
   "cell_type": "markdown",
   "metadata": {},
   "source": [
    "#### Исследование совокупного влияния признаков `children_grade` - `family_status`"
   ]
  },
  {
   "cell_type": "code",
   "execution_count": 57,
   "metadata": {},
   "outputs": [
    {
     "data": {
      "text/html": [
       "<div>\n",
       "<style scoped>\n",
       "    .dataframe tbody tr th:only-of-type {\n",
       "        vertical-align: middle;\n",
       "    }\n",
       "\n",
       "    .dataframe tbody tr th {\n",
       "        vertical-align: top;\n",
       "    }\n",
       "\n",
       "    .dataframe thead th {\n",
       "        text-align: right;\n",
       "    }\n",
       "</style>\n",
       "<table border=\"1\" class=\"dataframe\">\n",
       "  <thead>\n",
       "    <tr style=\"text-align: right;\">\n",
       "      <th>family_status</th>\n",
       "      <th>Не женат / не замужем</th>\n",
       "      <th>в разводе</th>\n",
       "      <th>вдовец / вдова</th>\n",
       "      <th>гражданский брак</th>\n",
       "      <th>женат / замужем</th>\n",
       "    </tr>\n",
       "    <tr>\n",
       "      <th>children_grade</th>\n",
       "      <th></th>\n",
       "      <th></th>\n",
       "      <th></th>\n",
       "      <th></th>\n",
       "      <th></th>\n",
       "    </tr>\n",
       "  </thead>\n",
       "  <tbody>\n",
       "    <tr>\n",
       "      <th>бездетная семья</th>\n",
       "      <td>9.3% / 2267</td>\n",
       "      <td>7.0% / 788</td>\n",
       "      <td>6.2% / 851</td>\n",
       "      <td>8.4% / 2734</td>\n",
       "      <td>6.9% / 7497</td>\n",
       "    </tr>\n",
       "    <tr>\n",
       "      <th>многодетная семья</th>\n",
       "      <td></td>\n",
       "      <td></td>\n",
       "      <td></td>\n",
       "      <td></td>\n",
       "      <td>7.0% / 285</td>\n",
       "    </tr>\n",
       "    <tr>\n",
       "      <th>семья с детьми</th>\n",
       "      <td>11.6% / 533</td>\n",
       "      <td>7.3% / 395</td>\n",
       "      <td>9.9% / 101</td>\n",
       "      <td>11.2% / 1350</td>\n",
       "      <td>8.6% / 4557</td>\n",
       "    </tr>\n",
       "  </tbody>\n",
       "</table>\n",
       "</div>"
      ],
      "text/plain": [
       "family_status     Не женат / не замужем   в разводе вдовец / вдова  \\\n",
       "children_grade                                                       \n",
       "бездетная семья             9.3% / 2267  7.0% / 788     6.2% / 851   \n",
       "многодетная семья                                                    \n",
       "семья с детьми              11.6% / 533  7.3% / 395     9.9% / 101   \n",
       "\n",
       "family_status     гражданский брак женат / замужем  \n",
       "children_grade                                      \n",
       "бездетная семья        8.4% / 2734     6.9% / 7497  \n",
       "многодетная семья                       7.0% / 285  \n",
       "семья с детьми        11.2% / 1350     8.6% / 4557  "
      ]
     },
     "execution_count": 57,
     "metadata": {},
     "output_type": "execute_result"
    }
   ],
   "source": [
    "''' \n",
    "Таблица строится в осях соответствующего признака \n",
    "и заполняется рассчитанной вероятностью возврата кредита (выведенной в процентах и округленной до десятых).\n",
    "Через '/' записывается количество наблюдений в группе.\n",
    "Группы с количеством наблюдений заменются пустой строкой.\n",
    "Все NaN заменяются на пустую строку.\n",
    "'''\n",
    "\n",
    "children_family_status_pivot = data.pivot_table(index='children_grade', columns='family_status', values='had_debt', \n",
    "              aggfunc=lambda x: str(round(100*(sum(x)/len(x)), 1))+'% / '+str(len(x)) if len(x)>100  else '').fillna('')\n",
    "children_family_status_pivot"
   ]
  },
  {
   "cell_type": "markdown",
   "metadata": {},
   "source": [
    "#### Исследование совокупного влияния признаков `children_grade` - `income_grade`"
   ]
  },
  {
   "cell_type": "code",
   "execution_count": 58,
   "metadata": {},
   "outputs": [
    {
     "data": {
      "text/html": [
       "<div>\n",
       "<style scoped>\n",
       "    .dataframe tbody tr th:only-of-type {\n",
       "        vertical-align: middle;\n",
       "    }\n",
       "\n",
       "    .dataframe tbody tr th {\n",
       "        vertical-align: top;\n",
       "    }\n",
       "\n",
       "    .dataframe thead th {\n",
       "        text-align: right;\n",
       "    }\n",
       "</style>\n",
       "<table border=\"1\" class=\"dataframe\">\n",
       "  <thead>\n",
       "    <tr style=\"text-align: right;\">\n",
       "      <th>income_grade</th>\n",
       "      <th>Высокий доход</th>\n",
       "      <th>Низкий доход</th>\n",
       "      <th>Средний доход</th>\n",
       "    </tr>\n",
       "    <tr>\n",
       "      <th>children_grade</th>\n",
       "      <th></th>\n",
       "      <th></th>\n",
       "      <th></th>\n",
       "    </tr>\n",
       "  </thead>\n",
       "  <tbody>\n",
       "    <tr>\n",
       "      <th>бездетная семья</th>\n",
       "      <td>6.8% / 3457</td>\n",
       "      <td>7.2% / 3657</td>\n",
       "      <td>8.0% / 7023</td>\n",
       "    </tr>\n",
       "    <tr>\n",
       "      <th>многодетная семья</th>\n",
       "      <td>4.9% / 102</td>\n",
       "      <td></td>\n",
       "      <td>8.4% / 202</td>\n",
       "    </tr>\n",
       "    <tr>\n",
       "      <th>семья с детьми</th>\n",
       "      <td>7.9% / 1804</td>\n",
       "      <td>9.4% / 1630</td>\n",
       "      <td>10.0% / 3502</td>\n",
       "    </tr>\n",
       "  </tbody>\n",
       "</table>\n",
       "</div>"
      ],
      "text/plain": [
       "income_grade      Высокий доход Низкий доход Средний доход\n",
       "children_grade                                            \n",
       "бездетная семья     6.8% / 3457  7.2% / 3657   8.0% / 7023\n",
       "многодетная семья    4.9% / 102                 8.4% / 202\n",
       "семья с детьми      7.9% / 1804  9.4% / 1630  10.0% / 3502"
      ]
     },
     "execution_count": 58,
     "metadata": {},
     "output_type": "execute_result"
    }
   ],
   "source": [
    "# 'children_grade' - 'income_grade'\n",
    "\n",
    "children_income_grade_pivot = data.pivot_table(index='children_grade', columns='income_grade', values='had_debt', \n",
    "              aggfunc=lambda x: str(round(100*(sum(x)/len(x)), 1))+'% / '+str(len(x)) if len(x)>100  else '').fillna('')\n",
    "children_income_grade_pivot"
   ]
  },
  {
   "cell_type": "markdown",
   "metadata": {},
   "source": [
    "#### Исследование совокупного влияния признаков `children_grade` - `purpose`"
   ]
  },
  {
   "cell_type": "code",
   "execution_count": 59,
   "metadata": {},
   "outputs": [
    {
     "data": {
      "text/html": [
       "<div>\n",
       "<style scoped>\n",
       "    .dataframe tbody tr th:only-of-type {\n",
       "        vertical-align: middle;\n",
       "    }\n",
       "\n",
       "    .dataframe tbody tr th {\n",
       "        vertical-align: top;\n",
       "    }\n",
       "\n",
       "    .dataframe thead th {\n",
       "        text-align: right;\n",
       "    }\n",
       "</style>\n",
       "<table border=\"1\" class=\"dataframe\">\n",
       "  <thead>\n",
       "    <tr style=\"text-align: right;\">\n",
       "      <th>purpose</th>\n",
       "      <th>авто</th>\n",
       "      <th>недвижимость</th>\n",
       "      <th>образование</th>\n",
       "      <th>свадьба</th>\n",
       "    </tr>\n",
       "    <tr>\n",
       "      <th>children_grade</th>\n",
       "      <th></th>\n",
       "      <th></th>\n",
       "      <th></th>\n",
       "      <th></th>\n",
       "    </tr>\n",
       "  </thead>\n",
       "  <tbody>\n",
       "    <tr>\n",
       "      <th>бездетная семья</th>\n",
       "      <td>8.5% / 2856</td>\n",
       "      <td>6.7% / 7098</td>\n",
       "      <td>8.6% / 2652</td>\n",
       "      <td>7.5% / 1531</td>\n",
       "    </tr>\n",
       "    <tr>\n",
       "      <th>многодетная семья</th>\n",
       "      <td></td>\n",
       "      <td>8.2% / 195</td>\n",
       "      <td></td>\n",
       "      <td></td>\n",
       "    </tr>\n",
       "    <tr>\n",
       "      <th>семья с детьми</th>\n",
       "      <td>11.1% / 1378</td>\n",
       "      <td>8.2% / 3518</td>\n",
       "      <td>10.7% / 1284</td>\n",
       "      <td>8.7% / 756</td>\n",
       "    </tr>\n",
       "  </tbody>\n",
       "</table>\n",
       "</div>"
      ],
      "text/plain": [
       "purpose                    авто недвижимость   образование      свадьба\n",
       "children_grade                                                         \n",
       "бездетная семья     8.5% / 2856  6.7% / 7098   8.6% / 2652  7.5% / 1531\n",
       "многодетная семья                 8.2% / 195                           \n",
       "семья с детьми     11.1% / 1378  8.2% / 3518  10.7% / 1284   8.7% / 756"
      ]
     },
     "execution_count": 59,
     "metadata": {},
     "output_type": "execute_result"
    }
   ],
   "source": [
    "# 'children_grade' - 'purpose'\n",
    "\n",
    "children_family_status_pivot = data.pivot_table(index='children_grade', columns='purpose', values='had_debt', \n",
    "              aggfunc=lambda x: str(round(100*(sum(x)/len(x)), 1))+'% / '+str(len(x)) if len(x)>100  else '').fillna('')\n",
    "children_family_status_pivot"
   ]
  },
  {
   "cell_type": "markdown",
   "metadata": {},
   "source": [
    "#### Исследование совокупного влияния признаков `family_status` - `income_grade`"
   ]
  },
  {
   "cell_type": "code",
   "execution_count": 60,
   "metadata": {},
   "outputs": [
    {
     "data": {
      "text/html": [
       "<div>\n",
       "<style scoped>\n",
       "    .dataframe tbody tr th:only-of-type {\n",
       "        vertical-align: middle;\n",
       "    }\n",
       "\n",
       "    .dataframe tbody tr th {\n",
       "        vertical-align: top;\n",
       "    }\n",
       "\n",
       "    .dataframe thead th {\n",
       "        text-align: right;\n",
       "    }\n",
       "</style>\n",
       "<table border=\"1\" class=\"dataframe\">\n",
       "  <thead>\n",
       "    <tr style=\"text-align: right;\">\n",
       "      <th>income_grade</th>\n",
       "      <th>Высокий доход</th>\n",
       "      <th>Низкий доход</th>\n",
       "      <th>Средний доход</th>\n",
       "    </tr>\n",
       "    <tr>\n",
       "      <th>family_status</th>\n",
       "      <th></th>\n",
       "      <th></th>\n",
       "      <th></th>\n",
       "    </tr>\n",
       "  </thead>\n",
       "  <tbody>\n",
       "    <tr>\n",
       "      <th>Не женат / не замужем</th>\n",
       "      <td>9.3% / 706</td>\n",
       "      <td>8.4% / 666</td>\n",
       "      <td>10.6% / 1438</td>\n",
       "    </tr>\n",
       "    <tr>\n",
       "      <th>в разводе</th>\n",
       "      <td>6.2% / 307</td>\n",
       "      <td>7.5% / 293</td>\n",
       "      <td>7.4% / 595</td>\n",
       "    </tr>\n",
       "    <tr>\n",
       "      <th>вдовец / вдова</th>\n",
       "      <td>6.6% / 167</td>\n",
       "      <td>4.7% / 319</td>\n",
       "      <td>7.8% / 473</td>\n",
       "    </tr>\n",
       "    <tr>\n",
       "      <th>гражданский брак</th>\n",
       "      <td>6.7% / 1043</td>\n",
       "      <td>9.2% / 1044</td>\n",
       "      <td>10.8% / 2063</td>\n",
       "    </tr>\n",
       "    <tr>\n",
       "      <th>женат / замужем</th>\n",
       "      <td>6.9% / 3140</td>\n",
       "      <td>7.8% / 3041</td>\n",
       "      <td>7.7% / 6158</td>\n",
       "    </tr>\n",
       "  </tbody>\n",
       "</table>\n",
       "</div>"
      ],
      "text/plain": [
       "income_grade          Высокий доход Низкий доход Средний доход\n",
       "family_status                                                 \n",
       "Не женат / не замужем    9.3% / 706   8.4% / 666  10.6% / 1438\n",
       "в разводе                6.2% / 307   7.5% / 293    7.4% / 595\n",
       "вдовец / вдова           6.6% / 167   4.7% / 319    7.8% / 473\n",
       "гражданский брак        6.7% / 1043  9.2% / 1044  10.8% / 2063\n",
       "женат / замужем         6.9% / 3140  7.8% / 3041   7.7% / 6158"
      ]
     },
     "execution_count": 60,
     "metadata": {},
     "output_type": "execute_result"
    }
   ],
   "source": [
    "# 'family_status' - 'income_grade'\n",
    "\n",
    "family_status_income_grade_pivot = data.pivot_table(index='family_status', columns='income_grade', values='had_debt', \n",
    "              aggfunc=lambda x: str(round(100*(sum(x)/len(x)), 1))+'% / '+str(len(x)) if len(x)>100  else '').fillna('')\n",
    "family_status_income_grade_pivot"
   ]
  },
  {
   "cell_type": "markdown",
   "metadata": {},
   "source": [
    "#### Исследование совокупного влияния признаков `family_status` - `purpose`"
   ]
  },
  {
   "cell_type": "code",
   "execution_count": 61,
   "metadata": {},
   "outputs": [
    {
     "data": {
      "text/html": [
       "<div>\n",
       "<style scoped>\n",
       "    .dataframe tbody tr th:only-of-type {\n",
       "        vertical-align: middle;\n",
       "    }\n",
       "\n",
       "    .dataframe tbody tr th {\n",
       "        vertical-align: top;\n",
       "    }\n",
       "\n",
       "    .dataframe thead th {\n",
       "        text-align: right;\n",
       "    }\n",
       "</style>\n",
       "<table border=\"1\" class=\"dataframe\">\n",
       "  <thead>\n",
       "    <tr style=\"text-align: right;\">\n",
       "      <th>purpose</th>\n",
       "      <th>авто</th>\n",
       "      <th>недвижимость</th>\n",
       "      <th>образование</th>\n",
       "      <th>свадьба</th>\n",
       "    </tr>\n",
       "    <tr>\n",
       "      <th>family_status</th>\n",
       "      <th></th>\n",
       "      <th></th>\n",
       "      <th></th>\n",
       "      <th></th>\n",
       "    </tr>\n",
       "  </thead>\n",
       "  <tbody>\n",
       "    <tr>\n",
       "      <th>Не женат / не замужем</th>\n",
       "      <td>12.9% / 637</td>\n",
       "      <td>8.1% / 1596</td>\n",
       "      <td>10.7% / 577</td>\n",
       "      <td></td>\n",
       "    </tr>\n",
       "    <tr>\n",
       "      <th>в разводе</th>\n",
       "      <td>7.5% / 281</td>\n",
       "      <td>7.0% / 676</td>\n",
       "      <td>7.1% / 238</td>\n",
       "      <td></td>\n",
       "    </tr>\n",
       "    <tr>\n",
       "      <th>вдовец / вдова</th>\n",
       "      <td>9.2% / 218</td>\n",
       "      <td>5.2% / 542</td>\n",
       "      <td>7.5% / 199</td>\n",
       "      <td></td>\n",
       "    </tr>\n",
       "    <tr>\n",
       "      <th>гражданский брак</th>\n",
       "      <td>11.8% / 434</td>\n",
       "      <td>9.2% / 989</td>\n",
       "      <td>14.9% / 404</td>\n",
       "      <td>8.0% / 2323</td>\n",
       "    </tr>\n",
       "    <tr>\n",
       "      <th>женат / замужем</th>\n",
       "      <td>8.4% / 2736</td>\n",
       "      <td>6.9% / 7008</td>\n",
       "      <td>8.3% / 2595</td>\n",
       "      <td></td>\n",
       "    </tr>\n",
       "  </tbody>\n",
       "</table>\n",
       "</div>"
      ],
      "text/plain": [
       "purpose                       авто недвижимость  образование      свадьба\n",
       "family_status                                                            \n",
       "Не женат / не замужем  12.9% / 637  8.1% / 1596  10.7% / 577             \n",
       "в разводе               7.5% / 281   7.0% / 676   7.1% / 238             \n",
       "вдовец / вдова          9.2% / 218   5.2% / 542   7.5% / 199             \n",
       "гражданский брак       11.8% / 434   9.2% / 989  14.9% / 404  8.0% / 2323\n",
       "женат / замужем        8.4% / 2736  6.9% / 7008  8.3% / 2595             "
      ]
     },
     "execution_count": 61,
     "metadata": {},
     "output_type": "execute_result"
    }
   ],
   "source": [
    "# 'family_status' - 'purpose'\n",
    "\n",
    "family_status_purpose_pivot = data.pivot_table(index='family_status', columns='purpose', values='had_debt', \n",
    "              aggfunc=lambda x: str(round(100*(sum(x)/len(x)), 1))+'% / '+str(len(x)) if len(x)>100  else '').fillna('')\n",
    "family_status_purpose_pivot"
   ]
  },
  {
   "cell_type": "markdown",
   "metadata": {},
   "source": [
    "#### Исследование совокупного влияния признаков `income_grade` - `purpose`"
   ]
  },
  {
   "cell_type": "code",
   "execution_count": 62,
   "metadata": {},
   "outputs": [
    {
     "data": {
      "text/html": [
       "<div>\n",
       "<style scoped>\n",
       "    .dataframe tbody tr th:only-of-type {\n",
       "        vertical-align: middle;\n",
       "    }\n",
       "\n",
       "    .dataframe tbody tr th {\n",
       "        vertical-align: top;\n",
       "    }\n",
       "\n",
       "    .dataframe thead th {\n",
       "        text-align: right;\n",
       "    }\n",
       "</style>\n",
       "<table border=\"1\" class=\"dataframe\">\n",
       "  <thead>\n",
       "    <tr style=\"text-align: right;\">\n",
       "      <th>purpose</th>\n",
       "      <th>авто</th>\n",
       "      <th>недвижимость</th>\n",
       "      <th>образование</th>\n",
       "      <th>свадьба</th>\n",
       "    </tr>\n",
       "    <tr>\n",
       "      <th>income_grade</th>\n",
       "      <th></th>\n",
       "      <th></th>\n",
       "      <th></th>\n",
       "      <th></th>\n",
       "    </tr>\n",
       "  </thead>\n",
       "  <tbody>\n",
       "    <tr>\n",
       "      <th>Высокий доход</th>\n",
       "      <td>8.5% / 1089</td>\n",
       "      <td>6.8% / 2754</td>\n",
       "      <td>7.9% / 944</td>\n",
       "      <td>5.0% / 576</td>\n",
       "    </tr>\n",
       "    <tr>\n",
       "      <th>Низкий доход</th>\n",
       "      <td>9.6% / 1047</td>\n",
       "      <td>6.8% / 2671</td>\n",
       "      <td>8.7% / 1041</td>\n",
       "      <td>8.9% / 604</td>\n",
       "    </tr>\n",
       "    <tr>\n",
       "      <th>Средний доход</th>\n",
       "      <td>9.7% / 2170</td>\n",
       "      <td>7.7% / 5386</td>\n",
       "      <td>10.1% / 2028</td>\n",
       "      <td>9.0% / 1143</td>\n",
       "    </tr>\n",
       "  </tbody>\n",
       "</table>\n",
       "</div>"
      ],
      "text/plain": [
       "purpose               авто недвижимость   образование      свадьба\n",
       "income_grade                                                      \n",
       "Высокий доход  8.5% / 1089  6.8% / 2754    7.9% / 944   5.0% / 576\n",
       "Низкий доход   9.6% / 1047  6.8% / 2671   8.7% / 1041   8.9% / 604\n",
       "Средний доход  9.7% / 2170  7.7% / 5386  10.1% / 2028  9.0% / 1143"
      ]
     },
     "execution_count": 62,
     "metadata": {},
     "output_type": "execute_result"
    }
   ],
   "source": [
    "# 'income_grade' - 'purpose'\n",
    "\n",
    "income_grade_purpose_pivot = data.pivot_table(index='income_grade', columns='purpose', values='had_debt', \n",
    "              aggfunc=lambda x: str(round(100*(sum(x)/len(x)), 1))+'% / '+str(len(x)) if len(x)>100  else '').fillna('')\n",
    "income_grade_purpose_pivot"
   ]
  },
  {
   "cell_type": "markdown",
   "metadata": {},
   "source": [
    "**Выводы**\n",
    "\n",
    "В расширенном анализе по парам признаков проявились более заметные расхождения. Поэтому можно предположить, что по мере детализации портрета заемщика, то есть описания его при помощи большего числа критериев, точность предсказания его кредитного рейтинга будет расти. Однако такая подробность описания требует достаточного количества наблюдений в каждой подгруппе, поэтому в рамках этого исследования максимальное число признаков ограничилось двумя. Кроме того, определенных ухищрений требует визуальная интерпретация значений, полученных по трем переменным."
   ]
  },
  {
   "cell_type": "markdown",
   "metadata": {},
   "source": [
    "## Ответьте на вопросы"
   ]
  },
  {
   "cell_type": "markdown",
   "metadata": {},
   "source": [
    "- Есть ли зависимость между наличием детей и возвратом кредита в срок?"
   ]
  },
  {
   "cell_type": "markdown",
   "metadata": {},
   "source": [
    "В датасете содержится недостаточно данных, чтобы сделать обобщенный вывод о надежности многодетных заемщиков (больше двух детей в семье), однако в целом семьи с детьми, как ни странно, оказались менее надежными с точки зрения вероятности своевременного возврата кредита. Вряд ли такие семьи можно назвать безответственными. Вероятно, наличие в семье детей чаще создает финансовые издержки и создает определенные трудности с выплатой долга."
   ]
  },
  {
   "cell_type": "markdown",
   "metadata": {},
   "source": [
    "- Есть ли зависимость между семейным положением и возвратом кредита в срок?"
   ]
  },
  {
   "cell_type": "markdown",
   "metadata": {},
   "source": [
    "Люди, бывшие в браке или находящиеся в нем, имеют в среднем более высокий кредитный рейтинг, чем те, кто официально не расписан или пока не планирует создавать семью. Скорее всего это связано с возрастом и доходом заемщика: как мы выяснили ранее, доход растет практически вплоть до выхода на пенсию."
   ]
  },
  {
   "cell_type": "markdown",
   "metadata": {},
   "source": [
    "- Есть ли зависимость между уровнем дохода и возвратом кредита в срок?"
   ]
  },
  {
   "cell_type": "markdown",
   "metadata": {},
   "source": [
    "Что касается дохода, закономерно самый высокий рейтинг имеют лица с высоким доходом, так как они реже прочих испытатывают финансовые проблемы. На втором месте неожиданно оказались представители категории с низким доходом. Возможно, жизнь научила их жить по средствам и не создавать еще проблемы в отношениях с банками."
   ]
  },
  {
   "cell_type": "markdown",
   "metadata": {},
   "source": [
    "- Как разные цели кредита влияют на его возврат в срок?"
   ]
  },
  {
   "cell_type": "markdown",
   "metadata": {},
   "source": [
    "Что касается целей кредита, то клиенты наиболее часто успешно выплачивают кредит на недвижимость. Еще бы, крыша над головой - одна из первичных потребностей. На втором месте по надежности граждане, бравшие кредит с целью оплаты свадьбы. Вероятно, это связано с размером суммы кредита: вряд ли средняя свадьба может стоить дороже жилья, автомобиля или образования."
   ]
  },
  {
   "cell_type": "markdown",
   "metadata": {},
   "source": [
    "Что касается попарного исследования влияния признаков, то можно выдвинуть следущие тезисы:\n",
    "* Низкая надежность нерасписанных пар с одним ребенком\n",
    "* Наиболее редко не возвращают кредит на недвижимость бездетные и многодетные заемщики\n",
    "* Очень надежными заёмщиками являются люди с низким доходом, потерявшие супруга или супругу\n",
    "* Ненадежными являются нерасписанные или неженатые заемщики, планирующие покупку автомобиля или получение образования\n",
    "* Кредиты на свадьбу очень стабильно возвращают люди с высоким доходом"
   ]
  },
  {
   "cell_type": "markdown",
   "metadata": {},
   "source": [
    "## Общий вывод"
   ]
  },
  {
   "cell_type": "markdown",
   "metadata": {},
   "source": [
    "Исследование выявило некоторые тенденции. Самой надежной целью кредита являются операции с недвижимостью. Наличие детей у заемщика скорее негативно сказывается на доверии кнему со стороны банка, тем более, если пара не расписана - узаконенные супружеские отношения повышают шанс клиента получить кредит. С точки зрения дохода лучше, чтобы клиент не входил в средний класс."
   ]
  }
 ],
 "metadata": {
  "ExecuteTimeLog": [
   {
    "duration": 283,
    "start_time": "2021-11-15T15:34:48.934Z"
   },
   {
    "duration": 666,
    "start_time": "2021-11-15T15:34:55.079Z"
   },
   {
    "duration": 10,
    "start_time": "2021-11-15T15:34:55.747Z"
   },
   {
    "duration": 278,
    "start_time": "2021-11-15T15:35:05.817Z"
   },
   {
    "duration": 282,
    "start_time": "2021-11-15T15:35:15.224Z"
   },
   {
    "duration": 3,
    "start_time": "2021-11-15T15:35:51.365Z"
   },
   {
    "duration": 5,
    "start_time": "2021-11-15T15:36:00.119Z"
   },
   {
    "duration": 299,
    "start_time": "2021-11-15T15:36:05.758Z"
   },
   {
    "duration": 5,
    "start_time": "2021-11-15T15:36:06.167Z"
   },
   {
    "duration": 6,
    "start_time": "2021-11-15T15:36:39.683Z"
   },
   {
    "duration": 5,
    "start_time": "2021-11-15T15:36:49.629Z"
   },
   {
    "duration": 4,
    "start_time": "2021-11-15T15:36:54.163Z"
   },
   {
    "duration": 105,
    "start_time": "2021-11-16T12:35:30.362Z"
   },
   {
    "duration": 3,
    "start_time": "2021-11-16T12:35:30.761Z"
   },
   {
    "duration": 3216,
    "start_time": "2021-11-16T12:35:31.595Z"
   },
   {
    "duration": 25,
    "start_time": "2021-11-16T12:35:34.813Z"
   },
   {
    "duration": 84,
    "start_time": "2021-11-16T12:35:55.800Z"
   },
   {
    "duration": 2606,
    "start_time": "2021-11-16T12:36:01.418Z"
   },
   {
    "duration": 23,
    "start_time": "2021-11-16T12:36:06.549Z"
   },
   {
    "duration": 28,
    "start_time": "2021-11-16T12:36:19.047Z"
   },
   {
    "duration": 29,
    "start_time": "2021-11-16T12:36:30.009Z"
   },
   {
    "duration": 2117,
    "start_time": "2021-11-16T12:38:12.632Z"
   },
   {
    "duration": -873,
    "start_time": "2021-11-16T12:38:15.626Z"
   },
   {
    "duration": -877,
    "start_time": "2021-11-16T12:38:15.631Z"
   },
   {
    "duration": -879,
    "start_time": "2021-11-16T12:38:15.634Z"
   },
   {
    "duration": -881,
    "start_time": "2021-11-16T12:38:15.637Z"
   },
   {
    "duration": -883,
    "start_time": "2021-11-16T12:38:15.640Z"
   },
   {
    "duration": -892,
    "start_time": "2021-11-16T12:38:15.650Z"
   },
   {
    "duration": -900,
    "start_time": "2021-11-16T12:38:15.659Z"
   },
   {
    "duration": -903,
    "start_time": "2021-11-16T12:38:15.663Z"
   },
   {
    "duration": -905,
    "start_time": "2021-11-16T12:38:15.665Z"
   },
   {
    "duration": -909,
    "start_time": "2021-11-16T12:38:15.670Z"
   },
   {
    "duration": -920,
    "start_time": "2021-11-16T12:38:15.682Z"
   },
   {
    "duration": -923,
    "start_time": "2021-11-16T12:38:15.686Z"
   },
   {
    "duration": -931,
    "start_time": "2021-11-16T12:38:15.695Z"
   },
   {
    "duration": -933,
    "start_time": "2021-11-16T12:38:15.698Z"
   },
   {
    "duration": -935,
    "start_time": "2021-11-16T12:38:15.701Z"
   },
   {
    "duration": -943,
    "start_time": "2021-11-16T12:38:15.710Z"
   },
   {
    "duration": -946,
    "start_time": "2021-11-16T12:38:15.714Z"
   },
   {
    "duration": -947,
    "start_time": "2021-11-16T12:38:15.716Z"
   },
   {
    "duration": -949,
    "start_time": "2021-11-16T12:38:15.719Z"
   },
   {
    "duration": -958,
    "start_time": "2021-11-16T12:38:15.729Z"
   },
   {
    "duration": -960,
    "start_time": "2021-11-16T12:38:15.732Z"
   },
   {
    "duration": -962,
    "start_time": "2021-11-16T12:38:15.735Z"
   },
   {
    "duration": -969,
    "start_time": "2021-11-16T12:38:15.743Z"
   },
   {
    "duration": -971,
    "start_time": "2021-11-16T12:38:15.746Z"
   },
   {
    "duration": -974,
    "start_time": "2021-11-16T12:38:15.750Z"
   },
   {
    "duration": -975,
    "start_time": "2021-11-16T12:38:15.752Z"
   },
   {
    "duration": -983,
    "start_time": "2021-11-16T12:38:15.761Z"
   },
   {
    "duration": -986,
    "start_time": "2021-11-16T12:38:15.764Z"
   },
   {
    "duration": -988,
    "start_time": "2021-11-16T12:38:15.767Z"
   },
   {
    "duration": -990,
    "start_time": "2021-11-16T12:38:15.770Z"
   },
   {
    "duration": -996,
    "start_time": "2021-11-16T12:38:15.777Z"
   },
   {
    "duration": -999,
    "start_time": "2021-11-16T12:38:15.781Z"
   },
   {
    "duration": -1001,
    "start_time": "2021-11-16T12:38:15.784Z"
   },
   {
    "duration": -1003,
    "start_time": "2021-11-16T12:38:15.787Z"
   },
   {
    "duration": -1005,
    "start_time": "2021-11-16T12:38:15.790Z"
   },
   {
    "duration": -1008,
    "start_time": "2021-11-16T12:38:15.793Z"
   },
   {
    "duration": -1010,
    "start_time": "2021-11-16T12:38:15.796Z"
   },
   {
    "duration": -1012,
    "start_time": "2021-11-16T12:38:15.799Z"
   },
   {
    "duration": -1014,
    "start_time": "2021-11-16T12:38:15.802Z"
   },
   {
    "duration": -1017,
    "start_time": "2021-11-16T12:38:15.806Z"
   },
   {
    "duration": -1019,
    "start_time": "2021-11-16T12:38:15.809Z"
   },
   {
    "duration": -1020,
    "start_time": "2021-11-16T12:38:15.812Z"
   },
   {
    "duration": -1021,
    "start_time": "2021-11-16T12:38:15.814Z"
   },
   {
    "duration": -1024,
    "start_time": "2021-11-16T12:38:15.818Z"
   },
   {
    "duration": -1026,
    "start_time": "2021-11-16T12:38:15.821Z"
   },
   {
    "duration": -1028,
    "start_time": "2021-11-16T12:38:15.824Z"
   },
   {
    "duration": -1030,
    "start_time": "2021-11-16T12:38:15.827Z"
   },
   {
    "duration": -1031,
    "start_time": "2021-11-16T12:38:15.829Z"
   },
   {
    "duration": 237,
    "start_time": "2021-11-16T12:43:51.112Z"
   },
   {
    "duration": 2380,
    "start_time": "2021-11-16T12:43:57.203Z"
   },
   {
    "duration": -895,
    "start_time": "2021-11-16T12:44:00.481Z"
   },
   {
    "duration": -899,
    "start_time": "2021-11-16T12:44:00.486Z"
   },
   {
    "duration": -908,
    "start_time": "2021-11-16T12:44:00.496Z"
   },
   {
    "duration": -909,
    "start_time": "2021-11-16T12:44:00.498Z"
   },
   {
    "duration": -910,
    "start_time": "2021-11-16T12:44:00.500Z"
   },
   {
    "duration": -917,
    "start_time": "2021-11-16T12:44:00.508Z"
   },
   {
    "duration": -918,
    "start_time": "2021-11-16T12:44:00.510Z"
   },
   {
    "duration": -919,
    "start_time": "2021-11-16T12:44:00.512Z"
   },
   {
    "duration": -921,
    "start_time": "2021-11-16T12:44:00.515Z"
   },
   {
    "duration": -921,
    "start_time": "2021-11-16T12:44:00.516Z"
   },
   {
    "duration": -929,
    "start_time": "2021-11-16T12:44:00.525Z"
   },
   {
    "duration": -930,
    "start_time": "2021-11-16T12:44:00.527Z"
   },
   {
    "duration": -933,
    "start_time": "2021-11-16T12:44:00.531Z"
   },
   {
    "duration": -934,
    "start_time": "2021-11-16T12:44:00.533Z"
   },
   {
    "duration": -942,
    "start_time": "2021-11-16T12:44:00.542Z"
   },
   {
    "duration": -945,
    "start_time": "2021-11-16T12:44:00.546Z"
   },
   {
    "duration": -947,
    "start_time": "2021-11-16T12:44:00.548Z"
   },
   {
    "duration": -948,
    "start_time": "2021-11-16T12:44:00.550Z"
   },
   {
    "duration": -956,
    "start_time": "2021-11-16T12:44:00.559Z"
   },
   {
    "duration": -958,
    "start_time": "2021-11-16T12:44:00.562Z"
   },
   {
    "duration": -960,
    "start_time": "2021-11-16T12:44:00.565Z"
   },
   {
    "duration": -961,
    "start_time": "2021-11-16T12:44:00.567Z"
   },
   {
    "duration": -969,
    "start_time": "2021-11-16T12:44:00.576Z"
   },
   {
    "duration": -970,
    "start_time": "2021-11-16T12:44:00.578Z"
   },
   {
    "duration": -973,
    "start_time": "2021-11-16T12:44:00.582Z"
   },
   {
    "duration": -975,
    "start_time": "2021-11-16T12:44:00.584Z"
   },
   {
    "duration": -985,
    "start_time": "2021-11-16T12:44:00.595Z"
   },
   {
    "duration": -986,
    "start_time": "2021-11-16T12:44:00.597Z"
   },
   {
    "duration": -988,
    "start_time": "2021-11-16T12:44:00.600Z"
   },
   {
    "duration": -990,
    "start_time": "2021-11-16T12:44:00.603Z"
   },
   {
    "duration": -996,
    "start_time": "2021-11-16T12:44:00.610Z"
   },
   {
    "duration": -997,
    "start_time": "2021-11-16T12:44:00.612Z"
   },
   {
    "duration": -998,
    "start_time": "2021-11-16T12:44:00.614Z"
   },
   {
    "duration": -999,
    "start_time": "2021-11-16T12:44:00.616Z"
   },
   {
    "duration": -1002,
    "start_time": "2021-11-16T12:44:00.619Z"
   },
   {
    "duration": -1009,
    "start_time": "2021-11-16T12:44:00.627Z"
   },
   {
    "duration": -1008,
    "start_time": "2021-11-16T12:44:00.629Z"
   },
   {
    "duration": -1009,
    "start_time": "2021-11-16T12:44:00.631Z"
   },
   {
    "duration": -1010,
    "start_time": "2021-11-16T12:44:00.633Z"
   },
   {
    "duration": -1017,
    "start_time": "2021-11-16T12:44:00.641Z"
   },
   {
    "duration": -1018,
    "start_time": "2021-11-16T12:44:00.643Z"
   },
   {
    "duration": 60,
    "start_time": "2021-11-16T12:45:37.906Z"
   },
   {
    "duration": 3,
    "start_time": "2021-11-16T12:46:04.756Z"
   },
   {
    "duration": 67,
    "start_time": "2021-11-16T12:46:26.401Z"
   },
   {
    "duration": 4,
    "start_time": "2021-11-16T12:47:02.273Z"
   },
   {
    "duration": 7,
    "start_time": "2021-11-16T12:47:03.547Z"
   },
   {
    "duration": 17,
    "start_time": "2021-11-16T12:47:08.904Z"
   },
   {
    "duration": 21,
    "start_time": "2021-11-16T12:47:10.233Z"
   },
   {
    "duration": 3,
    "start_time": "2021-11-16T12:47:13.485Z"
   },
   {
    "duration": 69,
    "start_time": "2021-11-16T12:47:13.490Z"
   },
   {
    "duration": 3,
    "start_time": "2021-11-16T12:47:13.561Z"
   },
   {
    "duration": 6,
    "start_time": "2021-11-16T12:47:13.566Z"
   },
   {
    "duration": 28,
    "start_time": "2021-11-16T12:47:13.574Z"
   },
   {
    "duration": 22,
    "start_time": "2021-11-16T12:47:13.604Z"
   },
   {
    "duration": 5,
    "start_time": "2021-11-16T12:47:13.628Z"
   },
   {
    "duration": 8,
    "start_time": "2021-11-16T12:47:13.635Z"
   },
   {
    "duration": 173,
    "start_time": "2021-11-16T12:47:13.645Z"
   },
   {
    "duration": 4,
    "start_time": "2021-11-16T12:47:13.820Z"
   },
   {
    "duration": 24,
    "start_time": "2021-11-16T12:47:13.826Z"
   },
   {
    "duration": 11,
    "start_time": "2021-11-16T12:47:13.851Z"
   },
   {
    "duration": 14,
    "start_time": "2021-11-16T12:47:13.864Z"
   },
   {
    "duration": 13,
    "start_time": "2021-11-16T12:47:13.880Z"
   },
   {
    "duration": 8,
    "start_time": "2021-11-16T12:47:13.894Z"
   },
   {
    "duration": 10,
    "start_time": "2021-11-16T12:47:13.903Z"
   },
   {
    "duration": 9,
    "start_time": "2021-11-16T12:47:13.915Z"
   },
   {
    "duration": 13,
    "start_time": "2021-11-16T12:47:13.926Z"
   },
   {
    "duration": 4,
    "start_time": "2021-11-16T12:47:13.943Z"
   },
   {
    "duration": 11,
    "start_time": "2021-11-16T12:47:13.949Z"
   },
   {
    "duration": 29,
    "start_time": "2021-11-16T12:47:13.961Z"
   },
   {
    "duration": 9,
    "start_time": "2021-11-16T12:47:13.992Z"
   },
   {
    "duration": 13,
    "start_time": "2021-11-16T12:47:14.003Z"
   },
   {
    "duration": 11,
    "start_time": "2021-11-16T12:47:14.018Z"
   },
   {
    "duration": 7,
    "start_time": "2021-11-16T12:47:14.031Z"
   },
   {
    "duration": 49,
    "start_time": "2021-11-16T12:47:14.039Z"
   },
   {
    "duration": 16,
    "start_time": "2021-11-16T12:47:14.090Z"
   },
   {
    "duration": 6,
    "start_time": "2021-11-16T12:47:14.108Z"
   },
   {
    "duration": 4,
    "start_time": "2021-11-16T12:47:14.116Z"
   },
   {
    "duration": 7,
    "start_time": "2021-11-16T12:47:14.121Z"
   },
   {
    "duration": 63,
    "start_time": "2021-11-16T12:47:14.130Z"
   },
   {
    "duration": 4,
    "start_time": "2021-11-16T12:47:14.195Z"
   },
   {
    "duration": 426,
    "start_time": "2021-11-16T12:47:14.200Z"
   },
   {
    "duration": 5,
    "start_time": "2021-11-16T12:47:14.628Z"
   },
   {
    "duration": 21,
    "start_time": "2021-11-16T12:47:14.634Z"
   },
   {
    "duration": 3364,
    "start_time": "2021-11-16T12:47:14.657Z"
   },
   {
    "duration": 18,
    "start_time": "2021-11-16T12:47:18.023Z"
   },
   {
    "duration": 19,
    "start_time": "2021-11-16T12:47:18.042Z"
   },
   {
    "duration": 4,
    "start_time": "2021-11-16T12:47:18.062Z"
   },
   {
    "duration": 25,
    "start_time": "2021-11-16T12:47:18.067Z"
   },
   {
    "duration": 11,
    "start_time": "2021-11-16T12:47:18.094Z"
   },
   {
    "duration": 18,
    "start_time": "2021-11-16T12:47:18.107Z"
   },
   {
    "duration": 187,
    "start_time": "2021-11-16T12:47:18.127Z"
   },
   {
    "duration": 4,
    "start_time": "2021-11-16T12:50:07.629Z"
   },
   {
    "duration": 8,
    "start_time": "2021-11-16T12:50:08.294Z"
   },
   {
    "duration": 8,
    "start_time": "2021-11-16T12:50:55.833Z"
   },
   {
    "duration": 5,
    "start_time": "2021-11-16T12:50:59.143Z"
   },
   {
    "duration": 5,
    "start_time": "2021-11-16T12:51:10.389Z"
   },
   {
    "duration": 5,
    "start_time": "2021-11-16T12:51:40.932Z"
   },
   {
    "duration": 241,
    "start_time": "2021-11-16T12:52:06.401Z"
   },
   {
    "duration": 6,
    "start_time": "2021-11-16T12:52:09.980Z"
   },
   {
    "duration": 128,
    "start_time": "2021-11-16T12:56:11.618Z"
   },
   {
    "duration": 7,
    "start_time": "2021-11-16T13:01:41.826Z"
   },
   {
    "duration": 21,
    "start_time": "2021-11-16T13:05:36.170Z"
   },
   {
    "duration": 17,
    "start_time": "2021-11-16T13:05:48.511Z"
   },
   {
    "duration": 13,
    "start_time": "2021-11-16T13:05:57.495Z"
   },
   {
    "duration": 18,
    "start_time": "2021-11-16T13:06:28.045Z"
   },
   {
    "duration": 27,
    "start_time": "2021-11-16T13:07:16.588Z"
   },
   {
    "duration": 14,
    "start_time": "2021-11-16T13:07:34.743Z"
   },
   {
    "duration": 16,
    "start_time": "2021-11-16T13:07:47.397Z"
   },
   {
    "duration": 20,
    "start_time": "2021-11-16T13:08:18.896Z"
   },
   {
    "duration": 19,
    "start_time": "2021-11-16T13:08:32.074Z"
   },
   {
    "duration": 36,
    "start_time": "2021-11-16T13:08:41.606Z"
   },
   {
    "duration": 3,
    "start_time": "2021-11-16T13:08:46.950Z"
   },
   {
    "duration": 14,
    "start_time": "2021-11-16T13:08:57.718Z"
   },
   {
    "duration": 3,
    "start_time": "2021-11-16T13:09:06.481Z"
   },
   {
    "duration": 96,
    "start_time": "2021-11-16T13:09:06.486Z"
   },
   {
    "duration": 4,
    "start_time": "2021-11-16T13:09:06.583Z"
   },
   {
    "duration": 12,
    "start_time": "2021-11-16T13:09:06.588Z"
   },
   {
    "duration": 33,
    "start_time": "2021-11-16T13:09:06.601Z"
   },
   {
    "duration": 25,
    "start_time": "2021-11-16T13:09:06.636Z"
   },
   {
    "duration": 5,
    "start_time": "2021-11-16T13:09:06.662Z"
   },
   {
    "duration": 28,
    "start_time": "2021-11-16T13:09:06.669Z"
   },
   {
    "duration": 137,
    "start_time": "2021-11-16T13:09:06.699Z"
   },
   {
    "duration": 4,
    "start_time": "2021-11-16T13:09:06.838Z"
   },
   {
    "duration": 18,
    "start_time": "2021-11-16T13:09:06.844Z"
   },
   {
    "duration": 19,
    "start_time": "2021-11-16T13:09:06.863Z"
   },
   {
    "duration": 15,
    "start_time": "2021-11-16T13:09:06.884Z"
   },
   {
    "duration": 20,
    "start_time": "2021-11-16T13:09:06.901Z"
   },
   {
    "duration": 13,
    "start_time": "2021-11-16T13:09:06.923Z"
   },
   {
    "duration": 20,
    "start_time": "2021-11-16T13:09:06.937Z"
   },
   {
    "duration": 18,
    "start_time": "2021-11-16T13:09:06.959Z"
   },
   {
    "duration": 17,
    "start_time": "2021-11-16T13:09:06.978Z"
   },
   {
    "duration": 16,
    "start_time": "2021-11-16T13:09:06.997Z"
   },
   {
    "duration": 10,
    "start_time": "2021-11-16T13:09:07.014Z"
   },
   {
    "duration": 17,
    "start_time": "2021-11-16T13:09:07.025Z"
   },
   {
    "duration": 9,
    "start_time": "2021-11-16T13:09:07.044Z"
   },
   {
    "duration": 10,
    "start_time": "2021-11-16T13:09:07.056Z"
   },
   {
    "duration": 11,
    "start_time": "2021-11-16T13:09:07.067Z"
   },
   {
    "duration": 10,
    "start_time": "2021-11-16T13:09:07.087Z"
   },
   {
    "duration": 30,
    "start_time": "2021-11-16T13:09:07.098Z"
   },
   {
    "duration": 18,
    "start_time": "2021-11-16T13:09:07.130Z"
   },
   {
    "duration": 13,
    "start_time": "2021-11-16T13:09:07.149Z"
   },
   {
    "duration": 23,
    "start_time": "2021-11-16T13:09:07.163Z"
   },
   {
    "duration": 12,
    "start_time": "2021-11-16T13:09:07.188Z"
   },
   {
    "duration": 15,
    "start_time": "2021-11-16T13:09:07.201Z"
   },
   {
    "duration": 18,
    "start_time": "2021-11-16T13:09:07.218Z"
   },
   {
    "duration": 40,
    "start_time": "2021-11-16T13:09:07.237Z"
   },
   {
    "duration": 2,
    "start_time": "2021-11-16T13:09:07.279Z"
   },
   {
    "duration": 358,
    "start_time": "2021-11-16T13:09:07.284Z"
   },
   {
    "duration": 3,
    "start_time": "2021-11-16T13:09:07.644Z"
   },
   {
    "duration": 22,
    "start_time": "2021-11-16T13:09:07.648Z"
   },
   {
    "duration": 3586,
    "start_time": "2021-11-16T13:09:07.671Z"
   },
   {
    "duration": 32,
    "start_time": "2021-11-16T13:09:11.259Z"
   },
   {
    "duration": 17,
    "start_time": "2021-11-16T13:09:11.293Z"
   },
   {
    "duration": 10,
    "start_time": "2021-11-16T13:09:11.312Z"
   },
   {
    "duration": 21,
    "start_time": "2021-11-16T13:09:11.323Z"
   },
   {
    "duration": 18,
    "start_time": "2021-11-16T13:09:11.346Z"
   },
   {
    "duration": 12,
    "start_time": "2021-11-16T13:09:11.365Z"
   },
   {
    "duration": 235,
    "start_time": "2021-11-16T13:09:11.378Z"
   },
   {
    "duration": 17,
    "start_time": "2021-11-16T13:13:02.825Z"
   },
   {
    "duration": 3,
    "start_time": "2021-11-16T13:13:25.575Z"
   },
   {
    "duration": 108,
    "start_time": "2021-11-16T13:13:25.580Z"
   },
   {
    "duration": 6,
    "start_time": "2021-11-16T13:13:25.690Z"
   },
   {
    "duration": 7,
    "start_time": "2021-11-16T13:13:25.698Z"
   },
   {
    "duration": 19,
    "start_time": "2021-11-16T13:13:25.707Z"
   },
   {
    "duration": 31,
    "start_time": "2021-11-16T13:13:25.728Z"
   },
   {
    "duration": 35,
    "start_time": "2021-11-16T13:13:25.762Z"
   },
   {
    "duration": 9,
    "start_time": "2021-11-16T13:13:25.801Z"
   },
   {
    "duration": 149,
    "start_time": "2021-11-16T13:13:25.812Z"
   },
   {
    "duration": 5,
    "start_time": "2021-11-16T13:13:25.963Z"
   },
   {
    "duration": 4,
    "start_time": "2021-11-16T13:13:25.970Z"
   },
   {
    "duration": 11,
    "start_time": "2021-11-16T13:13:25.988Z"
   },
   {
    "duration": 6,
    "start_time": "2021-11-16T13:13:26.001Z"
   },
   {
    "duration": 6,
    "start_time": "2021-11-16T13:13:26.009Z"
   },
   {
    "duration": 6,
    "start_time": "2021-11-16T13:13:26.016Z"
   },
   {
    "duration": 5,
    "start_time": "2021-11-16T13:13:26.023Z"
   },
   {
    "duration": 12,
    "start_time": "2021-11-16T13:13:26.030Z"
   },
   {
    "duration": 54,
    "start_time": "2021-11-16T13:13:26.043Z"
   },
   {
    "duration": 15,
    "start_time": "2021-11-16T13:13:26.101Z"
   },
   {
    "duration": 4,
    "start_time": "2021-11-16T13:13:26.118Z"
   },
   {
    "duration": 15,
    "start_time": "2021-11-16T13:13:26.123Z"
   },
   {
    "duration": 6,
    "start_time": "2021-11-16T13:13:26.139Z"
   },
   {
    "duration": 9,
    "start_time": "2021-11-16T13:13:26.147Z"
   },
   {
    "duration": 33,
    "start_time": "2021-11-16T13:13:26.158Z"
   },
   {
    "duration": 12,
    "start_time": "2021-11-16T13:13:26.196Z"
   },
   {
    "duration": 18,
    "start_time": "2021-11-16T13:13:26.210Z"
   },
   {
    "duration": 5,
    "start_time": "2021-11-16T13:13:26.230Z"
   },
   {
    "duration": 4,
    "start_time": "2021-11-16T13:13:26.236Z"
   },
   {
    "duration": 4,
    "start_time": "2021-11-16T13:13:26.242Z"
   },
   {
    "duration": 58,
    "start_time": "2021-11-16T13:13:26.248Z"
   },
   {
    "duration": 3,
    "start_time": "2021-11-16T13:13:26.308Z"
   },
   {
    "duration": 371,
    "start_time": "2021-11-16T13:13:26.312Z"
   },
   {
    "duration": 5,
    "start_time": "2021-11-16T13:13:26.687Z"
   },
   {
    "duration": 27,
    "start_time": "2021-11-16T13:13:26.693Z"
   },
   {
    "duration": 3599,
    "start_time": "2021-11-16T13:13:26.722Z"
   },
   {
    "duration": 19,
    "start_time": "2021-11-16T13:13:30.323Z"
   },
   {
    "duration": 17,
    "start_time": "2021-11-16T13:13:30.344Z"
   },
   {
    "duration": 28,
    "start_time": "2021-11-16T13:13:30.362Z"
   },
   {
    "duration": 12,
    "start_time": "2021-11-16T13:13:30.393Z"
   },
   {
    "duration": 16,
    "start_time": "2021-11-16T13:13:30.407Z"
   },
   {
    "duration": 11,
    "start_time": "2021-11-16T13:13:30.425Z"
   },
   {
    "duration": 4,
    "start_time": "2021-11-16T13:16:01.325Z"
   },
   {
    "duration": 117,
    "start_time": "2021-11-16T13:16:01.331Z"
   },
   {
    "duration": 4,
    "start_time": "2021-11-16T13:16:01.451Z"
   },
   {
    "duration": 44,
    "start_time": "2021-11-16T13:16:01.457Z"
   },
   {
    "duration": 44,
    "start_time": "2021-11-16T13:16:01.502Z"
   },
   {
    "duration": 33,
    "start_time": "2021-11-16T13:16:01.548Z"
   },
   {
    "duration": 10,
    "start_time": "2021-11-16T13:16:01.584Z"
   },
   {
    "duration": 23,
    "start_time": "2021-11-16T13:16:01.597Z"
   },
   {
    "duration": 137,
    "start_time": "2021-11-16T13:16:01.622Z"
   },
   {
    "duration": 4,
    "start_time": "2021-11-16T13:16:01.761Z"
   },
   {
    "duration": 21,
    "start_time": "2021-11-16T13:16:01.768Z"
   },
   {
    "duration": 32,
    "start_time": "2021-11-16T13:16:01.791Z"
   },
   {
    "duration": 26,
    "start_time": "2021-11-16T13:16:01.824Z"
   },
   {
    "duration": 20,
    "start_time": "2021-11-16T13:16:01.851Z"
   },
   {
    "duration": 21,
    "start_time": "2021-11-16T13:16:01.873Z"
   },
   {
    "duration": 14,
    "start_time": "2021-11-16T13:16:01.896Z"
   },
   {
    "duration": 32,
    "start_time": "2021-11-16T13:16:01.912Z"
   },
   {
    "duration": 35,
    "start_time": "2021-11-16T13:16:01.945Z"
   },
   {
    "duration": 36,
    "start_time": "2021-11-16T13:16:01.982Z"
   },
   {
    "duration": 21,
    "start_time": "2021-11-16T13:16:02.019Z"
   },
   {
    "duration": 32,
    "start_time": "2021-11-16T13:16:02.042Z"
   },
   {
    "duration": 30,
    "start_time": "2021-11-16T13:16:02.076Z"
   },
   {
    "duration": 31,
    "start_time": "2021-11-16T13:16:02.109Z"
   },
   {
    "duration": 21,
    "start_time": "2021-11-16T13:16:02.142Z"
   },
   {
    "duration": 36,
    "start_time": "2021-11-16T13:16:02.165Z"
   },
   {
    "duration": 30,
    "start_time": "2021-11-16T13:16:02.203Z"
   },
   {
    "duration": 11,
    "start_time": "2021-11-16T13:16:02.234Z"
   },
   {
    "duration": 19,
    "start_time": "2021-11-16T13:16:02.246Z"
   },
   {
    "duration": 26,
    "start_time": "2021-11-16T13:16:02.267Z"
   },
   {
    "duration": 39,
    "start_time": "2021-11-16T13:16:02.295Z"
   },
   {
    "duration": 12,
    "start_time": "2021-11-16T13:16:02.335Z"
   },
   {
    "duration": 394,
    "start_time": "2021-11-16T13:16:02.349Z"
   },
   {
    "duration": 5,
    "start_time": "2021-11-16T13:16:02.745Z"
   },
   {
    "duration": 39,
    "start_time": "2021-11-16T13:16:02.751Z"
   },
   {
    "duration": 3484,
    "start_time": "2021-11-16T13:16:02.794Z"
   },
   {
    "duration": 31,
    "start_time": "2021-11-16T13:16:06.279Z"
   },
   {
    "duration": 12,
    "start_time": "2021-11-16T13:16:06.312Z"
   },
   {
    "duration": 6,
    "start_time": "2021-11-16T13:16:06.326Z"
   },
   {
    "duration": 11,
    "start_time": "2021-11-16T13:16:06.334Z"
   },
   {
    "duration": 44,
    "start_time": "2021-11-16T13:16:06.347Z"
   },
   {
    "duration": 17,
    "start_time": "2021-11-16T13:16:06.393Z"
   },
   {
    "duration": 24,
    "start_time": "2021-11-16T13:21:39.388Z"
   },
   {
    "duration": 15,
    "start_time": "2021-11-16T13:23:06.568Z"
   },
   {
    "duration": 125,
    "start_time": "2021-11-16T13:23:10.006Z"
   },
   {
    "duration": 10,
    "start_time": "2021-11-16T13:23:12.580Z"
   },
   {
    "duration": 19,
    "start_time": "2021-11-16T13:25:38.785Z"
   },
   {
    "duration": 3289,
    "start_time": "2021-11-16T13:25:39.147Z"
   },
   {
    "duration": 27,
    "start_time": "2021-11-16T13:25:42.438Z"
   },
   {
    "duration": 5,
    "start_time": "2021-11-16T13:26:44.668Z"
   },
   {
    "duration": 3,
    "start_time": "2021-11-16T13:35:14.615Z"
   },
   {
    "duration": 4,
    "start_time": "2021-11-16T13:35:17.496Z"
   },
   {
    "duration": 19,
    "start_time": "2021-11-16T13:36:48.587Z"
   },
   {
    "duration": 3199,
    "start_time": "2021-11-16T13:36:48.990Z"
   },
   {
    "duration": 27,
    "start_time": "2021-11-16T13:36:52.191Z"
   },
   {
    "duration": 20,
    "start_time": "2021-11-16T13:37:25.803Z"
   },
   {
    "duration": 1963,
    "start_time": "2021-11-16T13:37:26.223Z"
   },
   {
    "duration": -865,
    "start_time": "2021-11-16T13:37:29.053Z"
   },
   {
    "duration": 20,
    "start_time": "2021-11-16T13:38:01.109Z"
   },
   {
    "duration": 2099,
    "start_time": "2021-11-16T13:38:01.677Z"
   },
   {
    "duration": -865,
    "start_time": "2021-11-16T13:38:04.643Z"
   },
   {
    "duration": 1023,
    "start_time": "2021-11-16T13:39:37.169Z"
   },
   {
    "duration": 3,
    "start_time": "2021-11-16T13:39:43.044Z"
   },
   {
    "duration": 889,
    "start_time": "2021-11-16T13:39:43.565Z"
   },
   {
    "duration": 4,
    "start_time": "2021-11-16T13:40:15.265Z"
   },
   {
    "duration": 3453,
    "start_time": "2021-11-16T13:40:17.217Z"
   },
   {
    "duration": 35,
    "start_time": "2021-11-16T13:40:20.672Z"
   },
   {
    "duration": 3,
    "start_time": "2021-11-16T13:41:13.035Z"
   },
   {
    "duration": 253,
    "start_time": "2021-11-16T13:41:16.462Z"
   },
   {
    "duration": 3,
    "start_time": "2021-11-16T13:41:27.161Z"
   },
   {
    "duration": 4,
    "start_time": "2021-11-16T13:41:27.467Z"
   },
   {
    "duration": 2,
    "start_time": "2021-11-16T13:41:37.310Z"
   },
   {
    "duration": 4,
    "start_time": "2021-11-16T13:41:37.500Z"
   },
   {
    "duration": 3,
    "start_time": "2021-11-16T13:41:52.350Z"
   },
   {
    "duration": 3,
    "start_time": "2021-11-16T13:41:52.734Z"
   },
   {
    "duration": 3,
    "start_time": "2021-11-16T13:42:12.664Z"
   },
   {
    "duration": 4,
    "start_time": "2021-11-16T13:42:12.901Z"
   },
   {
    "duration": 16,
    "start_time": "2021-11-16T13:42:43.496Z"
   },
   {
    "duration": 2140,
    "start_time": "2021-11-16T13:42:44.313Z"
   },
   {
    "duration": -869,
    "start_time": "2021-11-16T13:42:47.324Z"
   },
   {
    "duration": 258,
    "start_time": "2021-11-16T13:43:14.072Z"
   },
   {
    "duration": 18,
    "start_time": "2021-11-16T13:43:57.939Z"
   },
   {
    "duration": 3465,
    "start_time": "2021-11-16T13:43:58.400Z"
   },
   {
    "duration": 36,
    "start_time": "2021-11-16T13:44:01.867Z"
   },
   {
    "duration": 19,
    "start_time": "2021-11-16T13:44:35.016Z"
   },
   {
    "duration": 3165,
    "start_time": "2021-11-16T13:44:35.365Z"
   },
   {
    "duration": 18,
    "start_time": "2021-11-16T13:44:38.532Z"
   },
   {
    "duration": 19,
    "start_time": "2021-11-16T13:44:55.841Z"
   },
   {
    "duration": 3070,
    "start_time": "2021-11-16T13:44:56.331Z"
   },
   {
    "duration": 28,
    "start_time": "2021-11-16T13:44:59.403Z"
   },
   {
    "duration": 88,
    "start_time": "2021-11-16T13:57:17.116Z"
   },
   {
    "duration": 5,
    "start_time": "2021-11-16T13:57:20.221Z"
   },
   {
    "duration": 3,
    "start_time": "2021-11-16T13:57:24.684Z"
   },
   {
    "duration": 70,
    "start_time": "2021-11-16T13:57:24.689Z"
   },
   {
    "duration": 3,
    "start_time": "2021-11-16T13:57:24.761Z"
   },
   {
    "duration": 23,
    "start_time": "2021-11-16T13:57:24.765Z"
   },
   {
    "duration": 15,
    "start_time": "2021-11-16T13:57:24.789Z"
   },
   {
    "duration": 21,
    "start_time": "2021-11-16T13:57:24.806Z"
   },
   {
    "duration": 5,
    "start_time": "2021-11-16T13:57:24.830Z"
   },
   {
    "duration": 10,
    "start_time": "2021-11-16T13:57:24.837Z"
   },
   {
    "duration": 170,
    "start_time": "2021-11-16T13:57:24.848Z"
   },
   {
    "duration": 4,
    "start_time": "2021-11-16T13:57:25.020Z"
   },
   {
    "duration": 8,
    "start_time": "2021-11-16T13:57:25.025Z"
   },
   {
    "duration": 16,
    "start_time": "2021-11-16T13:57:25.034Z"
   },
   {
    "duration": 5,
    "start_time": "2021-11-16T13:57:25.052Z"
   },
   {
    "duration": 9,
    "start_time": "2021-11-16T13:57:25.058Z"
   },
   {
    "duration": 20,
    "start_time": "2021-11-16T13:57:25.069Z"
   },
   {
    "duration": 4,
    "start_time": "2021-11-16T13:57:25.090Z"
   },
   {
    "duration": 11,
    "start_time": "2021-11-16T13:57:25.095Z"
   },
   {
    "duration": 12,
    "start_time": "2021-11-16T13:57:25.108Z"
   },
   {
    "duration": 12,
    "start_time": "2021-11-16T13:57:25.123Z"
   },
   {
    "duration": 4,
    "start_time": "2021-11-16T13:57:25.137Z"
   },
   {
    "duration": 9,
    "start_time": "2021-11-16T13:57:25.143Z"
   },
   {
    "duration": 37,
    "start_time": "2021-11-16T13:57:25.153Z"
   },
   {
    "duration": 11,
    "start_time": "2021-11-16T13:57:25.192Z"
   },
   {
    "duration": 13,
    "start_time": "2021-11-16T13:57:25.204Z"
   },
   {
    "duration": 8,
    "start_time": "2021-11-16T13:57:25.218Z"
   },
   {
    "duration": 19,
    "start_time": "2021-11-16T13:57:25.227Z"
   },
   {
    "duration": 5,
    "start_time": "2021-11-16T13:57:25.247Z"
   },
   {
    "duration": 4,
    "start_time": "2021-11-16T13:57:25.287Z"
   },
   {
    "duration": 8,
    "start_time": "2021-11-16T13:57:25.292Z"
   },
   {
    "duration": 25,
    "start_time": "2021-11-16T13:57:25.301Z"
   },
   {
    "duration": 2,
    "start_time": "2021-11-16T13:57:25.327Z"
   },
   {
    "duration": 5,
    "start_time": "2021-11-16T13:57:25.331Z"
   },
   {
    "duration": 8,
    "start_time": "2021-11-16T13:57:25.337Z"
   },
   {
    "duration": 10,
    "start_time": "2021-11-16T13:57:25.346Z"
   },
   {
    "duration": 43,
    "start_time": "2021-11-16T13:57:25.358Z"
   },
   {
    "duration": 3472,
    "start_time": "2021-11-16T13:57:25.403Z"
   },
   {
    "duration": 35,
    "start_time": "2021-11-16T13:57:28.877Z"
   },
   {
    "duration": 12,
    "start_time": "2021-11-16T13:57:28.913Z"
   },
   {
    "duration": 4,
    "start_time": "2021-11-16T13:57:28.927Z"
   },
   {
    "duration": 17,
    "start_time": "2021-11-16T13:57:28.933Z"
   },
   {
    "duration": 8,
    "start_time": "2021-11-16T13:57:28.952Z"
   },
   {
    "duration": 29,
    "start_time": "2021-11-16T13:57:28.961Z"
   },
   {
    "duration": 12,
    "start_time": "2021-11-16T13:58:01.068Z"
   },
   {
    "duration": 3,
    "start_time": "2021-11-16T13:58:32.154Z"
   },
   {
    "duration": 341,
    "start_time": "2021-11-16T13:58:32.482Z"
   },
   {
    "duration": 86,
    "start_time": "2021-11-16T13:58:32.826Z"
   },
   {
    "duration": 11,
    "start_time": "2021-11-16T13:58:33.544Z"
   },
   {
    "duration": 6333,
    "start_time": "2021-11-16T13:58:38.256Z"
   },
   {
    "duration": 2,
    "start_time": "2021-11-16T13:59:12.644Z"
   },
   {
    "duration": 3,
    "start_time": "2021-11-16T13:59:13.001Z"
   },
   {
    "duration": 321,
    "start_time": "2021-11-16T13:59:13.362Z"
   },
   {
    "duration": 262,
    "start_time": "2021-11-16T13:59:14.031Z"
   },
   {
    "duration": 3,
    "start_time": "2021-11-16T14:00:21.741Z"
   },
   {
    "duration": 322,
    "start_time": "2021-11-16T14:00:22.071Z"
   },
   {
    "duration": 11,
    "start_time": "2021-11-16T14:00:26.991Z"
   },
   {
    "duration": -857,
    "start_time": "2021-11-16T14:14:32.394Z"
   },
   {
    "duration": -859,
    "start_time": "2021-11-16T14:14:32.397Z"
   },
   {
    "duration": -862,
    "start_time": "2021-11-16T14:14:32.401Z"
   },
   {
    "duration": -871,
    "start_time": "2021-11-16T14:14:32.411Z"
   },
   {
    "duration": -874,
    "start_time": "2021-11-16T14:14:32.414Z"
   },
   {
    "duration": -875,
    "start_time": "2021-11-16T14:14:32.416Z"
   },
   {
    "duration": -877,
    "start_time": "2021-11-16T14:14:32.419Z"
   },
   {
    "duration": -883,
    "start_time": "2021-11-16T14:14:32.426Z"
   },
   {
    "duration": -885,
    "start_time": "2021-11-16T14:14:32.429Z"
   },
   {
    "duration": -886,
    "start_time": "2021-11-16T14:14:32.431Z"
   },
   {
    "duration": -887,
    "start_time": "2021-11-16T14:14:32.433Z"
   },
   {
    "duration": -889,
    "start_time": "2021-11-16T14:14:32.436Z"
   },
   {
    "duration": -896,
    "start_time": "2021-11-16T14:14:32.444Z"
   },
   {
    "duration": -899,
    "start_time": "2021-11-16T14:14:32.447Z"
   },
   {
    "duration": -900,
    "start_time": "2021-11-16T14:14:32.449Z"
   },
   {
    "duration": -902,
    "start_time": "2021-11-16T14:14:32.452Z"
   },
   {
    "duration": -909,
    "start_time": "2021-11-16T14:14:32.460Z"
   },
   {
    "duration": -912,
    "start_time": "2021-11-16T14:14:32.464Z"
   },
   {
    "duration": -913,
    "start_time": "2021-11-16T14:14:32.466Z"
   },
   {
    "duration": -914,
    "start_time": "2021-11-16T14:14:32.468Z"
   },
   {
    "duration": -922,
    "start_time": "2021-11-16T14:14:32.477Z"
   },
   {
    "duration": -924,
    "start_time": "2021-11-16T14:14:32.480Z"
   },
   {
    "duration": -925,
    "start_time": "2021-11-16T14:14:32.482Z"
   },
   {
    "duration": -926,
    "start_time": "2021-11-16T14:14:32.484Z"
   },
   {
    "duration": -928,
    "start_time": "2021-11-16T14:14:32.487Z"
   },
   {
    "duration": -928,
    "start_time": "2021-11-16T14:14:32.488Z"
   },
   {
    "duration": -930,
    "start_time": "2021-11-16T14:14:32.491Z"
   },
   {
    "duration": -931,
    "start_time": "2021-11-16T14:14:32.493Z"
   },
   {
    "duration": -932,
    "start_time": "2021-11-16T14:14:32.495Z"
   },
   {
    "duration": -933,
    "start_time": "2021-11-16T14:14:32.497Z"
   },
   {
    "duration": -934,
    "start_time": "2021-11-16T14:14:32.499Z"
   },
   {
    "duration": -935,
    "start_time": "2021-11-16T14:14:32.501Z"
   },
   {
    "duration": -936,
    "start_time": "2021-11-16T14:14:32.503Z"
   },
   {
    "duration": -937,
    "start_time": "2021-11-16T14:14:32.505Z"
   },
   {
    "duration": -939,
    "start_time": "2021-11-16T14:14:32.508Z"
   },
   {
    "duration": -940,
    "start_time": "2021-11-16T14:14:32.510Z"
   },
   {
    "duration": -941,
    "start_time": "2021-11-16T14:14:32.512Z"
   },
   {
    "duration": -942,
    "start_time": "2021-11-16T14:14:32.514Z"
   },
   {
    "duration": -943,
    "start_time": "2021-11-16T14:14:32.516Z"
   },
   {
    "duration": -946,
    "start_time": "2021-11-16T14:14:32.520Z"
   },
   {
    "duration": -949,
    "start_time": "2021-11-16T14:14:32.523Z"
   },
   {
    "duration": 6321,
    "start_time": "2021-11-16T14:14:43.884Z"
   },
   {
    "duration": 3,
    "start_time": "2021-11-16T14:15:05.915Z"
   },
   {
    "duration": 66,
    "start_time": "2021-11-16T14:15:05.920Z"
   },
   {
    "duration": 3,
    "start_time": "2021-11-16T14:15:05.988Z"
   },
   {
    "duration": 9,
    "start_time": "2021-11-16T14:15:05.992Z"
   },
   {
    "duration": 16,
    "start_time": "2021-11-16T14:15:06.003Z"
   },
   {
    "duration": 20,
    "start_time": "2021-11-16T14:15:06.021Z"
   },
   {
    "duration": 5,
    "start_time": "2021-11-16T14:15:06.042Z"
   },
   {
    "duration": 8,
    "start_time": "2021-11-16T14:15:06.048Z"
   },
   {
    "duration": 159,
    "start_time": "2021-11-16T14:15:06.058Z"
   },
   {
    "duration": 4,
    "start_time": "2021-11-16T14:15:06.220Z"
   },
   {
    "duration": 5,
    "start_time": "2021-11-16T14:15:06.225Z"
   },
   {
    "duration": 9,
    "start_time": "2021-11-16T14:15:06.232Z"
   },
   {
    "duration": 5,
    "start_time": "2021-11-16T14:15:06.242Z"
   },
   {
    "duration": 6,
    "start_time": "2021-11-16T14:15:06.249Z"
   },
   {
    "duration": 36,
    "start_time": "2021-11-16T14:15:06.256Z"
   },
   {
    "duration": 5,
    "start_time": "2021-11-16T14:15:06.294Z"
   },
   {
    "duration": 13,
    "start_time": "2021-11-16T14:15:06.300Z"
   },
   {
    "duration": 12,
    "start_time": "2021-11-16T14:15:06.314Z"
   },
   {
    "duration": 14,
    "start_time": "2021-11-16T14:15:06.327Z"
   },
   {
    "duration": 4,
    "start_time": "2021-11-16T14:15:06.343Z"
   },
   {
    "duration": 39,
    "start_time": "2021-11-16T14:15:06.349Z"
   },
   {
    "duration": 9,
    "start_time": "2021-11-16T14:15:06.390Z"
   },
   {
    "duration": 8,
    "start_time": "2021-11-16T14:15:06.401Z"
   },
   {
    "duration": 12,
    "start_time": "2021-11-16T14:15:06.411Z"
   },
   {
    "duration": 16,
    "start_time": "2021-11-16T14:15:06.424Z"
   },
   {
    "duration": 11,
    "start_time": "2021-11-16T14:15:06.441Z"
   },
   {
    "duration": 35,
    "start_time": "2021-11-16T14:15:06.456Z"
   },
   {
    "duration": 6,
    "start_time": "2021-11-16T14:15:06.493Z"
   },
   {
    "duration": 11,
    "start_time": "2021-11-16T14:15:06.500Z"
   },
   {
    "duration": 15,
    "start_time": "2021-11-16T14:15:06.513Z"
   },
   {
    "duration": 27,
    "start_time": "2021-11-16T14:15:06.529Z"
   },
   {
    "duration": 2,
    "start_time": "2021-11-16T14:15:06.558Z"
   },
   {
    "duration": 361,
    "start_time": "2021-11-16T14:15:06.562Z"
   },
   {
    "duration": 21,
    "start_time": "2021-11-16T14:15:06.924Z"
   },
   {
    "duration": 3150,
    "start_time": "2021-11-16T14:15:06.947Z"
   },
   {
    "duration": 27,
    "start_time": "2021-11-16T14:15:10.099Z"
   },
   {
    "duration": 29,
    "start_time": "2021-11-16T14:15:10.127Z"
   },
   {
    "duration": 14,
    "start_time": "2021-11-16T14:15:10.158Z"
   },
   {
    "duration": 8,
    "start_time": "2021-11-16T14:15:10.174Z"
   },
   {
    "duration": 9,
    "start_time": "2021-11-16T14:15:10.183Z"
   },
   {
    "duration": 8,
    "start_time": "2021-11-16T14:15:10.194Z"
   },
   {
    "duration": 3,
    "start_time": "2021-11-16T14:18:29.019Z"
   },
   {
    "duration": 69,
    "start_time": "2021-11-16T14:18:29.024Z"
   },
   {
    "duration": 3,
    "start_time": "2021-11-16T14:18:29.095Z"
   },
   {
    "duration": 7,
    "start_time": "2021-11-16T14:18:29.100Z"
   },
   {
    "duration": 19,
    "start_time": "2021-11-16T14:18:29.109Z"
   },
   {
    "duration": 21,
    "start_time": "2021-11-16T14:18:29.129Z"
   },
   {
    "duration": 4,
    "start_time": "2021-11-16T14:18:29.151Z"
   },
   {
    "duration": 36,
    "start_time": "2021-11-16T14:18:29.157Z"
   },
   {
    "duration": 203,
    "start_time": "2021-11-16T14:18:29.195Z"
   },
   {
    "duration": 5,
    "start_time": "2021-11-16T14:18:29.400Z"
   },
   {
    "duration": 5,
    "start_time": "2021-11-16T14:18:29.406Z"
   },
   {
    "duration": 8,
    "start_time": "2021-11-16T14:18:29.412Z"
   },
   {
    "duration": 6,
    "start_time": "2021-11-16T14:18:29.422Z"
   },
   {
    "duration": 6,
    "start_time": "2021-11-16T14:18:29.430Z"
   },
   {
    "duration": 5,
    "start_time": "2021-11-16T14:18:29.437Z"
   },
   {
    "duration": 48,
    "start_time": "2021-11-16T14:18:29.444Z"
   },
   {
    "duration": 11,
    "start_time": "2021-11-16T14:18:29.494Z"
   },
   {
    "duration": 13,
    "start_time": "2021-11-16T14:18:29.507Z"
   },
   {
    "duration": 16,
    "start_time": "2021-11-16T14:18:29.522Z"
   },
   {
    "duration": 9,
    "start_time": "2021-11-16T14:18:29.539Z"
   },
   {
    "duration": 7,
    "start_time": "2021-11-16T14:18:29.549Z"
   },
   {
    "duration": 34,
    "start_time": "2021-11-16T14:18:29.557Z"
   },
   {
    "duration": 14,
    "start_time": "2021-11-16T14:18:29.593Z"
   },
   {
    "duration": 11,
    "start_time": "2021-11-16T14:18:29.609Z"
   },
   {
    "duration": 8,
    "start_time": "2021-11-16T14:18:29.621Z"
   },
   {
    "duration": 17,
    "start_time": "2021-11-16T14:18:29.631Z"
   },
   {
    "duration": 37,
    "start_time": "2021-11-16T14:18:29.651Z"
   },
   {
    "duration": 3,
    "start_time": "2021-11-16T14:18:29.690Z"
   },
   {
    "duration": 8,
    "start_time": "2021-11-16T14:18:29.694Z"
   },
   {
    "duration": 24,
    "start_time": "2021-11-16T14:18:29.703Z"
   },
   {
    "duration": 4,
    "start_time": "2021-11-16T14:18:29.729Z"
   },
   {
    "duration": 373,
    "start_time": "2021-11-16T14:18:29.735Z"
   },
   {
    "duration": 20,
    "start_time": "2021-11-16T14:18:30.110Z"
   },
   {
    "duration": 3418,
    "start_time": "2021-11-16T14:18:30.132Z"
   },
   {
    "duration": 37,
    "start_time": "2021-11-16T14:18:33.552Z"
   },
   {
    "duration": 15,
    "start_time": "2021-11-16T14:18:33.591Z"
   },
   {
    "duration": 5,
    "start_time": "2021-11-16T14:18:33.608Z"
   },
   {
    "duration": 9,
    "start_time": "2021-11-16T14:18:33.615Z"
   },
   {
    "duration": 9,
    "start_time": "2021-11-16T14:18:33.626Z"
   },
   {
    "duration": 57,
    "start_time": "2021-11-16T14:18:33.636Z"
   },
   {
    "duration": 19,
    "start_time": "2021-11-16T14:18:43.709Z"
   },
   {
    "duration": 5,
    "start_time": "2021-11-16T14:19:06.163Z"
   },
   {
    "duration": 302,
    "start_time": "2021-11-16T14:22:04.136Z"
   },
   {
    "duration": 298,
    "start_time": "2021-11-16T14:22:20.309Z"
   },
   {
    "duration": 757,
    "start_time": "2021-11-16T14:24:31.300Z"
   },
   {
    "duration": 273,
    "start_time": "2021-11-16T14:24:54.529Z"
   },
   {
    "duration": 276,
    "start_time": "2021-11-16T14:27:24.463Z"
   },
   {
    "duration": 16,
    "start_time": "2021-11-16T14:30:55.922Z"
   },
   {
    "duration": 23,
    "start_time": "2021-11-16T14:31:00.428Z"
   },
   {
    "duration": 20,
    "start_time": "2021-11-16T14:31:12.928Z"
   },
   {
    "duration": 366,
    "start_time": "2021-11-16T14:31:28.818Z"
   },
   {
    "duration": 263,
    "start_time": "2021-11-16T14:31:53.818Z"
   },
   {
    "duration": 2,
    "start_time": "2021-11-16T14:32:07.308Z"
   },
   {
    "duration": 67,
    "start_time": "2021-11-16T14:32:07.312Z"
   },
   {
    "duration": 4,
    "start_time": "2021-11-16T14:32:07.381Z"
   },
   {
    "duration": 8,
    "start_time": "2021-11-16T14:32:07.386Z"
   },
   {
    "duration": 13,
    "start_time": "2021-11-16T14:32:07.395Z"
   },
   {
    "duration": 21,
    "start_time": "2021-11-16T14:32:07.410Z"
   },
   {
    "duration": 6,
    "start_time": "2021-11-16T14:32:07.433Z"
   },
   {
    "duration": 48,
    "start_time": "2021-11-16T14:32:07.441Z"
   },
   {
    "duration": 129,
    "start_time": "2021-11-16T14:32:07.491Z"
   },
   {
    "duration": 5,
    "start_time": "2021-11-16T14:32:07.621Z"
   },
   {
    "duration": 4,
    "start_time": "2021-11-16T14:32:07.627Z"
   },
   {
    "duration": 7,
    "start_time": "2021-11-16T14:32:07.633Z"
   },
   {
    "duration": 6,
    "start_time": "2021-11-16T14:32:07.641Z"
   },
   {
    "duration": 39,
    "start_time": "2021-11-16T14:32:07.649Z"
   },
   {
    "duration": 6,
    "start_time": "2021-11-16T14:32:07.690Z"
   },
   {
    "duration": 5,
    "start_time": "2021-11-16T14:32:07.697Z"
   },
   {
    "duration": 10,
    "start_time": "2021-11-16T14:32:07.704Z"
   },
   {
    "duration": 12,
    "start_time": "2021-11-16T14:32:07.716Z"
   },
   {
    "duration": 56,
    "start_time": "2021-11-16T14:32:07.732Z"
   },
   {
    "duration": 14,
    "start_time": "2021-11-16T14:32:07.790Z"
   },
   {
    "duration": 9,
    "start_time": "2021-11-16T14:32:07.806Z"
   },
   {
    "duration": 26,
    "start_time": "2021-11-16T14:32:07.817Z"
   },
   {
    "duration": 8,
    "start_time": "2021-11-16T14:32:07.845Z"
   },
   {
    "duration": 43,
    "start_time": "2021-11-16T14:32:07.855Z"
   },
   {
    "duration": 9,
    "start_time": "2021-11-16T14:32:07.899Z"
   },
   {
    "duration": 25,
    "start_time": "2021-11-16T14:32:07.910Z"
   },
   {
    "duration": 5,
    "start_time": "2021-11-16T14:32:07.937Z"
   },
   {
    "duration": 4,
    "start_time": "2021-11-16T14:32:07.944Z"
   },
   {
    "duration": 41,
    "start_time": "2021-11-16T14:32:07.950Z"
   },
   {
    "duration": 25,
    "start_time": "2021-11-16T14:32:07.992Z"
   },
   {
    "duration": 2,
    "start_time": "2021-11-16T14:32:08.019Z"
   },
   {
    "duration": 378,
    "start_time": "2021-11-16T14:32:08.023Z"
   },
   {
    "duration": 24,
    "start_time": "2021-11-16T14:32:08.403Z"
   },
   {
    "duration": 3405,
    "start_time": "2021-11-16T14:32:08.428Z"
   },
   {
    "duration": 28,
    "start_time": "2021-11-16T14:32:11.835Z"
   },
   {
    "duration": 20,
    "start_time": "2021-11-16T14:32:11.864Z"
   },
   {
    "duration": 5,
    "start_time": "2021-11-16T14:32:11.886Z"
   },
   {
    "duration": 18,
    "start_time": "2021-11-16T14:32:11.893Z"
   },
   {
    "duration": 8,
    "start_time": "2021-11-16T14:32:11.913Z"
   },
   {
    "duration": 12,
    "start_time": "2021-11-16T14:32:11.922Z"
   },
   {
    "duration": 20,
    "start_time": "2021-11-16T14:32:31.559Z"
   },
   {
    "duration": 18,
    "start_time": "2021-11-16T14:32:59.901Z"
   },
   {
    "duration": 18,
    "start_time": "2021-11-16T14:33:32.429Z"
   },
   {
    "duration": 18,
    "start_time": "2021-11-16T14:33:36.430Z"
   },
   {
    "duration": 281,
    "start_time": "2021-11-16T14:34:29.842Z"
   },
   {
    "duration": 274,
    "start_time": "2021-11-16T14:34:34.293Z"
   },
   {
    "duration": 20,
    "start_time": "2021-11-16T14:34:42.107Z"
   },
   {
    "duration": 2,
    "start_time": "2021-11-16T14:35:04.231Z"
   },
   {
    "duration": 78,
    "start_time": "2021-11-16T14:35:04.235Z"
   },
   {
    "duration": 3,
    "start_time": "2021-11-16T14:35:04.316Z"
   },
   {
    "duration": 11,
    "start_time": "2021-11-16T14:35:04.321Z"
   },
   {
    "duration": 16,
    "start_time": "2021-11-16T14:35:04.333Z"
   },
   {
    "duration": 45,
    "start_time": "2021-11-16T14:35:04.351Z"
   },
   {
    "duration": 6,
    "start_time": "2021-11-16T14:35:04.398Z"
   },
   {
    "duration": 12,
    "start_time": "2021-11-16T14:35:04.407Z"
   },
   {
    "duration": 151,
    "start_time": "2021-11-16T14:35:04.420Z"
   },
   {
    "duration": 17,
    "start_time": "2021-11-16T14:35:04.573Z"
   },
   {
    "duration": 14,
    "start_time": "2021-11-16T14:35:04.592Z"
   },
   {
    "duration": 17,
    "start_time": "2021-11-16T14:35:04.607Z"
   },
   {
    "duration": 12,
    "start_time": "2021-11-16T14:35:04.625Z"
   },
   {
    "duration": 15,
    "start_time": "2021-11-16T14:35:04.639Z"
   },
   {
    "duration": 15,
    "start_time": "2021-11-16T14:35:04.656Z"
   },
   {
    "duration": 15,
    "start_time": "2021-11-16T14:35:04.673Z"
   },
   {
    "duration": 16,
    "start_time": "2021-11-16T14:35:04.690Z"
   },
   {
    "duration": 19,
    "start_time": "2021-11-16T14:35:04.708Z"
   },
   {
    "duration": 26,
    "start_time": "2021-11-16T14:35:04.731Z"
   },
   {
    "duration": 13,
    "start_time": "2021-11-16T14:35:04.759Z"
   },
   {
    "duration": 16,
    "start_time": "2021-11-16T14:35:04.773Z"
   },
   {
    "duration": 27,
    "start_time": "2021-11-16T14:35:04.791Z"
   },
   {
    "duration": 8,
    "start_time": "2021-11-16T14:35:04.819Z"
   },
   {
    "duration": 22,
    "start_time": "2021-11-16T14:35:04.828Z"
   },
   {
    "duration": 13,
    "start_time": "2021-11-16T14:35:04.852Z"
   },
   {
    "duration": 43,
    "start_time": "2021-11-16T14:35:04.867Z"
   },
   {
    "duration": 8,
    "start_time": "2021-11-16T14:35:04.912Z"
   },
   {
    "duration": 13,
    "start_time": "2021-11-16T14:35:04.921Z"
   },
   {
    "duration": 11,
    "start_time": "2021-11-16T14:35:04.936Z"
   },
   {
    "duration": 52,
    "start_time": "2021-11-16T14:35:04.948Z"
   },
   {
    "duration": 4,
    "start_time": "2021-11-16T14:35:05.001Z"
   },
   {
    "duration": 570,
    "start_time": "2021-11-16T14:35:05.007Z"
   },
   {
    "duration": 28,
    "start_time": "2021-11-16T14:35:05.579Z"
   },
   {
    "duration": 3758,
    "start_time": "2021-11-16T14:35:05.610Z"
   },
   {
    "duration": 41,
    "start_time": "2021-11-16T14:35:09.369Z"
   },
   {
    "duration": 12,
    "start_time": "2021-11-16T14:35:09.412Z"
   },
   {
    "duration": 5,
    "start_time": "2021-11-16T14:35:09.425Z"
   },
   {
    "duration": 9,
    "start_time": "2021-11-16T14:35:09.431Z"
   },
   {
    "duration": 10,
    "start_time": "2021-11-16T14:35:09.441Z"
   },
   {
    "duration": 45,
    "start_time": "2021-11-16T14:35:09.453Z"
   },
   {
    "duration": 13,
    "start_time": "2021-11-16T14:37:34.669Z"
   },
   {
    "duration": 3,
    "start_time": "2021-11-16T15:05:01.614Z"
   },
   {
    "duration": 3885,
    "start_time": "2021-11-16T15:05:31.692Z"
   },
   {
    "duration": 4191,
    "start_time": "2021-11-16T15:05:58.947Z"
   },
   {
    "duration": 3772,
    "start_time": "2021-11-16T15:06:09.435Z"
   },
   {
    "duration": 3635,
    "start_time": "2021-11-16T15:07:45.871Z"
   },
   {
    "duration": 3601,
    "start_time": "2021-11-16T15:10:02.087Z"
   },
   {
    "duration": 257,
    "start_time": "2021-11-16T15:18:49.767Z"
   },
   {
    "duration": 3,
    "start_time": "2021-11-16T15:18:52.913Z"
   },
   {
    "duration": 10,
    "start_time": "2021-11-16T15:18:53.320Z"
   },
   {
    "duration": 20,
    "start_time": "2021-11-16T15:18:56.889Z"
   },
   {
    "duration": 3,
    "start_time": "2021-11-16T15:19:17.076Z"
   },
   {
    "duration": 10,
    "start_time": "2021-11-16T15:19:17.492Z"
   },
   {
    "duration": 22,
    "start_time": "2021-11-16T15:19:18.023Z"
   },
   {
    "duration": 7,
    "start_time": "2021-11-16T15:19:40.896Z"
   },
   {
    "duration": 4,
    "start_time": "2021-11-16T15:19:56.237Z"
   },
   {
    "duration": 13,
    "start_time": "2021-11-16T15:19:56.541Z"
   },
   {
    "duration": 22,
    "start_time": "2021-11-16T15:19:56.899Z"
   },
   {
    "duration": 8,
    "start_time": "2021-11-16T15:19:57.434Z"
   },
   {
    "duration": 3,
    "start_time": "2021-11-16T15:21:16.689Z"
   },
   {
    "duration": 10,
    "start_time": "2021-11-16T15:21:17.107Z"
   },
   {
    "duration": 20,
    "start_time": "2021-11-16T15:21:17.518Z"
   },
   {
    "duration": 7,
    "start_time": "2021-11-16T15:21:18.105Z"
   },
   {
    "duration": 5,
    "start_time": "2021-11-16T15:21:34.064Z"
   },
   {
    "duration": 10,
    "start_time": "2021-11-16T15:21:34.620Z"
   },
   {
    "duration": 20,
    "start_time": "2021-11-16T15:21:35.056Z"
   },
   {
    "duration": 8,
    "start_time": "2021-11-16T15:21:35.604Z"
   },
   {
    "duration": 4,
    "start_time": "2021-11-16T15:21:58.166Z"
   },
   {
    "duration": 10,
    "start_time": "2021-11-16T15:21:58.542Z"
   },
   {
    "duration": 20,
    "start_time": "2021-11-16T15:21:58.902Z"
   },
   {
    "duration": 6,
    "start_time": "2021-11-16T15:21:59.321Z"
   },
   {
    "duration": 4,
    "start_time": "2021-11-16T15:22:09.420Z"
   },
   {
    "duration": 10,
    "start_time": "2021-11-16T15:22:09.817Z"
   },
   {
    "duration": 22,
    "start_time": "2021-11-16T15:22:10.220Z"
   },
   {
    "duration": 7,
    "start_time": "2021-11-16T15:22:10.691Z"
   },
   {
    "duration": 3,
    "start_time": "2021-11-16T15:22:16.976Z"
   },
   {
    "duration": 11,
    "start_time": "2021-11-16T15:22:17.361Z"
   },
   {
    "duration": 21,
    "start_time": "2021-11-16T15:22:17.734Z"
   },
   {
    "duration": 7,
    "start_time": "2021-11-16T15:22:18.204Z"
   },
   {
    "duration": 3,
    "start_time": "2021-11-16T15:22:36.543Z"
   },
   {
    "duration": 9,
    "start_time": "2021-11-16T15:22:36.961Z"
   },
   {
    "duration": 21,
    "start_time": "2021-11-16T15:22:37.355Z"
   },
   {
    "duration": 7,
    "start_time": "2021-11-16T15:22:37.841Z"
   },
   {
    "duration": 3,
    "start_time": "2021-11-16T15:22:52.403Z"
   },
   {
    "duration": 11,
    "start_time": "2021-11-16T15:22:52.775Z"
   },
   {
    "duration": 20,
    "start_time": "2021-11-16T15:22:53.109Z"
   },
   {
    "duration": 7,
    "start_time": "2021-11-16T15:22:53.491Z"
   },
   {
    "duration": 3,
    "start_time": "2021-11-16T15:25:02.451Z"
   },
   {
    "duration": 9,
    "start_time": "2021-11-16T15:25:03.105Z"
   },
   {
    "duration": 21,
    "start_time": "2021-11-16T15:25:03.472Z"
   },
   {
    "duration": 7,
    "start_time": "2021-11-16T15:25:03.917Z"
   },
   {
    "duration": 3746,
    "start_time": "2021-11-16T15:25:37.356Z"
   },
   {
    "duration": 3764,
    "start_time": "2021-11-16T15:25:59.934Z"
   },
   {
    "duration": 19,
    "start_time": "2021-11-16T15:26:52.113Z"
   },
   {
    "duration": 7,
    "start_time": "2021-11-16T15:26:52.496Z"
   },
   {
    "duration": 9,
    "start_time": "2021-11-16T15:31:56.270Z"
   },
   {
    "duration": 20,
    "start_time": "2021-11-16T15:31:58.499Z"
   },
   {
    "duration": 262,
    "start_time": "2021-11-16T15:32:21.006Z"
   },
   {
    "duration": 24,
    "start_time": "2021-11-16T15:32:21.462Z"
   },
   {
    "duration": 278,
    "start_time": "2021-11-16T15:32:44.358Z"
   },
   {
    "duration": 293,
    "start_time": "2021-11-16T15:33:15.705Z"
   },
   {
    "duration": 3,
    "start_time": "2021-11-16T15:33:21.038Z"
   },
   {
    "duration": 72,
    "start_time": "2021-11-16T15:33:21.042Z"
   },
   {
    "duration": 3,
    "start_time": "2021-11-16T15:33:21.116Z"
   },
   {
    "duration": 7,
    "start_time": "2021-11-16T15:33:21.121Z"
   },
   {
    "duration": 14,
    "start_time": "2021-11-16T15:33:21.130Z"
   },
   {
    "duration": 58,
    "start_time": "2021-11-16T15:33:21.146Z"
   },
   {
    "duration": 5,
    "start_time": "2021-11-16T15:33:21.207Z"
   },
   {
    "duration": 10,
    "start_time": "2021-11-16T15:33:21.214Z"
   },
   {
    "duration": 148,
    "start_time": "2021-11-16T15:33:21.226Z"
   },
   {
    "duration": 4,
    "start_time": "2021-11-16T15:33:21.375Z"
   },
   {
    "duration": 3,
    "start_time": "2021-11-16T15:33:21.388Z"
   },
   {
    "duration": 8,
    "start_time": "2021-11-16T15:33:21.392Z"
   },
   {
    "duration": 16,
    "start_time": "2021-11-16T15:33:21.401Z"
   },
   {
    "duration": 5,
    "start_time": "2021-11-16T15:33:21.419Z"
   },
   {
    "duration": 5,
    "start_time": "2021-11-16T15:33:21.426Z"
   },
   {
    "duration": 7,
    "start_time": "2021-11-16T15:33:21.432Z"
   },
   {
    "duration": 14,
    "start_time": "2021-11-16T15:33:21.441Z"
   },
   {
    "duration": 39,
    "start_time": "2021-11-16T15:33:21.457Z"
   },
   {
    "duration": 17,
    "start_time": "2021-11-16T15:33:21.500Z"
   },
   {
    "duration": 11,
    "start_time": "2021-11-16T15:33:21.519Z"
   },
   {
    "duration": 9,
    "start_time": "2021-11-16T15:33:21.532Z"
   },
   {
    "duration": 61,
    "start_time": "2021-11-16T15:33:21.542Z"
   },
   {
    "duration": 6,
    "start_time": "2021-11-16T15:33:21.605Z"
   },
   {
    "duration": 19,
    "start_time": "2021-11-16T15:33:21.613Z"
   },
   {
    "duration": 8,
    "start_time": "2021-11-16T15:33:21.634Z"
   },
   {
    "duration": 19,
    "start_time": "2021-11-16T15:33:21.644Z"
   },
   {
    "duration": 25,
    "start_time": "2021-11-16T15:33:21.665Z"
   },
   {
    "duration": 3,
    "start_time": "2021-11-16T15:33:21.691Z"
   },
   {
    "duration": 7,
    "start_time": "2021-11-16T15:33:21.696Z"
   },
   {
    "duration": 23,
    "start_time": "2021-11-16T15:33:21.704Z"
   },
   {
    "duration": 3,
    "start_time": "2021-11-16T15:33:21.728Z"
   },
   {
    "duration": 387,
    "start_time": "2021-11-16T15:33:21.732Z"
   },
   {
    "duration": 25,
    "start_time": "2021-11-16T15:33:22.120Z"
   },
   {
    "duration": 3258,
    "start_time": "2021-11-16T15:33:22.146Z"
   },
   {
    "duration": 16,
    "start_time": "2021-11-16T15:33:25.406Z"
   },
   {
    "duration": 3727,
    "start_time": "2021-11-16T15:33:25.424Z"
   },
   {
    "duration": 6,
    "start_time": "2021-11-16T15:33:29.153Z"
   },
   {
    "duration": 26,
    "start_time": "2021-11-16T15:33:29.161Z"
   },
   {
    "duration": 9,
    "start_time": "2021-11-16T15:33:29.189Z"
   },
   {
    "duration": 20,
    "start_time": "2021-11-16T15:33:29.200Z"
   },
   {
    "duration": 18,
    "start_time": "2021-11-16T15:33:29.221Z"
   },
   {
    "duration": 3,
    "start_time": "2021-11-16T15:34:21.685Z"
   },
   {
    "duration": 73,
    "start_time": "2021-11-16T15:34:21.690Z"
   },
   {
    "duration": 3,
    "start_time": "2021-11-16T15:34:21.765Z"
   },
   {
    "duration": 18,
    "start_time": "2021-11-16T15:34:21.770Z"
   },
   {
    "duration": 15,
    "start_time": "2021-11-16T15:34:21.789Z"
   },
   {
    "duration": 22,
    "start_time": "2021-11-16T15:34:21.805Z"
   },
   {
    "duration": 6,
    "start_time": "2021-11-16T15:34:21.828Z"
   },
   {
    "duration": 13,
    "start_time": "2021-11-16T15:34:21.836Z"
   },
   {
    "duration": 166,
    "start_time": "2021-11-16T15:34:21.851Z"
   },
   {
    "duration": 5,
    "start_time": "2021-11-16T15:34:22.019Z"
   },
   {
    "duration": 7,
    "start_time": "2021-11-16T15:34:22.026Z"
   },
   {
    "duration": 12,
    "start_time": "2021-11-16T15:34:22.034Z"
   },
   {
    "duration": 20,
    "start_time": "2021-11-16T15:34:22.047Z"
   },
   {
    "duration": 22,
    "start_time": "2021-11-16T15:34:22.069Z"
   },
   {
    "duration": 7,
    "start_time": "2021-11-16T15:34:22.093Z"
   },
   {
    "duration": 9,
    "start_time": "2021-11-16T15:34:22.102Z"
   },
   {
    "duration": 27,
    "start_time": "2021-11-16T15:34:22.113Z"
   },
   {
    "duration": 13,
    "start_time": "2021-11-16T15:34:22.142Z"
   },
   {
    "duration": 16,
    "start_time": "2021-11-16T15:34:22.157Z"
   },
   {
    "duration": 23,
    "start_time": "2021-11-16T15:34:22.174Z"
   },
   {
    "duration": 7,
    "start_time": "2021-11-16T15:34:22.199Z"
   },
   {
    "duration": 23,
    "start_time": "2021-11-16T15:34:22.208Z"
   },
   {
    "duration": 8,
    "start_time": "2021-11-16T15:34:22.235Z"
   },
   {
    "duration": 50,
    "start_time": "2021-11-16T15:34:22.245Z"
   },
   {
    "duration": 9,
    "start_time": "2021-11-16T15:34:22.297Z"
   },
   {
    "duration": 19,
    "start_time": "2021-11-16T15:34:22.308Z"
   },
   {
    "duration": 8,
    "start_time": "2021-11-16T15:34:22.329Z"
   },
   {
    "duration": 4,
    "start_time": "2021-11-16T15:34:22.339Z"
   },
   {
    "duration": 45,
    "start_time": "2021-11-16T15:34:22.344Z"
   },
   {
    "duration": 24,
    "start_time": "2021-11-16T15:34:22.390Z"
   },
   {
    "duration": 3,
    "start_time": "2021-11-16T15:34:22.415Z"
   },
   {
    "duration": 367,
    "start_time": "2021-11-16T15:34:22.420Z"
   },
   {
    "duration": 26,
    "start_time": "2021-11-16T15:34:22.789Z"
   },
   {
    "duration": 3385,
    "start_time": "2021-11-16T15:34:22.816Z"
   },
   {
    "duration": 14,
    "start_time": "2021-11-16T15:34:26.203Z"
   },
   {
    "duration": 3889,
    "start_time": "2021-11-16T15:34:26.218Z"
   },
   {
    "duration": 12,
    "start_time": "2021-11-16T15:34:30.109Z"
   },
   {
    "duration": 17,
    "start_time": "2021-11-16T15:34:30.123Z"
   },
   {
    "duration": 6839,
    "start_time": "2021-11-16T15:34:30.141Z"
   },
   {
    "duration": -872,
    "start_time": "2021-11-16T15:34:37.854Z"
   },
   {
    "duration": -874,
    "start_time": "2021-11-16T15:34:37.857Z"
   },
   {
    "duration": 3,
    "start_time": "2021-11-16T15:35:03.607Z"
   },
   {
    "duration": 75,
    "start_time": "2021-11-16T15:35:03.613Z"
   },
   {
    "duration": 4,
    "start_time": "2021-11-16T15:35:03.689Z"
   },
   {
    "duration": 18,
    "start_time": "2021-11-16T15:35:03.694Z"
   },
   {
    "duration": 23,
    "start_time": "2021-11-16T15:35:03.714Z"
   },
   {
    "duration": 23,
    "start_time": "2021-11-16T15:35:03.739Z"
   },
   {
    "duration": 5,
    "start_time": "2021-11-16T15:35:03.764Z"
   },
   {
    "duration": 27,
    "start_time": "2021-11-16T15:35:03.770Z"
   },
   {
    "duration": 140,
    "start_time": "2021-11-16T15:35:03.799Z"
   },
   {
    "duration": 4,
    "start_time": "2021-11-16T15:35:03.941Z"
   },
   {
    "duration": 17,
    "start_time": "2021-11-16T15:35:03.947Z"
   },
   {
    "duration": 23,
    "start_time": "2021-11-16T15:35:03.965Z"
   },
   {
    "duration": 6,
    "start_time": "2021-11-16T15:35:03.990Z"
   },
   {
    "duration": 14,
    "start_time": "2021-11-16T15:35:03.997Z"
   },
   {
    "duration": 17,
    "start_time": "2021-11-16T15:35:04.012Z"
   },
   {
    "duration": 10,
    "start_time": "2021-11-16T15:35:04.031Z"
   },
   {
    "duration": 16,
    "start_time": "2021-11-16T15:35:04.042Z"
   },
   {
    "duration": 16,
    "start_time": "2021-11-16T15:35:04.060Z"
   },
   {
    "duration": 20,
    "start_time": "2021-11-16T15:35:04.079Z"
   },
   {
    "duration": 21,
    "start_time": "2021-11-16T15:35:04.101Z"
   },
   {
    "duration": 10,
    "start_time": "2021-11-16T15:35:04.124Z"
   },
   {
    "duration": 21,
    "start_time": "2021-11-16T15:35:04.136Z"
   },
   {
    "duration": 7,
    "start_time": "2021-11-16T15:35:04.158Z"
   },
   {
    "duration": 31,
    "start_time": "2021-11-16T15:35:04.166Z"
   },
   {
    "duration": 11,
    "start_time": "2021-11-16T15:35:04.199Z"
   },
   {
    "duration": 21,
    "start_time": "2021-11-16T15:35:04.212Z"
   },
   {
    "duration": 5,
    "start_time": "2021-11-16T15:35:04.235Z"
   },
   {
    "duration": 11,
    "start_time": "2021-11-16T15:35:04.241Z"
   },
   {
    "duration": 9,
    "start_time": "2021-11-16T15:35:04.253Z"
   },
   {
    "duration": 44,
    "start_time": "2021-11-16T15:35:04.263Z"
   },
   {
    "duration": 2,
    "start_time": "2021-11-16T15:35:04.309Z"
   },
   {
    "duration": 361,
    "start_time": "2021-11-16T15:35:04.313Z"
   },
   {
    "duration": 29,
    "start_time": "2021-11-16T15:35:04.676Z"
   },
   {
    "duration": 3328,
    "start_time": "2021-11-16T15:35:04.707Z"
   },
   {
    "duration": 13,
    "start_time": "2021-11-16T15:35:08.037Z"
   },
   {
    "duration": 3718,
    "start_time": "2021-11-16T15:35:08.051Z"
   },
   {
    "duration": 14,
    "start_time": "2021-11-16T15:35:11.771Z"
   },
   {
    "duration": 18,
    "start_time": "2021-11-16T15:35:11.786Z"
   },
   {
    "duration": 32,
    "start_time": "2021-11-16T15:35:11.805Z"
   },
   {
    "duration": 18,
    "start_time": "2021-11-16T15:35:11.839Z"
   },
   {
    "duration": 18,
    "start_time": "2021-11-16T15:35:11.858Z"
   },
   {
    "duration": 482,
    "start_time": "2021-11-16T15:35:56.678Z"
   },
   {
    "duration": -869,
    "start_time": "2021-11-16T15:35:58.030Z"
   },
   {
    "duration": 3,
    "start_time": "2021-11-16T15:36:01.514Z"
   },
   {
    "duration": 81,
    "start_time": "2021-11-16T15:36:01.519Z"
   },
   {
    "duration": 3,
    "start_time": "2021-11-16T15:36:01.602Z"
   },
   {
    "duration": 54,
    "start_time": "2021-11-16T15:36:01.607Z"
   },
   {
    "duration": 24,
    "start_time": "2021-11-16T15:36:01.662Z"
   },
   {
    "duration": 41,
    "start_time": "2021-11-16T15:36:01.688Z"
   },
   {
    "duration": 17,
    "start_time": "2021-11-16T15:36:01.731Z"
   },
   {
    "duration": 29,
    "start_time": "2021-11-16T15:36:01.750Z"
   },
   {
    "duration": 155,
    "start_time": "2021-11-16T15:36:01.782Z"
   },
   {
    "duration": 5,
    "start_time": "2021-11-16T15:36:01.939Z"
   },
   {
    "duration": 18,
    "start_time": "2021-11-16T15:36:01.945Z"
   },
   {
    "duration": 17,
    "start_time": "2021-11-16T15:36:01.965Z"
   },
   {
    "duration": 19,
    "start_time": "2021-11-16T15:36:01.984Z"
   },
   {
    "duration": 29,
    "start_time": "2021-11-16T15:36:02.004Z"
   },
   {
    "duration": 26,
    "start_time": "2021-11-16T15:36:02.035Z"
   },
   {
    "duration": 44,
    "start_time": "2021-11-16T15:36:02.063Z"
   },
   {
    "duration": 68,
    "start_time": "2021-11-16T15:36:02.109Z"
   },
   {
    "duration": 51,
    "start_time": "2021-11-16T15:36:02.179Z"
   },
   {
    "duration": 45,
    "start_time": "2021-11-16T15:36:02.231Z"
   },
   {
    "duration": 26,
    "start_time": "2021-11-16T15:36:02.277Z"
   },
   {
    "duration": 34,
    "start_time": "2021-11-16T15:36:02.305Z"
   },
   {
    "duration": 56,
    "start_time": "2021-11-16T15:36:02.340Z"
   },
   {
    "duration": 15,
    "start_time": "2021-11-16T15:36:02.398Z"
   },
   {
    "duration": 24,
    "start_time": "2021-11-16T15:36:02.415Z"
   },
   {
    "duration": 29,
    "start_time": "2021-11-16T15:36:02.440Z"
   },
   {
    "duration": 29,
    "start_time": "2021-11-16T15:36:02.471Z"
   },
   {
    "duration": 24,
    "start_time": "2021-11-16T15:36:02.503Z"
   },
   {
    "duration": 27,
    "start_time": "2021-11-16T15:36:02.530Z"
   },
   {
    "duration": 29,
    "start_time": "2021-11-16T15:36:02.559Z"
   },
   {
    "duration": 45,
    "start_time": "2021-11-16T15:36:02.590Z"
   },
   {
    "duration": 17,
    "start_time": "2021-11-16T15:36:02.636Z"
   },
   {
    "duration": 359,
    "start_time": "2021-11-16T15:36:02.655Z"
   },
   {
    "duration": 25,
    "start_time": "2021-11-16T15:36:03.015Z"
   },
   {
    "duration": 3160,
    "start_time": "2021-11-16T15:36:03.042Z"
   },
   {
    "duration": 13,
    "start_time": "2021-11-16T15:36:06.204Z"
   },
   {
    "duration": 3619,
    "start_time": "2021-11-16T15:36:06.218Z"
   },
   {
    "duration": 12,
    "start_time": "2021-11-16T15:36:09.839Z"
   },
   {
    "duration": 14,
    "start_time": "2021-11-16T15:36:09.852Z"
   },
   {
    "duration": 10,
    "start_time": "2021-11-16T15:36:09.868Z"
   },
   {
    "duration": 20,
    "start_time": "2021-11-16T15:36:09.879Z"
   },
   {
    "duration": 17,
    "start_time": "2021-11-16T15:36:09.901Z"
   },
   {
    "duration": 12,
    "start_time": "2021-11-16T15:39:44.522Z"
   },
   {
    "duration": 3,
    "start_time": "2021-11-16T15:39:54.231Z"
   },
   {
    "duration": 73,
    "start_time": "2021-11-16T15:39:54.236Z"
   },
   {
    "duration": 3,
    "start_time": "2021-11-16T15:39:54.311Z"
   },
   {
    "duration": 14,
    "start_time": "2021-11-16T15:39:54.316Z"
   },
   {
    "duration": 23,
    "start_time": "2021-11-16T15:39:54.331Z"
   },
   {
    "duration": 46,
    "start_time": "2021-11-16T15:39:54.355Z"
   },
   {
    "duration": 6,
    "start_time": "2021-11-16T15:39:54.402Z"
   },
   {
    "duration": 21,
    "start_time": "2021-11-16T15:39:54.409Z"
   },
   {
    "duration": 136,
    "start_time": "2021-11-16T15:39:54.433Z"
   },
   {
    "duration": 4,
    "start_time": "2021-11-16T15:39:54.571Z"
   },
   {
    "duration": 13,
    "start_time": "2021-11-16T15:39:54.576Z"
   },
   {
    "duration": 18,
    "start_time": "2021-11-16T15:39:54.591Z"
   },
   {
    "duration": 18,
    "start_time": "2021-11-16T15:39:54.610Z"
   },
   {
    "duration": 27,
    "start_time": "2021-11-16T15:39:54.629Z"
   },
   {
    "duration": 21,
    "start_time": "2021-11-16T15:39:54.657Z"
   },
   {
    "duration": 12,
    "start_time": "2021-11-16T15:39:54.680Z"
   },
   {
    "duration": 17,
    "start_time": "2021-11-16T15:39:54.693Z"
   },
   {
    "duration": 30,
    "start_time": "2021-11-16T15:39:54.712Z"
   },
   {
    "duration": 19,
    "start_time": "2021-11-16T15:39:54.744Z"
   },
   {
    "duration": 17,
    "start_time": "2021-11-16T15:39:54.764Z"
   },
   {
    "duration": 17,
    "start_time": "2021-11-16T15:39:54.782Z"
   },
   {
    "duration": 24,
    "start_time": "2021-11-16T15:39:54.800Z"
   },
   {
    "duration": 12,
    "start_time": "2021-11-16T15:39:54.825Z"
   },
   {
    "duration": 20,
    "start_time": "2021-11-16T15:39:54.838Z"
   },
   {
    "duration": 15,
    "start_time": "2021-11-16T15:39:54.860Z"
   },
   {
    "duration": 30,
    "start_time": "2021-11-16T15:39:54.876Z"
   },
   {
    "duration": 24,
    "start_time": "2021-11-16T15:39:54.909Z"
   },
   {
    "duration": 14,
    "start_time": "2021-11-16T15:39:54.935Z"
   },
   {
    "duration": 14,
    "start_time": "2021-11-16T15:39:54.950Z"
   },
   {
    "duration": 35,
    "start_time": "2021-11-16T15:39:54.965Z"
   },
   {
    "duration": 2,
    "start_time": "2021-11-16T15:39:55.002Z"
   },
   {
    "duration": 358,
    "start_time": "2021-11-16T15:39:55.006Z"
   },
   {
    "duration": 31,
    "start_time": "2021-11-16T15:39:55.366Z"
   },
   {
    "duration": 3290,
    "start_time": "2021-11-16T15:39:55.398Z"
   },
   {
    "duration": 13,
    "start_time": "2021-11-16T15:39:58.690Z"
   },
   {
    "duration": 3818,
    "start_time": "2021-11-16T15:39:58.704Z"
   },
   {
    "duration": 33,
    "start_time": "2021-11-16T15:40:02.524Z"
   },
   {
    "duration": 29,
    "start_time": "2021-11-16T15:40:02.559Z"
   },
   {
    "duration": 42,
    "start_time": "2021-11-16T15:40:02.590Z"
   },
   {
    "duration": 32,
    "start_time": "2021-11-16T15:40:02.634Z"
   },
   {
    "duration": 14,
    "start_time": "2021-11-16T15:40:02.667Z"
   },
   {
    "duration": 5,
    "start_time": "2021-11-16T17:20:35.954Z"
   },
   {
    "duration": 4,
    "start_time": "2021-11-16T17:21:01.464Z"
   },
   {
    "duration": 4,
    "start_time": "2021-11-16T17:21:17.252Z"
   },
   {
    "duration": 4,
    "start_time": "2021-11-16T17:21:25.308Z"
   },
   {
    "duration": 8,
    "start_time": "2021-11-16T17:21:43.759Z"
   },
   {
    "duration": 6,
    "start_time": "2021-11-16T17:22:05.739Z"
   },
   {
    "duration": 7,
    "start_time": "2021-11-16T17:22:10.725Z"
   },
   {
    "duration": 9,
    "start_time": "2021-11-16T17:22:14.145Z"
   },
   {
    "duration": 7,
    "start_time": "2021-11-16T17:22:16.832Z"
   },
   {
    "duration": 8,
    "start_time": "2021-11-16T17:22:24.088Z"
   },
   {
    "duration": 12,
    "start_time": "2021-11-16T17:22:56.066Z"
   },
   {
    "duration": 9,
    "start_time": "2021-11-16T17:23:02.967Z"
   },
   {
    "duration": 277,
    "start_time": "2021-11-16T17:23:10.631Z"
   },
   {
    "duration": 192,
    "start_time": "2021-11-16T17:23:16.018Z"
   },
   {
    "duration": 284,
    "start_time": "2021-11-16T17:23:25.415Z"
   },
   {
    "duration": 8,
    "start_time": "2021-11-16T17:23:39.727Z"
   },
   {
    "duration": 7,
    "start_time": "2021-11-16T17:23:44.214Z"
   },
   {
    "duration": 8,
    "start_time": "2021-11-16T17:23:48.871Z"
   },
   {
    "duration": 8,
    "start_time": "2021-11-16T17:23:53.338Z"
   },
   {
    "duration": 7,
    "start_time": "2021-11-16T17:24:03.145Z"
   },
   {
    "duration": 8,
    "start_time": "2021-11-16T17:24:09.326Z"
   },
   {
    "duration": -865,
    "start_time": "2021-11-16T17:24:23.763Z"
   },
   {
    "duration": 8,
    "start_time": "2021-11-16T17:24:25.007Z"
   },
   {
    "duration": 7,
    "start_time": "2021-11-16T17:24:56.207Z"
   },
   {
    "duration": 1523,
    "start_time": "2021-11-16T17:26:07.688Z"
   },
   {
    "duration": 642,
    "start_time": "2021-11-16T17:26:19.963Z"
   },
   {
    "duration": 355,
    "start_time": "2021-11-16T17:26:34.942Z"
   },
   {
    "duration": 322,
    "start_time": "2021-11-16T17:27:03.852Z"
   },
   {
    "duration": 8,
    "start_time": "2021-11-16T17:27:23.146Z"
   },
   {
    "duration": 7,
    "start_time": "2021-11-16T17:27:37.171Z"
   },
   {
    "duration": 7,
    "start_time": "2021-11-16T17:27:42.997Z"
   },
   {
    "duration": 7,
    "start_time": "2021-11-16T17:28:22.850Z"
   },
   {
    "duration": 7,
    "start_time": "2021-11-16T17:28:30.412Z"
   },
   {
    "duration": 7,
    "start_time": "2021-11-16T17:28:40.179Z"
   },
   {
    "duration": 8,
    "start_time": "2021-11-16T17:28:45.045Z"
   },
   {
    "duration": 9,
    "start_time": "2021-11-16T17:29:00.110Z"
   },
   {
    "duration": 7,
    "start_time": "2021-11-16T17:34:15.418Z"
   },
   {
    "duration": 10,
    "start_time": "2021-11-16T17:35:38.999Z"
   },
   {
    "duration": 10,
    "start_time": "2021-11-16T17:36:21.002Z"
   },
   {
    "duration": 9,
    "start_time": "2021-11-16T17:36:34.044Z"
   },
   {
    "duration": 9,
    "start_time": "2021-11-16T17:37:03.156Z"
   },
   {
    "duration": 553,
    "start_time": "2021-11-16T17:37:43.490Z"
   },
   {
    "duration": 365,
    "start_time": "2021-11-16T17:37:49.908Z"
   },
   {
    "duration": 253,
    "start_time": "2021-11-16T17:38:17.441Z"
   },
   {
    "duration": 119,
    "start_time": "2021-11-16T17:41:25.538Z"
   },
   {
    "duration": 8,
    "start_time": "2021-11-16T17:45:00.996Z"
   },
   {
    "duration": 6,
    "start_time": "2021-11-16T17:45:23.189Z"
   },
   {
    "duration": 6,
    "start_time": "2021-11-16T17:45:40.828Z"
   },
   {
    "duration": 17,
    "start_time": "2021-11-16T17:45:52.961Z"
   },
   {
    "duration": 31740,
    "start_time": "2021-11-16T17:53:40.171Z"
   },
   {
    "duration": 4,
    "start_time": "2021-11-16T17:54:14.710Z"
   },
   {
    "duration": 89,
    "start_time": "2021-11-16T17:54:14.716Z"
   },
   {
    "duration": 5,
    "start_time": "2021-11-16T17:54:14.807Z"
   },
   {
    "duration": 7,
    "start_time": "2021-11-16T17:54:14.813Z"
   },
   {
    "duration": 15,
    "start_time": "2021-11-16T17:54:14.822Z"
   },
   {
    "duration": 21,
    "start_time": "2021-11-16T17:54:14.838Z"
   },
   {
    "duration": 5,
    "start_time": "2021-11-16T17:54:14.887Z"
   },
   {
    "duration": 7,
    "start_time": "2021-11-16T17:54:14.895Z"
   },
   {
    "duration": 148,
    "start_time": "2021-11-16T17:54:14.904Z"
   },
   {
    "duration": 4,
    "start_time": "2021-11-16T17:54:15.053Z"
   },
   {
    "duration": 7,
    "start_time": "2021-11-16T17:54:15.059Z"
   },
   {
    "duration": 20,
    "start_time": "2021-11-16T17:54:15.068Z"
   },
   {
    "duration": 5,
    "start_time": "2021-11-16T17:54:15.090Z"
   },
   {
    "duration": 8,
    "start_time": "2021-11-16T17:54:15.096Z"
   },
   {
    "duration": 5,
    "start_time": "2021-11-16T17:54:15.106Z"
   },
   {
    "duration": 5,
    "start_time": "2021-11-16T17:54:15.113Z"
   },
   {
    "duration": 11,
    "start_time": "2021-11-16T17:54:15.119Z"
   },
   {
    "duration": 12,
    "start_time": "2021-11-16T17:54:15.131Z"
   },
   {
    "duration": 52,
    "start_time": "2021-11-16T17:54:15.144Z"
   },
   {
    "duration": 8,
    "start_time": "2021-11-16T17:54:15.198Z"
   },
   {
    "duration": 8,
    "start_time": "2021-11-16T17:54:15.208Z"
   },
   {
    "duration": 26,
    "start_time": "2021-11-16T17:54:15.218Z"
   },
   {
    "duration": 7,
    "start_time": "2021-11-16T17:54:15.248Z"
   },
   {
    "duration": 15,
    "start_time": "2021-11-16T17:54:15.288Z"
   },
   {
    "duration": 13,
    "start_time": "2021-11-16T17:54:15.305Z"
   },
   {
    "duration": 17,
    "start_time": "2021-11-16T17:54:15.320Z"
   },
   {
    "duration": 5,
    "start_time": "2021-11-16T17:54:15.338Z"
   },
   {
    "duration": 6,
    "start_time": "2021-11-16T17:54:15.344Z"
   },
   {
    "duration": 36,
    "start_time": "2021-11-16T17:54:15.352Z"
   },
   {
    "duration": 26,
    "start_time": "2021-11-16T17:54:15.390Z"
   },
   {
    "duration": 3,
    "start_time": "2021-11-16T17:54:15.417Z"
   },
   {
    "duration": 355,
    "start_time": "2021-11-16T17:54:15.421Z"
   },
   {
    "duration": 30305,
    "start_time": "2021-11-16T17:54:15.778Z"
   },
   {
    "duration": 3,
    "start_time": "2021-11-16T17:54:46.087Z"
   },
   {
    "duration": 3475,
    "start_time": "2021-11-16T17:54:46.092Z"
   },
   {
    "duration": 20,
    "start_time": "2021-11-16T17:54:49.569Z"
   },
   {
    "duration": 3879,
    "start_time": "2021-11-16T17:54:49.591Z"
   },
   {
    "duration": 3,
    "start_time": "2021-11-16T17:54:53.472Z"
   },
   {
    "duration": 16,
    "start_time": "2021-11-16T17:54:53.476Z"
   },
   {
    "duration": 8,
    "start_time": "2021-11-16T17:54:53.494Z"
   },
   {
    "duration": 13,
    "start_time": "2021-11-16T17:54:53.504Z"
   },
   {
    "duration": 10,
    "start_time": "2021-11-16T17:54:53.519Z"
   },
   {
    "duration": 38068,
    "start_time": "2021-11-16T17:55:17.720Z"
   },
   {
    "duration": 302,
    "start_time": "2021-11-16T18:04:06.277Z"
   },
   {
    "duration": 4,
    "start_time": "2021-11-16T18:04:10.980Z"
   },
   {
    "duration": 251,
    "start_time": "2021-11-16T18:04:13.958Z"
   },
   {
    "duration": 262,
    "start_time": "2021-11-16T18:04:30.410Z"
   },
   {
    "duration": 296,
    "start_time": "2021-11-16T18:04:50.324Z"
   },
   {
    "duration": 273,
    "start_time": "2021-11-16T18:05:49.808Z"
   },
   {
    "duration": 389,
    "start_time": "2021-11-16T18:05:55.681Z"
   },
   {
    "duration": 272,
    "start_time": "2021-11-16T18:06:16.713Z"
   },
   {
    "duration": 281,
    "start_time": "2021-11-16T18:06:44.962Z"
   },
   {
    "duration": 256,
    "start_time": "2021-11-16T18:07:09.663Z"
   },
   {
    "duration": 261,
    "start_time": "2021-11-16T18:07:22.287Z"
   },
   {
    "duration": 3,
    "start_time": "2021-11-16T18:07:27.250Z"
   },
   {
    "duration": 62,
    "start_time": "2021-11-16T18:07:27.255Z"
   },
   {
    "duration": 3,
    "start_time": "2021-11-16T18:07:27.319Z"
   },
   {
    "duration": 8,
    "start_time": "2021-11-16T18:07:27.324Z"
   },
   {
    "duration": 16,
    "start_time": "2021-11-16T18:07:27.334Z"
   },
   {
    "duration": 22,
    "start_time": "2021-11-16T18:07:27.387Z"
   },
   {
    "duration": 5,
    "start_time": "2021-11-16T18:07:27.412Z"
   },
   {
    "duration": 10,
    "start_time": "2021-11-16T18:07:27.419Z"
   },
   {
    "duration": 164,
    "start_time": "2021-11-16T18:07:27.430Z"
   },
   {
    "duration": 5,
    "start_time": "2021-11-16T18:07:27.595Z"
   },
   {
    "duration": 6,
    "start_time": "2021-11-16T18:07:27.601Z"
   },
   {
    "duration": 7,
    "start_time": "2021-11-16T18:07:27.608Z"
   },
   {
    "duration": 8,
    "start_time": "2021-11-16T18:07:27.617Z"
   },
   {
    "duration": 7,
    "start_time": "2021-11-16T18:07:27.627Z"
   },
   {
    "duration": 5,
    "start_time": "2021-11-16T18:07:27.636Z"
   },
   {
    "duration": 48,
    "start_time": "2021-11-16T18:07:27.643Z"
   },
   {
    "duration": 13,
    "start_time": "2021-11-16T18:07:27.692Z"
   },
   {
    "duration": 14,
    "start_time": "2021-11-16T18:07:27.706Z"
   },
   {
    "duration": 14,
    "start_time": "2021-11-16T18:07:27.724Z"
   },
   {
    "duration": 11,
    "start_time": "2021-11-16T18:07:27.740Z"
   },
   {
    "duration": 38,
    "start_time": "2021-11-16T18:07:27.753Z"
   },
   {
    "duration": 34,
    "start_time": "2021-11-16T18:07:27.793Z"
   },
   {
    "duration": 10,
    "start_time": "2021-11-16T18:07:27.830Z"
   },
   {
    "duration": 12,
    "start_time": "2021-11-16T18:07:27.841Z"
   },
   {
    "duration": 7,
    "start_time": "2021-11-16T18:07:27.887Z"
   },
   {
    "duration": 22,
    "start_time": "2021-11-16T18:07:27.896Z"
   },
   {
    "duration": 6,
    "start_time": "2021-11-16T18:07:27.920Z"
   },
   {
    "duration": 4,
    "start_time": "2021-11-16T18:07:27.928Z"
   },
   {
    "duration": 5,
    "start_time": "2021-11-16T18:07:27.934Z"
   },
   {
    "duration": 64,
    "start_time": "2021-11-16T18:07:27.941Z"
   },
   {
    "duration": 4,
    "start_time": "2021-11-16T18:07:28.006Z"
   },
   {
    "duration": 405,
    "start_time": "2021-11-16T18:07:28.012Z"
   },
   {
    "duration": 13,
    "start_time": "2021-11-16T18:07:28.419Z"
   },
   {
    "duration": 25,
    "start_time": "2021-11-16T18:07:28.434Z"
   },
   {
    "duration": 3914,
    "start_time": "2021-11-16T18:07:28.461Z"
   },
   {
    "duration": 27,
    "start_time": "2021-11-16T18:07:32.377Z"
   },
   {
    "duration": 4170,
    "start_time": "2021-11-16T18:07:32.406Z"
   },
   {
    "duration": 11,
    "start_time": "2021-11-16T18:07:36.578Z"
   },
   {
    "duration": 19,
    "start_time": "2021-11-16T18:07:36.591Z"
   },
   {
    "duration": 9,
    "start_time": "2021-11-16T18:07:36.612Z"
   },
   {
    "duration": 12,
    "start_time": "2021-11-16T18:07:36.622Z"
   },
   {
    "duration": 10,
    "start_time": "2021-11-16T18:07:36.635Z"
   },
   {
    "duration": 4,
    "start_time": "2021-11-16T18:07:47.773Z"
   },
   {
    "duration": 264,
    "start_time": "2021-11-16T18:07:51.485Z"
   },
   {
    "duration": 3,
    "start_time": "2021-11-16T18:07:59.247Z"
   },
   {
    "duration": 80,
    "start_time": "2021-11-16T18:07:59.252Z"
   },
   {
    "duration": 5,
    "start_time": "2021-11-16T18:07:59.334Z"
   },
   {
    "duration": 10,
    "start_time": "2021-11-16T18:07:59.341Z"
   },
   {
    "duration": 41,
    "start_time": "2021-11-16T18:07:59.353Z"
   },
   {
    "duration": 21,
    "start_time": "2021-11-16T18:07:59.396Z"
   },
   {
    "duration": 5,
    "start_time": "2021-11-16T18:07:59.419Z"
   },
   {
    "duration": 9,
    "start_time": "2021-11-16T18:07:59.427Z"
   },
   {
    "duration": 167,
    "start_time": "2021-11-16T18:07:59.438Z"
   },
   {
    "duration": 5,
    "start_time": "2021-11-16T18:07:59.607Z"
   },
   {
    "duration": 6,
    "start_time": "2021-11-16T18:07:59.613Z"
   },
   {
    "duration": 8,
    "start_time": "2021-11-16T18:07:59.621Z"
   },
   {
    "duration": 7,
    "start_time": "2021-11-16T18:07:59.631Z"
   },
   {
    "duration": 49,
    "start_time": "2021-11-16T18:07:59.640Z"
   },
   {
    "duration": 6,
    "start_time": "2021-11-16T18:07:59.690Z"
   },
   {
    "duration": 5,
    "start_time": "2021-11-16T18:07:59.698Z"
   },
   {
    "duration": 13,
    "start_time": "2021-11-16T18:07:59.704Z"
   },
   {
    "duration": 11,
    "start_time": "2021-11-16T18:07:59.719Z"
   },
   {
    "duration": 14,
    "start_time": "2021-11-16T18:07:59.732Z"
   },
   {
    "duration": 49,
    "start_time": "2021-11-16T18:07:59.747Z"
   },
   {
    "duration": 8,
    "start_time": "2021-11-16T18:07:59.798Z"
   },
   {
    "duration": 19,
    "start_time": "2021-11-16T18:07:59.808Z"
   },
   {
    "duration": 7,
    "start_time": "2021-11-16T18:07:59.829Z"
   },
   {
    "duration": 52,
    "start_time": "2021-11-16T18:07:59.838Z"
   },
   {
    "duration": 10,
    "start_time": "2021-11-16T18:07:59.892Z"
   },
   {
    "duration": 24,
    "start_time": "2021-11-16T18:07:59.904Z"
   },
   {
    "duration": 5,
    "start_time": "2021-11-16T18:07:59.930Z"
   },
   {
    "duration": 6,
    "start_time": "2021-11-16T18:07:59.937Z"
   },
   {
    "duration": 44,
    "start_time": "2021-11-16T18:07:59.945Z"
   },
   {
    "duration": 26,
    "start_time": "2021-11-16T18:07:59.991Z"
   },
   {
    "duration": 2,
    "start_time": "2021-11-16T18:08:00.019Z"
   },
   {
    "duration": 469,
    "start_time": "2021-11-16T18:08:00.023Z"
   },
   {
    "duration": 29,
    "start_time": "2021-11-16T18:08:00.494Z"
   },
   {
    "duration": 20,
    "start_time": "2021-11-16T18:08:00.525Z"
   },
   {
    "duration": 3822,
    "start_time": "2021-11-16T18:08:00.547Z"
   },
   {
    "duration": 26,
    "start_time": "2021-11-16T18:08:04.371Z"
   },
   {
    "duration": 3891,
    "start_time": "2021-11-16T18:08:04.399Z"
   },
   {
    "duration": 4,
    "start_time": "2021-11-16T18:08:08.292Z"
   },
   {
    "duration": 12,
    "start_time": "2021-11-16T18:08:08.298Z"
   },
   {
    "duration": 8,
    "start_time": "2021-11-16T18:08:08.311Z"
   },
   {
    "duration": 15,
    "start_time": "2021-11-16T18:08:08.321Z"
   },
   {
    "duration": 13,
    "start_time": "2021-11-16T18:08:08.338Z"
   },
   {
    "duration": 29994,
    "start_time": "2021-11-16T18:08:42.158Z"
   },
   {
    "duration": 3,
    "start_time": "2021-11-16T18:09:38.240Z"
   },
   {
    "duration": 62,
    "start_time": "2021-11-16T18:09:38.245Z"
   },
   {
    "duration": 3,
    "start_time": "2021-11-16T18:09:38.309Z"
   },
   {
    "duration": 8,
    "start_time": "2021-11-16T18:09:38.314Z"
   },
   {
    "duration": 14,
    "start_time": "2021-11-16T18:09:38.324Z"
   },
   {
    "duration": 60,
    "start_time": "2021-11-16T18:09:38.340Z"
   },
   {
    "duration": 5,
    "start_time": "2021-11-16T18:09:38.402Z"
   },
   {
    "duration": 7,
    "start_time": "2021-11-16T18:09:38.409Z"
   },
   {
    "duration": 145,
    "start_time": "2021-11-16T18:09:38.418Z"
   },
   {
    "duration": 4,
    "start_time": "2021-11-16T18:09:38.564Z"
   },
   {
    "duration": 4,
    "start_time": "2021-11-16T18:09:38.570Z"
   },
   {
    "duration": 18,
    "start_time": "2021-11-16T18:09:38.575Z"
   },
   {
    "duration": 4,
    "start_time": "2021-11-16T18:09:38.594Z"
   },
   {
    "duration": 10,
    "start_time": "2021-11-16T18:09:38.600Z"
   },
   {
    "duration": 7,
    "start_time": "2021-11-16T18:09:38.611Z"
   },
   {
    "duration": 5,
    "start_time": "2021-11-16T18:09:38.619Z"
   },
   {
    "duration": 11,
    "start_time": "2021-11-16T18:09:38.625Z"
   },
   {
    "duration": 10,
    "start_time": "2021-11-16T18:09:38.637Z"
   },
   {
    "duration": 48,
    "start_time": "2021-11-16T18:09:38.650Z"
   },
   {
    "duration": 8,
    "start_time": "2021-11-16T18:09:38.700Z"
   },
   {
    "duration": 7,
    "start_time": "2021-11-16T18:09:38.709Z"
   },
   {
    "duration": 19,
    "start_time": "2021-11-16T18:09:38.717Z"
   },
   {
    "duration": 6,
    "start_time": "2021-11-16T18:09:38.737Z"
   },
   {
    "duration": 44,
    "start_time": "2021-11-16T18:09:38.744Z"
   },
   {
    "duration": 5,
    "start_time": "2021-11-16T18:09:38.790Z"
   },
   {
    "duration": 17,
    "start_time": "2021-11-16T18:09:38.797Z"
   },
   {
    "duration": 4,
    "start_time": "2021-11-16T18:09:38.815Z"
   },
   {
    "duration": 4,
    "start_time": "2021-11-16T18:09:38.821Z"
   },
   {
    "duration": 7,
    "start_time": "2021-11-16T18:09:38.827Z"
   },
   {
    "duration": 62,
    "start_time": "2021-11-16T18:09:38.836Z"
   },
   {
    "duration": 3,
    "start_time": "2021-11-16T18:09:38.900Z"
   },
   {
    "duration": 355,
    "start_time": "2021-11-16T18:09:38.905Z"
   },
   {
    "duration": 32447,
    "start_time": "2021-11-16T18:09:39.261Z"
   },
   {
    "duration": 25,
    "start_time": "2021-11-16T18:10:11.710Z"
   },
   {
    "duration": 3561,
    "start_time": "2021-11-16T18:10:11.736Z"
   },
   {
    "duration": 13,
    "start_time": "2021-11-16T18:10:15.299Z"
   },
   {
    "duration": 3678,
    "start_time": "2021-11-16T18:10:15.314Z"
   },
   {
    "duration": 14,
    "start_time": "2021-11-16T18:10:18.994Z"
   },
   {
    "duration": 20,
    "start_time": "2021-11-16T18:10:19.009Z"
   },
   {
    "duration": 19,
    "start_time": "2021-11-16T18:10:19.031Z"
   },
   {
    "duration": 27,
    "start_time": "2021-11-16T18:10:19.051Z"
   },
   {
    "duration": 13,
    "start_time": "2021-11-16T18:10:19.079Z"
   },
   {
    "duration": 2,
    "start_time": "2021-11-16T18:10:40.160Z"
   },
   {
    "duration": 74,
    "start_time": "2021-11-16T18:10:40.164Z"
   },
   {
    "duration": 4,
    "start_time": "2021-11-16T18:10:40.240Z"
   },
   {
    "duration": 7,
    "start_time": "2021-11-16T18:10:40.246Z"
   },
   {
    "duration": 52,
    "start_time": "2021-11-16T18:10:40.254Z"
   },
   {
    "duration": 22,
    "start_time": "2021-11-16T18:10:40.308Z"
   },
   {
    "duration": 5,
    "start_time": "2021-11-16T18:10:40.332Z"
   },
   {
    "duration": 9,
    "start_time": "2021-11-16T18:10:40.340Z"
   },
   {
    "duration": 193,
    "start_time": "2021-11-16T18:10:40.351Z"
   },
   {
    "duration": 4,
    "start_time": "2021-11-16T18:10:40.545Z"
   },
   {
    "duration": 4,
    "start_time": "2021-11-16T18:10:40.551Z"
   },
   {
    "duration": 7,
    "start_time": "2021-11-16T18:10:40.557Z"
   },
   {
    "duration": 32,
    "start_time": "2021-11-16T18:10:40.565Z"
   },
   {
    "duration": 7,
    "start_time": "2021-11-16T18:10:40.599Z"
   },
   {
    "duration": 4,
    "start_time": "2021-11-16T18:10:40.608Z"
   },
   {
    "duration": 6,
    "start_time": "2021-11-16T18:10:40.613Z"
   },
   {
    "duration": 11,
    "start_time": "2021-11-16T18:10:40.621Z"
   },
   {
    "duration": 8,
    "start_time": "2021-11-16T18:10:40.634Z"
   },
   {
    "duration": 44,
    "start_time": "2021-11-16T18:10:40.644Z"
   },
   {
    "duration": 9,
    "start_time": "2021-11-16T18:10:40.689Z"
   },
   {
    "duration": 9,
    "start_time": "2021-11-16T18:10:40.699Z"
   },
   {
    "duration": 24,
    "start_time": "2021-11-16T18:10:40.709Z"
   },
   {
    "duration": 5,
    "start_time": "2021-11-16T18:10:40.736Z"
   },
   {
    "duration": 13,
    "start_time": "2021-11-16T18:10:40.743Z"
   },
   {
    "duration": 43,
    "start_time": "2021-11-16T18:10:40.758Z"
   },
   {
    "duration": 19,
    "start_time": "2021-11-16T18:10:40.803Z"
   },
   {
    "duration": 5,
    "start_time": "2021-11-16T18:10:40.824Z"
   },
   {
    "duration": 4,
    "start_time": "2021-11-16T18:10:40.831Z"
   },
   {
    "duration": 8,
    "start_time": "2021-11-16T18:10:40.836Z"
   },
   {
    "duration": 59,
    "start_time": "2021-11-16T18:10:40.845Z"
   },
   {
    "duration": 3,
    "start_time": "2021-11-16T18:10:40.906Z"
   },
   {
    "duration": 553,
    "start_time": "2021-11-16T18:10:40.911Z"
   },
   {
    "duration": 37848,
    "start_time": "2021-11-16T18:10:41.466Z"
   },
   {
    "duration": 20,
    "start_time": "2021-11-16T18:11:19.316Z"
   },
   {
    "duration": 3271,
    "start_time": "2021-11-16T18:11:19.338Z"
   },
   {
    "duration": 15,
    "start_time": "2021-11-16T18:11:22.611Z"
   },
   {
    "duration": 3865,
    "start_time": "2021-11-16T18:11:22.628Z"
   },
   {
    "duration": 6,
    "start_time": "2021-11-16T18:11:26.495Z"
   },
   {
    "duration": 16,
    "start_time": "2021-11-16T18:11:26.502Z"
   },
   {
    "duration": 11,
    "start_time": "2021-11-16T18:11:26.519Z"
   },
   {
    "duration": 14,
    "start_time": "2021-11-16T18:11:26.532Z"
   },
   {
    "duration": 10,
    "start_time": "2021-11-16T18:11:26.548Z"
   },
   {
    "duration": 3,
    "start_time": "2021-11-16T18:14:17.372Z"
   },
   {
    "duration": 5,
    "start_time": "2021-11-16T18:14:21.584Z"
   },
   {
    "duration": 5,
    "start_time": "2021-11-16T18:14:28.084Z"
   },
   {
    "duration": 3,
    "start_time": "2021-11-16T18:14:34.001Z"
   },
   {
    "duration": 69,
    "start_time": "2021-11-16T18:14:34.005Z"
   },
   {
    "duration": 4,
    "start_time": "2021-11-16T18:14:34.088Z"
   },
   {
    "duration": 10,
    "start_time": "2021-11-16T18:14:34.094Z"
   },
   {
    "duration": 16,
    "start_time": "2021-11-16T18:14:34.105Z"
   },
   {
    "duration": 22,
    "start_time": "2021-11-16T18:14:34.122Z"
   },
   {
    "duration": 50,
    "start_time": "2021-11-16T18:14:34.146Z"
   },
   {
    "duration": 9,
    "start_time": "2021-11-16T18:14:34.198Z"
   },
   {
    "duration": 230,
    "start_time": "2021-11-16T18:14:34.209Z"
   },
   {
    "duration": 5,
    "start_time": "2021-11-16T18:14:34.441Z"
   },
   {
    "duration": 10,
    "start_time": "2021-11-16T18:14:34.448Z"
   },
   {
    "duration": 9,
    "start_time": "2021-11-16T18:14:34.465Z"
   },
   {
    "duration": 17,
    "start_time": "2021-11-16T18:14:34.476Z"
   },
   {
    "duration": 7,
    "start_time": "2021-11-16T18:14:34.496Z"
   },
   {
    "duration": 6,
    "start_time": "2021-11-16T18:14:34.505Z"
   },
   {
    "duration": 7,
    "start_time": "2021-11-16T18:14:34.512Z"
   },
   {
    "duration": 21,
    "start_time": "2021-11-16T18:14:34.522Z"
   },
   {
    "duration": 46,
    "start_time": "2021-11-16T18:14:34.545Z"
   },
   {
    "duration": 16,
    "start_time": "2021-11-16T18:14:34.596Z"
   },
   {
    "duration": 12,
    "start_time": "2021-11-16T18:14:34.615Z"
   },
   {
    "duration": 14,
    "start_time": "2021-11-16T18:14:34.629Z"
   },
   {
    "duration": 46,
    "start_time": "2021-11-16T18:14:34.644Z"
   },
   {
    "duration": 7,
    "start_time": "2021-11-16T18:14:34.692Z"
   },
   {
    "duration": 15,
    "start_time": "2021-11-16T18:14:34.701Z"
   },
   {
    "duration": 11,
    "start_time": "2021-11-16T18:14:34.718Z"
   },
   {
    "duration": 19,
    "start_time": "2021-11-16T18:14:34.731Z"
   },
   {
    "duration": 42,
    "start_time": "2021-11-16T18:14:34.752Z"
   },
   {
    "duration": 6,
    "start_time": "2021-11-16T18:14:34.796Z"
   },
   {
    "duration": 8,
    "start_time": "2021-11-16T18:14:34.804Z"
   },
   {
    "duration": 25,
    "start_time": "2021-11-16T18:14:34.814Z"
   },
   {
    "duration": 3,
    "start_time": "2021-11-16T18:14:34.841Z"
   },
   {
    "duration": 424,
    "start_time": "2021-11-16T18:14:34.846Z"
   },
   {
    "duration": 31075,
    "start_time": "2021-11-16T18:14:35.272Z"
   },
   {
    "duration": 20,
    "start_time": "2021-11-16T18:15:06.348Z"
   },
   {
    "duration": 3478,
    "start_time": "2021-11-16T18:15:06.370Z"
   },
   {
    "duration": 18,
    "start_time": "2021-11-16T18:15:09.850Z"
   },
   {
    "duration": 3807,
    "start_time": "2021-11-16T18:15:09.870Z"
   },
   {
    "duration": 9,
    "start_time": "2021-11-16T18:15:13.679Z"
   },
   {
    "duration": 20,
    "start_time": "2021-11-16T18:15:13.689Z"
   },
   {
    "duration": 10,
    "start_time": "2021-11-16T18:15:13.711Z"
   },
   {
    "duration": 13,
    "start_time": "2021-11-16T18:15:13.722Z"
   },
   {
    "duration": 10,
    "start_time": "2021-11-16T18:15:13.737Z"
   },
   {
    "duration": 8,
    "start_time": "2021-11-16T18:15:13.749Z"
   },
   {
    "duration": 3,
    "start_time": "2021-11-16T18:16:10.268Z"
   },
   {
    "duration": 74,
    "start_time": "2021-11-16T18:16:10.273Z"
   },
   {
    "duration": 4,
    "start_time": "2021-11-16T18:16:10.350Z"
   },
   {
    "duration": 8,
    "start_time": "2021-11-16T18:16:10.387Z"
   },
   {
    "duration": 19,
    "start_time": "2021-11-16T18:16:10.397Z"
   },
   {
    "duration": 33,
    "start_time": "2021-11-16T18:16:10.417Z"
   },
   {
    "duration": 39,
    "start_time": "2021-11-16T18:16:10.452Z"
   },
   {
    "duration": 9,
    "start_time": "2021-11-16T18:16:10.493Z"
   },
   {
    "duration": 203,
    "start_time": "2021-11-16T18:16:10.505Z"
   },
   {
    "duration": 5,
    "start_time": "2021-11-16T18:16:10.710Z"
   },
   {
    "duration": 5,
    "start_time": "2021-11-16T18:16:10.717Z"
   },
   {
    "duration": 7,
    "start_time": "2021-11-16T18:16:10.724Z"
   },
   {
    "duration": 10,
    "start_time": "2021-11-16T18:16:10.733Z"
   },
   {
    "duration": 44,
    "start_time": "2021-11-16T18:16:10.745Z"
   },
   {
    "duration": 8,
    "start_time": "2021-11-16T18:16:10.791Z"
   },
   {
    "duration": 6,
    "start_time": "2021-11-16T18:16:10.801Z"
   },
   {
    "duration": 17,
    "start_time": "2021-11-16T18:16:10.808Z"
   },
   {
    "duration": 12,
    "start_time": "2021-11-16T18:16:10.827Z"
   },
   {
    "duration": 59,
    "start_time": "2021-11-16T18:16:10.841Z"
   },
   {
    "duration": 15,
    "start_time": "2021-11-16T18:16:10.902Z"
   },
   {
    "duration": 10,
    "start_time": "2021-11-16T18:16:10.920Z"
   },
   {
    "duration": 27,
    "start_time": "2021-11-16T18:16:10.932Z"
   },
   {
    "duration": 28,
    "start_time": "2021-11-16T18:16:10.963Z"
   },
   {
    "duration": 19,
    "start_time": "2021-11-16T18:16:10.994Z"
   },
   {
    "duration": 12,
    "start_time": "2021-11-16T18:16:11.015Z"
   },
   {
    "duration": 61,
    "start_time": "2021-11-16T18:16:11.029Z"
   },
   {
    "duration": 7,
    "start_time": "2021-11-16T18:16:11.092Z"
   },
   {
    "duration": 6,
    "start_time": "2021-11-16T18:16:11.100Z"
   },
   {
    "duration": 12,
    "start_time": "2021-11-16T18:16:11.108Z"
   },
   {
    "duration": 33,
    "start_time": "2021-11-16T18:16:11.122Z"
   },
   {
    "duration": 7,
    "start_time": "2021-11-16T18:16:11.188Z"
   },
   {
    "duration": 607,
    "start_time": "2021-11-16T18:16:11.197Z"
   },
   {
    "duration": 32301,
    "start_time": "2021-11-16T18:16:11.806Z"
   },
   {
    "duration": 18,
    "start_time": "2021-11-16T18:16:44.109Z"
   },
   {
    "duration": 3490,
    "start_time": "2021-11-16T18:16:44.129Z"
   },
   {
    "duration": 19,
    "start_time": "2021-11-16T18:16:47.622Z"
   },
   {
    "duration": 3922,
    "start_time": "2021-11-16T18:16:47.643Z"
   },
   {
    "duration": 13,
    "start_time": "2021-11-16T18:16:51.567Z"
   },
   {
    "duration": 9,
    "start_time": "2021-11-16T18:16:51.588Z"
   },
   {
    "duration": 14,
    "start_time": "2021-11-16T18:16:51.599Z"
   },
   {
    "duration": 39,
    "start_time": "2021-11-16T18:16:51.615Z"
   },
   {
    "duration": 12,
    "start_time": "2021-11-16T18:16:51.656Z"
   },
   {
    "duration": 9,
    "start_time": "2021-11-16T18:16:51.669Z"
   },
   {
    "duration": 765,
    "start_time": "2021-11-16T18:17:29.857Z"
   },
   {
    "duration": 6,
    "start_time": "2021-11-16T18:17:37.206Z"
   },
   {
    "duration": 7,
    "start_time": "2021-11-16T18:18:01.927Z"
   },
   {
    "duration": 5,
    "start_time": "2021-11-16T18:19:03.922Z"
   },
   {
    "duration": 6,
    "start_time": "2021-11-16T18:19:10.806Z"
   },
   {
    "duration": 8,
    "start_time": "2021-11-16T18:19:38.736Z"
   },
   {
    "duration": 7,
    "start_time": "2021-11-16T18:20:02.544Z"
   },
   {
    "duration": 8,
    "start_time": "2021-11-16T18:20:26.875Z"
   },
   {
    "duration": 256,
    "start_time": "2021-11-16T18:23:40.252Z"
   },
   {
    "duration": 7,
    "start_time": "2021-11-16T18:23:46.497Z"
   },
   {
    "duration": 9,
    "start_time": "2021-11-16T18:24:46.175Z"
   },
   {
    "duration": 281,
    "start_time": "2021-11-16T18:32:21.700Z"
   },
   {
    "duration": 8,
    "start_time": "2021-11-16T18:32:34.584Z"
   },
   {
    "duration": 18,
    "start_time": "2021-11-16T18:33:14.578Z"
   },
   {
    "duration": 13,
    "start_time": "2021-11-16T18:37:04.725Z"
   },
   {
    "duration": 12,
    "start_time": "2021-11-16T18:38:21.915Z"
   },
   {
    "duration": 14,
    "start_time": "2021-11-16T18:40:09.601Z"
   },
   {
    "duration": 14,
    "start_time": "2021-11-16T18:40:17.434Z"
   },
   {
    "duration": 13,
    "start_time": "2021-11-16T18:41:09.958Z"
   },
   {
    "duration": 87,
    "start_time": "2021-11-16T18:41:22.731Z"
   },
   {
    "duration": 87,
    "start_time": "2021-11-16T18:41:33.630Z"
   },
   {
    "duration": 6829,
    "start_time": "2021-11-16T18:41:37.769Z"
   },
   {
    "duration": 12854,
    "start_time": "2021-11-16T18:42:51.363Z"
   },
   {
    "duration": 6,
    "start_time": "2021-11-16T18:43:20.276Z"
   },
   {
    "duration": 6,
    "start_time": "2021-11-16T18:43:36.322Z"
   },
   {
    "duration": 22,
    "start_time": "2021-11-16T18:45:31.087Z"
   },
   {
    "duration": 8,
    "start_time": "2021-11-16T18:45:39.062Z"
   },
   {
    "duration": 7,
    "start_time": "2021-11-16T18:45:50.382Z"
   },
   {
    "duration": 11,
    "start_time": "2021-11-16T18:46:29.565Z"
   },
   {
    "duration": 14,
    "start_time": "2021-11-16T18:46:34.522Z"
   },
   {
    "duration": 17,
    "start_time": "2021-11-16T18:47:23.266Z"
   },
   {
    "duration": 19,
    "start_time": "2021-11-16T18:47:50.860Z"
   },
   {
    "duration": 18,
    "start_time": "2021-11-16T18:48:03.330Z"
   },
   {
    "duration": 21,
    "start_time": "2021-11-16T18:48:11.301Z"
   },
   {
    "duration": 25,
    "start_time": "2021-11-16T18:48:14.654Z"
   },
   {
    "duration": 18,
    "start_time": "2021-11-16T18:49:49.107Z"
   },
   {
    "duration": 17,
    "start_time": "2021-11-16T18:50:42.013Z"
   },
   {
    "duration": 18,
    "start_time": "2021-11-16T18:51:57.544Z"
   },
   {
    "duration": 16,
    "start_time": "2021-11-16T18:52:15.723Z"
   },
   {
    "duration": 22,
    "start_time": "2021-11-16T18:52:50.235Z"
   },
   {
    "duration": 16,
    "start_time": "2021-11-16T18:53:09.869Z"
   },
   {
    "duration": 33654,
    "start_time": "2021-11-16T19:43:13.783Z"
   },
   {
    "duration": 3,
    "start_time": "2021-11-16T19:44:11.041Z"
   },
   {
    "duration": 73,
    "start_time": "2021-11-16T19:44:11.047Z"
   },
   {
    "duration": 4,
    "start_time": "2021-11-16T19:44:11.123Z"
   },
   {
    "duration": 9,
    "start_time": "2021-11-16T19:44:11.129Z"
   },
   {
    "duration": 55,
    "start_time": "2021-11-16T19:44:11.140Z"
   },
   {
    "duration": 25,
    "start_time": "2021-11-16T19:44:11.198Z"
   },
   {
    "duration": 6,
    "start_time": "2021-11-16T19:44:11.227Z"
   },
   {
    "duration": 9,
    "start_time": "2021-11-16T19:44:11.236Z"
   },
   {
    "duration": 176,
    "start_time": "2021-11-16T19:44:11.247Z"
   },
   {
    "duration": 6,
    "start_time": "2021-11-16T19:44:11.426Z"
   },
   {
    "duration": 4,
    "start_time": "2021-11-16T19:44:11.435Z"
   },
   {
    "duration": 12,
    "start_time": "2021-11-16T19:44:11.442Z"
   },
   {
    "duration": 33,
    "start_time": "2021-11-16T19:44:11.456Z"
   },
   {
    "duration": 8,
    "start_time": "2021-11-16T19:44:11.491Z"
   },
   {
    "duration": 6,
    "start_time": "2021-11-16T19:44:11.501Z"
   },
   {
    "duration": 5,
    "start_time": "2021-11-16T19:44:11.509Z"
   },
   {
    "duration": 12,
    "start_time": "2021-11-16T19:44:11.515Z"
   },
   {
    "duration": 10,
    "start_time": "2021-11-16T19:44:11.529Z"
   },
   {
    "duration": 12,
    "start_time": "2021-11-16T19:44:11.542Z"
   },
   {
    "duration": 31,
    "start_time": "2021-11-16T19:44:11.557Z"
   },
   {
    "duration": 7,
    "start_time": "2021-11-16T19:44:11.589Z"
   },
   {
    "duration": 25,
    "start_time": "2021-11-16T19:44:11.598Z"
   },
   {
    "duration": 9,
    "start_time": "2021-11-16T19:44:11.625Z"
   },
   {
    "duration": 15,
    "start_time": "2021-11-16T19:44:11.636Z"
   },
   {
    "duration": 11,
    "start_time": "2021-11-16T19:44:11.653Z"
   },
   {
    "duration": 28,
    "start_time": "2021-11-16T19:44:11.665Z"
   },
   {
    "duration": 5,
    "start_time": "2021-11-16T19:44:11.695Z"
   },
   {
    "duration": 7,
    "start_time": "2021-11-16T19:44:11.702Z"
   },
   {
    "duration": 6,
    "start_time": "2021-11-16T19:44:11.711Z"
   },
   {
    "duration": 32,
    "start_time": "2021-11-16T19:44:11.719Z"
   },
   {
    "duration": 4,
    "start_time": "2021-11-16T19:44:11.752Z"
   },
   {
    "duration": 569,
    "start_time": "2021-11-16T19:44:11.758Z"
   },
   {
    "duration": 35147,
    "start_time": "2021-11-16T19:44:12.329Z"
   },
   {
    "duration": 47,
    "start_time": "2021-11-16T19:44:47.477Z"
   },
   {
    "duration": 27,
    "start_time": "2021-11-16T19:44:47.525Z"
   },
   {
    "duration": 4053,
    "start_time": "2021-11-16T19:44:47.554Z"
   },
   {
    "duration": 28,
    "start_time": "2021-11-16T19:44:51.613Z"
   },
   {
    "duration": 4784,
    "start_time": "2021-11-16T19:44:51.648Z"
   },
   {
    "duration": 9,
    "start_time": "2021-11-16T19:44:56.434Z"
   },
   {
    "duration": 19,
    "start_time": "2021-11-16T19:44:56.445Z"
   },
   {
    "duration": 23,
    "start_time": "2021-11-16T19:44:56.466Z"
   },
   {
    "duration": 19,
    "start_time": "2021-11-16T19:44:56.492Z"
   },
   {
    "duration": 19,
    "start_time": "2021-11-16T19:44:56.513Z"
   },
   {
    "duration": 32,
    "start_time": "2021-11-16T19:44:56.534Z"
   },
   {
    "duration": 36,
    "start_time": "2021-11-16T19:44:56.568Z"
   },
   {
    "duration": 23,
    "start_time": "2021-11-16T19:44:56.607Z"
   },
   {
    "duration": 23,
    "start_time": "2021-11-16T19:44:56.631Z"
   },
   {
    "duration": 21,
    "start_time": "2021-11-16T19:49:24.378Z"
   },
   {
    "duration": 16,
    "start_time": "2021-11-16T19:51:09.580Z"
   },
   {
    "duration": 4,
    "start_time": "2021-11-16T20:10:59.423Z"
   },
   {
    "duration": 3,
    "start_time": "2021-11-16T20:11:02.908Z"
   },
   {
    "duration": 18,
    "start_time": "2021-11-16T20:15:43.070Z"
   },
   {
    "duration": 6,
    "start_time": "2021-11-16T20:16:56.558Z"
   },
   {
    "duration": 3,
    "start_time": "2021-11-16T20:17:07.973Z"
   },
   {
    "duration": 68,
    "start_time": "2021-11-16T20:17:07.978Z"
   },
   {
    "duration": 5,
    "start_time": "2021-11-16T20:17:08.050Z"
   },
   {
    "duration": 9,
    "start_time": "2021-11-16T20:17:08.057Z"
   },
   {
    "duration": 17,
    "start_time": "2021-11-16T20:17:08.089Z"
   },
   {
    "duration": 21,
    "start_time": "2021-11-16T20:17:08.108Z"
   },
   {
    "duration": 6,
    "start_time": "2021-11-16T20:17:08.132Z"
   },
   {
    "duration": 53,
    "start_time": "2021-11-16T20:17:08.141Z"
   },
   {
    "duration": 152,
    "start_time": "2021-11-16T20:17:08.196Z"
   },
   {
    "duration": 7,
    "start_time": "2021-11-16T20:17:08.350Z"
   },
   {
    "duration": 4,
    "start_time": "2021-11-16T20:17:08.359Z"
   },
   {
    "duration": 28,
    "start_time": "2021-11-16T20:17:08.365Z"
   },
   {
    "duration": 7,
    "start_time": "2021-11-16T20:17:08.395Z"
   },
   {
    "duration": 7,
    "start_time": "2021-11-16T20:17:08.404Z"
   },
   {
    "duration": 5,
    "start_time": "2021-11-16T20:17:08.413Z"
   },
   {
    "duration": 7,
    "start_time": "2021-11-16T20:17:08.420Z"
   },
   {
    "duration": 59,
    "start_time": "2021-11-16T20:17:08.429Z"
   },
   {
    "duration": 11,
    "start_time": "2021-11-16T20:17:08.490Z"
   },
   {
    "duration": 16,
    "start_time": "2021-11-16T20:17:08.506Z"
   },
   {
    "duration": 12,
    "start_time": "2021-11-16T20:17:08.524Z"
   },
   {
    "duration": 10,
    "start_time": "2021-11-16T20:17:08.537Z"
   },
   {
    "duration": 64,
    "start_time": "2021-11-16T20:17:08.549Z"
   },
   {
    "duration": 6,
    "start_time": "2021-11-16T20:17:08.615Z"
   },
   {
    "duration": 14,
    "start_time": "2021-11-16T20:17:08.623Z"
   },
   {
    "duration": 10,
    "start_time": "2021-11-16T20:17:08.639Z"
   },
   {
    "duration": 55,
    "start_time": "2021-11-16T20:17:08.651Z"
   },
   {
    "duration": 10,
    "start_time": "2021-11-16T20:17:08.708Z"
   },
   {
    "duration": 3,
    "start_time": "2021-11-16T20:17:08.720Z"
   },
   {
    "duration": 6,
    "start_time": "2021-11-16T20:17:08.725Z"
   },
   {
    "duration": 69,
    "start_time": "2021-11-16T20:17:08.733Z"
   },
   {
    "duration": 3,
    "start_time": "2021-11-16T20:17:08.804Z"
   },
   {
    "duration": 580,
    "start_time": "2021-11-16T20:17:08.809Z"
   },
   {
    "duration": -64,
    "start_time": "2021-11-16T20:17:45.853Z"
   },
   {
    "duration": -66,
    "start_time": "2021-11-16T20:17:45.856Z"
   },
   {
    "duration": -66,
    "start_time": "2021-11-16T20:17:45.858Z"
   },
   {
    "duration": -67,
    "start_time": "2021-11-16T20:17:45.860Z"
   },
   {
    "duration": -73,
    "start_time": "2021-11-16T20:17:45.867Z"
   },
   {
    "duration": -76,
    "start_time": "2021-11-16T20:17:45.870Z"
   },
   {
    "duration": -77,
    "start_time": "2021-11-16T20:17:45.872Z"
   },
   {
    "duration": -79,
    "start_time": "2021-11-16T20:17:45.875Z"
   },
   {
    "duration": -80,
    "start_time": "2021-11-16T20:17:45.877Z"
   },
   {
    "duration": -81,
    "start_time": "2021-11-16T20:17:45.879Z"
   },
   {
    "duration": -83,
    "start_time": "2021-11-16T20:17:45.882Z"
   },
   {
    "duration": -84,
    "start_time": "2021-11-16T20:17:45.884Z"
   },
   {
    "duration": -86,
    "start_time": "2021-11-16T20:17:45.887Z"
   },
   {
    "duration": -87,
    "start_time": "2021-11-16T20:17:45.889Z"
   },
   {
    "duration": -94,
    "start_time": "2021-11-16T20:17:45.897Z"
   },
   {
    "duration": -95,
    "start_time": "2021-11-16T20:17:45.899Z"
   },
   {
    "duration": -137,
    "start_time": "2021-11-16T20:17:45.942Z"
   },
   {
    "duration": -147,
    "start_time": "2021-11-16T20:17:45.953Z"
   },
   {
    "duration": -150,
    "start_time": "2021-11-16T20:17:45.957Z"
   },
   {
    "duration": -152,
    "start_time": "2021-11-16T20:17:45.960Z"
   },
   {
    "duration": -155,
    "start_time": "2021-11-16T20:17:45.963Z"
   },
   {
    "duration": -156,
    "start_time": "2021-11-16T20:17:45.965Z"
   },
   {
    "duration": -158,
    "start_time": "2021-11-16T20:17:45.968Z"
   },
   {
    "duration": -172,
    "start_time": "2021-11-16T20:17:45.984Z"
   },
   {
    "duration": -173,
    "start_time": "2021-11-16T20:17:45.986Z"
   },
   {
    "duration": -174,
    "start_time": "2021-11-16T20:17:45.988Z"
   },
   {
    "duration": -192,
    "start_time": "2021-11-16T20:17:46.007Z"
   },
   {
    "duration": -194,
    "start_time": "2021-11-16T20:17:46.009Z"
   },
   {
    "duration": -195,
    "start_time": "2021-11-16T20:17:46.011Z"
   },
   {
    "duration": -196,
    "start_time": "2021-11-16T20:17:46.013Z"
   },
   {
    "duration": -197,
    "start_time": "2021-11-16T20:17:46.015Z"
   },
   {
    "duration": -202,
    "start_time": "2021-11-16T20:17:46.021Z"
   },
   {
    "duration": -228,
    "start_time": "2021-11-16T20:17:46.049Z"
   },
   {
    "duration": -227,
    "start_time": "2021-11-16T20:17:46.051Z"
   },
   {
    "duration": -228,
    "start_time": "2021-11-16T20:17:46.053Z"
   },
   {
    "duration": -228,
    "start_time": "2021-11-16T20:17:46.054Z"
   },
   {
    "duration": -230,
    "start_time": "2021-11-16T20:17:46.057Z"
   },
   {
    "duration": -245,
    "start_time": "2021-11-16T20:17:46.073Z"
   },
   {
    "duration": -246,
    "start_time": "2021-11-16T20:17:46.075Z"
   },
   {
    "duration": -189,
    "start_time": "2021-11-16T20:17:46.077Z"
   },
   {
    "duration": -190,
    "start_time": "2021-11-16T20:17:46.079Z"
   },
   {
    "duration": -190,
    "start_time": "2021-11-16T20:17:46.080Z"
   },
   {
    "duration": -191,
    "start_time": "2021-11-16T20:17:46.082Z"
   },
   {
    "duration": -193,
    "start_time": "2021-11-16T20:17:46.085Z"
   },
   {
    "duration": -193,
    "start_time": "2021-11-16T20:17:46.086Z"
   },
   {
    "duration": -194,
    "start_time": "2021-11-16T20:17:46.088Z"
   },
   {
    "duration": -196,
    "start_time": "2021-11-16T20:17:46.090Z"
   },
   {
    "duration": 4,
    "start_time": "2021-11-16T20:17:47.468Z"
   },
   {
    "duration": 75,
    "start_time": "2021-11-16T20:17:47.474Z"
   },
   {
    "duration": 5,
    "start_time": "2021-11-16T20:17:47.552Z"
   },
   {
    "duration": 33,
    "start_time": "2021-11-16T20:17:47.559Z"
   },
   {
    "duration": 14,
    "start_time": "2021-11-16T20:17:47.594Z"
   },
   {
    "duration": 14,
    "start_time": "2021-11-16T20:17:47.610Z"
   },
   {
    "duration": 5,
    "start_time": "2021-11-16T20:17:47.625Z"
   },
   {
    "duration": 9,
    "start_time": "2021-11-16T20:17:47.631Z"
   },
   {
    "duration": 187,
    "start_time": "2021-11-16T20:17:47.643Z"
   },
   {
    "duration": 5,
    "start_time": "2021-11-16T20:17:47.832Z"
   },
   {
    "duration": 6,
    "start_time": "2021-11-16T20:17:47.839Z"
   },
   {
    "duration": 10,
    "start_time": "2021-11-16T20:17:47.847Z"
   },
   {
    "duration": 32,
    "start_time": "2021-11-16T20:17:47.858Z"
   },
   {
    "duration": 7,
    "start_time": "2021-11-16T20:17:47.893Z"
   },
   {
    "duration": 6,
    "start_time": "2021-11-16T20:17:47.902Z"
   },
   {
    "duration": 6,
    "start_time": "2021-11-16T20:17:47.910Z"
   },
   {
    "duration": 12,
    "start_time": "2021-11-16T20:17:47.918Z"
   },
   {
    "duration": 9,
    "start_time": "2021-11-16T20:17:47.932Z"
   },
   {
    "duration": 53,
    "start_time": "2021-11-16T20:17:47.943Z"
   },
   {
    "duration": 9,
    "start_time": "2021-11-16T20:17:47.998Z"
   },
   {
    "duration": 7,
    "start_time": "2021-11-16T20:17:48.010Z"
   },
   {
    "duration": 20,
    "start_time": "2021-11-16T20:17:48.019Z"
   },
   {
    "duration": 8,
    "start_time": "2021-11-16T20:17:48.041Z"
   },
   {
    "duration": 55,
    "start_time": "2021-11-16T20:17:48.050Z"
   },
   {
    "duration": 7,
    "start_time": "2021-11-16T20:17:48.107Z"
   },
   {
    "duration": 19,
    "start_time": "2021-11-16T20:17:48.116Z"
   },
   {
    "duration": 6,
    "start_time": "2021-11-16T20:17:48.140Z"
   },
   {
    "duration": 5,
    "start_time": "2021-11-16T20:17:48.187Z"
   },
   {
    "duration": 16,
    "start_time": "2021-11-16T20:17:48.194Z"
   },
   {
    "duration": 33,
    "start_time": "2021-11-16T20:17:48.212Z"
   },
   {
    "duration": 3,
    "start_time": "2021-11-16T20:17:48.247Z"
   },
   {
    "duration": 540,
    "start_time": "2021-11-16T20:17:48.252Z"
   },
   {
    "duration": 36665,
    "start_time": "2021-11-16T20:17:48.794Z"
   },
   {
    "duration": 59,
    "start_time": "2021-11-16T20:18:25.462Z"
   },
   {
    "duration": 5,
    "start_time": "2021-11-16T20:18:25.523Z"
   },
   {
    "duration": 4025,
    "start_time": "2021-11-16T20:18:25.530Z"
   },
   {
    "duration": 24,
    "start_time": "2021-11-16T20:18:29.563Z"
   },
   {
    "duration": 3980,
    "start_time": "2021-11-16T20:18:29.592Z"
   },
   {
    "duration": 5,
    "start_time": "2021-11-16T20:18:33.574Z"
   },
   {
    "duration": 9,
    "start_time": "2021-11-16T20:18:33.596Z"
   },
   {
    "duration": 10,
    "start_time": "2021-11-16T20:18:33.607Z"
   },
   {
    "duration": 14,
    "start_time": "2021-11-16T20:18:33.619Z"
   },
   {
    "duration": 14,
    "start_time": "2021-11-16T20:18:33.635Z"
   },
   {
    "duration": 46,
    "start_time": "2021-11-16T20:18:33.651Z"
   },
   {
    "duration": 22,
    "start_time": "2021-11-16T20:18:33.699Z"
   },
   {
    "duration": 22,
    "start_time": "2021-11-16T20:18:33.723Z"
   },
   {
    "duration": 55,
    "start_time": "2021-11-16T20:18:33.747Z"
   },
   {
    "duration": 11,
    "start_time": "2021-11-16T20:20:02.079Z"
   },
   {
    "duration": 176,
    "start_time": "2021-11-16T20:20:06.332Z"
   },
   {
    "duration": 4,
    "start_time": "2021-11-16T20:20:22.400Z"
   },
   {
    "duration": 80,
    "start_time": "2021-11-16T20:20:22.407Z"
   },
   {
    "duration": 7,
    "start_time": "2021-11-16T20:20:22.489Z"
   },
   {
    "duration": 14,
    "start_time": "2021-11-16T20:20:22.498Z"
   },
   {
    "duration": 20,
    "start_time": "2021-11-16T20:20:22.514Z"
   },
   {
    "duration": 20,
    "start_time": "2021-11-16T20:20:22.536Z"
   },
   {
    "duration": 31,
    "start_time": "2021-11-16T20:20:22.558Z"
   },
   {
    "duration": 10,
    "start_time": "2021-11-16T20:20:22.592Z"
   },
   {
    "duration": 156,
    "start_time": "2021-11-16T20:20:22.604Z"
   },
   {
    "duration": 5,
    "start_time": "2021-11-16T20:20:22.761Z"
   },
   {
    "duration": 20,
    "start_time": "2021-11-16T20:20:22.768Z"
   },
   {
    "duration": 7,
    "start_time": "2021-11-16T20:20:22.790Z"
   },
   {
    "duration": 7,
    "start_time": "2021-11-16T20:20:22.799Z"
   },
   {
    "duration": 7,
    "start_time": "2021-11-16T20:20:22.808Z"
   },
   {
    "duration": 6,
    "start_time": "2021-11-16T20:20:22.817Z"
   },
   {
    "duration": 7,
    "start_time": "2021-11-16T20:20:22.825Z"
   },
   {
    "duration": 66,
    "start_time": "2021-11-16T20:20:22.834Z"
   },
   {
    "duration": 12,
    "start_time": "2021-11-16T20:20:22.902Z"
   },
   {
    "duration": 29,
    "start_time": "2021-11-16T20:20:22.915Z"
   },
   {
    "duration": 13,
    "start_time": "2021-11-16T20:20:22.946Z"
   },
   {
    "duration": 31,
    "start_time": "2021-11-16T20:20:22.961Z"
   },
   {
    "duration": 31,
    "start_time": "2021-11-16T20:20:22.994Z"
   },
   {
    "duration": 6,
    "start_time": "2021-11-16T20:20:23.029Z"
   },
   {
    "duration": 17,
    "start_time": "2021-11-16T20:20:23.037Z"
   },
   {
    "duration": 34,
    "start_time": "2021-11-16T20:20:23.056Z"
   },
   {
    "duration": 17,
    "start_time": "2021-11-16T20:20:23.092Z"
   },
   {
    "duration": 19,
    "start_time": "2021-11-16T20:20:23.111Z"
   },
   {
    "duration": 29,
    "start_time": "2021-11-16T20:20:23.131Z"
   },
   {
    "duration": 17,
    "start_time": "2021-11-16T20:20:23.162Z"
   },
   {
    "duration": 41,
    "start_time": "2021-11-16T20:20:23.181Z"
   },
   {
    "duration": 3,
    "start_time": "2021-11-16T20:20:23.225Z"
   },
   {
    "duration": 690,
    "start_time": "2021-11-16T20:20:23.230Z"
   },
   {
    "duration": 34458,
    "start_time": "2021-11-16T20:20:23.922Z"
   },
   {
    "duration": 38,
    "start_time": "2021-11-16T20:20:58.382Z"
   },
   {
    "duration": 36,
    "start_time": "2021-11-16T20:20:58.422Z"
   },
   {
    "duration": 3850,
    "start_time": "2021-11-16T20:20:58.460Z"
   },
   {
    "duration": 23,
    "start_time": "2021-11-16T20:21:02.313Z"
   },
   {
    "duration": 4499,
    "start_time": "2021-11-16T20:21:02.338Z"
   },
   {
    "duration": 6,
    "start_time": "2021-11-16T20:21:06.839Z"
   },
   {
    "duration": 13,
    "start_time": "2021-11-16T20:21:06.847Z"
   },
   {
    "duration": 27,
    "start_time": "2021-11-16T20:21:06.862Z"
   },
   {
    "duration": 13,
    "start_time": "2021-11-16T20:21:06.891Z"
   },
   {
    "duration": 11,
    "start_time": "2021-11-16T20:21:06.905Z"
   },
   {
    "duration": 27,
    "start_time": "2021-11-16T20:21:06.918Z"
   },
   {
    "duration": 45,
    "start_time": "2021-11-16T20:21:06.947Z"
   },
   {
    "duration": 20,
    "start_time": "2021-11-16T20:21:06.994Z"
   },
   {
    "duration": 16,
    "start_time": "2021-11-16T20:21:07.016Z"
   },
   {
    "duration": 5,
    "start_time": "2021-11-16T20:28:13.424Z"
   },
   {
    "duration": 6,
    "start_time": "2021-11-16T20:30:49.760Z"
   },
   {
    "duration": 15,
    "start_time": "2021-11-16T20:41:44.861Z"
   },
   {
    "duration": 19,
    "start_time": "2021-11-16T20:49:35.892Z"
   },
   {
    "duration": 7,
    "start_time": "2021-11-16T20:51:42.073Z"
   },
   {
    "duration": 11,
    "start_time": "2021-11-16T20:51:45.797Z"
   },
   {
    "duration": 513,
    "start_time": "2021-11-16T21:12:37.045Z"
   },
   {
    "duration": 510,
    "start_time": "2021-11-17T08:33:12.951Z"
   },
   {
    "duration": 892,
    "start_time": "2021-11-17T08:33:22.379Z"
   },
   {
    "duration": 95,
    "start_time": "2021-11-17T08:33:23.273Z"
   },
   {
    "duration": 7,
    "start_time": "2021-11-17T08:33:23.371Z"
   },
   {
    "duration": 20,
    "start_time": "2021-11-17T08:33:23.381Z"
   },
   {
    "duration": 55,
    "start_time": "2021-11-17T08:33:23.404Z"
   },
   {
    "duration": 35,
    "start_time": "2021-11-17T08:33:23.462Z"
   },
   {
    "duration": 10,
    "start_time": "2021-11-17T08:33:23.500Z"
   },
   {
    "duration": 14,
    "start_time": "2021-11-17T08:33:23.515Z"
   },
   {
    "duration": 244,
    "start_time": "2021-11-17T08:33:23.560Z"
   },
   {
    "duration": 6,
    "start_time": "2021-11-17T08:33:23.806Z"
   },
   {
    "duration": 8,
    "start_time": "2021-11-17T08:33:23.814Z"
   },
   {
    "duration": 39,
    "start_time": "2021-11-17T08:33:23.824Z"
   },
   {
    "duration": 9,
    "start_time": "2021-11-17T08:33:23.866Z"
   },
   {
    "duration": 12,
    "start_time": "2021-11-17T08:33:23.877Z"
   },
   {
    "duration": 8,
    "start_time": "2021-11-17T08:33:23.891Z"
   },
   {
    "duration": 8,
    "start_time": "2021-11-17T08:33:23.903Z"
   },
   {
    "duration": 57,
    "start_time": "2021-11-17T08:33:23.913Z"
   },
   {
    "duration": 15,
    "start_time": "2021-11-17T08:33:23.972Z"
   },
   {
    "duration": 18,
    "start_time": "2021-11-17T08:33:23.990Z"
   },
   {
    "duration": 13,
    "start_time": "2021-11-17T08:33:24.010Z"
   },
   {
    "duration": 42,
    "start_time": "2021-11-17T08:33:24.025Z"
   },
   {
    "duration": 31,
    "start_time": "2021-11-17T08:33:24.069Z"
   },
   {
    "duration": 9,
    "start_time": "2021-11-17T08:33:24.105Z"
   },
   {
    "duration": 51,
    "start_time": "2021-11-17T08:33:24.117Z"
   },
   {
    "duration": 9,
    "start_time": "2021-11-17T08:33:24.171Z"
   },
   {
    "duration": 26,
    "start_time": "2021-11-17T08:33:24.182Z"
   },
   {
    "duration": 7,
    "start_time": "2021-11-17T08:33:24.211Z"
   },
   {
    "duration": 39,
    "start_time": "2021-11-17T08:33:24.220Z"
   },
   {
    "duration": 7,
    "start_time": "2021-11-17T08:33:24.262Z"
   },
   {
    "duration": 43,
    "start_time": "2021-11-17T08:33:24.272Z"
   },
   {
    "duration": 4,
    "start_time": "2021-11-17T08:33:24.317Z"
   },
   {
    "duration": 752,
    "start_time": "2021-11-17T08:33:24.324Z"
   },
   {
    "duration": 5,
    "start_time": "2021-11-17T08:33:25.078Z"
   },
   {
    "duration": 49327,
    "start_time": "2021-11-17T08:33:25.085Z"
   },
   {
    "duration": 54,
    "start_time": "2021-11-17T08:34:14.415Z"
   },
   {
    "duration": 5,
    "start_time": "2021-11-17T08:34:14.472Z"
   },
   {
    "duration": 5235,
    "start_time": "2021-11-17T08:34:14.480Z"
   },
   {
    "duration": 23,
    "start_time": "2021-11-17T08:34:19.717Z"
   },
   {
    "duration": 5725,
    "start_time": "2021-11-17T08:34:19.742Z"
   },
   {
    "duration": 12,
    "start_time": "2021-11-17T08:34:25.469Z"
   },
   {
    "duration": 28,
    "start_time": "2021-11-17T08:34:25.484Z"
   },
   {
    "duration": 20,
    "start_time": "2021-11-17T08:34:25.515Z"
   },
   {
    "duration": 24,
    "start_time": "2021-11-17T08:34:25.538Z"
   },
   {
    "duration": 22,
    "start_time": "2021-11-17T08:34:25.564Z"
   },
   {
    "duration": 42,
    "start_time": "2021-11-17T08:34:25.588Z"
   },
   {
    "duration": 40,
    "start_time": "2021-11-17T08:34:25.632Z"
   },
   {
    "duration": 27,
    "start_time": "2021-11-17T08:34:25.674Z"
   },
   {
    "duration": 56,
    "start_time": "2021-11-17T08:34:25.703Z"
   },
   {
    "duration": 452,
    "start_time": "2021-11-17T08:34:25.762Z"
   },
   {
    "duration": 32,
    "start_time": "2021-11-17T08:38:24.119Z"
   },
   {
    "duration": 413,
    "start_time": "2021-11-17T08:38:51.030Z"
   },
   {
    "duration": 33,
    "start_time": "2021-11-17T08:39:10.951Z"
   },
   {
    "duration": 4975,
    "start_time": "2021-11-17T08:42:46.582Z"
   },
   {
    "duration": 120,
    "start_time": "2021-11-17T08:43:09.169Z"
   },
   {
    "duration": 3791,
    "start_time": "2021-11-17T08:43:16.387Z"
   },
   {
    "duration": 3817,
    "start_time": "2021-11-17T08:49:45.838Z"
   },
   {
    "duration": 32,
    "start_time": "2021-11-17T08:50:51.490Z"
   },
   {
    "duration": 33,
    "start_time": "2021-11-17T08:51:31.453Z"
   },
   {
    "duration": 35,
    "start_time": "2021-11-17T08:53:47.032Z"
   },
   {
    "duration": 131,
    "start_time": "2021-11-17T08:54:01.005Z"
   },
   {
    "duration": 4357,
    "start_time": "2021-11-17T08:54:12.301Z"
   },
   {
    "duration": 35,
    "start_time": "2021-11-17T08:54:20.576Z"
   },
   {
    "duration": 5,
    "start_time": "2021-11-17T08:54:26.947Z"
   },
   {
    "duration": 5,
    "start_time": "2021-11-17T08:54:29.592Z"
   },
   {
    "duration": 712,
    "start_time": "2021-11-17T08:57:03.285Z"
   },
   {
    "duration": 34,
    "start_time": "2021-11-17T08:57:38.108Z"
   },
   {
    "duration": 679,
    "start_time": "2021-11-17T08:57:38.611Z"
   },
   {
    "duration": 35,
    "start_time": "2021-11-17T08:57:50.908Z"
   },
   {
    "duration": 49,
    "start_time": "2021-11-17T08:58:50.939Z"
   },
   {
    "duration": 3357,
    "start_time": "2021-11-17T08:59:02.332Z"
   },
   {
    "duration": 51,
    "start_time": "2021-11-17T08:59:24.703Z"
   },
   {
    "duration": 3481,
    "start_time": "2021-11-17T08:59:30.019Z"
   },
   {
    "duration": 39,
    "start_time": "2021-11-17T08:59:37.010Z"
   },
   {
    "duration": 34,
    "start_time": "2021-11-17T08:59:50.886Z"
   },
   {
    "duration": 41,
    "start_time": "2021-11-17T08:59:55.135Z"
   },
   {
    "duration": 37,
    "start_time": "2021-11-17T09:00:05.077Z"
   },
   {
    "duration": 37,
    "start_time": "2021-11-17T09:00:40.927Z"
   },
   {
    "duration": 487,
    "start_time": "2021-11-17T09:01:19.498Z"
   },
   {
    "duration": 5,
    "start_time": "2021-11-17T09:01:26.875Z"
   },
   {
    "duration": 35,
    "start_time": "2021-11-17T09:01:46.582Z"
   },
   {
    "duration": 35,
    "start_time": "2021-11-17T09:02:29.646Z"
   },
   {
    "duration": 36,
    "start_time": "2021-11-17T09:02:44.769Z"
   },
   {
    "duration": 39,
    "start_time": "2021-11-17T09:02:50.934Z"
   },
   {
    "duration": 36,
    "start_time": "2021-11-17T09:03:54.139Z"
   },
   {
    "duration": 36,
    "start_time": "2021-11-17T09:04:21.267Z"
   },
   {
    "duration": 45,
    "start_time": "2021-11-17T09:04:26.250Z"
   },
   {
    "duration": 36,
    "start_time": "2021-11-17T09:05:48.755Z"
   },
   {
    "duration": 33,
    "start_time": "2021-11-17T09:06:30.487Z"
   },
   {
    "duration": 125,
    "start_time": "2021-11-17T09:06:57.727Z"
   },
   {
    "duration": 37,
    "start_time": "2021-11-17T09:07:53.248Z"
   },
   {
    "duration": 38,
    "start_time": "2021-11-17T09:08:01.145Z"
   },
   {
    "duration": 40,
    "start_time": "2021-11-17T09:08:09.080Z"
   },
   {
    "duration": 52,
    "start_time": "2021-11-17T09:08:33.132Z"
   },
   {
    "duration": 41,
    "start_time": "2021-11-17T09:08:38.431Z"
   },
   {
    "duration": 51,
    "start_time": "2021-11-17T09:09:13.141Z"
   },
   {
    "duration": 3453,
    "start_time": "2021-11-17T09:09:51.712Z"
   },
   {
    "duration": 40,
    "start_time": "2021-11-17T09:10:05.923Z"
   },
   {
    "duration": 698,
    "start_time": "2021-11-17T09:10:43.424Z"
   },
   {
    "duration": 36,
    "start_time": "2021-11-17T09:11:34.420Z"
   },
   {
    "duration": -685,
    "start_time": "2021-11-17T09:12:07.770Z"
   },
   {
    "duration": -686,
    "start_time": "2021-11-17T09:12:07.774Z"
   },
   {
    "duration": 395,
    "start_time": "2021-11-17T09:12:10.869Z"
   },
   {
    "duration": 7,
    "start_time": "2021-11-17T09:12:15.573Z"
   },
   {
    "duration": 52,
    "start_time": "2021-11-17T09:12:25.865Z"
   },
   {
    "duration": 7,
    "start_time": "2021-11-17T09:12:26.646Z"
   },
   {
    "duration": -690,
    "start_time": "2021-11-17T09:12:58.833Z"
   },
   {
    "duration": -690,
    "start_time": "2021-11-17T09:12:58.835Z"
   },
   {
    "duration": 5,
    "start_time": "2021-11-17T09:13:01.843Z"
   },
   {
    "duration": 41,
    "start_time": "2021-11-17T09:13:07.925Z"
   },
   {
    "duration": 6,
    "start_time": "2021-11-17T09:18:08.894Z"
   },
   {
    "duration": 8,
    "start_time": "2021-11-17T09:18:16.211Z"
   },
   {
    "duration": 127,
    "start_time": "2021-11-17T09:18:24.484Z"
   },
   {
    "duration": 7,
    "start_time": "2021-11-17T09:18:32.235Z"
   },
   {
    "duration": 40,
    "start_time": "2021-11-17T09:19:03.276Z"
   },
   {
    "duration": 39,
    "start_time": "2021-11-17T09:19:07.858Z"
   },
   {
    "duration": 3640,
    "start_time": "2021-11-17T09:20:55.466Z"
   },
   {
    "duration": 40,
    "start_time": "2021-11-17T09:21:12.086Z"
   },
   {
    "duration": 6,
    "start_time": "2021-11-17T09:21:18.558Z"
   },
   {
    "duration": 37,
    "start_time": "2021-11-17T09:21:18.988Z"
   },
   {
    "duration": 38,
    "start_time": "2021-11-17T09:21:34.026Z"
   },
   {
    "duration": 35,
    "start_time": "2021-11-17T09:21:43.810Z"
   },
   {
    "duration": 3403,
    "start_time": "2021-11-17T09:23:56.943Z"
   },
   {
    "duration": 151,
    "start_time": "2021-11-17T09:24:15.888Z"
   },
   {
    "duration": 39,
    "start_time": "2021-11-17T09:24:21.633Z"
   },
   {
    "duration": 37,
    "start_time": "2021-11-17T09:25:21.987Z"
   },
   {
    "duration": 40,
    "start_time": "2021-11-17T09:25:33.067Z"
   },
   {
    "duration": 40,
    "start_time": "2021-11-17T09:25:51.727Z"
   },
   {
    "duration": 45,
    "start_time": "2021-11-17T09:26:03.313Z"
   },
   {
    "duration": 802,
    "start_time": "2021-11-17T09:26:17.207Z"
   },
   {
    "duration": 43,
    "start_time": "2021-11-17T09:26:20.613Z"
   },
   {
    "duration": 41,
    "start_time": "2021-11-17T09:26:26.130Z"
   },
   {
    "duration": 40,
    "start_time": "2021-11-17T09:26:31.292Z"
   },
   {
    "duration": 55,
    "start_time": "2021-11-17T09:27:25.315Z"
   },
   {
    "duration": 49,
    "start_time": "2021-11-17T09:27:39.611Z"
   },
   {
    "duration": 54,
    "start_time": "2021-11-17T09:27:43.636Z"
   },
   {
    "duration": 43,
    "start_time": "2021-11-17T09:27:47.853Z"
   },
   {
    "duration": 42,
    "start_time": "2021-11-17T09:29:15.827Z"
   },
   {
    "duration": 6,
    "start_time": "2021-11-17T09:29:18.350Z"
   },
   {
    "duration": 42,
    "start_time": "2021-11-17T09:29:18.762Z"
   },
   {
    "duration": 42,
    "start_time": "2021-11-17T09:29:42.295Z"
   },
   {
    "duration": 5,
    "start_time": "2021-11-17T09:29:49.245Z"
   },
   {
    "duration": 59,
    "start_time": "2021-11-17T09:29:49.636Z"
   },
   {
    "duration": 57,
    "start_time": "2021-11-17T09:30:09.810Z"
   },
   {
    "duration": 45,
    "start_time": "2021-11-17T09:30:28.020Z"
   },
   {
    "duration": 42,
    "start_time": "2021-11-17T09:30:39.939Z"
   },
   {
    "duration": 42,
    "start_time": "2021-11-17T09:30:58.798Z"
   },
   {
    "duration": 125,
    "start_time": "2021-11-17T09:31:11.212Z"
   },
   {
    "duration": 44,
    "start_time": "2021-11-17T09:31:21.050Z"
   },
   {
    "duration": 38,
    "start_time": "2021-11-17T09:31:29.572Z"
   },
   {
    "duration": 55,
    "start_time": "2021-11-17T09:31:44.186Z"
   },
   {
    "duration": 47,
    "start_time": "2021-11-17T09:31:53.873Z"
   },
   {
    "duration": 40,
    "start_time": "2021-11-17T09:34:07.782Z"
   },
   {
    "duration": 52,
    "start_time": "2021-11-17T09:41:56.873Z"
   },
   {
    "duration": 41,
    "start_time": "2021-11-17T09:45:56.956Z"
   },
   {
    "duration": 423,
    "start_time": "2021-11-17T10:11:47.440Z"
   },
   {
    "duration": 36,
    "start_time": "2021-11-17T10:12:14.168Z"
   },
   {
    "duration": 37,
    "start_time": "2021-11-17T10:12:44.625Z"
   },
   {
    "duration": 38,
    "start_time": "2021-11-17T10:14:16.897Z"
   },
   {
    "duration": 41,
    "start_time": "2021-11-17T10:14:49.180Z"
   },
   {
    "duration": 38,
    "start_time": "2021-11-17T10:16:42.701Z"
   },
   {
    "duration": 53,
    "start_time": "2021-11-17T10:18:07.218Z"
   },
   {
    "duration": 39,
    "start_time": "2021-11-17T10:18:41.017Z"
   },
   {
    "duration": 39,
    "start_time": "2021-11-17T10:19:09.234Z"
   },
   {
    "duration": 38,
    "start_time": "2021-11-17T10:19:25.676Z"
   },
   {
    "duration": 43,
    "start_time": "2021-11-17T10:20:29.943Z"
   },
   {
    "duration": 5,
    "start_time": "2021-11-17T10:20:38.448Z"
   },
   {
    "duration": 135,
    "start_time": "2021-11-17T10:20:38.457Z"
   },
   {
    "duration": 5,
    "start_time": "2021-11-17T10:20:38.596Z"
   },
   {
    "duration": 14,
    "start_time": "2021-11-17T10:20:38.604Z"
   },
   {
    "duration": 57,
    "start_time": "2021-11-17T10:20:38.620Z"
   },
   {
    "duration": 25,
    "start_time": "2021-11-17T10:20:38.679Z"
   },
   {
    "duration": 8,
    "start_time": "2021-11-17T10:20:38.706Z"
   },
   {
    "duration": 49,
    "start_time": "2021-11-17T10:20:38.717Z"
   },
   {
    "duration": 253,
    "start_time": "2021-11-17T10:20:38.769Z"
   },
   {
    "duration": 7,
    "start_time": "2021-11-17T10:20:39.024Z"
   },
   {
    "duration": 26,
    "start_time": "2021-11-17T10:20:39.033Z"
   },
   {
    "duration": 14,
    "start_time": "2021-11-17T10:20:39.061Z"
   },
   {
    "duration": 10,
    "start_time": "2021-11-17T10:20:39.078Z"
   },
   {
    "duration": 18,
    "start_time": "2021-11-17T10:20:39.091Z"
   },
   {
    "duration": 8,
    "start_time": "2021-11-17T10:20:39.111Z"
   },
   {
    "duration": 37,
    "start_time": "2021-11-17T10:20:39.122Z"
   },
   {
    "duration": 16,
    "start_time": "2021-11-17T10:20:39.162Z"
   },
   {
    "duration": 15,
    "start_time": "2021-11-17T10:20:39.180Z"
   },
   {
    "duration": 25,
    "start_time": "2021-11-17T10:20:39.197Z"
   },
   {
    "duration": 39,
    "start_time": "2021-11-17T10:20:39.225Z"
   },
   {
    "duration": 10,
    "start_time": "2021-11-17T10:20:39.267Z"
   },
   {
    "duration": 44,
    "start_time": "2021-11-17T10:20:39.279Z"
   },
   {
    "duration": 35,
    "start_time": "2021-11-17T10:20:39.329Z"
   },
   {
    "duration": 21,
    "start_time": "2021-11-17T10:20:39.367Z"
   },
   {
    "duration": 14,
    "start_time": "2021-11-17T10:20:39.391Z"
   },
   {
    "duration": 53,
    "start_time": "2021-11-17T10:20:39.408Z"
   },
   {
    "duration": 9,
    "start_time": "2021-11-17T10:20:39.463Z"
   },
   {
    "duration": 10,
    "start_time": "2021-11-17T10:20:39.475Z"
   },
   {
    "duration": 13,
    "start_time": "2021-11-17T10:20:39.487Z"
   },
   {
    "duration": 60,
    "start_time": "2021-11-17T10:20:39.503Z"
   },
   {
    "duration": 5,
    "start_time": "2021-11-17T10:20:39.565Z"
   },
   {
    "duration": 652,
    "start_time": "2021-11-17T10:20:39.572Z"
   },
   {
    "duration": 4,
    "start_time": "2021-11-17T10:20:40.226Z"
   },
   {
    "duration": 48097,
    "start_time": "2021-11-17T10:20:40.233Z"
   },
   {
    "duration": 55,
    "start_time": "2021-11-17T10:21:28.332Z"
   },
   {
    "duration": 25,
    "start_time": "2021-11-17T10:21:28.389Z"
   },
   {
    "duration": 5528,
    "start_time": "2021-11-17T10:21:28.417Z"
   },
   {
    "duration": 28,
    "start_time": "2021-11-17T10:21:33.948Z"
   },
   {
    "duration": 5994,
    "start_time": "2021-11-17T10:21:33.979Z"
   },
   {
    "duration": 7,
    "start_time": "2021-11-17T10:21:39.976Z"
   },
   {
    "duration": 24,
    "start_time": "2021-11-17T10:21:39.985Z"
   },
   {
    "duration": 16,
    "start_time": "2021-11-17T10:21:40.011Z"
   },
   {
    "duration": 39,
    "start_time": "2021-11-17T10:21:40.030Z"
   },
   {
    "duration": 18,
    "start_time": "2021-11-17T10:21:40.071Z"
   },
   {
    "duration": 39,
    "start_time": "2021-11-17T10:21:40.092Z"
   },
   {
    "duration": 44,
    "start_time": "2021-11-17T10:21:40.133Z"
   },
   {
    "duration": 26,
    "start_time": "2021-11-17T10:21:40.180Z"
   },
   {
    "duration": 57,
    "start_time": "2021-11-17T10:21:40.208Z"
   },
   {
    "duration": 48,
    "start_time": "2021-11-17T10:21:40.268Z"
   },
   {
    "duration": 61,
    "start_time": "2021-11-17T10:21:40.319Z"
   },
   {
    "duration": 38,
    "start_time": "2021-11-17T10:21:40.383Z"
   },
   {
    "duration": 60,
    "start_time": "2021-11-17T10:21:40.423Z"
   },
   {
    "duration": 38,
    "start_time": "2021-11-17T10:21:40.485Z"
   },
   {
    "duration": 60,
    "start_time": "2021-11-17T10:21:40.526Z"
   },
   {
    "duration": 93,
    "start_time": "2021-11-17T10:50:01.231Z"
   },
   {
    "duration": 33,
    "start_time": "2021-11-17T10:50:05.108Z"
   },
   {
    "duration": 98,
    "start_time": "2021-11-17T10:50:09.466Z"
   },
   {
    "duration": 5,
    "start_time": "2021-11-17T11:40:18.248Z"
   },
   {
    "duration": 159,
    "start_time": "2021-11-17T11:40:18.255Z"
   },
   {
    "duration": 6,
    "start_time": "2021-11-17T11:40:18.419Z"
   },
   {
    "duration": 36,
    "start_time": "2021-11-17T11:40:18.428Z"
   },
   {
    "duration": 28,
    "start_time": "2021-11-17T11:40:18.467Z"
   },
   {
    "duration": 27,
    "start_time": "2021-11-17T11:40:18.497Z"
   },
   {
    "duration": 10,
    "start_time": "2021-11-17T11:40:18.561Z"
   },
   {
    "duration": 16,
    "start_time": "2021-11-17T11:40:18.577Z"
   },
   {
    "duration": 370,
    "start_time": "2021-11-17T11:40:18.597Z"
   },
   {
    "duration": 8,
    "start_time": "2021-11-17T11:40:18.970Z"
   },
   {
    "duration": 8,
    "start_time": "2021-11-17T11:40:18.981Z"
   },
   {
    "duration": 23,
    "start_time": "2021-11-17T11:40:18.992Z"
   },
   {
    "duration": 11,
    "start_time": "2021-11-17T11:40:19.018Z"
   },
   {
    "duration": 9,
    "start_time": "2021-11-17T11:40:19.059Z"
   },
   {
    "duration": 8,
    "start_time": "2021-11-17T11:40:19.071Z"
   },
   {
    "duration": 13,
    "start_time": "2021-11-17T11:40:19.081Z"
   },
   {
    "duration": 16,
    "start_time": "2021-11-17T11:40:19.096Z"
   },
   {
    "duration": 53,
    "start_time": "2021-11-17T11:40:19.114Z"
   },
   {
    "duration": 33,
    "start_time": "2021-11-17T11:40:19.170Z"
   },
   {
    "duration": 22,
    "start_time": "2021-11-17T11:40:19.206Z"
   },
   {
    "duration": 34,
    "start_time": "2021-11-17T11:40:19.231Z"
   },
   {
    "duration": 46,
    "start_time": "2021-11-17T11:40:19.268Z"
   },
   {
    "duration": 37,
    "start_time": "2021-11-17T11:40:19.321Z"
   },
   {
    "duration": 17,
    "start_time": "2021-11-17T11:40:19.362Z"
   },
   {
    "duration": 11,
    "start_time": "2021-11-17T11:40:19.382Z"
   },
   {
    "duration": 32,
    "start_time": "2021-11-17T11:40:19.396Z"
   },
   {
    "duration": 35,
    "start_time": "2021-11-17T11:40:19.431Z"
   },
   {
    "duration": 12,
    "start_time": "2021-11-17T11:40:19.470Z"
   },
   {
    "duration": 10,
    "start_time": "2021-11-17T11:40:19.485Z"
   },
   {
    "duration": 73,
    "start_time": "2021-11-17T11:40:19.498Z"
   },
   {
    "duration": 4,
    "start_time": "2021-11-17T11:40:19.574Z"
   },
   {
    "duration": 1319,
    "start_time": "2021-11-17T11:40:19.581Z"
   },
   {
    "duration": 7,
    "start_time": "2021-11-17T11:40:20.903Z"
   },
   {
    "duration": 66884,
    "start_time": "2021-11-17T11:40:20.913Z"
   },
   {
    "duration": 59,
    "start_time": "2021-11-17T11:41:27.800Z"
   },
   {
    "duration": 30,
    "start_time": "2021-11-17T11:41:27.861Z"
   },
   {
    "duration": 5538,
    "start_time": "2021-11-17T11:41:27.894Z"
   },
   {
    "duration": 31,
    "start_time": "2021-11-17T11:41:33.435Z"
   },
   {
    "duration": 6067,
    "start_time": "2021-11-17T11:41:33.469Z"
   },
   {
    "duration": 6,
    "start_time": "2021-11-17T11:41:39.539Z"
   },
   {
    "duration": 29,
    "start_time": "2021-11-17T11:41:39.547Z"
   },
   {
    "duration": 9,
    "start_time": "2021-11-17T11:41:39.579Z"
   },
   {
    "duration": 21,
    "start_time": "2021-11-17T11:41:39.591Z"
   },
   {
    "duration": 57,
    "start_time": "2021-11-17T11:41:39.615Z"
   },
   {
    "duration": 30,
    "start_time": "2021-11-17T11:41:39.675Z"
   },
   {
    "duration": 67,
    "start_time": "2021-11-17T11:41:39.708Z"
   },
   {
    "duration": 30,
    "start_time": "2021-11-17T11:41:39.778Z"
   },
   {
    "duration": 53,
    "start_time": "2021-11-17T11:41:39.811Z"
   },
   {
    "duration": 41,
    "start_time": "2021-11-17T11:41:39.866Z"
   },
   {
    "duration": 62,
    "start_time": "2021-11-17T11:41:39.910Z"
   },
   {
    "duration": 36,
    "start_time": "2021-11-17T11:41:39.974Z"
   },
   {
    "duration": 65,
    "start_time": "2021-11-17T11:41:40.013Z"
   },
   {
    "duration": 39,
    "start_time": "2021-11-17T11:41:40.081Z"
   },
   {
    "duration": 66,
    "start_time": "2021-11-17T11:41:40.122Z"
   },
   {
    "duration": 4,
    "start_time": "2021-11-17T12:15:16.049Z"
   },
   {
    "duration": 120,
    "start_time": "2021-11-17T12:15:16.056Z"
   },
   {
    "duration": 6,
    "start_time": "2021-11-17T12:15:16.179Z"
   },
   {
    "duration": 14,
    "start_time": "2021-11-17T12:15:16.188Z"
   },
   {
    "duration": 57,
    "start_time": "2021-11-17T12:15:16.205Z"
   },
   {
    "duration": 27,
    "start_time": "2021-11-17T12:15:16.264Z"
   },
   {
    "duration": 8,
    "start_time": "2021-11-17T12:15:16.294Z"
   },
   {
    "duration": 14,
    "start_time": "2021-11-17T12:15:16.305Z"
   },
   {
    "duration": 270,
    "start_time": "2021-11-17T12:15:16.322Z"
   },
   {
    "duration": 7,
    "start_time": "2021-11-17T12:15:16.594Z"
   },
   {
    "duration": 7,
    "start_time": "2021-11-17T12:15:16.604Z"
   },
   {
    "duration": 11,
    "start_time": "2021-11-17T12:15:16.614Z"
   },
   {
    "duration": 36,
    "start_time": "2021-11-17T12:15:16.628Z"
   },
   {
    "duration": 13,
    "start_time": "2021-11-17T12:15:16.667Z"
   },
   {
    "duration": 6,
    "start_time": "2021-11-17T12:15:16.683Z"
   },
   {
    "duration": 7,
    "start_time": "2021-11-17T12:15:16.691Z"
   },
   {
    "duration": 17,
    "start_time": "2021-11-17T12:15:16.700Z"
   },
   {
    "duration": 47,
    "start_time": "2021-11-17T12:15:16.719Z"
   },
   {
    "duration": 34,
    "start_time": "2021-11-17T12:15:16.772Z"
   },
   {
    "duration": 25,
    "start_time": "2021-11-17T12:15:16.810Z"
   },
   {
    "duration": 28,
    "start_time": "2021-11-17T12:15:16.837Z"
   },
   {
    "duration": 41,
    "start_time": "2021-11-17T12:15:16.867Z"
   },
   {
    "duration": 9,
    "start_time": "2021-11-17T12:15:16.911Z"
   },
   {
    "duration": 42,
    "start_time": "2021-11-17T12:15:16.923Z"
   },
   {
    "duration": 19,
    "start_time": "2021-11-17T12:15:16.967Z"
   },
   {
    "duration": 31,
    "start_time": "2021-11-17T12:15:16.988Z"
   },
   {
    "duration": 11,
    "start_time": "2021-11-17T12:15:17.022Z"
   },
   {
    "duration": 24,
    "start_time": "2021-11-17T12:15:17.035Z"
   },
   {
    "duration": 15,
    "start_time": "2021-11-17T12:15:17.062Z"
   },
   {
    "duration": 39,
    "start_time": "2021-11-17T12:15:17.080Z"
   },
   {
    "duration": 5,
    "start_time": "2021-11-17T12:15:17.121Z"
   },
   {
    "duration": 658,
    "start_time": "2021-11-17T12:15:17.128Z"
   },
   {
    "duration": 4,
    "start_time": "2021-11-17T12:15:17.789Z"
   },
   {
    "duration": 48391,
    "start_time": "2021-11-17T12:15:17.795Z"
   },
   {
    "duration": 47,
    "start_time": "2021-11-17T12:16:06.188Z"
   },
   {
    "duration": 46,
    "start_time": "2021-11-17T12:16:06.237Z"
   },
   {
    "duration": 5041,
    "start_time": "2021-11-17T12:16:06.285Z"
   },
   {
    "duration": 41,
    "start_time": "2021-11-17T12:16:11.329Z"
   },
   {
    "duration": 6277,
    "start_time": "2021-11-17T12:16:11.372Z"
   },
   {
    "duration": 9,
    "start_time": "2021-11-17T12:16:17.651Z"
   },
   {
    "duration": 22,
    "start_time": "2021-11-17T12:16:17.663Z"
   },
   {
    "duration": 14,
    "start_time": "2021-11-17T12:16:17.687Z"
   },
   {
    "duration": 25,
    "start_time": "2021-11-17T12:16:17.703Z"
   },
   {
    "duration": 44,
    "start_time": "2021-11-17T12:16:17.730Z"
   },
   {
    "duration": 30,
    "start_time": "2021-11-17T12:16:17.777Z"
   },
   {
    "duration": 65,
    "start_time": "2021-11-17T12:16:17.811Z"
   },
   {
    "duration": 28,
    "start_time": "2021-11-17T12:16:17.880Z"
   },
   {
    "duration": 62,
    "start_time": "2021-11-17T12:16:17.911Z"
   },
   {
    "duration": 41,
    "start_time": "2021-11-17T12:16:17.976Z"
   },
   {
    "duration": 65,
    "start_time": "2021-11-17T12:16:18.020Z"
   },
   {
    "duration": 41,
    "start_time": "2021-11-17T12:16:18.088Z"
   },
   {
    "duration": 58,
    "start_time": "2021-11-17T12:16:18.132Z"
   },
   {
    "duration": 37,
    "start_time": "2021-11-17T12:16:18.193Z"
   },
   {
    "duration": 58,
    "start_time": "2021-11-17T12:16:18.232Z"
   },
   {
    "duration": 18,
    "start_time": "2021-11-17T12:20:24.398Z"
   },
   {
    "duration": 5,
    "start_time": "2021-11-17T12:39:08.515Z"
   },
   {
    "duration": 144,
    "start_time": "2021-11-17T12:39:08.524Z"
   },
   {
    "duration": 6,
    "start_time": "2021-11-17T12:39:08.672Z"
   },
   {
    "duration": 11,
    "start_time": "2021-11-17T12:39:08.681Z"
   },
   {
    "duration": 66,
    "start_time": "2021-11-17T12:39:08.695Z"
   },
   {
    "duration": 28,
    "start_time": "2021-11-17T12:39:08.764Z"
   },
   {
    "duration": 10,
    "start_time": "2021-11-17T12:39:08.795Z"
   },
   {
    "duration": 51,
    "start_time": "2021-11-17T12:39:08.808Z"
   },
   {
    "duration": 232,
    "start_time": "2021-11-17T12:39:08.863Z"
   },
   {
    "duration": 7,
    "start_time": "2021-11-17T12:39:09.098Z"
   },
   {
    "duration": 5,
    "start_time": "2021-11-17T12:39:09.107Z"
   },
   {
    "duration": 10,
    "start_time": "2021-11-17T12:39:09.115Z"
   },
   {
    "duration": 9,
    "start_time": "2021-11-17T12:39:09.158Z"
   },
   {
    "duration": 9,
    "start_time": "2021-11-17T12:39:09.170Z"
   },
   {
    "duration": 7,
    "start_time": "2021-11-17T12:39:09.182Z"
   },
   {
    "duration": 11,
    "start_time": "2021-11-17T12:39:09.192Z"
   },
   {
    "duration": 60,
    "start_time": "2021-11-17T12:39:09.206Z"
   },
   {
    "duration": 15,
    "start_time": "2021-11-17T12:39:09.268Z"
   },
   {
    "duration": 30,
    "start_time": "2021-11-17T12:39:09.285Z"
   },
   {
    "duration": 14,
    "start_time": "2021-11-17T12:39:09.318Z"
   },
   {
    "duration": 25,
    "start_time": "2021-11-17T12:39:09.335Z"
   },
   {
    "duration": 36,
    "start_time": "2021-11-17T12:39:09.363Z"
   },
   {
    "duration": 12,
    "start_time": "2021-11-17T12:39:09.401Z"
   },
   {
    "duration": 53,
    "start_time": "2021-11-17T12:39:09.416Z"
   },
   {
    "duration": 15,
    "start_time": "2021-11-17T12:39:09.472Z"
   },
   {
    "duration": 34,
    "start_time": "2021-11-17T12:39:09.489Z"
   },
   {
    "duration": 33,
    "start_time": "2021-11-17T12:39:09.529Z"
   },
   {
    "duration": 6,
    "start_time": "2021-11-17T12:39:09.565Z"
   },
   {
    "duration": 11,
    "start_time": "2021-11-17T12:39:09.573Z"
   },
   {
    "duration": 47,
    "start_time": "2021-11-17T12:39:09.586Z"
   },
   {
    "duration": 5,
    "start_time": "2021-11-17T12:39:09.659Z"
   },
   {
    "duration": 757,
    "start_time": "2021-11-17T12:39:09.667Z"
   },
   {
    "duration": 5,
    "start_time": "2021-11-17T12:39:10.427Z"
   },
   {
    "duration": 48240,
    "start_time": "2021-11-17T12:39:10.435Z"
   },
   {
    "duration": 18,
    "start_time": "2021-11-17T12:39:58.678Z"
   },
   {
    "duration": 72,
    "start_time": "2021-11-17T12:39:58.699Z"
   },
   {
    "duration": 38,
    "start_time": "2021-11-17T12:39:58.773Z"
   },
   {
    "duration": 5926,
    "start_time": "2021-11-17T12:39:58.814Z"
   },
   {
    "duration": 31,
    "start_time": "2021-11-17T12:40:04.743Z"
   },
   {
    "duration": 6058,
    "start_time": "2021-11-17T12:40:04.776Z"
   },
   {
    "duration": 12,
    "start_time": "2021-11-17T12:40:10.837Z"
   },
   {
    "duration": 27,
    "start_time": "2021-11-17T12:40:10.860Z"
   },
   {
    "duration": 9,
    "start_time": "2021-11-17T12:40:10.890Z"
   },
   {
    "duration": 34,
    "start_time": "2021-11-17T12:40:10.901Z"
   },
   {
    "duration": 25,
    "start_time": "2021-11-17T12:40:10.937Z"
   },
   {
    "duration": 33,
    "start_time": "2021-11-17T12:40:10.965Z"
   },
   {
    "duration": 30,
    "start_time": "2021-11-17T12:40:11.000Z"
   },
   {
    "duration": 28,
    "start_time": "2021-11-17T12:40:11.060Z"
   },
   {
    "duration": 30,
    "start_time": "2021-11-17T12:40:11.091Z"
   },
   {
    "duration": 71,
    "start_time": "2021-11-17T12:40:11.123Z"
   },
   {
    "duration": 37,
    "start_time": "2021-11-17T12:40:11.196Z"
   },
   {
    "duration": 58,
    "start_time": "2021-11-17T12:40:11.236Z"
   },
   {
    "duration": 39,
    "start_time": "2021-11-17T12:40:11.297Z"
   },
   {
    "duration": 38,
    "start_time": "2021-11-17T12:40:11.360Z"
   },
   {
    "duration": 59,
    "start_time": "2021-11-17T12:40:11.400Z"
   },
   {
    "duration": 26,
    "start_time": "2021-11-17T19:29:11.808Z"
   },
   {
    "duration": 4,
    "start_time": "2021-11-17T19:29:18.026Z"
   },
   {
    "duration": 93,
    "start_time": "2021-11-17T19:29:18.033Z"
   },
   {
    "duration": 32,
    "start_time": "2021-11-17T19:29:18.129Z"
   },
   {
    "duration": 11,
    "start_time": "2021-11-17T19:29:18.165Z"
   },
   {
    "duration": 23,
    "start_time": "2021-11-17T19:29:18.179Z"
   },
   {
    "duration": 72,
    "start_time": "2021-11-17T19:29:18.205Z"
   },
   {
    "duration": 8,
    "start_time": "2021-11-17T19:29:18.280Z"
   },
   {
    "duration": 16,
    "start_time": "2021-11-17T19:29:18.291Z"
   },
   {
    "duration": 237,
    "start_time": "2021-11-17T19:29:18.309Z"
   },
   {
    "duration": 11,
    "start_time": "2021-11-17T19:29:18.549Z"
   },
   {
    "duration": 9,
    "start_time": "2021-11-17T19:29:18.562Z"
   },
   {
    "duration": 11,
    "start_time": "2021-11-17T19:29:18.573Z"
   },
   {
    "duration": 10,
    "start_time": "2021-11-17T19:29:18.587Z"
   },
   {
    "duration": 10,
    "start_time": "2021-11-17T19:29:18.599Z"
   },
   {
    "duration": 8,
    "start_time": "2021-11-17T19:29:18.611Z"
   },
   {
    "duration": 43,
    "start_time": "2021-11-17T19:29:18.621Z"
   },
   {
    "duration": 17,
    "start_time": "2021-11-17T19:29:18.667Z"
   },
   {
    "duration": 11,
    "start_time": "2021-11-17T19:29:18.687Z"
   },
   {
    "duration": 20,
    "start_time": "2021-11-17T19:29:18.704Z"
   },
   {
    "duration": 15,
    "start_time": "2021-11-17T19:29:18.762Z"
   },
   {
    "duration": 12,
    "start_time": "2021-11-17T19:29:18.779Z"
   },
   {
    "duration": 31,
    "start_time": "2021-11-17T19:29:18.793Z"
   },
   {
    "duration": 38,
    "start_time": "2021-11-17T19:29:18.826Z"
   },
   {
    "duration": 24,
    "start_time": "2021-11-17T19:29:18.867Z"
   },
   {
    "duration": 12,
    "start_time": "2021-11-17T19:29:18.893Z"
   },
   {
    "duration": 60,
    "start_time": "2021-11-17T19:29:18.907Z"
   },
   {
    "duration": 11,
    "start_time": "2021-11-17T19:29:18.970Z"
   },
   {
    "duration": 5,
    "start_time": "2021-11-17T19:29:18.984Z"
   },
   {
    "duration": 7,
    "start_time": "2021-11-17T19:29:18.991Z"
   },
   {
    "duration": 71,
    "start_time": "2021-11-17T19:29:19.000Z"
   },
   {
    "duration": 5,
    "start_time": "2021-11-17T19:29:19.073Z"
   },
   {
    "duration": 665,
    "start_time": "2021-11-17T19:29:19.080Z"
   },
   {
    "duration": 5,
    "start_time": "2021-11-17T19:29:19.748Z"
   },
   {
    "duration": 47089,
    "start_time": "2021-11-17T19:29:19.759Z"
   },
   {
    "duration": 23,
    "start_time": "2021-11-17T19:30:06.850Z"
   },
   {
    "duration": 46,
    "start_time": "2021-11-17T19:30:06.875Z"
   },
   {
    "duration": 54,
    "start_time": "2021-11-17T19:30:06.923Z"
   },
   {
    "duration": 30,
    "start_time": "2021-11-17T19:30:06.979Z"
   },
   {
    "duration": 4968,
    "start_time": "2021-11-17T19:30:07.012Z"
   },
   {
    "duration": 22,
    "start_time": "2021-11-17T19:30:11.983Z"
   },
   {
    "duration": 6435,
    "start_time": "2021-11-17T19:30:12.007Z"
   },
   {
    "duration": 17,
    "start_time": "2021-11-17T19:30:18.444Z"
   },
   {
    "duration": 18,
    "start_time": "2021-11-17T19:30:18.464Z"
   },
   {
    "duration": 11,
    "start_time": "2021-11-17T19:30:18.484Z"
   },
   {
    "duration": 20,
    "start_time": "2021-11-17T19:30:18.498Z"
   },
   {
    "duration": 47,
    "start_time": "2021-11-17T19:30:18.521Z"
   },
   {
    "duration": 28,
    "start_time": "2021-11-17T19:30:18.571Z"
   },
   {
    "duration": 57,
    "start_time": "2021-11-17T19:30:18.602Z"
   },
   {
    "duration": 30,
    "start_time": "2021-11-17T19:30:18.662Z"
   },
   {
    "duration": 31,
    "start_time": "2021-11-17T19:30:18.694Z"
   },
   {
    "duration": 68,
    "start_time": "2021-11-17T19:30:18.727Z"
   },
   {
    "duration": 60,
    "start_time": "2021-11-17T19:30:18.798Z"
   },
   {
    "duration": 38,
    "start_time": "2021-11-17T19:30:18.861Z"
   },
   {
    "duration": 64,
    "start_time": "2021-11-17T19:30:18.902Z"
   },
   {
    "duration": 40,
    "start_time": "2021-11-17T19:30:18.972Z"
   },
   {
    "duration": 62,
    "start_time": "2021-11-17T19:30:19.015Z"
   },
   {
    "duration": 24,
    "start_time": "2021-11-17T19:48:51.353Z"
   },
   {
    "duration": 4,
    "start_time": "2021-11-17T19:48:56.374Z"
   },
   {
    "duration": 108,
    "start_time": "2021-11-17T19:48:56.380Z"
   },
   {
    "duration": 5,
    "start_time": "2021-11-17T19:48:56.491Z"
   },
   {
    "duration": 15,
    "start_time": "2021-11-17T19:48:56.499Z"
   },
   {
    "duration": 63,
    "start_time": "2021-11-17T19:48:56.516Z"
   },
   {
    "duration": 25,
    "start_time": "2021-11-17T19:48:56.581Z"
   },
   {
    "duration": 7,
    "start_time": "2021-11-17T19:48:56.610Z"
   },
   {
    "duration": 43,
    "start_time": "2021-11-17T19:48:56.621Z"
   },
   {
    "duration": 224,
    "start_time": "2021-11-17T19:48:56.666Z"
   },
   {
    "duration": 6,
    "start_time": "2021-11-17T19:48:56.892Z"
   },
   {
    "duration": 9,
    "start_time": "2021-11-17T19:48:56.901Z"
   },
   {
    "duration": 19,
    "start_time": "2021-11-17T19:48:56.913Z"
   },
   {
    "duration": 28,
    "start_time": "2021-11-17T19:48:56.935Z"
   },
   {
    "duration": 9,
    "start_time": "2021-11-17T19:48:56.966Z"
   },
   {
    "duration": 17,
    "start_time": "2021-11-17T19:48:56.977Z"
   },
   {
    "duration": 10,
    "start_time": "2021-11-17T19:48:56.996Z"
   },
   {
    "duration": 19,
    "start_time": "2021-11-17T19:48:57.008Z"
   },
   {
    "duration": 40,
    "start_time": "2021-11-17T19:48:57.029Z"
   },
   {
    "duration": 93,
    "start_time": "2021-11-17T19:48:57.075Z"
   },
   {
    "duration": 14,
    "start_time": "2021-11-17T19:48:57.172Z"
   },
   {
    "duration": 10,
    "start_time": "2021-11-17T19:48:57.188Z"
   },
   {
    "duration": 59,
    "start_time": "2021-11-17T19:48:57.200Z"
   },
   {
    "duration": 9,
    "start_time": "2021-11-17T19:48:57.261Z"
   },
   {
    "duration": 18,
    "start_time": "2021-11-17T19:48:57.272Z"
   },
   {
    "duration": 12,
    "start_time": "2021-11-17T19:48:57.292Z"
   },
   {
    "duration": 61,
    "start_time": "2021-11-17T19:48:57.306Z"
   },
   {
    "duration": 8,
    "start_time": "2021-11-17T19:48:57.369Z"
   },
   {
    "duration": 10,
    "start_time": "2021-11-17T19:48:57.379Z"
   },
   {
    "duration": 9,
    "start_time": "2021-11-17T19:48:57.391Z"
   },
   {
    "duration": 68,
    "start_time": "2021-11-17T19:48:57.402Z"
   },
   {
    "duration": 6,
    "start_time": "2021-11-17T19:48:57.473Z"
   },
   {
    "duration": 635,
    "start_time": "2021-11-17T19:48:57.482Z"
   },
   {
    "duration": 5,
    "start_time": "2021-11-17T19:48:58.120Z"
   },
   {
    "duration": 48512,
    "start_time": "2021-11-17T19:48:58.129Z"
   },
   {
    "duration": 24,
    "start_time": "2021-11-17T19:49:46.644Z"
   },
   {
    "duration": 59,
    "start_time": "2021-11-17T19:49:46.671Z"
   },
   {
    "duration": 47,
    "start_time": "2021-11-17T19:49:46.732Z"
   },
   {
    "duration": 30,
    "start_time": "2021-11-17T19:49:46.782Z"
   },
   {
    "duration": 4866,
    "start_time": "2021-11-17T19:49:46.815Z"
   },
   {
    "duration": 21,
    "start_time": "2021-11-17T19:49:51.684Z"
   },
   {
    "duration": 5889,
    "start_time": "2021-11-17T19:49:51.708Z"
   },
   {
    "duration": 9,
    "start_time": "2021-11-17T19:49:57.600Z"
   },
   {
    "duration": 24,
    "start_time": "2021-11-17T19:49:57.611Z"
   },
   {
    "duration": 28,
    "start_time": "2021-11-17T19:49:57.637Z"
   },
   {
    "duration": 44,
    "start_time": "2021-11-17T19:49:57.667Z"
   },
   {
    "duration": 24,
    "start_time": "2021-11-17T19:49:57.714Z"
   },
   {
    "duration": 30,
    "start_time": "2021-11-17T19:49:57.740Z"
   },
   {
    "duration": 27,
    "start_time": "2021-11-17T19:49:57.772Z"
   },
   {
    "duration": 27,
    "start_time": "2021-11-17T19:49:57.802Z"
   },
   {
    "duration": 52,
    "start_time": "2021-11-17T19:49:57.831Z"
   },
   {
    "duration": 40,
    "start_time": "2021-11-17T19:49:57.885Z"
   },
   {
    "duration": 60,
    "start_time": "2021-11-17T19:49:57.928Z"
   },
   {
    "duration": 37,
    "start_time": "2021-11-17T19:49:57.990Z"
   },
   {
    "duration": 61,
    "start_time": "2021-11-17T19:49:58.029Z"
   },
   {
    "duration": 38,
    "start_time": "2021-11-17T19:49:58.097Z"
   },
   {
    "duration": 37,
    "start_time": "2021-11-17T19:49:58.160Z"
   },
   {
    "duration": 23,
    "start_time": "2021-11-17T19:49:58.200Z"
   },
   {
    "duration": 4,
    "start_time": "2021-11-17T19:50:52.684Z"
   },
   {
    "duration": 117,
    "start_time": "2021-11-17T19:50:52.691Z"
   },
   {
    "duration": 5,
    "start_time": "2021-11-17T19:50:52.811Z"
   },
   {
    "duration": 45,
    "start_time": "2021-11-17T19:50:52.819Z"
   },
   {
    "duration": 23,
    "start_time": "2021-11-17T19:50:52.867Z"
   },
   {
    "duration": 27,
    "start_time": "2021-11-17T19:50:52.893Z"
   },
   {
    "duration": 40,
    "start_time": "2021-11-17T19:50:52.922Z"
   },
   {
    "duration": 14,
    "start_time": "2021-11-17T19:50:52.966Z"
   },
   {
    "duration": 245,
    "start_time": "2021-11-17T19:50:52.983Z"
   },
   {
    "duration": 6,
    "start_time": "2021-11-17T19:50:53.230Z"
   },
   {
    "duration": 25,
    "start_time": "2021-11-17T19:50:53.239Z"
   },
   {
    "duration": 13,
    "start_time": "2021-11-17T19:50:53.267Z"
   },
   {
    "duration": 17,
    "start_time": "2021-11-17T19:50:53.283Z"
   },
   {
    "duration": 16,
    "start_time": "2021-11-17T19:50:53.303Z"
   },
   {
    "duration": 15,
    "start_time": "2021-11-17T19:50:53.322Z"
   },
   {
    "duration": 7,
    "start_time": "2021-11-17T19:50:53.359Z"
   },
   {
    "duration": 20,
    "start_time": "2021-11-17T19:50:53.368Z"
   },
   {
    "duration": 35,
    "start_time": "2021-11-17T19:50:53.391Z"
   },
   {
    "duration": 30,
    "start_time": "2021-11-17T19:50:53.429Z"
   },
   {
    "duration": 14,
    "start_time": "2021-11-17T19:50:53.462Z"
   },
   {
    "duration": 28,
    "start_time": "2021-11-17T19:50:53.479Z"
   },
   {
    "duration": 42,
    "start_time": "2021-11-17T19:50:53.510Z"
   },
   {
    "duration": 10,
    "start_time": "2021-11-17T19:50:53.563Z"
   },
   {
    "duration": 36,
    "start_time": "2021-11-17T19:50:53.576Z"
   },
   {
    "duration": 15,
    "start_time": "2021-11-17T19:50:53.615Z"
   },
   {
    "duration": 43,
    "start_time": "2021-11-17T19:50:53.632Z"
   },
   {
    "duration": 13,
    "start_time": "2021-11-17T19:50:53.678Z"
   },
   {
    "duration": 6,
    "start_time": "2021-11-17T19:50:53.694Z"
   },
   {
    "duration": 16,
    "start_time": "2021-11-17T19:50:53.703Z"
   },
   {
    "duration": 60,
    "start_time": "2021-11-17T19:50:53.722Z"
   },
   {
    "duration": 4,
    "start_time": "2021-11-17T19:50:53.785Z"
   },
   {
    "duration": 689,
    "start_time": "2021-11-17T19:50:53.792Z"
   },
   {
    "duration": 4,
    "start_time": "2021-11-17T19:50:54.484Z"
   },
   {
    "duration": 49890,
    "start_time": "2021-11-17T19:50:54.491Z"
   },
   {
    "duration": 18,
    "start_time": "2021-11-17T19:51:44.383Z"
   },
   {
    "duration": 65,
    "start_time": "2021-11-17T19:51:44.403Z"
   },
   {
    "duration": 27,
    "start_time": "2021-11-17T19:51:44.470Z"
   },
   {
    "duration": 33,
    "start_time": "2021-11-17T19:51:44.499Z"
   },
   {
    "duration": 5069,
    "start_time": "2021-11-17T19:51:44.534Z"
   },
   {
    "duration": 22,
    "start_time": "2021-11-17T19:51:49.606Z"
   },
   {
    "duration": 6010,
    "start_time": "2021-11-17T19:51:49.630Z"
   },
   {
    "duration": 22,
    "start_time": "2021-11-17T19:51:55.643Z"
   },
   {
    "duration": 18,
    "start_time": "2021-11-17T19:51:55.667Z"
   },
   {
    "duration": 9,
    "start_time": "2021-11-17T19:51:55.688Z"
   },
   {
    "duration": 22,
    "start_time": "2021-11-17T19:51:55.700Z"
   },
   {
    "duration": 48,
    "start_time": "2021-11-17T19:51:55.724Z"
   },
   {
    "duration": 25,
    "start_time": "2021-11-17T19:51:55.774Z"
   },
   {
    "duration": 27,
    "start_time": "2021-11-17T19:51:55.801Z"
   },
   {
    "duration": 29,
    "start_time": "2021-11-17T19:51:55.860Z"
   },
   {
    "duration": 30,
    "start_time": "2021-11-17T19:51:55.892Z"
   },
   {
    "duration": 62,
    "start_time": "2021-11-17T19:51:55.925Z"
   },
   {
    "duration": 78,
    "start_time": "2021-11-17T19:51:55.990Z"
   },
   {
    "duration": 48,
    "start_time": "2021-11-17T19:51:56.071Z"
   },
   {
    "duration": 62,
    "start_time": "2021-11-17T19:51:56.122Z"
   },
   {
    "duration": 38,
    "start_time": "2021-11-17T19:51:56.186Z"
   },
   {
    "duration": 64,
    "start_time": "2021-11-17T19:51:56.227Z"
   },
   {
    "duration": 37,
    "start_time": "2021-11-17T19:51:56.293Z"
   },
   {
    "duration": 44,
    "start_time": "2021-11-17T19:51:56.332Z"
   },
   {
    "duration": 23,
    "start_time": "2021-11-17T19:55:19.423Z"
   },
   {
    "duration": 45,
    "start_time": "2021-11-17T19:55:58.184Z"
   },
   {
    "duration": 4,
    "start_time": "2021-11-17T19:56:32.803Z"
   },
   {
    "duration": 94,
    "start_time": "2021-11-17T19:56:32.810Z"
   },
   {
    "duration": 5,
    "start_time": "2021-11-17T19:56:32.907Z"
   },
   {
    "duration": 49,
    "start_time": "2021-11-17T19:56:32.915Z"
   },
   {
    "duration": 24,
    "start_time": "2021-11-17T19:56:32.966Z"
   },
   {
    "duration": 23,
    "start_time": "2021-11-17T19:56:32.992Z"
   },
   {
    "duration": 7,
    "start_time": "2021-11-17T19:56:33.019Z"
   },
   {
    "duration": 12,
    "start_time": "2021-11-17T19:56:33.060Z"
   },
   {
    "duration": 252,
    "start_time": "2021-11-17T19:56:33.074Z"
   },
   {
    "duration": 6,
    "start_time": "2021-11-17T19:56:33.329Z"
   },
   {
    "duration": 21,
    "start_time": "2021-11-17T19:56:33.338Z"
   },
   {
    "duration": 11,
    "start_time": "2021-11-17T19:56:33.361Z"
   },
   {
    "duration": 10,
    "start_time": "2021-11-17T19:56:33.374Z"
   },
   {
    "duration": 10,
    "start_time": "2021-11-17T19:56:33.386Z"
   },
   {
    "duration": 10,
    "start_time": "2021-11-17T19:56:33.399Z"
   },
   {
    "duration": 49,
    "start_time": "2021-11-17T19:56:33.412Z"
   },
   {
    "duration": 16,
    "start_time": "2021-11-17T19:56:33.464Z"
   },
   {
    "duration": 11,
    "start_time": "2021-11-17T19:56:33.483Z"
   },
   {
    "duration": 20,
    "start_time": "2021-11-17T19:56:33.500Z"
   },
   {
    "duration": 44,
    "start_time": "2021-11-17T19:56:33.524Z"
   },
   {
    "duration": 10,
    "start_time": "2021-11-17T19:56:33.571Z"
   },
   {
    "duration": 33,
    "start_time": "2021-11-17T19:56:33.584Z"
   },
   {
    "duration": 44,
    "start_time": "2021-11-17T19:56:33.621Z"
   },
   {
    "duration": 20,
    "start_time": "2021-11-17T19:56:33.668Z"
   },
   {
    "duration": 11,
    "start_time": "2021-11-17T19:56:33.691Z"
   },
   {
    "duration": 71,
    "start_time": "2021-11-17T19:56:33.705Z"
   },
   {
    "duration": 10,
    "start_time": "2021-11-17T19:56:33.779Z"
   },
   {
    "duration": 6,
    "start_time": "2021-11-17T19:56:33.792Z"
   },
   {
    "duration": 8,
    "start_time": "2021-11-17T19:56:33.801Z"
   },
   {
    "duration": 85,
    "start_time": "2021-11-17T19:56:33.812Z"
   },
   {
    "duration": 4,
    "start_time": "2021-11-17T19:56:33.900Z"
   },
   {
    "duration": 654,
    "start_time": "2021-11-17T19:56:33.906Z"
   },
   {
    "duration": 8,
    "start_time": "2021-11-17T19:56:34.565Z"
   },
   {
    "duration": 49945,
    "start_time": "2021-11-17T19:56:34.576Z"
   },
   {
    "duration": 19,
    "start_time": "2021-11-17T19:57:24.523Z"
   },
   {
    "duration": 43,
    "start_time": "2021-11-17T19:57:24.559Z"
   },
   {
    "duration": 56,
    "start_time": "2021-11-17T19:57:24.605Z"
   },
   {
    "duration": 33,
    "start_time": "2021-11-17T19:57:24.663Z"
   },
   {
    "duration": 4977,
    "start_time": "2021-11-17T19:57:24.698Z"
   },
   {
    "duration": 22,
    "start_time": "2021-11-17T19:57:29.677Z"
   },
   {
    "duration": 6039,
    "start_time": "2021-11-17T19:57:29.701Z"
   },
   {
    "duration": 5,
    "start_time": "2021-11-17T19:57:35.743Z"
   },
   {
    "duration": 23,
    "start_time": "2021-11-17T19:57:35.750Z"
   },
   {
    "duration": 11,
    "start_time": "2021-11-17T19:57:35.776Z"
   },
   {
    "duration": 25,
    "start_time": "2021-11-17T19:57:35.789Z"
   },
   {
    "duration": 44,
    "start_time": "2021-11-17T19:57:35.817Z"
   },
   {
    "duration": 23,
    "start_time": "2021-11-17T19:57:35.863Z"
   },
   {
    "duration": 27,
    "start_time": "2021-11-17T19:57:35.889Z"
   },
   {
    "duration": 58,
    "start_time": "2021-11-17T19:57:35.919Z"
   },
   {
    "duration": 27,
    "start_time": "2021-11-17T19:57:35.980Z"
   },
   {
    "duration": 52,
    "start_time": "2021-11-17T19:57:36.009Z"
   },
   {
    "duration": 42,
    "start_time": "2021-11-17T19:57:36.063Z"
   },
   {
    "duration": 69,
    "start_time": "2021-11-17T19:57:36.107Z"
   },
   {
    "duration": 38,
    "start_time": "2021-11-17T19:57:36.178Z"
   },
   {
    "duration": 61,
    "start_time": "2021-11-17T19:57:36.222Z"
   },
   {
    "duration": 39,
    "start_time": "2021-11-17T19:57:36.285Z"
   },
   {
    "duration": 61,
    "start_time": "2021-11-17T19:57:36.326Z"
   },
   {
    "duration": 22,
    "start_time": "2021-11-17T19:57:36.389Z"
   },
   {
    "duration": 6,
    "start_time": "2021-11-17T19:59:05.626Z"
   },
   {
    "duration": 126,
    "start_time": "2021-11-17T19:59:05.635Z"
   },
   {
    "duration": 6,
    "start_time": "2021-11-17T19:59:05.765Z"
   },
   {
    "duration": 16,
    "start_time": "2021-11-17T19:59:05.773Z"
   },
   {
    "duration": 28,
    "start_time": "2021-11-17T19:59:05.792Z"
   },
   {
    "duration": 52,
    "start_time": "2021-11-17T19:59:05.823Z"
   },
   {
    "duration": 7,
    "start_time": "2021-11-17T19:59:05.878Z"
   },
   {
    "duration": 15,
    "start_time": "2021-11-17T19:59:05.889Z"
   },
   {
    "duration": 343,
    "start_time": "2021-11-17T19:59:05.907Z"
   },
   {
    "duration": 7,
    "start_time": "2021-11-17T19:59:06.260Z"
   },
   {
    "duration": 9,
    "start_time": "2021-11-17T19:59:06.269Z"
   },
   {
    "duration": 11,
    "start_time": "2021-11-17T19:59:06.280Z"
   },
   {
    "duration": 8,
    "start_time": "2021-11-17T19:59:06.293Z"
   },
   {
    "duration": 10,
    "start_time": "2021-11-17T19:59:06.304Z"
   },
   {
    "duration": 46,
    "start_time": "2021-11-17T19:59:06.317Z"
   },
   {
    "duration": 7,
    "start_time": "2021-11-17T19:59:06.365Z"
   },
   {
    "duration": 18,
    "start_time": "2021-11-17T19:59:06.374Z"
   },
   {
    "duration": 11,
    "start_time": "2021-11-17T19:59:06.394Z"
   },
   {
    "duration": 56,
    "start_time": "2021-11-17T19:59:06.407Z"
   },
   {
    "duration": 15,
    "start_time": "2021-11-17T19:59:06.466Z"
   },
   {
    "duration": 12,
    "start_time": "2021-11-17T19:59:06.483Z"
   },
   {
    "duration": 64,
    "start_time": "2021-11-17T19:59:06.498Z"
   },
   {
    "duration": 11,
    "start_time": "2021-11-17T19:59:06.570Z"
   },
   {
    "duration": 20,
    "start_time": "2021-11-17T19:59:06.585Z"
   },
   {
    "duration": 53,
    "start_time": "2021-11-17T19:59:06.608Z"
   },
   {
    "duration": 29,
    "start_time": "2021-11-17T19:59:06.664Z"
   },
   {
    "duration": 10,
    "start_time": "2021-11-17T19:59:06.696Z"
   },
   {
    "duration": 6,
    "start_time": "2021-11-17T19:59:06.709Z"
   },
   {
    "duration": 43,
    "start_time": "2021-11-17T19:59:06.718Z"
   },
   {
    "duration": 43,
    "start_time": "2021-11-17T19:59:06.765Z"
   },
   {
    "duration": 6,
    "start_time": "2021-11-17T19:59:06.811Z"
   },
   {
    "duration": 702,
    "start_time": "2021-11-17T19:59:06.820Z"
   },
   {
    "duration": 6,
    "start_time": "2021-11-17T19:59:07.524Z"
   },
   {
    "duration": 48341,
    "start_time": "2021-11-17T19:59:07.533Z"
   },
   {
    "duration": 21,
    "start_time": "2021-11-17T19:59:55.877Z"
   },
   {
    "duration": 67,
    "start_time": "2021-11-17T19:59:55.901Z"
   },
   {
    "duration": 401,
    "start_time": "2021-11-17T19:59:55.971Z"
   },
   {
    "duration": -48,
    "start_time": "2021-11-17T19:59:56.422Z"
   },
   {
    "duration": -51,
    "start_time": "2021-11-17T19:59:56.426Z"
   },
   {
    "duration": -52,
    "start_time": "2021-11-17T19:59:56.429Z"
   },
   {
    "duration": -53,
    "start_time": "2021-11-17T19:59:56.431Z"
   },
   {
    "duration": -57,
    "start_time": "2021-11-17T19:59:56.436Z"
   },
   {
    "duration": -57,
    "start_time": "2021-11-17T19:59:56.438Z"
   },
   {
    "duration": -59,
    "start_time": "2021-11-17T19:59:56.441Z"
   },
   {
    "duration": -59,
    "start_time": "2021-11-17T19:59:56.443Z"
   },
   {
    "duration": -61,
    "start_time": "2021-11-17T19:59:56.446Z"
   },
   {
    "duration": -62,
    "start_time": "2021-11-17T19:59:56.448Z"
   },
   {
    "duration": -67,
    "start_time": "2021-11-17T19:59:56.455Z"
   },
   {
    "duration": -68,
    "start_time": "2021-11-17T19:59:56.458Z"
   },
   {
    "duration": -69,
    "start_time": "2021-11-17T19:59:56.460Z"
   },
   {
    "duration": -69,
    "start_time": "2021-11-17T19:59:56.462Z"
   },
   {
    "duration": -71,
    "start_time": "2021-11-17T19:59:56.465Z"
   },
   {
    "duration": -71,
    "start_time": "2021-11-17T19:59:56.467Z"
   },
   {
    "duration": -101,
    "start_time": "2021-11-17T19:59:56.499Z"
   },
   {
    "duration": -102,
    "start_time": "2021-11-17T19:59:56.501Z"
   },
   {
    "duration": -99,
    "start_time": "2021-11-17T19:59:56.504Z"
   },
   {
    "duration": -99,
    "start_time": "2021-11-17T19:59:56.506Z"
   },
   {
    "duration": -98,
    "start_time": "2021-11-17T19:59:56.508Z"
   },
   {
    "duration": 3,
    "start_time": "2021-11-17T20:00:09.869Z"
   },
   {
    "duration": 109,
    "start_time": "2021-11-17T20:00:09.875Z"
   },
   {
    "duration": 6,
    "start_time": "2021-11-17T20:00:09.986Z"
   },
   {
    "duration": 11,
    "start_time": "2021-11-17T20:00:09.994Z"
   },
   {
    "duration": 71,
    "start_time": "2021-11-17T20:00:10.007Z"
   },
   {
    "duration": 25,
    "start_time": "2021-11-17T20:00:10.080Z"
   },
   {
    "duration": 9,
    "start_time": "2021-11-17T20:00:10.109Z"
   },
   {
    "duration": 42,
    "start_time": "2021-11-17T20:00:10.121Z"
   },
   {
    "duration": 242,
    "start_time": "2021-11-17T20:00:10.165Z"
   },
   {
    "duration": 7,
    "start_time": "2021-11-17T20:00:10.410Z"
   },
   {
    "duration": 12,
    "start_time": "2021-11-17T20:00:10.419Z"
   },
   {
    "duration": 33,
    "start_time": "2021-11-17T20:00:10.433Z"
   },
   {
    "duration": 13,
    "start_time": "2021-11-17T20:00:10.469Z"
   },
   {
    "duration": 16,
    "start_time": "2021-11-17T20:00:10.484Z"
   },
   {
    "duration": 14,
    "start_time": "2021-11-17T20:00:10.503Z"
   },
   {
    "duration": 16,
    "start_time": "2021-11-17T20:00:10.520Z"
   },
   {
    "duration": 31,
    "start_time": "2021-11-17T20:00:10.538Z"
   },
   {
    "duration": 10,
    "start_time": "2021-11-17T20:00:10.572Z"
   },
   {
    "duration": 34,
    "start_time": "2021-11-17T20:00:10.587Z"
   },
   {
    "duration": 16,
    "start_time": "2021-11-17T20:00:10.625Z"
   },
   {
    "duration": 18,
    "start_time": "2021-11-17T20:00:10.643Z"
   },
   {
    "duration": 45,
    "start_time": "2021-11-17T20:00:10.664Z"
   },
   {
    "duration": 17,
    "start_time": "2021-11-17T20:00:10.712Z"
   },
   {
    "duration": 45,
    "start_time": "2021-11-17T20:00:10.732Z"
   },
   {
    "duration": 16,
    "start_time": "2021-11-17T20:00:10.781Z"
   },
   {
    "duration": 30,
    "start_time": "2021-11-17T20:00:10.799Z"
   },
   {
    "duration": 34,
    "start_time": "2021-11-17T20:00:10.831Z"
   },
   {
    "duration": 8,
    "start_time": "2021-11-17T20:00:10.868Z"
   },
   {
    "duration": 10,
    "start_time": "2021-11-17T20:00:10.878Z"
   },
   {
    "duration": 70,
    "start_time": "2021-11-17T20:00:10.891Z"
   },
   {
    "duration": 5,
    "start_time": "2021-11-17T20:00:10.964Z"
   },
   {
    "duration": 647,
    "start_time": "2021-11-17T20:00:10.972Z"
   },
   {
    "duration": 5,
    "start_time": "2021-11-17T20:00:11.621Z"
   },
   {
    "duration": 48217,
    "start_time": "2021-11-17T20:00:11.628Z"
   },
   {
    "duration": 23,
    "start_time": "2021-11-17T20:00:59.848Z"
   },
   {
    "duration": 51,
    "start_time": "2021-11-17T20:00:59.874Z"
   },
   {
    "duration": 69,
    "start_time": "2021-11-17T20:00:59.927Z"
   },
   {
    "duration": 36,
    "start_time": "2021-11-17T20:00:59.999Z"
   },
   {
    "duration": 4978,
    "start_time": "2021-11-17T20:01:00.058Z"
   },
   {
    "duration": 36,
    "start_time": "2021-11-17T20:01:05.039Z"
   },
   {
    "duration": 5851,
    "start_time": "2021-11-17T20:01:05.077Z"
   },
   {
    "duration": 5,
    "start_time": "2021-11-17T20:01:10.931Z"
   },
   {
    "duration": 30,
    "start_time": "2021-11-17T20:01:10.939Z"
   },
   {
    "duration": 22,
    "start_time": "2021-11-17T20:01:10.972Z"
   },
   {
    "duration": 22,
    "start_time": "2021-11-17T20:01:10.997Z"
   },
   {
    "duration": 18,
    "start_time": "2021-11-17T20:01:11.022Z"
   },
   {
    "duration": 25,
    "start_time": "2021-11-17T20:01:11.059Z"
   },
   {
    "duration": 28,
    "start_time": "2021-11-17T20:01:11.087Z"
   },
   {
    "duration": 65,
    "start_time": "2021-11-17T20:01:11.117Z"
   },
   {
    "duration": 27,
    "start_time": "2021-11-17T20:01:11.185Z"
   },
   {
    "duration": 56,
    "start_time": "2021-11-17T20:01:11.215Z"
   },
   {
    "duration": 38,
    "start_time": "2021-11-17T20:01:11.274Z"
   },
   {
    "duration": 61,
    "start_time": "2021-11-17T20:01:11.315Z"
   },
   {
    "duration": 38,
    "start_time": "2021-11-17T20:01:11.378Z"
   },
   {
    "duration": 60,
    "start_time": "2021-11-17T20:01:11.422Z"
   },
   {
    "duration": 37,
    "start_time": "2021-11-17T20:01:11.484Z"
   },
   {
    "duration": 60,
    "start_time": "2021-11-17T20:01:11.523Z"
   },
   {
    "duration": 21,
    "start_time": "2021-11-17T20:01:11.585Z"
   },
   {
    "duration": 15,
    "start_time": "2021-11-17T20:03:55.277Z"
   },
   {
    "duration": 9649,
    "start_time": "2021-11-17T20:04:49.312Z"
   },
   {
    "duration": 4,
    "start_time": "2021-11-17T20:10:06.560Z"
   },
   {
    "duration": 122,
    "start_time": "2021-11-17T20:10:06.567Z"
   },
   {
    "duration": 6,
    "start_time": "2021-11-17T20:10:06.692Z"
   },
   {
    "duration": 13,
    "start_time": "2021-11-17T20:10:06.702Z"
   },
   {
    "duration": 26,
    "start_time": "2021-11-17T20:10:06.760Z"
   },
   {
    "duration": 27,
    "start_time": "2021-11-17T20:10:06.789Z"
   },
   {
    "duration": 42,
    "start_time": "2021-11-17T20:10:06.819Z"
   },
   {
    "duration": 16,
    "start_time": "2021-11-17T20:10:06.867Z"
   },
   {
    "duration": 312,
    "start_time": "2021-11-17T20:10:06.886Z"
   },
   {
    "duration": 7,
    "start_time": "2021-11-17T20:10:07.201Z"
   },
   {
    "duration": 11,
    "start_time": "2021-11-17T20:10:07.210Z"
   },
   {
    "duration": 36,
    "start_time": "2021-11-17T20:10:07.223Z"
   },
   {
    "duration": 7,
    "start_time": "2021-11-17T20:10:07.262Z"
   },
   {
    "duration": 16,
    "start_time": "2021-11-17T20:10:07.272Z"
   },
   {
    "duration": 13,
    "start_time": "2021-11-17T20:10:07.290Z"
   },
   {
    "duration": 12,
    "start_time": "2021-11-17T20:10:07.305Z"
   },
   {
    "duration": 50,
    "start_time": "2021-11-17T20:10:07.319Z"
   },
   {
    "duration": 22,
    "start_time": "2021-11-17T20:10:07.371Z"
   },
   {
    "duration": 64,
    "start_time": "2021-11-17T20:10:07.395Z"
   },
   {
    "duration": 13,
    "start_time": "2021-11-17T20:10:07.461Z"
   },
   {
    "duration": 10,
    "start_time": "2021-11-17T20:10:07.477Z"
   },
   {
    "duration": 34,
    "start_time": "2021-11-17T20:10:07.489Z"
   },
   {
    "duration": 34,
    "start_time": "2021-11-17T20:10:07.529Z"
   },
   {
    "duration": 20,
    "start_time": "2021-11-17T20:10:07.567Z"
   },
   {
    "duration": 12,
    "start_time": "2021-11-17T20:10:07.590Z"
   },
   {
    "duration": 70,
    "start_time": "2021-11-17T20:10:07.604Z"
   },
   {
    "duration": 7,
    "start_time": "2021-11-17T20:10:07.676Z"
   },
   {
    "duration": 6,
    "start_time": "2021-11-17T20:10:07.686Z"
   },
   {
    "duration": 13,
    "start_time": "2021-11-17T20:10:07.694Z"
   },
   {
    "duration": 76,
    "start_time": "2021-11-17T20:10:07.709Z"
   },
   {
    "duration": 4,
    "start_time": "2021-11-17T20:10:07.787Z"
   },
   {
    "duration": 671,
    "start_time": "2021-11-17T20:10:07.794Z"
   },
   {
    "duration": 5,
    "start_time": "2021-11-17T20:10:08.467Z"
   },
   {
    "duration": 49530,
    "start_time": "2021-11-17T20:10:08.474Z"
   },
   {
    "duration": 18,
    "start_time": "2021-11-17T20:10:58.007Z"
   },
   {
    "duration": 66,
    "start_time": "2021-11-17T20:10:58.028Z"
   },
   {
    "duration": 79,
    "start_time": "2021-11-17T20:10:58.097Z"
   },
   {
    "duration": 34,
    "start_time": "2021-11-17T20:10:58.179Z"
   },
   {
    "duration": 58,
    "start_time": "2021-11-17T20:10:58.216Z"
   },
   {
    "duration": 5910,
    "start_time": "2021-11-17T20:10:58.277Z"
   },
   {
    "duration": 21,
    "start_time": "2021-11-17T20:11:04.190Z"
   },
   {
    "duration": 6004,
    "start_time": "2021-11-17T20:11:04.214Z"
   },
   {
    "duration": 14,
    "start_time": "2021-11-17T20:11:10.221Z"
   },
   {
    "duration": 28,
    "start_time": "2021-11-17T20:11:10.238Z"
   },
   {
    "duration": 17,
    "start_time": "2021-11-17T20:11:10.268Z"
   },
   {
    "duration": 27,
    "start_time": "2021-11-17T20:11:10.288Z"
   },
   {
    "duration": 18,
    "start_time": "2021-11-17T20:11:10.317Z"
   },
   {
    "duration": 37,
    "start_time": "2021-11-17T20:11:10.337Z"
   },
   {
    "duration": 28,
    "start_time": "2021-11-17T20:11:10.377Z"
   },
   {
    "duration": 52,
    "start_time": "2021-11-17T20:11:10.408Z"
   },
   {
    "duration": 28,
    "start_time": "2021-11-17T20:11:10.462Z"
   },
   {
    "duration": 25,
    "start_time": "2021-11-17T20:11:10.493Z"
   },
   {
    "duration": 65,
    "start_time": "2021-11-17T20:11:10.521Z"
   },
   {
    "duration": 37,
    "start_time": "2021-11-17T20:11:10.589Z"
   },
   {
    "duration": 56,
    "start_time": "2021-11-17T20:11:10.628Z"
   },
   {
    "duration": 41,
    "start_time": "2021-11-17T20:11:10.686Z"
   },
   {
    "duration": 64,
    "start_time": "2021-11-17T20:11:10.730Z"
   },
   {
    "duration": 37,
    "start_time": "2021-11-17T20:11:10.797Z"
   },
   {
    "duration": 22,
    "start_time": "2021-11-17T20:11:10.859Z"
   },
   {
    "duration": 26,
    "start_time": "2021-11-17T20:11:56.812Z"
   },
   {
    "duration": 366,
    "start_time": "2021-11-17T20:12:08.688Z"
   },
   {
    "duration": 26,
    "start_time": "2021-11-17T20:12:17.549Z"
   },
   {
    "duration": 14,
    "start_time": "2021-11-17T20:12:42.033Z"
   },
   {
    "duration": 9083,
    "start_time": "2021-11-17T20:13:05.756Z"
   },
   {
    "duration": 47,
    "start_time": "2021-11-17T20:13:17.229Z"
   },
   {
    "duration": 48,
    "start_time": "2021-11-17T20:17:35.755Z"
   },
   {
    "duration": 23,
    "start_time": "2021-11-17T20:17:56.942Z"
   },
   {
    "duration": 50,
    "start_time": "2021-11-17T20:18:17.317Z"
   },
   {
    "duration": 4,
    "start_time": "2021-11-17T20:19:13.505Z"
   },
   {
    "duration": 102,
    "start_time": "2021-11-17T20:19:13.512Z"
   },
   {
    "duration": 6,
    "start_time": "2021-11-17T20:19:13.617Z"
   },
   {
    "duration": 43,
    "start_time": "2021-11-17T20:19:13.625Z"
   },
   {
    "duration": 23,
    "start_time": "2021-11-17T20:19:13.671Z"
   },
   {
    "duration": 26,
    "start_time": "2021-11-17T20:19:13.696Z"
   },
   {
    "duration": 41,
    "start_time": "2021-11-17T20:19:13.725Z"
   },
   {
    "duration": 15,
    "start_time": "2021-11-17T20:19:13.768Z"
   },
   {
    "duration": 264,
    "start_time": "2021-11-17T20:19:13.788Z"
   },
   {
    "duration": 6,
    "start_time": "2021-11-17T20:19:14.063Z"
   },
   {
    "duration": 7,
    "start_time": "2021-11-17T20:19:14.072Z"
   },
   {
    "duration": 14,
    "start_time": "2021-11-17T20:19:14.082Z"
   },
   {
    "duration": 10,
    "start_time": "2021-11-17T20:19:14.099Z"
   },
   {
    "duration": 53,
    "start_time": "2021-11-17T20:19:14.112Z"
   },
   {
    "duration": 8,
    "start_time": "2021-11-17T20:19:14.168Z"
   },
   {
    "duration": 9,
    "start_time": "2021-11-17T20:19:14.179Z"
   },
   {
    "duration": 23,
    "start_time": "2021-11-17T20:19:14.191Z"
   },
   {
    "duration": 51,
    "start_time": "2021-11-17T20:19:14.217Z"
   },
   {
    "duration": 22,
    "start_time": "2021-11-17T20:19:14.271Z"
   },
   {
    "duration": 16,
    "start_time": "2021-11-17T20:19:14.296Z"
   },
   {
    "duration": 51,
    "start_time": "2021-11-17T20:19:14.315Z"
   },
   {
    "duration": 31,
    "start_time": "2021-11-17T20:19:14.369Z"
   },
   {
    "duration": 9,
    "start_time": "2021-11-17T20:19:14.403Z"
   },
   {
    "duration": 52,
    "start_time": "2021-11-17T20:19:14.415Z"
   },
   {
    "duration": 13,
    "start_time": "2021-11-17T20:19:14.470Z"
   },
   {
    "duration": 30,
    "start_time": "2021-11-17T20:19:14.485Z"
   },
   {
    "duration": 11,
    "start_time": "2021-11-17T20:19:14.521Z"
   },
   {
    "duration": 5,
    "start_time": "2021-11-17T20:19:14.561Z"
   },
   {
    "duration": 9,
    "start_time": "2021-11-17T20:19:14.568Z"
   },
   {
    "duration": 37,
    "start_time": "2021-11-17T20:19:14.579Z"
   },
   {
    "duration": 4,
    "start_time": "2021-11-17T20:19:14.619Z"
   },
   {
    "duration": 674,
    "start_time": "2021-11-17T20:19:14.626Z"
   },
   {
    "duration": 5,
    "start_time": "2021-11-17T20:19:15.302Z"
   },
   {
    "duration": 47602,
    "start_time": "2021-11-17T20:19:15.310Z"
   },
   {
    "duration": 19,
    "start_time": "2021-11-17T20:20:02.914Z"
   },
   {
    "duration": 63,
    "start_time": "2021-11-17T20:20:02.935Z"
   },
   {
    "duration": 61,
    "start_time": "2021-11-17T20:20:03.001Z"
   },
   {
    "duration": 34,
    "start_time": "2021-11-17T20:20:03.065Z"
   },
   {
    "duration": 5374,
    "start_time": "2021-11-17T20:20:03.101Z"
   },
   {
    "duration": 31,
    "start_time": "2021-11-17T20:20:08.479Z"
   },
   {
    "duration": 6408,
    "start_time": "2021-11-17T20:20:08.512Z"
   },
   {
    "duration": 13,
    "start_time": "2021-11-17T20:20:14.924Z"
   },
   {
    "duration": 31,
    "start_time": "2021-11-17T20:20:14.939Z"
   },
   {
    "duration": 18,
    "start_time": "2021-11-17T20:20:14.972Z"
   },
   {
    "duration": 27,
    "start_time": "2021-11-17T20:20:14.992Z"
   },
   {
    "duration": 23,
    "start_time": "2021-11-17T20:20:15.022Z"
   },
   {
    "duration": 71,
    "start_time": "2021-11-17T20:20:15.047Z"
   },
   {
    "duration": 41,
    "start_time": "2021-11-17T20:20:15.122Z"
   },
   {
    "duration": 30,
    "start_time": "2021-11-17T20:20:15.166Z"
   },
   {
    "duration": 28,
    "start_time": "2021-11-17T20:20:15.199Z"
   },
   {
    "duration": 30,
    "start_time": "2021-11-17T20:20:15.260Z"
   },
   {
    "duration": 70,
    "start_time": "2021-11-17T20:20:15.293Z"
   },
   {
    "duration": 37,
    "start_time": "2021-11-17T20:20:15.366Z"
   },
   {
    "duration": 62,
    "start_time": "2021-11-17T20:20:15.406Z"
   },
   {
    "duration": 38,
    "start_time": "2021-11-17T20:20:15.470Z"
   },
   {
    "duration": 58,
    "start_time": "2021-11-17T20:20:15.510Z"
   },
   {
    "duration": 39,
    "start_time": "2021-11-17T20:20:15.570Z"
   },
   {
    "duration": 48,
    "start_time": "2021-11-17T20:20:15.611Z"
   },
   {
    "duration": 4,
    "start_time": "2021-11-17T20:21:35.832Z"
   },
   {
    "duration": 126,
    "start_time": "2021-11-17T20:21:35.838Z"
   },
   {
    "duration": 5,
    "start_time": "2021-11-17T20:21:35.967Z"
   },
   {
    "duration": 15,
    "start_time": "2021-11-17T20:21:35.975Z"
   },
   {
    "duration": 32,
    "start_time": "2021-11-17T20:21:35.994Z"
   },
   {
    "duration": 64,
    "start_time": "2021-11-17T20:21:36.029Z"
   },
   {
    "duration": 9,
    "start_time": "2021-11-17T20:21:36.096Z"
   },
   {
    "duration": 14,
    "start_time": "2021-11-17T20:21:36.108Z"
   },
   {
    "duration": 270,
    "start_time": "2021-11-17T20:21:36.125Z"
   },
   {
    "duration": 6,
    "start_time": "2021-11-17T20:21:36.398Z"
   },
   {
    "duration": 18,
    "start_time": "2021-11-17T20:21:36.406Z"
   },
   {
    "duration": 16,
    "start_time": "2021-11-17T20:21:36.427Z"
   },
   {
    "duration": 18,
    "start_time": "2021-11-17T20:21:36.446Z"
   },
   {
    "duration": 7,
    "start_time": "2021-11-17T20:21:36.467Z"
   },
   {
    "duration": 8,
    "start_time": "2021-11-17T20:21:36.476Z"
   },
   {
    "duration": 9,
    "start_time": "2021-11-17T20:21:36.487Z"
   },
   {
    "duration": 16,
    "start_time": "2021-11-17T20:21:36.498Z"
   },
   {
    "duration": 12,
    "start_time": "2021-11-17T20:21:36.559Z"
   },
   {
    "duration": 30,
    "start_time": "2021-11-17T20:21:36.573Z"
   },
   {
    "duration": 24,
    "start_time": "2021-11-17T20:21:36.606Z"
   },
   {
    "duration": 12,
    "start_time": "2021-11-17T20:21:36.632Z"
   },
   {
    "duration": 29,
    "start_time": "2021-11-17T20:21:36.659Z"
   },
   {
    "duration": 9,
    "start_time": "2021-11-17T20:21:36.695Z"
   },
   {
    "duration": 22,
    "start_time": "2021-11-17T20:21:36.708Z"
   },
   {
    "duration": 10,
    "start_time": "2021-11-17T20:21:36.759Z"
   },
   {
    "duration": 31,
    "start_time": "2021-11-17T20:21:36.771Z"
   },
   {
    "duration": 13,
    "start_time": "2021-11-17T20:21:36.804Z"
   },
   {
    "duration": 5,
    "start_time": "2021-11-17T20:21:36.819Z"
   },
   {
    "duration": 36,
    "start_time": "2021-11-17T20:21:36.827Z"
   },
   {
    "duration": 39,
    "start_time": "2021-11-17T20:21:36.866Z"
   },
   {
    "duration": 4,
    "start_time": "2021-11-17T20:21:36.908Z"
   },
   {
    "duration": 654,
    "start_time": "2021-11-17T20:21:36.915Z"
   },
   {
    "duration": 5,
    "start_time": "2021-11-17T20:21:37.571Z"
   },
   {
    "duration": 48199,
    "start_time": "2021-11-17T20:21:37.578Z"
   },
   {
    "duration": 18,
    "start_time": "2021-11-17T20:22:25.779Z"
   },
   {
    "duration": 65,
    "start_time": "2021-11-17T20:22:25.800Z"
   },
   {
    "duration": 43,
    "start_time": "2021-11-17T20:22:25.867Z"
   },
   {
    "duration": 52,
    "start_time": "2021-11-17T20:22:25.912Z"
   },
   {
    "duration": 4894,
    "start_time": "2021-11-17T20:22:25.966Z"
   },
   {
    "duration": 23,
    "start_time": "2021-11-17T20:22:30.863Z"
   },
   {
    "duration": 6001,
    "start_time": "2021-11-17T20:22:30.888Z"
   },
   {
    "duration": 17,
    "start_time": "2021-11-17T20:22:36.891Z"
   },
   {
    "duration": 21,
    "start_time": "2021-11-17T20:22:36.911Z"
   },
   {
    "duration": 31,
    "start_time": "2021-11-17T20:22:36.935Z"
   },
   {
    "duration": 23,
    "start_time": "2021-11-17T20:22:36.968Z"
   },
   {
    "duration": 39,
    "start_time": "2021-11-17T20:22:36.993Z"
   },
   {
    "duration": 2426,
    "start_time": "2021-11-17T20:22:37.034Z"
   },
   {
    "duration": -73,
    "start_time": "2021-11-17T20:22:39.536Z"
   },
   {
    "duration": -74,
    "start_time": "2021-11-17T20:22:39.538Z"
   },
   {
    "duration": -74,
    "start_time": "2021-11-17T20:22:39.540Z"
   },
   {
    "duration": -75,
    "start_time": "2021-11-17T20:22:39.542Z"
   },
   {
    "duration": -76,
    "start_time": "2021-11-17T20:22:39.545Z"
   },
   {
    "duration": -78,
    "start_time": "2021-11-17T20:22:39.548Z"
   },
   {
    "duration": -79,
    "start_time": "2021-11-17T20:22:39.550Z"
   },
   {
    "duration": -79,
    "start_time": "2021-11-17T20:22:39.552Z"
   },
   {
    "duration": -80,
    "start_time": "2021-11-17T20:22:39.554Z"
   },
   {
    "duration": -81,
    "start_time": "2021-11-17T20:22:39.556Z"
   },
   {
    "duration": -82,
    "start_time": "2021-11-17T20:22:39.558Z"
   },
   {
    "duration": 14,
    "start_time": "2021-11-17T20:25:10.327Z"
   },
   {
    "duration": 18,
    "start_time": "2021-11-17T20:25:10.791Z"
   },
   {
    "duration": 25,
    "start_time": "2021-11-17T20:25:15.154Z"
   },
   {
    "duration": 71,
    "start_time": "2021-11-17T20:25:16.191Z"
   },
   {
    "duration": 7,
    "start_time": "2021-11-17T20:27:02.045Z"
   },
   {
    "duration": 7,
    "start_time": "2021-11-17T20:27:18.651Z"
   },
   {
    "duration": 18,
    "start_time": "2021-11-17T20:27:36.478Z"
   },
   {
    "duration": 4,
    "start_time": "2021-11-17T20:27:55.911Z"
   },
   {
    "duration": 141,
    "start_time": "2021-11-17T20:27:55.918Z"
   },
   {
    "duration": 7,
    "start_time": "2021-11-17T20:27:56.063Z"
   },
   {
    "duration": 15,
    "start_time": "2021-11-17T20:27:56.074Z"
   },
   {
    "duration": 73,
    "start_time": "2021-11-17T20:27:56.092Z"
   },
   {
    "duration": 25,
    "start_time": "2021-11-17T20:27:56.168Z"
   },
   {
    "duration": 9,
    "start_time": "2021-11-17T20:27:56.197Z"
   },
   {
    "duration": 23,
    "start_time": "2021-11-17T20:27:56.209Z"
   },
   {
    "duration": 249,
    "start_time": "2021-11-17T20:27:56.235Z"
   },
   {
    "duration": 6,
    "start_time": "2021-11-17T20:27:56.487Z"
   },
   {
    "duration": 5,
    "start_time": "2021-11-17T20:27:56.496Z"
   },
   {
    "duration": 11,
    "start_time": "2021-11-17T20:27:56.503Z"
   },
   {
    "duration": 44,
    "start_time": "2021-11-17T20:27:56.516Z"
   },
   {
    "duration": 9,
    "start_time": "2021-11-17T20:27:56.562Z"
   },
   {
    "duration": 8,
    "start_time": "2021-11-17T20:27:56.573Z"
   },
   {
    "duration": 7,
    "start_time": "2021-11-17T20:27:56.583Z"
   },
   {
    "duration": 18,
    "start_time": "2021-11-17T20:27:56.593Z"
   },
   {
    "duration": 57,
    "start_time": "2021-11-17T20:27:56.613Z"
   },
   {
    "duration": 20,
    "start_time": "2021-11-17T20:27:56.677Z"
   },
   {
    "duration": 13,
    "start_time": "2021-11-17T20:27:56.701Z"
   },
   {
    "duration": 48,
    "start_time": "2021-11-17T20:27:56.717Z"
   },
   {
    "duration": 34,
    "start_time": "2021-11-17T20:27:56.768Z"
   },
   {
    "duration": 11,
    "start_time": "2021-11-17T20:27:56.804Z"
   },
   {
    "duration": 42,
    "start_time": "2021-11-17T20:27:56.819Z"
   },
   {
    "duration": 11,
    "start_time": "2021-11-17T20:27:56.864Z"
   },
   {
    "duration": 28,
    "start_time": "2021-11-17T20:27:56.877Z"
   },
   {
    "duration": 10,
    "start_time": "2021-11-17T20:27:56.908Z"
   },
   {
    "duration": 38,
    "start_time": "2021-11-17T20:27:56.921Z"
   },
   {
    "duration": 9,
    "start_time": "2021-11-17T20:27:56.962Z"
   },
   {
    "duration": 39,
    "start_time": "2021-11-17T20:27:56.973Z"
   },
   {
    "duration": 5,
    "start_time": "2021-11-17T20:27:57.014Z"
   },
   {
    "duration": 664,
    "start_time": "2021-11-17T20:27:57.021Z"
   },
   {
    "duration": 5,
    "start_time": "2021-11-17T20:27:57.687Z"
   },
   {
    "duration": 48484,
    "start_time": "2021-11-17T20:27:57.694Z"
   },
   {
    "duration": 18,
    "start_time": "2021-11-17T20:28:46.181Z"
   },
   {
    "duration": 65,
    "start_time": "2021-11-17T20:28:46.202Z"
   },
   {
    "duration": 47,
    "start_time": "2021-11-17T20:28:46.270Z"
   },
   {
    "duration": 41,
    "start_time": "2021-11-17T20:28:46.320Z"
   },
   {
    "duration": 37,
    "start_time": "2021-11-17T20:28:46.365Z"
   },
   {
    "duration": 4765,
    "start_time": "2021-11-17T20:28:46.405Z"
   },
   {
    "duration": 24,
    "start_time": "2021-11-17T20:28:51.174Z"
   },
   {
    "duration": 5870,
    "start_time": "2021-11-17T20:28:51.200Z"
   },
   {
    "duration": 6,
    "start_time": "2021-11-17T20:28:57.073Z"
   },
   {
    "duration": 20,
    "start_time": "2021-11-17T20:28:57.082Z"
   },
   {
    "duration": 11,
    "start_time": "2021-11-17T20:28:57.105Z"
   },
   {
    "duration": 53,
    "start_time": "2021-11-17T20:28:57.120Z"
   },
   {
    "duration": 19,
    "start_time": "2021-11-17T20:28:57.176Z"
   },
   {
    "duration": 26,
    "start_time": "2021-11-17T20:28:57.199Z"
   },
   {
    "duration": 79,
    "start_time": "2021-11-17T20:28:57.227Z"
   },
   {
    "duration": 55,
    "start_time": "2021-11-17T20:28:57.309Z"
   },
   {
    "duration": 29,
    "start_time": "2021-11-17T20:28:57.368Z"
   },
   {
    "duration": 59,
    "start_time": "2021-11-17T20:28:57.401Z"
   },
   {
    "duration": 29,
    "start_time": "2021-11-17T20:28:57.463Z"
   },
   {
    "duration": 70,
    "start_time": "2021-11-17T20:28:57.495Z"
   },
   {
    "duration": 40,
    "start_time": "2021-11-17T20:28:57.574Z"
   },
   {
    "duration": 65,
    "start_time": "2021-11-17T20:28:57.616Z"
   },
   {
    "duration": 39,
    "start_time": "2021-11-17T20:28:57.685Z"
   },
   {
    "duration": 59,
    "start_time": "2021-11-17T20:28:57.727Z"
   },
   {
    "duration": 36,
    "start_time": "2021-11-17T20:28:57.789Z"
   },
   {
    "duration": 15,
    "start_time": "2021-11-17T20:48:10.442Z"
   },
   {
    "duration": 225,
    "start_time": "2021-11-17T20:48:45.504Z"
   },
   {
    "duration": 4,
    "start_time": "2021-11-17T20:48:53.710Z"
   },
   {
    "duration": 103,
    "start_time": "2021-11-17T20:48:53.718Z"
   },
   {
    "duration": 38,
    "start_time": "2021-11-17T20:48:53.825Z"
   },
   {
    "duration": 13,
    "start_time": "2021-11-17T20:48:53.866Z"
   },
   {
    "duration": 26,
    "start_time": "2021-11-17T20:48:53.881Z"
   },
   {
    "duration": 71,
    "start_time": "2021-11-17T20:48:53.910Z"
   },
   {
    "duration": 9,
    "start_time": "2021-11-17T20:48:53.985Z"
   },
   {
    "duration": 19,
    "start_time": "2021-11-17T20:48:53.997Z"
   },
   {
    "duration": 358,
    "start_time": "2021-11-17T20:48:54.019Z"
   },
   {
    "duration": 7,
    "start_time": "2021-11-17T20:48:54.379Z"
   },
   {
    "duration": 7,
    "start_time": "2021-11-17T20:48:54.389Z"
   },
   {
    "duration": 23,
    "start_time": "2021-11-17T20:48:54.398Z"
   },
   {
    "duration": 279,
    "start_time": "2021-11-17T20:48:54.423Z"
   },
   {
    "duration": 9,
    "start_time": "2021-11-17T20:48:54.704Z"
   },
   {
    "duration": 10,
    "start_time": "2021-11-17T20:48:54.715Z"
   },
   {
    "duration": 33,
    "start_time": "2021-11-17T20:48:54.727Z"
   },
   {
    "duration": 7,
    "start_time": "2021-11-17T20:48:54.762Z"
   },
   {
    "duration": 21,
    "start_time": "2021-11-17T20:48:54.771Z"
   },
   {
    "duration": 11,
    "start_time": "2021-11-17T20:48:54.798Z"
   },
   {
    "duration": 50,
    "start_time": "2021-11-17T20:48:54.813Z"
   },
   {
    "duration": 14,
    "start_time": "2021-11-17T20:48:54.865Z"
   },
   {
    "duration": 11,
    "start_time": "2021-11-17T20:48:54.881Z"
   },
   {
    "duration": 37,
    "start_time": "2021-11-17T20:48:54.894Z"
   },
   {
    "duration": 31,
    "start_time": "2021-11-17T20:48:54.934Z"
   },
   {
    "duration": 18,
    "start_time": "2021-11-17T20:48:54.967Z"
   },
   {
    "duration": 13,
    "start_time": "2021-11-17T20:48:54.987Z"
   },
   {
    "duration": 61,
    "start_time": "2021-11-17T20:48:55.002Z"
   },
   {
    "duration": 7,
    "start_time": "2021-11-17T20:48:55.066Z"
   },
   {
    "duration": 8,
    "start_time": "2021-11-17T20:48:55.076Z"
   },
   {
    "duration": 13,
    "start_time": "2021-11-17T20:48:55.087Z"
   },
   {
    "duration": 71,
    "start_time": "2021-11-17T20:48:55.103Z"
   },
   {
    "duration": 5,
    "start_time": "2021-11-17T20:48:55.178Z"
   },
   {
    "duration": 667,
    "start_time": "2021-11-17T20:48:55.185Z"
   },
   {
    "duration": 5,
    "start_time": "2021-11-17T20:48:55.854Z"
   },
   {
    "duration": 48304,
    "start_time": "2021-11-17T20:48:55.861Z"
   },
   {
    "duration": 20,
    "start_time": "2021-11-17T20:49:44.168Z"
   },
   {
    "duration": 70,
    "start_time": "2021-11-17T20:49:44.191Z"
   },
   {
    "duration": 47,
    "start_time": "2021-11-17T20:49:44.264Z"
   },
   {
    "duration": 50,
    "start_time": "2021-11-17T20:49:44.314Z"
   },
   {
    "duration": 37,
    "start_time": "2021-11-17T20:49:44.367Z"
   },
   {
    "duration": 4889,
    "start_time": "2021-11-17T20:49:44.407Z"
   },
   {
    "duration": 22,
    "start_time": "2021-11-17T20:49:49.298Z"
   },
   {
    "duration": 5857,
    "start_time": "2021-11-17T20:49:49.322Z"
   },
   {
    "duration": 5,
    "start_time": "2021-11-17T20:49:55.181Z"
   },
   {
    "duration": 21,
    "start_time": "2021-11-17T20:49:55.189Z"
   },
   {
    "duration": 10,
    "start_time": "2021-11-17T20:49:55.213Z"
   },
   {
    "duration": 44,
    "start_time": "2021-11-17T20:49:55.225Z"
   },
   {
    "duration": 18,
    "start_time": "2021-11-17T20:49:55.271Z"
   },
   {
    "duration": 27,
    "start_time": "2021-11-17T20:49:55.291Z"
   },
   {
    "duration": 78,
    "start_time": "2021-11-17T20:49:55.321Z"
   },
   {
    "duration": 28,
    "start_time": "2021-11-17T20:49:55.401Z"
   },
   {
    "duration": 48,
    "start_time": "2021-11-17T20:49:55.431Z"
   },
   {
    "duration": 29,
    "start_time": "2021-11-17T20:49:55.482Z"
   },
   {
    "duration": 57,
    "start_time": "2021-11-17T20:49:55.514Z"
   },
   {
    "duration": 39,
    "start_time": "2021-11-17T20:49:55.580Z"
   },
   {
    "duration": 60,
    "start_time": "2021-11-17T20:49:55.622Z"
   },
   {
    "duration": 37,
    "start_time": "2021-11-17T20:49:55.684Z"
   },
   {
    "duration": 58,
    "start_time": "2021-11-17T20:49:55.724Z"
   },
   {
    "duration": 38,
    "start_time": "2021-11-17T20:49:55.785Z"
   },
   {
    "duration": 57,
    "start_time": "2021-11-17T20:49:55.825Z"
   },
   {
    "duration": 13,
    "start_time": "2021-11-17T20:49:55.884Z"
   },
   {
    "duration": 43,
    "start_time": "2021-11-17T20:54:06.447Z"
   },
   {
    "duration": 10,
    "start_time": "2021-11-17T20:54:16.680Z"
   },
   {
    "duration": 12,
    "start_time": "2021-11-17T20:54:38.704Z"
   },
   {
    "duration": 11,
    "start_time": "2021-11-17T20:54:50.458Z"
   },
   {
    "duration": 11,
    "start_time": "2021-11-17T20:55:03.007Z"
   },
   {
    "duration": 9,
    "start_time": "2021-11-17T21:00:06.569Z"
   },
   {
    "duration": 9,
    "start_time": "2021-11-17T21:00:08.860Z"
   },
   {
    "duration": 11,
    "start_time": "2021-11-17T21:00:15.791Z"
   },
   {
    "duration": 6,
    "start_time": "2021-11-17T21:00:30.502Z"
   },
   {
    "duration": 33,
    "start_time": "2021-11-17T21:02:35.764Z"
   },
   {
    "duration": 11,
    "start_time": "2021-11-17T21:02:59.129Z"
   },
   {
    "duration": 6,
    "start_time": "2021-11-17T21:02:59.659Z"
   },
   {
    "duration": 399,
    "start_time": "2021-11-17T21:03:00.132Z"
   },
   {
    "duration": 352,
    "start_time": "2021-11-17T21:04:26.373Z"
   },
   {
    "duration": 10,
    "start_time": "2021-11-17T21:04:30.276Z"
   },
   {
    "duration": 5,
    "start_time": "2021-11-17T21:04:30.725Z"
   },
   {
    "duration": 391,
    "start_time": "2021-11-17T21:04:31.146Z"
   },
   {
    "duration": 6,
    "start_time": "2021-11-17T21:05:39.358Z"
   },
   {
    "duration": 8,
    "start_time": "2021-11-17T21:05:39.988Z"
   },
   {
    "duration": 13,
    "start_time": "2021-11-17T21:05:41.941Z"
   },
   {
    "duration": 9,
    "start_time": "2021-11-17T21:06:21.630Z"
   },
   {
    "duration": 8,
    "start_time": "2021-11-17T21:14:03.921Z"
   },
   {
    "duration": 8,
    "start_time": "2021-11-17T21:14:08.705Z"
   },
   {
    "duration": 9839,
    "start_time": "2021-11-17T21:16:21.677Z"
   },
   {
    "duration": 11,
    "start_time": "2021-11-17T21:16:32.868Z"
   },
   {
    "duration": 11708,
    "start_time": "2021-11-17T21:16:33.448Z"
   },
   {
    "duration": 11,
    "start_time": "2021-11-17T21:16:51.327Z"
   },
   {
    "duration": 9915,
    "start_time": "2021-11-17T21:16:51.885Z"
   },
   {
    "duration": 5,
    "start_time": "2021-11-17T21:17:23.468Z"
   },
   {
    "duration": 340,
    "start_time": "2021-11-17T21:18:34.253Z"
   },
   {
    "duration": 361,
    "start_time": "2021-11-17T21:18:39.870Z"
   },
   {
    "duration": 6,
    "start_time": "2021-11-17T21:20:33.160Z"
   },
   {
    "duration": 5,
    "start_time": "2021-11-17T21:20:38.030Z"
   },
   {
    "duration": 5,
    "start_time": "2021-11-17T21:20:43.423Z"
   },
   {
    "duration": 5,
    "start_time": "2021-11-17T21:20:51.043Z"
   },
   {
    "duration": 11,
    "start_time": "2021-11-17T21:22:56.099Z"
   },
   {
    "duration": 20,
    "start_time": "2021-11-17T21:22:57.291Z"
   },
   {
    "duration": 9,
    "start_time": "2021-11-17T21:22:58.111Z"
   },
   {
    "duration": 369,
    "start_time": "2021-11-17T21:23:15.862Z"
   },
   {
    "duration": -49,
    "start_time": "2021-11-17T21:23:16.282Z"
   },
   {
    "duration": 14,
    "start_time": "2021-11-17T21:23:29.144Z"
   },
   {
    "duration": 4,
    "start_time": "2021-11-17T21:23:33.583Z"
   },
   {
    "duration": 99,
    "start_time": "2021-11-17T21:23:33.590Z"
   },
   {
    "duration": 5,
    "start_time": "2021-11-17T21:23:33.692Z"
   },
   {
    "duration": 12,
    "start_time": "2021-11-17T21:23:33.699Z"
   },
   {
    "duration": 66,
    "start_time": "2021-11-17T21:23:33.714Z"
   },
   {
    "duration": 26,
    "start_time": "2021-11-17T21:23:33.783Z"
   },
   {
    "duration": 8,
    "start_time": "2021-11-17T21:23:33.812Z"
   },
   {
    "duration": 30,
    "start_time": "2021-11-17T21:23:33.861Z"
   },
   {
    "duration": 485,
    "start_time": "2021-11-17T21:23:33.901Z"
   },
   {
    "duration": 7,
    "start_time": "2021-11-17T21:23:34.389Z"
   },
   {
    "duration": 7,
    "start_time": "2021-11-17T21:23:34.399Z"
   },
   {
    "duration": 11,
    "start_time": "2021-11-17T21:23:34.409Z"
   },
   {
    "duration": 38,
    "start_time": "2021-11-17T21:23:34.423Z"
   },
   {
    "duration": 13,
    "start_time": "2021-11-17T21:23:34.463Z"
   },
   {
    "duration": 7,
    "start_time": "2021-11-17T21:23:34.479Z"
   },
   {
    "duration": 31,
    "start_time": "2021-11-17T21:23:34.489Z"
   },
   {
    "duration": 40,
    "start_time": "2021-11-17T21:23:34.523Z"
   },
   {
    "duration": 6,
    "start_time": "2021-11-17T21:23:34.565Z"
   },
   {
    "duration": 15,
    "start_time": "2021-11-17T21:23:34.574Z"
   },
   {
    "duration": 24,
    "start_time": "2021-11-17T21:23:34.592Z"
   },
   {
    "duration": 41,
    "start_time": "2021-11-17T21:23:34.619Z"
   },
   {
    "duration": 10,
    "start_time": "2021-11-17T21:23:34.662Z"
   },
   {
    "duration": 15,
    "start_time": "2021-11-17T21:23:34.679Z"
   },
   {
    "duration": 18,
    "start_time": "2021-11-17T21:23:34.698Z"
   },
   {
    "duration": 49,
    "start_time": "2021-11-17T21:23:34.718Z"
   },
   {
    "duration": 14,
    "start_time": "2021-11-17T21:23:34.769Z"
   },
   {
    "duration": 15,
    "start_time": "2021-11-17T21:23:34.785Z"
   },
   {
    "duration": 57,
    "start_time": "2021-11-17T21:23:34.803Z"
   },
   {
    "duration": 9,
    "start_time": "2021-11-17T21:23:34.863Z"
   },
   {
    "duration": 21,
    "start_time": "2021-11-17T21:23:34.874Z"
   },
   {
    "duration": 18,
    "start_time": "2021-11-17T21:23:34.898Z"
   },
   {
    "duration": 55,
    "start_time": "2021-11-17T21:23:34.919Z"
   },
   {
    "duration": 12,
    "start_time": "2021-11-17T21:23:34.977Z"
   },
   {
    "duration": 6,
    "start_time": "2021-11-17T21:23:34.991Z"
   },
   {
    "duration": 10,
    "start_time": "2021-11-17T21:23:34.999Z"
   },
   {
    "duration": 75,
    "start_time": "2021-11-17T21:23:35.011Z"
   },
   {
    "duration": 5,
    "start_time": "2021-11-17T21:23:35.088Z"
   },
   {
    "duration": 641,
    "start_time": "2021-11-17T21:23:35.097Z"
   },
   {
    "duration": 5,
    "start_time": "2021-11-17T21:23:35.741Z"
   },
   {
    "duration": 47880,
    "start_time": "2021-11-17T21:23:35.760Z"
   },
   {
    "duration": 28,
    "start_time": "2021-11-17T21:24:23.642Z"
   },
   {
    "duration": 45,
    "start_time": "2021-11-17T21:24:23.673Z"
   },
   {
    "duration": 72,
    "start_time": "2021-11-17T21:24:23.720Z"
   },
   {
    "duration": 17,
    "start_time": "2021-11-17T21:24:23.795Z"
   },
   {
    "duration": 58,
    "start_time": "2021-11-17T21:24:23.814Z"
   },
   {
    "duration": 4727,
    "start_time": "2021-11-17T21:24:23.874Z"
   },
   {
    "duration": 23,
    "start_time": "2021-11-17T21:24:28.604Z"
   },
   {
    "duration": 5817,
    "start_time": "2021-11-17T21:24:28.630Z"
   },
   {
    "duration": 9,
    "start_time": "2021-11-17T21:24:34.450Z"
   },
   {
    "duration": 22,
    "start_time": "2021-11-17T21:24:34.462Z"
   },
   {
    "duration": 12,
    "start_time": "2021-11-17T21:24:34.486Z"
   },
   {
    "duration": 21,
    "start_time": "2021-11-17T21:24:34.500Z"
   },
   {
    "duration": 38,
    "start_time": "2021-11-17T21:24:34.523Z"
   },
   {
    "duration": 30,
    "start_time": "2021-11-17T21:24:34.563Z"
   },
   {
    "duration": 69,
    "start_time": "2021-11-17T21:24:34.595Z"
   },
   {
    "duration": 26,
    "start_time": "2021-11-17T21:24:34.667Z"
   },
   {
    "duration": 26,
    "start_time": "2021-11-17T21:24:34.696Z"
   },
   {
    "duration": 56,
    "start_time": "2021-11-17T21:24:34.724Z"
   },
   {
    "duration": 27,
    "start_time": "2021-11-17T21:24:34.782Z"
   },
   {
    "duration": 64,
    "start_time": "2021-11-17T21:24:34.811Z"
   },
   {
    "duration": 35,
    "start_time": "2021-11-17T21:24:34.877Z"
   },
   {
    "duration": 64,
    "start_time": "2021-11-17T21:24:34.914Z"
   },
   {
    "duration": 36,
    "start_time": "2021-11-17T21:24:34.980Z"
   },
   {
    "duration": 62,
    "start_time": "2021-11-17T21:24:35.019Z"
   },
   {
    "duration": 40,
    "start_time": "2021-11-17T21:24:35.083Z"
   },
   {
    "duration": 376,
    "start_time": "2021-11-17T21:24:46.421Z"
   },
   {
    "duration": 360,
    "start_time": "2021-11-17T21:26:02.239Z"
   },
   {
    "duration": 405,
    "start_time": "2021-11-17T21:26:30.640Z"
   },
   {
    "duration": 366,
    "start_time": "2021-11-17T21:27:52.144Z"
   },
   {
    "duration": 346,
    "start_time": "2021-11-17T21:27:59.101Z"
   },
   {
    "duration": 6,
    "start_time": "2021-11-17T21:27:59.541Z"
   },
   {
    "duration": 13,
    "start_time": "2021-11-17T21:28:05.507Z"
   },
   {
    "duration": 363,
    "start_time": "2021-11-17T21:28:07.537Z"
   },
   {
    "duration": 5,
    "start_time": "2021-11-17T21:28:16.567Z"
   },
   {
    "duration": 110,
    "start_time": "2021-11-17T21:28:16.575Z"
   },
   {
    "duration": 5,
    "start_time": "2021-11-17T21:28:16.688Z"
   },
   {
    "duration": 22,
    "start_time": "2021-11-17T21:28:16.695Z"
   },
   {
    "duration": 60,
    "start_time": "2021-11-17T21:28:16.719Z"
   },
   {
    "duration": 23,
    "start_time": "2021-11-17T21:28:16.782Z"
   },
   {
    "duration": 8,
    "start_time": "2021-11-17T21:28:16.808Z"
   },
   {
    "duration": 47,
    "start_time": "2021-11-17T21:28:16.819Z"
   },
   {
    "duration": 248,
    "start_time": "2021-11-17T21:28:16.869Z"
   },
   {
    "duration": 6,
    "start_time": "2021-11-17T21:28:17.120Z"
   },
   {
    "duration": 6,
    "start_time": "2021-11-17T21:28:17.130Z"
   },
   {
    "duration": 26,
    "start_time": "2021-11-17T21:28:17.138Z"
   },
   {
    "duration": 16,
    "start_time": "2021-11-17T21:28:17.167Z"
   },
   {
    "duration": 21,
    "start_time": "2021-11-17T21:28:17.186Z"
   },
   {
    "duration": 13,
    "start_time": "2021-11-17T21:28:17.209Z"
   },
   {
    "duration": 47,
    "start_time": "2021-11-17T21:28:17.224Z"
   },
   {
    "duration": 11,
    "start_time": "2021-11-17T21:28:17.274Z"
   },
   {
    "duration": 8,
    "start_time": "2021-11-17T21:28:17.288Z"
   },
   {
    "duration": 789,
    "start_time": "2021-11-17T21:28:17.304Z"
   },
   {
    "duration": -29,
    "start_time": "2021-11-17T21:28:18.126Z"
   },
   {
    "duration": -31,
    "start_time": "2021-11-17T21:28:18.129Z"
   },
   {
    "duration": -42,
    "start_time": "2021-11-17T21:28:18.142Z"
   },
   {
    "duration": -44,
    "start_time": "2021-11-17T21:28:18.145Z"
   },
   {
    "duration": -51,
    "start_time": "2021-11-17T21:28:18.154Z"
   },
   {
    "duration": -53,
    "start_time": "2021-11-17T21:28:18.157Z"
   },
   {
    "duration": -53,
    "start_time": "2021-11-17T21:28:18.159Z"
   },
   {
    "duration": -55,
    "start_time": "2021-11-17T21:28:18.162Z"
   },
   {
    "duration": -62,
    "start_time": "2021-11-17T21:28:18.171Z"
   },
   {
    "duration": -64,
    "start_time": "2021-11-17T21:28:18.174Z"
   },
   {
    "duration": -65,
    "start_time": "2021-11-17T21:28:18.177Z"
   },
   {
    "duration": -67,
    "start_time": "2021-11-17T21:28:18.180Z"
   },
   {
    "duration": -77,
    "start_time": "2021-11-17T21:28:18.191Z"
   },
   {
    "duration": -78,
    "start_time": "2021-11-17T21:28:18.194Z"
   },
   {
    "duration": -81,
    "start_time": "2021-11-17T21:28:18.198Z"
   },
   {
    "duration": -84,
    "start_time": "2021-11-17T21:28:18.202Z"
   },
   {
    "duration": -85,
    "start_time": "2021-11-17T21:28:18.205Z"
   },
   {
    "duration": -87,
    "start_time": "2021-11-17T21:28:18.208Z"
   },
   {
    "duration": -89,
    "start_time": "2021-11-17T21:28:18.211Z"
   },
   {
    "duration": -100,
    "start_time": "2021-11-17T21:28:18.223Z"
   },
   {
    "duration": -102,
    "start_time": "2021-11-17T21:28:18.227Z"
   },
   {
    "duration": -121,
    "start_time": "2021-11-17T21:28:18.248Z"
   },
   {
    "duration": -123,
    "start_time": "2021-11-17T21:28:18.251Z"
   },
   {
    "duration": -124,
    "start_time": "2021-11-17T21:28:18.253Z"
   },
   {
    "duration": -125,
    "start_time": "2021-11-17T21:28:18.256Z"
   },
   {
    "duration": -170,
    "start_time": "2021-11-17T21:28:18.302Z"
   },
   {
    "duration": -172,
    "start_time": "2021-11-17T21:28:18.306Z"
   },
   {
    "duration": -150,
    "start_time": "2021-11-17T21:28:18.309Z"
   },
   {
    "duration": -152,
    "start_time": "2021-11-17T21:28:18.312Z"
   },
   {
    "duration": -159,
    "start_time": "2021-11-17T21:28:18.321Z"
   },
   {
    "duration": -162,
    "start_time": "2021-11-17T21:28:18.326Z"
   },
   {
    "duration": -162,
    "start_time": "2021-11-17T21:28:18.328Z"
   },
   {
    "duration": -169,
    "start_time": "2021-11-17T21:28:18.337Z"
   },
   {
    "duration": -255,
    "start_time": "2021-11-17T21:28:18.425Z"
   },
   {
    "duration": -256,
    "start_time": "2021-11-17T21:28:18.428Z"
   },
   {
    "duration": -264,
    "start_time": "2021-11-17T21:28:18.437Z"
   },
   {
    "duration": -265,
    "start_time": "2021-11-17T21:28:18.440Z"
   },
   {
    "duration": -265,
    "start_time": "2021-11-17T21:28:18.442Z"
   },
   {
    "duration": -266,
    "start_time": "2021-11-17T21:28:18.445Z"
   },
   {
    "duration": -272,
    "start_time": "2021-11-17T21:28:18.453Z"
   },
   {
    "duration": -273,
    "start_time": "2021-11-17T21:28:18.456Z"
   },
   {
    "duration": -273,
    "start_time": "2021-11-17T21:28:18.458Z"
   },
   {
    "duration": -275,
    "start_time": "2021-11-17T21:28:18.461Z"
   },
   {
    "duration": -276,
    "start_time": "2021-11-17T21:28:18.463Z"
   },
   {
    "duration": -288,
    "start_time": "2021-11-17T21:28:18.476Z"
   },
   {
    "duration": -296,
    "start_time": "2021-11-17T21:28:18.486Z"
   },
   {
    "duration": -298,
    "start_time": "2021-11-17T21:28:18.489Z"
   },
   {
    "duration": 355,
    "start_time": "2021-11-17T21:29:34.624Z"
   },
   {
    "duration": 4,
    "start_time": "2021-11-17T21:30:08.081Z"
   },
   {
    "duration": 114,
    "start_time": "2021-11-17T21:30:08.088Z"
   },
   {
    "duration": 53,
    "start_time": "2021-11-17T21:30:08.207Z"
   },
   {
    "duration": 7,
    "start_time": "2021-11-17T21:30:08.263Z"
   },
   {
    "duration": 22,
    "start_time": "2021-11-17T21:30:08.272Z"
   },
   {
    "duration": 24,
    "start_time": "2021-11-17T21:30:08.297Z"
   },
   {
    "duration": 41,
    "start_time": "2021-11-17T21:30:08.324Z"
   },
   {
    "duration": 11,
    "start_time": "2021-11-17T21:30:08.369Z"
   },
   {
    "duration": 248,
    "start_time": "2021-11-17T21:30:08.382Z"
   },
   {
    "duration": 6,
    "start_time": "2021-11-17T21:30:08.632Z"
   },
   {
    "duration": 19,
    "start_time": "2021-11-17T21:30:08.640Z"
   },
   {
    "duration": 17,
    "start_time": "2021-11-17T21:30:08.661Z"
   },
   {
    "duration": 9,
    "start_time": "2021-11-17T21:30:08.680Z"
   },
   {
    "duration": 10,
    "start_time": "2021-11-17T21:30:08.692Z"
   },
   {
    "duration": 13,
    "start_time": "2021-11-17T21:30:08.704Z"
   },
   {
    "duration": 62,
    "start_time": "2021-11-17T21:30:08.720Z"
   },
   {
    "duration": 11,
    "start_time": "2021-11-17T21:30:08.784Z"
   },
   {
    "duration": 360,
    "start_time": "2021-11-17T21:30:08.797Z"
   },
   {
    "duration": -32,
    "start_time": "2021-11-17T21:30:09.294Z"
   },
   {
    "duration": -36,
    "start_time": "2021-11-17T21:30:09.300Z"
   },
   {
    "duration": -38,
    "start_time": "2021-11-17T21:30:09.303Z"
   },
   {
    "duration": -39,
    "start_time": "2021-11-17T21:30:09.306Z"
   },
   {
    "duration": -83,
    "start_time": "2021-11-17T21:30:09.351Z"
   },
   {
    "duration": -86,
    "start_time": "2021-11-17T21:30:09.356Z"
   },
   {
    "duration": -103,
    "start_time": "2021-11-17T21:30:09.374Z"
   },
   {
    "duration": -111,
    "start_time": "2021-11-17T21:30:09.384Z"
   },
   {
    "duration": -116,
    "start_time": "2021-11-17T21:30:09.390Z"
   },
   {
    "duration": -117,
    "start_time": "2021-11-17T21:30:09.393Z"
   },
   {
    "duration": -119,
    "start_time": "2021-11-17T21:30:09.396Z"
   },
   {
    "duration": -120,
    "start_time": "2021-11-17T21:30:09.399Z"
   },
   {
    "duration": -122,
    "start_time": "2021-11-17T21:30:09.403Z"
   },
   {
    "duration": -124,
    "start_time": "2021-11-17T21:30:09.406Z"
   },
   {
    "duration": -125,
    "start_time": "2021-11-17T21:30:09.409Z"
   },
   {
    "duration": -127,
    "start_time": "2021-11-17T21:30:09.412Z"
   },
   {
    "duration": -127,
    "start_time": "2021-11-17T21:30:09.415Z"
   },
   {
    "duration": -137,
    "start_time": "2021-11-17T21:30:09.427Z"
   },
   {
    "duration": -139,
    "start_time": "2021-11-17T21:30:09.431Z"
   },
   {
    "duration": -139,
    "start_time": "2021-11-17T21:30:09.434Z"
   },
   {
    "duration": -164,
    "start_time": "2021-11-17T21:30:09.461Z"
   },
   {
    "duration": -165,
    "start_time": "2021-11-17T21:30:09.464Z"
   },
   {
    "duration": -146,
    "start_time": "2021-11-17T21:30:09.506Z"
   },
   {
    "duration": -154,
    "start_time": "2021-11-17T21:30:09.516Z"
   },
   {
    "duration": -155,
    "start_time": "2021-11-17T21:30:09.519Z"
   },
   {
    "duration": -163,
    "start_time": "2021-11-17T21:30:09.530Z"
   },
   {
    "duration": -166,
    "start_time": "2021-11-17T21:30:09.535Z"
   },
   {
    "duration": -168,
    "start_time": "2021-11-17T21:30:09.539Z"
   },
   {
    "duration": -177,
    "start_time": "2021-11-17T21:30:09.550Z"
   },
   {
    "duration": -290,
    "start_time": "2021-11-17T21:30:09.666Z"
   },
   {
    "duration": -291,
    "start_time": "2021-11-17T21:30:09.669Z"
   },
   {
    "duration": -291,
    "start_time": "2021-11-17T21:30:09.672Z"
   },
   {
    "duration": -298,
    "start_time": "2021-11-17T21:30:09.682Z"
   },
   {
    "duration": -298,
    "start_time": "2021-11-17T21:30:09.685Z"
   },
   {
    "duration": -300,
    "start_time": "2021-11-17T21:30:09.689Z"
   },
   {
    "duration": -302,
    "start_time": "2021-11-17T21:30:09.693Z"
   },
   {
    "duration": -303,
    "start_time": "2021-11-17T21:30:09.696Z"
   },
   {
    "duration": -303,
    "start_time": "2021-11-17T21:30:09.698Z"
   },
   {
    "duration": -255,
    "start_time": "2021-11-17T21:30:09.714Z"
   },
   {
    "duration": -256,
    "start_time": "2021-11-17T21:30:09.717Z"
   },
   {
    "duration": -256,
    "start_time": "2021-11-17T21:30:09.720Z"
   },
   {
    "duration": -257,
    "start_time": "2021-11-17T21:30:09.723Z"
   },
   {
    "duration": -261,
    "start_time": "2021-11-17T21:30:09.729Z"
   },
   {
    "duration": -261,
    "start_time": "2021-11-17T21:30:09.732Z"
   },
   {
    "duration": -264,
    "start_time": "2021-11-17T21:30:09.737Z"
   },
   {
    "duration": -264,
    "start_time": "2021-11-17T21:30:09.740Z"
   },
   {
    "duration": -265,
    "start_time": "2021-11-17T21:30:09.743Z"
   },
   {
    "duration": -266,
    "start_time": "2021-11-17T21:30:09.746Z"
   },
   {
    "duration": 342,
    "start_time": "2021-11-17T21:31:33.616Z"
   },
   {
    "duration": 476,
    "start_time": "2021-11-17T21:32:00.414Z"
   },
   {
    "duration": 128,
    "start_time": "2021-11-17T21:34:32.037Z"
   },
   {
    "duration": -37,
    "start_time": "2021-11-17T21:34:32.205Z"
   },
   {
    "duration": 406,
    "start_time": "2021-11-17T21:34:35.695Z"
   },
   {
    "duration": -32,
    "start_time": "2021-11-17T21:35:47.974Z"
   },
   {
    "duration": 12,
    "start_time": "2021-11-17T21:35:54.115Z"
   },
   {
    "duration": 9,
    "start_time": "2021-11-17T21:35:55.296Z"
   },
   {
    "duration": 12,
    "start_time": "2021-11-17T21:35:55.853Z"
   },
   {
    "duration": 7,
    "start_time": "2021-11-17T21:35:56.425Z"
   },
   {
    "duration": 384,
    "start_time": "2021-11-17T21:39:37.245Z"
   },
   {
    "duration": 8,
    "start_time": "2021-11-17T21:39:45.468Z"
   },
   {
    "duration": 14,
    "start_time": "2021-11-17T21:42:05.075Z"
   },
   {
    "duration": 15,
    "start_time": "2021-11-17T21:43:01.116Z"
   },
   {
    "duration": 121,
    "start_time": "2021-11-17T21:43:10.696Z"
   },
   {
    "duration": 12,
    "start_time": "2021-11-17T21:43:12.716Z"
   },
   {
    "duration": 11,
    "start_time": "2021-11-17T21:43:19.079Z"
   },
   {
    "duration": 12,
    "start_time": "2021-11-17T21:43:23.721Z"
   },
   {
    "duration": 359,
    "start_time": "2021-11-17T21:43:35.938Z"
   },
   {
    "duration": 5,
    "start_time": "2021-11-17T21:43:55.716Z"
   },
   {
    "duration": 96,
    "start_time": "2021-11-17T21:43:55.723Z"
   },
   {
    "duration": 39,
    "start_time": "2021-11-17T21:43:55.822Z"
   },
   {
    "duration": 14,
    "start_time": "2021-11-17T21:43:55.864Z"
   },
   {
    "duration": 26,
    "start_time": "2021-11-17T21:43:55.880Z"
   },
   {
    "duration": 51,
    "start_time": "2021-11-17T21:43:55.908Z"
   },
   {
    "duration": 8,
    "start_time": "2021-11-17T21:43:55.963Z"
   },
   {
    "duration": 15,
    "start_time": "2021-11-17T21:43:55.974Z"
   },
   {
    "duration": 268,
    "start_time": "2021-11-17T21:43:55.991Z"
   },
   {
    "duration": 7,
    "start_time": "2021-11-17T21:43:56.261Z"
   },
   {
    "duration": 9,
    "start_time": "2021-11-17T21:43:56.270Z"
   },
   {
    "duration": 13,
    "start_time": "2021-11-17T21:43:56.282Z"
   },
   {
    "duration": 8,
    "start_time": "2021-11-17T21:43:56.297Z"
   },
   {
    "duration": 10,
    "start_time": "2021-11-17T21:43:56.308Z"
   },
   {
    "duration": 43,
    "start_time": "2021-11-17T21:43:56.321Z"
   },
   {
    "duration": 31,
    "start_time": "2021-11-17T21:43:56.367Z"
   },
   {
    "duration": 12,
    "start_time": "2021-11-17T21:43:56.400Z"
   },
   {
    "duration": 345,
    "start_time": "2021-11-17T21:43:56.415Z"
   },
   {
    "duration": -32,
    "start_time": "2021-11-17T21:43:56.799Z"
   },
   {
    "duration": -46,
    "start_time": "2021-11-17T21:43:56.815Z"
   },
   {
    "duration": -49,
    "start_time": "2021-11-17T21:43:56.820Z"
   },
   {
    "duration": -55,
    "start_time": "2021-11-17T21:43:56.828Z"
   },
   {
    "duration": -57,
    "start_time": "2021-11-17T21:43:56.832Z"
   },
   {
    "duration": -58,
    "start_time": "2021-11-17T21:43:56.835Z"
   },
   {
    "duration": -64,
    "start_time": "2021-11-17T21:43:56.844Z"
   },
   {
    "duration": -65,
    "start_time": "2021-11-17T21:43:56.847Z"
   },
   {
    "duration": -68,
    "start_time": "2021-11-17T21:43:56.852Z"
   },
   {
    "duration": -67,
    "start_time": "2021-11-17T21:43:56.854Z"
   },
   {
    "duration": -73,
    "start_time": "2021-11-17T21:43:56.862Z"
   },
   {
    "duration": -94,
    "start_time": "2021-11-17T21:43:56.886Z"
   },
   {
    "duration": -101,
    "start_time": "2021-11-17T21:43:56.895Z"
   },
   {
    "duration": -101,
    "start_time": "2021-11-17T21:43:56.898Z"
   },
   {
    "duration": -102,
    "start_time": "2021-11-17T21:43:56.901Z"
   },
   {
    "duration": -128,
    "start_time": "2021-11-17T21:43:56.929Z"
   },
   {
    "duration": -145,
    "start_time": "2021-11-17T21:43:56.949Z"
   },
   {
    "duration": -177,
    "start_time": "2021-11-17T21:43:56.983Z"
   },
   {
    "duration": -128,
    "start_time": "2021-11-17T21:43:56.987Z"
   },
   {
    "duration": -133,
    "start_time": "2021-11-17T21:43:56.995Z"
   },
   {
    "duration": -134,
    "start_time": "2021-11-17T21:43:56.998Z"
   },
   {
    "duration": -135,
    "start_time": "2021-11-17T21:43:57.001Z"
   },
   {
    "duration": -151,
    "start_time": "2021-11-17T21:43:57.020Z"
   },
   {
    "duration": -153,
    "start_time": "2021-11-17T21:43:57.024Z"
   },
   {
    "duration": -206,
    "start_time": "2021-11-17T21:43:57.079Z"
   },
   {
    "duration": -237,
    "start_time": "2021-11-17T21:43:57.113Z"
   },
   {
    "duration": -251,
    "start_time": "2021-11-17T21:43:57.129Z"
   },
   {
    "duration": -252,
    "start_time": "2021-11-17T21:43:57.132Z"
   },
   {
    "duration": -268,
    "start_time": "2021-11-17T21:43:57.150Z"
   },
   {
    "duration": -281,
    "start_time": "2021-11-17T21:43:57.166Z"
   },
   {
    "duration": -284,
    "start_time": "2021-11-17T21:43:57.171Z"
   },
   {
    "duration": -288,
    "start_time": "2021-11-17T21:43:57.178Z"
   },
   {
    "duration": -288,
    "start_time": "2021-11-17T21:43:57.181Z"
   },
   {
    "duration": -288,
    "start_time": "2021-11-17T21:43:57.183Z"
   },
   {
    "duration": -291,
    "start_time": "2021-11-17T21:43:57.188Z"
   },
   {
    "duration": -236,
    "start_time": "2021-11-17T21:43:57.196Z"
   },
   {
    "duration": -236,
    "start_time": "2021-11-17T21:43:57.198Z"
   },
   {
    "duration": -235,
    "start_time": "2021-11-17T21:43:57.200Z"
   },
   {
    "duration": -246,
    "start_time": "2021-11-17T21:43:57.213Z"
   },
   {
    "duration": -250,
    "start_time": "2021-11-17T21:43:57.219Z"
   },
   {
    "duration": -276,
    "start_time": "2021-11-17T21:43:57.248Z"
   },
   {
    "duration": -277,
    "start_time": "2021-11-17T21:43:57.251Z"
   },
   {
    "duration": -278,
    "start_time": "2021-11-17T21:43:57.254Z"
   },
   {
    "duration": -282,
    "start_time": "2021-11-17T21:43:57.261Z"
   },
   {
    "duration": -282,
    "start_time": "2021-11-17T21:43:57.264Z"
   },
   {
    "duration": -282,
    "start_time": "2021-11-17T21:43:57.266Z"
   },
   {
    "duration": -282,
    "start_time": "2021-11-17T21:43:57.269Z"
   },
   {
    "duration": 358,
    "start_time": "2021-11-17T21:44:39.719Z"
   },
   {
    "duration": 13,
    "start_time": "2021-11-17T21:44:53.181Z"
   },
   {
    "duration": 10,
    "start_time": "2021-11-17T21:46:02.335Z"
   },
   {
    "duration": 10,
    "start_time": "2021-11-17T21:46:10.159Z"
   },
   {
    "duration": 11,
    "start_time": "2021-11-17T21:46:19.644Z"
   },
   {
    "duration": 371,
    "start_time": "2021-11-17T21:46:20.510Z"
   },
   {
    "duration": 9,
    "start_time": "2021-11-17T21:51:04.785Z"
   },
   {
    "duration": 10,
    "start_time": "2021-11-17T21:51:08.001Z"
   },
   {
    "duration": 12,
    "start_time": "2021-11-17T21:51:10.922Z"
   },
   {
    "duration": 350,
    "start_time": "2021-11-17T21:51:22.380Z"
   },
   {
    "duration": 10,
    "start_time": "2021-11-17T21:51:32.533Z"
   },
   {
    "duration": 11,
    "start_time": "2021-11-17T21:51:38.080Z"
   },
   {
    "duration": 19,
    "start_time": "2021-11-17T21:52:15.551Z"
   },
   {
    "duration": 13,
    "start_time": "2021-11-17T21:52:30.101Z"
   },
   {
    "duration": 13,
    "start_time": "2021-11-17T21:52:37.833Z"
   },
   {
    "duration": 14,
    "start_time": "2021-11-17T21:52:41.985Z"
   },
   {
    "duration": 10,
    "start_time": "2021-11-17T21:52:42.793Z"
   },
   {
    "duration": -45,
    "start_time": "2021-11-17T21:53:33.736Z"
   },
   {
    "duration": -51,
    "start_time": "2021-11-17T21:53:33.743Z"
   },
   {
    "duration": 9,
    "start_time": "2021-11-17T21:53:33.780Z"
   },
   {
    "duration": 9,
    "start_time": "2021-11-17T21:53:59.129Z"
   },
   {
    "duration": 5,
    "start_time": "2021-11-17T21:54:02.798Z"
   },
   {
    "duration": 94,
    "start_time": "2021-11-17T21:54:02.805Z"
   },
   {
    "duration": 6,
    "start_time": "2021-11-17T21:54:02.901Z"
   },
   {
    "duration": 50,
    "start_time": "2021-11-17T21:54:02.909Z"
   },
   {
    "duration": 29,
    "start_time": "2021-11-17T21:54:02.962Z"
   },
   {
    "duration": 24,
    "start_time": "2021-11-17T21:54:02.994Z"
   },
   {
    "duration": 39,
    "start_time": "2021-11-17T21:54:03.020Z"
   },
   {
    "duration": 11,
    "start_time": "2021-11-17T21:54:03.063Z"
   },
   {
    "duration": 248,
    "start_time": "2021-11-17T21:54:03.077Z"
   },
   {
    "duration": 7,
    "start_time": "2021-11-17T21:54:03.328Z"
   },
   {
    "duration": 8,
    "start_time": "2021-11-17T21:54:03.337Z"
   },
   {
    "duration": 20,
    "start_time": "2021-11-17T21:54:03.360Z"
   },
   {
    "duration": 8,
    "start_time": "2021-11-17T21:54:03.383Z"
   },
   {
    "duration": 13,
    "start_time": "2021-11-17T21:54:03.394Z"
   },
   {
    "duration": 9,
    "start_time": "2021-11-17T21:54:03.410Z"
   },
   {
    "duration": 40,
    "start_time": "2021-11-17T21:54:03.422Z"
   },
   {
    "duration": 28,
    "start_time": "2021-11-17T21:54:03.465Z"
   },
   {
    "duration": 10,
    "start_time": "2021-11-17T21:54:03.496Z"
   },
   {
    "duration": 15,
    "start_time": "2021-11-17T21:54:03.509Z"
   },
   {
    "duration": 40,
    "start_time": "2021-11-17T21:54:03.526Z"
   },
   {
    "duration": 8,
    "start_time": "2021-11-17T21:54:03.568Z"
   },
   {
    "duration": 16,
    "start_time": "2021-11-17T21:54:03.579Z"
   },
   {
    "duration": 26,
    "start_time": "2021-11-17T21:54:03.605Z"
   },
   {
    "duration": 11,
    "start_time": "2021-11-17T21:54:03.660Z"
   },
   {
    "duration": 27,
    "start_time": "2021-11-17T21:54:03.673Z"
   },
   {
    "duration": 15,
    "start_time": "2021-11-17T21:54:03.703Z"
   },
   {
    "duration": 42,
    "start_time": "2021-11-17T21:54:03.721Z"
   },
   {
    "duration": 32,
    "start_time": "2021-11-17T21:54:03.766Z"
   },
   {
    "duration": 10,
    "start_time": "2021-11-17T21:54:03.801Z"
   },
   {
    "duration": 56,
    "start_time": "2021-11-17T21:54:03.814Z"
   },
   {
    "duration": 13,
    "start_time": "2021-11-17T21:54:03.873Z"
   },
   {
    "duration": 29,
    "start_time": "2021-11-17T21:54:03.889Z"
   },
   {
    "duration": 40,
    "start_time": "2021-11-17T21:54:03.921Z"
   },
   {
    "duration": 6,
    "start_time": "2021-11-17T21:54:03.963Z"
   },
   {
    "duration": 11,
    "start_time": "2021-11-17T21:54:03.971Z"
   },
   {
    "duration": 44,
    "start_time": "2021-11-17T21:54:03.985Z"
   },
   {
    "duration": 27,
    "start_time": "2021-11-17T21:54:04.032Z"
   },
   {
    "duration": 1056,
    "start_time": "2021-11-17T21:54:04.062Z"
   },
   {
    "duration": -62,
    "start_time": "2021-11-17T21:54:05.183Z"
   },
   {
    "duration": -64,
    "start_time": "2021-11-17T21:54:05.186Z"
   },
   {
    "duration": -65,
    "start_time": "2021-11-17T21:54:05.188Z"
   },
   {
    "duration": -66,
    "start_time": "2021-11-17T21:54:05.191Z"
   },
   {
    "duration": -67,
    "start_time": "2021-11-17T21:54:05.193Z"
   },
   {
    "duration": -67,
    "start_time": "2021-11-17T21:54:05.195Z"
   },
   {
    "duration": -67,
    "start_time": "2021-11-17T21:54:05.197Z"
   },
   {
    "duration": -75,
    "start_time": "2021-11-17T21:54:05.206Z"
   },
   {
    "duration": -76,
    "start_time": "2021-11-17T21:54:05.209Z"
   },
   {
    "duration": -76,
    "start_time": "2021-11-17T21:54:05.211Z"
   },
   {
    "duration": -78,
    "start_time": "2021-11-17T21:54:05.214Z"
   },
   {
    "duration": -78,
    "start_time": "2021-11-17T21:54:05.216Z"
   },
   {
    "duration": -79,
    "start_time": "2021-11-17T21:54:05.219Z"
   },
   {
    "duration": -81,
    "start_time": "2021-11-17T21:54:05.222Z"
   },
   {
    "duration": -81,
    "start_time": "2021-11-17T21:54:05.224Z"
   },
   {
    "duration": -81,
    "start_time": "2021-11-17T21:54:05.226Z"
   },
   {
    "duration": -83,
    "start_time": "2021-11-17T21:54:05.229Z"
   },
   {
    "duration": -83,
    "start_time": "2021-11-17T21:54:05.231Z"
   },
   {
    "duration": -92,
    "start_time": "2021-11-17T21:54:05.241Z"
   },
   {
    "duration": -84,
    "start_time": "2021-11-17T21:54:05.243Z"
   },
   {
    "duration": -85,
    "start_time": "2021-11-17T21:54:05.246Z"
   },
   {
    "duration": -85,
    "start_time": "2021-11-17T21:54:05.248Z"
   },
   {
    "duration": -87,
    "start_time": "2021-11-17T21:54:05.251Z"
   },
   {
    "duration": -89,
    "start_time": "2021-11-17T21:54:05.254Z"
   },
   {
    "duration": -89,
    "start_time": "2021-11-17T21:54:05.256Z"
   },
   {
    "duration": -90,
    "start_time": "2021-11-17T21:54:05.258Z"
   },
   {
    "duration": -91,
    "start_time": "2021-11-17T21:54:05.260Z"
   },
   {
    "duration": 10,
    "start_time": "2021-11-17T21:54:38.841Z"
   },
   {
    "duration": 13,
    "start_time": "2021-11-17T21:54:39.341Z"
   },
   {
    "duration": 8,
    "start_time": "2021-11-17T21:54:40.124Z"
   },
   {
    "duration": 12,
    "start_time": "2021-11-17T21:58:04.910Z"
   },
   {
    "duration": 13,
    "start_time": "2021-11-17T21:58:06.992Z"
   },
   {
    "duration": 8,
    "start_time": "2021-11-17T21:58:07.532Z"
   },
   {
    "duration": 4,
    "start_time": "2021-11-17T21:58:22.611Z"
   },
   {
    "duration": 97,
    "start_time": "2021-11-17T21:58:22.617Z"
   },
   {
    "duration": 42,
    "start_time": "2021-11-17T21:58:22.717Z"
   },
   {
    "duration": 10,
    "start_time": "2021-11-17T21:58:22.762Z"
   },
   {
    "duration": 25,
    "start_time": "2021-11-17T21:58:22.774Z"
   },
   {
    "duration": 68,
    "start_time": "2021-11-17T21:58:22.802Z"
   },
   {
    "duration": 10,
    "start_time": "2021-11-17T21:58:22.872Z"
   },
   {
    "duration": 11,
    "start_time": "2021-11-17T21:58:22.886Z"
   },
   {
    "duration": 262,
    "start_time": "2021-11-17T21:58:22.900Z"
   },
   {
    "duration": 7,
    "start_time": "2021-11-17T21:58:23.165Z"
   },
   {
    "duration": 5,
    "start_time": "2021-11-17T21:58:23.176Z"
   },
   {
    "duration": 13,
    "start_time": "2021-11-17T21:58:23.184Z"
   },
   {
    "duration": 9,
    "start_time": "2021-11-17T21:58:23.200Z"
   },
   {
    "duration": 56,
    "start_time": "2021-11-17T21:58:23.212Z"
   },
   {
    "duration": 9,
    "start_time": "2021-11-17T21:58:23.271Z"
   },
   {
    "duration": 11,
    "start_time": "2021-11-17T21:58:23.282Z"
   },
   {
    "duration": 11,
    "start_time": "2021-11-17T21:58:23.296Z"
   },
   {
    "duration": 59,
    "start_time": "2021-11-17T21:58:23.309Z"
   },
   {
    "duration": 413,
    "start_time": "2021-11-17T21:58:23.371Z"
   },
   {
    "duration": -53,
    "start_time": "2021-11-17T21:58:23.842Z"
   },
   {
    "duration": -54,
    "start_time": "2021-11-17T21:58:23.845Z"
   },
   {
    "duration": -60,
    "start_time": "2021-11-17T21:58:23.853Z"
   },
   {
    "duration": -60,
    "start_time": "2021-11-17T21:58:23.855Z"
   },
   {
    "duration": -61,
    "start_time": "2021-11-17T21:58:23.857Z"
   },
   {
    "duration": -62,
    "start_time": "2021-11-17T21:58:23.860Z"
   },
   {
    "duration": -62,
    "start_time": "2021-11-17T21:58:23.862Z"
   },
   {
    "duration": -62,
    "start_time": "2021-11-17T21:58:23.864Z"
   },
   {
    "duration": -63,
    "start_time": "2021-11-17T21:58:23.867Z"
   },
   {
    "duration": -64,
    "start_time": "2021-11-17T21:58:23.869Z"
   },
   {
    "duration": -64,
    "start_time": "2021-11-17T21:58:23.871Z"
   },
   {
    "duration": -65,
    "start_time": "2021-11-17T21:58:23.874Z"
   },
   {
    "duration": -73,
    "start_time": "2021-11-17T21:58:23.884Z"
   },
   {
    "duration": -79,
    "start_time": "2021-11-17T21:58:23.891Z"
   },
   {
    "duration": -80,
    "start_time": "2021-11-17T21:58:23.894Z"
   },
   {
    "duration": -81,
    "start_time": "2021-11-17T21:58:23.897Z"
   },
   {
    "duration": -42,
    "start_time": "2021-11-17T21:58:23.900Z"
   },
   {
    "duration": -43,
    "start_time": "2021-11-17T21:58:23.903Z"
   },
   {
    "duration": -43,
    "start_time": "2021-11-17T21:58:23.905Z"
   },
   {
    "duration": -45,
    "start_time": "2021-11-17T21:58:23.908Z"
   },
   {
    "duration": -50,
    "start_time": "2021-11-17T21:58:23.915Z"
   },
   {
    "duration": -53,
    "start_time": "2021-11-17T21:58:23.919Z"
   },
   {
    "duration": -53,
    "start_time": "2021-11-17T21:58:23.921Z"
   },
   {
    "duration": -54,
    "start_time": "2021-11-17T21:58:23.924Z"
   },
   {
    "duration": -55,
    "start_time": "2021-11-17T21:58:23.927Z"
   },
   {
    "duration": -55,
    "start_time": "2021-11-17T21:58:23.929Z"
   },
   {
    "duration": -55,
    "start_time": "2021-11-17T21:58:23.931Z"
   },
   {
    "duration": -63,
    "start_time": "2021-11-17T21:58:23.940Z"
   },
   {
    "duration": -63,
    "start_time": "2021-11-17T21:58:23.942Z"
   },
   {
    "duration": -64,
    "start_time": "2021-11-17T21:58:23.945Z"
   },
   {
    "duration": -64,
    "start_time": "2021-11-17T21:58:23.947Z"
   },
   {
    "duration": -65,
    "start_time": "2021-11-17T21:58:23.950Z"
   },
   {
    "duration": -207,
    "start_time": "2021-11-17T21:58:24.093Z"
   },
   {
    "duration": -240,
    "start_time": "2021-11-17T21:58:24.128Z"
   },
   {
    "duration": -245,
    "start_time": "2021-11-17T21:58:24.135Z"
   },
   {
    "duration": -246,
    "start_time": "2021-11-17T21:58:24.138Z"
   },
   {
    "duration": -247,
    "start_time": "2021-11-17T21:58:24.140Z"
   },
   {
    "duration": -247,
    "start_time": "2021-11-17T21:58:24.142Z"
   },
   {
    "duration": -249,
    "start_time": "2021-11-17T21:58:24.145Z"
   },
   {
    "duration": -188,
    "start_time": "2021-11-17T21:58:24.147Z"
   },
   {
    "duration": -189,
    "start_time": "2021-11-17T21:58:24.149Z"
   },
   {
    "duration": -190,
    "start_time": "2021-11-17T21:58:24.152Z"
   },
   {
    "duration": -191,
    "start_time": "2021-11-17T21:58:24.154Z"
   },
   {
    "duration": -192,
    "start_time": "2021-11-17T21:58:24.157Z"
   },
   {
    "duration": -193,
    "start_time": "2021-11-17T21:58:24.159Z"
   },
   {
    "duration": -194,
    "start_time": "2021-11-17T21:58:24.161Z"
   },
   {
    "duration": 8,
    "start_time": "2021-11-17T22:01:16.485Z"
   },
   {
    "duration": 11,
    "start_time": "2021-11-17T22:01:19.218Z"
   },
   {
    "duration": 351,
    "start_time": "2021-11-17T22:01:27.080Z"
   },
   {
    "duration": 360,
    "start_time": "2021-11-17T22:01:31.361Z"
   },
   {
    "duration": 10,
    "start_time": "2021-11-17T22:01:36.187Z"
   },
   {
    "duration": 11,
    "start_time": "2021-11-17T22:03:36.224Z"
   },
   {
    "duration": 12,
    "start_time": "2021-11-17T22:05:40.163Z"
   },
   {
    "duration": 7,
    "start_time": "2021-11-17T22:05:52.869Z"
   },
   {
    "duration": 11,
    "start_time": "2021-11-17T22:06:23.545Z"
   },
   {
    "duration": 318,
    "start_time": "2021-11-18T07:50:31.431Z"
   },
   {
    "duration": 654,
    "start_time": "2021-11-18T07:50:34.984Z"
   },
   {
    "duration": 74,
    "start_time": "2021-11-18T07:50:35.639Z"
   },
   {
    "duration": 3,
    "start_time": "2021-11-18T07:50:35.715Z"
   },
   {
    "duration": 15,
    "start_time": "2021-11-18T07:50:35.720Z"
   },
   {
    "duration": 31,
    "start_time": "2021-11-18T07:50:35.736Z"
   },
   {
    "duration": 14,
    "start_time": "2021-11-18T07:50:35.768Z"
   },
   {
    "duration": 9,
    "start_time": "2021-11-18T07:50:35.783Z"
   },
   {
    "duration": 15,
    "start_time": "2021-11-18T07:50:35.795Z"
   },
   {
    "duration": 142,
    "start_time": "2021-11-18T07:50:35.812Z"
   },
   {
    "duration": 4,
    "start_time": "2021-11-18T07:50:35.955Z"
   },
   {
    "duration": 18,
    "start_time": "2021-11-18T07:50:35.961Z"
   },
   {
    "duration": 15,
    "start_time": "2021-11-18T07:50:35.981Z"
   },
   {
    "duration": 21,
    "start_time": "2021-11-18T07:50:35.998Z"
   },
   {
    "duration": 6,
    "start_time": "2021-11-18T07:50:36.020Z"
   },
   {
    "duration": 12,
    "start_time": "2021-11-18T07:50:36.028Z"
   },
   {
    "duration": 11,
    "start_time": "2021-11-18T07:50:36.042Z"
   },
   {
    "duration": 13,
    "start_time": "2021-11-18T07:50:36.055Z"
   },
   {
    "duration": 28,
    "start_time": "2021-11-18T07:50:36.070Z"
   },
   {
    "duration": 277,
    "start_time": "2021-11-18T07:50:36.101Z"
   },
   {
    "duration": 881,
    "start_time": "2021-11-18T07:50:35.500Z"
   },
   {
    "duration": 879,
    "start_time": "2021-11-18T07:50:35.503Z"
   },
   {
    "duration": 877,
    "start_time": "2021-11-18T07:50:35.506Z"
   },
   {
    "duration": 875,
    "start_time": "2021-11-18T07:50:35.509Z"
   },
   {
    "duration": 872,
    "start_time": "2021-11-18T07:50:35.512Z"
   },
   {
    "duration": 851,
    "start_time": "2021-11-18T07:50:35.534Z"
   },
   {
    "duration": 849,
    "start_time": "2021-11-18T07:50:35.537Z"
   },
   {
    "duration": 846,
    "start_time": "2021-11-18T07:50:35.540Z"
   },
   {
    "duration": 846,
    "start_time": "2021-11-18T07:50:35.545Z"
   },
   {
    "duration": 846,
    "start_time": "2021-11-18T07:50:35.547Z"
   },
   {
    "duration": 845,
    "start_time": "2021-11-18T07:50:35.549Z"
   },
   {
    "duration": 843,
    "start_time": "2021-11-18T07:50:35.552Z"
   },
   {
    "duration": 843,
    "start_time": "2021-11-18T07:50:35.554Z"
   },
   {
    "duration": 841,
    "start_time": "2021-11-18T07:50:35.557Z"
   },
   {
    "duration": 840,
    "start_time": "2021-11-18T07:50:35.559Z"
   },
   {
    "duration": 838,
    "start_time": "2021-11-18T07:50:35.562Z"
   },
   {
    "duration": 837,
    "start_time": "2021-11-18T07:50:35.564Z"
   },
   {
    "duration": 817,
    "start_time": "2021-11-18T07:50:35.585Z"
   },
   {
    "duration": 816,
    "start_time": "2021-11-18T07:50:35.587Z"
   },
   {
    "duration": 814,
    "start_time": "2021-11-18T07:50:35.590Z"
   },
   {
    "duration": 812,
    "start_time": "2021-11-18T07:50:35.593Z"
   },
   {
    "duration": 811,
    "start_time": "2021-11-18T07:50:35.595Z"
   },
   {
    "duration": 809,
    "start_time": "2021-11-18T07:50:35.598Z"
   },
   {
    "duration": 808,
    "start_time": "2021-11-18T07:50:35.600Z"
   },
   {
    "duration": 806,
    "start_time": "2021-11-18T07:50:35.603Z"
   },
   {
    "duration": 805,
    "start_time": "2021-11-18T07:50:35.606Z"
   },
   {
    "duration": 803,
    "start_time": "2021-11-18T07:50:35.609Z"
   },
   {
    "duration": 802,
    "start_time": "2021-11-18T07:50:35.611Z"
   },
   {
    "duration": 800,
    "start_time": "2021-11-18T07:50:35.614Z"
   },
   {
    "duration": 799,
    "start_time": "2021-11-18T07:50:35.616Z"
   },
   {
    "duration": 797,
    "start_time": "2021-11-18T07:50:35.619Z"
   },
   {
    "duration": 796,
    "start_time": "2021-11-18T07:50:35.621Z"
   },
   {
    "duration": 794,
    "start_time": "2021-11-18T07:50:35.624Z"
   },
   {
    "duration": 775,
    "start_time": "2021-11-18T07:50:35.644Z"
   },
   {
    "duration": 770,
    "start_time": "2021-11-18T07:50:35.650Z"
   },
   {
    "duration": 758,
    "start_time": "2021-11-18T07:50:35.662Z"
   },
   {
    "duration": 756,
    "start_time": "2021-11-18T07:50:35.665Z"
   },
   {
    "duration": 754,
    "start_time": "2021-11-18T07:50:35.668Z"
   },
   {
    "duration": 751,
    "start_time": "2021-11-18T07:50:35.672Z"
   },
   {
    "duration": 744,
    "start_time": "2021-11-18T07:50:35.680Z"
   },
   {
    "duration": 742,
    "start_time": "2021-11-18T07:50:35.683Z"
   },
   {
    "duration": 740,
    "start_time": "2021-11-18T07:50:35.686Z"
   },
   {
    "duration": 738,
    "start_time": "2021-11-18T07:50:35.689Z"
   },
   {
    "duration": 726,
    "start_time": "2021-11-18T07:50:35.702Z"
   },
   {
    "duration": 724,
    "start_time": "2021-11-18T07:50:35.705Z"
   },
   {
    "duration": 722,
    "start_time": "2021-11-18T07:50:35.708Z"
   },
   {
    "duration": 23,
    "start_time": "2021-11-18T07:58:26.334Z"
   },
   {
    "duration": 3,
    "start_time": "2021-11-18T07:58:30.314Z"
   },
   {
    "duration": 66,
    "start_time": "2021-11-18T07:58:30.319Z"
   },
   {
    "duration": 9,
    "start_time": "2021-11-18T07:58:30.387Z"
   },
   {
    "duration": 9,
    "start_time": "2021-11-18T07:58:30.398Z"
   },
   {
    "duration": 19,
    "start_time": "2021-11-18T07:58:30.410Z"
   },
   {
    "duration": 15,
    "start_time": "2021-11-18T07:58:30.431Z"
   },
   {
    "duration": 57,
    "start_time": "2021-11-18T07:58:30.448Z"
   },
   {
    "duration": 13,
    "start_time": "2021-11-18T07:58:30.507Z"
   },
   {
    "duration": 137,
    "start_time": "2021-11-18T07:58:30.522Z"
   },
   {
    "duration": 4,
    "start_time": "2021-11-18T07:58:30.661Z"
   },
   {
    "duration": 11,
    "start_time": "2021-11-18T07:58:30.666Z"
   },
   {
    "duration": 16,
    "start_time": "2021-11-18T07:58:30.678Z"
   },
   {
    "duration": 12,
    "start_time": "2021-11-18T07:58:30.696Z"
   },
   {
    "duration": 7,
    "start_time": "2021-11-18T07:58:30.711Z"
   },
   {
    "duration": 5,
    "start_time": "2021-11-18T07:58:30.720Z"
   },
   {
    "duration": 11,
    "start_time": "2021-11-18T07:58:30.727Z"
   },
   {
    "duration": 14,
    "start_time": "2021-11-18T07:58:30.739Z"
   },
   {
    "duration": 11,
    "start_time": "2021-11-18T07:58:30.754Z"
   },
   {
    "duration": 322,
    "start_time": "2021-11-18T07:58:30.768Z"
   },
   {
    "duration": 873,
    "start_time": "2021-11-18T07:58:30.221Z"
   },
   {
    "duration": 872,
    "start_time": "2021-11-18T07:58:30.224Z"
   },
   {
    "duration": 870,
    "start_time": "2021-11-18T07:58:30.227Z"
   },
   {
    "duration": 869,
    "start_time": "2021-11-18T07:58:30.230Z"
   },
   {
    "duration": 866,
    "start_time": "2021-11-18T07:58:30.235Z"
   },
   {
    "duration": 865,
    "start_time": "2021-11-18T07:58:30.237Z"
   },
   {
    "duration": 863,
    "start_time": "2021-11-18T07:58:30.240Z"
   },
   {
    "duration": 862,
    "start_time": "2021-11-18T07:58:30.242Z"
   },
   {
    "duration": 843,
    "start_time": "2021-11-18T07:58:30.262Z"
   },
   {
    "duration": 842,
    "start_time": "2021-11-18T07:58:30.264Z"
   },
   {
    "duration": 840,
    "start_time": "2021-11-18T07:58:30.267Z"
   },
   {
    "duration": 839,
    "start_time": "2021-11-18T07:58:30.269Z"
   },
   {
    "duration": 837,
    "start_time": "2021-11-18T07:58:30.271Z"
   },
   {
    "duration": 835,
    "start_time": "2021-11-18T07:58:30.274Z"
   },
   {
    "duration": 835,
    "start_time": "2021-11-18T07:58:30.276Z"
   },
   {
    "duration": 834,
    "start_time": "2021-11-18T07:58:30.278Z"
   },
   {
    "duration": 833,
    "start_time": "2021-11-18T07:58:30.281Z"
   },
   {
    "duration": 832,
    "start_time": "2021-11-18T07:58:30.283Z"
   },
   {
    "duration": 831,
    "start_time": "2021-11-18T07:58:30.285Z"
   },
   {
    "duration": 830,
    "start_time": "2021-11-18T07:58:30.287Z"
   },
   {
    "duration": 828,
    "start_time": "2021-11-18T07:58:30.290Z"
   },
   {
    "duration": 827,
    "start_time": "2021-11-18T07:58:30.293Z"
   },
   {
    "duration": 826,
    "start_time": "2021-11-18T07:58:30.295Z"
   },
   {
    "duration": 824,
    "start_time": "2021-11-18T07:58:30.298Z"
   },
   {
    "duration": 823,
    "start_time": "2021-11-18T07:58:30.300Z"
   },
   {
    "duration": 822,
    "start_time": "2021-11-18T07:58:30.302Z"
   },
   {
    "duration": 819,
    "start_time": "2021-11-18T07:58:30.306Z"
   },
   {
    "duration": 811,
    "start_time": "2021-11-18T07:58:30.315Z"
   },
   {
    "duration": 808,
    "start_time": "2021-11-18T07:58:30.318Z"
   },
   {
    "duration": 806,
    "start_time": "2021-11-18T07:58:30.321Z"
   },
   {
    "duration": 805,
    "start_time": "2021-11-18T07:58:30.323Z"
   },
   {
    "duration": 803,
    "start_time": "2021-11-18T07:58:30.326Z"
   },
   {
    "duration": 802,
    "start_time": "2021-11-18T07:58:30.328Z"
   },
   {
    "duration": 801,
    "start_time": "2021-11-18T07:58:30.330Z"
   },
   {
    "duration": 858,
    "start_time": "2021-11-18T07:58:30.333Z"
   },
   {
    "duration": 858,
    "start_time": "2021-11-18T07:58:30.335Z"
   },
   {
    "duration": 856,
    "start_time": "2021-11-18T07:58:30.338Z"
   },
   {
    "duration": 855,
    "start_time": "2021-11-18T07:58:30.340Z"
   },
   {
    "duration": 861,
    "start_time": "2021-11-18T07:58:30.342Z"
   },
   {
    "duration": 856,
    "start_time": "2021-11-18T07:58:30.348Z"
   },
   {
    "duration": 854,
    "start_time": "2021-11-18T07:58:30.351Z"
   },
   {
    "duration": 853,
    "start_time": "2021-11-18T07:58:30.353Z"
   },
   {
    "duration": 852,
    "start_time": "2021-11-18T07:58:30.355Z"
   },
   {
    "duration": 851,
    "start_time": "2021-11-18T07:58:30.357Z"
   },
   {
    "duration": 849,
    "start_time": "2021-11-18T07:58:30.360Z"
   },
   {
    "duration": 848,
    "start_time": "2021-11-18T07:58:30.362Z"
   },
   {
    "duration": 658,
    "start_time": "2021-11-18T07:59:16.943Z"
   },
   {
    "duration": 64,
    "start_time": "2021-11-18T07:59:17.604Z"
   },
   {
    "duration": 4,
    "start_time": "2021-11-18T07:59:17.669Z"
   },
   {
    "duration": 7,
    "start_time": "2021-11-18T07:59:17.674Z"
   },
   {
    "duration": 27,
    "start_time": "2021-11-18T07:59:17.682Z"
   },
   {
    "duration": 16,
    "start_time": "2021-11-18T07:59:17.711Z"
   },
   {
    "duration": 4,
    "start_time": "2021-11-18T07:59:17.729Z"
   },
   {
    "duration": 9,
    "start_time": "2021-11-18T07:59:17.735Z"
   },
   {
    "duration": 165,
    "start_time": "2021-11-18T07:59:17.745Z"
   },
   {
    "duration": 6,
    "start_time": "2021-11-18T07:59:17.912Z"
   },
   {
    "duration": 7,
    "start_time": "2021-11-18T07:59:17.920Z"
   },
   {
    "duration": 17,
    "start_time": "2021-11-18T07:59:17.928Z"
   },
   {
    "duration": 7,
    "start_time": "2021-11-18T07:59:17.947Z"
   },
   {
    "duration": 7,
    "start_time": "2021-11-18T07:59:17.955Z"
   },
   {
    "duration": 5,
    "start_time": "2021-11-18T07:59:17.963Z"
   },
   {
    "duration": 12,
    "start_time": "2021-11-18T07:59:17.969Z"
   },
   {
    "duration": 16,
    "start_time": "2021-11-18T07:59:17.989Z"
   },
   {
    "duration": 6,
    "start_time": "2021-11-18T07:59:18.007Z"
   },
   {
    "duration": 311,
    "start_time": "2021-11-18T07:59:18.015Z"
   },
   {
    "duration": 888,
    "start_time": "2021-11-18T07:59:17.442Z"
   },
   {
    "duration": 867,
    "start_time": "2021-11-18T07:59:17.464Z"
   },
   {
    "duration": 865,
    "start_time": "2021-11-18T07:59:17.467Z"
   },
   {
    "duration": 863,
    "start_time": "2021-11-18T07:59:17.469Z"
   },
   {
    "duration": 860,
    "start_time": "2021-11-18T07:59:17.473Z"
   },
   {
    "duration": 853,
    "start_time": "2021-11-18T07:59:17.481Z"
   },
   {
    "duration": 850,
    "start_time": "2021-11-18T07:59:17.485Z"
   },
   {
    "duration": 849,
    "start_time": "2021-11-18T07:59:17.487Z"
   },
   {
    "duration": 847,
    "start_time": "2021-11-18T07:59:17.489Z"
   },
   {
    "duration": 822,
    "start_time": "2021-11-18T07:59:17.515Z"
   },
   {
    "duration": 819,
    "start_time": "2021-11-18T07:59:17.519Z"
   },
   {
    "duration": 817,
    "start_time": "2021-11-18T07:59:17.522Z"
   },
   {
    "duration": 815,
    "start_time": "2021-11-18T07:59:17.525Z"
   },
   {
    "duration": 808,
    "start_time": "2021-11-18T07:59:17.533Z"
   },
   {
    "duration": 806,
    "start_time": "2021-11-18T07:59:17.536Z"
   },
   {
    "duration": 805,
    "start_time": "2021-11-18T07:59:17.538Z"
   },
   {
    "duration": 803,
    "start_time": "2021-11-18T07:59:17.541Z"
   },
   {
    "duration": 796,
    "start_time": "2021-11-18T07:59:17.549Z"
   },
   {
    "duration": 794,
    "start_time": "2021-11-18T07:59:17.552Z"
   },
   {
    "duration": 793,
    "start_time": "2021-11-18T07:59:17.554Z"
   },
   {
    "duration": 792,
    "start_time": "2021-11-18T07:59:17.556Z"
   },
   {
    "duration": 784,
    "start_time": "2021-11-18T07:59:17.565Z"
   },
   {
    "duration": 782,
    "start_time": "2021-11-18T07:59:17.568Z"
   },
   {
    "duration": 781,
    "start_time": "2021-11-18T07:59:17.570Z"
   },
   {
    "duration": 780,
    "start_time": "2021-11-18T07:59:17.572Z"
   },
   {
    "duration": 778,
    "start_time": "2021-11-18T07:59:17.575Z"
   },
   {
    "duration": 771,
    "start_time": "2021-11-18T07:59:17.583Z"
   },
   {
    "duration": 769,
    "start_time": "2021-11-18T07:59:17.586Z"
   },
   {
    "duration": 768,
    "start_time": "2021-11-18T07:59:17.588Z"
   },
   {
    "duration": 767,
    "start_time": "2021-11-18T07:59:17.590Z"
   },
   {
    "duration": 759,
    "start_time": "2021-11-18T07:59:17.599Z"
   },
   {
    "duration": 758,
    "start_time": "2021-11-18T07:59:17.601Z"
   },
   {
    "duration": 757,
    "start_time": "2021-11-18T07:59:17.603Z"
   },
   {
    "duration": 755,
    "start_time": "2021-11-18T07:59:17.606Z"
   },
   {
    "duration": 754,
    "start_time": "2021-11-18T07:59:17.608Z"
   },
   {
    "duration": 746,
    "start_time": "2021-11-18T07:59:17.616Z"
   },
   {
    "duration": 744,
    "start_time": "2021-11-18T07:59:17.619Z"
   },
   {
    "duration": 743,
    "start_time": "2021-11-18T07:59:17.621Z"
   },
   {
    "duration": 742,
    "start_time": "2021-11-18T07:59:17.623Z"
   },
   {
    "duration": 735,
    "start_time": "2021-11-18T07:59:17.631Z"
   },
   {
    "duration": 734,
    "start_time": "2021-11-18T07:59:17.633Z"
   },
   {
    "duration": 751,
    "start_time": "2021-11-18T07:59:17.636Z"
   },
   {
    "duration": 750,
    "start_time": "2021-11-18T07:59:17.638Z"
   },
   {
    "duration": 749,
    "start_time": "2021-11-18T07:59:17.640Z"
   },
   {
    "duration": 746,
    "start_time": "2021-11-18T07:59:17.643Z"
   },
   {
    "duration": 745,
    "start_time": "2021-11-18T07:59:17.645Z"
   },
   {
    "duration": 6762,
    "start_time": "2021-11-18T08:00:04.983Z"
   },
   {
    "duration": 3,
    "start_time": "2021-11-18T08:00:14.431Z"
   },
   {
    "duration": 76,
    "start_time": "2021-11-18T08:00:14.436Z"
   },
   {
    "duration": 3,
    "start_time": "2021-11-18T08:00:14.514Z"
   },
   {
    "duration": 8,
    "start_time": "2021-11-18T08:00:14.519Z"
   },
   {
    "duration": 14,
    "start_time": "2021-11-18T08:00:14.528Z"
   },
   {
    "duration": 47,
    "start_time": "2021-11-18T08:00:14.543Z"
   },
   {
    "duration": 7,
    "start_time": "2021-11-18T08:00:14.593Z"
   },
   {
    "duration": 21,
    "start_time": "2021-11-18T08:00:14.602Z"
   },
   {
    "duration": 137,
    "start_time": "2021-11-18T08:00:14.625Z"
   },
   {
    "duration": 4,
    "start_time": "2021-11-18T08:00:14.764Z"
   },
   {
    "duration": 5,
    "start_time": "2021-11-18T08:00:14.770Z"
   },
   {
    "duration": 18,
    "start_time": "2021-11-18T08:00:14.777Z"
   },
   {
    "duration": 7,
    "start_time": "2021-11-18T08:00:14.797Z"
   },
   {
    "duration": 7,
    "start_time": "2021-11-18T08:00:14.806Z"
   },
   {
    "duration": 9,
    "start_time": "2021-11-18T08:00:14.814Z"
   },
   {
    "duration": 7,
    "start_time": "2021-11-18T08:00:14.824Z"
   },
   {
    "duration": 9,
    "start_time": "2021-11-18T08:00:14.833Z"
   },
   {
    "duration": 6,
    "start_time": "2021-11-18T08:00:14.843Z"
   },
   {
    "duration": 572,
    "start_time": "2021-11-18T08:00:14.853Z"
   },
   {
    "duration": 867,
    "start_time": "2021-11-18T08:00:14.561Z"
   },
   {
    "duration": 864,
    "start_time": "2021-11-18T08:00:14.564Z"
   },
   {
    "duration": 862,
    "start_time": "2021-11-18T08:00:14.567Z"
   },
   {
    "duration": 861,
    "start_time": "2021-11-18T08:00:14.569Z"
   },
   {
    "duration": 860,
    "start_time": "2021-11-18T08:00:14.571Z"
   },
   {
    "duration": 859,
    "start_time": "2021-11-18T08:00:14.573Z"
   },
   {
    "duration": 858,
    "start_time": "2021-11-18T08:00:14.575Z"
   },
   {
    "duration": 856,
    "start_time": "2021-11-18T08:00:14.578Z"
   },
   {
    "duration": 855,
    "start_time": "2021-11-18T08:00:14.580Z"
   },
   {
    "duration": 833,
    "start_time": "2021-11-18T08:00:14.602Z"
   },
   {
    "duration": 831,
    "start_time": "2021-11-18T08:00:14.605Z"
   },
   {
    "duration": 829,
    "start_time": "2021-11-18T08:00:14.608Z"
   },
   {
    "duration": 828,
    "start_time": "2021-11-18T08:00:14.610Z"
   },
   {
    "duration": 826,
    "start_time": "2021-11-18T08:00:14.613Z"
   },
   {
    "duration": 825,
    "start_time": "2021-11-18T08:00:14.615Z"
   },
   {
    "duration": 823,
    "start_time": "2021-11-18T08:00:14.618Z"
   },
   {
    "duration": 822,
    "start_time": "2021-11-18T08:00:14.620Z"
   },
   {
    "duration": 820,
    "start_time": "2021-11-18T08:00:14.623Z"
   },
   {
    "duration": 818,
    "start_time": "2021-11-18T08:00:14.625Z"
   },
   {
    "duration": 816,
    "start_time": "2021-11-18T08:00:14.628Z"
   },
   {
    "duration": 815,
    "start_time": "2021-11-18T08:00:14.630Z"
   },
   {
    "duration": 813,
    "start_time": "2021-11-18T08:00:14.633Z"
   },
   {
    "duration": 812,
    "start_time": "2021-11-18T08:00:14.635Z"
   },
   {
    "duration": 810,
    "start_time": "2021-11-18T08:00:14.638Z"
   },
   {
    "duration": 809,
    "start_time": "2021-11-18T08:00:14.640Z"
   },
   {
    "duration": 808,
    "start_time": "2021-11-18T08:00:14.642Z"
   },
   {
    "duration": 807,
    "start_time": "2021-11-18T08:00:14.644Z"
   },
   {
    "duration": 805,
    "start_time": "2021-11-18T08:00:14.647Z"
   },
   {
    "duration": 803,
    "start_time": "2021-11-18T08:00:14.649Z"
   },
   {
    "duration": 802,
    "start_time": "2021-11-18T08:00:14.651Z"
   },
   {
    "duration": 801,
    "start_time": "2021-11-18T08:00:14.653Z"
   },
   {
    "duration": 800,
    "start_time": "2021-11-18T08:00:14.655Z"
   },
   {
    "duration": 779,
    "start_time": "2021-11-18T08:00:14.677Z"
   },
   {
    "duration": 776,
    "start_time": "2021-11-18T08:00:14.681Z"
   },
   {
    "duration": 774,
    "start_time": "2021-11-18T08:00:14.684Z"
   },
   {
    "duration": 772,
    "start_time": "2021-11-18T08:00:14.687Z"
   },
   {
    "duration": 767,
    "start_time": "2021-11-18T08:00:14.692Z"
   },
   {
    "duration": 764,
    "start_time": "2021-11-18T08:00:14.696Z"
   },
   {
    "duration": 762,
    "start_time": "2021-11-18T08:00:14.699Z"
   },
   {
    "duration": 758,
    "start_time": "2021-11-18T08:00:14.704Z"
   },
   {
    "duration": 756,
    "start_time": "2021-11-18T08:00:14.707Z"
   },
   {
    "duration": 776,
    "start_time": "2021-11-18T08:00:14.711Z"
   },
   {
    "duration": 773,
    "start_time": "2021-11-18T08:00:14.715Z"
   },
   {
    "duration": 770,
    "start_time": "2021-11-18T08:00:14.720Z"
   },
   {
    "duration": 760,
    "start_time": "2021-11-18T08:00:14.731Z"
   },
   {
    "duration": 757,
    "start_time": "2021-11-18T08:00:14.735Z"
   },
   {
    "duration": 4,
    "start_time": "2021-11-18T08:02:30.994Z"
   },
   {
    "duration": 76,
    "start_time": "2021-11-18T08:02:31.000Z"
   },
   {
    "duration": 3,
    "start_time": "2021-11-18T08:02:31.078Z"
   },
   {
    "duration": 31,
    "start_time": "2021-11-18T08:02:31.083Z"
   },
   {
    "duration": 24,
    "start_time": "2021-11-18T08:02:31.116Z"
   },
   {
    "duration": 15,
    "start_time": "2021-11-18T08:02:31.141Z"
   },
   {
    "duration": 4,
    "start_time": "2021-11-18T08:02:31.158Z"
   },
   {
    "duration": 9,
    "start_time": "2021-11-18T08:02:31.164Z"
   },
   {
    "duration": 138,
    "start_time": "2021-11-18T08:02:31.174Z"
   },
   {
    "duration": 4,
    "start_time": "2021-11-18T08:02:31.314Z"
   },
   {
    "duration": 12,
    "start_time": "2021-11-18T08:02:31.319Z"
   },
   {
    "duration": 27,
    "start_time": "2021-11-18T08:02:31.333Z"
   },
   {
    "duration": 10,
    "start_time": "2021-11-18T08:02:31.361Z"
   },
   {
    "duration": 19,
    "start_time": "2021-11-18T08:02:31.372Z"
   },
   {
    "duration": 41,
    "start_time": "2021-11-18T08:02:31.393Z"
   },
   {
    "duration": 28,
    "start_time": "2021-11-18T08:02:31.436Z"
   },
   {
    "duration": 29,
    "start_time": "2021-11-18T08:02:31.465Z"
   },
   {
    "duration": 17,
    "start_time": "2021-11-18T08:02:31.496Z"
   },
   {
    "duration": 12,
    "start_time": "2021-11-18T08:02:31.516Z"
   },
   {
    "duration": 36,
    "start_time": "2021-11-18T08:02:31.530Z"
   },
   {
    "duration": 15,
    "start_time": "2021-11-18T08:02:31.568Z"
   },
   {
    "duration": 35,
    "start_time": "2021-11-18T08:02:31.585Z"
   },
   {
    "duration": 23,
    "start_time": "2021-11-18T08:02:31.621Z"
   },
   {
    "duration": 19,
    "start_time": "2021-11-18T08:02:31.645Z"
   },
   {
    "duration": 24,
    "start_time": "2021-11-18T08:02:31.665Z"
   },
   {
    "duration": 31,
    "start_time": "2021-11-18T08:02:31.691Z"
   },
   {
    "duration": 19,
    "start_time": "2021-11-18T08:02:31.723Z"
   },
   {
    "duration": 38,
    "start_time": "2021-11-18T08:02:31.743Z"
   },
   {
    "duration": 5,
    "start_time": "2021-11-18T08:02:31.783Z"
   },
   {
    "duration": 18,
    "start_time": "2021-11-18T08:02:31.790Z"
   },
   {
    "duration": 13,
    "start_time": "2021-11-18T08:02:31.810Z"
   },
   {
    "duration": 19,
    "start_time": "2021-11-18T08:02:31.825Z"
   },
   {
    "duration": 6,
    "start_time": "2021-11-18T08:02:31.846Z"
   },
   {
    "duration": 5,
    "start_time": "2021-11-18T08:02:31.853Z"
   },
   {
    "duration": 5,
    "start_time": "2021-11-18T08:02:31.860Z"
   },
   {
    "duration": 44,
    "start_time": "2021-11-18T08:02:31.867Z"
   },
   {
    "duration": 3,
    "start_time": "2021-11-18T08:02:31.913Z"
   },
   {
    "duration": 374,
    "start_time": "2021-11-18T08:02:31.918Z"
   },
   {
    "duration": 3,
    "start_time": "2021-11-18T08:02:32.294Z"
   },
   {
    "duration": 31358,
    "start_time": "2021-11-18T08:02:32.298Z"
   },
   {
    "duration": 11,
    "start_time": "2021-11-18T08:03:03.658Z"
   },
   {
    "duration": 42,
    "start_time": "2021-11-18T08:03:03.670Z"
   },
   {
    "duration": 27,
    "start_time": "2021-11-18T08:03:03.714Z"
   },
   {
    "duration": 10,
    "start_time": "2021-11-18T08:03:03.743Z"
   },
   {
    "duration": 6,
    "start_time": "2021-11-18T08:03:03.754Z"
   },
   {
    "duration": 3754,
    "start_time": "2021-11-18T08:03:03.762Z"
   },
   {
    "duration": 14,
    "start_time": "2021-11-18T08:03:07.518Z"
   },
   {
    "duration": 3871,
    "start_time": "2021-11-18T08:03:07.534Z"
   },
   {
    "duration": 6,
    "start_time": "2021-11-18T08:03:11.407Z"
   },
   {
    "duration": 19,
    "start_time": "2021-11-18T08:03:11.415Z"
   },
   {
    "duration": 10,
    "start_time": "2021-11-18T08:03:11.436Z"
   },
   {
    "duration": 13,
    "start_time": "2021-11-18T08:03:11.447Z"
   },
   {
    "duration": 31,
    "start_time": "2021-11-18T08:03:11.462Z"
   },
   {
    "duration": 22,
    "start_time": "2021-11-18T08:03:11.494Z"
   },
   {
    "duration": 30,
    "start_time": "2021-11-18T08:03:11.520Z"
   },
   {
    "duration": 37,
    "start_time": "2021-11-18T08:03:11.552Z"
   },
   {
    "duration": 21,
    "start_time": "2021-11-18T08:03:11.590Z"
   },
   {
    "duration": 18,
    "start_time": "2021-11-18T08:03:11.613Z"
   },
   {
    "duration": 17,
    "start_time": "2021-11-18T08:03:11.634Z"
   },
   {
    "duration": 49,
    "start_time": "2021-11-18T08:03:11.653Z"
   },
   {
    "duration": 25,
    "start_time": "2021-11-18T08:03:11.704Z"
   },
   {
    "duration": 23,
    "start_time": "2021-11-18T08:03:11.730Z"
   },
   {
    "duration": 48,
    "start_time": "2021-11-18T08:03:11.755Z"
   },
   {
    "duration": 26,
    "start_time": "2021-11-18T08:03:11.805Z"
   },
   {
    "duration": 21,
    "start_time": "2021-11-18T08:03:11.833Z"
   },
   {
    "duration": 7,
    "start_time": "2021-11-18T08:25:30.626Z"
   },
   {
    "duration": 13,
    "start_time": "2021-11-18T08:25:57.198Z"
   },
   {
    "duration": 6106,
    "start_time": "2021-11-18T08:26:09.000Z"
   },
   {
    "duration": 83,
    "start_time": "2021-11-18T08:26:28.429Z"
   },
   {
    "duration": 74,
    "start_time": "2021-11-18T08:26:45.740Z"
   },
   {
    "duration": 9,
    "start_time": "2021-11-18T08:28:25.257Z"
   },
   {
    "duration": 65,
    "start_time": "2021-11-18T08:29:23.117Z"
   },
   {
    "duration": 2,
    "start_time": "2021-11-18T08:29:25.376Z"
   },
   {
    "duration": 18,
    "start_time": "2021-11-18T08:29:26.028Z"
   },
   {
    "duration": 102,
    "start_time": "2021-11-18T08:29:33.510Z"
   },
   {
    "duration": 2,
    "start_time": "2021-11-18T08:29:33.865Z"
   },
   {
    "duration": 7,
    "start_time": "2021-11-18T08:29:34.358Z"
   },
   {
    "duration": 6,
    "start_time": "2021-11-18T08:29:42.325Z"
   },
   {
    "duration": 4,
    "start_time": "2021-11-18T08:31:19.827Z"
   },
   {
    "duration": 2,
    "start_time": "2021-11-18T08:31:20.280Z"
   },
   {
    "duration": 7,
    "start_time": "2021-11-18T08:31:20.674Z"
   },
   {
    "duration": 5,
    "start_time": "2021-11-18T08:31:21.249Z"
   },
   {
    "duration": 2,
    "start_time": "2021-11-18T08:31:32.705Z"
   },
   {
    "duration": 69,
    "start_time": "2021-11-18T08:31:32.709Z"
   },
   {
    "duration": 4,
    "start_time": "2021-11-18T08:31:32.779Z"
   },
   {
    "duration": 12,
    "start_time": "2021-11-18T08:31:32.784Z"
   },
   {
    "duration": 14,
    "start_time": "2021-11-18T08:31:32.798Z"
   },
   {
    "duration": 14,
    "start_time": "2021-11-18T08:31:32.813Z"
   },
   {
    "duration": 5,
    "start_time": "2021-11-18T08:31:32.829Z"
   },
   {
    "duration": 7,
    "start_time": "2021-11-18T08:31:32.836Z"
   },
   {
    "duration": 163,
    "start_time": "2021-11-18T08:31:32.845Z"
   },
   {
    "duration": 3,
    "start_time": "2021-11-18T08:31:33.010Z"
   },
   {
    "duration": 13,
    "start_time": "2021-11-18T08:31:33.015Z"
   },
   {
    "duration": 15,
    "start_time": "2021-11-18T08:31:33.030Z"
   },
   {
    "duration": 20,
    "start_time": "2021-11-18T08:31:33.046Z"
   },
   {
    "duration": 8,
    "start_time": "2021-11-18T08:31:33.068Z"
   },
   {
    "duration": 16,
    "start_time": "2021-11-18T08:31:33.077Z"
   },
   {
    "duration": 8,
    "start_time": "2021-11-18T08:31:33.094Z"
   },
   {
    "duration": 17,
    "start_time": "2021-11-18T08:31:33.103Z"
   },
   {
    "duration": 7,
    "start_time": "2021-11-18T08:31:33.122Z"
   },
   {
    "duration": 72,
    "start_time": "2021-11-18T08:31:33.132Z"
   },
   {
    "duration": 2,
    "start_time": "2021-11-18T08:31:33.206Z"
   },
   {
    "duration": 17,
    "start_time": "2021-11-18T08:31:33.210Z"
   },
   {
    "duration": 22,
    "start_time": "2021-11-18T08:31:33.229Z"
   },
   {
    "duration": 22,
    "start_time": "2021-11-18T08:31:33.252Z"
   },
   {
    "duration": 35,
    "start_time": "2021-11-18T08:31:33.275Z"
   },
   {
    "duration": 33,
    "start_time": "2021-11-18T08:31:33.311Z"
   },
   {
    "duration": 30,
    "start_time": "2021-11-18T08:31:33.345Z"
   },
   {
    "duration": 35,
    "start_time": "2021-11-18T08:31:33.377Z"
   },
   {
    "duration": 36,
    "start_time": "2021-11-18T08:31:33.413Z"
   },
   {
    "duration": 34,
    "start_time": "2021-11-18T08:31:33.451Z"
   },
   {
    "duration": 10,
    "start_time": "2021-11-18T08:31:33.486Z"
   },
   {
    "duration": 36,
    "start_time": "2021-11-18T08:31:33.498Z"
   },
   {
    "duration": 45,
    "start_time": "2021-11-18T08:31:33.536Z"
   },
   {
    "duration": 36,
    "start_time": "2021-11-18T08:31:33.582Z"
   },
   {
    "duration": 41,
    "start_time": "2021-11-18T08:31:33.620Z"
   },
   {
    "duration": 31,
    "start_time": "2021-11-18T08:31:33.662Z"
   },
   {
    "duration": 24,
    "start_time": "2021-11-18T08:31:33.694Z"
   },
   {
    "duration": 55,
    "start_time": "2021-11-18T08:31:33.719Z"
   },
   {
    "duration": 12,
    "start_time": "2021-11-18T08:31:33.775Z"
   },
   {
    "duration": 376,
    "start_time": "2021-11-18T08:31:33.789Z"
   },
   {
    "duration": 3,
    "start_time": "2021-11-18T08:31:34.167Z"
   },
   {
    "duration": 29201,
    "start_time": "2021-11-18T08:31:34.171Z"
   },
   {
    "duration": 14,
    "start_time": "2021-11-18T08:32:03.374Z"
   },
   {
    "duration": 26,
    "start_time": "2021-11-18T08:32:03.390Z"
   },
   {
    "duration": 24,
    "start_time": "2021-11-18T08:32:03.418Z"
   },
   {
    "duration": 9,
    "start_time": "2021-11-18T08:32:03.443Z"
   },
   {
    "duration": 41,
    "start_time": "2021-11-18T08:32:03.453Z"
   },
   {
    "duration": 3258,
    "start_time": "2021-11-18T08:32:03.495Z"
   },
   {
    "duration": 14,
    "start_time": "2021-11-18T08:32:06.755Z"
   },
   {
    "duration": 3809,
    "start_time": "2021-11-18T08:32:06.770Z"
   },
   {
    "duration": 15,
    "start_time": "2021-11-18T08:32:10.581Z"
   },
   {
    "duration": 13,
    "start_time": "2021-11-18T08:32:10.597Z"
   },
   {
    "duration": 18,
    "start_time": "2021-11-18T08:32:10.611Z"
   },
   {
    "duration": 12,
    "start_time": "2021-11-18T08:32:10.631Z"
   },
   {
    "duration": 11,
    "start_time": "2021-11-18T08:32:10.645Z"
   },
   {
    "duration": 15,
    "start_time": "2021-11-18T08:32:10.661Z"
   },
   {
    "duration": 28,
    "start_time": "2021-11-18T08:32:10.688Z"
   },
   {
    "duration": 16,
    "start_time": "2021-11-18T08:32:10.718Z"
   },
   {
    "duration": 16,
    "start_time": "2021-11-18T08:32:10.735Z"
   },
   {
    "duration": 36,
    "start_time": "2021-11-18T08:32:10.752Z"
   },
   {
    "duration": 15,
    "start_time": "2021-11-18T08:32:10.790Z"
   },
   {
    "duration": 22,
    "start_time": "2021-11-18T08:32:10.806Z"
   },
   {
    "duration": 19,
    "start_time": "2021-11-18T08:32:10.830Z"
   },
   {
    "duration": 46,
    "start_time": "2021-11-18T08:32:10.850Z"
   },
   {
    "duration": 21,
    "start_time": "2021-11-18T08:32:10.898Z"
   },
   {
    "duration": 22,
    "start_time": "2021-11-18T08:32:10.920Z"
   },
   {
    "duration": 22,
    "start_time": "2021-11-18T08:32:10.943Z"
   },
   {
    "duration": 24,
    "start_time": "2021-11-18T08:32:10.966Z"
   },
   {
    "duration": 6,
    "start_time": "2021-11-18T08:35:14.077Z"
   },
   {
    "duration": 2,
    "start_time": "2021-11-18T08:35:14.404Z"
   },
   {
    "duration": 3,
    "start_time": "2021-11-18T08:35:15.027Z"
   },
   {
    "duration": 8,
    "start_time": "2021-11-18T08:35:15.349Z"
   },
   {
    "duration": 5,
    "start_time": "2021-11-18T08:35:15.835Z"
   },
   {
    "duration": 3,
    "start_time": "2021-11-18T08:35:18.962Z"
   },
   {
    "duration": 80,
    "start_time": "2021-11-18T08:35:18.967Z"
   },
   {
    "duration": 3,
    "start_time": "2021-11-18T08:35:19.049Z"
   },
   {
    "duration": 33,
    "start_time": "2021-11-18T08:35:19.054Z"
   },
   {
    "duration": 23,
    "start_time": "2021-11-18T08:35:19.089Z"
   },
   {
    "duration": 21,
    "start_time": "2021-11-18T08:35:19.114Z"
   },
   {
    "duration": 5,
    "start_time": "2021-11-18T08:35:19.137Z"
   },
   {
    "duration": 36,
    "start_time": "2021-11-18T08:35:19.143Z"
   },
   {
    "duration": 128,
    "start_time": "2021-11-18T08:35:19.180Z"
   },
   {
    "duration": 4,
    "start_time": "2021-11-18T08:35:19.309Z"
   },
   {
    "duration": 24,
    "start_time": "2021-11-18T08:35:19.315Z"
   },
   {
    "duration": 26,
    "start_time": "2021-11-18T08:35:19.340Z"
   },
   {
    "duration": 19,
    "start_time": "2021-11-18T08:35:19.368Z"
   },
   {
    "duration": 30,
    "start_time": "2021-11-18T08:35:19.388Z"
   },
   {
    "duration": 23,
    "start_time": "2021-11-18T08:35:19.419Z"
   },
   {
    "duration": 15,
    "start_time": "2021-11-18T08:35:19.443Z"
   },
   {
    "duration": 29,
    "start_time": "2021-11-18T08:35:19.460Z"
   },
   {
    "duration": 16,
    "start_time": "2021-11-18T08:35:19.490Z"
   },
   {
    "duration": 17,
    "start_time": "2021-11-18T08:35:19.509Z"
   },
   {
    "duration": 28,
    "start_time": "2021-11-18T08:35:19.528Z"
   },
   {
    "duration": 31,
    "start_time": "2021-11-18T08:35:19.558Z"
   },
   {
    "duration": 16,
    "start_time": "2021-11-18T08:35:19.591Z"
   },
   {
    "duration": 15,
    "start_time": "2021-11-18T08:35:19.608Z"
   },
   {
    "duration": 32,
    "start_time": "2021-11-18T08:35:19.624Z"
   },
   {
    "duration": 24,
    "start_time": "2021-11-18T08:35:19.657Z"
   },
   {
    "duration": 49,
    "start_time": "2021-11-18T08:35:19.682Z"
   },
   {
    "duration": 26,
    "start_time": "2021-11-18T08:35:19.732Z"
   },
   {
    "duration": 23,
    "start_time": "2021-11-18T08:35:19.759Z"
   },
   {
    "duration": 41,
    "start_time": "2021-11-18T08:35:19.783Z"
   },
   {
    "duration": 18,
    "start_time": "2021-11-18T08:35:19.825Z"
   },
   {
    "duration": 31,
    "start_time": "2021-11-18T08:35:19.844Z"
   },
   {
    "duration": 34,
    "start_time": "2021-11-18T08:35:19.876Z"
   },
   {
    "duration": 29,
    "start_time": "2021-11-18T08:35:19.911Z"
   },
   {
    "duration": 29,
    "start_time": "2021-11-18T08:35:19.941Z"
   },
   {
    "duration": 24,
    "start_time": "2021-11-18T08:35:19.971Z"
   },
   {
    "duration": 32,
    "start_time": "2021-11-18T08:35:19.996Z"
   },
   {
    "duration": 34,
    "start_time": "2021-11-18T08:35:20.030Z"
   },
   {
    "duration": 13,
    "start_time": "2021-11-18T08:35:20.066Z"
   },
   {
    "duration": 364,
    "start_time": "2021-11-18T08:35:20.081Z"
   },
   {
    "duration": 3,
    "start_time": "2021-11-18T08:35:20.447Z"
   },
   {
    "duration": 28844,
    "start_time": "2021-11-18T08:35:20.451Z"
   },
   {
    "duration": 10,
    "start_time": "2021-11-18T08:35:49.297Z"
   },
   {
    "duration": 32,
    "start_time": "2021-11-18T08:35:49.308Z"
   },
   {
    "duration": 25,
    "start_time": "2021-11-18T08:35:49.341Z"
   },
   {
    "duration": 26,
    "start_time": "2021-11-18T08:35:49.367Z"
   },
   {
    "duration": 20,
    "start_time": "2021-11-18T08:35:49.394Z"
   },
   {
    "duration": 3201,
    "start_time": "2021-11-18T08:35:49.416Z"
   },
   {
    "duration": 13,
    "start_time": "2021-11-18T08:35:52.619Z"
   },
   {
    "duration": 3592,
    "start_time": "2021-11-18T08:35:52.634Z"
   },
   {
    "duration": 3,
    "start_time": "2021-11-18T08:35:56.228Z"
   },
   {
    "duration": 11,
    "start_time": "2021-11-18T08:35:56.232Z"
   },
   {
    "duration": 19,
    "start_time": "2021-11-18T08:35:56.245Z"
   },
   {
    "duration": 13,
    "start_time": "2021-11-18T08:35:56.265Z"
   },
   {
    "duration": 11,
    "start_time": "2021-11-18T08:35:56.287Z"
   },
   {
    "duration": 17,
    "start_time": "2021-11-18T08:35:56.302Z"
   },
   {
    "duration": 27,
    "start_time": "2021-11-18T08:35:56.320Z"
   },
   {
    "duration": 16,
    "start_time": "2021-11-18T08:35:56.349Z"
   },
   {
    "duration": 17,
    "start_time": "2021-11-18T08:35:56.388Z"
   },
   {
    "duration": 16,
    "start_time": "2021-11-18T08:35:56.406Z"
   },
   {
    "duration": 15,
    "start_time": "2021-11-18T08:35:56.424Z"
   },
   {
    "duration": 48,
    "start_time": "2021-11-18T08:35:56.441Z"
   },
   {
    "duration": 21,
    "start_time": "2021-11-18T08:35:56.491Z"
   },
   {
    "duration": 21,
    "start_time": "2021-11-18T08:35:56.514Z"
   },
   {
    "duration": 23,
    "start_time": "2021-11-18T08:35:56.536Z"
   },
   {
    "duration": 48,
    "start_time": "2021-11-18T08:35:56.560Z"
   },
   {
    "duration": 24,
    "start_time": "2021-11-18T08:35:56.609Z"
   },
   {
    "duration": 114,
    "start_time": "2021-11-18T08:38:51.718Z"
   },
   {
    "duration": 3,
    "start_time": "2021-11-18T08:47:31.143Z"
   },
   {
    "duration": 76,
    "start_time": "2021-11-18T08:47:31.148Z"
   },
   {
    "duration": 4,
    "start_time": "2021-11-18T08:47:31.226Z"
   },
   {
    "duration": 27,
    "start_time": "2021-11-18T08:47:31.232Z"
   },
   {
    "duration": 47,
    "start_time": "2021-11-18T08:47:31.261Z"
   },
   {
    "duration": 25,
    "start_time": "2021-11-18T08:47:31.310Z"
   },
   {
    "duration": 8,
    "start_time": "2021-11-18T08:47:31.337Z"
   },
   {
    "duration": 22,
    "start_time": "2021-11-18T08:47:31.347Z"
   },
   {
    "duration": 189,
    "start_time": "2021-11-18T08:47:31.371Z"
   },
   {
    "duration": 4,
    "start_time": "2021-11-18T08:47:31.562Z"
   },
   {
    "duration": 16,
    "start_time": "2021-11-18T08:47:31.568Z"
   },
   {
    "duration": 14,
    "start_time": "2021-11-18T08:47:31.585Z"
   },
   {
    "duration": 17,
    "start_time": "2021-11-18T08:47:31.600Z"
   },
   {
    "duration": 27,
    "start_time": "2021-11-18T08:47:31.619Z"
   },
   {
    "duration": 46,
    "start_time": "2021-11-18T08:47:31.647Z"
   },
   {
    "duration": 20,
    "start_time": "2021-11-18T08:47:31.694Z"
   },
   {
    "duration": 15,
    "start_time": "2021-11-18T08:47:31.716Z"
   },
   {
    "duration": 12,
    "start_time": "2021-11-18T08:47:31.732Z"
   },
   {
    "duration": 13,
    "start_time": "2021-11-18T08:47:31.747Z"
   },
   {
    "duration": 304,
    "start_time": "2021-11-18T08:47:31.762Z"
   },
   {
    "duration": 2,
    "start_time": "2021-11-18T08:47:32.067Z"
   },
   {
    "duration": 23,
    "start_time": "2021-11-18T08:47:32.070Z"
   },
   {
    "duration": 4,
    "start_time": "2021-11-18T08:47:32.095Z"
   },
   {
    "duration": 6,
    "start_time": "2021-11-18T08:47:32.101Z"
   },
   {
    "duration": 17,
    "start_time": "2021-11-18T08:47:32.108Z"
   },
   {
    "duration": 8,
    "start_time": "2021-11-18T08:47:32.126Z"
   },
   {
    "duration": 27,
    "start_time": "2021-11-18T08:47:32.135Z"
   },
   {
    "duration": 13,
    "start_time": "2021-11-18T08:47:32.163Z"
   },
   {
    "duration": 10,
    "start_time": "2021-11-18T08:47:32.177Z"
   },
   {
    "duration": 27,
    "start_time": "2021-11-18T08:47:32.188Z"
   },
   {
    "duration": 5,
    "start_time": "2021-11-18T08:47:32.217Z"
   },
   {
    "duration": 17,
    "start_time": "2021-11-18T08:47:32.224Z"
   },
   {
    "duration": 11,
    "start_time": "2021-11-18T08:47:32.243Z"
   },
   {
    "duration": 20,
    "start_time": "2021-11-18T08:47:32.255Z"
   },
   {
    "duration": 8,
    "start_time": "2021-11-18T08:47:32.277Z"
   },
   {
    "duration": 8,
    "start_time": "2021-11-18T08:47:32.287Z"
   },
   {
    "duration": 6,
    "start_time": "2021-11-18T08:47:32.297Z"
   },
   {
    "duration": 43,
    "start_time": "2021-11-18T08:47:32.305Z"
   },
   {
    "duration": 2,
    "start_time": "2021-11-18T08:47:32.350Z"
   },
   {
    "duration": 362,
    "start_time": "2021-11-18T08:47:32.354Z"
   },
   {
    "duration": 2,
    "start_time": "2021-11-18T08:47:32.718Z"
   },
   {
    "duration": 40012,
    "start_time": "2021-11-18T08:47:32.722Z"
   },
   {
    "duration": 11,
    "start_time": "2021-11-18T08:48:12.736Z"
   },
   {
    "duration": 39,
    "start_time": "2021-11-18T08:48:12.749Z"
   },
   {
    "duration": 26,
    "start_time": "2021-11-18T08:48:12.790Z"
   },
   {
    "duration": 10,
    "start_time": "2021-11-18T08:48:12.818Z"
   },
   {
    "duration": 21,
    "start_time": "2021-11-18T08:48:12.830Z"
   },
   {
    "duration": 3174,
    "start_time": "2021-11-18T08:48:12.852Z"
   },
   {
    "duration": 13,
    "start_time": "2021-11-18T08:48:16.028Z"
   },
   {
    "duration": 6,
    "start_time": "2021-11-18T08:48:20.495Z"
   },
   {
    "duration": 65,
    "start_time": "2021-11-18T08:48:20.502Z"
   },
   {
    "duration": 3,
    "start_time": "2021-11-18T08:48:20.568Z"
   },
   {
    "duration": 17,
    "start_time": "2021-11-18T08:48:20.573Z"
   },
   {
    "duration": 13,
    "start_time": "2021-11-18T08:48:20.592Z"
   },
   {
    "duration": 16,
    "start_time": "2021-11-18T08:48:20.606Z"
   },
   {
    "duration": 7,
    "start_time": "2021-11-18T08:48:20.624Z"
   },
   {
    "duration": 60,
    "start_time": "2021-11-18T08:48:20.633Z"
   },
   {
    "duration": 193,
    "start_time": "2021-11-18T08:48:20.695Z"
   },
   {
    "duration": 4,
    "start_time": "2021-11-18T08:48:20.889Z"
   },
   {
    "duration": 11,
    "start_time": "2021-11-18T08:48:20.894Z"
   },
   {
    "duration": 20,
    "start_time": "2021-11-18T08:48:20.907Z"
   },
   {
    "duration": 20,
    "start_time": "2021-11-18T08:48:20.928Z"
   },
   {
    "duration": 25,
    "start_time": "2021-11-18T08:48:20.950Z"
   },
   {
    "duration": 5,
    "start_time": "2021-11-18T08:48:20.988Z"
   },
   {
    "duration": 22,
    "start_time": "2021-11-18T08:48:20.994Z"
   },
   {
    "duration": 17,
    "start_time": "2021-11-18T08:48:21.017Z"
   },
   {
    "duration": 9,
    "start_time": "2021-11-18T08:48:21.035Z"
   },
   {
    "duration": 27,
    "start_time": "2021-11-18T08:48:21.046Z"
   },
   {
    "duration": 382,
    "start_time": "2021-11-18T08:48:21.088Z"
   },
   {
    "duration": 2,
    "start_time": "2021-11-18T08:48:21.472Z"
   },
   {
    "duration": 26,
    "start_time": "2021-11-18T08:48:21.475Z"
   },
   {
    "duration": 21,
    "start_time": "2021-11-18T08:48:21.502Z"
   },
   {
    "duration": 21,
    "start_time": "2021-11-18T08:48:21.524Z"
   },
   {
    "duration": 29,
    "start_time": "2021-11-18T08:48:21.546Z"
   },
   {
    "duration": 26,
    "start_time": "2021-11-18T08:48:21.576Z"
   },
   {
    "duration": 23,
    "start_time": "2021-11-18T08:48:21.604Z"
   },
   {
    "duration": 21,
    "start_time": "2021-11-18T08:48:21.628Z"
   },
   {
    "duration": 6,
    "start_time": "2021-11-18T08:48:21.650Z"
   },
   {
    "duration": 27,
    "start_time": "2021-11-18T08:48:21.657Z"
   },
   {
    "duration": 6,
    "start_time": "2021-11-18T08:48:21.686Z"
   },
   {
    "duration": 24,
    "start_time": "2021-11-18T08:48:21.693Z"
   },
   {
    "duration": 17,
    "start_time": "2021-11-18T08:48:21.718Z"
   },
   {
    "duration": 23,
    "start_time": "2021-11-18T08:48:21.736Z"
   },
   {
    "duration": 5,
    "start_time": "2021-11-18T08:48:21.761Z"
   },
   {
    "duration": 17,
    "start_time": "2021-11-18T08:48:21.767Z"
   },
   {
    "duration": 16,
    "start_time": "2021-11-18T08:48:21.785Z"
   },
   {
    "duration": 35,
    "start_time": "2021-11-18T08:48:21.803Z"
   },
   {
    "duration": 2,
    "start_time": "2021-11-18T08:48:21.840Z"
   },
   {
    "duration": 359,
    "start_time": "2021-11-18T08:48:21.844Z"
   },
   {
    "duration": 3,
    "start_time": "2021-11-18T08:48:22.205Z"
   },
   {
    "duration": 29980,
    "start_time": "2021-11-18T08:48:22.210Z"
   },
   {
    "duration": 10,
    "start_time": "2021-11-18T08:48:52.191Z"
   },
   {
    "duration": 31,
    "start_time": "2021-11-18T08:48:52.203Z"
   },
   {
    "duration": 25,
    "start_time": "2021-11-18T08:48:52.235Z"
   },
   {
    "duration": 26,
    "start_time": "2021-11-18T08:48:52.262Z"
   },
   {
    "duration": 24,
    "start_time": "2021-11-18T08:48:52.290Z"
   },
   {
    "duration": 3484,
    "start_time": "2021-11-18T08:48:52.316Z"
   },
   {
    "duration": 14,
    "start_time": "2021-11-18T08:48:55.802Z"
   },
   {
    "duration": 3638,
    "start_time": "2021-11-18T08:48:55.818Z"
   },
   {
    "duration": 9,
    "start_time": "2021-11-18T08:48:59.458Z"
   },
   {
    "duration": 20,
    "start_time": "2021-11-18T08:48:59.469Z"
   },
   {
    "duration": 11,
    "start_time": "2021-11-18T08:48:59.491Z"
   },
   {
    "duration": 12,
    "start_time": "2021-11-18T08:48:59.504Z"
   },
   {
    "duration": 11,
    "start_time": "2021-11-18T08:48:59.518Z"
   },
   {
    "duration": 16,
    "start_time": "2021-11-18T08:48:59.530Z"
   },
   {
    "duration": 53,
    "start_time": "2021-11-18T08:48:59.548Z"
   },
   {
    "duration": 17,
    "start_time": "2021-11-18T08:48:59.603Z"
   },
   {
    "duration": 16,
    "start_time": "2021-11-18T08:48:59.622Z"
   },
   {
    "duration": 17,
    "start_time": "2021-11-18T08:48:59.640Z"
   },
   {
    "duration": 46,
    "start_time": "2021-11-18T08:48:59.658Z"
   },
   {
    "duration": 23,
    "start_time": "2021-11-18T08:48:59.705Z"
   },
   {
    "duration": 20,
    "start_time": "2021-11-18T08:48:59.730Z"
   },
   {
    "duration": 51,
    "start_time": "2021-11-18T08:48:59.752Z"
   },
   {
    "duration": 22,
    "start_time": "2021-11-18T08:48:59.805Z"
   },
   {
    "duration": 23,
    "start_time": "2021-11-18T08:48:59.828Z"
   },
   {
    "duration": 43,
    "start_time": "2021-11-18T08:48:59.853Z"
   },
   {
    "duration": 4,
    "start_time": "2021-11-18T09:16:08.514Z"
   },
   {
    "duration": 9,
    "start_time": "2021-11-18T09:16:31.091Z"
   },
   {
    "duration": 3,
    "start_time": "2021-11-18T09:17:39.243Z"
   },
   {
    "duration": 62,
    "start_time": "2021-11-18T09:17:39.248Z"
   },
   {
    "duration": 3,
    "start_time": "2021-11-18T09:17:39.312Z"
   },
   {
    "duration": 8,
    "start_time": "2021-11-18T09:17:39.317Z"
   },
   {
    "duration": 13,
    "start_time": "2021-11-18T09:17:39.326Z"
   },
   {
    "duration": 47,
    "start_time": "2021-11-18T09:17:39.341Z"
   },
   {
    "duration": 5,
    "start_time": "2021-11-18T09:17:39.390Z"
   },
   {
    "duration": 13,
    "start_time": "2021-11-18T09:17:39.397Z"
   },
   {
    "duration": 137,
    "start_time": "2021-11-18T09:17:39.411Z"
   },
   {
    "duration": 4,
    "start_time": "2021-11-18T09:17:39.550Z"
   },
   {
    "duration": 9,
    "start_time": "2021-11-18T09:17:39.555Z"
   },
   {
    "duration": 16,
    "start_time": "2021-11-18T09:17:39.565Z"
   },
   {
    "duration": 12,
    "start_time": "2021-11-18T09:17:39.582Z"
   },
   {
    "duration": 16,
    "start_time": "2021-11-18T09:17:39.596Z"
   },
   {
    "duration": 10,
    "start_time": "2021-11-18T09:17:39.614Z"
   },
   {
    "duration": 20,
    "start_time": "2021-11-18T09:17:39.625Z"
   },
   {
    "duration": 12,
    "start_time": "2021-11-18T09:17:39.647Z"
   },
   {
    "duration": 13,
    "start_time": "2021-11-18T09:17:39.661Z"
   },
   {
    "duration": 11,
    "start_time": "2021-11-18T09:17:39.677Z"
   },
   {
    "duration": 17,
    "start_time": "2021-11-18T09:17:39.690Z"
   },
   {
    "duration": 15,
    "start_time": "2021-11-18T09:17:39.708Z"
   },
   {
    "duration": 13,
    "start_time": "2021-11-18T09:17:39.725Z"
   },
   {
    "duration": 19,
    "start_time": "2021-11-18T09:17:39.739Z"
   },
   {
    "duration": 4,
    "start_time": "2021-11-18T09:17:39.760Z"
   },
   {
    "duration": 7,
    "start_time": "2021-11-18T09:17:39.766Z"
   },
   {
    "duration": 13,
    "start_time": "2021-11-18T09:17:39.774Z"
   },
   {
    "duration": 10,
    "start_time": "2021-11-18T09:17:39.789Z"
   },
   {
    "duration": 16,
    "start_time": "2021-11-18T09:17:39.800Z"
   },
   {
    "duration": 9,
    "start_time": "2021-11-18T09:17:39.817Z"
   },
   {
    "duration": 11,
    "start_time": "2021-11-18T09:17:39.827Z"
   },
   {
    "duration": 19,
    "start_time": "2021-11-18T09:17:39.839Z"
   },
   {
    "duration": 5,
    "start_time": "2021-11-18T09:17:39.859Z"
   },
   {
    "duration": 28,
    "start_time": "2021-11-18T09:17:39.866Z"
   },
   {
    "duration": 5,
    "start_time": "2021-11-18T09:17:39.895Z"
   },
   {
    "duration": 19,
    "start_time": "2021-11-18T09:17:39.902Z"
   },
   {
    "duration": 4,
    "start_time": "2021-11-18T09:17:39.922Z"
   },
   {
    "duration": 5,
    "start_time": "2021-11-18T09:17:39.928Z"
   },
   {
    "duration": 9,
    "start_time": "2021-11-18T09:17:39.934Z"
   },
   {
    "duration": 22,
    "start_time": "2021-11-18T09:17:39.945Z"
   },
   {
    "duration": 20,
    "start_time": "2021-11-18T09:17:39.968Z"
   },
   {
    "duration": 355,
    "start_time": "2021-11-18T09:17:39.989Z"
   },
   {
    "duration": 3,
    "start_time": "2021-11-18T09:17:40.345Z"
   },
   {
    "duration": 29730,
    "start_time": "2021-11-18T09:17:40.349Z"
   },
   {
    "duration": 15,
    "start_time": "2021-11-18T09:18:10.081Z"
   },
   {
    "duration": 28,
    "start_time": "2021-11-18T09:18:10.098Z"
   },
   {
    "duration": 26,
    "start_time": "2021-11-18T09:18:10.128Z"
   },
   {
    "duration": 33,
    "start_time": "2021-11-18T09:18:10.155Z"
   },
   {
    "duration": 30,
    "start_time": "2021-11-18T09:18:10.190Z"
   },
   {
    "duration": 3367,
    "start_time": "2021-11-18T09:18:10.221Z"
   },
   {
    "duration": 13,
    "start_time": "2021-11-18T09:18:13.590Z"
   },
   {
    "duration": 3668,
    "start_time": "2021-11-18T09:18:13.605Z"
   },
   {
    "duration": 4,
    "start_time": "2021-11-18T09:18:17.275Z"
   },
   {
    "duration": 15,
    "start_time": "2021-11-18T09:18:17.280Z"
   },
   {
    "duration": 8,
    "start_time": "2021-11-18T09:18:17.297Z"
   },
   {
    "duration": 10,
    "start_time": "2021-11-18T09:18:17.310Z"
   },
   {
    "duration": 11,
    "start_time": "2021-11-18T09:18:17.323Z"
   },
   {
    "duration": 23,
    "start_time": "2021-11-18T09:18:17.335Z"
   },
   {
    "duration": 55,
    "start_time": "2021-11-18T09:18:17.359Z"
   },
   {
    "duration": 16,
    "start_time": "2021-11-18T09:18:17.415Z"
   },
   {
    "duration": 19,
    "start_time": "2021-11-18T09:18:17.433Z"
   },
   {
    "duration": 39,
    "start_time": "2021-11-18T09:18:17.454Z"
   },
   {
    "duration": 16,
    "start_time": "2021-11-18T09:18:17.495Z"
   },
   {
    "duration": 22,
    "start_time": "2021-11-18T09:18:17.513Z"
   },
   {
    "duration": 21,
    "start_time": "2021-11-18T09:18:17.537Z"
   },
   {
    "duration": 46,
    "start_time": "2021-11-18T09:18:17.559Z"
   },
   {
    "duration": 30,
    "start_time": "2021-11-18T09:18:17.607Z"
   },
   {
    "duration": 24,
    "start_time": "2021-11-18T09:18:17.639Z"
   },
   {
    "duration": 45,
    "start_time": "2021-11-18T09:18:17.665Z"
   },
   {
    "duration": 3640,
    "start_time": "2021-11-18T09:18:27.745Z"
   },
   {
    "duration": 262,
    "start_time": "2021-11-18T09:18:50.800Z"
   },
   {
    "duration": 2,
    "start_time": "2021-11-18T09:18:53.885Z"
   },
   {
    "duration": 72,
    "start_time": "2021-11-18T09:18:53.889Z"
   },
   {
    "duration": 3,
    "start_time": "2021-11-18T09:18:53.963Z"
   },
   {
    "duration": 22,
    "start_time": "2021-11-18T09:18:53.968Z"
   },
   {
    "duration": 16,
    "start_time": "2021-11-18T09:18:53.992Z"
   },
   {
    "duration": 16,
    "start_time": "2021-11-18T09:18:54.009Z"
   },
   {
    "duration": 4,
    "start_time": "2021-11-18T09:18:54.027Z"
   },
   {
    "duration": 9,
    "start_time": "2021-11-18T09:18:54.033Z"
   },
   {
    "duration": 172,
    "start_time": "2021-11-18T09:18:54.043Z"
   },
   {
    "duration": 4,
    "start_time": "2021-11-18T09:18:54.217Z"
   },
   {
    "duration": 6,
    "start_time": "2021-11-18T09:18:54.222Z"
   },
   {
    "duration": 9,
    "start_time": "2021-11-18T09:18:54.229Z"
   },
   {
    "duration": 7,
    "start_time": "2021-11-18T09:18:54.239Z"
   },
   {
    "duration": 7,
    "start_time": "2021-11-18T09:18:54.247Z"
   },
   {
    "duration": 5,
    "start_time": "2021-11-18T09:18:54.256Z"
   },
   {
    "duration": 26,
    "start_time": "2021-11-18T09:18:54.262Z"
   },
   {
    "duration": 6,
    "start_time": "2021-11-18T09:18:54.290Z"
   },
   {
    "duration": 6,
    "start_time": "2021-11-18T09:18:54.298Z"
   },
   {
    "duration": 4,
    "start_time": "2021-11-18T09:18:54.307Z"
   },
   {
    "duration": 6,
    "start_time": "2021-11-18T09:18:54.313Z"
   },
   {
    "duration": 261,
    "start_time": "2021-11-18T09:18:54.320Z"
   },
   {
    "duration": 980,
    "start_time": "2021-11-18T09:18:53.604Z"
   },
   {
    "duration": 978,
    "start_time": "2021-11-18T09:18:53.607Z"
   },
   {
    "duration": 977,
    "start_time": "2021-11-18T09:18:53.609Z"
   },
   {
    "duration": 976,
    "start_time": "2021-11-18T09:18:53.612Z"
   },
   {
    "duration": 975,
    "start_time": "2021-11-18T09:18:53.614Z"
   },
   {
    "duration": 972,
    "start_time": "2021-11-18T09:18:53.618Z"
   },
   {
    "duration": 970,
    "start_time": "2021-11-18T09:18:53.621Z"
   },
   {
    "duration": 969,
    "start_time": "2021-11-18T09:18:53.624Z"
   },
   {
    "duration": 967,
    "start_time": "2021-11-18T09:18:53.627Z"
   },
   {
    "duration": 951,
    "start_time": "2021-11-18T09:18:53.644Z"
   },
   {
    "duration": 937,
    "start_time": "2021-11-18T09:18:53.660Z"
   },
   {
    "duration": 936,
    "start_time": "2021-11-18T09:18:53.662Z"
   },
   {
    "duration": 933,
    "start_time": "2021-11-18T09:18:53.666Z"
   },
   {
    "duration": 923,
    "start_time": "2021-11-18T09:18:53.678Z"
   },
   {
    "duration": 920,
    "start_time": "2021-11-18T09:18:53.682Z"
   },
   {
    "duration": 911,
    "start_time": "2021-11-18T09:18:53.692Z"
   },
   {
    "duration": 906,
    "start_time": "2021-11-18T09:18:53.699Z"
   },
   {
    "duration": 894,
    "start_time": "2021-11-18T09:18:53.712Z"
   },
   {
    "duration": 891,
    "start_time": "2021-11-18T09:18:53.716Z"
   },
   {
    "duration": 882,
    "start_time": "2021-11-18T09:18:53.726Z"
   },
   {
    "duration": 880,
    "start_time": "2021-11-18T09:18:53.729Z"
   },
   {
    "duration": 877,
    "start_time": "2021-11-18T09:18:53.733Z"
   },
   {
    "duration": 865,
    "start_time": "2021-11-18T09:18:53.746Z"
   },
   {
    "duration": 861,
    "start_time": "2021-11-18T09:18:53.750Z"
   },
   {
    "duration": 850,
    "start_time": "2021-11-18T09:18:53.762Z"
   },
   {
    "duration": 847,
    "start_time": "2021-11-18T09:18:53.766Z"
   },
   {
    "duration": 837,
    "start_time": "2021-11-18T09:18:53.777Z"
   },
   {
    "duration": 835,
    "start_time": "2021-11-18T09:18:53.780Z"
   },
   {
    "duration": 825,
    "start_time": "2021-11-18T09:18:53.791Z"
   },
   {
    "duration": 823,
    "start_time": "2021-11-18T09:18:53.794Z"
   },
   {
    "duration": 822,
    "start_time": "2021-11-18T09:18:53.796Z"
   },
   {
    "duration": 818,
    "start_time": "2021-11-18T09:18:53.801Z"
   },
   {
    "duration": 808,
    "start_time": "2021-11-18T09:18:53.812Z"
   },
   {
    "duration": 805,
    "start_time": "2021-11-18T09:18:53.815Z"
   },
   {
    "duration": 796,
    "start_time": "2021-11-18T09:18:53.825Z"
   },
   {
    "duration": 794,
    "start_time": "2021-11-18T09:18:53.828Z"
   },
   {
    "duration": 789,
    "start_time": "2021-11-18T09:18:53.834Z"
   },
   {
    "duration": 788,
    "start_time": "2021-11-18T09:18:53.836Z"
   },
   {
    "duration": 786,
    "start_time": "2021-11-18T09:18:53.839Z"
   },
   {
    "duration": 784,
    "start_time": "2021-11-18T09:18:53.842Z"
   },
   {
    "duration": 783,
    "start_time": "2021-11-18T09:18:53.844Z"
   },
   {
    "duration": 781,
    "start_time": "2021-11-18T09:18:53.847Z"
   },
   {
    "duration": 778,
    "start_time": "2021-11-18T09:18:53.850Z"
   },
   {
    "duration": 776,
    "start_time": "2021-11-18T09:18:53.853Z"
   },
   {
    "duration": 774,
    "start_time": "2021-11-18T09:18:53.856Z"
   },
   {
    "duration": 829,
    "start_time": "2021-11-18T09:18:53.858Z"
   },
   {
    "duration": 827,
    "start_time": "2021-11-18T09:18:53.861Z"
   },
   {
    "duration": 232,
    "start_time": "2021-11-18T09:19:22.443Z"
   },
   {
    "duration": 226,
    "start_time": "2021-11-18T09:19:35.203Z"
   },
   {
    "duration": 9,
    "start_time": "2021-11-18T09:19:54.544Z"
   },
   {
    "duration": 2,
    "start_time": "2021-11-18T09:19:56.526Z"
   },
   {
    "duration": 17,
    "start_time": "2021-11-18T09:19:57.001Z"
   },
   {
    "duration": 5,
    "start_time": "2021-11-18T09:20:00.022Z"
   },
   {
    "duration": 11,
    "start_time": "2021-11-18T09:20:05.171Z"
   },
   {
    "duration": 8,
    "start_time": "2021-11-18T09:20:28.736Z"
   },
   {
    "duration": 9,
    "start_time": "2021-11-18T09:21:12.050Z"
   },
   {
    "duration": 5,
    "start_time": "2021-11-18T09:21:55.619Z"
   },
   {
    "duration": 9,
    "start_time": "2021-11-18T09:22:08.618Z"
   },
   {
    "duration": 3,
    "start_time": "2021-11-18T09:22:28.133Z"
   },
   {
    "duration": 70,
    "start_time": "2021-11-18T09:22:28.138Z"
   },
   {
    "duration": 4,
    "start_time": "2021-11-18T09:22:28.211Z"
   },
   {
    "duration": 6,
    "start_time": "2021-11-18T09:22:28.217Z"
   },
   {
    "duration": 16,
    "start_time": "2021-11-18T09:22:28.225Z"
   },
   {
    "duration": 53,
    "start_time": "2021-11-18T09:22:28.243Z"
   },
   {
    "duration": 6,
    "start_time": "2021-11-18T09:22:28.299Z"
   },
   {
    "duration": 8,
    "start_time": "2021-11-18T09:22:28.307Z"
   },
   {
    "duration": 153,
    "start_time": "2021-11-18T09:22:28.317Z"
   },
   {
    "duration": 5,
    "start_time": "2021-11-18T09:22:28.472Z"
   },
   {
    "duration": 3,
    "start_time": "2021-11-18T09:22:28.488Z"
   },
   {
    "duration": 11,
    "start_time": "2021-11-18T09:22:28.493Z"
   },
   {
    "duration": 7,
    "start_time": "2021-11-18T09:22:28.506Z"
   },
   {
    "duration": 5,
    "start_time": "2021-11-18T09:22:28.514Z"
   },
   {
    "duration": 6,
    "start_time": "2021-11-18T09:22:28.520Z"
   },
   {
    "duration": 6,
    "start_time": "2021-11-18T09:22:28.527Z"
   },
   {
    "duration": 7,
    "start_time": "2021-11-18T09:22:28.535Z"
   },
   {
    "duration": 6,
    "start_time": "2021-11-18T09:22:28.544Z"
   },
   {
    "duration": 70,
    "start_time": "2021-11-18T09:22:28.588Z"
   },
   {
    "duration": 2,
    "start_time": "2021-11-18T09:22:28.660Z"
   },
   {
    "duration": 10,
    "start_time": "2021-11-18T09:22:28.664Z"
   },
   {
    "duration": 13,
    "start_time": "2021-11-18T09:22:28.675Z"
   },
   {
    "duration": 8,
    "start_time": "2021-11-18T09:22:28.689Z"
   },
   {
    "duration": 6,
    "start_time": "2021-11-18T09:22:28.698Z"
   },
   {
    "duration": 11,
    "start_time": "2021-11-18T09:22:28.705Z"
   },
   {
    "duration": 10,
    "start_time": "2021-11-18T09:22:28.718Z"
   },
   {
    "duration": 9,
    "start_time": "2021-11-18T09:22:28.730Z"
   },
   {
    "duration": 12,
    "start_time": "2021-11-18T09:22:28.740Z"
   },
   {
    "duration": 8,
    "start_time": "2021-11-18T09:22:28.754Z"
   },
   {
    "duration": 5,
    "start_time": "2021-11-18T09:22:28.788Z"
   },
   {
    "duration": 20,
    "start_time": "2021-11-18T09:22:28.795Z"
   },
   {
    "duration": 6,
    "start_time": "2021-11-18T09:22:28.816Z"
   },
   {
    "duration": 15,
    "start_time": "2021-11-18T09:22:28.823Z"
   },
   {
    "duration": 11,
    "start_time": "2021-11-18T09:22:28.839Z"
   },
   {
    "duration": 18,
    "start_time": "2021-11-18T09:22:28.851Z"
   },
   {
    "duration": 5,
    "start_time": "2021-11-18T09:22:28.887Z"
   },
   {
    "duration": 5,
    "start_time": "2021-11-18T09:22:28.893Z"
   },
   {
    "duration": 8,
    "start_time": "2021-11-18T09:22:28.899Z"
   },
   {
    "duration": 23,
    "start_time": "2021-11-18T09:22:28.908Z"
   },
   {
    "duration": 3,
    "start_time": "2021-11-18T09:22:28.932Z"
   },
   {
    "duration": 362,
    "start_time": "2021-11-18T09:22:28.937Z"
   },
   {
    "duration": 3,
    "start_time": "2021-11-18T09:22:29.300Z"
   },
   {
    "duration": 29287,
    "start_time": "2021-11-18T09:22:29.305Z"
   },
   {
    "duration": 11,
    "start_time": "2021-11-18T09:22:58.593Z"
   },
   {
    "duration": 36,
    "start_time": "2021-11-18T09:22:58.605Z"
   },
   {
    "duration": 25,
    "start_time": "2021-11-18T09:22:58.642Z"
   },
   {
    "duration": 20,
    "start_time": "2021-11-18T09:22:58.668Z"
   },
   {
    "duration": 30,
    "start_time": "2021-11-18T09:22:58.690Z"
   },
   {
    "duration": 3473,
    "start_time": "2021-11-18T09:22:58.722Z"
   },
   {
    "duration": 13,
    "start_time": "2021-11-18T09:23:02.197Z"
   },
   {
    "duration": 3715,
    "start_time": "2021-11-18T09:23:02.211Z"
   },
   {
    "duration": 3,
    "start_time": "2021-11-18T09:23:05.928Z"
   },
   {
    "duration": 18,
    "start_time": "2021-11-18T09:23:05.932Z"
   },
   {
    "duration": 8,
    "start_time": "2021-11-18T09:23:05.952Z"
   },
   {
    "duration": 17,
    "start_time": "2021-11-18T09:23:05.964Z"
   },
   {
    "duration": 12,
    "start_time": "2021-11-18T09:23:05.983Z"
   },
   {
    "duration": 16,
    "start_time": "2021-11-18T09:23:05.997Z"
   },
   {
    "duration": 27,
    "start_time": "2021-11-18T09:23:06.014Z"
   },
   {
    "duration": 16,
    "start_time": "2021-11-18T09:23:06.042Z"
   },
   {
    "duration": 36,
    "start_time": "2021-11-18T09:23:06.059Z"
   },
   {
    "duration": 14,
    "start_time": "2021-11-18T09:23:06.097Z"
   },
   {
    "duration": 14,
    "start_time": "2021-11-18T09:23:06.113Z"
   },
   {
    "duration": 22,
    "start_time": "2021-11-18T09:23:06.129Z"
   },
   {
    "duration": 44,
    "start_time": "2021-11-18T09:23:06.152Z"
   },
   {
    "duration": 20,
    "start_time": "2021-11-18T09:23:06.198Z"
   },
   {
    "duration": 21,
    "start_time": "2021-11-18T09:23:06.219Z"
   },
   {
    "duration": 46,
    "start_time": "2021-11-18T09:23:06.242Z"
   },
   {
    "duration": 21,
    "start_time": "2021-11-18T09:23:06.289Z"
   },
   {
    "duration": 3,
    "start_time": "2021-11-18T09:37:00.713Z"
   },
   {
    "duration": 76,
    "start_time": "2021-11-18T09:37:00.718Z"
   },
   {
    "duration": 4,
    "start_time": "2021-11-18T09:37:00.795Z"
   },
   {
    "duration": 21,
    "start_time": "2021-11-18T09:37:00.801Z"
   },
   {
    "duration": 22,
    "start_time": "2021-11-18T09:37:00.823Z"
   },
   {
    "duration": 14,
    "start_time": "2021-11-18T09:37:00.846Z"
   },
   {
    "duration": 26,
    "start_time": "2021-11-18T09:37:00.863Z"
   },
   {
    "duration": 17,
    "start_time": "2021-11-18T09:37:00.891Z"
   },
   {
    "duration": 149,
    "start_time": "2021-11-18T09:37:00.909Z"
   },
   {
    "duration": 4,
    "start_time": "2021-11-18T09:37:01.060Z"
   },
   {
    "duration": 18,
    "start_time": "2021-11-18T09:37:01.065Z"
   },
   {
    "duration": 19,
    "start_time": "2021-11-18T09:37:01.084Z"
   },
   {
    "duration": 15,
    "start_time": "2021-11-18T09:37:01.105Z"
   },
   {
    "duration": 8,
    "start_time": "2021-11-18T09:37:01.122Z"
   },
   {
    "duration": 11,
    "start_time": "2021-11-18T09:37:01.132Z"
   },
   {
    "duration": 16,
    "start_time": "2021-11-18T09:37:01.145Z"
   },
   {
    "duration": 10,
    "start_time": "2021-11-18T09:37:01.163Z"
   },
   {
    "duration": 15,
    "start_time": "2021-11-18T09:37:01.175Z"
   },
   {
    "duration": 91,
    "start_time": "2021-11-18T09:37:01.194Z"
   },
   {
    "duration": 2,
    "start_time": "2021-11-18T09:37:01.287Z"
   },
   {
    "duration": 26,
    "start_time": "2021-11-18T09:37:01.291Z"
   },
   {
    "duration": 27,
    "start_time": "2021-11-18T09:37:01.318Z"
   },
   {
    "duration": 10,
    "start_time": "2021-11-18T09:37:01.346Z"
   },
   {
    "duration": 29,
    "start_time": "2021-11-18T09:37:01.357Z"
   },
   {
    "duration": 42,
    "start_time": "2021-11-18T09:37:01.387Z"
   },
   {
    "duration": 23,
    "start_time": "2021-11-18T09:37:01.430Z"
   },
   {
    "duration": 39,
    "start_time": "2021-11-18T09:37:01.455Z"
   },
   {
    "duration": 26,
    "start_time": "2021-11-18T09:37:01.496Z"
   },
   {
    "duration": 33,
    "start_time": "2021-11-18T09:37:01.524Z"
   },
   {
    "duration": 34,
    "start_time": "2021-11-18T09:37:01.558Z"
   },
   {
    "duration": 23,
    "start_time": "2021-11-18T09:37:01.594Z"
   },
   {
    "duration": 37,
    "start_time": "2021-11-18T09:37:01.618Z"
   },
   {
    "duration": 36,
    "start_time": "2021-11-18T09:37:01.657Z"
   },
   {
    "duration": 25,
    "start_time": "2021-11-18T09:37:01.694Z"
   },
   {
    "duration": 17,
    "start_time": "2021-11-18T09:37:01.721Z"
   },
   {
    "duration": 34,
    "start_time": "2021-11-18T09:37:01.740Z"
   },
   {
    "duration": 26,
    "start_time": "2021-11-18T09:37:01.776Z"
   },
   {
    "duration": 29,
    "start_time": "2021-11-18T09:37:01.804Z"
   },
   {
    "duration": 18,
    "start_time": "2021-11-18T09:37:01.835Z"
   },
   {
    "duration": 37,
    "start_time": "2021-11-18T09:37:01.854Z"
   },
   {
    "duration": 4,
    "start_time": "2021-11-18T09:37:01.893Z"
   },
   {
    "duration": 353,
    "start_time": "2021-11-18T09:37:01.898Z"
   },
   {
    "duration": 4,
    "start_time": "2021-11-18T09:37:02.253Z"
   },
   {
    "duration": 2,
    "start_time": "2021-11-18T09:37:39.460Z"
   },
   {
    "duration": 83,
    "start_time": "2021-11-18T09:37:39.464Z"
   },
   {
    "duration": 3,
    "start_time": "2021-11-18T09:37:39.548Z"
   },
   {
    "duration": 10,
    "start_time": "2021-11-18T09:37:39.553Z"
   },
   {
    "duration": 18,
    "start_time": "2021-11-18T09:37:39.564Z"
   },
   {
    "duration": 13,
    "start_time": "2021-11-18T09:37:39.584Z"
   },
   {
    "duration": 5,
    "start_time": "2021-11-18T09:37:39.599Z"
   },
   {
    "duration": 9,
    "start_time": "2021-11-18T09:37:39.606Z"
   },
   {
    "duration": 156,
    "start_time": "2021-11-18T09:37:39.617Z"
   },
   {
    "duration": 5,
    "start_time": "2021-11-18T09:37:39.775Z"
   },
   {
    "duration": 6,
    "start_time": "2021-11-18T09:37:39.782Z"
   },
   {
    "duration": 10,
    "start_time": "2021-11-18T09:37:39.790Z"
   },
   {
    "duration": 6,
    "start_time": "2021-11-18T09:37:39.801Z"
   },
   {
    "duration": 15,
    "start_time": "2021-11-18T09:37:39.809Z"
   },
   {
    "duration": 10,
    "start_time": "2021-11-18T09:37:39.826Z"
   },
   {
    "duration": 7,
    "start_time": "2021-11-18T09:37:39.838Z"
   },
   {
    "duration": 6,
    "start_time": "2021-11-18T09:37:39.847Z"
   },
   {
    "duration": 36,
    "start_time": "2021-11-18T09:37:39.855Z"
   },
   {
    "duration": 2,
    "start_time": "2021-11-18T09:37:39.892Z"
   },
   {
    "duration": 9,
    "start_time": "2021-11-18T09:37:39.895Z"
   },
   {
    "duration": 6,
    "start_time": "2021-11-18T09:37:39.905Z"
   },
   {
    "duration": 16,
    "start_time": "2021-11-18T09:37:39.913Z"
   },
   {
    "duration": 2,
    "start_time": "2021-11-18T09:37:39.930Z"
   },
   {
    "duration": 89,
    "start_time": "2021-11-18T09:37:39.934Z"
   },
   {
    "duration": 5,
    "start_time": "2021-11-18T09:37:40.024Z"
   },
   {
    "duration": 15,
    "start_time": "2021-11-18T09:37:40.030Z"
   },
   {
    "duration": 19,
    "start_time": "2021-11-18T09:37:40.047Z"
   },
   {
    "duration": 14,
    "start_time": "2021-11-18T09:37:40.067Z"
   },
   {
    "duration": 17,
    "start_time": "2021-11-18T09:37:40.082Z"
   },
   {
    "duration": 10,
    "start_time": "2021-11-18T09:37:40.101Z"
   },
   {
    "duration": 15,
    "start_time": "2021-11-18T09:37:40.112Z"
   },
   {
    "duration": 31,
    "start_time": "2021-11-18T09:37:40.129Z"
   },
   {
    "duration": 6,
    "start_time": "2021-11-18T09:37:40.161Z"
   },
   {
    "duration": 14,
    "start_time": "2021-11-18T09:37:40.169Z"
   },
   {
    "duration": 27,
    "start_time": "2021-11-18T09:37:40.185Z"
   },
   {
    "duration": 19,
    "start_time": "2021-11-18T09:37:40.214Z"
   },
   {
    "duration": 7,
    "start_time": "2021-11-18T09:37:40.235Z"
   },
   {
    "duration": 19,
    "start_time": "2021-11-18T09:37:40.244Z"
   },
   {
    "duration": 17,
    "start_time": "2021-11-18T09:37:40.265Z"
   },
   {
    "duration": 28,
    "start_time": "2021-11-18T09:37:40.284Z"
   },
   {
    "duration": 4,
    "start_time": "2021-11-18T09:37:40.314Z"
   },
   {
    "duration": 369,
    "start_time": "2021-11-18T09:37:40.319Z"
   },
   {
    "duration": 2,
    "start_time": "2021-11-18T09:37:40.690Z"
   },
   {
    "duration": 2,
    "start_time": "2021-11-18T09:38:17.909Z"
   },
   {
    "duration": 61,
    "start_time": "2021-11-18T09:38:17.915Z"
   },
   {
    "duration": 10,
    "start_time": "2021-11-18T09:38:17.978Z"
   },
   {
    "duration": 7,
    "start_time": "2021-11-18T09:38:17.990Z"
   },
   {
    "duration": 20,
    "start_time": "2021-11-18T09:38:17.999Z"
   },
   {
    "duration": 15,
    "start_time": "2021-11-18T09:38:18.021Z"
   },
   {
    "duration": 6,
    "start_time": "2021-11-18T09:38:18.038Z"
   },
   {
    "duration": 23,
    "start_time": "2021-11-18T09:38:18.045Z"
   },
   {
    "duration": 167,
    "start_time": "2021-11-18T09:38:18.070Z"
   },
   {
    "duration": 4,
    "start_time": "2021-11-18T09:38:18.239Z"
   },
   {
    "duration": 11,
    "start_time": "2021-11-18T09:38:18.244Z"
   },
   {
    "duration": 10,
    "start_time": "2021-11-18T09:38:18.257Z"
   },
   {
    "duration": 6,
    "start_time": "2021-11-18T09:38:18.269Z"
   },
   {
    "duration": 13,
    "start_time": "2021-11-18T09:38:18.276Z"
   },
   {
    "duration": 5,
    "start_time": "2021-11-18T09:38:18.291Z"
   },
   {
    "duration": 9,
    "start_time": "2021-11-18T09:38:18.297Z"
   },
   {
    "duration": 9,
    "start_time": "2021-11-18T09:38:18.308Z"
   },
   {
    "duration": 10,
    "start_time": "2021-11-18T09:38:18.319Z"
   },
   {
    "duration": 10,
    "start_time": "2021-11-18T09:38:18.330Z"
   },
   {
    "duration": 12,
    "start_time": "2021-11-18T09:38:18.341Z"
   },
   {
    "duration": 82,
    "start_time": "2021-11-18T09:38:18.355Z"
   },
   {
    "duration": 940,
    "start_time": "2021-11-18T09:38:17.499Z"
   },
   {
    "duration": 937,
    "start_time": "2021-11-18T09:38:17.503Z"
   },
   {
    "duration": 936,
    "start_time": "2021-11-18T09:38:17.506Z"
   },
   {
    "duration": 933,
    "start_time": "2021-11-18T09:38:17.510Z"
   },
   {
    "duration": 931,
    "start_time": "2021-11-18T09:38:17.513Z"
   },
   {
    "duration": 928,
    "start_time": "2021-11-18T09:38:17.518Z"
   },
   {
    "duration": 925,
    "start_time": "2021-11-18T09:38:17.522Z"
   },
   {
    "duration": 923,
    "start_time": "2021-11-18T09:38:17.525Z"
   },
   {
    "duration": 921,
    "start_time": "2021-11-18T09:38:17.529Z"
   },
   {
    "duration": 918,
    "start_time": "2021-11-18T09:38:17.533Z"
   },
   {
    "duration": 918,
    "start_time": "2021-11-18T09:38:17.535Z"
   },
   {
    "duration": 916,
    "start_time": "2021-11-18T09:38:17.538Z"
   },
   {
    "duration": 914,
    "start_time": "2021-11-18T09:38:17.541Z"
   },
   {
    "duration": 906,
    "start_time": "2021-11-18T09:38:17.551Z"
   },
   {
    "duration": 904,
    "start_time": "2021-11-18T09:38:17.554Z"
   },
   {
    "duration": 903,
    "start_time": "2021-11-18T09:38:17.557Z"
   },
   {
    "duration": 901,
    "start_time": "2021-11-18T09:38:17.560Z"
   },
   {
    "duration": 899,
    "start_time": "2021-11-18T09:38:17.563Z"
   },
   {
    "duration": 898,
    "start_time": "2021-11-18T09:38:17.566Z"
   },
   {
    "duration": 897,
    "start_time": "2021-11-18T09:38:17.568Z"
   },
   {
    "duration": 895,
    "start_time": "2021-11-18T09:38:17.571Z"
   },
   {
    "duration": 893,
    "start_time": "2021-11-18T09:38:17.574Z"
   },
   {
    "duration": 892,
    "start_time": "2021-11-18T09:38:17.577Z"
   },
   {
    "duration": 890,
    "start_time": "2021-11-18T09:38:17.580Z"
   },
   {
    "duration": 888,
    "start_time": "2021-11-18T09:38:17.583Z"
   },
   {
    "duration": 887,
    "start_time": "2021-11-18T09:38:17.586Z"
   },
   {
    "duration": 885,
    "start_time": "2021-11-18T09:38:17.589Z"
   },
   {
    "duration": 883,
    "start_time": "2021-11-18T09:38:17.592Z"
   },
   {
    "duration": 882,
    "start_time": "2021-11-18T09:38:17.595Z"
   },
   {
    "duration": 880,
    "start_time": "2021-11-18T09:38:17.598Z"
   },
   {
    "duration": 878,
    "start_time": "2021-11-18T09:38:17.601Z"
   },
   {
    "duration": 877,
    "start_time": "2021-11-18T09:38:17.604Z"
   },
   {
    "duration": 881,
    "start_time": "2021-11-18T09:38:17.607Z"
   },
   {
    "duration": 879,
    "start_time": "2021-11-18T09:38:17.610Z"
   },
   {
    "duration": 877,
    "start_time": "2021-11-18T09:38:17.613Z"
   },
   {
    "duration": 876,
    "start_time": "2021-11-18T09:38:17.616Z"
   },
   {
    "duration": 874,
    "start_time": "2021-11-18T09:38:17.619Z"
   },
   {
    "duration": 873,
    "start_time": "2021-11-18T09:38:17.622Z"
   },
   {
    "duration": 872,
    "start_time": "2021-11-18T09:38:17.624Z"
   },
   {
    "duration": 870,
    "start_time": "2021-11-18T09:38:17.627Z"
   },
   {
    "duration": 869,
    "start_time": "2021-11-18T09:38:17.630Z"
   },
   {
    "duration": 867,
    "start_time": "2021-11-18T09:38:17.633Z"
   },
   {
    "duration": 866,
    "start_time": "2021-11-18T09:38:17.635Z"
   },
   {
    "duration": 865,
    "start_time": "2021-11-18T09:38:17.637Z"
   },
   {
    "duration": 865,
    "start_time": "2021-11-18T09:38:17.639Z"
   },
   {
    "duration": 864,
    "start_time": "2021-11-18T09:38:17.642Z"
   },
   {
    "duration": 863,
    "start_time": "2021-11-18T09:38:17.644Z"
   },
   {
    "duration": 861,
    "start_time": "2021-11-18T09:38:17.647Z"
   },
   {
    "duration": 1581,
    "start_time": "2021-11-18T09:38:57.920Z"
   },
   {
    "duration": 403,
    "start_time": "2021-11-18T09:42:10.695Z"
   },
   {
    "duration": 415,
    "start_time": "2021-11-18T09:42:53.578Z"
   },
   {
    "duration": 308,
    "start_time": "2021-11-18T09:47:37.082Z"
   },
   {
    "duration": 3,
    "start_time": "2021-11-18T09:47:46.716Z"
   },
   {
    "duration": 76,
    "start_time": "2021-11-18T09:47:46.721Z"
   },
   {
    "duration": 3,
    "start_time": "2021-11-18T09:47:46.799Z"
   },
   {
    "duration": 12,
    "start_time": "2021-11-18T09:47:46.803Z"
   },
   {
    "duration": 13,
    "start_time": "2021-11-18T09:47:46.817Z"
   },
   {
    "duration": 14,
    "start_time": "2021-11-18T09:47:46.831Z"
   },
   {
    "duration": 5,
    "start_time": "2021-11-18T09:47:46.847Z"
   },
   {
    "duration": 40,
    "start_time": "2021-11-18T09:47:46.854Z"
   },
   {
    "duration": 137,
    "start_time": "2021-11-18T09:47:46.896Z"
   },
   {
    "duration": 4,
    "start_time": "2021-11-18T09:47:47.035Z"
   },
   {
    "duration": 9,
    "start_time": "2021-11-18T09:47:47.040Z"
   },
   {
    "duration": 15,
    "start_time": "2021-11-18T09:47:47.051Z"
   },
   {
    "duration": 5,
    "start_time": "2021-11-18T09:47:47.067Z"
   },
   {
    "duration": 14,
    "start_time": "2021-11-18T09:47:47.074Z"
   },
   {
    "duration": 8,
    "start_time": "2021-11-18T09:47:47.090Z"
   },
   {
    "duration": 11,
    "start_time": "2021-11-18T09:47:47.100Z"
   },
   {
    "duration": 11,
    "start_time": "2021-11-18T09:47:47.112Z"
   },
   {
    "duration": 8,
    "start_time": "2021-11-18T09:47:47.124Z"
   },
   {
    "duration": 2,
    "start_time": "2021-11-18T09:47:47.135Z"
   },
   {
    "duration": 4,
    "start_time": "2021-11-18T09:47:47.139Z"
   },
   {
    "duration": 332,
    "start_time": "2021-11-18T09:47:47.145Z"
   },
   {
    "duration": 9,
    "start_time": "2021-11-18T09:47:47.479Z"
   },
   {
    "duration": 1,
    "start_time": "2021-11-18T09:47:47.490Z"
   },
   {
    "duration": 8,
    "start_time": "2021-11-18T09:47:47.493Z"
   },
   {
    "duration": 5,
    "start_time": "2021-11-18T09:47:47.503Z"
   },
   {
    "duration": 7,
    "start_time": "2021-11-18T09:47:47.509Z"
   },
   {
    "duration": 10,
    "start_time": "2021-11-18T09:47:47.517Z"
   },
   {
    "duration": 7,
    "start_time": "2021-11-18T09:47:47.528Z"
   },
   {
    "duration": 15,
    "start_time": "2021-11-18T09:47:47.536Z"
   },
   {
    "duration": 37,
    "start_time": "2021-11-18T09:47:47.553Z"
   },
   {
    "duration": 8,
    "start_time": "2021-11-18T09:47:47.592Z"
   },
   {
    "duration": 22,
    "start_time": "2021-11-18T09:47:47.602Z"
   },
   {
    "duration": 6,
    "start_time": "2021-11-18T09:47:47.625Z"
   },
   {
    "duration": 16,
    "start_time": "2021-11-18T09:47:47.632Z"
   },
   {
    "duration": 5,
    "start_time": "2021-11-18T09:47:47.650Z"
   },
   {
    "duration": 38,
    "start_time": "2021-11-18T09:47:47.657Z"
   },
   {
    "duration": 5,
    "start_time": "2021-11-18T09:47:47.696Z"
   },
   {
    "duration": 5,
    "start_time": "2021-11-18T09:47:47.703Z"
   },
   {
    "duration": 10,
    "start_time": "2021-11-18T09:47:47.709Z"
   },
   {
    "duration": 28,
    "start_time": "2021-11-18T09:47:47.721Z"
   },
   {
    "duration": 3,
    "start_time": "2021-11-18T09:47:47.751Z"
   },
   {
    "duration": 365,
    "start_time": "2021-11-18T09:47:47.755Z"
   },
   {
    "duration": 3,
    "start_time": "2021-11-18T09:47:48.121Z"
   },
   {
    "duration": 30061,
    "start_time": "2021-11-18T09:47:48.126Z"
   },
   {
    "duration": 10,
    "start_time": "2021-11-18T09:48:18.189Z"
   },
   {
    "duration": 31,
    "start_time": "2021-11-18T09:48:18.201Z"
   },
   {
    "duration": 30,
    "start_time": "2021-11-18T09:48:18.234Z"
   },
   {
    "duration": 23,
    "start_time": "2021-11-18T09:48:18.266Z"
   },
   {
    "duration": 27,
    "start_time": "2021-11-18T09:48:18.291Z"
   },
   {
    "duration": 3569,
    "start_time": "2021-11-18T09:48:18.320Z"
   },
   {
    "duration": 13,
    "start_time": "2021-11-18T09:48:21.891Z"
   },
   {
    "duration": 3814,
    "start_time": "2021-11-18T09:48:21.906Z"
   },
   {
    "duration": 7,
    "start_time": "2021-11-18T09:48:25.721Z"
   },
   {
    "duration": 65,
    "start_time": "2021-11-18T09:48:25.730Z"
   },
   {
    "duration": 26,
    "start_time": "2021-11-18T09:48:25.800Z"
   },
   {
    "duration": 26,
    "start_time": "2021-11-18T09:48:25.828Z"
   },
   {
    "duration": 11,
    "start_time": "2021-11-18T09:48:25.855Z"
   },
   {
    "duration": 17,
    "start_time": "2021-11-18T09:48:25.867Z"
   },
   {
    "duration": 27,
    "start_time": "2021-11-18T09:48:25.885Z"
   },
   {
    "duration": 16,
    "start_time": "2021-11-18T09:48:25.914Z"
   },
   {
    "duration": 16,
    "start_time": "2021-11-18T09:48:25.931Z"
   },
   {
    "duration": 43,
    "start_time": "2021-11-18T09:48:25.949Z"
   },
   {
    "duration": 16,
    "start_time": "2021-11-18T09:48:25.994Z"
   },
   {
    "duration": 81,
    "start_time": "2021-11-18T09:48:26.012Z"
   },
   {
    "duration": 21,
    "start_time": "2021-11-18T09:48:26.095Z"
   },
   {
    "duration": 22,
    "start_time": "2021-11-18T09:48:26.117Z"
   },
   {
    "duration": 22,
    "start_time": "2021-11-18T09:48:26.141Z"
   },
   {
    "duration": 39,
    "start_time": "2021-11-18T09:48:26.164Z"
   },
   {
    "duration": 22,
    "start_time": "2021-11-18T09:48:26.204Z"
   },
   {
    "duration": 2,
    "start_time": "2021-11-18T09:48:53.367Z"
   },
   {
    "duration": 69,
    "start_time": "2021-11-18T09:48:53.371Z"
   },
   {
    "duration": 3,
    "start_time": "2021-11-18T09:48:53.441Z"
   },
   {
    "duration": 10,
    "start_time": "2021-11-18T09:48:53.446Z"
   },
   {
    "duration": 43,
    "start_time": "2021-11-18T09:48:53.457Z"
   },
   {
    "duration": 14,
    "start_time": "2021-11-18T09:48:53.501Z"
   },
   {
    "duration": 5,
    "start_time": "2021-11-18T09:48:53.517Z"
   },
   {
    "duration": 8,
    "start_time": "2021-11-18T09:48:53.524Z"
   },
   {
    "duration": 145,
    "start_time": "2021-11-18T09:48:53.534Z"
   },
   {
    "duration": 9,
    "start_time": "2021-11-18T09:48:53.681Z"
   },
   {
    "duration": 7,
    "start_time": "2021-11-18T09:48:53.691Z"
   },
   {
    "duration": 13,
    "start_time": "2021-11-18T09:48:53.699Z"
   },
   {
    "duration": 16,
    "start_time": "2021-11-18T09:48:53.713Z"
   },
   {
    "duration": 6,
    "start_time": "2021-11-18T09:48:53.730Z"
   },
   {
    "duration": 8,
    "start_time": "2021-11-18T09:48:53.738Z"
   },
   {
    "duration": 10,
    "start_time": "2021-11-18T09:48:53.747Z"
   },
   {
    "duration": 16,
    "start_time": "2021-11-18T09:48:53.758Z"
   },
   {
    "duration": 15,
    "start_time": "2021-11-18T09:48:53.775Z"
   },
   {
    "duration": 2,
    "start_time": "2021-11-18T09:48:53.793Z"
   },
   {
    "duration": 4,
    "start_time": "2021-11-18T09:48:53.797Z"
   },
   {
    "duration": 20,
    "start_time": "2021-11-18T09:48:53.803Z"
   },
   {
    "duration": 26,
    "start_time": "2021-11-18T09:48:53.824Z"
   },
   {
    "duration": 6,
    "start_time": "2021-11-18T09:48:53.851Z"
   },
   {
    "duration": 25,
    "start_time": "2021-11-18T09:48:53.858Z"
   },
   {
    "duration": 4,
    "start_time": "2021-11-18T09:48:53.884Z"
   },
   {
    "duration": 11,
    "start_time": "2021-11-18T09:48:53.890Z"
   },
   {
    "duration": 19,
    "start_time": "2021-11-18T09:48:53.903Z"
   },
   {
    "duration": 31,
    "start_time": "2021-11-18T09:48:53.924Z"
   },
   {
    "duration": 27,
    "start_time": "2021-11-18T09:48:53.957Z"
   },
   {
    "duration": 10,
    "start_time": "2021-11-18T09:48:53.985Z"
   },
   {
    "duration": 18,
    "start_time": "2021-11-18T09:48:53.997Z"
   },
   {
    "duration": 37,
    "start_time": "2021-11-18T09:48:54.017Z"
   },
   {
    "duration": 7,
    "start_time": "2021-11-18T09:48:54.056Z"
   },
   {
    "duration": 25,
    "start_time": "2021-11-18T09:48:54.064Z"
   },
   {
    "duration": 16,
    "start_time": "2021-11-18T09:48:54.091Z"
   },
   {
    "duration": 29,
    "start_time": "2021-11-18T09:48:54.109Z"
   },
   {
    "duration": 12,
    "start_time": "2021-11-18T09:48:54.140Z"
   },
   {
    "duration": 8,
    "start_time": "2021-11-18T09:48:54.153Z"
   },
   {
    "duration": 9,
    "start_time": "2021-11-18T09:48:54.163Z"
   },
   {
    "duration": 29,
    "start_time": "2021-11-18T09:48:54.173Z"
   },
   {
    "duration": 3,
    "start_time": "2021-11-18T09:48:54.204Z"
   },
   {
    "duration": 367,
    "start_time": "2021-11-18T09:48:54.208Z"
   },
   {
    "duration": 3,
    "start_time": "2021-11-18T09:48:54.577Z"
   },
   {
    "duration": 30542,
    "start_time": "2021-11-18T09:48:54.581Z"
   },
   {
    "duration": 11,
    "start_time": "2021-11-18T09:49:25.124Z"
   },
   {
    "duration": 29,
    "start_time": "2021-11-18T09:49:25.136Z"
   },
   {
    "duration": 34,
    "start_time": "2021-11-18T09:49:25.167Z"
   },
   {
    "duration": 9,
    "start_time": "2021-11-18T09:49:25.203Z"
   },
   {
    "duration": 29,
    "start_time": "2021-11-18T09:49:25.214Z"
   },
   {
    "duration": 3518,
    "start_time": "2021-11-18T09:49:25.245Z"
   },
   {
    "duration": 22,
    "start_time": "2021-11-18T09:49:28.765Z"
   },
   {
    "duration": 3644,
    "start_time": "2021-11-18T09:49:28.788Z"
   },
   {
    "duration": 8,
    "start_time": "2021-11-18T09:49:32.434Z"
   },
   {
    "duration": 12,
    "start_time": "2021-11-18T09:49:32.444Z"
   },
   {
    "duration": 7,
    "start_time": "2021-11-18T09:49:32.460Z"
   },
   {
    "duration": 26,
    "start_time": "2021-11-18T09:49:32.469Z"
   },
   {
    "duration": 11,
    "start_time": "2021-11-18T09:49:32.497Z"
   },
   {
    "duration": 17,
    "start_time": "2021-11-18T09:49:32.509Z"
   },
   {
    "duration": 28,
    "start_time": "2021-11-18T09:49:32.528Z"
   },
   {
    "duration": 48,
    "start_time": "2021-11-18T09:49:32.558Z"
   },
   {
    "duration": 18,
    "start_time": "2021-11-18T09:49:32.607Z"
   },
   {
    "duration": 18,
    "start_time": "2021-11-18T09:49:32.627Z"
   },
   {
    "duration": 42,
    "start_time": "2021-11-18T09:49:32.647Z"
   },
   {
    "duration": 24,
    "start_time": "2021-11-18T09:49:32.691Z"
   },
   {
    "duration": 23,
    "start_time": "2021-11-18T09:49:32.716Z"
   },
   {
    "duration": 23,
    "start_time": "2021-11-18T09:49:32.740Z"
   },
   {
    "duration": 23,
    "start_time": "2021-11-18T09:49:32.790Z"
   },
   {
    "duration": 23,
    "start_time": "2021-11-18T09:49:32.815Z"
   },
   {
    "duration": 22,
    "start_time": "2021-11-18T09:49:32.839Z"
   },
   {
    "duration": 544,
    "start_time": "2021-11-18T09:50:20.100Z"
   },
   {
    "duration": 1123,
    "start_time": "2021-11-18T09:50:19.523Z"
   },
   {
    "duration": 3,
    "start_time": "2021-11-18T09:50:26.659Z"
   },
   {
    "duration": 68,
    "start_time": "2021-11-18T09:50:26.663Z"
   },
   {
    "duration": 4,
    "start_time": "2021-11-18T09:50:26.732Z"
   },
   {
    "duration": 14,
    "start_time": "2021-11-18T09:50:26.738Z"
   },
   {
    "duration": 37,
    "start_time": "2021-11-18T09:50:26.753Z"
   },
   {
    "duration": 16,
    "start_time": "2021-11-18T09:50:26.792Z"
   },
   {
    "duration": 5,
    "start_time": "2021-11-18T09:50:26.810Z"
   },
   {
    "duration": 11,
    "start_time": "2021-11-18T09:50:26.817Z"
   },
   {
    "duration": 161,
    "start_time": "2021-11-18T09:50:26.829Z"
   },
   {
    "duration": 4,
    "start_time": "2021-11-18T09:50:26.992Z"
   },
   {
    "duration": 6,
    "start_time": "2021-11-18T09:50:26.998Z"
   },
   {
    "duration": 12,
    "start_time": "2021-11-18T09:50:27.005Z"
   },
   {
    "duration": 10,
    "start_time": "2021-11-18T09:50:27.018Z"
   },
   {
    "duration": 10,
    "start_time": "2021-11-18T09:50:27.029Z"
   },
   {
    "duration": 7,
    "start_time": "2021-11-18T09:50:27.041Z"
   },
   {
    "duration": 7,
    "start_time": "2021-11-18T09:50:27.049Z"
   },
   {
    "duration": 32,
    "start_time": "2021-11-18T09:50:27.058Z"
   },
   {
    "duration": 7,
    "start_time": "2021-11-18T09:50:27.092Z"
   },
   {
    "duration": 2,
    "start_time": "2021-11-18T09:50:27.102Z"
   },
   {
    "duration": 4,
    "start_time": "2021-11-18T09:50:27.107Z"
   },
   {
    "duration": 535,
    "start_time": "2021-11-18T09:50:27.112Z"
   },
   {
    "duration": 1107,
    "start_time": "2021-11-18T09:50:26.542Z"
   },
   {
    "duration": 1104,
    "start_time": "2021-11-18T09:50:26.546Z"
   },
   {
    "duration": 1103,
    "start_time": "2021-11-18T09:50:26.548Z"
   },
   {
    "duration": 1100,
    "start_time": "2021-11-18T09:50:26.551Z"
   },
   {
    "duration": 1097,
    "start_time": "2021-11-18T09:50:26.555Z"
   },
   {
    "duration": 1095,
    "start_time": "2021-11-18T09:50:26.558Z"
   },
   {
    "duration": 1093,
    "start_time": "2021-11-18T09:50:26.561Z"
   },
   {
    "duration": 1092,
    "start_time": "2021-11-18T09:50:26.563Z"
   },
   {
    "duration": 1090,
    "start_time": "2021-11-18T09:50:26.566Z"
   },
   {
    "duration": 1089,
    "start_time": "2021-11-18T09:50:26.568Z"
   },
   {
    "duration": 1087,
    "start_time": "2021-11-18T09:50:26.571Z"
   },
   {
    "duration": 1086,
    "start_time": "2021-11-18T09:50:26.573Z"
   },
   {
    "duration": 1084,
    "start_time": "2021-11-18T09:50:26.576Z"
   },
   {
    "duration": 1083,
    "start_time": "2021-11-18T09:50:26.578Z"
   },
   {
    "duration": 1080,
    "start_time": "2021-11-18T09:50:26.581Z"
   },
   {
    "duration": 1078,
    "start_time": "2021-11-18T09:50:26.584Z"
   },
   {
    "duration": 1076,
    "start_time": "2021-11-18T09:50:26.587Z"
   },
   {
    "duration": 1075,
    "start_time": "2021-11-18T09:50:26.589Z"
   },
   {
    "duration": 1073,
    "start_time": "2021-11-18T09:50:26.592Z"
   },
   {
    "duration": 1072,
    "start_time": "2021-11-18T09:50:26.594Z"
   },
   {
    "duration": 1069,
    "start_time": "2021-11-18T09:50:26.597Z"
   },
   {
    "duration": 1067,
    "start_time": "2021-11-18T09:50:26.600Z"
   },
   {
    "duration": 1066,
    "start_time": "2021-11-18T09:50:26.602Z"
   },
   {
    "duration": 1064,
    "start_time": "2021-11-18T09:50:26.605Z"
   },
   {
    "duration": 1045,
    "start_time": "2021-11-18T09:50:26.625Z"
   },
   {
    "duration": 1043,
    "start_time": "2021-11-18T09:50:26.628Z"
   },
   {
    "duration": 1041,
    "start_time": "2021-11-18T09:50:26.631Z"
   },
   {
    "duration": 1039,
    "start_time": "2021-11-18T09:50:26.633Z"
   },
   {
    "duration": 1037,
    "start_time": "2021-11-18T09:50:26.636Z"
   },
   {
    "duration": 1035,
    "start_time": "2021-11-18T09:50:26.639Z"
   },
   {
    "duration": 1034,
    "start_time": "2021-11-18T09:50:26.641Z"
   },
   {
    "duration": 1032,
    "start_time": "2021-11-18T09:50:26.644Z"
   },
   {
    "duration": 1031,
    "start_time": "2021-11-18T09:50:26.646Z"
   },
   {
    "duration": 1029,
    "start_time": "2021-11-18T09:50:26.649Z"
   },
   {
    "duration": 1028,
    "start_time": "2021-11-18T09:50:26.651Z"
   },
   {
    "duration": 1025,
    "start_time": "2021-11-18T09:50:26.654Z"
   },
   {
    "duration": 1023,
    "start_time": "2021-11-18T09:50:26.657Z"
   },
   {
    "duration": 1021,
    "start_time": "2021-11-18T09:50:26.660Z"
   },
   {
    "duration": 1020,
    "start_time": "2021-11-18T09:50:26.662Z"
   },
   {
    "duration": 1018,
    "start_time": "2021-11-18T09:50:26.665Z"
   },
   {
    "duration": 1017,
    "start_time": "2021-11-18T09:50:26.667Z"
   },
   {
    "duration": 1015,
    "start_time": "2021-11-18T09:50:26.670Z"
   },
   {
    "duration": 1014,
    "start_time": "2021-11-18T09:50:26.673Z"
   },
   {
    "duration": 1013,
    "start_time": "2021-11-18T09:50:26.675Z"
   },
   {
    "duration": 1011,
    "start_time": "2021-11-18T09:50:26.678Z"
   },
   {
    "duration": 1010,
    "start_time": "2021-11-18T09:50:26.680Z"
   },
   {
    "duration": 1007,
    "start_time": "2021-11-18T09:50:26.683Z"
   },
   {
    "duration": 1006,
    "start_time": "2021-11-18T09:50:26.685Z"
   },
   {
    "duration": 1004,
    "start_time": "2021-11-18T09:50:26.688Z"
   },
   {
    "duration": 6,
    "start_time": "2021-11-18T09:51:52.423Z"
   },
   {
    "duration": 2,
    "start_time": "2021-11-18T09:51:56.331Z"
   },
   {
    "duration": 8,
    "start_time": "2021-11-18T09:51:56.706Z"
   },
   {
    "duration": 2,
    "start_time": "2021-11-18T09:51:58.065Z"
   },
   {
    "duration": 18,
    "start_time": "2021-11-18T09:51:58.832Z"
   },
   {
    "duration": 5,
    "start_time": "2021-11-18T09:52:03.989Z"
   },
   {
    "duration": 3,
    "start_time": "2021-11-18T09:52:49.341Z"
   },
   {
    "duration": 3,
    "start_time": "2021-11-18T09:52:51.725Z"
   },
   {
    "duration": 9,
    "start_time": "2021-11-18T09:52:52.150Z"
   },
   {
    "duration": 2,
    "start_time": "2021-11-18T09:52:53.667Z"
   },
   {
    "duration": 9,
    "start_time": "2021-11-18T09:52:54.253Z"
   },
   {
    "duration": 5,
    "start_time": "2021-11-18T09:52:58.686Z"
   },
   {
    "duration": 5,
    "start_time": "2021-11-18T09:54:12.253Z"
   },
   {
    "duration": 3,
    "start_time": "2021-11-18T09:54:16.777Z"
   },
   {
    "duration": 9,
    "start_time": "2021-11-18T09:54:17.222Z"
   },
   {
    "duration": 2,
    "start_time": "2021-11-18T09:54:17.927Z"
   },
   {
    "duration": 8,
    "start_time": "2021-11-18T09:54:18.691Z"
   },
   {
    "duration": 5,
    "start_time": "2021-11-18T09:54:20.947Z"
   },
   {
    "duration": 2,
    "start_time": "2021-11-18T09:54:25.292Z"
   },
   {
    "duration": 68,
    "start_time": "2021-11-18T09:54:25.296Z"
   },
   {
    "duration": 4,
    "start_time": "2021-11-18T09:54:25.366Z"
   },
   {
    "duration": 5,
    "start_time": "2021-11-18T09:54:25.388Z"
   },
   {
    "duration": 14,
    "start_time": "2021-11-18T09:54:25.394Z"
   },
   {
    "duration": 21,
    "start_time": "2021-11-18T09:54:25.410Z"
   },
   {
    "duration": 6,
    "start_time": "2021-11-18T09:54:25.434Z"
   },
   {
    "duration": 47,
    "start_time": "2021-11-18T09:54:25.442Z"
   },
   {
    "duration": 131,
    "start_time": "2021-11-18T09:54:25.490Z"
   },
   {
    "duration": 5,
    "start_time": "2021-11-18T09:54:25.622Z"
   },
   {
    "duration": 5,
    "start_time": "2021-11-18T09:54:25.628Z"
   },
   {
    "duration": 10,
    "start_time": "2021-11-18T09:54:25.634Z"
   },
   {
    "duration": 6,
    "start_time": "2021-11-18T09:54:25.646Z"
   },
   {
    "duration": 7,
    "start_time": "2021-11-18T09:54:25.654Z"
   },
   {
    "duration": 26,
    "start_time": "2021-11-18T09:54:25.662Z"
   },
   {
    "duration": 6,
    "start_time": "2021-11-18T09:54:25.689Z"
   },
   {
    "duration": 22,
    "start_time": "2021-11-18T09:54:25.697Z"
   },
   {
    "duration": 13,
    "start_time": "2021-11-18T09:54:25.721Z"
   },
   {
    "duration": 5,
    "start_time": "2021-11-18T09:54:25.737Z"
   },
   {
    "duration": 6,
    "start_time": "2021-11-18T09:54:25.744Z"
   },
   {
    "duration": 10,
    "start_time": "2021-11-18T09:54:25.751Z"
   },
   {
    "duration": 4,
    "start_time": "2021-11-18T09:54:25.762Z"
   },
   {
    "duration": 14,
    "start_time": "2021-11-18T09:54:25.767Z"
   },
   {
    "duration": 11,
    "start_time": "2021-11-18T09:54:25.783Z"
   },
   {
    "duration": 20,
    "start_time": "2021-11-18T09:54:25.795Z"
   },
   {
    "duration": 5,
    "start_time": "2021-11-18T09:54:25.817Z"
   },
   {
    "duration": 11,
    "start_time": "2021-11-18T09:54:25.823Z"
   },
   {
    "duration": 13,
    "start_time": "2021-11-18T09:54:25.836Z"
   },
   {
    "duration": 9,
    "start_time": "2021-11-18T09:54:25.851Z"
   },
   {
    "duration": 15,
    "start_time": "2021-11-18T09:54:25.861Z"
   },
   {
    "duration": 17,
    "start_time": "2021-11-18T09:54:25.878Z"
   },
   {
    "duration": 7,
    "start_time": "2021-11-18T09:54:25.896Z"
   },
   {
    "duration": 32,
    "start_time": "2021-11-18T09:54:25.905Z"
   },
   {
    "duration": 6,
    "start_time": "2021-11-18T09:54:25.939Z"
   },
   {
    "duration": 21,
    "start_time": "2021-11-18T09:54:25.946Z"
   },
   {
    "duration": 11,
    "start_time": "2021-11-18T09:54:25.968Z"
   },
   {
    "duration": 21,
    "start_time": "2021-11-18T09:54:25.980Z"
   },
   {
    "duration": 5,
    "start_time": "2021-11-18T09:54:26.002Z"
   },
   {
    "duration": 8,
    "start_time": "2021-11-18T09:54:26.008Z"
   },
   {
    "duration": 6,
    "start_time": "2021-11-18T09:54:26.018Z"
   },
   {
    "duration": 29,
    "start_time": "2021-11-18T09:54:26.025Z"
   },
   {
    "duration": 3,
    "start_time": "2021-11-18T09:54:26.056Z"
   },
   {
    "duration": 360,
    "start_time": "2021-11-18T09:54:26.060Z"
   },
   {
    "duration": 3,
    "start_time": "2021-11-18T09:54:26.422Z"
   },
   {
    "duration": 30285,
    "start_time": "2021-11-18T09:54:26.426Z"
   },
   {
    "duration": 10,
    "start_time": "2021-11-18T09:54:56.713Z"
   },
   {
    "duration": 37,
    "start_time": "2021-11-18T09:54:56.724Z"
   },
   {
    "duration": 34,
    "start_time": "2021-11-18T09:54:56.762Z"
   },
   {
    "duration": 10,
    "start_time": "2021-11-18T09:54:56.797Z"
   },
   {
    "duration": 35,
    "start_time": "2021-11-18T09:54:56.808Z"
   },
   {
    "duration": 3100,
    "start_time": "2021-11-18T09:54:56.845Z"
   },
   {
    "duration": 13,
    "start_time": "2021-11-18T09:54:59.947Z"
   },
   {
    "duration": 3687,
    "start_time": "2021-11-18T09:54:59.961Z"
   },
   {
    "duration": 7,
    "start_time": "2021-11-18T09:55:03.649Z"
   },
   {
    "duration": 11,
    "start_time": "2021-11-18T09:55:03.660Z"
   },
   {
    "duration": 16,
    "start_time": "2021-11-18T09:55:03.673Z"
   },
   {
    "duration": 15,
    "start_time": "2021-11-18T09:55:03.690Z"
   },
   {
    "duration": 16,
    "start_time": "2021-11-18T09:55:03.707Z"
   },
   {
    "duration": 19,
    "start_time": "2021-11-18T09:55:03.724Z"
   },
   {
    "duration": 27,
    "start_time": "2021-11-18T09:55:03.744Z"
   },
   {
    "duration": 18,
    "start_time": "2021-11-18T09:55:03.787Z"
   },
   {
    "duration": 16,
    "start_time": "2021-11-18T09:55:03.807Z"
   },
   {
    "duration": 17,
    "start_time": "2021-11-18T09:55:03.825Z"
   },
   {
    "duration": 44,
    "start_time": "2021-11-18T09:55:03.844Z"
   },
   {
    "duration": 25,
    "start_time": "2021-11-18T09:55:03.890Z"
   },
   {
    "duration": 22,
    "start_time": "2021-11-18T09:55:03.916Z"
   },
   {
    "duration": 48,
    "start_time": "2021-11-18T09:55:03.940Z"
   },
   {
    "duration": 23,
    "start_time": "2021-11-18T09:55:03.989Z"
   },
   {
    "duration": 23,
    "start_time": "2021-11-18T09:55:04.014Z"
   },
   {
    "duration": 23,
    "start_time": "2021-11-18T09:55:04.039Z"
   },
   {
    "duration": 87,
    "start_time": "2021-11-18T09:55:47.727Z"
   },
   {
    "duration": 74,
    "start_time": "2021-11-18T09:56:02.357Z"
   },
   {
    "duration": 2,
    "start_time": "2021-11-18T09:56:05.181Z"
   },
   {
    "duration": 10,
    "start_time": "2021-11-18T09:56:05.625Z"
   },
   {
    "duration": 3,
    "start_time": "2021-11-18T09:56:06.854Z"
   },
   {
    "duration": 21,
    "start_time": "2021-11-18T09:56:07.495Z"
   },
   {
    "duration": 5,
    "start_time": "2021-11-18T09:56:10.865Z"
   },
   {
    "duration": 7,
    "start_time": "2021-11-18T10:31:43.800Z"
   },
   {
    "duration": 8,
    "start_time": "2021-11-18T10:31:53.322Z"
   },
   {
    "duration": 7,
    "start_time": "2021-11-18T10:32:06.338Z"
   },
   {
    "duration": 3,
    "start_time": "2021-11-18T10:32:14.594Z"
   },
   {
    "duration": 3,
    "start_time": "2021-11-18T10:32:27.477Z"
   },
   {
    "duration": 4,
    "start_time": "2021-11-18T11:06:54.955Z"
   },
   {
    "duration": 2,
    "start_time": "2021-11-18T11:06:56.981Z"
   },
   {
    "duration": 8,
    "start_time": "2021-11-18T11:06:57.615Z"
   },
   {
    "duration": 5,
    "start_time": "2021-11-18T11:06:59.795Z"
   },
   {
    "duration": 4,
    "start_time": "2021-11-18T11:07:29.684Z"
   },
   {
    "duration": 2,
    "start_time": "2021-11-18T11:07:30.012Z"
   },
   {
    "duration": 8,
    "start_time": "2021-11-18T11:07:30.346Z"
   },
   {
    "duration": 5,
    "start_time": "2021-11-18T11:07:30.810Z"
   },
   {
    "duration": 3,
    "start_time": "2021-11-18T11:13:53.416Z"
   },
   {
    "duration": 70,
    "start_time": "2021-11-18T11:13:53.421Z"
   },
   {
    "duration": 4,
    "start_time": "2021-11-18T11:13:53.492Z"
   },
   {
    "duration": 9,
    "start_time": "2021-11-18T11:13:53.497Z"
   },
   {
    "duration": 13,
    "start_time": "2021-11-18T11:13:53.508Z"
   },
   {
    "duration": 16,
    "start_time": "2021-11-18T11:13:53.522Z"
   },
   {
    "duration": 4,
    "start_time": "2021-11-18T11:13:53.540Z"
   },
   {
    "duration": 10,
    "start_time": "2021-11-18T11:13:53.546Z"
   },
   {
    "duration": 182,
    "start_time": "2021-11-18T11:13:53.558Z"
   },
   {
    "duration": 4,
    "start_time": "2021-11-18T11:13:53.741Z"
   },
   {
    "duration": 13,
    "start_time": "2021-11-18T11:13:53.746Z"
   },
   {
    "duration": 9,
    "start_time": "2021-11-18T11:13:53.760Z"
   },
   {
    "duration": 5,
    "start_time": "2021-11-18T11:13:53.788Z"
   },
   {
    "duration": 9,
    "start_time": "2021-11-18T11:13:53.794Z"
   },
   {
    "duration": 6,
    "start_time": "2021-11-18T11:13:53.804Z"
   },
   {
    "duration": 6,
    "start_time": "2021-11-18T11:13:53.811Z"
   },
   {
    "duration": 10,
    "start_time": "2021-11-18T11:13:53.818Z"
   },
   {
    "duration": 14,
    "start_time": "2021-11-18T11:13:53.829Z"
   },
   {
    "duration": 9,
    "start_time": "2021-11-18T11:13:53.846Z"
   },
   {
    "duration": 9,
    "start_time": "2021-11-18T11:13:53.857Z"
   },
   {
    "duration": 5,
    "start_time": "2021-11-18T11:13:53.868Z"
   },
   {
    "duration": 9,
    "start_time": "2021-11-18T11:13:53.888Z"
   },
   {
    "duration": 2,
    "start_time": "2021-11-18T11:13:53.899Z"
   },
   {
    "duration": 8,
    "start_time": "2021-11-18T11:13:53.902Z"
   },
   {
    "duration": 19,
    "start_time": "2021-11-18T11:13:53.912Z"
   },
   {
    "duration": 5,
    "start_time": "2021-11-18T11:13:53.933Z"
   },
   {
    "duration": 7,
    "start_time": "2021-11-18T11:13:53.939Z"
   },
   {
    "duration": 11,
    "start_time": "2021-11-18T11:13:53.948Z"
   },
   {
    "duration": 8,
    "start_time": "2021-11-18T11:13:53.988Z"
   },
   {
    "duration": 15,
    "start_time": "2021-11-18T11:13:53.997Z"
   },
   {
    "duration": 8,
    "start_time": "2021-11-18T11:13:54.014Z"
   },
   {
    "duration": 6,
    "start_time": "2021-11-18T11:13:54.024Z"
   },
   {
    "duration": 20,
    "start_time": "2021-11-18T11:13:54.032Z"
   },
   {
    "duration": 34,
    "start_time": "2021-11-18T11:13:54.054Z"
   },
   {
    "duration": 8,
    "start_time": "2021-11-18T11:13:54.090Z"
   },
   {
    "duration": 10,
    "start_time": "2021-11-18T11:13:54.099Z"
   },
   {
    "duration": 20,
    "start_time": "2021-11-18T11:13:54.110Z"
   },
   {
    "duration": 4,
    "start_time": "2021-11-18T11:13:54.132Z"
   },
   {
    "duration": 5,
    "start_time": "2021-11-18T11:13:54.138Z"
   },
   {
    "duration": 6,
    "start_time": "2021-11-18T11:13:54.144Z"
   },
   {
    "duration": 45,
    "start_time": "2021-11-18T11:13:54.151Z"
   },
   {
    "duration": 3,
    "start_time": "2021-11-18T11:13:54.197Z"
   },
   {
    "duration": 424,
    "start_time": "2021-11-18T11:13:54.202Z"
   },
   {
    "duration": 4,
    "start_time": "2021-11-18T11:13:54.628Z"
   },
   {
    "duration": 11,
    "start_time": "2021-11-18T11:14:33.519Z"
   },
   {
    "duration": 75,
    "start_time": "2021-11-18T11:14:33.531Z"
   },
   {
    "duration": 3,
    "start_time": "2021-11-18T11:14:33.608Z"
   },
   {
    "duration": 12,
    "start_time": "2021-11-18T11:14:33.613Z"
   },
   {
    "duration": 15,
    "start_time": "2021-11-18T11:14:33.626Z"
   },
   {
    "duration": 13,
    "start_time": "2021-11-18T11:14:33.643Z"
   },
   {
    "duration": 6,
    "start_time": "2021-11-18T11:14:33.658Z"
   },
   {
    "duration": 27,
    "start_time": "2021-11-18T11:14:33.666Z"
   },
   {
    "duration": 133,
    "start_time": "2021-11-18T11:14:33.695Z"
   },
   {
    "duration": 5,
    "start_time": "2021-11-18T11:14:33.830Z"
   },
   {
    "duration": 9,
    "start_time": "2021-11-18T11:14:33.836Z"
   },
   {
    "duration": 10,
    "start_time": "2021-11-18T11:14:33.847Z"
   },
   {
    "duration": 9,
    "start_time": "2021-11-18T11:14:33.859Z"
   },
   {
    "duration": 19,
    "start_time": "2021-11-18T11:14:33.869Z"
   },
   {
    "duration": 12,
    "start_time": "2021-11-18T11:14:33.889Z"
   },
   {
    "duration": 12,
    "start_time": "2021-11-18T11:14:33.902Z"
   },
   {
    "duration": 8,
    "start_time": "2021-11-18T11:14:33.916Z"
   },
   {
    "duration": 6,
    "start_time": "2021-11-18T11:14:33.926Z"
   },
   {
    "duration": 3,
    "start_time": "2021-11-18T11:14:33.933Z"
   },
   {
    "duration": 10,
    "start_time": "2021-11-18T11:14:33.937Z"
   },
   {
    "duration": 8,
    "start_time": "2021-11-18T11:14:33.948Z"
   },
   {
    "duration": 37,
    "start_time": "2021-11-18T11:14:33.957Z"
   },
   {
    "duration": 2,
    "start_time": "2021-11-18T11:14:33.995Z"
   },
   {
    "duration": 7,
    "start_time": "2021-11-18T11:14:33.998Z"
   },
   {
    "duration": 103,
    "start_time": "2021-11-18T11:14:34.006Z"
   },
   {
    "duration": 5,
    "start_time": "2021-11-18T11:14:34.110Z"
   },
   {
    "duration": 10,
    "start_time": "2021-11-18T11:14:34.116Z"
   },
   {
    "duration": 24,
    "start_time": "2021-11-18T11:14:34.128Z"
   },
   {
    "duration": 15,
    "start_time": "2021-11-18T11:14:34.153Z"
   },
   {
    "duration": 18,
    "start_time": "2021-11-18T11:14:34.169Z"
   },
   {
    "duration": 18,
    "start_time": "2021-11-18T11:14:34.189Z"
   },
   {
    "duration": 17,
    "start_time": "2021-11-18T11:14:34.208Z"
   },
   {
    "duration": 20,
    "start_time": "2021-11-18T11:14:34.226Z"
   },
   {
    "duration": 13,
    "start_time": "2021-11-18T11:14:34.248Z"
   },
   {
    "duration": 18,
    "start_time": "2021-11-18T11:14:34.264Z"
   },
   {
    "duration": 19,
    "start_time": "2021-11-18T11:14:34.284Z"
   },
   {
    "duration": 33,
    "start_time": "2021-11-18T11:14:34.304Z"
   },
   {
    "duration": 9,
    "start_time": "2021-11-18T11:14:34.339Z"
   },
   {
    "duration": 29,
    "start_time": "2021-11-18T11:14:34.349Z"
   },
   {
    "duration": 17,
    "start_time": "2021-11-18T11:14:34.379Z"
   },
   {
    "duration": 37,
    "start_time": "2021-11-18T11:14:34.397Z"
   },
   {
    "duration": 3,
    "start_time": "2021-11-18T11:14:34.436Z"
   },
   {
    "duration": 360,
    "start_time": "2021-11-18T11:14:34.440Z"
   },
   {
    "duration": 3,
    "start_time": "2021-11-18T11:14:34.802Z"
   },
   {
    "duration": 29614,
    "start_time": "2021-11-18T11:14:34.807Z"
   },
   {
    "duration": 11,
    "start_time": "2021-11-18T11:15:04.422Z"
   },
   {
    "duration": 37,
    "start_time": "2021-11-18T11:15:04.434Z"
   },
   {
    "duration": 35,
    "start_time": "2021-11-18T11:15:04.473Z"
   },
   {
    "duration": 10,
    "start_time": "2021-11-18T11:15:04.510Z"
   },
   {
    "duration": 38,
    "start_time": "2021-11-18T11:15:04.522Z"
   },
   {
    "duration": 3376,
    "start_time": "2021-11-18T11:15:04.562Z"
   },
   {
    "duration": 13,
    "start_time": "2021-11-18T11:15:07.940Z"
   },
   {
    "duration": 3578,
    "start_time": "2021-11-18T11:15:07.954Z"
   },
   {
    "duration": 6,
    "start_time": "2021-11-18T11:15:11.534Z"
   },
   {
    "duration": 13,
    "start_time": "2021-11-18T11:15:11.541Z"
   },
   {
    "duration": 8,
    "start_time": "2021-11-18T11:15:11.556Z"
   },
   {
    "duration": 27,
    "start_time": "2021-11-18T11:15:11.565Z"
   },
   {
    "duration": 10,
    "start_time": "2021-11-18T11:15:11.593Z"
   },
   {
    "duration": 19,
    "start_time": "2021-11-18T11:15:11.604Z"
   },
   {
    "duration": 27,
    "start_time": "2021-11-18T11:15:11.624Z"
   },
   {
    "duration": 41,
    "start_time": "2021-11-18T11:15:11.653Z"
   },
   {
    "duration": 17,
    "start_time": "2021-11-18T11:15:11.695Z"
   },
   {
    "duration": 16,
    "start_time": "2021-11-18T11:15:11.713Z"
   },
   {
    "duration": 16,
    "start_time": "2021-11-18T11:15:11.730Z"
   },
   {
    "duration": 54,
    "start_time": "2021-11-18T11:15:11.748Z"
   },
   {
    "duration": 21,
    "start_time": "2021-11-18T11:15:11.804Z"
   },
   {
    "duration": 20,
    "start_time": "2021-11-18T11:15:11.827Z"
   },
   {
    "duration": 54,
    "start_time": "2021-11-18T11:15:11.849Z"
   },
   {
    "duration": 23,
    "start_time": "2021-11-18T11:15:11.904Z"
   },
   {
    "duration": 22,
    "start_time": "2021-11-18T11:15:11.928Z"
   },
   {
    "duration": 3,
    "start_time": "2021-11-18T11:15:28.556Z"
   },
   {
    "duration": 93,
    "start_time": "2021-11-18T11:15:28.562Z"
   },
   {
    "duration": 31,
    "start_time": "2021-11-18T11:15:28.657Z"
   },
   {
    "duration": 8,
    "start_time": "2021-11-18T11:15:28.691Z"
   },
   {
    "duration": 20,
    "start_time": "2021-11-18T11:15:28.702Z"
   },
   {
    "duration": 18,
    "start_time": "2021-11-18T11:15:28.724Z"
   },
   {
    "duration": 5,
    "start_time": "2021-11-18T11:15:28.743Z"
   },
   {
    "duration": 42,
    "start_time": "2021-11-18T11:15:28.751Z"
   },
   {
    "duration": 134,
    "start_time": "2021-11-18T11:15:28.795Z"
   },
   {
    "duration": 5,
    "start_time": "2021-11-18T11:15:28.930Z"
   },
   {
    "duration": 10,
    "start_time": "2021-11-18T11:15:28.936Z"
   },
   {
    "duration": 9,
    "start_time": "2021-11-18T11:15:28.947Z"
   },
   {
    "duration": 5,
    "start_time": "2021-11-18T11:15:28.958Z"
   },
   {
    "duration": 24,
    "start_time": "2021-11-18T11:15:28.964Z"
   },
   {
    "duration": 5,
    "start_time": "2021-11-18T11:15:28.989Z"
   },
   {
    "duration": 7,
    "start_time": "2021-11-18T11:15:28.995Z"
   },
   {
    "duration": 7,
    "start_time": "2021-11-18T11:15:29.003Z"
   },
   {
    "duration": 6,
    "start_time": "2021-11-18T11:15:29.012Z"
   },
   {
    "duration": 7,
    "start_time": "2021-11-18T11:15:29.020Z"
   },
   {
    "duration": 8,
    "start_time": "2021-11-18T11:15:29.028Z"
   },
   {
    "duration": 6,
    "start_time": "2021-11-18T11:15:29.037Z"
   },
   {
    "duration": 13,
    "start_time": "2021-11-18T11:15:29.045Z"
   },
   {
    "duration": 5,
    "start_time": "2021-11-18T11:15:29.091Z"
   },
   {
    "duration": 2,
    "start_time": "2021-11-18T11:15:29.098Z"
   },
   {
    "duration": 22,
    "start_time": "2021-11-18T11:15:29.102Z"
   },
   {
    "duration": 15,
    "start_time": "2021-11-18T11:15:29.125Z"
   },
   {
    "duration": 15,
    "start_time": "2021-11-18T11:15:29.141Z"
   },
   {
    "duration": 22,
    "start_time": "2021-11-18T11:15:29.158Z"
   },
   {
    "duration": 10,
    "start_time": "2021-11-18T11:15:29.181Z"
   },
   {
    "duration": 16,
    "start_time": "2021-11-18T11:15:29.193Z"
   },
   {
    "duration": 14,
    "start_time": "2021-11-18T11:15:29.210Z"
   },
   {
    "duration": 16,
    "start_time": "2021-11-18T11:15:29.226Z"
   },
   {
    "duration": 30,
    "start_time": "2021-11-18T11:15:29.243Z"
   },
   {
    "duration": 5,
    "start_time": "2021-11-18T11:15:29.275Z"
   },
   {
    "duration": 15,
    "start_time": "2021-11-18T11:15:29.282Z"
   },
   {
    "duration": 12,
    "start_time": "2021-11-18T11:15:29.298Z"
   },
   {
    "duration": 17,
    "start_time": "2021-11-18T11:15:29.311Z"
   },
   {
    "duration": 5,
    "start_time": "2021-11-18T11:15:29.329Z"
   },
   {
    "duration": 9,
    "start_time": "2021-11-18T11:15:29.335Z"
   },
   {
    "duration": 6,
    "start_time": "2021-11-18T11:15:29.346Z"
   },
   {
    "duration": 42,
    "start_time": "2021-11-18T11:15:29.353Z"
   },
   {
    "duration": 3,
    "start_time": "2021-11-18T11:15:29.397Z"
   },
   {
    "duration": 431,
    "start_time": "2021-11-18T11:15:29.401Z"
   },
   {
    "duration": 3,
    "start_time": "2021-11-18T11:15:29.834Z"
   },
   {
    "duration": 2,
    "start_time": "2021-11-18T11:16:07.103Z"
   },
   {
    "duration": 64,
    "start_time": "2021-11-18T11:16:07.107Z"
   },
   {
    "duration": 3,
    "start_time": "2021-11-18T11:16:07.173Z"
   },
   {
    "duration": 15,
    "start_time": "2021-11-18T11:16:07.178Z"
   },
   {
    "duration": 17,
    "start_time": "2021-11-18T11:16:07.194Z"
   },
   {
    "duration": 14,
    "start_time": "2021-11-18T11:16:07.213Z"
   },
   {
    "duration": 6,
    "start_time": "2021-11-18T11:16:07.229Z"
   },
   {
    "duration": 16,
    "start_time": "2021-11-18T11:16:07.237Z"
   },
   {
    "duration": 148,
    "start_time": "2021-11-18T11:16:07.254Z"
   },
   {
    "duration": 4,
    "start_time": "2021-11-18T11:16:07.404Z"
   },
   {
    "duration": 14,
    "start_time": "2021-11-18T11:16:07.409Z"
   },
   {
    "duration": 18,
    "start_time": "2021-11-18T11:16:07.425Z"
   },
   {
    "duration": 16,
    "start_time": "2021-11-18T11:16:07.445Z"
   },
   {
    "duration": 13,
    "start_time": "2021-11-18T11:16:07.463Z"
   },
   {
    "duration": 20,
    "start_time": "2021-11-18T11:16:07.477Z"
   },
   {
    "duration": 16,
    "start_time": "2021-11-18T11:16:07.499Z"
   },
   {
    "duration": 17,
    "start_time": "2021-11-18T11:16:07.517Z"
   },
   {
    "duration": 14,
    "start_time": "2021-11-18T11:16:07.536Z"
   },
   {
    "duration": 9,
    "start_time": "2021-11-18T11:16:07.551Z"
   },
   {
    "duration": 16,
    "start_time": "2021-11-18T11:16:07.561Z"
   },
   {
    "duration": 15,
    "start_time": "2021-11-18T11:16:07.579Z"
   },
   {
    "duration": 12,
    "start_time": "2021-11-18T11:16:07.596Z"
   },
   {
    "duration": 285,
    "start_time": "2021-11-18T11:16:07.609Z"
   },
   {
    "duration": 1115,
    "start_time": "2021-11-18T11:16:06.780Z"
   },
   {
    "duration": 1113,
    "start_time": "2021-11-18T11:16:06.783Z"
   },
   {
    "duration": 1112,
    "start_time": "2021-11-18T11:16:06.785Z"
   },
   {
    "duration": 1110,
    "start_time": "2021-11-18T11:16:06.788Z"
   },
   {
    "duration": 1109,
    "start_time": "2021-11-18T11:16:06.790Z"
   },
   {
    "duration": 1108,
    "start_time": "2021-11-18T11:16:06.792Z"
   },
   {
    "duration": 1095,
    "start_time": "2021-11-18T11:16:06.806Z"
   },
   {
    "duration": 1093,
    "start_time": "2021-11-18T11:16:06.809Z"
   },
   {
    "duration": 1092,
    "start_time": "2021-11-18T11:16:06.811Z"
   },
   {
    "duration": 1090,
    "start_time": "2021-11-18T11:16:06.814Z"
   },
   {
    "duration": 1089,
    "start_time": "2021-11-18T11:16:06.816Z"
   },
   {
    "duration": 1088,
    "start_time": "2021-11-18T11:16:06.818Z"
   },
   {
    "duration": 1085,
    "start_time": "2021-11-18T11:16:06.822Z"
   },
   {
    "duration": 1084,
    "start_time": "2021-11-18T11:16:06.824Z"
   },
   {
    "duration": 1081,
    "start_time": "2021-11-18T11:16:06.827Z"
   },
   {
    "duration": 1080,
    "start_time": "2021-11-18T11:16:06.829Z"
   },
   {
    "duration": 1079,
    "start_time": "2021-11-18T11:16:06.831Z"
   },
   {
    "duration": 1078,
    "start_time": "2021-11-18T11:16:06.833Z"
   },
   {
    "duration": 1066,
    "start_time": "2021-11-18T11:16:06.846Z"
   },
   {
    "duration": 1059,
    "start_time": "2021-11-18T11:16:06.854Z"
   },
   {
    "duration": 1057,
    "start_time": "2021-11-18T11:16:06.857Z"
   },
   {
    "duration": 1055,
    "start_time": "2021-11-18T11:16:06.860Z"
   },
   {
    "duration": 1054,
    "start_time": "2021-11-18T11:16:06.862Z"
   },
   {
    "duration": 1051,
    "start_time": "2021-11-18T11:16:06.865Z"
   },
   {
    "duration": 1050,
    "start_time": "2021-11-18T11:16:06.867Z"
   },
   {
    "duration": 1042,
    "start_time": "2021-11-18T11:16:06.876Z"
   },
   {
    "duration": 1041,
    "start_time": "2021-11-18T11:16:06.878Z"
   },
   {
    "duration": 1039,
    "start_time": "2021-11-18T11:16:06.881Z"
   },
   {
    "duration": 1037,
    "start_time": "2021-11-18T11:16:06.883Z"
   },
   {
    "duration": 1036,
    "start_time": "2021-11-18T11:16:06.885Z"
   },
   {
    "duration": 1034,
    "start_time": "2021-11-18T11:16:06.888Z"
   },
   {
    "duration": 1027,
    "start_time": "2021-11-18T11:16:06.896Z"
   },
   {
    "duration": 1025,
    "start_time": "2021-11-18T11:16:06.899Z"
   },
   {
    "duration": 1024,
    "start_time": "2021-11-18T11:16:06.901Z"
   },
   {
    "duration": 1018,
    "start_time": "2021-11-18T11:16:06.908Z"
   },
   {
    "duration": 1016,
    "start_time": "2021-11-18T11:16:06.911Z"
   },
   {
    "duration": 1010,
    "start_time": "2021-11-18T11:16:06.918Z"
   },
   {
    "duration": 1003,
    "start_time": "2021-11-18T11:16:06.925Z"
   },
   {
    "duration": 1001,
    "start_time": "2021-11-18T11:16:06.928Z"
   },
   {
    "duration": 996,
    "start_time": "2021-11-18T11:16:06.934Z"
   },
   {
    "duration": 979,
    "start_time": "2021-11-18T11:16:06.952Z"
   },
   {
    "duration": 977,
    "start_time": "2021-11-18T11:16:06.955Z"
   },
   {
    "duration": 976,
    "start_time": "2021-11-18T11:16:06.957Z"
   },
   {
    "duration": 974,
    "start_time": "2021-11-18T11:16:06.960Z"
   },
   {
    "duration": 1024,
    "start_time": "2021-11-18T11:16:06.963Z"
   },
   {
    "duration": 1023,
    "start_time": "2021-11-18T11:16:06.965Z"
   },
   {
    "duration": 1021,
    "start_time": "2021-11-18T11:16:06.968Z"
   },
   {
    "duration": 3,
    "start_time": "2021-11-18T11:16:35.149Z"
   },
   {
    "duration": 64,
    "start_time": "2021-11-18T11:16:35.154Z"
   },
   {
    "duration": 4,
    "start_time": "2021-11-18T11:16:35.220Z"
   },
   {
    "duration": 8,
    "start_time": "2021-11-18T11:16:35.225Z"
   },
   {
    "duration": 18,
    "start_time": "2021-11-18T11:16:35.235Z"
   },
   {
    "duration": 47,
    "start_time": "2021-11-18T11:16:35.254Z"
   },
   {
    "duration": 5,
    "start_time": "2021-11-18T11:16:35.303Z"
   },
   {
    "duration": 12,
    "start_time": "2021-11-18T11:16:35.310Z"
   },
   {
    "duration": 145,
    "start_time": "2021-11-18T11:16:35.324Z"
   },
   {
    "duration": 4,
    "start_time": "2021-11-18T11:16:35.471Z"
   },
   {
    "duration": 13,
    "start_time": "2021-11-18T11:16:35.476Z"
   },
   {
    "duration": 9,
    "start_time": "2021-11-18T11:16:35.490Z"
   },
   {
    "duration": 5,
    "start_time": "2021-11-18T11:16:35.500Z"
   },
   {
    "duration": 10,
    "start_time": "2021-11-18T11:16:35.506Z"
   },
   {
    "duration": 7,
    "start_time": "2021-11-18T11:16:35.517Z"
   },
   {
    "duration": 8,
    "start_time": "2021-11-18T11:16:35.526Z"
   },
   {
    "duration": 7,
    "start_time": "2021-11-18T11:16:35.536Z"
   },
   {
    "duration": 5,
    "start_time": "2021-11-18T11:16:35.545Z"
   },
   {
    "duration": 34,
    "start_time": "2021-11-18T11:16:35.554Z"
   },
   {
    "duration": 2,
    "start_time": "2021-11-18T11:16:35.591Z"
   },
   {
    "duration": 5,
    "start_time": "2021-11-18T11:16:35.594Z"
   },
   {
    "duration": 11,
    "start_time": "2021-11-18T11:16:35.600Z"
   },
   {
    "duration": 7,
    "start_time": "2021-11-18T11:16:35.612Z"
   },
   {
    "duration": 3,
    "start_time": "2021-11-18T11:16:35.621Z"
   },
   {
    "duration": 14,
    "start_time": "2021-11-18T11:16:35.625Z"
   },
   {
    "duration": 5,
    "start_time": "2021-11-18T11:16:35.640Z"
   },
   {
    "duration": 6,
    "start_time": "2021-11-18T11:16:35.646Z"
   },
   {
    "duration": 35,
    "start_time": "2021-11-18T11:16:35.654Z"
   },
   {
    "duration": 13,
    "start_time": "2021-11-18T11:16:35.691Z"
   },
   {
    "duration": 16,
    "start_time": "2021-11-18T11:16:35.705Z"
   },
   {
    "duration": 9,
    "start_time": "2021-11-18T11:16:35.722Z"
   },
   {
    "duration": 6,
    "start_time": "2021-11-18T11:16:35.733Z"
   },
   {
    "duration": 21,
    "start_time": "2021-11-18T11:16:35.741Z"
   },
   {
    "duration": 28,
    "start_time": "2021-11-18T11:16:35.763Z"
   },
   {
    "duration": 10,
    "start_time": "2021-11-18T11:16:35.792Z"
   },
   {
    "duration": 10,
    "start_time": "2021-11-18T11:16:35.804Z"
   },
   {
    "duration": 23,
    "start_time": "2021-11-18T11:16:35.815Z"
   },
   {
    "duration": 10,
    "start_time": "2021-11-18T11:16:35.840Z"
   },
   {
    "duration": 15,
    "start_time": "2021-11-18T11:16:35.852Z"
   },
   {
    "duration": 8,
    "start_time": "2021-11-18T11:16:35.869Z"
   },
   {
    "duration": 34,
    "start_time": "2021-11-18T11:16:35.879Z"
   },
   {
    "duration": 3,
    "start_time": "2021-11-18T11:16:35.915Z"
   },
   {
    "duration": 355,
    "start_time": "2021-11-18T11:16:35.919Z"
   },
   {
    "duration": 3,
    "start_time": "2021-11-18T11:16:36.275Z"
   },
   {
    "duration": 29969,
    "start_time": "2021-11-18T11:16:36.279Z"
   },
   {
    "duration": 10,
    "start_time": "2021-11-18T11:17:06.250Z"
   },
   {
    "duration": 42,
    "start_time": "2021-11-18T11:17:06.262Z"
   },
   {
    "duration": 25,
    "start_time": "2021-11-18T11:17:06.305Z"
   },
   {
    "duration": 10,
    "start_time": "2021-11-18T11:17:06.331Z"
   },
   {
    "duration": 46,
    "start_time": "2021-11-18T11:17:06.342Z"
   },
   {
    "duration": 3966,
    "start_time": "2021-11-18T11:17:06.389Z"
   },
   {
    "duration": 13,
    "start_time": "2021-11-18T11:17:10.357Z"
   },
   {
    "duration": 3831,
    "start_time": "2021-11-18T11:17:10.372Z"
   },
   {
    "duration": 5,
    "start_time": "2021-11-18T11:17:14.205Z"
   },
   {
    "duration": 9,
    "start_time": "2021-11-18T11:17:14.215Z"
   },
   {
    "duration": 12,
    "start_time": "2021-11-18T11:17:14.226Z"
   },
   {
    "duration": 11,
    "start_time": "2021-11-18T11:17:14.240Z"
   },
   {
    "duration": 11,
    "start_time": "2021-11-18T11:17:14.253Z"
   },
   {
    "duration": 16,
    "start_time": "2021-11-18T11:17:14.288Z"
   },
   {
    "duration": 28,
    "start_time": "2021-11-18T11:17:14.305Z"
   },
   {
    "duration": 17,
    "start_time": "2021-11-18T11:17:14.335Z"
   },
   {
    "duration": 46,
    "start_time": "2021-11-18T11:17:14.354Z"
   },
   {
    "duration": 16,
    "start_time": "2021-11-18T11:17:14.402Z"
   },
   {
    "duration": 16,
    "start_time": "2021-11-18T11:17:14.420Z"
   },
   {
    "duration": 59,
    "start_time": "2021-11-18T11:17:14.438Z"
   },
   {
    "duration": 29,
    "start_time": "2021-11-18T11:17:14.499Z"
   },
   {
    "duration": 23,
    "start_time": "2021-11-18T11:17:14.530Z"
   },
   {
    "duration": 42,
    "start_time": "2021-11-18T11:17:14.556Z"
   },
   {
    "duration": 25,
    "start_time": "2021-11-18T11:17:14.599Z"
   },
   {
    "duration": 23,
    "start_time": "2021-11-18T11:17:14.625Z"
   },
   {
    "duration": 944,
    "start_time": "2021-11-18T11:25:53.960Z"
   },
   {
    "duration": 2,
    "start_time": "2021-11-18T11:25:56.202Z"
   },
   {
    "duration": 8,
    "start_time": "2021-11-18T11:25:56.674Z"
   },
   {
    "duration": 6,
    "start_time": "2021-11-18T11:25:57.213Z"
   },
   {
    "duration": 14279,
    "start_time": "2021-11-18T11:26:38.859Z"
   },
   {
    "duration": 3,
    "start_time": "2021-11-18T11:26:57.560Z"
   },
   {
    "duration": 58,
    "start_time": "2021-11-18T11:26:57.565Z"
   },
   {
    "duration": 3,
    "start_time": "2021-11-18T11:26:57.625Z"
   },
   {
    "duration": 5,
    "start_time": "2021-11-18T11:26:57.630Z"
   },
   {
    "duration": 14,
    "start_time": "2021-11-18T11:26:57.637Z"
   },
   {
    "duration": 47,
    "start_time": "2021-11-18T11:26:57.652Z"
   },
   {
    "duration": 5,
    "start_time": "2021-11-18T11:26:57.701Z"
   },
   {
    "duration": 9,
    "start_time": "2021-11-18T11:26:57.707Z"
   },
   {
    "duration": 154,
    "start_time": "2021-11-18T11:26:57.719Z"
   },
   {
    "duration": 11,
    "start_time": "2021-11-18T11:26:57.876Z"
   },
   {
    "duration": 6,
    "start_time": "2021-11-18T11:26:57.889Z"
   },
   {
    "duration": 13,
    "start_time": "2021-11-18T11:26:57.896Z"
   },
   {
    "duration": 11,
    "start_time": "2021-11-18T11:26:57.911Z"
   },
   {
    "duration": 6,
    "start_time": "2021-11-18T11:26:57.923Z"
   },
   {
    "duration": 4,
    "start_time": "2021-11-18T11:26:57.931Z"
   },
   {
    "duration": 6,
    "start_time": "2021-11-18T11:26:57.936Z"
   },
   {
    "duration": 11,
    "start_time": "2021-11-18T11:26:57.943Z"
   },
   {
    "duration": 6,
    "start_time": "2021-11-18T11:26:57.956Z"
   },
   {
    "duration": 2,
    "start_time": "2021-11-18T11:26:57.988Z"
   },
   {
    "duration": 5,
    "start_time": "2021-11-18T11:26:57.992Z"
   },
   {
    "duration": 5,
    "start_time": "2021-11-18T11:26:57.998Z"
   },
   {
    "duration": 14,
    "start_time": "2021-11-18T11:26:58.004Z"
   },
   {
    "duration": 14728,
    "start_time": "2021-11-18T11:26:58.020Z"
   },
   {
    "duration": 1110,
    "start_time": "2021-11-18T11:27:11.641Z"
   },
   {
    "duration": 1108,
    "start_time": "2021-11-18T11:27:11.644Z"
   },
   {
    "duration": 1105,
    "start_time": "2021-11-18T11:27:11.647Z"
   },
   {
    "duration": 1103,
    "start_time": "2021-11-18T11:27:11.650Z"
   },
   {
    "duration": 1101,
    "start_time": "2021-11-18T11:27:11.653Z"
   },
   {
    "duration": 1100,
    "start_time": "2021-11-18T11:27:11.655Z"
   },
   {
    "duration": 1099,
    "start_time": "2021-11-18T11:27:11.657Z"
   },
   {
    "duration": 1096,
    "start_time": "2021-11-18T11:27:11.661Z"
   },
   {
    "duration": 1094,
    "start_time": "2021-11-18T11:27:11.664Z"
   },
   {
    "duration": 1093,
    "start_time": "2021-11-18T11:27:11.666Z"
   },
   {
    "duration": 1091,
    "start_time": "2021-11-18T11:27:11.669Z"
   },
   {
    "duration": 1090,
    "start_time": "2021-11-18T11:27:11.671Z"
   },
   {
    "duration": 1088,
    "start_time": "2021-11-18T11:27:11.673Z"
   },
   {
    "duration": 1086,
    "start_time": "2021-11-18T11:27:11.676Z"
   },
   {
    "duration": 1084,
    "start_time": "2021-11-18T11:27:11.679Z"
   },
   {
    "duration": 1083,
    "start_time": "2021-11-18T11:27:11.681Z"
   },
   {
    "duration": 1080,
    "start_time": "2021-11-18T11:27:11.685Z"
   },
   {
    "duration": 1078,
    "start_time": "2021-11-18T11:27:11.688Z"
   },
   {
    "duration": 1077,
    "start_time": "2021-11-18T11:27:11.690Z"
   },
   {
    "duration": 1074,
    "start_time": "2021-11-18T11:27:11.694Z"
   },
   {
    "duration": 1072,
    "start_time": "2021-11-18T11:27:11.697Z"
   },
   {
    "duration": 1071,
    "start_time": "2021-11-18T11:27:11.699Z"
   },
   {
    "duration": 1069,
    "start_time": "2021-11-18T11:27:11.702Z"
   },
   {
    "duration": 1068,
    "start_time": "2021-11-18T11:27:11.704Z"
   },
   {
    "duration": 1066,
    "start_time": "2021-11-18T11:27:11.707Z"
   },
   {
    "duration": 1065,
    "start_time": "2021-11-18T11:27:11.709Z"
   },
   {
    "duration": 1062,
    "start_time": "2021-11-18T11:27:11.712Z"
   },
   {
    "duration": 1061,
    "start_time": "2021-11-18T11:27:11.714Z"
   },
   {
    "duration": 1039,
    "start_time": "2021-11-18T11:27:11.737Z"
   },
   {
    "duration": 1036,
    "start_time": "2021-11-18T11:27:11.741Z"
   },
   {
    "duration": 1034,
    "start_time": "2021-11-18T11:27:11.744Z"
   },
   {
    "duration": 1032,
    "start_time": "2021-11-18T11:27:11.747Z"
   },
   {
    "duration": 1031,
    "start_time": "2021-11-18T11:27:11.749Z"
   },
   {
    "duration": 1028,
    "start_time": "2021-11-18T11:27:11.752Z"
   },
   {
    "duration": 1027,
    "start_time": "2021-11-18T11:27:11.754Z"
   },
   {
    "duration": 1025,
    "start_time": "2021-11-18T11:27:11.757Z"
   },
   {
    "duration": 1024,
    "start_time": "2021-11-18T11:27:11.759Z"
   },
   {
    "duration": 1022,
    "start_time": "2021-11-18T11:27:11.762Z"
   },
   {
    "duration": 1021,
    "start_time": "2021-11-18T11:27:11.764Z"
   },
   {
    "duration": 1019,
    "start_time": "2021-11-18T11:27:11.767Z"
   },
   {
    "duration": 1018,
    "start_time": "2021-11-18T11:27:11.769Z"
   },
   {
    "duration": 1015,
    "start_time": "2021-11-18T11:27:11.772Z"
   },
   {
    "duration": 1014,
    "start_time": "2021-11-18T11:27:11.774Z"
   },
   {
    "duration": 1012,
    "start_time": "2021-11-18T11:27:11.777Z"
   },
   {
    "duration": 1011,
    "start_time": "2021-11-18T11:27:11.779Z"
   },
   {
    "duration": 1009,
    "start_time": "2021-11-18T11:27:11.782Z"
   },
   {
    "duration": 1008,
    "start_time": "2021-11-18T11:27:11.784Z"
   },
   {
    "duration": 3,
    "start_time": "2021-11-18T11:27:33.979Z"
   },
   {
    "duration": 59,
    "start_time": "2021-11-18T11:27:33.983Z"
   },
   {
    "duration": 3,
    "start_time": "2021-11-18T11:27:34.044Z"
   },
   {
    "duration": 8,
    "start_time": "2021-11-18T11:27:34.048Z"
   },
   {
    "duration": 31,
    "start_time": "2021-11-18T11:27:34.057Z"
   },
   {
    "duration": 14,
    "start_time": "2021-11-18T11:27:34.090Z"
   },
   {
    "duration": 5,
    "start_time": "2021-11-18T11:27:34.106Z"
   },
   {
    "duration": 14,
    "start_time": "2021-11-18T11:27:34.112Z"
   },
   {
    "duration": 147,
    "start_time": "2021-11-18T11:27:34.128Z"
   },
   {
    "duration": 11,
    "start_time": "2021-11-18T11:27:34.277Z"
   },
   {
    "duration": 5,
    "start_time": "2021-11-18T11:27:34.290Z"
   },
   {
    "duration": 10,
    "start_time": "2021-11-18T11:27:34.297Z"
   },
   {
    "duration": 4,
    "start_time": "2021-11-18T11:27:34.309Z"
   },
   {
    "duration": 6,
    "start_time": "2021-11-18T11:27:34.314Z"
   },
   {
    "duration": 6,
    "start_time": "2021-11-18T11:27:34.322Z"
   },
   {
    "duration": 6,
    "start_time": "2021-11-18T11:27:34.329Z"
   },
   {
    "duration": 12,
    "start_time": "2021-11-18T11:27:34.336Z"
   },
   {
    "duration": 6,
    "start_time": "2021-11-18T11:27:34.349Z"
   },
   {
    "duration": 3,
    "start_time": "2021-11-18T11:27:34.358Z"
   },
   {
    "duration": 2,
    "start_time": "2021-11-18T11:27:34.388Z"
   },
   {
    "duration": 9,
    "start_time": "2021-11-18T11:27:34.391Z"
   },
   {
    "duration": 15,
    "start_time": "2021-11-18T11:27:34.401Z"
   },
   {
    "duration": 14061,
    "start_time": "2021-11-18T11:27:34.418Z"
   },
   {
    "duration": 2,
    "start_time": "2021-11-18T11:27:48.480Z"
   },
   {
    "duration": 13,
    "start_time": "2021-11-18T11:27:48.484Z"
   },
   {
    "duration": 8,
    "start_time": "2021-11-18T11:27:48.498Z"
   },
   {
    "duration": 9,
    "start_time": "2021-11-18T11:27:48.507Z"
   },
   {
    "duration": 10,
    "start_time": "2021-11-18T11:27:48.518Z"
   },
   {
    "duration": 12,
    "start_time": "2021-11-18T11:27:48.529Z"
   },
   {
    "duration": 19,
    "start_time": "2021-11-18T11:27:48.542Z"
   },
   {
    "duration": 8,
    "start_time": "2021-11-18T11:27:48.563Z"
   },
   {
    "duration": 16,
    "start_time": "2021-11-18T11:27:48.572Z"
   },
   {
    "duration": 18,
    "start_time": "2021-11-18T11:27:48.590Z"
   },
   {
    "duration": 5,
    "start_time": "2021-11-18T11:27:48.610Z"
   },
   {
    "duration": 6,
    "start_time": "2021-11-18T11:27:48.617Z"
   },
   {
    "duration": 7,
    "start_time": "2021-11-18T11:27:48.625Z"
   },
   {
    "duration": 18,
    "start_time": "2021-11-18T11:27:48.634Z"
   },
   {
    "duration": 4,
    "start_time": "2021-11-18T11:27:48.654Z"
   },
   {
    "duration": 30,
    "start_time": "2021-11-18T11:27:48.659Z"
   },
   {
    "duration": 6,
    "start_time": "2021-11-18T11:27:48.691Z"
   },
   {
    "duration": 27,
    "start_time": "2021-11-18T11:27:48.698Z"
   },
   {
    "duration": 3,
    "start_time": "2021-11-18T11:27:48.727Z"
   },
   {
    "duration": 357,
    "start_time": "2021-11-18T11:27:48.731Z"
   },
   {
    "duration": 3,
    "start_time": "2021-11-18T11:27:49.089Z"
   },
   {
    "duration": 32332,
    "start_time": "2021-11-18T11:27:49.093Z"
   },
   {
    "duration": 10,
    "start_time": "2021-11-18T11:28:21.427Z"
   },
   {
    "duration": 29,
    "start_time": "2021-11-18T11:28:21.438Z"
   },
   {
    "duration": 38,
    "start_time": "2021-11-18T11:28:21.468Z"
   },
   {
    "duration": 9,
    "start_time": "2021-11-18T11:28:21.507Z"
   },
   {
    "duration": 27,
    "start_time": "2021-11-18T11:28:21.518Z"
   },
   {
    "duration": 3144,
    "start_time": "2021-11-18T11:28:21.546Z"
   },
   {
    "duration": 13,
    "start_time": "2021-11-18T11:28:24.692Z"
   },
   {
    "duration": 3699,
    "start_time": "2021-11-18T11:28:24.706Z"
   },
   {
    "duration": 8,
    "start_time": "2021-11-18T11:28:28.406Z"
   },
   {
    "duration": 11,
    "start_time": "2021-11-18T11:28:28.418Z"
   },
   {
    "duration": 8,
    "start_time": "2021-11-18T11:28:28.431Z"
   },
   {
    "duration": 11,
    "start_time": "2021-11-18T11:28:28.441Z"
   },
   {
    "duration": 10,
    "start_time": "2021-11-18T11:28:28.453Z"
   },
   {
    "duration": 33,
    "start_time": "2021-11-18T11:28:28.464Z"
   },
   {
    "duration": 25,
    "start_time": "2021-11-18T11:28:28.498Z"
   },
   {
    "duration": 16,
    "start_time": "2021-11-18T11:28:28.525Z"
   },
   {
    "duration": 15,
    "start_time": "2021-11-18T11:28:28.542Z"
   },
   {
    "duration": 36,
    "start_time": "2021-11-18T11:28:28.558Z"
   },
   {
    "duration": 15,
    "start_time": "2021-11-18T11:28:28.596Z"
   },
   {
    "duration": 22,
    "start_time": "2021-11-18T11:28:28.612Z"
   },
   {
    "duration": 21,
    "start_time": "2021-11-18T11:28:28.635Z"
   },
   {
    "duration": 50,
    "start_time": "2021-11-18T11:28:28.657Z"
   },
   {
    "duration": 20,
    "start_time": "2021-11-18T11:28:28.708Z"
   },
   {
    "duration": 22,
    "start_time": "2021-11-18T11:28:28.730Z"
   },
   {
    "duration": 43,
    "start_time": "2021-11-18T11:28:28.753Z"
   },
   {
    "duration": 2,
    "start_time": "2021-11-18T11:29:28.527Z"
   },
   {
    "duration": 74,
    "start_time": "2021-11-18T11:29:28.531Z"
   },
   {
    "duration": 4,
    "start_time": "2021-11-18T11:29:28.608Z"
   },
   {
    "duration": 19,
    "start_time": "2021-11-18T11:29:28.614Z"
   },
   {
    "duration": 17,
    "start_time": "2021-11-18T11:29:28.634Z"
   },
   {
    "duration": 48,
    "start_time": "2021-11-18T11:29:28.653Z"
   },
   {
    "duration": 6,
    "start_time": "2021-11-18T11:29:28.703Z"
   },
   {
    "duration": 8,
    "start_time": "2021-11-18T11:29:28.711Z"
   },
   {
    "duration": 227,
    "start_time": "2021-11-18T11:29:28.720Z"
   },
   {
    "duration": 5,
    "start_time": "2021-11-18T11:29:28.949Z"
   },
   {
    "duration": 7,
    "start_time": "2021-11-18T11:29:28.955Z"
   },
   {
    "duration": 24,
    "start_time": "2021-11-18T11:29:28.964Z"
   },
   {
    "duration": 7,
    "start_time": "2021-11-18T11:29:28.989Z"
   },
   {
    "duration": 9,
    "start_time": "2021-11-18T11:29:28.998Z"
   },
   {
    "duration": 5,
    "start_time": "2021-11-18T11:29:29.009Z"
   },
   {
    "duration": 11,
    "start_time": "2021-11-18T11:29:29.016Z"
   },
   {
    "duration": 22,
    "start_time": "2021-11-18T11:29:29.029Z"
   },
   {
    "duration": 10,
    "start_time": "2021-11-18T11:29:29.053Z"
   },
   {
    "duration": 8,
    "start_time": "2021-11-18T11:29:29.066Z"
   },
   {
    "duration": 18,
    "start_time": "2021-11-18T11:29:29.076Z"
   },
   {
    "duration": 5,
    "start_time": "2021-11-18T11:29:29.096Z"
   },
   {
    "duration": 14,
    "start_time": "2021-11-18T11:29:29.103Z"
   },
   {
    "duration": 13,
    "start_time": "2021-11-18T11:29:29.118Z"
   },
   {
    "duration": 7,
    "start_time": "2021-11-18T11:29:29.132Z"
   },
   {
    "duration": 27,
    "start_time": "2021-11-18T11:29:29.140Z"
   },
   {
    "duration": 10,
    "start_time": "2021-11-18T11:29:29.168Z"
   },
   {
    "duration": 13,
    "start_time": "2021-11-18T11:29:29.179Z"
   },
   {
    "duration": 22,
    "start_time": "2021-11-18T11:29:29.193Z"
   },
   {
    "duration": 14,
    "start_time": "2021-11-18T11:29:29.216Z"
   },
   {
    "duration": 27,
    "start_time": "2021-11-18T11:29:29.231Z"
   },
   {
    "duration": 22,
    "start_time": "2021-11-18T11:29:29.260Z"
   },
   {
    "duration": 11,
    "start_time": "2021-11-18T11:29:29.283Z"
   },
   {
    "duration": 31,
    "start_time": "2021-11-18T11:29:29.295Z"
   },
   {
    "duration": 11,
    "start_time": "2021-11-18T11:29:29.327Z"
   },
   {
    "duration": 15,
    "start_time": "2021-11-18T11:29:29.339Z"
   },
   {
    "duration": 11,
    "start_time": "2021-11-18T11:29:29.355Z"
   },
   {
    "duration": 24,
    "start_time": "2021-11-18T11:29:29.368Z"
   },
   {
    "duration": 4,
    "start_time": "2021-11-18T11:29:29.394Z"
   },
   {
    "duration": 9,
    "start_time": "2021-11-18T11:29:29.399Z"
   },
   {
    "duration": 16,
    "start_time": "2021-11-18T11:29:29.409Z"
   },
   {
    "duration": 28,
    "start_time": "2021-11-18T11:29:29.427Z"
   },
   {
    "duration": 2,
    "start_time": "2021-11-18T11:29:29.457Z"
   },
   {
    "duration": 348,
    "start_time": "2021-11-18T11:29:29.461Z"
   },
   {
    "duration": 3,
    "start_time": "2021-11-18T11:29:29.811Z"
   },
   {
    "duration": 3,
    "start_time": "2021-11-18T11:30:07.360Z"
   },
   {
    "duration": 82,
    "start_time": "2021-11-18T11:30:07.364Z"
   },
   {
    "duration": 3,
    "start_time": "2021-11-18T11:30:07.448Z"
   },
   {
    "duration": 7,
    "start_time": "2021-11-18T11:30:07.453Z"
   },
   {
    "duration": 16,
    "start_time": "2021-11-18T11:30:07.461Z"
   },
   {
    "duration": 18,
    "start_time": "2021-11-18T11:30:07.487Z"
   },
   {
    "duration": 5,
    "start_time": "2021-11-18T11:30:07.506Z"
   },
   {
    "duration": 9,
    "start_time": "2021-11-18T11:30:07.512Z"
   },
   {
    "duration": 149,
    "start_time": "2021-11-18T11:30:07.522Z"
   },
   {
    "duration": 4,
    "start_time": "2021-11-18T11:30:07.672Z"
   },
   {
    "duration": 11,
    "start_time": "2021-11-18T11:30:07.678Z"
   },
   {
    "duration": 10,
    "start_time": "2021-11-18T11:30:07.691Z"
   },
   {
    "duration": 6,
    "start_time": "2021-11-18T11:30:07.703Z"
   },
   {
    "duration": 8,
    "start_time": "2021-11-18T11:30:07.711Z"
   },
   {
    "duration": 6,
    "start_time": "2021-11-18T11:30:07.721Z"
   },
   {
    "duration": 6,
    "start_time": "2021-11-18T11:30:07.729Z"
   },
   {
    "duration": 8,
    "start_time": "2021-11-18T11:30:07.737Z"
   },
   {
    "duration": 46,
    "start_time": "2021-11-18T11:30:07.746Z"
   },
   {
    "duration": 6,
    "start_time": "2021-11-18T11:30:07.797Z"
   },
   {
    "duration": 7,
    "start_time": "2021-11-18T11:30:07.805Z"
   },
   {
    "duration": 4,
    "start_time": "2021-11-18T11:30:07.814Z"
   },
   {
    "duration": 10,
    "start_time": "2021-11-18T11:30:07.820Z"
   },
   {
    "duration": 15028,
    "start_time": "2021-11-18T11:30:07.832Z"
   },
   {
    "duration": 3,
    "start_time": "2021-11-18T11:30:22.861Z"
   },
   {
    "duration": 9,
    "start_time": "2021-11-18T11:30:22.865Z"
   },
   {
    "duration": 16,
    "start_time": "2021-11-18T11:30:22.875Z"
   },
   {
    "duration": 6,
    "start_time": "2021-11-18T11:30:22.896Z"
   },
   {
    "duration": 12,
    "start_time": "2021-11-18T11:30:22.904Z"
   },
   {
    "duration": 12,
    "start_time": "2021-11-18T11:30:22.917Z"
   },
   {
    "duration": 15,
    "start_time": "2021-11-18T11:30:22.930Z"
   },
   {
    "duration": 8,
    "start_time": "2021-11-18T11:30:22.947Z"
   },
   {
    "duration": 7,
    "start_time": "2021-11-18T11:30:22.956Z"
   },
   {
    "duration": 21,
    "start_time": "2021-11-18T11:30:22.988Z"
   },
   {
    "duration": 6,
    "start_time": "2021-11-18T11:30:23.011Z"
   },
   {
    "duration": 5,
    "start_time": "2021-11-18T11:30:23.018Z"
   },
   {
    "duration": 9,
    "start_time": "2021-11-18T11:30:23.024Z"
   },
   {
    "duration": 24,
    "start_time": "2021-11-18T11:30:23.034Z"
   },
   {
    "duration": 35,
    "start_time": "2021-11-18T11:30:23.060Z"
   },
   {
    "duration": 5,
    "start_time": "2021-11-18T11:30:23.101Z"
   },
   {
    "duration": 7,
    "start_time": "2021-11-18T11:30:23.108Z"
   },
   {
    "duration": 22,
    "start_time": "2021-11-18T11:30:23.116Z"
   },
   {
    "duration": 2,
    "start_time": "2021-11-18T11:30:23.140Z"
   },
   {
    "duration": 482,
    "start_time": "2021-11-18T11:30:23.144Z"
   },
   {
    "duration": 3,
    "start_time": "2021-11-18T11:30:23.628Z"
   },
   {
    "duration": 30779,
    "start_time": "2021-11-18T11:30:23.633Z"
   },
   {
    "duration": 10,
    "start_time": "2021-11-18T11:30:54.414Z"
   },
   {
    "duration": 29,
    "start_time": "2021-11-18T11:30:54.426Z"
   },
   {
    "duration": 43,
    "start_time": "2021-11-18T11:30:54.457Z"
   },
   {
    "duration": 11,
    "start_time": "2021-11-18T11:30:54.504Z"
   },
   {
    "duration": 28,
    "start_time": "2021-11-18T11:30:54.516Z"
   },
   {
    "duration": 3475,
    "start_time": "2021-11-18T11:30:54.546Z"
   },
   {
    "duration": 13,
    "start_time": "2021-11-18T11:30:58.023Z"
   },
   {
    "duration": 3678,
    "start_time": "2021-11-18T11:30:58.038Z"
   },
   {
    "duration": 39,
    "start_time": "2021-11-18T11:31:01.717Z"
   },
   {
    "duration": 41,
    "start_time": "2021-11-18T11:31:01.758Z"
   },
   {
    "duration": 16,
    "start_time": "2021-11-18T11:31:01.801Z"
   },
   {
    "duration": 21,
    "start_time": "2021-11-18T11:31:01.818Z"
   },
   {
    "duration": 25,
    "start_time": "2021-11-18T11:31:01.841Z"
   },
   {
    "duration": 35,
    "start_time": "2021-11-18T11:31:01.868Z"
   },
   {
    "duration": 27,
    "start_time": "2021-11-18T11:31:01.905Z"
   },
   {
    "duration": 16,
    "start_time": "2021-11-18T11:31:01.934Z"
   },
   {
    "duration": 31,
    "start_time": "2021-11-18T11:31:01.952Z"
   },
   {
    "duration": 31,
    "start_time": "2021-11-18T11:31:01.984Z"
   },
   {
    "duration": 20,
    "start_time": "2021-11-18T11:31:02.017Z"
   },
   {
    "duration": 26,
    "start_time": "2021-11-18T11:31:02.039Z"
   },
   {
    "duration": 24,
    "start_time": "2021-11-18T11:31:02.067Z"
   },
   {
    "duration": 22,
    "start_time": "2021-11-18T11:31:02.093Z"
   },
   {
    "duration": 21,
    "start_time": "2021-11-18T11:31:02.117Z"
   },
   {
    "duration": 21,
    "start_time": "2021-11-18T11:31:02.140Z"
   },
   {
    "duration": 41,
    "start_time": "2021-11-18T11:31:02.162Z"
   },
   {
    "duration": 2,
    "start_time": "2021-11-18T12:04:10.166Z"
   },
   {
    "duration": 63,
    "start_time": "2021-11-18T12:04:10.170Z"
   },
   {
    "duration": 3,
    "start_time": "2021-11-18T12:04:10.235Z"
   },
   {
    "duration": 12,
    "start_time": "2021-11-18T12:04:10.240Z"
   },
   {
    "duration": 39,
    "start_time": "2021-11-18T12:04:10.253Z"
   },
   {
    "duration": 15,
    "start_time": "2021-11-18T12:04:10.294Z"
   },
   {
    "duration": 5,
    "start_time": "2021-11-18T12:04:10.311Z"
   },
   {
    "duration": 8,
    "start_time": "2021-11-18T12:04:10.318Z"
   },
   {
    "duration": 179,
    "start_time": "2021-11-18T12:04:10.328Z"
   },
   {
    "duration": 5,
    "start_time": "2021-11-18T12:04:10.509Z"
   },
   {
    "duration": 7,
    "start_time": "2021-11-18T12:04:10.516Z"
   },
   {
    "duration": 10,
    "start_time": "2021-11-18T12:04:10.525Z"
   },
   {
    "duration": 5,
    "start_time": "2021-11-18T12:04:10.536Z"
   },
   {
    "duration": 6,
    "start_time": "2021-11-18T12:04:10.543Z"
   },
   {
    "duration": 5,
    "start_time": "2021-11-18T12:04:10.550Z"
   },
   {
    "duration": 6,
    "start_time": "2021-11-18T12:04:10.587Z"
   },
   {
    "duration": 8,
    "start_time": "2021-11-18T12:04:10.595Z"
   },
   {
    "duration": 6,
    "start_time": "2021-11-18T12:04:10.605Z"
   },
   {
    "duration": 3,
    "start_time": "2021-11-18T12:04:10.614Z"
   },
   {
    "duration": 8,
    "start_time": "2021-11-18T12:04:10.619Z"
   },
   {
    "duration": 6,
    "start_time": "2021-11-18T12:04:10.628Z"
   },
   {
    "duration": 12,
    "start_time": "2021-11-18T12:04:10.635Z"
   },
   {
    "duration": 15149,
    "start_time": "2021-11-18T12:04:10.648Z"
   },
   {
    "duration": 1,
    "start_time": "2021-11-18T12:04:25.799Z"
   },
   {
    "duration": 9,
    "start_time": "2021-11-18T12:04:25.802Z"
   },
   {
    "duration": 17,
    "start_time": "2021-11-18T12:04:25.812Z"
   },
   {
    "duration": 7,
    "start_time": "2021-11-18T12:04:25.831Z"
   },
   {
    "duration": 14,
    "start_time": "2021-11-18T12:04:25.840Z"
   },
   {
    "duration": 16,
    "start_time": "2021-11-18T12:04:25.855Z"
   },
   {
    "duration": 17,
    "start_time": "2021-11-18T12:04:25.873Z"
   },
   {
    "duration": 8,
    "start_time": "2021-11-18T12:04:25.892Z"
   },
   {
    "duration": 6,
    "start_time": "2021-11-18T12:04:25.902Z"
   },
   {
    "duration": 22,
    "start_time": "2021-11-18T12:04:25.909Z"
   },
   {
    "duration": 6,
    "start_time": "2021-11-18T12:04:25.932Z"
   },
   {
    "duration": 12,
    "start_time": "2021-11-18T12:04:25.939Z"
   },
   {
    "duration": 11,
    "start_time": "2021-11-18T12:04:25.953Z"
   },
   {
    "duration": 34,
    "start_time": "2021-11-18T12:04:25.965Z"
   },
   {
    "duration": 5,
    "start_time": "2021-11-18T12:04:26.000Z"
   },
   {
    "duration": 14,
    "start_time": "2021-11-18T12:04:26.006Z"
   },
   {
    "duration": 11,
    "start_time": "2021-11-18T12:04:26.021Z"
   },
   {
    "duration": 27,
    "start_time": "2021-11-18T12:04:26.033Z"
   },
   {
    "duration": 2,
    "start_time": "2021-11-18T12:04:26.062Z"
   },
   {
    "duration": 350,
    "start_time": "2021-11-18T12:04:26.066Z"
   },
   {
    "duration": 4,
    "start_time": "2021-11-18T12:04:26.417Z"
   },
   {
    "duration": 29843,
    "start_time": "2021-11-18T12:04:26.423Z"
   },
   {
    "duration": 12,
    "start_time": "2021-11-18T12:04:56.267Z"
   },
   {
    "duration": 27,
    "start_time": "2021-11-18T12:04:56.288Z"
   },
   {
    "duration": 26,
    "start_time": "2021-11-18T12:04:56.317Z"
   },
   {
    "duration": 11,
    "start_time": "2021-11-18T12:04:56.345Z"
   },
   {
    "duration": 53,
    "start_time": "2021-11-18T12:04:56.357Z"
   },
   {
    "duration": 3402,
    "start_time": "2021-11-18T12:04:56.412Z"
   },
   {
    "duration": 13,
    "start_time": "2021-11-18T12:04:59.816Z"
   },
   {
    "duration": 3825,
    "start_time": "2021-11-18T12:04:59.830Z"
   },
   {
    "duration": 7,
    "start_time": "2021-11-18T12:05:03.657Z"
   },
   {
    "duration": 10,
    "start_time": "2021-11-18T12:05:03.668Z"
   },
   {
    "duration": 16,
    "start_time": "2021-11-18T12:05:03.679Z"
   },
   {
    "duration": 14,
    "start_time": "2021-11-18T12:05:03.697Z"
   },
   {
    "duration": 11,
    "start_time": "2021-11-18T12:05:03.712Z"
   },
   {
    "duration": 18,
    "start_time": "2021-11-18T12:05:03.725Z"
   },
   {
    "duration": 27,
    "start_time": "2021-11-18T12:05:03.745Z"
   },
   {
    "duration": 28,
    "start_time": "2021-11-18T12:05:03.774Z"
   },
   {
    "duration": 16,
    "start_time": "2021-11-18T12:05:03.804Z"
   },
   {
    "duration": 16,
    "start_time": "2021-11-18T12:05:03.821Z"
   },
   {
    "duration": 16,
    "start_time": "2021-11-18T12:05:03.838Z"
   },
   {
    "duration": 46,
    "start_time": "2021-11-18T12:05:03.855Z"
   },
   {
    "duration": 21,
    "start_time": "2021-11-18T12:05:03.902Z"
   },
   {
    "duration": 21,
    "start_time": "2021-11-18T12:05:03.924Z"
   },
   {
    "duration": 41,
    "start_time": "2021-11-18T12:05:03.947Z"
   },
   {
    "duration": 22,
    "start_time": "2021-11-18T12:05:03.990Z"
   },
   {
    "duration": 22,
    "start_time": "2021-11-18T12:05:04.014Z"
   },
   {
    "duration": 15113,
    "start_time": "2021-11-18T12:17:59.222Z"
   },
   {
    "duration": 2,
    "start_time": "2021-11-18T12:18:14.336Z"
   },
   {
    "duration": 3,
    "start_time": "2021-11-18T12:20:39.298Z"
   },
   {
    "duration": 66,
    "start_time": "2021-11-18T12:20:39.303Z"
   },
   {
    "duration": 17,
    "start_time": "2021-11-18T12:20:39.371Z"
   },
   {
    "duration": 6,
    "start_time": "2021-11-18T12:20:39.390Z"
   },
   {
    "duration": 15,
    "start_time": "2021-11-18T12:20:39.398Z"
   },
   {
    "duration": 16,
    "start_time": "2021-11-18T12:20:39.415Z"
   },
   {
    "duration": 5,
    "start_time": "2021-11-18T12:20:39.433Z"
   },
   {
    "duration": 8,
    "start_time": "2021-11-18T12:20:39.488Z"
   },
   {
    "duration": 132,
    "start_time": "2021-11-18T12:20:39.497Z"
   },
   {
    "duration": 4,
    "start_time": "2021-11-18T12:20:39.631Z"
   },
   {
    "duration": 3,
    "start_time": "2021-11-18T12:20:39.637Z"
   },
   {
    "duration": 10,
    "start_time": "2021-11-18T12:20:39.642Z"
   },
   {
    "duration": 5,
    "start_time": "2021-11-18T12:20:39.654Z"
   },
   {
    "duration": 6,
    "start_time": "2021-11-18T12:20:39.660Z"
   },
   {
    "duration": 4,
    "start_time": "2021-11-18T12:20:39.688Z"
   },
   {
    "duration": 5,
    "start_time": "2021-11-18T12:20:39.694Z"
   },
   {
    "duration": 9,
    "start_time": "2021-11-18T12:20:39.701Z"
   },
   {
    "duration": 6,
    "start_time": "2021-11-18T12:20:39.712Z"
   },
   {
    "duration": 2,
    "start_time": "2021-11-18T12:20:39.721Z"
   },
   {
    "duration": 4,
    "start_time": "2021-11-18T12:20:39.725Z"
   },
   {
    "duration": 6,
    "start_time": "2021-11-18T12:20:39.730Z"
   },
   {
    "duration": 17,
    "start_time": "2021-11-18T12:20:39.738Z"
   },
   {
    "duration": 34,
    "start_time": "2021-11-18T12:20:39.756Z"
   },
   {
    "duration": 4,
    "start_time": "2021-11-18T12:20:39.791Z"
   },
   {
    "duration": 12,
    "start_time": "2021-11-18T12:20:39.796Z"
   },
   {
    "duration": 5,
    "start_time": "2021-11-18T12:20:39.809Z"
   },
   {
    "duration": 6,
    "start_time": "2021-11-18T12:20:39.816Z"
   },
   {
    "duration": 10,
    "start_time": "2021-11-18T12:20:39.823Z"
   },
   {
    "duration": 9,
    "start_time": "2021-11-18T12:20:39.834Z"
   },
   {
    "duration": 15,
    "start_time": "2021-11-18T12:20:39.844Z"
   },
   {
    "duration": 33,
    "start_time": "2021-11-18T12:20:39.860Z"
   },
   {
    "duration": 6,
    "start_time": "2021-11-18T12:20:39.894Z"
   },
   {
    "duration": 19,
    "start_time": "2021-11-18T12:20:39.902Z"
   },
   {
    "duration": 6,
    "start_time": "2021-11-18T12:20:39.923Z"
   },
   {
    "duration": 7,
    "start_time": "2021-11-18T12:20:39.930Z"
   },
   {
    "duration": 9,
    "start_time": "2021-11-18T12:20:39.939Z"
   },
   {
    "duration": 40,
    "start_time": "2021-11-18T12:20:39.950Z"
   },
   {
    "duration": 4,
    "start_time": "2021-11-18T12:20:39.991Z"
   },
   {
    "duration": 9,
    "start_time": "2021-11-18T12:20:39.997Z"
   },
   {
    "duration": 8,
    "start_time": "2021-11-18T12:20:40.008Z"
   },
   {
    "duration": 23,
    "start_time": "2021-11-18T12:20:40.018Z"
   },
   {
    "duration": 2,
    "start_time": "2021-11-18T12:20:40.043Z"
   },
   {
    "duration": 361,
    "start_time": "2021-11-18T12:20:40.047Z"
   },
   {
    "duration": 3,
    "start_time": "2021-11-18T12:20:40.409Z"
   },
   {
    "duration": 3,
    "start_time": "2021-11-18T12:21:18.541Z"
   },
   {
    "duration": 73,
    "start_time": "2021-11-18T12:21:18.545Z"
   },
   {
    "duration": 3,
    "start_time": "2021-11-18T12:21:18.620Z"
   },
   {
    "duration": 9,
    "start_time": "2021-11-18T12:21:18.624Z"
   },
   {
    "duration": 14,
    "start_time": "2021-11-18T12:21:18.634Z"
   },
   {
    "duration": 14,
    "start_time": "2021-11-18T12:21:18.650Z"
   },
   {
    "duration": 23,
    "start_time": "2021-11-18T12:21:18.665Z"
   },
   {
    "duration": 7,
    "start_time": "2021-11-18T12:21:18.690Z"
   },
   {
    "duration": 137,
    "start_time": "2021-11-18T12:21:18.698Z"
   },
   {
    "duration": 4,
    "start_time": "2021-11-18T12:21:18.837Z"
   },
   {
    "duration": 10,
    "start_time": "2021-11-18T12:21:18.843Z"
   },
   {
    "duration": 9,
    "start_time": "2021-11-18T12:21:18.854Z"
   },
   {
    "duration": 5,
    "start_time": "2021-11-18T12:21:18.865Z"
   },
   {
    "duration": 19,
    "start_time": "2021-11-18T12:21:18.872Z"
   },
   {
    "duration": 4,
    "start_time": "2021-11-18T12:21:18.893Z"
   },
   {
    "duration": 9,
    "start_time": "2021-11-18T12:21:18.898Z"
   },
   {
    "duration": 9,
    "start_time": "2021-11-18T12:21:18.908Z"
   },
   {
    "duration": 6,
    "start_time": "2021-11-18T12:21:18.918Z"
   },
   {
    "duration": 4,
    "start_time": "2021-11-18T12:21:18.925Z"
   },
   {
    "duration": 8,
    "start_time": "2021-11-18T12:21:18.930Z"
   },
   {
    "duration": 6,
    "start_time": "2021-11-18T12:21:18.939Z"
   },
   {
    "duration": 12,
    "start_time": "2021-11-18T12:21:18.946Z"
   },
   {
    "duration": 14297,
    "start_time": "2021-11-18T12:21:18.959Z"
   },
   {
    "duration": 2,
    "start_time": "2021-11-18T12:21:33.258Z"
   },
   {
    "duration": 11,
    "start_time": "2021-11-18T12:21:33.261Z"
   },
   {
    "duration": 15,
    "start_time": "2021-11-18T12:21:33.273Z"
   },
   {
    "duration": 8,
    "start_time": "2021-11-18T12:21:33.289Z"
   },
   {
    "duration": 16,
    "start_time": "2021-11-18T12:21:33.298Z"
   },
   {
    "duration": 12,
    "start_time": "2021-11-18T12:21:33.316Z"
   },
   {
    "duration": 15,
    "start_time": "2021-11-18T12:21:33.330Z"
   },
   {
    "duration": 10,
    "start_time": "2021-11-18T12:21:33.346Z"
   },
   {
    "duration": 7,
    "start_time": "2021-11-18T12:21:33.358Z"
   },
   {
    "duration": 35,
    "start_time": "2021-11-18T12:21:33.367Z"
   },
   {
    "duration": 6,
    "start_time": "2021-11-18T12:21:33.404Z"
   },
   {
    "duration": 5,
    "start_time": "2021-11-18T12:21:33.412Z"
   },
   {
    "duration": 9,
    "start_time": "2021-11-18T12:21:33.418Z"
   },
   {
    "duration": 20,
    "start_time": "2021-11-18T12:21:33.429Z"
   },
   {
    "duration": 6,
    "start_time": "2021-11-18T12:21:33.451Z"
   },
   {
    "duration": 31,
    "start_time": "2021-11-18T12:21:33.458Z"
   },
   {
    "duration": 5,
    "start_time": "2021-11-18T12:21:33.490Z"
   },
   {
    "duration": 25,
    "start_time": "2021-11-18T12:21:33.496Z"
   },
   {
    "duration": 3,
    "start_time": "2021-11-18T12:21:33.523Z"
   },
   {
    "duration": 368,
    "start_time": "2021-11-18T12:21:33.528Z"
   },
   {
    "duration": 3,
    "start_time": "2021-11-18T12:21:33.898Z"
   },
   {
    "duration": 31704,
    "start_time": "2021-11-18T12:21:33.903Z"
   },
   {
    "duration": 12,
    "start_time": "2021-11-18T12:22:05.609Z"
   },
   {
    "duration": 30,
    "start_time": "2021-11-18T12:22:05.622Z"
   },
   {
    "duration": 37,
    "start_time": "2021-11-18T12:22:05.653Z"
   },
   {
    "duration": 10,
    "start_time": "2021-11-18T12:22:05.692Z"
   },
   {
    "duration": 25,
    "start_time": "2021-11-18T12:22:05.704Z"
   },
   {
    "duration": 3488,
    "start_time": "2021-11-18T12:22:05.730Z"
   },
   {
    "duration": 13,
    "start_time": "2021-11-18T12:22:09.220Z"
   },
   {
    "duration": 3667,
    "start_time": "2021-11-18T12:22:09.235Z"
   },
   {
    "duration": 4,
    "start_time": "2021-11-18T12:22:12.904Z"
   },
   {
    "duration": 11,
    "start_time": "2021-11-18T12:22:12.910Z"
   },
   {
    "duration": 9,
    "start_time": "2021-11-18T12:22:12.922Z"
   },
   {
    "duration": 12,
    "start_time": "2021-11-18T12:22:12.933Z"
   },
   {
    "duration": 10,
    "start_time": "2021-11-18T12:22:12.947Z"
   },
   {
    "duration": 39,
    "start_time": "2021-11-18T12:22:12.958Z"
   },
   {
    "duration": 28,
    "start_time": "2021-11-18T12:22:12.998Z"
   },
   {
    "duration": 18,
    "start_time": "2021-11-18T12:22:13.028Z"
   },
   {
    "duration": 41,
    "start_time": "2021-11-18T12:22:13.048Z"
   },
   {
    "duration": 18,
    "start_time": "2021-11-18T12:22:13.091Z"
   },
   {
    "duration": 18,
    "start_time": "2021-11-18T12:22:13.110Z"
   },
   {
    "duration": 24,
    "start_time": "2021-11-18T12:22:13.130Z"
   },
   {
    "duration": 52,
    "start_time": "2021-11-18T12:22:13.156Z"
   },
   {
    "duration": 23,
    "start_time": "2021-11-18T12:22:13.210Z"
   },
   {
    "duration": 23,
    "start_time": "2021-11-18T12:22:13.234Z"
   },
   {
    "duration": 49,
    "start_time": "2021-11-18T12:22:13.259Z"
   },
   {
    "duration": 22,
    "start_time": "2021-11-18T12:22:13.310Z"
   },
   {
    "duration": 3,
    "start_time": "2021-11-18T12:26:10.496Z"
   },
   {
    "duration": 16,
    "start_time": "2021-11-18T12:35:18.637Z"
   },
   {
    "duration": 3,
    "start_time": "2021-11-18T12:35:31.565Z"
   },
   {
    "duration": 92,
    "start_time": "2021-11-18T12:35:31.569Z"
   },
   {
    "duration": 3,
    "start_time": "2021-11-18T12:35:31.663Z"
   },
   {
    "duration": 8,
    "start_time": "2021-11-18T12:35:31.668Z"
   },
   {
    "duration": 24,
    "start_time": "2021-11-18T12:35:31.678Z"
   },
   {
    "duration": 13,
    "start_time": "2021-11-18T12:35:31.704Z"
   },
   {
    "duration": 5,
    "start_time": "2021-11-18T12:35:31.720Z"
   },
   {
    "duration": 14,
    "start_time": "2021-11-18T12:35:31.727Z"
   },
   {
    "duration": 153,
    "start_time": "2021-11-18T12:35:31.742Z"
   },
   {
    "duration": 4,
    "start_time": "2021-11-18T12:35:31.897Z"
   },
   {
    "duration": 24,
    "start_time": "2021-11-18T12:35:31.902Z"
   },
   {
    "duration": 27,
    "start_time": "2021-11-18T12:35:31.928Z"
   },
   {
    "duration": 16,
    "start_time": "2021-11-18T12:35:31.956Z"
   },
   {
    "duration": 14,
    "start_time": "2021-11-18T12:35:31.973Z"
   },
   {
    "duration": 6,
    "start_time": "2021-11-18T12:35:31.989Z"
   },
   {
    "duration": 13,
    "start_time": "2021-11-18T12:35:31.997Z"
   },
   {
    "duration": 9,
    "start_time": "2021-11-18T12:35:32.011Z"
   },
   {
    "duration": 9,
    "start_time": "2021-11-18T12:35:32.021Z"
   },
   {
    "duration": 9,
    "start_time": "2021-11-18T12:35:32.034Z"
   },
   {
    "duration": 17,
    "start_time": "2021-11-18T12:35:32.046Z"
   },
   {
    "duration": 11,
    "start_time": "2021-11-18T12:35:32.064Z"
   },
   {
    "duration": 16,
    "start_time": "2021-11-18T12:35:32.076Z"
   },
   {
    "duration": 14656,
    "start_time": "2021-11-18T12:35:32.094Z"
   },
   {
    "duration": 2,
    "start_time": "2021-11-18T12:35:46.752Z"
   },
   {
    "duration": 11,
    "start_time": "2021-11-18T12:35:46.755Z"
   },
   {
    "duration": 7,
    "start_time": "2021-11-18T12:35:46.768Z"
   },
   {
    "duration": 14,
    "start_time": "2021-11-18T12:35:46.776Z"
   },
   {
    "duration": 10,
    "start_time": "2021-11-18T12:35:46.792Z"
   },
   {
    "duration": 13,
    "start_time": "2021-11-18T12:35:46.804Z"
   },
   {
    "duration": 37,
    "start_time": "2021-11-18T12:35:46.819Z"
   },
   {
    "duration": 15,
    "start_time": "2021-11-18T12:35:46.857Z"
   },
   {
    "duration": 9,
    "start_time": "2021-11-18T12:35:46.873Z"
   },
   {
    "duration": 8,
    "start_time": "2021-11-18T12:35:46.883Z"
   },
   {
    "duration": 19,
    "start_time": "2021-11-18T12:35:46.893Z"
   },
   {
    "duration": 6,
    "start_time": "2021-11-18T12:35:46.913Z"
   },
   {
    "duration": 8,
    "start_time": "2021-11-18T12:35:46.920Z"
   },
   {
    "duration": 11,
    "start_time": "2021-11-18T12:35:46.929Z"
   },
   {
    "duration": 25,
    "start_time": "2021-11-18T12:35:46.941Z"
   },
   {
    "duration": 19,
    "start_time": "2021-11-18T12:35:46.968Z"
   },
   {
    "duration": 4,
    "start_time": "2021-11-18T12:35:46.989Z"
   },
   {
    "duration": 6,
    "start_time": "2021-11-18T12:35:46.994Z"
   },
   {
    "duration": 26,
    "start_time": "2021-11-18T12:35:47.002Z"
   },
   {
    "duration": 3,
    "start_time": "2021-11-18T12:35:47.029Z"
   },
   {
    "duration": 371,
    "start_time": "2021-11-18T12:35:47.034Z"
   },
   {
    "duration": 3,
    "start_time": "2021-11-18T12:35:47.407Z"
   },
   {
    "duration": 32728,
    "start_time": "2021-11-18T12:35:47.412Z"
   },
   {
    "duration": 11,
    "start_time": "2021-11-18T12:36:20.141Z"
   },
   {
    "duration": 32,
    "start_time": "2021-11-18T12:36:20.153Z"
   },
   {
    "duration": 24,
    "start_time": "2021-11-18T12:36:20.187Z"
   },
   {
    "duration": 10,
    "start_time": "2021-11-18T12:36:20.212Z"
   },
   {
    "duration": 38,
    "start_time": "2021-11-18T12:36:20.223Z"
   },
   {
    "duration": 3502,
    "start_time": "2021-11-18T12:36:20.263Z"
   },
   {
    "duration": 21,
    "start_time": "2021-11-18T12:36:23.767Z"
   },
   {
    "duration": 3938,
    "start_time": "2021-11-18T12:36:23.790Z"
   },
   {
    "duration": 3,
    "start_time": "2021-11-18T12:36:27.732Z"
   },
   {
    "duration": 13,
    "start_time": "2021-11-18T12:36:27.737Z"
   },
   {
    "duration": 6,
    "start_time": "2021-11-18T12:36:27.752Z"
   },
   {
    "duration": 28,
    "start_time": "2021-11-18T12:36:27.760Z"
   },
   {
    "duration": 10,
    "start_time": "2021-11-18T12:36:27.789Z"
   },
   {
    "duration": 16,
    "start_time": "2021-11-18T12:36:27.800Z"
   },
   {
    "duration": 27,
    "start_time": "2021-11-18T12:36:27.817Z"
   },
   {
    "duration": 16,
    "start_time": "2021-11-18T12:36:27.846Z"
   },
   {
    "duration": 38,
    "start_time": "2021-11-18T12:36:27.863Z"
   },
   {
    "duration": 15,
    "start_time": "2021-11-18T12:36:27.903Z"
   },
   {
    "duration": 15,
    "start_time": "2021-11-18T12:36:27.920Z"
   },
   {
    "duration": 22,
    "start_time": "2021-11-18T12:36:27.936Z"
   },
   {
    "duration": 48,
    "start_time": "2021-11-18T12:36:27.960Z"
   },
   {
    "duration": 22,
    "start_time": "2021-11-18T12:36:28.010Z"
   },
   {
    "duration": 21,
    "start_time": "2021-11-18T12:36:28.033Z"
   },
   {
    "duration": 47,
    "start_time": "2021-11-18T12:36:28.055Z"
   },
   {
    "duration": 23,
    "start_time": "2021-11-18T12:36:28.103Z"
   },
   {
    "duration": 3,
    "start_time": "2021-11-18T12:45:32.341Z"
   },
   {
    "duration": 71,
    "start_time": "2021-11-18T12:45:32.346Z"
   },
   {
    "duration": 3,
    "start_time": "2021-11-18T12:45:32.418Z"
   },
   {
    "duration": 8,
    "start_time": "2021-11-18T12:45:32.423Z"
   },
   {
    "duration": 21,
    "start_time": "2021-11-18T12:45:32.432Z"
   },
   {
    "duration": 36,
    "start_time": "2021-11-18T12:45:32.454Z"
   },
   {
    "duration": 5,
    "start_time": "2021-11-18T12:45:32.492Z"
   },
   {
    "duration": 18,
    "start_time": "2021-11-18T12:45:32.499Z"
   },
   {
    "duration": 142,
    "start_time": "2021-11-18T12:45:32.518Z"
   },
   {
    "duration": 4,
    "start_time": "2021-11-18T12:45:32.661Z"
   },
   {
    "duration": 18,
    "start_time": "2021-11-18T12:45:32.667Z"
   },
   {
    "duration": 21,
    "start_time": "2021-11-18T12:45:32.686Z"
   },
   {
    "duration": 18,
    "start_time": "2021-11-18T12:45:32.709Z"
   },
   {
    "duration": 19,
    "start_time": "2021-11-18T12:45:32.728Z"
   },
   {
    "duration": 17,
    "start_time": "2021-11-18T12:45:32.749Z"
   },
   {
    "duration": 10,
    "start_time": "2021-11-18T12:45:32.767Z"
   },
   {
    "duration": 17,
    "start_time": "2021-11-18T12:45:32.778Z"
   },
   {
    "duration": 12,
    "start_time": "2021-11-18T12:45:32.797Z"
   },
   {
    "duration": 10,
    "start_time": "2021-11-18T12:45:32.812Z"
   },
   {
    "duration": 27,
    "start_time": "2021-11-18T12:45:32.825Z"
   },
   {
    "duration": 18,
    "start_time": "2021-11-18T12:45:32.854Z"
   },
   {
    "duration": 25,
    "start_time": "2021-11-18T12:45:32.873Z"
   },
   {
    "duration": 14901,
    "start_time": "2021-11-18T12:45:32.900Z"
   },
   {
    "duration": 2,
    "start_time": "2021-11-18T12:45:47.803Z"
   },
   {
    "duration": 11,
    "start_time": "2021-11-18T12:45:47.807Z"
   },
   {
    "duration": 15,
    "start_time": "2021-11-18T12:45:47.819Z"
   },
   {
    "duration": 13,
    "start_time": "2021-11-18T12:45:47.836Z"
   },
   {
    "duration": 14,
    "start_time": "2021-11-18T12:45:47.851Z"
   },
   {
    "duration": 10,
    "start_time": "2021-11-18T12:45:47.867Z"
   },
   {
    "duration": 21,
    "start_time": "2021-11-18T12:45:47.878Z"
   },
   {
    "duration": 16,
    "start_time": "2021-11-18T12:45:47.901Z"
   },
   {
    "duration": 11,
    "start_time": "2021-11-18T12:45:47.919Z"
   },
   {
    "duration": 8,
    "start_time": "2021-11-18T12:45:47.931Z"
   },
   {
    "duration": 48,
    "start_time": "2021-11-18T12:45:47.941Z"
   },
   {
    "duration": 8,
    "start_time": "2021-11-18T12:45:47.991Z"
   },
   {
    "duration": 6,
    "start_time": "2021-11-18T12:45:48.001Z"
   },
   {
    "duration": 11,
    "start_time": "2021-11-18T12:45:48.008Z"
   },
   {
    "duration": 20,
    "start_time": "2021-11-18T12:45:48.021Z"
   },
   {
    "duration": 21,
    "start_time": "2021-11-18T12:45:48.043Z"
   },
   {
    "duration": 15,
    "start_time": "2021-11-18T12:45:48.066Z"
   },
   {
    "duration": 12,
    "start_time": "2021-11-18T12:45:48.088Z"
   },
   {
    "duration": 37,
    "start_time": "2021-11-18T12:45:48.101Z"
   },
   {
    "duration": 3,
    "start_time": "2021-11-18T12:45:48.140Z"
   },
   {
    "duration": 364,
    "start_time": "2021-11-18T12:45:48.144Z"
   },
   {
    "duration": 3,
    "start_time": "2021-11-18T12:45:48.509Z"
   },
   {
    "duration": 3,
    "start_time": "2021-11-18T12:46:27.305Z"
   },
   {
    "duration": 65,
    "start_time": "2021-11-18T12:46:27.309Z"
   },
   {
    "duration": 3,
    "start_time": "2021-11-18T12:46:27.376Z"
   },
   {
    "duration": 11,
    "start_time": "2021-11-18T12:46:27.380Z"
   },
   {
    "duration": 17,
    "start_time": "2021-11-18T12:46:27.392Z"
   },
   {
    "duration": 15,
    "start_time": "2021-11-18T12:46:27.410Z"
   },
   {
    "duration": 5,
    "start_time": "2021-11-18T12:46:27.427Z"
   },
   {
    "duration": 8,
    "start_time": "2021-11-18T12:46:27.434Z"
   },
   {
    "duration": 151,
    "start_time": "2021-11-18T12:46:27.444Z"
   },
   {
    "duration": 4,
    "start_time": "2021-11-18T12:46:27.597Z"
   },
   {
    "duration": 6,
    "start_time": "2021-11-18T12:46:27.602Z"
   },
   {
    "duration": 11,
    "start_time": "2021-11-18T12:46:27.609Z"
   },
   {
    "duration": 6,
    "start_time": "2021-11-18T12:46:27.621Z"
   },
   {
    "duration": 11,
    "start_time": "2021-11-18T12:46:27.628Z"
   },
   {
    "duration": 6,
    "start_time": "2021-11-18T12:46:27.640Z"
   },
   {
    "duration": 5,
    "start_time": "2021-11-18T12:46:27.648Z"
   },
   {
    "duration": 33,
    "start_time": "2021-11-18T12:46:27.655Z"
   },
   {
    "duration": 6,
    "start_time": "2021-11-18T12:46:27.690Z"
   },
   {
    "duration": 2,
    "start_time": "2021-11-18T12:46:27.698Z"
   },
   {
    "duration": 5,
    "start_time": "2021-11-18T12:46:27.702Z"
   },
   {
    "duration": 6,
    "start_time": "2021-11-18T12:46:27.708Z"
   },
   {
    "duration": 14,
    "start_time": "2021-11-18T12:46:27.716Z"
   },
   {
    "duration": 13992,
    "start_time": "2021-11-18T12:46:27.731Z"
   },
   {
    "duration": 2,
    "start_time": "2021-11-18T12:46:41.724Z"
   },
   {
    "duration": 12,
    "start_time": "2021-11-18T12:46:41.727Z"
   },
   {
    "duration": 16,
    "start_time": "2021-11-18T12:46:41.740Z"
   },
   {
    "duration": 7,
    "start_time": "2021-11-18T12:46:41.757Z"
   },
   {
    "duration": 14,
    "start_time": "2021-11-18T12:46:41.765Z"
   },
   {
    "duration": 13,
    "start_time": "2021-11-18T12:46:41.780Z"
   },
   {
    "duration": 17,
    "start_time": "2021-11-18T12:46:41.794Z"
   },
   {
    "duration": 14,
    "start_time": "2021-11-18T12:46:41.812Z"
   },
   {
    "duration": 8,
    "start_time": "2021-11-18T12:46:41.827Z"
   },
   {
    "duration": 7,
    "start_time": "2021-11-18T12:46:41.836Z"
   },
   {
    "duration": 22,
    "start_time": "2021-11-18T12:46:41.844Z"
   },
   {
    "duration": 22,
    "start_time": "2021-11-18T12:46:41.867Z"
   },
   {
    "duration": 5,
    "start_time": "2021-11-18T12:46:41.890Z"
   },
   {
    "duration": 9,
    "start_time": "2021-11-18T12:46:41.897Z"
   },
   {
    "duration": 17,
    "start_time": "2021-11-18T12:46:41.907Z"
   },
   {
    "duration": 4,
    "start_time": "2021-11-18T12:46:41.926Z"
   },
   {
    "duration": 9,
    "start_time": "2021-11-18T12:46:41.931Z"
   },
   {
    "duration": 7,
    "start_time": "2021-11-18T12:46:41.941Z"
   },
   {
    "duration": 40,
    "start_time": "2021-11-18T12:46:41.949Z"
   },
   {
    "duration": 3,
    "start_time": "2021-11-18T12:46:41.990Z"
   },
   {
    "duration": 352,
    "start_time": "2021-11-18T12:46:41.994Z"
   },
   {
    "duration": 3,
    "start_time": "2021-11-18T12:46:42.347Z"
   },
   {
    "duration": 29941,
    "start_time": "2021-11-18T12:46:42.351Z"
   },
   {
    "duration": 11,
    "start_time": "2021-11-18T12:47:12.293Z"
   },
   {
    "duration": 26,
    "start_time": "2021-11-18T12:47:12.306Z"
   },
   {
    "duration": 25,
    "start_time": "2021-11-18T12:47:12.333Z"
   },
   {
    "duration": 3265,
    "start_time": "2021-11-18T12:47:12.359Z"
   },
   {
    "duration": 12,
    "start_time": "2021-11-18T12:47:15.626Z"
   },
   {
    "duration": 3536,
    "start_time": "2021-11-18T12:47:15.640Z"
   },
   {
    "duration": 21,
    "start_time": "2021-11-18T12:47:19.177Z"
   },
   {
    "duration": 27,
    "start_time": "2021-11-18T12:47:19.200Z"
   },
   {
    "duration": 28,
    "start_time": "2021-11-18T12:47:19.229Z"
   },
   {
    "duration": 39,
    "start_time": "2021-11-18T12:47:19.259Z"
   },
   {
    "duration": 11,
    "start_time": "2021-11-18T12:47:19.299Z"
   },
   {
    "duration": 45,
    "start_time": "2021-11-18T12:47:19.311Z"
   },
   {
    "duration": 17,
    "start_time": "2021-11-18T12:47:19.358Z"
   },
   {
    "duration": 27,
    "start_time": "2021-11-18T12:47:19.376Z"
   },
   {
    "duration": 49,
    "start_time": "2021-11-18T12:47:19.404Z"
   },
   {
    "duration": 32,
    "start_time": "2021-11-18T12:47:19.454Z"
   },
   {
    "duration": 26,
    "start_time": "2021-11-18T12:47:19.488Z"
   },
   {
    "duration": 25,
    "start_time": "2021-11-18T12:47:19.516Z"
   },
   {
    "duration": 29,
    "start_time": "2021-11-18T12:47:19.543Z"
   },
   {
    "duration": 30,
    "start_time": "2021-11-18T12:47:19.588Z"
   },
   {
    "duration": 29,
    "start_time": "2021-11-18T12:47:19.620Z"
   },
   {
    "duration": 44,
    "start_time": "2021-11-18T12:47:19.651Z"
   },
   {
    "duration": 288,
    "start_time": "2021-11-18T12:48:00.233Z"
   },
   {
    "duration": 31,
    "start_time": "2021-11-18T12:48:13.867Z"
   },
   {
    "duration": 257,
    "start_time": "2021-11-18T12:48:52.334Z"
   },
   {
    "duration": 3,
    "start_time": "2021-11-18T12:49:01.457Z"
   },
   {
    "duration": 80,
    "start_time": "2021-11-18T12:49:01.463Z"
   },
   {
    "duration": 5,
    "start_time": "2021-11-18T12:49:01.545Z"
   },
   {
    "duration": 40,
    "start_time": "2021-11-18T12:49:01.552Z"
   },
   {
    "duration": 26,
    "start_time": "2021-11-18T12:49:01.594Z"
   },
   {
    "duration": 22,
    "start_time": "2021-11-18T12:49:01.622Z"
   },
   {
    "duration": 13,
    "start_time": "2021-11-18T12:49:01.646Z"
   },
   {
    "duration": 32,
    "start_time": "2021-11-18T12:49:01.661Z"
   },
   {
    "duration": 163,
    "start_time": "2021-11-18T12:49:01.695Z"
   },
   {
    "duration": 4,
    "start_time": "2021-11-18T12:49:01.859Z"
   },
   {
    "duration": 13,
    "start_time": "2021-11-18T12:49:01.865Z"
   },
   {
    "duration": 29,
    "start_time": "2021-11-18T12:49:01.879Z"
   },
   {
    "duration": 17,
    "start_time": "2021-11-18T12:49:01.909Z"
   },
   {
    "duration": 20,
    "start_time": "2021-11-18T12:49:01.927Z"
   },
   {
    "duration": 18,
    "start_time": "2021-11-18T12:49:01.949Z"
   },
   {
    "duration": 23,
    "start_time": "2021-11-18T12:49:01.968Z"
   },
   {
    "duration": 23,
    "start_time": "2021-11-18T12:49:01.992Z"
   },
   {
    "duration": 20,
    "start_time": "2021-11-18T12:49:02.016Z"
   },
   {
    "duration": 19,
    "start_time": "2021-11-18T12:49:02.039Z"
   },
   {
    "duration": 29,
    "start_time": "2021-11-18T12:49:02.060Z"
   },
   {
    "duration": 27,
    "start_time": "2021-11-18T12:49:02.090Z"
   },
   {
    "duration": 132,
    "start_time": "2021-11-18T12:49:02.118Z"
   },
   {
    "duration": 14453,
    "start_time": "2021-11-18T12:49:02.252Z"
   },
   {
    "duration": 2,
    "start_time": "2021-11-18T12:49:16.706Z"
   },
   {
    "duration": 12,
    "start_time": "2021-11-18T12:49:16.709Z"
   },
   {
    "duration": 8,
    "start_time": "2021-11-18T12:49:16.722Z"
   },
   {
    "duration": 8,
    "start_time": "2021-11-18T12:49:16.731Z"
   },
   {
    "duration": 12,
    "start_time": "2021-11-18T12:49:16.741Z"
   },
   {
    "duration": 14,
    "start_time": "2021-11-18T12:49:16.754Z"
   },
   {
    "duration": 25,
    "start_time": "2021-11-18T12:49:16.769Z"
   },
   {
    "duration": 17,
    "start_time": "2021-11-18T12:49:16.796Z"
   },
   {
    "duration": 267,
    "start_time": "2021-11-18T12:49:16.814Z"
   },
   {
    "duration": 1126,
    "start_time": "2021-11-18T12:49:15.957Z"
   },
   {
    "duration": 1120,
    "start_time": "2021-11-18T12:49:15.964Z"
   },
   {
    "duration": 1118,
    "start_time": "2021-11-18T12:49:15.967Z"
   },
   {
    "duration": 1114,
    "start_time": "2021-11-18T12:49:15.971Z"
   },
   {
    "duration": 1112,
    "start_time": "2021-11-18T12:49:15.974Z"
   },
   {
    "duration": 1111,
    "start_time": "2021-11-18T12:49:15.976Z"
   },
   {
    "duration": 1110,
    "start_time": "2021-11-18T12:49:15.978Z"
   },
   {
    "duration": 1109,
    "start_time": "2021-11-18T12:49:15.980Z"
   },
   {
    "duration": 1108,
    "start_time": "2021-11-18T12:49:15.982Z"
   },
   {
    "duration": 1105,
    "start_time": "2021-11-18T12:49:15.985Z"
   },
   {
    "duration": 1103,
    "start_time": "2021-11-18T12:49:15.988Z"
   },
   {
    "duration": 1102,
    "start_time": "2021-11-18T12:49:15.990Z"
   },
   {
    "duration": 1101,
    "start_time": "2021-11-18T12:49:15.992Z"
   },
   {
    "duration": 1099,
    "start_time": "2021-11-18T12:49:15.994Z"
   },
   {
    "duration": 1097,
    "start_time": "2021-11-18T12:49:15.997Z"
   },
   {
    "duration": 1096,
    "start_time": "2021-11-18T12:49:15.999Z"
   },
   {
    "duration": 1094,
    "start_time": "2021-11-18T12:49:16.002Z"
   },
   {
    "duration": 1093,
    "start_time": "2021-11-18T12:49:16.004Z"
   },
   {
    "duration": 1091,
    "start_time": "2021-11-18T12:49:16.007Z"
   },
   {
    "duration": 1089,
    "start_time": "2021-11-18T12:49:16.009Z"
   },
   {
    "duration": 1088,
    "start_time": "2021-11-18T12:49:16.011Z"
   },
   {
    "duration": 1087,
    "start_time": "2021-11-18T12:49:16.013Z"
   },
   {
    "duration": 1085,
    "start_time": "2021-11-18T12:49:16.016Z"
   },
   {
    "duration": 1084,
    "start_time": "2021-11-18T12:49:16.018Z"
   },
   {
    "duration": 1083,
    "start_time": "2021-11-18T12:49:16.020Z"
   },
   {
    "duration": 1072,
    "start_time": "2021-11-18T12:49:16.031Z"
   },
   {
    "duration": 1071,
    "start_time": "2021-11-18T12:49:16.033Z"
   },
   {
    "duration": 1069,
    "start_time": "2021-11-18T12:49:16.036Z"
   },
   {
    "duration": 1068,
    "start_time": "2021-11-18T12:49:16.038Z"
   },
   {
    "duration": 1066,
    "start_time": "2021-11-18T12:49:16.041Z"
   },
   {
    "duration": 1065,
    "start_time": "2021-11-18T12:49:16.043Z"
   },
   {
    "duration": 1063,
    "start_time": "2021-11-18T12:49:16.045Z"
   },
   {
    "duration": 1061,
    "start_time": "2021-11-18T12:49:16.048Z"
   },
   {
    "duration": 1060,
    "start_time": "2021-11-18T12:49:16.050Z"
   },
   {
    "duration": 1058,
    "start_time": "2021-11-18T12:49:16.053Z"
   },
   {
    "duration": 1057,
    "start_time": "2021-11-18T12:49:16.055Z"
   },
   {
    "duration": 1055,
    "start_time": "2021-11-18T12:49:16.058Z"
   },
   {
    "duration": 16,
    "start_time": "2021-11-18T12:49:29.310Z"
   },
   {
    "duration": 26,
    "start_time": "2021-11-18T12:49:39.033Z"
   },
   {
    "duration": 3,
    "start_time": "2021-11-18T12:49:41.779Z"
   },
   {
    "duration": 62,
    "start_time": "2021-11-18T12:49:41.784Z"
   },
   {
    "duration": 3,
    "start_time": "2021-11-18T12:49:41.848Z"
   },
   {
    "duration": 8,
    "start_time": "2021-11-18T12:49:41.853Z"
   },
   {
    "duration": 28,
    "start_time": "2021-11-18T12:49:41.862Z"
   },
   {
    "duration": 14,
    "start_time": "2021-11-18T12:49:41.891Z"
   },
   {
    "duration": 4,
    "start_time": "2021-11-18T12:49:41.907Z"
   },
   {
    "duration": 10,
    "start_time": "2021-11-18T12:49:41.913Z"
   },
   {
    "duration": 150,
    "start_time": "2021-11-18T12:49:41.924Z"
   },
   {
    "duration": 4,
    "start_time": "2021-11-18T12:49:42.075Z"
   },
   {
    "duration": 3,
    "start_time": "2021-11-18T12:49:42.088Z"
   },
   {
    "duration": 11,
    "start_time": "2021-11-18T12:49:42.093Z"
   },
   {
    "duration": 8,
    "start_time": "2021-11-18T12:49:42.106Z"
   },
   {
    "duration": 8,
    "start_time": "2021-11-18T12:49:42.115Z"
   },
   {
    "duration": 4,
    "start_time": "2021-11-18T12:49:42.124Z"
   },
   {
    "duration": 10,
    "start_time": "2021-11-18T12:49:42.130Z"
   },
   {
    "duration": 8,
    "start_time": "2021-11-18T12:49:42.141Z"
   },
   {
    "duration": 5,
    "start_time": "2021-11-18T12:49:42.151Z"
   },
   {
    "duration": 2,
    "start_time": "2021-11-18T12:49:42.188Z"
   },
   {
    "duration": 14,
    "start_time": "2021-11-18T12:49:42.192Z"
   },
   {
    "duration": 9,
    "start_time": "2021-11-18T12:49:42.207Z"
   },
   {
    "duration": 13,
    "start_time": "2021-11-18T12:49:42.217Z"
   },
   {
    "duration": 14722,
    "start_time": "2021-11-18T12:49:42.231Z"
   },
   {
    "duration": 2,
    "start_time": "2021-11-18T12:49:56.955Z"
   },
   {
    "duration": 17,
    "start_time": "2021-11-18T12:49:56.958Z"
   },
   {
    "duration": 19,
    "start_time": "2021-11-18T12:49:56.976Z"
   },
   {
    "duration": 8,
    "start_time": "2021-11-18T12:49:56.996Z"
   },
   {
    "duration": 13,
    "start_time": "2021-11-18T12:49:57.005Z"
   },
   {
    "duration": 14,
    "start_time": "2021-11-18T12:49:57.020Z"
   },
   {
    "duration": 16,
    "start_time": "2021-11-18T12:49:57.035Z"
   },
   {
    "duration": 15,
    "start_time": "2021-11-18T12:49:57.053Z"
   },
   {
    "duration": 34,
    "start_time": "2021-11-18T12:49:57.069Z"
   },
   {
    "duration": 9,
    "start_time": "2021-11-18T12:49:57.105Z"
   },
   {
    "duration": 8,
    "start_time": "2021-11-18T12:49:57.115Z"
   },
   {
    "duration": 22,
    "start_time": "2021-11-18T12:49:57.125Z"
   },
   {
    "duration": 7,
    "start_time": "2021-11-18T12:49:57.148Z"
   },
   {
    "duration": 12,
    "start_time": "2021-11-18T12:49:57.157Z"
   },
   {
    "duration": 8,
    "start_time": "2021-11-18T12:49:57.187Z"
   },
   {
    "duration": 24,
    "start_time": "2021-11-18T12:49:57.196Z"
   },
   {
    "duration": 6,
    "start_time": "2021-11-18T12:49:57.222Z"
   },
   {
    "duration": 6,
    "start_time": "2021-11-18T12:49:57.229Z"
   },
   {
    "duration": 7,
    "start_time": "2021-11-18T12:49:57.237Z"
   },
   {
    "duration": 44,
    "start_time": "2021-11-18T12:49:57.246Z"
   },
   {
    "duration": 3,
    "start_time": "2021-11-18T12:49:57.292Z"
   },
   {
    "duration": 369,
    "start_time": "2021-11-18T12:49:57.297Z"
   },
   {
    "duration": 4,
    "start_time": "2021-11-18T12:49:57.668Z"
   },
   {
    "duration": 31204,
    "start_time": "2021-11-18T12:49:57.674Z"
   },
   {
    "duration": 15,
    "start_time": "2021-11-18T12:50:28.879Z"
   },
   {
    "duration": 30,
    "start_time": "2021-11-18T12:50:28.895Z"
   },
   {
    "duration": 25,
    "start_time": "2021-11-18T12:50:28.926Z"
   },
   {
    "duration": 3241,
    "start_time": "2021-11-18T12:50:28.952Z"
   },
   {
    "duration": 13,
    "start_time": "2021-11-18T12:50:32.195Z"
   },
   {
    "duration": 3644,
    "start_time": "2021-11-18T12:50:32.209Z"
   },
   {
    "duration": 3,
    "start_time": "2021-11-18T12:50:35.854Z"
   },
   {
    "duration": 27,
    "start_time": "2021-11-18T12:50:35.862Z"
   },
   {
    "duration": 15,
    "start_time": "2021-11-18T12:50:35.891Z"
   },
   {
    "duration": 11,
    "start_time": "2021-11-18T12:50:35.908Z"
   },
   {
    "duration": 16,
    "start_time": "2021-11-18T12:50:35.920Z"
   },
   {
    "duration": 44,
    "start_time": "2021-11-18T12:50:35.937Z"
   },
   {
    "duration": 15,
    "start_time": "2021-11-18T12:50:35.983Z"
   },
   {
    "duration": 16,
    "start_time": "2021-11-18T12:50:35.999Z"
   },
   {
    "duration": 16,
    "start_time": "2021-11-18T12:50:36.016Z"
   },
   {
    "duration": 17,
    "start_time": "2021-11-18T12:50:36.033Z"
   },
   {
    "duration": 46,
    "start_time": "2021-11-18T12:50:36.052Z"
   },
   {
    "duration": 20,
    "start_time": "2021-11-18T12:50:36.100Z"
   },
   {
    "duration": 20,
    "start_time": "2021-11-18T12:50:36.121Z"
   },
   {
    "duration": 23,
    "start_time": "2021-11-18T12:50:36.142Z"
   },
   {
    "duration": 20,
    "start_time": "2021-11-18T12:50:36.188Z"
   },
   {
    "duration": 20,
    "start_time": "2021-11-18T12:50:36.210Z"
   },
   {
    "duration": 15,
    "start_time": "2021-11-18T12:50:36.232Z"
   },
   {
    "duration": 4,
    "start_time": "2021-11-18T12:52:14.089Z"
   },
   {
    "duration": 79,
    "start_time": "2021-11-18T12:52:24.036Z"
   },
   {
    "duration": 2,
    "start_time": "2021-11-18T12:52:29.836Z"
   },
   {
    "duration": 4,
    "start_time": "2021-11-18T12:52:30.585Z"
   },
   {
    "duration": 3,
    "start_time": "2021-11-18T12:52:34.291Z"
   },
   {
    "duration": 62,
    "start_time": "2021-11-18T12:52:34.296Z"
   },
   {
    "duration": 3,
    "start_time": "2021-11-18T12:52:34.360Z"
   },
   {
    "duration": 25,
    "start_time": "2021-11-18T12:52:34.365Z"
   },
   {
    "duration": 17,
    "start_time": "2021-11-18T12:52:34.391Z"
   },
   {
    "duration": 13,
    "start_time": "2021-11-18T12:52:34.409Z"
   },
   {
    "duration": 6,
    "start_time": "2021-11-18T12:52:34.424Z"
   },
   {
    "duration": 9,
    "start_time": "2021-11-18T12:52:34.431Z"
   },
   {
    "duration": 9,
    "start_time": "2021-11-18T12:52:34.441Z"
   },
   {
    "duration": 155,
    "start_time": "2021-11-18T12:52:34.452Z"
   },
   {
    "duration": 4,
    "start_time": "2021-11-18T12:52:34.608Z"
   },
   {
    "duration": 17,
    "start_time": "2021-11-18T12:52:34.613Z"
   },
   {
    "duration": 18,
    "start_time": "2021-11-18T12:52:34.632Z"
   },
   {
    "duration": 15,
    "start_time": "2021-11-18T12:52:34.652Z"
   },
   {
    "duration": 12,
    "start_time": "2021-11-18T12:52:34.669Z"
   },
   {
    "duration": 19,
    "start_time": "2021-11-18T12:52:34.683Z"
   },
   {
    "duration": 21,
    "start_time": "2021-11-18T12:52:34.704Z"
   },
   {
    "duration": 22,
    "start_time": "2021-11-18T12:52:34.726Z"
   },
   {
    "duration": 6,
    "start_time": "2021-11-18T12:52:34.752Z"
   },
   {
    "duration": 4,
    "start_time": "2021-11-18T12:52:34.760Z"
   },
   {
    "duration": 5,
    "start_time": "2021-11-18T12:52:34.765Z"
   },
   {
    "duration": 4,
    "start_time": "2021-11-18T12:52:34.771Z"
   },
   {
    "duration": 13,
    "start_time": "2021-11-18T12:52:34.777Z"
   },
   {
    "duration": 14370,
    "start_time": "2021-11-18T12:52:34.792Z"
   },
   {
    "duration": 2,
    "start_time": "2021-11-18T12:52:49.164Z"
   },
   {
    "duration": 19,
    "start_time": "2021-11-18T12:52:49.167Z"
   },
   {
    "duration": 14,
    "start_time": "2021-11-18T12:52:49.187Z"
   },
   {
    "duration": 10,
    "start_time": "2021-11-18T12:52:49.202Z"
   },
   {
    "duration": 20,
    "start_time": "2021-11-18T12:52:49.213Z"
   },
   {
    "duration": 16,
    "start_time": "2021-11-18T12:52:49.234Z"
   },
   {
    "duration": 21,
    "start_time": "2021-11-18T12:52:49.252Z"
   },
   {
    "duration": 15,
    "start_time": "2021-11-18T12:52:49.275Z"
   },
   {
    "duration": 16,
    "start_time": "2021-11-18T12:52:49.291Z"
   },
   {
    "duration": 9,
    "start_time": "2021-11-18T12:52:49.308Z"
   },
   {
    "duration": 18,
    "start_time": "2021-11-18T12:52:49.319Z"
   },
   {
    "duration": 18,
    "start_time": "2021-11-18T12:52:49.338Z"
   },
   {
    "duration": 6,
    "start_time": "2021-11-18T12:52:49.357Z"
   },
   {
    "duration": 4,
    "start_time": "2021-11-18T12:52:49.365Z"
   },
   {
    "duration": 21,
    "start_time": "2021-11-18T12:52:49.370Z"
   },
   {
    "duration": 18,
    "start_time": "2021-11-18T12:52:49.393Z"
   },
   {
    "duration": 5,
    "start_time": "2021-11-18T12:52:49.412Z"
   },
   {
    "duration": 3,
    "start_time": "2021-11-18T12:52:49.418Z"
   },
   {
    "duration": 7,
    "start_time": "2021-11-18T12:52:49.423Z"
   },
   {
    "duration": 30,
    "start_time": "2021-11-18T12:52:49.431Z"
   },
   {
    "duration": 27,
    "start_time": "2021-11-18T12:52:49.463Z"
   },
   {
    "duration": 398,
    "start_time": "2021-11-18T12:52:49.492Z"
   },
   {
    "duration": 3,
    "start_time": "2021-11-18T12:52:49.892Z"
   },
   {
    "duration": 1130,
    "start_time": "2021-11-18T12:53:12.425Z"
   },
   {
    "duration": 1122,
    "start_time": "2021-11-18T12:53:12.434Z"
   },
   {
    "duration": 1120,
    "start_time": "2021-11-18T12:53:12.437Z"
   },
   {
    "duration": 1119,
    "start_time": "2021-11-18T12:53:12.439Z"
   },
   {
    "duration": 1117,
    "start_time": "2021-11-18T12:53:12.441Z"
   },
   {
    "duration": 1115,
    "start_time": "2021-11-18T12:53:12.444Z"
   },
   {
    "duration": 1114,
    "start_time": "2021-11-18T12:53:12.446Z"
   },
   {
    "duration": 1107,
    "start_time": "2021-11-18T12:53:12.454Z"
   },
   {
    "duration": 1105,
    "start_time": "2021-11-18T12:53:12.457Z"
   },
   {
    "duration": 1103,
    "start_time": "2021-11-18T12:53:12.460Z"
   },
   {
    "duration": 1101,
    "start_time": "2021-11-18T12:53:12.463Z"
   },
   {
    "duration": 1099,
    "start_time": "2021-11-18T12:53:12.466Z"
   },
   {
    "duration": 1097,
    "start_time": "2021-11-18T12:53:12.469Z"
   },
   {
    "duration": 1095,
    "start_time": "2021-11-18T12:53:12.471Z"
   },
   {
    "duration": 1094,
    "start_time": "2021-11-18T12:53:12.473Z"
   },
   {
    "duration": 1093,
    "start_time": "2021-11-18T12:53:12.475Z"
   },
   {
    "duration": 1091,
    "start_time": "2021-11-18T12:53:12.478Z"
   },
   {
    "duration": 1090,
    "start_time": "2021-11-18T12:53:12.480Z"
   },
   {
    "duration": 1080,
    "start_time": "2021-11-18T12:53:12.490Z"
   },
   {
    "duration": 1094,
    "start_time": "2021-11-18T12:53:12.493Z"
   },
   {
    "duration": 1093,
    "start_time": "2021-11-18T12:53:12.495Z"
   },
   {
    "duration": 1092,
    "start_time": "2021-11-18T12:53:12.497Z"
   },
   {
    "duration": 1089,
    "start_time": "2021-11-18T12:53:12.501Z"
   },
   {
    "duration": 1088,
    "start_time": "2021-11-18T12:53:12.503Z"
   },
   {
    "duration": 1086,
    "start_time": "2021-11-18T12:53:12.506Z"
   },
   {
    "duration": 1084,
    "start_time": "2021-11-18T12:53:12.509Z"
   },
   {
    "duration": 1082,
    "start_time": "2021-11-18T12:53:12.511Z"
   },
   {
    "duration": 1081,
    "start_time": "2021-11-18T12:53:12.513Z"
   },
   {
    "duration": 1080,
    "start_time": "2021-11-18T12:53:12.515Z"
   },
   {
    "duration": 1079,
    "start_time": "2021-11-18T12:53:12.517Z"
   },
   {
    "duration": 1078,
    "start_time": "2021-11-18T12:53:12.519Z"
   },
   {
    "duration": 1076,
    "start_time": "2021-11-18T12:53:12.522Z"
   },
   {
    "duration": 1073,
    "start_time": "2021-11-18T12:53:12.526Z"
   },
   {
    "duration": 1072,
    "start_time": "2021-11-18T12:53:12.528Z"
   },
   {
    "duration": 1070,
    "start_time": "2021-11-18T12:53:12.531Z"
   },
   {
    "duration": 1062,
    "start_time": "2021-11-18T12:53:12.540Z"
   },
   {
    "duration": 1060,
    "start_time": "2021-11-18T12:53:12.542Z"
   },
   {
    "duration": 1059,
    "start_time": "2021-11-18T12:53:12.544Z"
   },
   {
    "duration": 1057,
    "start_time": "2021-11-18T12:53:12.547Z"
   },
   {
    "duration": 1056,
    "start_time": "2021-11-18T12:53:12.549Z"
   },
   {
    "duration": 973,
    "start_time": "2021-11-18T12:53:12.633Z"
   },
   {
    "duration": 960,
    "start_time": "2021-11-18T12:53:12.647Z"
   },
   {
    "duration": 959,
    "start_time": "2021-11-18T12:53:12.649Z"
   },
   {
    "duration": 957,
    "start_time": "2021-11-18T12:53:12.652Z"
   },
   {
    "duration": 956,
    "start_time": "2021-11-18T12:53:12.654Z"
   },
   {
    "duration": 829,
    "start_time": "2021-11-18T12:53:12.782Z"
   },
   {
    "duration": 728,
    "start_time": "2021-11-18T12:53:12.883Z"
   },
   {
    "duration": 666,
    "start_time": "2021-11-18T12:53:12.946Z"
   },
   {
    "duration": 664,
    "start_time": "2021-11-18T12:53:12.949Z"
   },
   {
    "duration": 663,
    "start_time": "2021-11-18T12:53:12.951Z"
   },
   {
    "duration": 661,
    "start_time": "2021-11-18T12:53:12.954Z"
   },
   {
    "duration": 659,
    "start_time": "2021-11-18T12:53:12.957Z"
   },
   {
    "duration": 658,
    "start_time": "2021-11-18T12:53:12.959Z"
   },
   {
    "duration": 656,
    "start_time": "2021-11-18T12:53:12.962Z"
   },
   {
    "duration": 655,
    "start_time": "2021-11-18T12:53:12.964Z"
   },
   {
    "duration": 653,
    "start_time": "2021-11-18T12:53:12.967Z"
   },
   {
    "duration": 652,
    "start_time": "2021-11-18T12:53:12.969Z"
   },
   {
    "duration": 651,
    "start_time": "2021-11-18T12:53:12.971Z"
   },
   {
    "duration": 649,
    "start_time": "2021-11-18T12:53:12.974Z"
   },
   {
    "duration": 647,
    "start_time": "2021-11-18T12:53:12.976Z"
   },
   {
    "duration": 646,
    "start_time": "2021-11-18T12:53:12.978Z"
   },
   {
    "duration": 645,
    "start_time": "2021-11-18T12:53:12.980Z"
   },
   {
    "duration": 643,
    "start_time": "2021-11-18T12:53:12.983Z"
   },
   {
    "duration": 642,
    "start_time": "2021-11-18T12:53:12.985Z"
   },
   {
    "duration": 700,
    "start_time": "2021-11-18T12:53:12.987Z"
   },
   {
    "duration": 698,
    "start_time": "2021-11-18T12:53:12.990Z"
   },
   {
    "duration": 697,
    "start_time": "2021-11-18T12:53:12.992Z"
   },
   {
    "duration": 696,
    "start_time": "2021-11-18T12:53:12.994Z"
   },
   {
    "duration": 694,
    "start_time": "2021-11-18T12:53:12.997Z"
   },
   {
    "duration": 693,
    "start_time": "2021-11-18T12:53:12.999Z"
   },
   {
    "duration": 3,
    "start_time": "2021-11-18T12:53:16.136Z"
   },
   {
    "duration": 71,
    "start_time": "2021-11-18T12:53:16.141Z"
   },
   {
    "duration": 4,
    "start_time": "2021-11-18T12:53:16.214Z"
   },
   {
    "duration": 6,
    "start_time": "2021-11-18T12:53:16.220Z"
   },
   {
    "duration": 17,
    "start_time": "2021-11-18T12:53:16.228Z"
   },
   {
    "duration": 55,
    "start_time": "2021-11-18T12:53:16.246Z"
   },
   {
    "duration": 5,
    "start_time": "2021-11-18T12:53:16.303Z"
   },
   {
    "duration": 11,
    "start_time": "2021-11-18T12:53:16.309Z"
   },
   {
    "duration": 7,
    "start_time": "2021-11-18T12:53:16.321Z"
   },
   {
    "duration": 143,
    "start_time": "2021-11-18T12:53:16.329Z"
   },
   {
    "duration": 3,
    "start_time": "2021-11-18T12:53:16.474Z"
   },
   {
    "duration": 10,
    "start_time": "2021-11-18T12:53:16.479Z"
   },
   {
    "duration": 8,
    "start_time": "2021-11-18T12:53:16.491Z"
   },
   {
    "duration": 6,
    "start_time": "2021-11-18T12:53:16.500Z"
   },
   {
    "duration": 261,
    "start_time": "2021-11-18T12:53:16.507Z"
   },
   {
    "duration": 1045,
    "start_time": "2021-11-18T12:53:15.726Z"
   },
   {
    "duration": 1043,
    "start_time": "2021-11-18T12:53:15.729Z"
   },
   {
    "duration": 1042,
    "start_time": "2021-11-18T12:53:15.731Z"
   },
   {
    "duration": 1040,
    "start_time": "2021-11-18T12:53:15.734Z"
   },
   {
    "duration": 1039,
    "start_time": "2021-11-18T12:53:15.736Z"
   },
   {
    "duration": 1037,
    "start_time": "2021-11-18T12:53:15.739Z"
   },
   {
    "duration": 1036,
    "start_time": "2021-11-18T12:53:15.741Z"
   },
   {
    "duration": 1035,
    "start_time": "2021-11-18T12:53:15.743Z"
   },
   {
    "duration": 1033,
    "start_time": "2021-11-18T12:53:15.746Z"
   },
   {
    "duration": 1030,
    "start_time": "2021-11-18T12:53:15.749Z"
   },
   {
    "duration": 1029,
    "start_time": "2021-11-18T12:53:15.751Z"
   },
   {
    "duration": 1027,
    "start_time": "2021-11-18T12:53:15.754Z"
   },
   {
    "duration": 1025,
    "start_time": "2021-11-18T12:53:15.757Z"
   },
   {
    "duration": 1024,
    "start_time": "2021-11-18T12:53:15.759Z"
   },
   {
    "duration": 1022,
    "start_time": "2021-11-18T12:53:15.762Z"
   },
   {
    "duration": 1020,
    "start_time": "2021-11-18T12:53:15.765Z"
   },
   {
    "duration": 1019,
    "start_time": "2021-11-18T12:53:15.767Z"
   },
   {
    "duration": 1016,
    "start_time": "2021-11-18T12:53:15.770Z"
   },
   {
    "duration": 1015,
    "start_time": "2021-11-18T12:53:15.772Z"
   },
   {
    "duration": 1013,
    "start_time": "2021-11-18T12:53:15.775Z"
   },
   {
    "duration": 1010,
    "start_time": "2021-11-18T12:53:15.779Z"
   },
   {
    "duration": 1009,
    "start_time": "2021-11-18T12:53:15.781Z"
   },
   {
    "duration": 1007,
    "start_time": "2021-11-18T12:53:15.784Z"
   },
   {
    "duration": 1005,
    "start_time": "2021-11-18T12:53:15.787Z"
   },
   {
    "duration": 1004,
    "start_time": "2021-11-18T12:53:15.789Z"
   },
   {
    "duration": 1002,
    "start_time": "2021-11-18T12:53:15.791Z"
   },
   {
    "duration": 1001,
    "start_time": "2021-11-18T12:53:15.793Z"
   },
   {
    "duration": 999,
    "start_time": "2021-11-18T12:53:15.796Z"
   },
   {
    "duration": 998,
    "start_time": "2021-11-18T12:53:15.798Z"
   },
   {
    "duration": 997,
    "start_time": "2021-11-18T12:53:15.800Z"
   },
   {
    "duration": 994,
    "start_time": "2021-11-18T12:53:15.803Z"
   },
   {
    "duration": 993,
    "start_time": "2021-11-18T12:53:15.805Z"
   },
   {
    "duration": 992,
    "start_time": "2021-11-18T12:53:15.807Z"
   },
   {
    "duration": 990,
    "start_time": "2021-11-18T12:53:15.810Z"
   },
   {
    "duration": 989,
    "start_time": "2021-11-18T12:53:15.812Z"
   },
   {
    "duration": 987,
    "start_time": "2021-11-18T12:53:15.815Z"
   },
   {
    "duration": 985,
    "start_time": "2021-11-18T12:53:15.818Z"
   },
   {
    "duration": 983,
    "start_time": "2021-11-18T12:53:15.821Z"
   },
   {
    "duration": 970,
    "start_time": "2021-11-18T12:53:15.835Z"
   },
   {
    "duration": 968,
    "start_time": "2021-11-18T12:53:15.838Z"
   },
   {
    "duration": 965,
    "start_time": "2021-11-18T12:53:15.841Z"
   },
   {
    "duration": 963,
    "start_time": "2021-11-18T12:53:15.844Z"
   },
   {
    "duration": 962,
    "start_time": "2021-11-18T12:53:15.846Z"
   },
   {
    "duration": 960,
    "start_time": "2021-11-18T12:53:15.849Z"
   },
   {
    "duration": 959,
    "start_time": "2021-11-18T12:53:15.851Z"
   },
   {
    "duration": 958,
    "start_time": "2021-11-18T12:53:15.853Z"
   },
   {
    "duration": 956,
    "start_time": "2021-11-18T12:53:15.856Z"
   },
   {
    "duration": 955,
    "start_time": "2021-11-18T12:53:15.858Z"
   },
   {
    "duration": 953,
    "start_time": "2021-11-18T12:53:15.861Z"
   },
   {
    "duration": 951,
    "start_time": "2021-11-18T12:53:15.864Z"
   },
   {
    "duration": 949,
    "start_time": "2021-11-18T12:53:15.867Z"
   },
   {
    "duration": 946,
    "start_time": "2021-11-18T12:53:15.870Z"
   },
   {
    "duration": 945,
    "start_time": "2021-11-18T12:53:15.872Z"
   },
   {
    "duration": 943,
    "start_time": "2021-11-18T12:53:15.875Z"
   },
   {
    "duration": 941,
    "start_time": "2021-11-18T12:53:15.878Z"
   },
   {
    "duration": 14,
    "start_time": "2021-11-18T12:53:36.732Z"
   },
   {
    "duration": 4,
    "start_time": "2021-11-18T12:53:37.150Z"
   },
   {
    "duration": 14,
    "start_time": "2021-11-18T12:53:42.851Z"
   },
   {
    "duration": 5,
    "start_time": "2021-11-18T12:53:43.325Z"
   },
   {
    "duration": 2,
    "start_time": "2021-11-18T12:53:46.755Z"
   },
   {
    "duration": 59,
    "start_time": "2021-11-18T12:53:46.760Z"
   },
   {
    "duration": 3,
    "start_time": "2021-11-18T12:53:46.821Z"
   },
   {
    "duration": 7,
    "start_time": "2021-11-18T12:53:46.826Z"
   },
   {
    "duration": 22,
    "start_time": "2021-11-18T12:53:46.835Z"
   },
   {
    "duration": 38,
    "start_time": "2021-11-18T12:53:46.859Z"
   },
   {
    "duration": 5,
    "start_time": "2021-11-18T12:53:46.898Z"
   },
   {
    "duration": 14,
    "start_time": "2021-11-18T12:53:46.904Z"
   },
   {
    "duration": 4,
    "start_time": "2021-11-18T12:53:46.920Z"
   },
   {
    "duration": 144,
    "start_time": "2021-11-18T12:53:46.927Z"
   },
   {
    "duration": 5,
    "start_time": "2021-11-18T12:53:47.073Z"
   },
   {
    "duration": 10,
    "start_time": "2021-11-18T12:53:47.079Z"
   },
   {
    "duration": 13,
    "start_time": "2021-11-18T12:53:47.091Z"
   },
   {
    "duration": 6,
    "start_time": "2021-11-18T12:53:47.105Z"
   },
   {
    "duration": 19,
    "start_time": "2021-11-18T12:53:47.112Z"
   },
   {
    "duration": 6,
    "start_time": "2021-11-18T12:53:47.132Z"
   },
   {
    "duration": 6,
    "start_time": "2021-11-18T12:53:47.140Z"
   },
   {
    "duration": 8,
    "start_time": "2021-11-18T12:53:47.148Z"
   },
   {
    "duration": 7,
    "start_time": "2021-11-18T12:53:47.157Z"
   },
   {
    "duration": 2,
    "start_time": "2021-11-18T12:53:47.187Z"
   },
   {
    "duration": 4,
    "start_time": "2021-11-18T12:53:47.191Z"
   },
   {
    "duration": 7,
    "start_time": "2021-11-18T12:53:47.197Z"
   },
   {
    "duration": 13,
    "start_time": "2021-11-18T12:53:47.205Z"
   },
   {
    "duration": 14642,
    "start_time": "2021-11-18T12:53:47.219Z"
   },
   {
    "duration": 2,
    "start_time": "2021-11-18T12:54:01.862Z"
   },
   {
    "duration": 26,
    "start_time": "2021-11-18T12:54:01.866Z"
   },
   {
    "duration": 21,
    "start_time": "2021-11-18T12:54:01.894Z"
   },
   {
    "duration": 23,
    "start_time": "2021-11-18T12:54:01.918Z"
   },
   {
    "duration": 25,
    "start_time": "2021-11-18T12:54:01.943Z"
   },
   {
    "duration": 21,
    "start_time": "2021-11-18T12:54:01.969Z"
   },
   {
    "duration": 30,
    "start_time": "2021-11-18T12:54:01.991Z"
   },
   {
    "duration": 25,
    "start_time": "2021-11-18T12:54:02.022Z"
   },
   {
    "duration": 19,
    "start_time": "2021-11-18T12:54:02.049Z"
   },
   {
    "duration": 9,
    "start_time": "2021-11-18T12:54:02.070Z"
   },
   {
    "duration": 12,
    "start_time": "2021-11-18T12:54:02.080Z"
   },
   {
    "duration": 28,
    "start_time": "2021-11-18T12:54:02.093Z"
   },
   {
    "duration": 6,
    "start_time": "2021-11-18T12:54:02.123Z"
   },
   {
    "duration": 11,
    "start_time": "2021-11-18T12:54:02.131Z"
   },
   {
    "duration": 12,
    "start_time": "2021-11-18T12:54:02.143Z"
   },
   {
    "duration": 19,
    "start_time": "2021-11-18T12:54:02.157Z"
   },
   {
    "duration": 7,
    "start_time": "2021-11-18T12:54:02.177Z"
   },
   {
    "duration": 4,
    "start_time": "2021-11-18T12:54:02.187Z"
   },
   {
    "duration": 8,
    "start_time": "2021-11-18T12:54:02.193Z"
   },
   {
    "duration": 25,
    "start_time": "2021-11-18T12:54:02.203Z"
   },
   {
    "duration": 3,
    "start_time": "2021-11-18T12:54:02.230Z"
   },
   {
    "duration": 357,
    "start_time": "2021-11-18T12:54:02.234Z"
   },
   {
    "duration": 4,
    "start_time": "2021-11-18T12:54:02.592Z"
   },
   {
    "duration": 5989,
    "start_time": "2021-11-18T12:54:02.598Z"
   },
   {
    "duration": 1116,
    "start_time": "2021-11-18T12:54:07.474Z"
   },
   {
    "duration": 1113,
    "start_time": "2021-11-18T12:54:07.478Z"
   },
   {
    "duration": 1111,
    "start_time": "2021-11-18T12:54:07.481Z"
   },
   {
    "duration": 1110,
    "start_time": "2021-11-18T12:54:07.484Z"
   },
   {
    "duration": 1109,
    "start_time": "2021-11-18T12:54:07.486Z"
   },
   {
    "duration": 1108,
    "start_time": "2021-11-18T12:54:07.488Z"
   },
   {
    "duration": 1106,
    "start_time": "2021-11-18T12:54:07.491Z"
   },
   {
    "duration": 1104,
    "start_time": "2021-11-18T12:54:07.494Z"
   },
   {
    "duration": 1102,
    "start_time": "2021-11-18T12:54:07.497Z"
   },
   {
    "duration": 1101,
    "start_time": "2021-11-18T12:54:07.499Z"
   },
   {
    "duration": 1099,
    "start_time": "2021-11-18T12:54:07.502Z"
   },
   {
    "duration": 1097,
    "start_time": "2021-11-18T12:54:07.505Z"
   },
   {
    "duration": 1094,
    "start_time": "2021-11-18T12:54:07.509Z"
   },
   {
    "duration": 1094,
    "start_time": "2021-11-18T12:54:07.511Z"
   },
   {
    "duration": 1092,
    "start_time": "2021-11-18T12:54:07.514Z"
   },
   {
    "duration": 1090,
    "start_time": "2021-11-18T12:54:07.517Z"
   },
   {
    "duration": 1089,
    "start_time": "2021-11-18T12:54:07.519Z"
   },
   {
    "duration": 1087,
    "start_time": "2021-11-18T12:54:07.522Z"
   },
   {
    "duration": 1086,
    "start_time": "2021-11-18T12:54:07.524Z"
   },
   {
    "duration": 1084,
    "start_time": "2021-11-18T12:54:07.527Z"
   },
   {
    "duration": 1082,
    "start_time": "2021-11-18T12:54:07.530Z"
   },
   {
    "duration": 1081,
    "start_time": "2021-11-18T12:54:07.532Z"
   },
   {
    "duration": 2,
    "start_time": "2021-11-18T12:54:09.331Z"
   },
   {
    "duration": 64,
    "start_time": "2021-11-18T12:54:09.335Z"
   },
   {
    "duration": 4,
    "start_time": "2021-11-18T12:54:09.400Z"
   },
   {
    "duration": 15,
    "start_time": "2021-11-18T12:54:09.405Z"
   },
   {
    "duration": 29,
    "start_time": "2021-11-18T12:54:09.421Z"
   },
   {
    "duration": 15,
    "start_time": "2021-11-18T12:54:09.452Z"
   },
   {
    "duration": 20,
    "start_time": "2021-11-18T12:54:09.469Z"
   },
   {
    "duration": 21,
    "start_time": "2021-11-18T12:54:09.491Z"
   },
   {
    "duration": 4,
    "start_time": "2021-11-18T12:54:09.514Z"
   },
   {
    "duration": 138,
    "start_time": "2021-11-18T12:54:09.519Z"
   },
   {
    "duration": 3,
    "start_time": "2021-11-18T12:54:09.659Z"
   },
   {
    "duration": 9,
    "start_time": "2021-11-18T12:54:09.664Z"
   },
   {
    "duration": 13,
    "start_time": "2021-11-18T12:54:09.674Z"
   },
   {
    "duration": 4,
    "start_time": "2021-11-18T12:54:09.689Z"
   },
   {
    "duration": 6,
    "start_time": "2021-11-18T12:54:09.695Z"
   },
   {
    "duration": 10,
    "start_time": "2021-11-18T12:54:09.703Z"
   },
   {
    "duration": 11,
    "start_time": "2021-11-18T12:54:09.714Z"
   },
   {
    "duration": 8,
    "start_time": "2021-11-18T12:54:09.727Z"
   },
   {
    "duration": 6,
    "start_time": "2021-11-18T12:54:09.738Z"
   },
   {
    "duration": 2,
    "start_time": "2021-11-18T12:54:09.747Z"
   },
   {
    "duration": 7,
    "start_time": "2021-11-18T12:54:09.750Z"
   },
   {
    "duration": 2,
    "start_time": "2021-11-18T12:54:09.790Z"
   },
   {
    "duration": 12,
    "start_time": "2021-11-18T12:54:09.794Z"
   },
   {
    "duration": 14981,
    "start_time": "2021-11-18T12:54:09.808Z"
   },
   {
    "duration": 2,
    "start_time": "2021-11-18T12:54:24.790Z"
   },
   {
    "duration": 11,
    "start_time": "2021-11-18T12:54:24.794Z"
   },
   {
    "duration": 7,
    "start_time": "2021-11-18T12:54:24.806Z"
   },
   {
    "duration": 6,
    "start_time": "2021-11-18T12:54:24.814Z"
   },
   {
    "duration": 11,
    "start_time": "2021-11-18T12:54:24.822Z"
   },
   {
    "duration": 11,
    "start_time": "2021-11-18T12:54:24.834Z"
   },
   {
    "duration": 18,
    "start_time": "2021-11-18T12:54:24.846Z"
   },
   {
    "duration": 31,
    "start_time": "2021-11-18T12:54:24.865Z"
   },
   {
    "duration": 14,
    "start_time": "2021-11-18T12:54:24.897Z"
   },
   {
    "duration": 9,
    "start_time": "2021-11-18T12:54:24.913Z"
   },
   {
    "duration": 7,
    "start_time": "2021-11-18T12:54:24.923Z"
   },
   {
    "duration": 23,
    "start_time": "2021-11-18T12:54:24.931Z"
   },
   {
    "duration": 34,
    "start_time": "2021-11-18T12:54:24.955Z"
   },
   {
    "duration": 5,
    "start_time": "2021-11-18T12:54:24.991Z"
   },
   {
    "duration": 8,
    "start_time": "2021-11-18T12:54:24.997Z"
   },
   {
    "duration": 19,
    "start_time": "2021-11-18T12:54:25.007Z"
   },
   {
    "duration": 9,
    "start_time": "2021-11-18T12:54:25.027Z"
   },
   {
    "duration": 7,
    "start_time": "2021-11-18T12:54:25.038Z"
   },
   {
    "duration": 11,
    "start_time": "2021-11-18T12:54:25.047Z"
   },
   {
    "duration": 37,
    "start_time": "2021-11-18T12:54:25.060Z"
   },
   {
    "duration": 3,
    "start_time": "2021-11-18T12:54:25.098Z"
   },
   {
    "duration": 370,
    "start_time": "2021-11-18T12:54:25.102Z"
   },
   {
    "duration": 3,
    "start_time": "2021-11-18T12:54:25.474Z"
   },
   {
    "duration": 21268,
    "start_time": "2021-11-18T12:54:25.487Z"
   },
   {
    "duration": 1117,
    "start_time": "2021-11-18T12:54:45.641Z"
   },
   {
    "duration": 1115,
    "start_time": "2021-11-18T12:54:45.644Z"
   },
   {
    "duration": 1113,
    "start_time": "2021-11-18T12:54:45.647Z"
   },
   {
    "duration": 1110,
    "start_time": "2021-11-18T12:54:45.650Z"
   },
   {
    "duration": 1108,
    "start_time": "2021-11-18T12:54:45.653Z"
   },
   {
    "duration": 1106,
    "start_time": "2021-11-18T12:54:45.656Z"
   },
   {
    "duration": 1104,
    "start_time": "2021-11-18T12:54:45.658Z"
   },
   {
    "duration": 1102,
    "start_time": "2021-11-18T12:54:45.661Z"
   },
   {
    "duration": 1101,
    "start_time": "2021-11-18T12:54:45.663Z"
   },
   {
    "duration": 1098,
    "start_time": "2021-11-18T12:54:45.666Z"
   },
   {
    "duration": 1097,
    "start_time": "2021-11-18T12:54:45.668Z"
   },
   {
    "duration": 1095,
    "start_time": "2021-11-18T12:54:45.671Z"
   },
   {
    "duration": 1094,
    "start_time": "2021-11-18T12:54:45.673Z"
   },
   {
    "duration": 1093,
    "start_time": "2021-11-18T12:54:45.675Z"
   },
   {
    "duration": 1090,
    "start_time": "2021-11-18T12:54:45.678Z"
   },
   {
    "duration": 1089,
    "start_time": "2021-11-18T12:54:45.680Z"
   },
   {
    "duration": 1079,
    "start_time": "2021-11-18T12:54:45.691Z"
   },
   {
    "duration": 1078,
    "start_time": "2021-11-18T12:54:45.693Z"
   },
   {
    "duration": 1076,
    "start_time": "2021-11-18T12:54:45.696Z"
   },
   {
    "duration": 1073,
    "start_time": "2021-11-18T12:54:45.699Z"
   },
   {
    "duration": 1072,
    "start_time": "2021-11-18T12:54:45.701Z"
   },
   {
    "duration": 1070,
    "start_time": "2021-11-18T12:54:45.704Z"
   },
   {
    "duration": 3,
    "start_time": "2021-11-18T12:54:52.771Z"
   },
   {
    "duration": 64,
    "start_time": "2021-11-18T12:54:52.776Z"
   },
   {
    "duration": 4,
    "start_time": "2021-11-18T12:54:52.842Z"
   },
   {
    "duration": 10,
    "start_time": "2021-11-18T12:54:52.848Z"
   },
   {
    "duration": 30,
    "start_time": "2021-11-18T12:54:52.860Z"
   },
   {
    "duration": 13,
    "start_time": "2021-11-18T12:54:52.892Z"
   },
   {
    "duration": 5,
    "start_time": "2021-11-18T12:54:52.907Z"
   },
   {
    "duration": 16,
    "start_time": "2021-11-18T12:54:52.914Z"
   },
   {
    "duration": 4,
    "start_time": "2021-11-18T12:54:52.932Z"
   },
   {
    "duration": 182,
    "start_time": "2021-11-18T12:54:52.937Z"
   },
   {
    "duration": 4,
    "start_time": "2021-11-18T12:54:53.120Z"
   },
   {
    "duration": 6,
    "start_time": "2021-11-18T12:54:53.126Z"
   },
   {
    "duration": 13,
    "start_time": "2021-11-18T12:54:53.133Z"
   },
   {
    "duration": 5,
    "start_time": "2021-11-18T12:54:53.147Z"
   },
   {
    "duration": 8,
    "start_time": "2021-11-18T12:54:53.153Z"
   },
   {
    "duration": 4,
    "start_time": "2021-11-18T12:54:53.163Z"
   },
   {
    "duration": 5,
    "start_time": "2021-11-18T12:54:53.188Z"
   },
   {
    "duration": 12,
    "start_time": "2021-11-18T12:54:53.195Z"
   },
   {
    "duration": 6,
    "start_time": "2021-11-18T12:54:53.211Z"
   },
   {
    "duration": 7,
    "start_time": "2021-11-18T12:54:53.219Z"
   },
   {
    "duration": 10,
    "start_time": "2021-11-18T12:54:53.228Z"
   },
   {
    "duration": 10,
    "start_time": "2021-11-18T12:54:53.239Z"
   },
   {
    "duration": 12,
    "start_time": "2021-11-18T12:54:53.251Z"
   },
   {
    "duration": 15497,
    "start_time": "2021-11-18T12:54:53.264Z"
   },
   {
    "duration": 2,
    "start_time": "2021-11-18T12:55:08.763Z"
   },
   {
    "duration": 22,
    "start_time": "2021-11-18T12:55:08.767Z"
   },
   {
    "duration": 6,
    "start_time": "2021-11-18T12:55:08.790Z"
   },
   {
    "duration": 12,
    "start_time": "2021-11-18T12:55:08.798Z"
   },
   {
    "duration": 11,
    "start_time": "2021-11-18T12:55:08.812Z"
   },
   {
    "duration": 15,
    "start_time": "2021-11-18T12:55:08.824Z"
   },
   {
    "duration": 14,
    "start_time": "2021-11-18T12:55:08.841Z"
   },
   {
    "duration": 31,
    "start_time": "2021-11-18T12:55:08.857Z"
   },
   {
    "duration": 16,
    "start_time": "2021-11-18T12:55:08.890Z"
   },
   {
    "duration": 10,
    "start_time": "2021-11-18T12:55:08.908Z"
   },
   {
    "duration": 7,
    "start_time": "2021-11-18T12:55:08.920Z"
   },
   {
    "duration": 19,
    "start_time": "2021-11-18T12:55:08.929Z"
   },
   {
    "duration": 41,
    "start_time": "2021-11-18T12:55:08.950Z"
   },
   {
    "duration": 8,
    "start_time": "2021-11-18T12:55:08.993Z"
   },
   {
    "duration": 9,
    "start_time": "2021-11-18T12:55:09.003Z"
   },
   {
    "duration": 24,
    "start_time": "2021-11-18T12:55:09.013Z"
   },
   {
    "duration": 6,
    "start_time": "2021-11-18T12:55:09.039Z"
   },
   {
    "duration": 6,
    "start_time": "2021-11-18T12:55:09.047Z"
   },
   {
    "duration": 6,
    "start_time": "2021-11-18T12:55:09.055Z"
   },
   {
    "duration": 46,
    "start_time": "2021-11-18T12:55:09.062Z"
   },
   {
    "duration": 4,
    "start_time": "2021-11-18T12:55:09.109Z"
   },
   {
    "duration": 357,
    "start_time": "2021-11-18T12:55:09.114Z"
   },
   {
    "duration": 4,
    "start_time": "2021-11-18T12:55:09.472Z"
   },
   {
    "duration": 31154,
    "start_time": "2021-11-18T12:55:09.477Z"
   },
   {
    "duration": 11,
    "start_time": "2021-11-18T12:55:40.633Z"
   },
   {
    "duration": 25,
    "start_time": "2021-11-18T12:55:40.645Z"
   },
   {
    "duration": 16,
    "start_time": "2021-11-18T12:55:40.672Z"
   },
   {
    "duration": 3326,
    "start_time": "2021-11-18T12:55:40.690Z"
   },
   {
    "duration": 12,
    "start_time": "2021-11-18T12:55:44.017Z"
   },
   {
    "duration": 3600,
    "start_time": "2021-11-18T12:55:44.031Z"
   },
   {
    "duration": 16,
    "start_time": "2021-11-18T12:55:47.636Z"
   },
   {
    "duration": 15,
    "start_time": "2021-11-18T12:55:47.654Z"
   },
   {
    "duration": 19,
    "start_time": "2021-11-18T12:55:47.670Z"
   },
   {
    "duration": 24,
    "start_time": "2021-11-18T12:55:47.691Z"
   },
   {
    "duration": 17,
    "start_time": "2021-11-18T12:55:47.716Z"
   },
   {
    "duration": 44,
    "start_time": "2021-11-18T12:55:47.734Z"
   },
   {
    "duration": 15,
    "start_time": "2021-11-18T12:55:47.780Z"
   },
   {
    "duration": 15,
    "start_time": "2021-11-18T12:55:47.797Z"
   },
   {
    "duration": 23,
    "start_time": "2021-11-18T12:55:47.814Z"
   },
   {
    "duration": 15,
    "start_time": "2021-11-18T12:55:47.838Z"
   },
   {
    "duration": 33,
    "start_time": "2021-11-18T12:55:47.855Z"
   },
   {
    "duration": 20,
    "start_time": "2021-11-18T12:55:47.890Z"
   },
   {
    "duration": 21,
    "start_time": "2021-11-18T12:55:47.911Z"
   },
   {
    "duration": 22,
    "start_time": "2021-11-18T12:55:47.933Z"
   },
   {
    "duration": 46,
    "start_time": "2021-11-18T12:55:47.956Z"
   },
   {
    "duration": 24,
    "start_time": "2021-11-18T12:55:48.003Z"
   },
   {
    "duration": 3,
    "start_time": "2021-11-18T13:09:29.344Z"
   },
   {
    "duration": 1177,
    "start_time": "2021-11-18T13:09:29.800Z"
   },
   {
    "duration": 1121,
    "start_time": "2021-11-18T13:09:29.858Z"
   },
   {
    "duration": 3,
    "start_time": "2021-11-18T13:09:43.622Z"
   },
   {
    "duration": 61,
    "start_time": "2021-11-18T13:09:43.627Z"
   },
   {
    "duration": 3,
    "start_time": "2021-11-18T13:09:43.690Z"
   },
   {
    "duration": 12,
    "start_time": "2021-11-18T13:09:43.694Z"
   },
   {
    "duration": 13,
    "start_time": "2021-11-18T13:09:43.708Z"
   },
   {
    "duration": 14,
    "start_time": "2021-11-18T13:09:43.722Z"
   },
   {
    "duration": 5,
    "start_time": "2021-11-18T13:09:43.737Z"
   },
   {
    "duration": 49,
    "start_time": "2021-11-18T13:09:43.744Z"
   },
   {
    "duration": 3,
    "start_time": "2021-11-18T13:09:43.795Z"
   },
   {
    "duration": 1137,
    "start_time": "2021-11-18T13:09:43.800Z"
   },
   {
    "duration": 1122,
    "start_time": "2021-11-18T13:09:43.818Z"
   },
   {
    "duration": 1119,
    "start_time": "2021-11-18T13:09:43.822Z"
   },
   {
    "duration": 1117,
    "start_time": "2021-11-18T13:09:43.825Z"
   },
   {
    "duration": 1116,
    "start_time": "2021-11-18T13:09:43.827Z"
   },
   {
    "duration": 1114,
    "start_time": "2021-11-18T13:09:43.830Z"
   },
   {
    "duration": 1112,
    "start_time": "2021-11-18T13:09:43.833Z"
   },
   {
    "duration": 1109,
    "start_time": "2021-11-18T13:09:43.836Z"
   },
   {
    "duration": 1107,
    "start_time": "2021-11-18T13:09:43.839Z"
   },
   {
    "duration": 1105,
    "start_time": "2021-11-18T13:09:43.842Z"
   },
   {
    "duration": 1104,
    "start_time": "2021-11-18T13:09:43.844Z"
   },
   {
    "duration": 1102,
    "start_time": "2021-11-18T13:09:43.847Z"
   },
   {
    "duration": 1100,
    "start_time": "2021-11-18T13:09:43.850Z"
   },
   {
    "duration": 1098,
    "start_time": "2021-11-18T13:09:43.853Z"
   },
   {
    "duration": 1096,
    "start_time": "2021-11-18T13:09:43.856Z"
   },
   {
    "duration": 1096,
    "start_time": "2021-11-18T13:09:43.858Z"
   },
   {
    "duration": 1094,
    "start_time": "2021-11-18T13:09:43.861Z"
   },
   {
    "duration": 1092,
    "start_time": "2021-11-18T13:09:43.864Z"
   },
   {
    "duration": 1083,
    "start_time": "2021-11-18T13:09:43.874Z"
   },
   {
    "duration": 1081,
    "start_time": "2021-11-18T13:09:43.877Z"
   },
   {
    "duration": 1079,
    "start_time": "2021-11-18T13:09:43.880Z"
   },
   {
    "duration": 1077,
    "start_time": "2021-11-18T13:09:43.883Z"
   },
   {
    "duration": 1075,
    "start_time": "2021-11-18T13:09:43.886Z"
   },
   {
    "duration": 1073,
    "start_time": "2021-11-18T13:09:43.889Z"
   },
   {
    "duration": 1071,
    "start_time": "2021-11-18T13:09:43.892Z"
   },
   {
    "duration": 1069,
    "start_time": "2021-11-18T13:09:43.894Z"
   },
   {
    "duration": 1067,
    "start_time": "2021-11-18T13:09:43.897Z"
   },
   {
    "duration": 1066,
    "start_time": "2021-11-18T13:09:43.899Z"
   },
   {
    "duration": 1064,
    "start_time": "2021-11-18T13:09:43.902Z"
   },
   {
    "duration": 1062,
    "start_time": "2021-11-18T13:09:43.905Z"
   },
   {
    "duration": 1060,
    "start_time": "2021-11-18T13:09:43.908Z"
   },
   {
    "duration": 1059,
    "start_time": "2021-11-18T13:09:43.910Z"
   },
   {
    "duration": 1057,
    "start_time": "2021-11-18T13:09:43.913Z"
   },
   {
    "duration": 1054,
    "start_time": "2021-11-18T13:09:43.916Z"
   },
   {
    "duration": 1052,
    "start_time": "2021-11-18T13:09:43.919Z"
   },
   {
    "duration": 1050,
    "start_time": "2021-11-18T13:09:43.922Z"
   },
   {
    "duration": 1049,
    "start_time": "2021-11-18T13:09:43.924Z"
   },
   {
    "duration": 1047,
    "start_time": "2021-11-18T13:09:43.927Z"
   },
   {
    "duration": 1045,
    "start_time": "2021-11-18T13:09:43.930Z"
   },
   {
    "duration": 1044,
    "start_time": "2021-11-18T13:09:43.932Z"
   },
   {
    "duration": 1052,
    "start_time": "2021-11-18T13:09:43.935Z"
   },
   {
    "duration": 1050,
    "start_time": "2021-11-18T13:09:43.938Z"
   },
   {
    "duration": 1047,
    "start_time": "2021-11-18T13:09:43.941Z"
   },
   {
    "duration": 1046,
    "start_time": "2021-11-18T13:09:43.943Z"
   },
   {
    "duration": 1044,
    "start_time": "2021-11-18T13:09:43.946Z"
   },
   {
    "duration": 1042,
    "start_time": "2021-11-18T13:09:43.949Z"
   },
   {
    "duration": 1040,
    "start_time": "2021-11-18T13:09:43.952Z"
   },
   {
    "duration": 1038,
    "start_time": "2021-11-18T13:09:43.955Z"
   },
   {
    "duration": 1036,
    "start_time": "2021-11-18T13:09:43.958Z"
   },
   {
    "duration": 1034,
    "start_time": "2021-11-18T13:09:43.961Z"
   },
   {
    "duration": 1033,
    "start_time": "2021-11-18T13:09:43.963Z"
   },
   {
    "duration": 1031,
    "start_time": "2021-11-18T13:09:43.966Z"
   },
   {
    "duration": 1029,
    "start_time": "2021-11-18T13:09:43.969Z"
   },
   {
    "duration": 1026,
    "start_time": "2021-11-18T13:09:43.972Z"
   },
   {
    "duration": 1013,
    "start_time": "2021-11-18T13:09:43.986Z"
   },
   {
    "duration": 1010,
    "start_time": "2021-11-18T13:09:43.990Z"
   },
   {
    "duration": 1008,
    "start_time": "2021-11-18T13:09:43.993Z"
   },
   {
    "duration": 1007,
    "start_time": "2021-11-18T13:09:43.995Z"
   },
   {
    "duration": 1005,
    "start_time": "2021-11-18T13:09:43.998Z"
   },
   {
    "duration": 1003,
    "start_time": "2021-11-18T13:09:44.001Z"
   },
   {
    "duration": 1001,
    "start_time": "2021-11-18T13:09:44.004Z"
   },
   {
    "duration": 998,
    "start_time": "2021-11-18T13:09:44.007Z"
   },
   {
    "duration": 996,
    "start_time": "2021-11-18T13:09:44.010Z"
   },
   {
    "duration": 3,
    "start_time": "2021-11-18T13:10:48.120Z"
   },
   {
    "duration": 7,
    "start_time": "2021-11-18T13:10:48.659Z"
   },
   {
    "duration": 20,
    "start_time": "2021-11-18T13:10:50.316Z"
   },
   {
    "duration": 465,
    "start_time": "2021-11-18T13:10:54.804Z"
   },
   {
    "duration": 26,
    "start_time": "2021-11-18T13:10:55.444Z"
   },
   {
    "duration": 3,
    "start_time": "2021-11-18T13:11:02.540Z"
   },
   {
    "duration": 249,
    "start_time": "2021-11-18T13:11:02.943Z"
   },
   {
    "duration": 3,
    "start_time": "2021-11-18T13:11:05.191Z"
   },
   {
    "duration": 68,
    "start_time": "2021-11-18T13:11:05.196Z"
   },
   {
    "duration": 4,
    "start_time": "2021-11-18T13:11:05.266Z"
   },
   {
    "duration": 19,
    "start_time": "2021-11-18T13:11:05.271Z"
   },
   {
    "duration": 19,
    "start_time": "2021-11-18T13:11:05.292Z"
   },
   {
    "duration": 13,
    "start_time": "2021-11-18T13:11:05.313Z"
   },
   {
    "duration": 9,
    "start_time": "2021-11-18T13:11:05.328Z"
   },
   {
    "duration": 21,
    "start_time": "2021-11-18T13:11:05.339Z"
   },
   {
    "duration": 3,
    "start_time": "2021-11-18T13:11:05.361Z"
   },
   {
    "duration": 26,
    "start_time": "2021-11-18T13:11:05.366Z"
   },
   {
    "duration": 20,
    "start_time": "2021-11-18T13:11:05.393Z"
   },
   {
    "duration": 127,
    "start_time": "2021-11-18T13:11:05.415Z"
   },
   {
    "duration": 3,
    "start_time": "2021-11-18T13:11:05.544Z"
   },
   {
    "duration": 11,
    "start_time": "2021-11-18T13:11:05.549Z"
   },
   {
    "duration": 17,
    "start_time": "2021-11-18T13:11:05.562Z"
   },
   {
    "duration": 18,
    "start_time": "2021-11-18T13:11:05.580Z"
   },
   {
    "duration": 22,
    "start_time": "2021-11-18T13:11:05.600Z"
   },
   {
    "duration": 18,
    "start_time": "2021-11-18T13:11:05.623Z"
   },
   {
    "duration": 10,
    "start_time": "2021-11-18T13:11:05.645Z"
   },
   {
    "duration": 24,
    "start_time": "2021-11-18T13:11:05.657Z"
   },
   {
    "duration": 20,
    "start_time": "2021-11-18T13:11:05.682Z"
   },
   {
    "duration": 19,
    "start_time": "2021-11-18T13:11:05.703Z"
   },
   {
    "duration": 12,
    "start_time": "2021-11-18T13:11:05.723Z"
   },
   {
    "duration": 29,
    "start_time": "2021-11-18T13:11:05.737Z"
   },
   {
    "duration": 18,
    "start_time": "2021-11-18T13:11:05.767Z"
   },
   {
    "duration": 14578,
    "start_time": "2021-11-18T13:11:05.786Z"
   },
   {
    "duration": 2,
    "start_time": "2021-11-18T13:11:20.366Z"
   },
   {
    "duration": 19,
    "start_time": "2021-11-18T13:11:20.370Z"
   },
   {
    "duration": 7,
    "start_time": "2021-11-18T13:11:20.390Z"
   },
   {
    "duration": 6,
    "start_time": "2021-11-18T13:11:20.398Z"
   },
   {
    "duration": 9,
    "start_time": "2021-11-18T13:11:20.406Z"
   },
   {
    "duration": 13,
    "start_time": "2021-11-18T13:11:20.416Z"
   },
   {
    "duration": 14,
    "start_time": "2021-11-18T13:11:20.430Z"
   },
   {
    "duration": 15,
    "start_time": "2021-11-18T13:11:20.446Z"
   },
   {
    "duration": 36,
    "start_time": "2021-11-18T13:11:20.463Z"
   },
   {
    "duration": 9,
    "start_time": "2021-11-18T13:11:20.500Z"
   },
   {
    "duration": 8,
    "start_time": "2021-11-18T13:11:20.510Z"
   },
   {
    "duration": 22,
    "start_time": "2021-11-18T13:11:20.520Z"
   },
   {
    "duration": 6,
    "start_time": "2021-11-18T13:11:20.543Z"
   },
   {
    "duration": 5,
    "start_time": "2021-11-18T13:11:20.550Z"
   },
   {
    "duration": 9,
    "start_time": "2021-11-18T13:11:20.556Z"
   },
   {
    "duration": 37,
    "start_time": "2021-11-18T13:11:20.566Z"
   },
   {
    "duration": 4,
    "start_time": "2021-11-18T13:11:20.605Z"
   },
   {
    "duration": 3,
    "start_time": "2021-11-18T13:11:20.611Z"
   },
   {
    "duration": 7,
    "start_time": "2021-11-18T13:11:20.616Z"
   },
   {
    "duration": 25,
    "start_time": "2021-11-18T13:11:20.625Z"
   },
   {
    "duration": 3,
    "start_time": "2021-11-18T13:11:20.652Z"
   },
   {
    "duration": 370,
    "start_time": "2021-11-18T13:11:20.656Z"
   },
   {
    "duration": 3,
    "start_time": "2021-11-18T13:11:21.028Z"
   },
   {
    "duration": 31705,
    "start_time": "2021-11-18T13:11:21.032Z"
   },
   {
    "duration": 10,
    "start_time": "2021-11-18T13:11:52.738Z"
   },
   {
    "duration": 101,
    "start_time": "2021-11-18T13:11:52.750Z"
   },
   {
    "duration": 24,
    "start_time": "2021-11-18T13:11:52.853Z"
   },
   {
    "duration": 3695,
    "start_time": "2021-11-18T13:11:52.879Z"
   },
   {
    "duration": 14,
    "start_time": "2021-11-18T13:11:56.587Z"
   },
   {
    "duration": 3618,
    "start_time": "2021-11-18T13:11:56.604Z"
   },
   {
    "duration": 6,
    "start_time": "2021-11-18T13:12:00.224Z"
   },
   {
    "duration": 13,
    "start_time": "2021-11-18T13:12:00.232Z"
   },
   {
    "duration": 8,
    "start_time": "2021-11-18T13:12:00.247Z"
   },
   {
    "duration": 17,
    "start_time": "2021-11-18T13:12:00.256Z"
   },
   {
    "duration": 27,
    "start_time": "2021-11-18T13:12:00.274Z"
   },
   {
    "duration": 51,
    "start_time": "2021-11-18T13:12:00.303Z"
   },
   {
    "duration": 35,
    "start_time": "2021-11-18T13:12:00.356Z"
   },
   {
    "duration": 17,
    "start_time": "2021-11-18T13:12:00.393Z"
   },
   {
    "duration": 17,
    "start_time": "2021-11-18T13:12:00.411Z"
   },
   {
    "duration": 16,
    "start_time": "2021-11-18T13:12:00.430Z"
   },
   {
    "duration": 48,
    "start_time": "2021-11-18T13:12:00.447Z"
   },
   {
    "duration": 21,
    "start_time": "2021-11-18T13:12:00.496Z"
   },
   {
    "duration": 22,
    "start_time": "2021-11-18T13:12:00.518Z"
   },
   {
    "duration": 48,
    "start_time": "2021-11-18T13:12:00.541Z"
   },
   {
    "duration": 22,
    "start_time": "2021-11-18T13:12:00.590Z"
   },
   {
    "duration": 21,
    "start_time": "2021-11-18T13:12:00.614Z"
   },
   {
    "duration": 17,
    "start_time": "2021-11-18T13:13:59.782Z"
   },
   {
    "duration": 17,
    "start_time": "2021-11-18T13:14:51.700Z"
   },
   {
    "duration": 17,
    "start_time": "2021-11-18T13:14:53.752Z"
   },
   {
    "duration": 16,
    "start_time": "2021-11-18T13:14:56.057Z"
   },
   {
    "duration": 25,
    "start_time": "2021-11-18T13:17:48.891Z"
   },
   {
    "duration": 22,
    "start_time": "2021-11-18T13:18:16.344Z"
   },
   {
    "duration": 23,
    "start_time": "2021-11-18T13:18:28.563Z"
   },
   {
    "duration": 23,
    "start_time": "2021-11-18T13:18:32.752Z"
   },
   {
    "duration": 24,
    "start_time": "2021-11-18T13:18:51.217Z"
   },
   {
    "duration": 24,
    "start_time": "2021-11-18T13:18:59.428Z"
   },
   {
    "duration": 23,
    "start_time": "2021-11-18T13:19:26.796Z"
   },
   {
    "duration": 260,
    "start_time": "2021-11-18T13:30:55.068Z"
   },
   {
    "duration": 16,
    "start_time": "2021-11-18T13:30:58.565Z"
   },
   {
    "duration": 21,
    "start_time": "2021-11-18T13:31:03.018Z"
   },
   {
    "duration": 16,
    "start_time": "2021-11-18T13:31:06.968Z"
   },
   {
    "duration": 17,
    "start_time": "2021-11-18T13:31:11.839Z"
   },
   {
    "duration": 102,
    "start_time": "2021-11-18T14:51:00.092Z"
   },
   {
    "duration": 7,
    "start_time": "2021-11-18T14:51:04.267Z"
   },
   {
    "duration": 9,
    "start_time": "2021-11-18T14:51:12.155Z"
   },
   {
    "duration": 6,
    "start_time": "2021-11-18T14:51:45.630Z"
   },
   {
    "duration": 5,
    "start_time": "2021-11-18T14:53:04.330Z"
   },
   {
    "duration": 8,
    "start_time": "2021-11-18T14:53:05.209Z"
   },
   {
    "duration": 5,
    "start_time": "2021-11-18T14:53:07.822Z"
   },
   {
    "duration": 4,
    "start_time": "2021-11-18T14:53:55.451Z"
   },
   {
    "duration": 69,
    "start_time": "2021-11-18T14:53:55.457Z"
   },
   {
    "duration": 3,
    "start_time": "2021-11-18T14:53:55.528Z"
   },
   {
    "duration": 6,
    "start_time": "2021-11-18T14:53:55.533Z"
   },
   {
    "duration": 47,
    "start_time": "2021-11-18T14:53:55.541Z"
   },
   {
    "duration": 17,
    "start_time": "2021-11-18T14:53:55.589Z"
   },
   {
    "duration": 5,
    "start_time": "2021-11-18T14:53:55.608Z"
   },
   {
    "duration": 15,
    "start_time": "2021-11-18T14:53:55.615Z"
   },
   {
    "duration": 3,
    "start_time": "2021-11-18T14:53:55.631Z"
   },
   {
    "duration": 13,
    "start_time": "2021-11-18T14:53:55.636Z"
   },
   {
    "duration": 172,
    "start_time": "2021-11-18T14:53:55.651Z"
   },
   {
    "duration": 4,
    "start_time": "2021-11-18T14:53:55.825Z"
   },
   {
    "duration": 5,
    "start_time": "2021-11-18T14:53:55.830Z"
   },
   {
    "duration": 9,
    "start_time": "2021-11-18T14:53:55.836Z"
   },
   {
    "duration": 6,
    "start_time": "2021-11-18T14:53:55.846Z"
   },
   {
    "duration": 6,
    "start_time": "2021-11-18T14:53:55.854Z"
   },
   {
    "duration": 31,
    "start_time": "2021-11-18T14:53:55.861Z"
   },
   {
    "duration": 8,
    "start_time": "2021-11-18T14:53:55.894Z"
   },
   {
    "duration": 4,
    "start_time": "2021-11-18T14:53:55.905Z"
   },
   {
    "duration": 4,
    "start_time": "2021-11-18T14:53:55.911Z"
   },
   {
    "duration": 11,
    "start_time": "2021-11-18T14:53:55.916Z"
   },
   {
    "duration": 10,
    "start_time": "2021-11-18T14:53:55.929Z"
   },
   {
    "duration": 45,
    "start_time": "2021-11-18T14:53:55.943Z"
   },
   {
    "duration": 16,
    "start_time": "2021-11-18T14:53:55.990Z"
   },
   {
    "duration": 17,
    "start_time": "2021-11-18T14:53:56.007Z"
   },
   {
    "duration": 9,
    "start_time": "2021-11-18T14:53:56.026Z"
   },
   {
    "duration": 8,
    "start_time": "2021-11-18T14:53:56.037Z"
   },
   {
    "duration": 41,
    "start_time": "2021-11-18T14:53:56.047Z"
   },
   {
    "duration": 7,
    "start_time": "2021-11-18T14:53:56.090Z"
   },
   {
    "duration": 6,
    "start_time": "2021-11-18T14:53:56.099Z"
   },
   {
    "duration": 9,
    "start_time": "2021-11-18T14:53:56.106Z"
   },
   {
    "duration": 21,
    "start_time": "2021-11-18T14:53:56.116Z"
   },
   {
    "duration": 5,
    "start_time": "2021-11-18T14:53:56.138Z"
   },
   {
    "duration": 4,
    "start_time": "2021-11-18T14:53:56.145Z"
   },
   {
    "duration": 5,
    "start_time": "2021-11-18T14:53:56.150Z"
   },
   {
    "duration": 56,
    "start_time": "2021-11-18T14:53:56.156Z"
   },
   {
    "duration": 3,
    "start_time": "2021-11-18T14:53:56.214Z"
   },
   {
    "duration": 371,
    "start_time": "2021-11-18T14:53:56.218Z"
   },
   {
    "duration": 3,
    "start_time": "2021-11-18T14:53:56.590Z"
   },
   {
    "duration": 32393,
    "start_time": "2021-11-18T14:53:56.594Z"
   },
   {
    "duration": 11,
    "start_time": "2021-11-18T14:54:28.989Z"
   },
   {
    "duration": 32,
    "start_time": "2021-11-18T14:54:29.001Z"
   },
   {
    "duration": 26,
    "start_time": "2021-11-18T14:54:29.035Z"
   },
   {
    "duration": 3625,
    "start_time": "2021-11-18T14:54:29.063Z"
   },
   {
    "duration": 15,
    "start_time": "2021-11-18T14:54:32.690Z"
   },
   {
    "duration": 3810,
    "start_time": "2021-11-18T14:54:32.706Z"
   },
   {
    "duration": 4,
    "start_time": "2021-11-18T14:54:36.518Z"
   },
   {
    "duration": 11,
    "start_time": "2021-11-18T14:54:36.523Z"
   },
   {
    "duration": 7,
    "start_time": "2021-11-18T14:54:36.536Z"
   },
   {
    "duration": 15,
    "start_time": "2021-11-18T14:54:36.544Z"
   },
   {
    "duration": 28,
    "start_time": "2021-11-18T14:54:36.561Z"
   },
   {
    "duration": 35,
    "start_time": "2021-11-18T14:54:36.590Z"
   },
   {
    "duration": 18,
    "start_time": "2021-11-18T14:54:36.627Z"
   },
   {
    "duration": 16,
    "start_time": "2021-11-18T14:54:36.647Z"
   },
   {
    "duration": 17,
    "start_time": "2021-11-18T14:54:36.692Z"
   },
   {
    "duration": 16,
    "start_time": "2021-11-18T14:54:36.711Z"
   },
   {
    "duration": 24,
    "start_time": "2021-11-18T14:54:36.728Z"
   },
   {
    "duration": 46,
    "start_time": "2021-11-18T14:54:36.753Z"
   },
   {
    "duration": 21,
    "start_time": "2021-11-18T14:54:36.800Z"
   },
   {
    "duration": 22,
    "start_time": "2021-11-18T14:54:36.822Z"
   },
   {
    "duration": 43,
    "start_time": "2021-11-18T14:54:36.845Z"
   },
   {
    "duration": 22,
    "start_time": "2021-11-18T14:54:36.890Z"
   },
   {
    "duration": 3,
    "start_time": "2021-11-18T15:08:26.723Z"
   },
   {
    "duration": 63,
    "start_time": "2021-11-18T15:08:26.728Z"
   },
   {
    "duration": 3,
    "start_time": "2021-11-18T15:08:26.793Z"
   },
   {
    "duration": 6,
    "start_time": "2021-11-18T15:08:26.798Z"
   },
   {
    "duration": 14,
    "start_time": "2021-11-18T15:08:26.806Z"
   },
   {
    "duration": 15,
    "start_time": "2021-11-18T15:08:26.821Z"
   },
   {
    "duration": 5,
    "start_time": "2021-11-18T15:08:26.838Z"
   },
   {
    "duration": 53,
    "start_time": "2021-11-18T15:08:26.844Z"
   },
   {
    "duration": 3,
    "start_time": "2021-11-18T15:08:26.899Z"
   },
   {
    "duration": 11,
    "start_time": "2021-11-18T15:08:26.904Z"
   },
   {
    "duration": 145,
    "start_time": "2021-11-18T15:08:26.917Z"
   },
   {
    "duration": 4,
    "start_time": "2021-11-18T15:08:27.063Z"
   },
   {
    "duration": 4,
    "start_time": "2021-11-18T15:08:27.069Z"
   },
   {
    "duration": 17,
    "start_time": "2021-11-18T15:08:27.075Z"
   },
   {
    "duration": 5,
    "start_time": "2021-11-18T15:08:27.094Z"
   },
   {
    "duration": 8,
    "start_time": "2021-11-18T15:08:27.100Z"
   },
   {
    "duration": 5,
    "start_time": "2021-11-18T15:08:27.109Z"
   },
   {
    "duration": 9,
    "start_time": "2021-11-18T15:08:27.116Z"
   },
   {
    "duration": 5,
    "start_time": "2021-11-18T15:08:27.128Z"
   },
   {
    "duration": 5,
    "start_time": "2021-11-18T15:08:27.135Z"
   },
   {
    "duration": 10,
    "start_time": "2021-11-18T15:08:27.141Z"
   },
   {
    "duration": 42,
    "start_time": "2021-11-18T15:08:27.152Z"
   },
   {
    "duration": 18,
    "start_time": "2021-11-18T15:08:27.195Z"
   },
   {
    "duration": 28,
    "start_time": "2021-11-18T15:08:27.215Z"
   },
   {
    "duration": 18,
    "start_time": "2021-11-18T15:08:27.245Z"
   },
   {
    "duration": 9,
    "start_time": "2021-11-18T15:08:27.265Z"
   },
   {
    "duration": 22,
    "start_time": "2021-11-18T15:08:27.275Z"
   },
   {
    "duration": 28,
    "start_time": "2021-11-18T15:08:27.299Z"
   },
   {
    "duration": 16,
    "start_time": "2021-11-18T15:08:27.329Z"
   },
   {
    "duration": 4,
    "start_time": "2021-11-18T15:08:27.347Z"
   },
   {
    "duration": 21,
    "start_time": "2021-11-18T15:08:27.353Z"
   },
   {
    "duration": 33,
    "start_time": "2021-11-18T15:08:27.376Z"
   },
   {
    "duration": 11,
    "start_time": "2021-11-18T15:08:27.411Z"
   },
   {
    "duration": 23,
    "start_time": "2021-11-18T15:08:27.424Z"
   },
   {
    "duration": 12,
    "start_time": "2021-11-18T15:08:27.449Z"
   },
   {
    "duration": 37,
    "start_time": "2021-11-18T15:08:27.462Z"
   },
   {
    "duration": 3,
    "start_time": "2021-11-18T15:08:27.501Z"
   },
   {
    "duration": 370,
    "start_time": "2021-11-18T15:08:27.506Z"
   },
   {
    "duration": 3,
    "start_time": "2021-11-18T15:08:27.878Z"
   },
   {
    "duration": 32487,
    "start_time": "2021-11-18T15:08:27.882Z"
   },
   {
    "duration": 18,
    "start_time": "2021-11-18T15:09:00.370Z"
   },
   {
    "duration": 29,
    "start_time": "2021-11-18T15:09:00.390Z"
   },
   {
    "duration": 27,
    "start_time": "2021-11-18T15:09:00.420Z"
   },
   {
    "duration": 3316,
    "start_time": "2021-11-18T15:09:00.449Z"
   },
   {
    "duration": 22,
    "start_time": "2021-11-18T15:09:03.767Z"
   },
   {
    "duration": 3660,
    "start_time": "2021-11-18T15:09:03.791Z"
   },
   {
    "duration": 4,
    "start_time": "2021-11-18T15:09:07.453Z"
   },
   {
    "duration": 12,
    "start_time": "2021-11-18T15:09:07.458Z"
   },
   {
    "duration": 18,
    "start_time": "2021-11-18T15:09:07.471Z"
   },
   {
    "duration": 11,
    "start_time": "2021-11-18T15:09:07.491Z"
   },
   {
    "duration": 11,
    "start_time": "2021-11-18T15:09:07.503Z"
   },
   {
    "duration": 33,
    "start_time": "2021-11-18T15:09:07.515Z"
   },
   {
    "duration": 16,
    "start_time": "2021-11-18T15:09:07.549Z"
   },
   {
    "duration": 16,
    "start_time": "2021-11-18T15:09:07.588Z"
   },
   {
    "duration": 15,
    "start_time": "2021-11-18T15:09:07.608Z"
   },
   {
    "duration": 16,
    "start_time": "2021-11-18T15:09:07.624Z"
   },
   {
    "duration": 47,
    "start_time": "2021-11-18T15:09:07.641Z"
   },
   {
    "duration": 22,
    "start_time": "2021-11-18T15:09:07.689Z"
   },
   {
    "duration": 23,
    "start_time": "2021-11-18T15:09:07.712Z"
   },
   {
    "duration": 21,
    "start_time": "2021-11-18T15:09:07.736Z"
   },
   {
    "duration": 42,
    "start_time": "2021-11-18T15:09:07.758Z"
   },
   {
    "duration": 22,
    "start_time": "2021-11-18T15:09:07.802Z"
   },
   {
    "duration": 827,
    "start_time": "2022-08-08T10:45:52.152Z"
   },
   {
    "duration": 347,
    "start_time": "2022-08-08T10:45:52.982Z"
   },
   {
    "duration": 4,
    "start_time": "2022-08-08T10:45:53.330Z"
   },
   {
    "duration": 14,
    "start_time": "2022-08-08T10:45:53.336Z"
   },
   {
    "duration": 35,
    "start_time": "2022-08-08T10:45:53.351Z"
   },
   {
    "duration": 24,
    "start_time": "2022-08-08T10:45:53.388Z"
   },
   {
    "duration": 9,
    "start_time": "2022-08-08T10:45:53.414Z"
   },
   {
    "duration": 26,
    "start_time": "2022-08-08T10:45:53.424Z"
   },
   {
    "duration": 8,
    "start_time": "2022-08-08T10:45:53.451Z"
   },
   {
    "duration": 23,
    "start_time": "2022-08-08T10:45:53.462Z"
   },
   {
    "duration": 128,
    "start_time": "2022-08-08T10:45:53.486Z"
   },
   {
    "duration": 5,
    "start_time": "2022-08-08T10:45:53.615Z"
   },
   {
    "duration": 18,
    "start_time": "2022-08-08T10:45:53.622Z"
   },
   {
    "duration": 10,
    "start_time": "2022-08-08T10:45:53.642Z"
   },
   {
    "duration": 6,
    "start_time": "2022-08-08T10:45:53.653Z"
   },
   {
    "duration": 11,
    "start_time": "2022-08-08T10:45:53.661Z"
   },
   {
    "duration": 11,
    "start_time": "2022-08-08T10:45:53.673Z"
   },
   {
    "duration": 11,
    "start_time": "2022-08-08T10:45:53.686Z"
   },
   {
    "duration": 20,
    "start_time": "2022-08-08T10:45:53.698Z"
   },
   {
    "duration": 6,
    "start_time": "2022-08-08T10:45:53.719Z"
   },
   {
    "duration": 15,
    "start_time": "2022-08-08T10:45:53.727Z"
   },
   {
    "duration": 40,
    "start_time": "2022-08-08T10:45:53.743Z"
   },
   {
    "duration": 39,
    "start_time": "2022-08-08T10:45:53.785Z"
   },
   {
    "duration": 21,
    "start_time": "2022-08-08T10:45:53.826Z"
   },
   {
    "duration": 27,
    "start_time": "2022-08-08T10:45:53.848Z"
   },
   {
    "duration": 24,
    "start_time": "2022-08-08T10:45:53.877Z"
   },
   {
    "duration": 21,
    "start_time": "2022-08-08T10:45:53.903Z"
   },
   {
    "duration": 30,
    "start_time": "2022-08-08T10:45:53.928Z"
   },
   {
    "duration": 27,
    "start_time": "2022-08-08T10:45:53.960Z"
   },
   {
    "duration": 27,
    "start_time": "2022-08-08T10:45:53.988Z"
   },
   {
    "duration": 32,
    "start_time": "2022-08-08T10:45:54.017Z"
   },
   {
    "duration": 44,
    "start_time": "2022-08-08T10:45:54.051Z"
   },
   {
    "duration": 12,
    "start_time": "2022-08-08T10:45:54.097Z"
   },
   {
    "duration": 13,
    "start_time": "2022-08-08T10:45:54.110Z"
   },
   {
    "duration": 14,
    "start_time": "2022-08-08T10:45:54.124Z"
   },
   {
    "duration": 42,
    "start_time": "2022-08-08T10:45:54.139Z"
   },
   {
    "duration": 3,
    "start_time": "2022-08-08T10:45:54.183Z"
   },
   {
    "duration": 244,
    "start_time": "2022-08-08T10:45:54.187Z"
   },
   {
    "duration": 4,
    "start_time": "2022-08-08T10:45:54.433Z"
   },
   {
    "duration": 28243,
    "start_time": "2022-08-08T10:45:54.438Z"
   },
   {
    "duration": 15,
    "start_time": "2022-08-08T10:46:22.684Z"
   },
   {
    "duration": 39,
    "start_time": "2022-08-08T10:46:22.701Z"
   },
   {
    "duration": 5,
    "start_time": "2022-08-08T10:46:22.741Z"
   },
   {
    "duration": 3169,
    "start_time": "2022-08-08T10:46:22.748Z"
   },
   {
    "duration": 14,
    "start_time": "2022-08-08T10:46:25.919Z"
   },
   {
    "duration": 3093,
    "start_time": "2022-08-08T10:46:25.934Z"
   },
   {
    "duration": 13,
    "start_time": "2022-08-08T10:46:29.028Z"
   },
   {
    "duration": 26,
    "start_time": "2022-08-08T10:46:29.042Z"
   },
   {
    "duration": 10,
    "start_time": "2022-08-08T10:46:29.069Z"
   },
   {
    "duration": 23,
    "start_time": "2022-08-08T10:46:29.081Z"
   },
   {
    "duration": 11,
    "start_time": "2022-08-08T10:46:29.105Z"
   },
   {
    "duration": 35,
    "start_time": "2022-08-08T10:46:29.118Z"
   },
   {
    "duration": 15,
    "start_time": "2022-08-08T10:46:29.155Z"
   },
   {
    "duration": 15,
    "start_time": "2022-08-08T10:46:29.172Z"
   },
   {
    "duration": 33,
    "start_time": "2022-08-08T10:46:29.188Z"
   },
   {
    "duration": 15,
    "start_time": "2022-08-08T10:46:29.223Z"
   },
   {
    "duration": 23,
    "start_time": "2022-08-08T10:46:29.240Z"
   },
   {
    "duration": 46,
    "start_time": "2022-08-08T10:46:29.266Z"
   },
   {
    "duration": 23,
    "start_time": "2022-08-08T10:46:29.314Z"
   },
   {
    "duration": 22,
    "start_time": "2022-08-08T10:46:29.339Z"
   },
   {
    "duration": 51,
    "start_time": "2022-08-08T10:46:29.363Z"
   },
   {
    "duration": 25,
    "start_time": "2022-08-08T10:46:29.415Z"
   },
   {
    "duration": 3,
    "start_time": "2022-08-08T10:47:09.097Z"
   },
   {
    "duration": 620,
    "start_time": "2022-08-08T10:47:14.138Z"
   },
   {
    "duration": 95,
    "start_time": "2022-08-08T10:47:14.760Z"
   },
   {
    "duration": 3,
    "start_time": "2022-08-08T10:47:14.857Z"
   },
   {
    "duration": 17,
    "start_time": "2022-08-08T10:47:14.862Z"
   },
   {
    "duration": 34,
    "start_time": "2022-08-08T10:47:14.880Z"
   },
   {
    "duration": 18,
    "start_time": "2022-08-08T10:47:14.915Z"
   },
   {
    "duration": 12,
    "start_time": "2022-08-08T10:47:14.935Z"
   },
   {
    "duration": 36,
    "start_time": "2022-08-08T10:47:14.949Z"
   },
   {
    "duration": 20,
    "start_time": "2022-08-08T10:47:14.987Z"
   },
   {
    "duration": 31,
    "start_time": "2022-08-08T10:47:15.009Z"
   },
   {
    "duration": 121,
    "start_time": "2022-08-08T10:47:15.042Z"
   },
   {
    "duration": 4,
    "start_time": "2022-08-08T10:47:15.164Z"
   },
   {
    "duration": 29,
    "start_time": "2022-08-08T10:47:15.169Z"
   },
   {
    "duration": 27,
    "start_time": "2022-08-08T10:47:15.199Z"
   },
   {
    "duration": 24,
    "start_time": "2022-08-08T10:47:15.228Z"
   },
   {
    "duration": 10,
    "start_time": "2022-08-08T10:47:15.253Z"
   },
   {
    "duration": 8,
    "start_time": "2022-08-08T10:47:15.264Z"
   },
   {
    "duration": 6,
    "start_time": "2022-08-08T10:47:15.274Z"
   },
   {
    "duration": 8,
    "start_time": "2022-08-08T10:47:15.282Z"
   },
   {
    "duration": 5,
    "start_time": "2022-08-08T10:47:15.291Z"
   },
   {
    "duration": 12,
    "start_time": "2022-08-08T10:47:15.297Z"
   },
   {
    "duration": 7,
    "start_time": "2022-08-08T10:47:15.311Z"
   },
   {
    "duration": 9,
    "start_time": "2022-08-08T10:47:15.319Z"
   },
   {
    "duration": 17,
    "start_time": "2022-08-08T10:47:15.330Z"
   },
   {
    "duration": 19,
    "start_time": "2022-08-08T10:47:15.349Z"
   },
   {
    "duration": 6,
    "start_time": "2022-08-08T10:47:15.370Z"
   },
   {
    "duration": 34,
    "start_time": "2022-08-08T10:47:15.378Z"
   },
   {
    "duration": 21,
    "start_time": "2022-08-08T10:47:15.415Z"
   },
   {
    "duration": 6,
    "start_time": "2022-08-08T10:47:15.437Z"
   },
   {
    "duration": 10,
    "start_time": "2022-08-08T10:47:15.444Z"
   },
   {
    "duration": 28,
    "start_time": "2022-08-08T10:47:15.455Z"
   },
   {
    "duration": 22,
    "start_time": "2022-08-08T10:47:15.484Z"
   },
   {
    "duration": 5,
    "start_time": "2022-08-08T10:47:15.508Z"
   },
   {
    "duration": 3,
    "start_time": "2022-08-08T10:47:15.514Z"
   },
   {
    "duration": 7,
    "start_time": "2022-08-08T10:47:15.518Z"
   },
   {
    "duration": 25,
    "start_time": "2022-08-08T10:47:15.526Z"
   },
   {
    "duration": 2,
    "start_time": "2022-08-08T10:47:15.553Z"
   },
   {
    "duration": 245,
    "start_time": "2022-08-08T10:47:15.557Z"
   },
   {
    "duration": 3,
    "start_time": "2022-08-08T10:47:15.804Z"
   },
   {
    "duration": 25975,
    "start_time": "2022-08-08T10:47:15.810Z"
   },
   {
    "duration": 11,
    "start_time": "2022-08-08T10:47:41.786Z"
   },
   {
    "duration": 33,
    "start_time": "2022-08-08T10:47:41.799Z"
   },
   {
    "duration": 3,
    "start_time": "2022-08-08T10:47:41.833Z"
   },
   {
    "duration": 3282,
    "start_time": "2022-08-08T10:47:41.837Z"
   },
   {
    "duration": 14,
    "start_time": "2022-08-08T10:47:45.121Z"
   },
   {
    "duration": 3086,
    "start_time": "2022-08-08T10:47:45.136Z"
   },
   {
    "duration": 5,
    "start_time": "2022-08-08T10:47:48.224Z"
   },
   {
    "duration": 16,
    "start_time": "2022-08-08T10:47:48.230Z"
   },
   {
    "duration": 8,
    "start_time": "2022-08-08T10:47:48.247Z"
   },
   {
    "duration": 11,
    "start_time": "2022-08-08T10:47:48.257Z"
   },
   {
    "duration": 11,
    "start_time": "2022-08-08T10:47:48.269Z"
   },
   {
    "duration": 49,
    "start_time": "2022-08-08T10:47:48.281Z"
   },
   {
    "duration": 18,
    "start_time": "2022-08-08T10:47:48.331Z"
   },
   {
    "duration": 18,
    "start_time": "2022-08-08T10:47:48.350Z"
   },
   {
    "duration": 16,
    "start_time": "2022-08-08T10:47:48.369Z"
   },
   {
    "duration": 40,
    "start_time": "2022-08-08T10:47:48.386Z"
   },
   {
    "duration": 23,
    "start_time": "2022-08-08T10:47:48.427Z"
   },
   {
    "duration": 20,
    "start_time": "2022-08-08T10:47:48.452Z"
   },
   {
    "duration": 46,
    "start_time": "2022-08-08T10:47:48.474Z"
   },
   {
    "duration": 20,
    "start_time": "2022-08-08T10:47:48.522Z"
   },
   {
    "duration": 21,
    "start_time": "2022-08-08T10:47:48.544Z"
   },
   {
    "duration": 44,
    "start_time": "2022-08-08T10:47:48.567Z"
   }
  ],
  "kernelspec": {
   "display_name": "Python 3",
   "language": "python",
   "name": "python3"
  },
  "language_info": {
   "codemirror_mode": {
    "name": "ipython",
    "version": 3
   },
   "file_extension": ".py",
   "mimetype": "text/x-python",
   "name": "python",
   "nbconvert_exporter": "python",
   "pygments_lexer": "ipython3",
   "version": "3.8.5"
  },
  "latex_envs": {
   "LaTeX_envs_menu_present": true,
   "autoclose": true,
   "autocomplete": true,
   "bibliofile": "biblio.bib",
   "cite_by": "apalike",
   "current_citInitial": 1,
   "eqLabelWithNumbers": true,
   "eqNumInitial": 1,
   "hotkeys": {
    "equation": "Ctrl-E",
    "itemize": "Ctrl-I"
   },
   "labels_anchors": false,
   "latex_user_defs": false,
   "report_style_numbering": true,
   "user_envs_cfg": false
  },
  "toc": {
   "base_numbering": 1,
   "nav_menu": {},
   "number_sections": true,
   "sideBar": true,
   "skip_h1_title": true,
   "title_cell": "Table of Contents",
   "title_sidebar": "Contents",
   "toc_cell": false,
   "toc_position": {
    "height": "calc(100% - 180px)",
    "left": "10px",
    "top": "150px",
    "width": "353.903px"
   },
   "toc_section_display": true,
   "toc_window_display": true
  }
 },
 "nbformat": 4,
 "nbformat_minor": 2
}
