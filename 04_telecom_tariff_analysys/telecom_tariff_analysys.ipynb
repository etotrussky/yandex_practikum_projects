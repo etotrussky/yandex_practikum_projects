{
 "cells": [
  {
   "cell_type": "markdown",
   "metadata": {
    "toc": true
   },
   "source": [
    "<h1>Table of Contents<span class=\"tocSkip\"></span></h1>\n",
    "<div class=\"toc\"><ul class=\"toc-item\"><li><span><a href=\"#Изучение-и-предобработка-данных\" data-toc-modified-id=\"Изучение-и-предобработка-данных-1\"><span class=\"toc-item-num\">1&nbsp;&nbsp;</span>Изучение и предобработка данных</a></span></li><li><span><a href=\"#Анализ-пользовательской-активности\" data-toc-modified-id=\"Анализ-пользовательской-активности-2\"><span class=\"toc-item-num\">2&nbsp;&nbsp;</span>Анализ пользовательской активности</a></span><ul class=\"toc-item\"><li><span><a href=\"#Расчет-ежемесячного-количества-звонков\" data-toc-modified-id=\"Расчет-ежемесячного-количества-звонков-2.1\"><span class=\"toc-item-num\">2.1&nbsp;&nbsp;</span>Расчет ежемесячного количества звонков</a></span></li><li><span><a href=\"#Расчет-ежемесячных-трат-минут-из-стандартного-пакета\" data-toc-modified-id=\"Расчет-ежемесячных-трат-минут-из-стандартного-пакета-2.2\"><span class=\"toc-item-num\">2.2&nbsp;&nbsp;</span>Расчет ежемесячных трат минут из стандартного пакета</a></span></li><li><span><a href=\"#Расчет-ежемесячного-количества-отправленных-смс-сообщений\" data-toc-modified-id=\"Расчет-ежемесячного-количества-отправленных-смс-сообщений-2.3\"><span class=\"toc-item-num\">2.3&nbsp;&nbsp;</span>Расчет ежемесячного количества отправленных смс-сообщений</a></span></li><li><span><a href=\"#Расчет-ежемесячного-объема-израсходованного-интернет-трафика\" data-toc-modified-id=\"Расчет-ежемесячного-объема-израсходованного-интернет-трафика-2.4\"><span class=\"toc-item-num\">2.4&nbsp;&nbsp;</span>Расчет ежемесячного объема израсходованного интернет-трафика</a></span></li><li><span><a href=\"#Расчет-выручки,-получаемой-от-каждого-пользователя\" data-toc-modified-id=\"Расчет-выручки,-получаемой-от-каждого-пользователя-2.5\"><span class=\"toc-item-num\">2.5&nbsp;&nbsp;</span>Расчет выручки, получаемой от каждого пользователя</a></span></li></ul></li><li><span><a href=\"#Вывод-портрета-пользователя\" data-toc-modified-id=\"Вывод-портрета-пользователя-3\"><span class=\"toc-item-num\">3&nbsp;&nbsp;</span>Вывод портрета пользователя</a></span><ul class=\"toc-item\"><li><span><a href=\"#Минуты-разговора\" data-toc-modified-id=\"Минуты-разговора-3.1\"><span class=\"toc-item-num\">3.1&nbsp;&nbsp;</span>Минуты разговора</a></span></li><li><span><a href=\"#Количество-сообщений\" data-toc-modified-id=\"Количество-сообщений-3.2\"><span class=\"toc-item-num\">3.2&nbsp;&nbsp;</span>Количество сообщений</a></span></li><li><span><a href=\"#Использованный-трафик\" data-toc-modified-id=\"Использованный-трафик-3.3\"><span class=\"toc-item-num\">3.3&nbsp;&nbsp;</span>Использованный трафик</a></span></li><li><span><a href=\"#Выводы\" data-toc-modified-id=\"Выводы-3.4\"><span class=\"toc-item-num\">3.4&nbsp;&nbsp;</span>Выводы</a></span></li></ul></li><li><span><a href=\"#Проверка-гипотез\" data-toc-modified-id=\"Проверка-гипотез-4\"><span class=\"toc-item-num\">4&nbsp;&nbsp;</span>Проверка гипотез</a></span><ul class=\"toc-item\"><li><span><a href=\"#Выводы\" data-toc-modified-id=\"Выводы-4.1\"><span class=\"toc-item-num\">4.1&nbsp;&nbsp;</span>Выводы</a></span></li></ul></li><li><span><a href=\"#Общие-выводы\" data-toc-modified-id=\"Общие-выводы-5\"><span class=\"toc-item-num\">5&nbsp;&nbsp;</span>Общие выводы</a></span></li></ul></div>"
   ]
  },
  {
   "cell_type": "markdown",
   "metadata": {},
   "source": [
    "# Определение перспективного тарифа для телеком-компании\n",
    "\n",
    "Вы аналитик компании «Мегалайн» — федерального оператора сотовой связи. Клиентам предлагают два тарифных плана: «Смарт» и «Ультра». Чтобы скорректировать рекламный бюджет, коммерческий департамент хочет понять, какой тариф приносит больше денег.\n",
    "Вам предстоит сделать предварительный анализ тарифов на небольшой выборке клиентов. В вашем распоряжении данные 500 пользователей «Мегалайна»: кто они, откуда, каким тарифом пользуются, сколько звонков и сообщений каждый отправил за 2018 год. Нужно проанализировать поведение клиентов и сделать вывод — какой тариф лучше.\n",
    "\n",
    "Описание тарифов\n",
    "\n",
    "Тариф «Смарт»\n",
    "\n",
    "Ежемесячная плата: 550 рублей\n",
    "\n",
    "Включено 500 минут разговора, 50 сообщений и 15 Гб интернет-трафика\n",
    "\n",
    "Стоимость услуг сверх тарифного пакета: \n",
    "1. минута разговора: 3 рубля («Мегалайн» всегда округляет вверх значения минут и мегабайтов. Если пользователь проговорил всего 1 секунду, в тарифе засчитывается целая минута); \n",
    "2. сообщение: 3 рубля; \n",
    "3. 1 Гб интернет-трафика: 200 рублей.\n",
    "\n",
    "Тариф «Ультра»\n",
    "\n",
    "Ежемесячная плата: 1950 рублей\n",
    "\n",
    "Включено 3000 минут разговора, 1000 сообщений и 30 Гб интернет-трафика\n",
    "\n",
    "Стоимость услуг сверх тарифного пакета: \n",
    "1. минута разговора: 1 рубль; \n",
    "2. сообщение: 1 рубль; \n",
    "3. 1 Гб интернет-трафика: 150 рублей.\n",
    "\n",
    "Примечание:\n",
    "«Мегалайн» всегда округляет секунды до минут, а мегабайты — до гигабайт. Каждый звонок округляется отдельно: даже если он длился всего 1 секунду, будет засчитан как 1 минута.\n",
    "Для веб-трафика отдельные сессии не считаются. Вместо этого общая сумма за месяц округляется в бо́льшую сторону. Если абонент использует 1025 мегабайт в этом месяце, с него возьмут плату за 2 гигабайта."
   ]
  },
  {
   "cell_type": "markdown",
   "metadata": {},
   "source": [
    "Данные для исследования содержатся в пяти датасетах. Далее следует описание имеющихся данных\n",
    "\n",
    "Датасет calls:\n",
    "* id — уникальный номер звонка\n",
    "* call_date — дата звонка\n",
    "* duration — длительность звонка в минутах\n",
    "* user_id — идентификатор пользователя, сделавшего звонок\n",
    "\n",
    "Датасет internet:\n",
    "* id — уникальный номер сессии\n",
    "* mb_used — объём потраченного за сессию интернет-трафика (в мегабайтах)\n",
    "* session_date — дата интернет-сессии\n",
    "* user_id — идентификатор пользователя\n",
    "\n",
    "Датасет messages:\n",
    "* id — уникальный номер сообщения\n",
    "* message_date — дата сообщения\n",
    "* user_id — идентификатор пользователя, отправившего сообщение\n",
    "\n",
    "Датасет tariffs:\n",
    "* tariff_name — название тарифа\n",
    "* rub_monthly_fee — ежемесячная абонентская плата в рублях\n",
    "* minutes_included — количество минут разговора в месяц, включённых в абонентскую плату\n",
    "* messages_included — количество сообщений в месяц, включённых в абонентскую плату\n",
    "* mb_per_month_included — объём интернет-трафика, включённого в абонентскую плату (в мегабайтах)\n",
    "* rub_per_minute — стоимость минуты разговора сверх тарифного пакета (например, если в тарифе 100 минут разговора в месяц, то со 101 минуты будет взиматься плата)\n",
    "* rub_per_message — стоимость отправки сообщения сверх тарифного пакета\n",
    "* rub_per_gb — стоимость дополнительного гигабайта интернет-трафика сверх тарифного пакета (1 гигабайт = 1024 мегабайта)\n",
    "\n",
    "Датасет users:\n",
    "* user_id — уникальный идентификатор пользователя\n",
    "* first_name — имя пользователя\n",
    "* last_name — фамилия пользователя\n",
    "* age — возраст пользователя (годы)\n",
    "* reg_date — дата подключения тарифа (день, месяц, год)\n",
    "* churn_date — дата прекращения пользования тарифом (если значение пропущено, то тариф ещё действовал на момент выгрузки данных)\n",
    "* city — город проживания пользователя\n",
    "* tarif — название тарифного плана"
   ]
  },
  {
   "cell_type": "markdown",
   "metadata": {},
   "source": [
    "##  Изучение и предобработка данных "
   ]
  },
  {
   "cell_type": "code",
   "execution_count": 1,
   "metadata": {
    "scrolled": false
   },
   "outputs": [],
   "source": [
    "# импорт необходимых для работы библиотек\n",
    "\n",
    "import pandas as pd\n",
    "import matplotlib.pyplot as plt\n",
    "import numpy as np\n",
    "import math\n",
    "import seaborn as sns\n",
    "from scipy import stats as st\n",
    "import warnings\n",
    "\n",
    "warnings.filterwarnings('ignore')"
   ]
  },
  {
   "cell_type": "code",
   "execution_count": 2,
   "metadata": {},
   "outputs": [],
   "source": [
    "# Чтение датасетов из файла\n",
    "\n",
    "try:\n",
    "    calls = pd.read_csv('/datasets/calls.csv')\n",
    "    internet = pd.read_csv('/datasets/internet.csv')\n",
    "    messages = pd.read_csv('/datasets/messages.csv')\n",
    "    tariffs = pd.read_csv('/datasets/tariffs.csv')\n",
    "    users = pd.read_csv('/datasets/users.csv')\n",
    "except:\n",
    "    print('Некоторые файлы не обнаружены')"
   ]
  },
  {
   "cell_type": "markdown",
   "metadata": {},
   "source": [
    "Рассмотрим таблицу calls"
   ]
  },
  {
   "cell_type": "code",
   "execution_count": 3,
   "metadata": {
    "scrolled": false
   },
   "outputs": [
    {
     "name": "stdout",
     "output_type": "stream",
     "text": [
      "<class 'pandas.core.frame.DataFrame'>\n",
      "RangeIndex: 202607 entries, 0 to 202606\n",
      "Data columns (total 4 columns):\n",
      "id           202607 non-null object\n",
      "call_date    202607 non-null object\n",
      "duration     202607 non-null float64\n",
      "user_id      202607 non-null int64\n",
      "dtypes: float64(1), int64(1), object(2)\n",
      "memory usage: 6.2+ MB\n"
     ]
    }
   ],
   "source": [
    "calls.info()"
   ]
  },
  {
   "cell_type": "markdown",
   "metadata": {},
   "source": [
    "Как и заявлено в сопроводительной записке, в таблице четыре колонки, пропусков нет."
   ]
  },
  {
   "cell_type": "markdown",
   "metadata": {},
   "source": [
    "Согласно правилам тарификации \"Мегалайн\" для учета стоимости услуг длительность звонков округляется до минут в большую сторону, поэтому добавим в таблицу новый столбец `duration_as_counted`, отражающий количество списанных минут за состоявшиеся разговоры. Звонки, длительность которых отмечена нулем, являются неотвеченными входящими, поэтому оставим их без изменения. Важное допущение: звонки не делятся на входящие и исходящие - цена для всех едина. "
   ]
  },
  {
   "cell_type": "code",
   "execution_count": 4,
   "metadata": {
    "scrolled": true
   },
   "outputs": [],
   "source": [
    "calls.insert(calls.columns.get_loc('duration')+1, 'duration_as_counted', \n",
    "             (calls['duration'].apply(lambda x: math.ceil(x) if x>0 else 0)).astype('int'))"
   ]
  },
  {
   "cell_type": "markdown",
   "metadata": {},
   "source": [
    "Столбец с датой также необходимо привести к соответствующему типу."
   ]
  },
  {
   "cell_type": "code",
   "execution_count": 5,
   "metadata": {},
   "outputs": [],
   "source": [
    "calls['call_date'] = pd.to_datetime(calls['call_date'])"
   ]
  },
  {
   "cell_type": "markdown",
   "metadata": {},
   "source": [
    "Выделим отдельным столбцом месяц совершения звонка"
   ]
  },
  {
   "cell_type": "code",
   "execution_count": 6,
   "metadata": {
    "scrolled": false
   },
   "outputs": [],
   "source": [
    "calls.insert(calls.columns.get_loc('call_date')+1, 'call_month', calls['call_date'].dt.month)"
   ]
  },
  {
   "cell_type": "markdown",
   "metadata": {},
   "source": [
    "Все изменения произведены корректно, пропусков в таблице нет"
   ]
  },
  {
   "cell_type": "code",
   "execution_count": 7,
   "metadata": {},
   "outputs": [
    {
     "data": {
      "text/html": [
       "<div>\n",
       "<style scoped>\n",
       "    .dataframe tbody tr th:only-of-type {\n",
       "        vertical-align: middle;\n",
       "    }\n",
       "\n",
       "    .dataframe tbody tr th {\n",
       "        vertical-align: top;\n",
       "    }\n",
       "\n",
       "    .dataframe thead th {\n",
       "        text-align: right;\n",
       "    }\n",
       "</style>\n",
       "<table border=\"1\" class=\"dataframe\">\n",
       "  <thead>\n",
       "    <tr style=\"text-align: right;\">\n",
       "      <th></th>\n",
       "      <th>id</th>\n",
       "      <th>call_date</th>\n",
       "      <th>call_month</th>\n",
       "      <th>duration</th>\n",
       "      <th>duration_as_counted</th>\n",
       "      <th>user_id</th>\n",
       "    </tr>\n",
       "  </thead>\n",
       "  <tbody>\n",
       "    <tr>\n",
       "      <td>99611</td>\n",
       "      <td>1254_41</td>\n",
       "      <td>2018-04-02</td>\n",
       "      <td>4</td>\n",
       "      <td>9.76</td>\n",
       "      <td>10</td>\n",
       "      <td>1254</td>\n",
       "    </tr>\n",
       "    <tr>\n",
       "      <td>166086</td>\n",
       "      <td>1409_711</td>\n",
       "      <td>2018-05-22</td>\n",
       "      <td>5</td>\n",
       "      <td>0.00</td>\n",
       "      <td>0</td>\n",
       "      <td>1409</td>\n",
       "    </tr>\n",
       "    <tr>\n",
       "      <td>181712</td>\n",
       "      <td>1453_904</td>\n",
       "      <td>2018-06-07</td>\n",
       "      <td>6</td>\n",
       "      <td>9.35</td>\n",
       "      <td>10</td>\n",
       "      <td>1453</td>\n",
       "    </tr>\n",
       "  </tbody>\n",
       "</table>\n",
       "</div>"
      ],
      "text/plain": [
       "              id  call_date  call_month  duration  duration_as_counted  \\\n",
       "99611    1254_41 2018-04-02           4      9.76                   10   \n",
       "166086  1409_711 2018-05-22           5      0.00                    0   \n",
       "181712  1453_904 2018-06-07           6      9.35                   10   \n",
       "\n",
       "        user_id  \n",
       "99611      1254  \n",
       "166086     1409  \n",
       "181712     1453  "
      ]
     },
     "execution_count": 7,
     "metadata": {},
     "output_type": "execute_result"
    }
   ],
   "source": [
    "calls.sample(3)"
   ]
  },
  {
   "cell_type": "markdown",
   "metadata": {},
   "source": [
    "Рассмотрим таблицу `internet`"
   ]
  },
  {
   "cell_type": "code",
   "execution_count": 8,
   "metadata": {},
   "outputs": [
    {
     "name": "stdout",
     "output_type": "stream",
     "text": [
      "<class 'pandas.core.frame.DataFrame'>\n",
      "RangeIndex: 149396 entries, 0 to 149395\n",
      "Data columns (total 5 columns):\n",
      "Unnamed: 0      149396 non-null int64\n",
      "id              149396 non-null object\n",
      "mb_used         149396 non-null float64\n",
      "session_date    149396 non-null object\n",
      "user_id         149396 non-null int64\n",
      "dtypes: float64(1), int64(2), object(2)\n",
      "memory usage: 5.7+ MB\n"
     ]
    }
   ],
   "source": [
    "internet.info()"
   ]
  },
  {
   "cell_type": "markdown",
   "metadata": {},
   "source": [
    "Вопреки пояснительной записке, присутствует один лишний столбец `Unnamed: 0`, нужно исследовать его содержимое. В остальном с датасетом нужно провести те же процедуры, исправить типы данных, добавить столбцы и т.д.\n",
    "\n",
    "Начнем с неописанного столбца."
   ]
  },
  {
   "cell_type": "code",
   "execution_count": 9,
   "metadata": {},
   "outputs": [
    {
     "data": {
      "text/html": [
       "<div>\n",
       "<style scoped>\n",
       "    .dataframe tbody tr th:only-of-type {\n",
       "        vertical-align: middle;\n",
       "    }\n",
       "\n",
       "    .dataframe tbody tr th {\n",
       "        vertical-align: top;\n",
       "    }\n",
       "\n",
       "    .dataframe thead th {\n",
       "        text-align: right;\n",
       "    }\n",
       "</style>\n",
       "<table border=\"1\" class=\"dataframe\">\n",
       "  <thead>\n",
       "    <tr style=\"text-align: right;\">\n",
       "      <th></th>\n",
       "      <th>Unnamed: 0</th>\n",
       "      <th>id</th>\n",
       "      <th>mb_used</th>\n",
       "      <th>session_date</th>\n",
       "      <th>user_id</th>\n",
       "    </tr>\n",
       "  </thead>\n",
       "  <tbody>\n",
       "    <tr>\n",
       "      <td>25472</td>\n",
       "      <td>25472</td>\n",
       "      <td>1088_107</td>\n",
       "      <td>325.87</td>\n",
       "      <td>2018-09-20</td>\n",
       "      <td>1088</td>\n",
       "    </tr>\n",
       "    <tr>\n",
       "      <td>62168</td>\n",
       "      <td>62168</td>\n",
       "      <td>1211_1</td>\n",
       "      <td>537.09</td>\n",
       "      <td>2018-10-29</td>\n",
       "      <td>1211</td>\n",
       "    </tr>\n",
       "    <tr>\n",
       "      <td>48796</td>\n",
       "      <td>48796</td>\n",
       "      <td>1168_564</td>\n",
       "      <td>132.94</td>\n",
       "      <td>2018-11-06</td>\n",
       "      <td>1168</td>\n",
       "    </tr>\n",
       "    <tr>\n",
       "      <td>7140</td>\n",
       "      <td>7140</td>\n",
       "      <td>1025_32</td>\n",
       "      <td>121.97</td>\n",
       "      <td>2018-07-04</td>\n",
       "      <td>1025</td>\n",
       "    </tr>\n",
       "    <tr>\n",
       "      <td>142160</td>\n",
       "      <td>142160</td>\n",
       "      <td>1477_57</td>\n",
       "      <td>405.76</td>\n",
       "      <td>2018-12-23</td>\n",
       "      <td>1477</td>\n",
       "    </tr>\n",
       "    <tr>\n",
       "      <td>66192</td>\n",
       "      <td>66192</td>\n",
       "      <td>1225_313</td>\n",
       "      <td>723.08</td>\n",
       "      <td>2018-05-06</td>\n",
       "      <td>1225</td>\n",
       "    </tr>\n",
       "    <tr>\n",
       "      <td>11493</td>\n",
       "      <td>11493</td>\n",
       "      <td>1040_116</td>\n",
       "      <td>47.37</td>\n",
       "      <td>2018-08-29</td>\n",
       "      <td>1040</td>\n",
       "    </tr>\n",
       "  </tbody>\n",
       "</table>\n",
       "</div>"
      ],
      "text/plain": [
       "        Unnamed: 0        id  mb_used session_date  user_id\n",
       "25472        25472  1088_107   325.87   2018-09-20     1088\n",
       "62168        62168    1211_1   537.09   2018-10-29     1211\n",
       "48796        48796  1168_564   132.94   2018-11-06     1168\n",
       "7140          7140   1025_32   121.97   2018-07-04     1025\n",
       "142160      142160   1477_57   405.76   2018-12-23     1477\n",
       "66192        66192  1225_313   723.08   2018-05-06     1225\n",
       "11493        11493  1040_116    47.37   2018-08-29     1040"
      ]
     },
     "execution_count": 9,
     "metadata": {},
     "output_type": "execute_result"
    }
   ],
   "source": [
    "internet.sample(7)"
   ]
  },
  {
   "cell_type": "markdown",
   "metadata": {},
   "source": [
    "Столбец повторяет индексы датасета. Скорее всего при переносе данных не был задействован атрибут `drop=True` в методе `reset_index`. Столбец необходимо удалить."
   ]
  },
  {
   "cell_type": "code",
   "execution_count": 10,
   "metadata": {
    "scrolled": true
   },
   "outputs": [],
   "source": [
    "internet.drop('Unnamed: 0', axis=1, inplace=True)"
   ]
  },
  {
   "cell_type": "markdown",
   "metadata": {},
   "source": [
    "Приведем столбец `session_date` к формату даты и добавим столбец с месяцем, в котором состоялась сессия."
   ]
  },
  {
   "cell_type": "code",
   "execution_count": 11,
   "metadata": {},
   "outputs": [],
   "source": [
    "internet['session_date'] = pd.to_datetime(internet['session_date'])\n",
    "\n",
    "internet.insert(internet.columns.get_loc('session_date')+1, 'session_month', internet['session_date'].dt.month)"
   ]
  },
  {
   "cell_type": "code",
   "execution_count": 12,
   "metadata": {},
   "outputs": [
    {
     "data": {
      "text/html": [
       "<div>\n",
       "<style scoped>\n",
       "    .dataframe tbody tr th:only-of-type {\n",
       "        vertical-align: middle;\n",
       "    }\n",
       "\n",
       "    .dataframe tbody tr th {\n",
       "        vertical-align: top;\n",
       "    }\n",
       "\n",
       "    .dataframe thead th {\n",
       "        text-align: right;\n",
       "    }\n",
       "</style>\n",
       "<table border=\"1\" class=\"dataframe\">\n",
       "  <thead>\n",
       "    <tr style=\"text-align: right;\">\n",
       "      <th></th>\n",
       "      <th>id</th>\n",
       "      <th>mb_used</th>\n",
       "      <th>session_date</th>\n",
       "      <th>session_month</th>\n",
       "      <th>user_id</th>\n",
       "    </tr>\n",
       "  </thead>\n",
       "  <tbody>\n",
       "    <tr>\n",
       "      <td>97393</td>\n",
       "      <td>1327_314</td>\n",
       "      <td>0.00</td>\n",
       "      <td>2018-11-21</td>\n",
       "      <td>11</td>\n",
       "      <td>1327</td>\n",
       "    </tr>\n",
       "    <tr>\n",
       "      <td>132482</td>\n",
       "      <td>1440_174</td>\n",
       "      <td>467.87</td>\n",
       "      <td>2018-12-08</td>\n",
       "      <td>12</td>\n",
       "      <td>1440</td>\n",
       "    </tr>\n",
       "    <tr>\n",
       "      <td>90760</td>\n",
       "      <td>1307_377</td>\n",
       "      <td>465.81</td>\n",
       "      <td>2018-11-29</td>\n",
       "      <td>11</td>\n",
       "      <td>1307</td>\n",
       "    </tr>\n",
       "  </tbody>\n",
       "</table>\n",
       "</div>"
      ],
      "text/plain": [
       "              id  mb_used session_date  session_month  user_id\n",
       "97393   1327_314     0.00   2018-11-21             11     1327\n",
       "132482  1440_174   467.87   2018-12-08             12     1440\n",
       "90760   1307_377   465.81   2018-11-29             11     1307"
      ]
     },
     "execution_count": 12,
     "metadata": {},
     "output_type": "execute_result"
    }
   ],
   "source": [
    "internet.sample(3)"
   ]
  },
  {
   "cell_type": "markdown",
   "metadata": {},
   "source": [
    "Рассмотрим таблицу `messages`"
   ]
  },
  {
   "cell_type": "code",
   "execution_count": 13,
   "metadata": {},
   "outputs": [
    {
     "name": "stdout",
     "output_type": "stream",
     "text": [
      "<class 'pandas.core.frame.DataFrame'>\n",
      "RangeIndex: 123036 entries, 0 to 123035\n",
      "Data columns (total 3 columns):\n",
      "id              123036 non-null object\n",
      "message_date    123036 non-null object\n",
      "user_id         123036 non-null int64\n",
      "dtypes: int64(1), object(2)\n",
      "memory usage: 2.8+ MB\n"
     ]
    }
   ],
   "source": [
    "messages.info()"
   ]
  },
  {
   "cell_type": "markdown",
   "metadata": {},
   "source": [
    "Исправим тип данных `message_date`, добавим столбец с месяцем"
   ]
  },
  {
   "cell_type": "code",
   "execution_count": 14,
   "metadata": {},
   "outputs": [],
   "source": [
    "messages['message_date'] = pd.to_datetime(messages['message_date'])\n",
    "\n",
    "messages.insert(messages.columns.get_loc('message_date')+1, 'message_month', messages['message_date'].dt.month)"
   ]
  },
  {
   "cell_type": "markdown",
   "metadata": {},
   "source": [
    "В таблице tariffs все значения и их форматы верны:"
   ]
  },
  {
   "cell_type": "code",
   "execution_count": 15,
   "metadata": {},
   "outputs": [
    {
     "data": {
      "text/html": [
       "<div>\n",
       "<style scoped>\n",
       "    .dataframe tbody tr th:only-of-type {\n",
       "        vertical-align: middle;\n",
       "    }\n",
       "\n",
       "    .dataframe tbody tr th {\n",
       "        vertical-align: top;\n",
       "    }\n",
       "\n",
       "    .dataframe thead th {\n",
       "        text-align: right;\n",
       "    }\n",
       "</style>\n",
       "<table border=\"1\" class=\"dataframe\">\n",
       "  <thead>\n",
       "    <tr style=\"text-align: right;\">\n",
       "      <th></th>\n",
       "      <th>messages_included</th>\n",
       "      <th>mb_per_month_included</th>\n",
       "      <th>minutes_included</th>\n",
       "      <th>rub_monthly_fee</th>\n",
       "      <th>rub_per_gb</th>\n",
       "      <th>rub_per_message</th>\n",
       "      <th>rub_per_minute</th>\n",
       "      <th>tariff_name</th>\n",
       "    </tr>\n",
       "  </thead>\n",
       "  <tbody>\n",
       "    <tr>\n",
       "      <td>0</td>\n",
       "      <td>50</td>\n",
       "      <td>15360</td>\n",
       "      <td>500</td>\n",
       "      <td>550</td>\n",
       "      <td>200</td>\n",
       "      <td>3</td>\n",
       "      <td>3</td>\n",
       "      <td>smart</td>\n",
       "    </tr>\n",
       "    <tr>\n",
       "      <td>1</td>\n",
       "      <td>1000</td>\n",
       "      <td>30720</td>\n",
       "      <td>3000</td>\n",
       "      <td>1950</td>\n",
       "      <td>150</td>\n",
       "      <td>1</td>\n",
       "      <td>1</td>\n",
       "      <td>ultra</td>\n",
       "    </tr>\n",
       "  </tbody>\n",
       "</table>\n",
       "</div>"
      ],
      "text/plain": [
       "   messages_included  mb_per_month_included  minutes_included  \\\n",
       "0                 50                  15360               500   \n",
       "1               1000                  30720              3000   \n",
       "\n",
       "   rub_monthly_fee  rub_per_gb  rub_per_message  rub_per_minute tariff_name  \n",
       "0              550         200                3               3       smart  \n",
       "1             1950         150                1               1       ultra  "
      ]
     },
     "execution_count": 15,
     "metadata": {},
     "output_type": "execute_result"
    }
   ],
   "source": [
    "tariffs"
   ]
  },
  {
   "cell_type": "markdown",
   "metadata": {},
   "source": [
    "Наконец, перейдем к таблице users, хранящей личные данные пользователей (те самые, которые запрещено передавать третьим лицам=)"
   ]
  },
  {
   "cell_type": "code",
   "execution_count": 16,
   "metadata": {},
   "outputs": [
    {
     "name": "stdout",
     "output_type": "stream",
     "text": [
      "<class 'pandas.core.frame.DataFrame'>\n",
      "RangeIndex: 500 entries, 0 to 499\n",
      "Data columns (total 8 columns):\n",
      "user_id       500 non-null int64\n",
      "age           500 non-null int64\n",
      "churn_date    38 non-null object\n",
      "city          500 non-null object\n",
      "first_name    500 non-null object\n",
      "last_name     500 non-null object\n",
      "reg_date      500 non-null object\n",
      "tariff        500 non-null object\n",
      "dtypes: int64(2), object(6)\n",
      "memory usage: 31.4+ KB\n"
     ]
    }
   ],
   "source": [
    "users.info()"
   ]
  },
  {
   "cell_type": "markdown",
   "metadata": {},
   "source": [
    "Исправим формат столбцов `churn_date`, `reg_date`. Добавим столбец. с месяцем регистрации"
   ]
  },
  {
   "cell_type": "code",
   "execution_count": 17,
   "metadata": {
    "scrolled": false
   },
   "outputs": [],
   "source": [
    "users['churn_date'] = pd.to_datetime(users['churn_date'])\n",
    "\n",
    "users['reg_date'] = pd.to_datetime(users['reg_date'])\n",
    "users.insert(users.columns.get_loc('reg_date')+1, 'reg_month', users['reg_date'].dt.month)"
   ]
  },
  {
   "cell_type": "code",
   "execution_count": 18,
   "metadata": {
    "scrolled": true
   },
   "outputs": [
    {
     "name": "stdout",
     "output_type": "stream",
     "text": [
      "<class 'pandas.core.frame.DataFrame'>\n",
      "RangeIndex: 500 entries, 0 to 499\n",
      "Data columns (total 9 columns):\n",
      "user_id       500 non-null int64\n",
      "age           500 non-null int64\n",
      "churn_date    38 non-null datetime64[ns]\n",
      "city          500 non-null object\n",
      "first_name    500 non-null object\n",
      "last_name     500 non-null object\n",
      "reg_date      500 non-null datetime64[ns]\n",
      "reg_month     500 non-null int64\n",
      "tariff        500 non-null object\n",
      "dtypes: datetime64[ns](2), int64(3), object(4)\n",
      "memory usage: 35.3+ KB\n"
     ]
    }
   ],
   "source": [
    "users.info()"
   ]
  },
  {
   "cell_type": "markdown",
   "metadata": {},
   "source": [
    "Пропуски остались только в столбце с датой отказа от тарифа. Согласно документации, они связаны с тем, что пользователи на момент выгрузки датасета не меняли тариф. Рассмотрим, как записаны эти пропуски"
   ]
  },
  {
   "cell_type": "code",
   "execution_count": 19,
   "metadata": {
    "scrolled": true
   },
   "outputs": [
    {
     "data": {
      "text/html": [
       "<div>\n",
       "<style scoped>\n",
       "    .dataframe tbody tr th:only-of-type {\n",
       "        vertical-align: middle;\n",
       "    }\n",
       "\n",
       "    .dataframe tbody tr th {\n",
       "        vertical-align: top;\n",
       "    }\n",
       "\n",
       "    .dataframe thead th {\n",
       "        text-align: right;\n",
       "    }\n",
       "</style>\n",
       "<table border=\"1\" class=\"dataframe\">\n",
       "  <thead>\n",
       "    <tr style=\"text-align: right;\">\n",
       "      <th></th>\n",
       "      <th>churn_date</th>\n",
       "    </tr>\n",
       "  </thead>\n",
       "  <tbody>\n",
       "    <tr>\n",
       "      <td>0</td>\n",
       "      <td>NaT</td>\n",
       "    </tr>\n",
       "    <tr>\n",
       "      <td>1</td>\n",
       "      <td>NaT</td>\n",
       "    </tr>\n",
       "    <tr>\n",
       "      <td>2</td>\n",
       "      <td>NaT</td>\n",
       "    </tr>\n",
       "  </tbody>\n",
       "</table>\n",
       "</div>"
      ],
      "text/plain": [
       "  churn_date\n",
       "0        NaT\n",
       "1        NaT\n",
       "2        NaT"
      ]
     },
     "execution_count": 19,
     "metadata": {},
     "output_type": "execute_result"
    }
   ],
   "source": [
    "users.query('churn_date.isna()')[['churn_date']].head(3)"
   ]
  },
  {
   "cell_type": "markdown",
   "metadata": {},
   "source": [
    "`NaT` является аналогом `NaN` для типа `datetime`, поэтому можно оставить эти пропуски в таком виде."
   ]
  },
  {
   "cell_type": "markdown",
   "metadata": {},
   "source": [
    "## Анализ пользовательской активности"
   ]
  },
  {
   "cell_type": "markdown",
   "metadata": {},
   "source": [
    "### Расчет ежемесячного количества звонков"
   ]
  },
  {
   "cell_type": "markdown",
   "metadata": {},
   "source": [
    "Рассчитаем для каждого пользователя количество совершенных звонков (всех разговоров с длительностью больше нуля) и количество потраченных минут в соответствии с правилами оператора."
   ]
  },
  {
   "cell_type": "code",
   "execution_count": 20,
   "metadata": {
    "scrolled": true
   },
   "outputs": [
    {
     "data": {
      "text/html": [
       "<div>\n",
       "<style scoped>\n",
       "    .dataframe tbody tr th:only-of-type {\n",
       "        vertical-align: middle;\n",
       "    }\n",
       "\n",
       "    .dataframe tbody tr th {\n",
       "        vertical-align: top;\n",
       "    }\n",
       "\n",
       "    .dataframe thead th {\n",
       "        text-align: right;\n",
       "    }\n",
       "</style>\n",
       "<table border=\"1\" class=\"dataframe\">\n",
       "  <thead>\n",
       "    <tr style=\"text-align: right;\">\n",
       "      <th>call_month</th>\n",
       "      <th>1</th>\n",
       "      <th>2</th>\n",
       "      <th>3</th>\n",
       "      <th>4</th>\n",
       "      <th>5</th>\n",
       "      <th>6</th>\n",
       "      <th>7</th>\n",
       "      <th>8</th>\n",
       "      <th>9</th>\n",
       "      <th>10</th>\n",
       "      <th>11</th>\n",
       "      <th>12</th>\n",
       "    </tr>\n",
       "    <tr>\n",
       "      <th>user_id</th>\n",
       "      <th></th>\n",
       "      <th></th>\n",
       "      <th></th>\n",
       "      <th></th>\n",
       "      <th></th>\n",
       "      <th></th>\n",
       "      <th></th>\n",
       "      <th></th>\n",
       "      <th></th>\n",
       "      <th></th>\n",
       "      <th></th>\n",
       "      <th></th>\n",
       "    </tr>\n",
       "  </thead>\n",
       "  <tbody>\n",
       "    <tr>\n",
       "      <td>1000</td>\n",
       "      <td></td>\n",
       "      <td></td>\n",
       "      <td></td>\n",
       "      <td></td>\n",
       "      <td>17</td>\n",
       "      <td>28</td>\n",
       "      <td>41</td>\n",
       "      <td>42</td>\n",
       "      <td>46</td>\n",
       "      <td>44</td>\n",
       "      <td>37.0</td>\n",
       "      <td>38.0</td>\n",
       "    </tr>\n",
       "    <tr>\n",
       "      <td>1001</td>\n",
       "      <td></td>\n",
       "      <td></td>\n",
       "      <td></td>\n",
       "      <td></td>\n",
       "      <td></td>\n",
       "      <td></td>\n",
       "      <td></td>\n",
       "      <td></td>\n",
       "      <td></td>\n",
       "      <td></td>\n",
       "      <td>45.0</td>\n",
       "      <td>47.0</td>\n",
       "    </tr>\n",
       "    <tr>\n",
       "      <td>1002</td>\n",
       "      <td></td>\n",
       "      <td></td>\n",
       "      <td></td>\n",
       "      <td></td>\n",
       "      <td></td>\n",
       "      <td>14</td>\n",
       "      <td>21</td>\n",
       "      <td>37</td>\n",
       "      <td>25</td>\n",
       "      <td>24</td>\n",
       "      <td>25.0</td>\n",
       "      <td>27.0</td>\n",
       "    </tr>\n",
       "    <tr>\n",
       "      <td>1003</td>\n",
       "      <td></td>\n",
       "      <td></td>\n",
       "      <td></td>\n",
       "      <td></td>\n",
       "      <td></td>\n",
       "      <td></td>\n",
       "      <td></td>\n",
       "      <td>43</td>\n",
       "      <td>105</td>\n",
       "      <td>97</td>\n",
       "      <td>95.0</td>\n",
       "      <td>88.0</td>\n",
       "    </tr>\n",
       "    <tr>\n",
       "      <td>1004</td>\n",
       "      <td></td>\n",
       "      <td></td>\n",
       "      <td></td>\n",
       "      <td></td>\n",
       "      <td>7</td>\n",
       "      <td>25</td>\n",
       "      <td>20</td>\n",
       "      <td>18</td>\n",
       "      <td>18</td>\n",
       "      <td>21</td>\n",
       "      <td>15.0</td>\n",
       "      <td>15.0</td>\n",
       "    </tr>\n",
       "  </tbody>\n",
       "</table>\n",
       "</div>"
      ],
      "text/plain": [
       "call_month 1  2  3  4   5   6   7   8    9   10    11    12\n",
       "user_id                                                    \n",
       "1000                    17  28  41  42   46  44  37.0  38.0\n",
       "1001                                             45.0  47.0\n",
       "1002                        14  21  37   25  24  25.0  27.0\n",
       "1003                                43  105  97  95.0  88.0\n",
       "1004                     7  25  20  18   18  21  15.0  15.0"
      ]
     },
     "execution_count": 20,
     "metadata": {},
     "output_type": "execute_result"
    }
   ],
   "source": [
    "calls.query('duration>0').pivot_table(index='user_id', \n",
    "                                      columns='call_month', \n",
    "                                      values='duration', \n",
    "                                      aggfunc='count').head(5).fillna('')"
   ]
  },
  {
   "cell_type": "code",
   "execution_count": 21,
   "metadata": {},
   "outputs": [],
   "source": [
    "calls_pivot = calls.query('duration>0').pivot_table(index=['user_id', 'call_month'],\n",
    "                                      values='duration',                                      \n",
    "                                      aggfunc='count')\n",
    "calls_pivot.index.names = ['user_id', 'month']"
   ]
  },
  {
   "cell_type": "code",
   "execution_count": 22,
   "metadata": {},
   "outputs": [],
   "source": [
    "minutes_pivot = calls.query('duration>0').pivot_table(index=['user_id', 'call_month'],\n",
    "                                      values='duration_as_counted',                                      \n",
    "                                      aggfunc='sum')\n",
    "minutes_pivot.index.names = ['user_id', 'month']"
   ]
  },
  {
   "cell_type": "code",
   "execution_count": 23,
   "metadata": {},
   "outputs": [],
   "source": [
    "messages_pivot = messages.pivot_table(index=['user_id', 'message_month'],\n",
    "                                      values='id',                                      \n",
    "                                      aggfunc='count')\n",
    "messages_pivot.index.names = ['user_id', 'month']"
   ]
  },
  {
   "cell_type": "code",
   "execution_count": 24,
   "metadata": {},
   "outputs": [],
   "source": [
    "internet_pivot = internet.pivot_table(index=['user_id', 'session_month'],\n",
    "                                      values='mb_used',                                      \n",
    "                                      aggfunc='sum')\n",
    "internet_pivot.index.names = ['user_id', 'month']"
   ]
  },
  {
   "cell_type": "code",
   "execution_count": 25,
   "metadata": {},
   "outputs": [
    {
     "data": {
      "text/html": [
       "<div>\n",
       "<style scoped>\n",
       "    .dataframe tbody tr th:only-of-type {\n",
       "        vertical-align: middle;\n",
       "    }\n",
       "\n",
       "    .dataframe tbody tr th {\n",
       "        vertical-align: top;\n",
       "    }\n",
       "\n",
       "    .dataframe thead th {\n",
       "        text-align: right;\n",
       "    }\n",
       "</style>\n",
       "<table border=\"1\" class=\"dataframe\">\n",
       "  <thead>\n",
       "    <tr style=\"text-align: right;\">\n",
       "      <th></th>\n",
       "      <th></th>\n",
       "      <th>number_of_calls</th>\n",
       "      <th>duration</th>\n",
       "      <th>number_of_messages</th>\n",
       "      <th>mb_used</th>\n",
       "    </tr>\n",
       "    <tr>\n",
       "      <th>user_id</th>\n",
       "      <th>month</th>\n",
       "      <th></th>\n",
       "      <th></th>\n",
       "      <th></th>\n",
       "      <th></th>\n",
       "    </tr>\n",
       "  </thead>\n",
       "  <tbody>\n",
       "    <tr>\n",
       "      <td rowspan=\"5\" valign=\"top\">1000</td>\n",
       "      <td>5</td>\n",
       "      <td>17.0</td>\n",
       "      <td>159.0</td>\n",
       "      <td>22.0</td>\n",
       "      <td>2253.49</td>\n",
       "    </tr>\n",
       "    <tr>\n",
       "      <td>6</td>\n",
       "      <td>28.0</td>\n",
       "      <td>172.0</td>\n",
       "      <td>60.0</td>\n",
       "      <td>23233.77</td>\n",
       "    </tr>\n",
       "    <tr>\n",
       "      <td>7</td>\n",
       "      <td>41.0</td>\n",
       "      <td>340.0</td>\n",
       "      <td>75.0</td>\n",
       "      <td>14003.64</td>\n",
       "    </tr>\n",
       "    <tr>\n",
       "      <td>8</td>\n",
       "      <td>42.0</td>\n",
       "      <td>408.0</td>\n",
       "      <td>81.0</td>\n",
       "      <td>14055.93</td>\n",
       "    </tr>\n",
       "    <tr>\n",
       "      <td>9</td>\n",
       "      <td>46.0</td>\n",
       "      <td>466.0</td>\n",
       "      <td>57.0</td>\n",
       "      <td>14568.91</td>\n",
       "    </tr>\n",
       "    <tr>\n",
       "      <td>...</td>\n",
       "      <td>...</td>\n",
       "      <td>...</td>\n",
       "      <td>...</td>\n",
       "      <td>...</td>\n",
       "      <td>...</td>\n",
       "    </tr>\n",
       "    <tr>\n",
       "      <td rowspan=\"3\" valign=\"top\">1489</td>\n",
       "      <td>10</td>\n",
       "      <td>NaN</td>\n",
       "      <td>NaN</td>\n",
       "      <td>21.0</td>\n",
       "      <td>19559.44</td>\n",
       "    </tr>\n",
       "    <tr>\n",
       "      <td>11</td>\n",
       "      <td>NaN</td>\n",
       "      <td>NaN</td>\n",
       "      <td>20.0</td>\n",
       "      <td>17491.56</td>\n",
       "    </tr>\n",
       "    <tr>\n",
       "      <td>12</td>\n",
       "      <td>NaN</td>\n",
       "      <td>NaN</td>\n",
       "      <td>35.0</td>\n",
       "      <td>17322.51</td>\n",
       "    </tr>\n",
       "    <tr>\n",
       "      <td>1240</td>\n",
       "      <td>2</td>\n",
       "      <td>NaN</td>\n",
       "      <td>NaN</td>\n",
       "      <td>NaN</td>\n",
       "      <td>959.51</td>\n",
       "    </tr>\n",
       "    <tr>\n",
       "      <td>1476</td>\n",
       "      <td>4</td>\n",
       "      <td>NaN</td>\n",
       "      <td>NaN</td>\n",
       "      <td>NaN</td>\n",
       "      <td>530.78</td>\n",
       "    </tr>\n",
       "  </tbody>\n",
       "</table>\n",
       "<p>3214 rows × 4 columns</p>\n",
       "</div>"
      ],
      "text/plain": [
       "               number_of_calls  duration  number_of_messages   mb_used\n",
       "user_id month                                                         \n",
       "1000    5                 17.0     159.0                22.0   2253.49\n",
       "        6                 28.0     172.0                60.0  23233.77\n",
       "        7                 41.0     340.0                75.0  14003.64\n",
       "        8                 42.0     408.0                81.0  14055.93\n",
       "        9                 46.0     466.0                57.0  14568.91\n",
       "...                        ...       ...                 ...       ...\n",
       "1489    10                 NaN       NaN                21.0  19559.44\n",
       "        11                 NaN       NaN                20.0  17491.56\n",
       "        12                 NaN       NaN                35.0  17322.51\n",
       "1240    2                  NaN       NaN                 NaN    959.51\n",
       "1476    4                  NaN       NaN                 NaN    530.78\n",
       "\n",
       "[3214 rows x 4 columns]"
      ]
     },
     "execution_count": 25,
     "metadata": {},
     "output_type": "execute_result"
    }
   ],
   "source": [
    "temp1 = calls_pivot.merge(minutes_pivot, on = ['user_id', 'month'], how='outer')\n",
    "temp2 = temp1.merge(messages_pivot, on = ['user_id', 'month'], how='outer')\n",
    "total_table = temp2.merge(internet_pivot, on = ['user_id', 'month'], how='outer')\n",
    "total_table.columns = ['number_of_calls', 'duration', 'number_of_messages', 'mb_used']\n",
    "total_table"
   ]
  },
  {
   "cell_type": "markdown",
   "metadata": {},
   "source": [
    "### Расчет ежемесячных трат минут из стандартного пакета"
   ]
  },
  {
   "cell_type": "markdown",
   "metadata": {},
   "source": [
    "Сохраним в отдельную таблицу ежемесячные траты минут из тарифного пакета для каждого пользователя. Для удобства работы с таблицей добавим в нее медианное значение количества потраченных минут и название тарифа."
   ]
  },
  {
   "cell_type": "code",
   "execution_count": 26,
   "metadata": {
    "scrolled": true
   },
   "outputs": [
    {
     "data": {
      "text/html": [
       "<div>\n",
       "<style scoped>\n",
       "    .dataframe tbody tr th:only-of-type {\n",
       "        vertical-align: middle;\n",
       "    }\n",
       "\n",
       "    .dataframe tbody tr th {\n",
       "        vertical-align: top;\n",
       "    }\n",
       "\n",
       "    .dataframe thead th {\n",
       "        text-align: right;\n",
       "    }\n",
       "</style>\n",
       "<table border=\"1\" class=\"dataframe\">\n",
       "  <thead>\n",
       "    <tr style=\"text-align: right;\">\n",
       "      <th></th>\n",
       "      <th>user_id</th>\n",
       "      <th>1</th>\n",
       "      <th>2</th>\n",
       "      <th>3</th>\n",
       "      <th>4</th>\n",
       "      <th>5</th>\n",
       "      <th>6</th>\n",
       "      <th>7</th>\n",
       "      <th>8</th>\n",
       "      <th>9</th>\n",
       "      <th>10</th>\n",
       "      <th>11</th>\n",
       "      <th>12</th>\n",
       "      <th>median</th>\n",
       "      <th>tariff</th>\n",
       "    </tr>\n",
       "  </thead>\n",
       "  <tbody>\n",
       "    <tr>\n",
       "      <td>0</td>\n",
       "      <td>1000</td>\n",
       "      <td></td>\n",
       "      <td></td>\n",
       "      <td></td>\n",
       "      <td></td>\n",
       "      <td>159</td>\n",
       "      <td>172</td>\n",
       "      <td>340</td>\n",
       "      <td>408</td>\n",
       "      <td>466</td>\n",
       "      <td>350</td>\n",
       "      <td>338.0</td>\n",
       "      <td>333.0</td>\n",
       "      <td>339.0</td>\n",
       "      <td>ultra</td>\n",
       "    </tr>\n",
       "    <tr>\n",
       "      <td>1</td>\n",
       "      <td>1001</td>\n",
       "      <td></td>\n",
       "      <td></td>\n",
       "      <td></td>\n",
       "      <td></td>\n",
       "      <td></td>\n",
       "      <td></td>\n",
       "      <td></td>\n",
       "      <td></td>\n",
       "      <td></td>\n",
       "      <td></td>\n",
       "      <td>430.0</td>\n",
       "      <td>414.0</td>\n",
       "      <td>422.0</td>\n",
       "      <td>smart</td>\n",
       "    </tr>\n",
       "    <tr>\n",
       "      <td>2</td>\n",
       "      <td>1002</td>\n",
       "      <td></td>\n",
       "      <td></td>\n",
       "      <td></td>\n",
       "      <td></td>\n",
       "      <td></td>\n",
       "      <td>117</td>\n",
       "      <td>214</td>\n",
       "      <td>289</td>\n",
       "      <td>206</td>\n",
       "      <td>212</td>\n",
       "      <td>243.0</td>\n",
       "      <td>236.0</td>\n",
       "      <td>214.0</td>\n",
       "      <td>smart</td>\n",
       "    </tr>\n",
       "    <tr>\n",
       "      <td>3</td>\n",
       "      <td>1003</td>\n",
       "      <td></td>\n",
       "      <td></td>\n",
       "      <td></td>\n",
       "      <td></td>\n",
       "      <td></td>\n",
       "      <td></td>\n",
       "      <td></td>\n",
       "      <td>380</td>\n",
       "      <td>961</td>\n",
       "      <td>855</td>\n",
       "      <td>824.0</td>\n",
       "      <td>802.0</td>\n",
       "      <td>824.0</td>\n",
       "      <td>ultra</td>\n",
       "    </tr>\n",
       "    <tr>\n",
       "      <td>4</td>\n",
       "      <td>1004</td>\n",
       "      <td></td>\n",
       "      <td></td>\n",
       "      <td></td>\n",
       "      <td></td>\n",
       "      <td>35</td>\n",
       "      <td>171</td>\n",
       "      <td>135</td>\n",
       "      <td>137</td>\n",
       "      <td>117</td>\n",
       "      <td>145</td>\n",
       "      <td>117.0</td>\n",
       "      <td>130.0</td>\n",
       "      <td>132.5</td>\n",
       "      <td>ultra</td>\n",
       "    </tr>\n",
       "  </tbody>\n",
       "</table>\n",
       "</div>"
      ],
      "text/plain": [
       "   user_id 1 2 3 4    5    6    7    8    9   10     11     12  median tariff\n",
       "0     1000          159  172  340  408  466  350  338.0  333.0   339.0  ultra\n",
       "1     1001                                        430.0  414.0   422.0  smart\n",
       "2     1002               117  214  289  206  212  243.0  236.0   214.0  smart\n",
       "3     1003                         380  961  855  824.0  802.0   824.0  ultra\n",
       "4     1004           35  171  135  137  117  145  117.0  130.0   132.5  ultra"
      ]
     },
     "execution_count": 26,
     "metadata": {},
     "output_type": "execute_result"
    }
   ],
   "source": [
    "user_month_minutes = (calls.query('duration>0').\n",
    "                      pivot_table(index='user_id', \n",
    "                                  columns='call_month', \n",
    "                                  values='duration_as_counted', \n",
    "                                  aggfunc='sum'))\n",
    "\n",
    "user_month_minutes.insert(user_month_minutes.columns.get_loc(12)+1, \n",
    "                          'median', \n",
    "                          user_month_minutes[[1, 2, 3, 4, 5, 6, 7, 8, 9, 10, 11, 12]].median(axis=1))\n",
    "\n",
    "user_month_minutes = user_month_minutes.merge(users[['tariff', 'user_id']], on='user_id', how='left')\n",
    "\n",
    "user_month_minutes.head(5).fillna('')"
   ]
  },
  {
   "cell_type": "markdown",
   "metadata": {},
   "source": [
    "### Расчет ежемесячного количества отправленных смс-сообщений"
   ]
  },
  {
   "cell_type": "markdown",
   "metadata": {},
   "source": [
    "Определим для каждого пользователя распределение количества отправленных смс-сообщений по месяцам."
   ]
  },
  {
   "cell_type": "code",
   "execution_count": 27,
   "metadata": {
    "scrolled": false
   },
   "outputs": [
    {
     "data": {
      "text/html": [
       "<div>\n",
       "<style scoped>\n",
       "    .dataframe tbody tr th:only-of-type {\n",
       "        vertical-align: middle;\n",
       "    }\n",
       "\n",
       "    .dataframe tbody tr th {\n",
       "        vertical-align: top;\n",
       "    }\n",
       "\n",
       "    .dataframe thead th {\n",
       "        text-align: right;\n",
       "    }\n",
       "</style>\n",
       "<table border=\"1\" class=\"dataframe\">\n",
       "  <thead>\n",
       "    <tr style=\"text-align: right;\">\n",
       "      <th></th>\n",
       "      <th>user_id</th>\n",
       "      <th>1</th>\n",
       "      <th>2</th>\n",
       "      <th>3</th>\n",
       "      <th>4</th>\n",
       "      <th>5</th>\n",
       "      <th>6</th>\n",
       "      <th>7</th>\n",
       "      <th>8</th>\n",
       "      <th>9</th>\n",
       "      <th>10</th>\n",
       "      <th>11</th>\n",
       "      <th>12</th>\n",
       "      <th>median</th>\n",
       "      <th>tariff</th>\n",
       "    </tr>\n",
       "  </thead>\n",
       "  <tbody>\n",
       "    <tr>\n",
       "      <td>0</td>\n",
       "      <td>1000</td>\n",
       "      <td></td>\n",
       "      <td></td>\n",
       "      <td></td>\n",
       "      <td></td>\n",
       "      <td>22</td>\n",
       "      <td>60</td>\n",
       "      <td>75</td>\n",
       "      <td>81.0</td>\n",
       "      <td>57.0</td>\n",
       "      <td>73.0</td>\n",
       "      <td>58.0</td>\n",
       "      <td>70.0</td>\n",
       "      <td>65.0</td>\n",
       "      <td>ultra</td>\n",
       "    </tr>\n",
       "    <tr>\n",
       "      <td>1</td>\n",
       "      <td>1002</td>\n",
       "      <td></td>\n",
       "      <td></td>\n",
       "      <td></td>\n",
       "      <td></td>\n",
       "      <td></td>\n",
       "      <td>4</td>\n",
       "      <td>11</td>\n",
       "      <td>13.0</td>\n",
       "      <td>4.0</td>\n",
       "      <td>10.0</td>\n",
       "      <td>16.0</td>\n",
       "      <td>12.0</td>\n",
       "      <td>11.0</td>\n",
       "      <td>smart</td>\n",
       "    </tr>\n",
       "    <tr>\n",
       "      <td>2</td>\n",
       "      <td>1003</td>\n",
       "      <td></td>\n",
       "      <td></td>\n",
       "      <td></td>\n",
       "      <td></td>\n",
       "      <td></td>\n",
       "      <td></td>\n",
       "      <td></td>\n",
       "      <td>37.0</td>\n",
       "      <td>91.0</td>\n",
       "      <td>83.0</td>\n",
       "      <td>94.0</td>\n",
       "      <td>75.0</td>\n",
       "      <td>83.0</td>\n",
       "      <td>ultra</td>\n",
       "    </tr>\n",
       "    <tr>\n",
       "      <td>3</td>\n",
       "      <td>1004</td>\n",
       "      <td></td>\n",
       "      <td></td>\n",
       "      <td></td>\n",
       "      <td></td>\n",
       "      <td>95</td>\n",
       "      <td>134</td>\n",
       "      <td>181</td>\n",
       "      <td>151.0</td>\n",
       "      <td>146.0</td>\n",
       "      <td>165.0</td>\n",
       "      <td>158.0</td>\n",
       "      <td>162.0</td>\n",
       "      <td>154.5</td>\n",
       "      <td>ultra</td>\n",
       "    </tr>\n",
       "    <tr>\n",
       "      <td>4</td>\n",
       "      <td>1005</td>\n",
       "      <td>7</td>\n",
       "      <td>38</td>\n",
       "      <td>56</td>\n",
       "      <td>41</td>\n",
       "      <td>42</td>\n",
       "      <td>47</td>\n",
       "      <td>56</td>\n",
       "      <td>64.0</td>\n",
       "      <td>52.0</td>\n",
       "      <td>44.0</td>\n",
       "      <td>51.0</td>\n",
       "      <td>54.0</td>\n",
       "      <td>49.0</td>\n",
       "      <td>smart</td>\n",
       "    </tr>\n",
       "  </tbody>\n",
       "</table>\n",
       "</div>"
      ],
      "text/plain": [
       "   user_id  1   2   3   4   5    6    7      8      9     10     11     12  \\\n",
       "0     1000                 22   60   75   81.0   57.0   73.0   58.0   70.0   \n",
       "1     1002                       4   11   13.0    4.0   10.0   16.0   12.0   \n",
       "2     1003                                37.0   91.0   83.0   94.0   75.0   \n",
       "3     1004                 95  134  181  151.0  146.0  165.0  158.0  162.0   \n",
       "4     1005  7  38  56  41  42   47   56   64.0   52.0   44.0   51.0   54.0   \n",
       "\n",
       "   median tariff  \n",
       "0    65.0  ultra  \n",
       "1    11.0  smart  \n",
       "2    83.0  ultra  \n",
       "3   154.5  ultra  \n",
       "4    49.0  smart  "
      ]
     },
     "execution_count": 27,
     "metadata": {},
     "output_type": "execute_result"
    }
   ],
   "source": [
    "user_month_messages = (messages.pivot_table(index='user_id', \n",
    "                                            columns='message_month', \n",
    "                                            values='id', \n",
    "                                            aggfunc='count'))\n",
    "\n",
    "user_month_messages.insert(user_month_messages.columns.get_loc(12)+1, \n",
    "                          'median', \n",
    "                          user_month_messages[[1, 2, 3, 4, 5, 6, 7, 8, 9, 10, 11, 12]].median(axis=1))\n",
    "\n",
    "user_month_messages = user_month_messages.merge(users[['tariff', 'user_id']], on='user_id', how='left')\n",
    "\n",
    "user_month_messages.head(5).fillna('')"
   ]
  },
  {
   "cell_type": "markdown",
   "metadata": {},
   "source": [
    "### Расчет ежемесячного объема израсходованного интернет-трафика"
   ]
  },
  {
   "cell_type": "markdown",
   "metadata": {},
   "source": [
    "Определим объем израсходованного интернет-трафика по месяцам."
   ]
  },
  {
   "cell_type": "code",
   "execution_count": 28,
   "metadata": {
    "scrolled": true
   },
   "outputs": [
    {
     "data": {
      "text/html": [
       "<div>\n",
       "<style scoped>\n",
       "    .dataframe tbody tr th:only-of-type {\n",
       "        vertical-align: middle;\n",
       "    }\n",
       "\n",
       "    .dataframe tbody tr th {\n",
       "        vertical-align: top;\n",
       "    }\n",
       "\n",
       "    .dataframe thead th {\n",
       "        text-align: right;\n",
       "    }\n",
       "</style>\n",
       "<table border=\"1\" class=\"dataframe\">\n",
       "  <thead>\n",
       "    <tr style=\"text-align: right;\">\n",
       "      <th></th>\n",
       "      <th>user_id</th>\n",
       "      <th>1</th>\n",
       "      <th>2</th>\n",
       "      <th>3</th>\n",
       "      <th>4</th>\n",
       "      <th>5</th>\n",
       "      <th>6</th>\n",
       "      <th>7</th>\n",
       "      <th>8</th>\n",
       "      <th>9</th>\n",
       "      <th>10</th>\n",
       "      <th>11</th>\n",
       "      <th>12</th>\n",
       "      <th>median</th>\n",
       "      <th>tariff</th>\n",
       "    </tr>\n",
       "  </thead>\n",
       "  <tbody>\n",
       "    <tr>\n",
       "      <td>413</td>\n",
       "      <td>1416</td>\n",
       "      <td></td>\n",
       "      <td></td>\n",
       "      <td></td>\n",
       "      <td></td>\n",
       "      <td></td>\n",
       "      <td></td>\n",
       "      <td>12477.6</td>\n",
       "      <td>20562.1</td>\n",
       "      <td>28260.1</td>\n",
       "      <td>18716.22</td>\n",
       "      <td>19368.45</td>\n",
       "      <td>9998.83</td>\n",
       "      <td>19042.335</td>\n",
       "      <td>ultra</td>\n",
       "    </tr>\n",
       "    <tr>\n",
       "      <td>38</td>\n",
       "      <td>1038</td>\n",
       "      <td></td>\n",
       "      <td></td>\n",
       "      <td></td>\n",
       "      <td></td>\n",
       "      <td></td>\n",
       "      <td></td>\n",
       "      <td></td>\n",
       "      <td></td>\n",
       "      <td></td>\n",
       "      <td>16456.41</td>\n",
       "      <td>14804.31</td>\n",
       "      <td>16963.11</td>\n",
       "      <td>16456.410</td>\n",
       "      <td>smart</td>\n",
       "    </tr>\n",
       "    <tr>\n",
       "      <td>59</td>\n",
       "      <td>1059</td>\n",
       "      <td></td>\n",
       "      <td></td>\n",
       "      <td></td>\n",
       "      <td>8395.72</td>\n",
       "      <td>21392.6</td>\n",
       "      <td>23417.9</td>\n",
       "      <td>15521.1</td>\n",
       "      <td>23036.1</td>\n",
       "      <td>16964.3</td>\n",
       "      <td>21238.15</td>\n",
       "      <td>18749.88</td>\n",
       "      <td>19068.16</td>\n",
       "      <td>19068.160</td>\n",
       "      <td>smart</td>\n",
       "    </tr>\n",
       "    <tr>\n",
       "      <td>456</td>\n",
       "      <td>1459</td>\n",
       "      <td></td>\n",
       "      <td></td>\n",
       "      <td></td>\n",
       "      <td></td>\n",
       "      <td></td>\n",
       "      <td></td>\n",
       "      <td></td>\n",
       "      <td></td>\n",
       "      <td></td>\n",
       "      <td>11043.46</td>\n",
       "      <td>15475.20</td>\n",
       "      <td>16076.44</td>\n",
       "      <td>15475.200</td>\n",
       "      <td>smart</td>\n",
       "    </tr>\n",
       "    <tr>\n",
       "      <td>404</td>\n",
       "      <td>1407</td>\n",
       "      <td></td>\n",
       "      <td></td>\n",
       "      <td></td>\n",
       "      <td></td>\n",
       "      <td></td>\n",
       "      <td></td>\n",
       "      <td></td>\n",
       "      <td>10879.1</td>\n",
       "      <td>13941.5</td>\n",
       "      <td>14962.05</td>\n",
       "      <td>11324.16</td>\n",
       "      <td>16853.31</td>\n",
       "      <td>13941.520</td>\n",
       "      <td>smart</td>\n",
       "    </tr>\n",
       "  </tbody>\n",
       "</table>\n",
       "</div>"
      ],
      "text/plain": [
       "     user_id 1 2 3        4        5        6        7        8        9  \\\n",
       "413     1416                                   12477.6  20562.1  28260.1   \n",
       "38      1038                                                               \n",
       "59      1059        8395.72  21392.6  23417.9  15521.1  23036.1  16964.3   \n",
       "456     1459                                                               \n",
       "404     1407                                            10879.1  13941.5   \n",
       "\n",
       "           10        11        12     median tariff  \n",
       "413  18716.22  19368.45   9998.83  19042.335  ultra  \n",
       "38   16456.41  14804.31  16963.11  16456.410  smart  \n",
       "59   21238.15  18749.88  19068.16  19068.160  smart  \n",
       "456  11043.46  15475.20  16076.44  15475.200  smart  \n",
       "404  14962.05  11324.16  16853.31  13941.520  smart  "
      ]
     },
     "execution_count": 28,
     "metadata": {},
     "output_type": "execute_result"
    }
   ],
   "source": [
    "user_month_internet = (internet.pivot_table(index='user_id', \n",
    "                                            columns='session_month', \n",
    "                                            values='mb_used', \n",
    "                                            aggfunc='sum'))\n",
    "\n",
    "user_month_internet.insert(user_month_internet.columns.get_loc(12)+1, \n",
    "                          'median', \n",
    "                          user_month_internet[[1, 2, 3, 4, 5, 6, 7, 8, 9, 10, 11, 12]].median(axis=1))\n",
    "\n",
    "user_month_internet = user_month_internet.merge(users[['tariff', 'user_id']], on='user_id', how='left')\n",
    "\n",
    "user_month_internet.sample(5).fillna('')"
   ]
  },
  {
   "cell_type": "markdown",
   "metadata": {},
   "source": [
    "### Расчет выручки, получаемой от каждого пользователя"
   ]
  },
  {
   "cell_type": "markdown",
   "metadata": {},
   "source": [
    "Определим помесячную выручку с каждого пользователя. "
   ]
  },
  {
   "cell_type": "code",
   "execution_count": 29,
   "metadata": {
    "scrolled": true
   },
   "outputs": [
    {
     "data": {
      "text/html": [
       "<div>\n",
       "<style scoped>\n",
       "    .dataframe tbody tr th:only-of-type {\n",
       "        vertical-align: middle;\n",
       "    }\n",
       "\n",
       "    .dataframe tbody tr th {\n",
       "        vertical-align: top;\n",
       "    }\n",
       "\n",
       "    .dataframe thead th {\n",
       "        text-align: right;\n",
       "    }\n",
       "</style>\n",
       "<table border=\"1\" class=\"dataframe\">\n",
       "  <thead>\n",
       "    <tr style=\"text-align: right;\">\n",
       "      <th></th>\n",
       "      <th>user_id</th>\n",
       "      <th>1</th>\n",
       "      <th>2</th>\n",
       "      <th>3</th>\n",
       "      <th>4</th>\n",
       "      <th>5</th>\n",
       "      <th>6</th>\n",
       "      <th>7</th>\n",
       "      <th>8</th>\n",
       "      <th>9</th>\n",
       "      <th>10</th>\n",
       "      <th>11</th>\n",
       "      <th>12</th>\n",
       "      <th>median</th>\n",
       "      <th>tariff</th>\n",
       "      <th>city</th>\n",
       "    </tr>\n",
       "  </thead>\n",
       "  <tbody>\n",
       "    <tr>\n",
       "      <td>129</td>\n",
       "      <td>1129</td>\n",
       "      <td></td>\n",
       "      <td></td>\n",
       "      <td></td>\n",
       "      <td></td>\n",
       "      <td></td>\n",
       "      <td></td>\n",
       "      <td></td>\n",
       "      <td></td>\n",
       "      <td></td>\n",
       "      <td></td>\n",
       "      <td></td>\n",
       "      <td>1677.0</td>\n",
       "      <td>1677.0</td>\n",
       "      <td>smart</td>\n",
       "      <td>Курган</td>\n",
       "    </tr>\n",
       "    <tr>\n",
       "      <td>140</td>\n",
       "      <td>1140</td>\n",
       "      <td></td>\n",
       "      <td></td>\n",
       "      <td></td>\n",
       "      <td></td>\n",
       "      <td></td>\n",
       "      <td></td>\n",
       "      <td></td>\n",
       "      <td></td>\n",
       "      <td></td>\n",
       "      <td></td>\n",
       "      <td></td>\n",
       "      <td>1873.0</td>\n",
       "      <td>1873.0</td>\n",
       "      <td>smart</td>\n",
       "      <td>Киров</td>\n",
       "    </tr>\n",
       "    <tr>\n",
       "      <td>351</td>\n",
       "      <td>1351</td>\n",
       "      <td></td>\n",
       "      <td></td>\n",
       "      <td></td>\n",
       "      <td></td>\n",
       "      <td></td>\n",
       "      <td></td>\n",
       "      <td></td>\n",
       "      <td></td>\n",
       "      <td></td>\n",
       "      <td></td>\n",
       "      <td>2540</td>\n",
       "      <td>1741.0</td>\n",
       "      <td>2140.5</td>\n",
       "      <td>smart</td>\n",
       "      <td>Казань</td>\n",
       "    </tr>\n",
       "    <tr>\n",
       "      <td>412</td>\n",
       "      <td>1412</td>\n",
       "      <td></td>\n",
       "      <td></td>\n",
       "      <td></td>\n",
       "      <td></td>\n",
       "      <td></td>\n",
       "      <td>1950</td>\n",
       "      <td>1950</td>\n",
       "      <td>2250</td>\n",
       "      <td>3000</td>\n",
       "      <td>1950</td>\n",
       "      <td>1950</td>\n",
       "      <td>1950.0</td>\n",
       "      <td>1950.0</td>\n",
       "      <td>ultra</td>\n",
       "      <td>Волгоград</td>\n",
       "    </tr>\n",
       "    <tr>\n",
       "      <td>285</td>\n",
       "      <td>1285</td>\n",
       "      <td></td>\n",
       "      <td>550</td>\n",
       "      <td>550</td>\n",
       "      <td>550</td>\n",
       "      <td>550</td>\n",
       "      <td>550</td>\n",
       "      <td>559</td>\n",
       "      <td>622</td>\n",
       "      <td>2608</td>\n",
       "      <td>5481</td>\n",
       "      <td>3284</td>\n",
       "      <td>4238.0</td>\n",
       "      <td>559.0</td>\n",
       "      <td>smart</td>\n",
       "      <td>Краснодар</td>\n",
       "    </tr>\n",
       "    <tr>\n",
       "      <td>26</td>\n",
       "      <td>1026</td>\n",
       "      <td></td>\n",
       "      <td></td>\n",
       "      <td></td>\n",
       "      <td></td>\n",
       "      <td></td>\n",
       "      <td></td>\n",
       "      <td></td>\n",
       "      <td></td>\n",
       "      <td></td>\n",
       "      <td>655</td>\n",
       "      <td>550</td>\n",
       "      <td>1043.0</td>\n",
       "      <td>655.0</td>\n",
       "      <td>smart</td>\n",
       "      <td>Мурманск</td>\n",
       "    </tr>\n",
       "    <tr>\n",
       "      <td>446</td>\n",
       "      <td>1446</td>\n",
       "      <td></td>\n",
       "      <td></td>\n",
       "      <td></td>\n",
       "      <td></td>\n",
       "      <td></td>\n",
       "      <td></td>\n",
       "      <td></td>\n",
       "      <td>750</td>\n",
       "      <td>550</td>\n",
       "      <td>750</td>\n",
       "      <td>1350</td>\n",
       "      <td>550.0</td>\n",
       "      <td>750.0</td>\n",
       "      <td>smart</td>\n",
       "      <td>Липецк</td>\n",
       "    </tr>\n",
       "  </tbody>\n",
       "</table>\n",
       "</div>"
      ],
      "text/plain": [
       "     user_id 1    2    3    4    5     6     7     8     9    10    11  \\\n",
       "129     1129                                                             \n",
       "140     1140                                                             \n",
       "351     1351                                                      2540   \n",
       "412     1412                        1950  1950  2250  3000  1950  1950   \n",
       "285     1285    550  550  550  550   550   559   622  2608  5481  3284   \n",
       "26      1026                                                 655   550   \n",
       "446     1446                                     750   550   750  1350   \n",
       "\n",
       "         12  median tariff       city  \n",
       "129  1677.0  1677.0  smart     Курган  \n",
       "140  1873.0  1873.0  smart      Киров  \n",
       "351  1741.0  2140.5  smart     Казань  \n",
       "412  1950.0  1950.0  ultra  Волгоград  \n",
       "285  4238.0   559.0  smart  Краснодар  \n",
       "26   1043.0   655.0  smart   Мурманск  \n",
       "446   550.0   750.0  smart     Липецк  "
      ]
     },
     "execution_count": 29,
     "metadata": {},
     "output_type": "execute_result"
    }
   ],
   "source": [
    "income_dict = {} # объявление словаря, на основе которого будет создана сводная таблица DataFrame\n",
    "\n",
    "for id in users['user_id']: # итерирование по списку id пользователей\n",
    "    \n",
    "    if users.loc[id-1000, 'tariff'] == 'smart': # обозначение тарифа цировым индексом\n",
    "        tariff_index = 0\n",
    "    else:\n",
    "        tariff_index = 1\n",
    "        \n",
    "    messages_included = tariffs.loc[tariff_index, 'messages_included']\n",
    "    mb_per_month_included = tariffs.loc[tariff_index, 'mb_per_month_included']\n",
    "    minutes_included = tariffs.loc[tariff_index, 'minutes_included']\n",
    "    rub_monthly_fee = tariffs.loc[tariff_index, 'rub_monthly_fee']\n",
    "    rub_per_gb = tariffs.loc[tariff_index, 'rub_per_gb']\n",
    "    rub_per_message = tariffs.loc[tariff_index, 'rub_per_message']\n",
    "    rub_per_minute = tariffs.loc[tariff_index, 'rub_per_minute']\n",
    "    \n",
    "    for month in range(1,13): # итерирование по месяцам\n",
    "        \n",
    "        # если пользователь зарегистрировался позже рассматриваемого месяца\n",
    "        if month < users.loc[id-1000, 'reg_month']:\n",
    "            customer_payment = np.NaN\n",
    "            \n",
    "        else:\n",
    "            minutes_over = 0 # инициализация переменных\n",
    "            messages_over = 0\n",
    "            internet_over = 0\n",
    "\n",
    "            if (id-1000) in user_month_minutes.index: # проверка совершения пользователем звонков в этом месяце\n",
    "                minutes_over = user_month_minutes.loc[id-1000, month] - minutes_included\n",
    "                if minutes_over<0 or math.isnan(minutes_over): # приравнивание трат, не превышающих норму тарифа, к нулю\n",
    "                    minutes_over = 0\n",
    "\n",
    "            if (id-1000) in user_month_messages.index:\n",
    "                messages_over = user_month_messages.loc[id-1000, month] - messages_included\n",
    "                if messages_over<0 or math.isnan(messages_over):\n",
    "                    messages_over = 0    \n",
    "\n",
    "            if (id-1000) in user_month_internet.index:\n",
    "                try:     \n",
    "                    internet_over = math.ceil((user_month_internet.loc[id-1000, month] - mb_per_month_included) / 1024)\n",
    "                except:\n",
    "                    internet_over = np.NaN\n",
    "                if internet_over<0 or math.isnan(internet_over):\n",
    "                    internet_over = 0\n",
    "            \n",
    "            customer_payment = (rub_monthly_fee \n",
    "                                + minutes_over*rub_per_minute \n",
    "                                + messages_over*rub_per_message \n",
    "                                + internet_over*rub_per_gb)\n",
    "\n",
    "        if month not in income_dict.keys():\n",
    "            income_dict[month] = []\n",
    "\n",
    "        income_dict[month].append(customer_payment)\n",
    "\n",
    "customer_payments = pd.DataFrame(income_dict, index=users['user_id'])\n",
    "\n",
    "customer_payments.insert(customer_payments.columns.get_loc(12)+1, \n",
    "                          'median', \n",
    "                          customer_payments[[1, 2, 3, 4, 5, 6, 7, 8, 9, 10, 11, 12]].median(axis=1))\n",
    "\n",
    "customer_payments = customer_payments.merge(users[['tariff', 'city', 'user_id']], on='user_id', how='left')\n",
    "\n",
    "customer_payments.sample(7).fillna('')"
   ]
  },
  {
   "cell_type": "markdown",
   "metadata": {},
   "source": [
    "## Вывод портрета пользователя"
   ]
  },
  {
   "cell_type": "markdown",
   "metadata": {},
   "source": [
    "Сравним использование тарифов через основные статистические показатели"
   ]
  },
  {
   "cell_type": "markdown",
   "metadata": {},
   "source": [
    "### Минуты разговора"
   ]
  },
  {
   "cell_type": "markdown",
   "metadata": {},
   "source": [
    "Выведем сводную таблицу со средним и медианным значением количества использованных в месяц минут разговоров, а также дисперсию и стандартное отклонение этого параметра для разных тарифов."
   ]
  },
  {
   "cell_type": "code",
   "execution_count": 30,
   "metadata": {
    "scrolled": true
   },
   "outputs": [
    {
     "data": {
      "text/html": [
       "<div>\n",
       "<style scoped>\n",
       "    .dataframe tbody tr th:only-of-type {\n",
       "        vertical-align: middle;\n",
       "    }\n",
       "\n",
       "    .dataframe tbody tr th {\n",
       "        vertical-align: top;\n",
       "    }\n",
       "\n",
       "    .dataframe thead th {\n",
       "        text-align: right;\n",
       "    }\n",
       "</style>\n",
       "<table border=\"1\" class=\"dataframe\">\n",
       "  <thead>\n",
       "    <tr style=\"text-align: right;\">\n",
       "      <th></th>\n",
       "      <th>mean</th>\n",
       "      <th>median</th>\n",
       "      <th>std</th>\n",
       "      <th>var</th>\n",
       "    </tr>\n",
       "    <tr>\n",
       "      <th>tariff</th>\n",
       "      <th></th>\n",
       "      <th></th>\n",
       "      <th></th>\n",
       "      <th></th>\n",
       "    </tr>\n",
       "  </thead>\n",
       "  <tbody>\n",
       "    <tr>\n",
       "      <td>smart</td>\n",
       "      <td>438.7</td>\n",
       "      <td>440.0</td>\n",
       "      <td>158.7</td>\n",
       "      <td>25200.4</td>\n",
       "    </tr>\n",
       "    <tr>\n",
       "      <td>ultra</td>\n",
       "      <td>577.2</td>\n",
       "      <td>546.0</td>\n",
       "      <td>290.1</td>\n",
       "      <td>84135.6</td>\n",
       "    </tr>\n",
       "  </tbody>\n",
       "</table>\n",
       "</div>"
      ],
      "text/plain": [
       "         mean  median    std      var\n",
       "tariff                               \n",
       "smart   438.7   440.0  158.7  25200.4\n",
       "ultra   577.2   546.0  290.1  84135.6"
      ]
     },
     "execution_count": 30,
     "metadata": {},
     "output_type": "execute_result"
    }
   ],
   "source": [
    "round(user_month_minutes.pivot_table(index='tariff', \n",
    "                                     values='median', \n",
    "                                     aggfunc={'median': [np.mean, np.median, np.var, np.std]}), 1)"
   ]
  },
  {
   "cell_type": "markdown",
   "metadata": {},
   "source": [
    "По таблице видно, что в каждой из групп среднее и медиана близки, из этого можно сделать вывод, что распределение похоже на нормальное. Чтобы  в этом убедиться, построим для исследуемого параметра диаграмму размаха и гистограмму частот."
   ]
  },
  {
   "cell_type": "code",
   "execution_count": 31,
   "metadata": {
    "scrolled": false
   },
   "outputs": [
    {
     "data": {
      "image/png": "[encoded data removed]",
      "text/plain": [
       "<Figure size 1080x432 with 2 Axes>"
      ]
     },
     "metadata": {
      "needs_background": "light"
     },
     "output_type": "display_data"
    }
   ],
   "source": [
    "plt.figure(figsize=(15, 6)) # задаём размер сетки\n",
    "plt.suptitle('Описание изменчивости признака')\n",
    "    \n",
    "ax = plt.subplot(1,2,1)\n",
    "pd.DataFrame(data={'smart': user_month_minutes.query('tariff==\"smart\"')['median'], \n",
    "                   'ultra': user_month_minutes.query('tariff==\"ultra\"')['median']}).plot.box(grid=True, ax=ax);\n",
    "plt.title('Диаграмма размаха');\n",
    "plt.xlabel('Название тарифа');\n",
    "plt.ylabel('Количество использованных минут');\n",
    "\n",
    "ax = plt.subplot(1,2,2)\n",
    "user_month_minutes.query('tariff==\"smart\"')['median'].plot(kind='hist', alpha=0.5, bins=15, ax=ax);\n",
    "user_month_minutes.query('tariff==\"ultra\"')['median'].plot(kind='hist', alpha=0.5, bins=15, ax=ax);\n",
    "\n",
    "plt.title('Гистограмма');\n",
    "plt.xlabel('Количество использованных минут');\n",
    "plt.ylabel('Частота встречаемости значения');\n",
    "ax.legend([\"smart\", \"ultra\"]);"
   ]
  },
  {
   "cell_type": "markdown",
   "metadata": {},
   "source": [
    "Большинство пользователей тарифа \"Смарт\" следят за остатком минут и стараются его не превышать, хотя есть и те, кто тратит на разговоры более 800 минут. Среди пользователей тарифа \"Ультра\" не наблюдается выраженных мод, и выше доля пользователей, кто либо разговариает по телефону более 800 минут в месяц, либо практически не пользуется мобильной связью."
   ]
  },
  {
   "cell_type": "markdown",
   "metadata": {},
   "source": [
    "### Количество сообщений"
   ]
  },
  {
   "cell_type": "markdown",
   "metadata": {},
   "source": [
    "Проведем аналогичный анализ для количества отправляемых сообщений в месяц."
   ]
  },
  {
   "cell_type": "code",
   "execution_count": 32,
   "metadata": {},
   "outputs": [
    {
     "data": {
      "text/html": [
       "<div>\n",
       "<style scoped>\n",
       "    .dataframe tbody tr th:only-of-type {\n",
       "        vertical-align: middle;\n",
       "    }\n",
       "\n",
       "    .dataframe tbody tr th {\n",
       "        vertical-align: top;\n",
       "    }\n",
       "\n",
       "    .dataframe thead th {\n",
       "        text-align: right;\n",
       "    }\n",
       "</style>\n",
       "<table border=\"1\" class=\"dataframe\">\n",
       "  <thead>\n",
       "    <tr style=\"text-align: right;\">\n",
       "      <th></th>\n",
       "      <th>mean</th>\n",
       "      <th>median</th>\n",
       "      <th>std</th>\n",
       "      <th>var</th>\n",
       "    </tr>\n",
       "    <tr>\n",
       "      <th>tariff</th>\n",
       "      <th></th>\n",
       "      <th></th>\n",
       "      <th></th>\n",
       "      <th></th>\n",
       "    </tr>\n",
       "  </thead>\n",
       "  <tbody>\n",
       "    <tr>\n",
       "      <td>smart</td>\n",
       "      <td>39.2</td>\n",
       "      <td>33.8</td>\n",
       "      <td>26.4</td>\n",
       "      <td>696.3</td>\n",
       "    </tr>\n",
       "    <tr>\n",
       "      <td>ultra</td>\n",
       "      <td>68.1</td>\n",
       "      <td>59.0</td>\n",
       "      <td>46.2</td>\n",
       "      <td>2134.3</td>\n",
       "    </tr>\n",
       "  </tbody>\n",
       "</table>\n",
       "</div>"
      ],
      "text/plain": [
       "        mean  median   std     var\n",
       "tariff                            \n",
       "smart   39.2    33.8  26.4   696.3\n",
       "ultra   68.1    59.0  46.2  2134.3"
      ]
     },
     "execution_count": 32,
     "metadata": {},
     "output_type": "execute_result"
    }
   ],
   "source": [
    "round(user_month_messages.pivot_table(index='tariff', \n",
    "                                     values='median', \n",
    "                                     aggfunc={'median': [np.mean, np.median, np.var, np.std]}), 1)"
   ]
  },
  {
   "cell_type": "code",
   "execution_count": 33,
   "metadata": {
    "scrolled": false
   },
   "outputs": [
    {
     "data": {
      "image/png": "[encoded data removed]",
      "text/plain": [
       "<Figure size 1080x432 with 2 Axes>"
      ]
     },
     "metadata": {
      "needs_background": "light"
     },
     "output_type": "display_data"
    }
   ],
   "source": [
    "plt.figure(figsize=(15, 6)) # задаём размер сетки\n",
    "plt.suptitle('Описание изменчивости признака')\n",
    "    \n",
    "ax = plt.subplot(1,2,1)\n",
    "pd.DataFrame(data={'smart': user_month_messages.query('tariff==\"smart\"')['median'], \n",
    "                   'ultra': user_month_messages.query('tariff==\"ultra\"')['median']}).plot.box(grid=True, ax=ax);\n",
    "plt.title('Диаграмма размаха');\n",
    "plt.xlabel('Название тарифа');\n",
    "plt.ylabel('Количество отправленных смс-сообщений');\n",
    "\n",
    "ax = plt.subplot(1,2,2)\n",
    "user_month_messages.query('tariff==\"smart\"')['median'].plot(kind='hist', alpha=0.5, bins=15, ax=ax);\n",
    "user_month_messages.query('tariff==\"ultra\"')['median'].plot(kind='hist', alpha=0.5, bins=15, ax=ax);\n",
    "                                                                                                      \n",
    "plt.title('Гистограмма');\n",
    "plt.xlabel('Количество отправленных смс-сообщений');\n",
    "plt.ylabel('Частота встречаемости признака');\n",
    "ax.legend([\"smart\", \"ultra\"]);"
   ]
  },
  {
   "cell_type": "markdown",
   "metadata": {},
   "source": [
    "Для премиального тарифа признак распределен также более широко, много пользователей отправляет более 100 собщений в месяц."
   ]
  },
  {
   "cell_type": "markdown",
   "metadata": {},
   "source": [
    "### Использованный трафик"
   ]
  },
  {
   "cell_type": "markdown",
   "metadata": {},
   "source": [
    "Исследуем объем израсходованного трафика"
   ]
  },
  {
   "cell_type": "code",
   "execution_count": 34,
   "metadata": {},
   "outputs": [
    {
     "data": {
      "text/html": [
       "<div>\n",
       "<style scoped>\n",
       "    .dataframe tbody tr th:only-of-type {\n",
       "        vertical-align: middle;\n",
       "    }\n",
       "\n",
       "    .dataframe tbody tr th {\n",
       "        vertical-align: top;\n",
       "    }\n",
       "\n",
       "    .dataframe thead th {\n",
       "        text-align: right;\n",
       "    }\n",
       "</style>\n",
       "<table border=\"1\" class=\"dataframe\">\n",
       "  <thead>\n",
       "    <tr style=\"text-align: right;\">\n",
       "      <th></th>\n",
       "      <th>mean</th>\n",
       "      <th>median</th>\n",
       "      <th>std</th>\n",
       "    </tr>\n",
       "    <tr>\n",
       "      <th>tariff</th>\n",
       "      <th></th>\n",
       "      <th></th>\n",
       "      <th></th>\n",
       "    </tr>\n",
       "  </thead>\n",
       "  <tbody>\n",
       "    <tr>\n",
       "      <td>smart</td>\n",
       "      <td>16834.3</td>\n",
       "      <td>16963.4</td>\n",
       "      <td>4174.1</td>\n",
       "    </tr>\n",
       "    <tr>\n",
       "      <td>ultra</td>\n",
       "      <td>20456.5</td>\n",
       "      <td>19810.0</td>\n",
       "      <td>8756.8</td>\n",
       "    </tr>\n",
       "  </tbody>\n",
       "</table>\n",
       "</div>"
      ],
      "text/plain": [
       "           mean   median     std\n",
       "tariff                          \n",
       "smart   16834.3  16963.4  4174.1\n",
       "ultra   20456.5  19810.0  8756.8"
      ]
     },
     "execution_count": 34,
     "metadata": {},
     "output_type": "execute_result"
    }
   ],
   "source": [
    "round(user_month_internet.pivot_table(index='tariff', \n",
    "                                     values='median', \n",
    "                                     aggfunc={'median': [np.mean, np.median, np.std]}), 1)"
   ]
  },
  {
   "cell_type": "code",
   "execution_count": 35,
   "metadata": {
    "scrolled": false
   },
   "outputs": [
    {
     "data": {
      "image/png": "[encoded data removed]",
      "text/plain": [
       "<Figure size 1080x432 with 2 Axes>"
      ]
     },
     "metadata": {
      "needs_background": "light"
     },
     "output_type": "display_data"
    }
   ],
   "source": [
    "plt.figure(figsize=(15, 6)) # задаём размер сетки\n",
    "plt.suptitle('Описание изменчивости признака')\n",
    "    \n",
    "ax = plt.subplot(1,2,1)\n",
    "pd.DataFrame(data={'smart': user_month_internet.query('tariff==\"smart\"')['median'], \n",
    "                   'ultra': user_month_internet.query('tariff==\"ultra\"')['median']}).plot.box(grid=True, ax=ax);\n",
    "plt.title('Диаграмма размаха');\n",
    "plt.xlabel('Название тарифа');\n",
    "plt.ylabel('Объем трафика в месяц, мб');\n",
    "\n",
    "ax = plt.subplot(1,2,2)\n",
    "user_month_internet.query('tariff==\"smart\"')['median'].plot(kind='hist', alpha=0.5, bins=15, ax=ax);                                                                                                     \n",
    "user_month_internet.query('tariff==\"ultra\"')['median'].plot(kind='hist', alpha=0.5, bins=15, ax=ax);\n",
    "                                                                                                      \n",
    "plt.title('Гистограмма');\n",
    "plt.xlabel('Объем трафика в месяц, мб');\n",
    "plt.ylabel('Частота встречаемости значения');\n",
    "ax.legend([\"smart\", \"ultra\"]);"
   ]
  },
  {
   "cell_type": "markdown",
   "metadata": {},
   "source": [
    "При том, что медианное значение потребляемого трафика выше для пользователей тарифа \"Ультра\", некоторые вообще почти не пользуются интернетом."
   ]
  },
  {
   "cell_type": "markdown",
   "metadata": {},
   "source": [
    "### Выводы\n",
    "\n",
    "По всем показателям медианное значение объема потребления услуги выше по тарифу \"Ультра\". Вместе с этим по этому тарифу выше и дисперсия всех признаков. Причиной этому может быть то, что пользователи выбирают этот тариф с запасом. Вместо того, чтобы оценить свою статистику использования мобильной связи, им проще подключить практически безлимитный тариф и не зависеть от текущего остатка на счету."
   ]
  },
  {
   "cell_type": "markdown",
   "metadata": {},
   "source": [
    "## Проверка гипотез"
   ]
  },
  {
   "cell_type": "markdown",
   "metadata": {},
   "source": [
    "Проверим сформулированные заказчиком исследования гипотезы"
   ]
  },
  {
   "cell_type": "markdown",
   "metadata": {},
   "source": [
    "Для проверки равенства среднего двух генеральных совокупностей формулируются нулевая и альтернативная гипотезы. Нулевая гипотеза всегда гласит, что значимых отличий в совокупностях нет, в то время как альтернативная гипотеза говорит об обратном. \n",
    "\n",
    "Из совокупностей извлекаются выборки, средние которых, согласно ЦПТ, распределены нормально вокруг среднего самой генеральной совокупности. После этого рассчитывается вероятность встретить среднее из выборки одной совокупности в распределении средних другой. Если эта вероятность оказывается ниже некоторого порогового значения (pvalue), считается, что получить такой результат случайно было маловероятно, и нулевая гипотеза отвергается."
   ]
  },
  {
   "cell_type": "markdown",
   "metadata": {},
   "source": [
    "Гипотеза 1: о выручке пользователей разных тарифов\n",
    "\n",
    "* $H_0$: средняя выручка пользователей тарифов «Ультра» и «Смарт» одинаковы;\n",
    "* $H_1$: средняя выручка пользователей тарифов «Ультра» и «Смарт» различаются;"
   ]
  },
  {
   "cell_type": "markdown",
   "metadata": {},
   "source": [
    "Для проверки этой гипотезы определим, принадлежат ли выборки одной генеральной совокупности. Иными словаим, найдем вероятность встретить в одной выборке среднее другой выборки. Обычно пороговым уровнем статистической значимости обозначается вероятность в 1%...5%. Чем определенная вероятность ниже, тем менее случайным окажется результат."
   ]
  },
  {
   "cell_type": "code",
   "execution_count": 36,
   "metadata": {},
   "outputs": [
    {
     "data": {
      "text/plain": [
       "2.4749852867099712e-30"
      ]
     },
     "execution_count": 36,
     "metadata": {},
     "output_type": "execute_result"
    }
   ],
   "source": [
    "st.ttest_ind(customer_payments.query('tariff==\"smart\"')['median'], \n",
    "             customer_payments.query('tariff==\"ultra\"')['median'],\n",
    "             equal_var = False).pvalue"
   ]
  },
  {
   "cell_type": "markdown",
   "metadata": {},
   "source": [
    "Вероятность практически нулевая, проинтерпретируем это на графике. "
   ]
  },
  {
   "cell_type": "code",
   "execution_count": 37,
   "metadata": {
    "scrolled": false
   },
   "outputs": [
    {
     "data": {
      "image/png": "[encoded data removed]",
      "text/plain": [
       "<Figure size 432x432 with 1 Axes>"
      ]
     },
     "metadata": {
      "needs_background": "light"
     },
     "output_type": "display_data"
    }
   ],
   "source": [
    "pd.DataFrame(data={'smart': customer_payments.query('tariff==\"smart\"')['median'], \n",
    "                   'ultra': customer_payments.query('tariff==\"ultra\"')['median']}).plot.box(grid=True, figsize=(6,6));\n",
    "plt.xlabel('Название тарифа');\n",
    "plt.ylabel('Выручка от пользователей каждого тарифа');"
   ]
  },
  {
   "cell_type": "markdown",
   "metadata": {},
   "source": [
    "Низкая вероятность совпадения доходов объясняется тем, что больше половины пользователей тарифа \"Смарт\" тратят меньше абонентской платы тарифа \"Ультра\". Области, в которых ежемесячные платежи совпадают, можно практически считать выбросами. Вместе с тем, диаграмма размаха обнаружила интересную особенность: больше половины пользователей тарифа \"Смарт\" не укладываются в стандартный пакет услуг и по итогам месяца платят за обслуживание, как минимум, двойную цену. Велика доля и тех, кто платит даже больше, чем пользователи премиального тарифа. Такая парадоксальная ситуация могла сложиться для пользователей корпоративного тарифа, для людей, оказавшихся в зоне роуминга, или пожилых людей."
   ]
  },
  {
   "cell_type": "markdown",
   "metadata": {},
   "source": [
    "Проверим следующую гипотезу\n",
    "\n",
    "Гипотеза 2: о выручке пользователей разных регионов\n",
    "\n",
    "* $H_0$: средняя выручка пользователей из Москвы и выручка от пользотвалей из регионов одинаковы\n",
    "* $H_1$: средняя выручка пользователей из Москвы отличается от выручки пользователей из других регионов"
   ]
  },
  {
   "cell_type": "code",
   "execution_count": 38,
   "metadata": {},
   "outputs": [
    {
     "data": {
      "text/plain": [
       "0.9148710934053639"
      ]
     },
     "execution_count": 38,
     "metadata": {},
     "output_type": "execute_result"
    }
   ],
   "source": [
    "st.ttest_ind(customer_payments.query('city==\"Москва\"')['median'], \n",
    "             customer_payments.query('city!=\"Москва\"')['median'],\n",
    "             equal_var = False).pvalue"
   ]
  },
  {
   "cell_type": "markdown",
   "metadata": {},
   "source": [
    "С вероятностью 91% средние выборок по Москве и регионам могут совпасть, поэтому оснований для отклонения нулевой гипотезы нет. Проиллюстрируем это на гистограмме."
   ]
  },
  {
   "cell_type": "code",
   "execution_count": 39,
   "metadata": {
    "scrolled": false
   },
   "outputs": [
    {
     "data": {
      "image/png": "[encoded data removed]",
      "text/plain": [
       "<Figure size 432x432 with 1 Axes>"
      ]
     },
     "metadata": {
      "needs_background": "light"
     },
     "output_type": "display_data"
    }
   ],
   "source": [
    "ax = customer_payments.query('city==\"Москва\"')['median'].plot(kind='hist', alpha=0.5, bins=20, figsize=(6,6));\n",
    "customer_payments.query('city!=\"Москва\"')['median'].plot(kind='hist', alpha=0.5, bins=20, ax=ax);\n",
    "plt.xlabel('Выручка');\n",
    "plt.ylabel('Частота встречаемости признака');\n",
    "ax.legend([\"Москва\", \"Регионы\"]);"
   ]
  },
  {
   "cell_type": "markdown",
   "metadata": {},
   "source": [
    "На гистограммах отчетливо видны моды, соответствующие ежемесячной абонентской плате. Их величины практически пропорциональны объемам выборок."
   ]
  },
  {
   "cell_type": "code",
   "execution_count": 40,
   "metadata": {},
   "outputs": [
    {
     "name": "stdout",
     "output_type": "stream",
     "text": [
      "Среднее значение выручки для Москвы 1541.9\n",
      "Среднее значение выручки для регионов 1531.9\n",
      "Стандартное отклонение выручки для Москвы 833.9\n",
      "Стандартное отклонение выручки для регионов 830.7\n"
     ]
    }
   ],
   "source": [
    "print('Среднее значение выручки для Москвы', customer_payments.query('city==\"Москва\"')['median'].mean().round(1))\n",
    "print('Среднее значение выручки для регионов', customer_payments.query('city!=\"Москва\"')['median'].mean().round(1))\n",
    "print('Стандартное отклонение выручки для Москвы', np.std(customer_payments.query('city==\"Москва\"')['median'], ddof=1).round(1))\n",
    "print('Стандартное отклонение выручки для регионов', np.std(customer_payments.query('city!=\"Москва\"')['median'], ddof=1).round(1))"
   ]
  },
  {
   "cell_type": "markdown",
   "metadata": {},
   "source": [
    "Распределения величин почти одинаковы, об этом видетельствует внешний вид и его основные статистические показатели. Поэтому значимых отличий между выборками нет."
   ]
  },
  {
   "cell_type": "markdown",
   "metadata": {},
   "source": [
    "### Выводы\n",
    "\n",
    "* Доход от пользователей разных тарифов отличается\n",
    "* Доход от абонентов из Москвы и регионов практически одинаковый\n"
   ]
  },
  {
   "cell_type": "markdown",
   "metadata": {},
   "source": [
    "## Общие выводы\n",
    "\n",
    "* По всем основным показателям средняя активность пользователей тарифа \"Ультра\" выше\n",
    "    * Медианный расход минут (\"Смарт\"/\"Ультра): 440/546\n",
    "    * Медианное количество смс (\"Смарт\"/\"Ультра): 34/59\n",
    "    * Медианный расход трафика, мб (\"Смарт\"/\"Ультра): 17/20\n",
    "    * Медианная выручка (\"Смарт\"/\"Ультра): 1098/1950\n",
    "* Абоненты \"Ультра\" рассматривают тариф как безлимитный и в целом пользуются им более свободно, то есть могут практически исчерпать объем пакета, или, наоборот, не пользоваться какими-то услугами.\n",
    "* Объем пакетов минут и сообщений в тарифе \"Ультра\" избыточен - пользователи не используют и половины. Возможно, при составлении тарифа был сделан акцент на маркетинговый эффект.\n",
    "* Абонентам \"Смарт\" часто не хватает объема стандартного пакета, больше половины платят за услуги вдвое-втрое больше.\n",
    "* Самые большие разовые ежемесячные платы (3-5 тыс. руб.) приходятся на абонентов \"Смарт\".\n",
    "* Наибольший доход в среднем приносят абоненты \"Ультра\", особенно учитывая то, что они редко пользуются тарифом полноценно.\n",
    "* Расходы на сотовую связь жителей Москвы и регионов значимо не отличаются."
   ]
  }
 ],
 "metadata": {
  "ExecuteTimeLog": [
   {
    "duration": 4,
    "start_time": "2021-12-11T14:48:31.639Z"
   },
   {
    "duration": 1030,
    "start_time": "2021-12-11T14:48:36.780Z"
   },
   {
    "duration": 131,
    "start_time": "2021-12-11T14:48:37.812Z"
   },
   {
    "duration": 12,
    "start_time": "2021-12-11T14:48:43.044Z"
   },
   {
    "duration": 3,
    "start_time": "2021-12-11T14:51:11.265Z"
   },
   {
    "duration": 404,
    "start_time": "2021-12-11T14:51:11.335Z"
   },
   {
    "duration": 11,
    "start_time": "2021-12-11T14:51:11.741Z"
   },
   {
    "duration": 12,
    "start_time": "2021-12-11T14:51:11.755Z"
   },
   {
    "duration": 8,
    "start_time": "2021-12-11T14:51:11.769Z"
   },
   {
    "duration": 8,
    "start_time": "2021-12-11T14:51:11.778Z"
   },
   {
    "duration": 11,
    "start_time": "2021-12-11T14:51:11.788Z"
   },
   {
    "duration": 122,
    "start_time": "2021-12-11T15:42:34.744Z"
   },
   {
    "duration": 76,
    "start_time": "2021-12-11T15:42:45.133Z"
   },
   {
    "duration": 79,
    "start_time": "2021-12-11T15:42:50.550Z"
   },
   {
    "duration": 762,
    "start_time": "2021-12-11T15:42:49.869Z"
   },
   {
    "duration": 762,
    "start_time": "2021-12-11T15:42:49.870Z"
   },
   {
    "duration": 762,
    "start_time": "2021-12-11T15:42:49.871Z"
   },
   {
    "duration": 762,
    "start_time": "2021-12-11T15:42:49.871Z"
   },
   {
    "duration": 715,
    "start_time": "2021-12-11T15:42:49.919Z"
   },
   {
    "duration": 715,
    "start_time": "2021-12-11T15:42:49.920Z"
   },
   {
    "duration": 93,
    "start_time": "2021-12-11T15:43:03.273Z"
   },
   {
    "duration": 763,
    "start_time": "2021-12-11T15:43:02.605Z"
   },
   {
    "duration": 763,
    "start_time": "2021-12-11T15:43:02.606Z"
   },
   {
    "duration": 763,
    "start_time": "2021-12-11T15:43:02.607Z"
   },
   {
    "duration": 763,
    "start_time": "2021-12-11T15:43:02.608Z"
   },
   {
    "duration": 708,
    "start_time": "2021-12-11T15:43:02.663Z"
   },
   {
    "duration": 706,
    "start_time": "2021-12-11T15:43:02.666Z"
   },
   {
    "duration": 26838,
    "start_time": "2021-12-11T15:43:19.841Z"
   },
   {
    "duration": 2400,
    "start_time": "2021-12-11T15:44:48.867Z"
   },
   {
    "duration": 3,
    "start_time": "2021-12-11T15:44:51.269Z"
   },
   {
    "duration": 405,
    "start_time": "2021-12-11T15:44:51.274Z"
   },
   {
    "duration": 10,
    "start_time": "2021-12-11T15:44:51.681Z"
   },
   {
    "duration": 23,
    "start_time": "2021-12-11T15:44:51.692Z"
   },
   {
    "duration": 14,
    "start_time": "2021-12-11T15:44:51.716Z"
   },
   {
    "duration": 11,
    "start_time": "2021-12-11T15:44:51.732Z"
   },
   {
    "duration": 21,
    "start_time": "2021-12-11T15:44:51.745Z"
   },
   {
    "duration": 2348,
    "start_time": "2021-12-11T15:45:20.013Z"
   },
   {
    "duration": 1597,
    "start_time": "2021-12-11T15:45:22.363Z"
   },
   {
    "duration": 375,
    "start_time": "2021-12-11T15:45:23.962Z"
   },
   {
    "duration": 14,
    "start_time": "2021-12-11T15:45:24.338Z"
   },
   {
    "duration": 11,
    "start_time": "2021-12-11T15:45:24.353Z"
   },
   {
    "duration": 11,
    "start_time": "2021-12-11T15:45:24.365Z"
   },
   {
    "duration": 8,
    "start_time": "2021-12-11T15:45:24.377Z"
   },
   {
    "duration": 13,
    "start_time": "2021-12-11T15:45:24.387Z"
   },
   {
    "duration": 335,
    "start_time": "2021-12-11T15:49:42.382Z"
   },
   {
    "duration": 2387,
    "start_time": "2021-12-11T15:49:46.932Z"
   },
   {
    "duration": 1064,
    "start_time": "2021-12-11T15:49:49.321Z"
   },
   {
    "duration": 382,
    "start_time": "2021-12-11T15:49:50.387Z"
   },
   {
    "duration": 5,
    "start_time": "2021-12-11T15:49:50.770Z"
   },
   {
    "duration": 8958,
    "start_time": "2021-12-11T15:49:59.433Z"
   },
   {
    "duration": 26747,
    "start_time": "2021-12-12T03:11:39.394Z"
   },
   {
    "duration": 2644,
    "start_time": "2021-12-12T03:12:06.143Z"
   },
   {
    "duration": 373,
    "start_time": "2021-12-12T03:12:08.789Z"
   },
   {
    "duration": 4,
    "start_time": "2021-12-12T03:12:09.164Z"
   },
   {
    "duration": 8456,
    "start_time": "2021-12-12T03:12:09.170Z"
   },
   {
    "duration": 2326,
    "start_time": "2021-12-12T03:17:07.702Z"
   },
   {
    "duration": 3,
    "start_time": "2021-12-12T03:17:10.031Z"
   },
   {
    "duration": 370,
    "start_time": "2021-12-12T03:17:10.036Z"
   },
   {
    "duration": 5,
    "start_time": "2021-12-12T03:17:10.407Z"
   },
   {
    "duration": 8153,
    "start_time": "2021-12-12T03:17:10.413Z"
   },
   {
    "duration": 2391,
    "start_time": "2021-12-12T03:53:36.283Z"
   },
   {
    "duration": 3,
    "start_time": "2021-12-12T03:53:38.676Z"
   },
   {
    "duration": 368,
    "start_time": "2021-12-12T03:53:38.681Z"
   },
   {
    "duration": 12,
    "start_time": "2021-12-12T03:53:39.051Z"
   },
   {
    "duration": 8380,
    "start_time": "2021-12-12T03:53:39.064Z"
   },
   {
    "duration": 9468,
    "start_time": "2021-12-12T03:53:47.446Z"
   },
   {
    "duration": 5578,
    "start_time": "2021-12-12T03:53:56.915Z"
   },
   {
    "duration": 6497,
    "start_time": "2021-12-12T03:54:02.495Z"
   },
   {
    "duration": 7402,
    "start_time": "2021-12-12T03:54:08.994Z"
   },
   {
    "duration": 23,
    "start_time": "2021-12-12T04:01:04.529Z"
   },
   {
    "duration": 123,
    "start_time": "2021-12-12T05:07:37.185Z"
   },
   {
    "duration": 121,
    "start_time": "2021-12-12T05:07:51.802Z"
   },
   {
    "duration": 29,
    "start_time": "2021-12-12T05:08:03.065Z"
   },
   {
    "duration": 11,
    "start_time": "2021-12-12T05:08:04.013Z"
   },
   {
    "duration": 29,
    "start_time": "2021-12-12T05:08:04.392Z"
   },
   {
    "duration": 20,
    "start_time": "2021-12-12T05:08:50.774Z"
   },
   {
    "duration": 28,
    "start_time": "2021-12-12T05:14:43.852Z"
   },
   {
    "duration": 7,
    "start_time": "2021-12-12T05:14:55.133Z"
   },
   {
    "duration": 11,
    "start_time": "2021-12-12T05:15:02.364Z"
   },
   {
    "duration": 389,
    "start_time": "2021-12-12T05:15:14.329Z"
   },
   {
    "duration": 2977,
    "start_time": "2021-12-12T05:15:18.897Z"
   },
   {
    "duration": 5,
    "start_time": "2021-12-12T05:15:23.583Z"
   },
   {
    "duration": 14,
    "start_time": "2021-12-12T05:15:30.711Z"
   },
   {
    "duration": 2456,
    "start_time": "2021-12-12T05:16:43.346Z"
   },
   {
    "duration": 4,
    "start_time": "2021-12-12T05:16:45.804Z"
   },
   {
    "duration": 348,
    "start_time": "2021-12-12T05:16:45.810Z"
   },
   {
    "duration": 12,
    "start_time": "2021-12-12T05:16:46.160Z"
   },
   {
    "duration": 8064,
    "start_time": "2021-12-12T05:16:46.174Z"
   },
   {
    "duration": 9480,
    "start_time": "2021-12-12T05:16:54.239Z"
   },
   {
    "duration": 4526,
    "start_time": "2021-12-12T05:17:03.721Z"
   },
   {
    "duration": 5322,
    "start_time": "2021-12-12T05:17:08.249Z"
   },
   {
    "duration": 6554,
    "start_time": "2021-12-12T05:17:13.588Z"
   },
   {
    "duration": 48,
    "start_time": "2021-12-12T05:17:20.143Z"
   },
   {
    "duration": 148,
    "start_time": "2021-12-12T05:17:20.193Z"
   },
   {
    "duration": 53,
    "start_time": "2021-12-12T05:17:20.343Z"
   },
   {
    "duration": 25,
    "start_time": "2021-12-12T05:17:20.398Z"
   },
   {
    "duration": 11,
    "start_time": "2021-12-12T05:18:50.352Z"
   },
   {
    "duration": 10,
    "start_time": "2021-12-12T05:18:50.756Z"
   },
   {
    "duration": 29,
    "start_time": "2021-12-12T05:19:02.141Z"
   },
   {
    "duration": 9,
    "start_time": "2021-12-12T05:19:19.222Z"
   },
   {
    "duration": 3,
    "start_time": "2021-12-12T05:23:43.557Z"
   },
   {
    "duration": 11,
    "start_time": "2021-12-12T05:23:43.938Z"
   },
   {
    "duration": 253,
    "start_time": "2021-12-12T05:24:51.579Z"
   },
   {
    "duration": 4,
    "start_time": "2021-12-12T05:24:51.940Z"
   },
   {
    "duration": 4,
    "start_time": "2021-12-12T05:25:00.536Z"
   },
   {
    "duration": 12,
    "start_time": "2021-12-12T05:25:01.860Z"
   },
   {
    "duration": 6,
    "start_time": "2021-12-12T05:25:07.687Z"
   },
   {
    "duration": 15,
    "start_time": "2021-12-12T05:25:08.507Z"
   },
   {
    "duration": 65,
    "start_time": "2021-12-12T05:25:30.397Z"
   },
   {
    "duration": 5,
    "start_time": "2021-12-12T05:26:14.436Z"
   },
   {
    "duration": 24,
    "start_time": "2021-12-12T05:26:21.010Z"
   },
   {
    "duration": 3,
    "start_time": "2021-12-12T05:35:59.913Z"
   },
   {
    "duration": 4,
    "start_time": "2021-12-12T05:36:05.958Z"
   },
   {
    "duration": 3,
    "start_time": "2021-12-12T05:36:15.544Z"
   },
   {
    "duration": 4,
    "start_time": "2021-12-12T05:36:18.697Z"
   },
   {
    "duration": 4,
    "start_time": "2021-12-12T05:36:25.886Z"
   },
   {
    "duration": 3,
    "start_time": "2021-12-12T05:37:11.837Z"
   },
   {
    "duration": 3,
    "start_time": "2021-12-12T05:37:18.020Z"
   },
   {
    "duration": 3,
    "start_time": "2021-12-12T05:37:29.634Z"
   },
   {
    "duration": 68,
    "start_time": "2021-12-12T05:38:29.841Z"
   },
   {
    "duration": 11,
    "start_time": "2021-12-12T05:38:35.908Z"
   },
   {
    "duration": 2439,
    "start_time": "2021-12-12T05:39:35.821Z"
   },
   {
    "duration": 3,
    "start_time": "2021-12-12T05:39:38.262Z"
   },
   {
    "duration": 350,
    "start_time": "2021-12-12T05:39:38.267Z"
   },
   {
    "duration": 11,
    "start_time": "2021-12-12T05:39:38.620Z"
   },
   {
    "duration": 7932,
    "start_time": "2021-12-12T05:39:38.632Z"
   },
   {
    "duration": 9824,
    "start_time": "2021-12-12T05:39:46.565Z"
   },
   {
    "duration": 5167,
    "start_time": "2021-12-12T05:39:56.390Z"
   },
   {
    "duration": 5443,
    "start_time": "2021-12-12T05:40:01.559Z"
   },
   {
    "duration": 6528,
    "start_time": "2021-12-12T05:40:07.004Z"
   },
   {
    "duration": 60,
    "start_time": "2021-12-12T05:40:13.533Z"
   },
   {
    "duration": 129,
    "start_time": "2021-12-12T05:40:13.594Z"
   },
   {
    "duration": 15,
    "start_time": "2021-12-12T05:40:13.725Z"
   },
   {
    "duration": 79,
    "start_time": "2021-12-12T05:40:13.741Z"
   },
   {
    "duration": 67,
    "start_time": "2021-12-12T05:40:13.822Z"
   },
   {
    "duration": 12,
    "start_time": "2021-12-12T05:40:13.891Z"
   },
   {
    "duration": 55,
    "start_time": "2021-12-12T05:40:13.904Z"
   },
   {
    "duration": 34,
    "start_time": "2021-12-12T05:40:13.961Z"
   },
   {
    "duration": 3,
    "start_time": "2021-12-12T05:40:13.996Z"
   },
   {
    "duration": 6,
    "start_time": "2021-12-12T05:40:14.000Z"
   },
   {
    "duration": 4,
    "start_time": "2021-12-12T05:40:14.007Z"
   },
   {
    "duration": 13,
    "start_time": "2021-12-12T05:40:14.012Z"
   },
   {
    "duration": 29,
    "start_time": "2021-12-12T05:40:14.026Z"
   },
   {
    "duration": 47,
    "start_time": "2021-12-12T05:40:14.057Z"
   },
   {
    "duration": 2405,
    "start_time": "2021-12-12T05:40:42.816Z"
   },
   {
    "duration": 3,
    "start_time": "2021-12-12T05:40:45.223Z"
   },
   {
    "duration": 343,
    "start_time": "2021-12-12T05:40:45.228Z"
   },
   {
    "duration": 12,
    "start_time": "2021-12-12T05:40:45.574Z"
   },
   {
    "duration": 7849,
    "start_time": "2021-12-12T05:40:45.587Z"
   },
   {
    "duration": 9820,
    "start_time": "2021-12-12T05:40:53.437Z"
   },
   {
    "duration": 5197,
    "start_time": "2021-12-12T05:41:03.258Z"
   },
   {
    "duration": 5430,
    "start_time": "2021-12-12T05:41:08.458Z"
   },
   {
    "duration": 6545,
    "start_time": "2021-12-12T05:41:13.889Z"
   },
   {
    "duration": 54,
    "start_time": "2021-12-12T05:41:20.436Z"
   },
   {
    "duration": 130,
    "start_time": "2021-12-12T05:41:20.492Z"
   },
   {
    "duration": 3,
    "start_time": "2021-12-12T05:41:20.624Z"
   },
   {
    "duration": 79,
    "start_time": "2021-12-12T05:41:20.628Z"
   },
   {
    "duration": 2,
    "start_time": "2021-12-12T05:41:20.709Z"
   },
   {
    "duration": 13,
    "start_time": "2021-12-12T05:41:20.712Z"
   },
   {
    "duration": 67,
    "start_time": "2021-12-12T05:41:20.727Z"
   },
   {
    "duration": 23,
    "start_time": "2021-12-12T05:41:20.796Z"
   },
   {
    "duration": 3,
    "start_time": "2021-12-12T05:41:20.821Z"
   },
   {
    "duration": 8,
    "start_time": "2021-12-12T05:41:20.825Z"
   },
   {
    "duration": 4,
    "start_time": "2021-12-12T05:41:20.834Z"
   },
   {
    "duration": 14,
    "start_time": "2021-12-12T05:41:20.839Z"
   },
   {
    "duration": 47,
    "start_time": "2021-12-12T05:41:20.854Z"
   },
   {
    "duration": 17,
    "start_time": "2021-12-12T05:41:20.904Z"
   },
   {
    "duration": 304,
    "start_time": "2021-12-12T05:42:07.288Z"
   },
   {
    "duration": 11,
    "start_time": "2021-12-12T05:42:14.901Z"
   },
   {
    "duration": 300,
    "start_time": "2021-12-12T05:42:15.781Z"
   },
   {
    "duration": 12,
    "start_time": "2021-12-12T05:42:16.722Z"
   },
   {
    "duration": 30,
    "start_time": "2021-12-12T05:43:07.984Z"
   },
   {
    "duration": 25,
    "start_time": "2021-12-12T05:46:41.753Z"
   },
   {
    "duration": 12,
    "start_time": "2021-12-12T05:46:43.057Z"
   },
   {
    "duration": 25,
    "start_time": "2021-12-12T05:46:56.835Z"
   },
   {
    "duration": 264,
    "start_time": "2021-12-12T05:48:30.389Z"
   },
   {
    "duration": 4,
    "start_time": "2021-12-12T05:48:51.844Z"
   },
   {
    "duration": 13,
    "start_time": "2021-12-12T05:48:54.737Z"
   },
   {
    "duration": 15,
    "start_time": "2021-12-12T05:50:27.910Z"
   },
   {
    "duration": 258,
    "start_time": "2021-12-12T05:50:28.806Z"
   },
   {
    "duration": 14,
    "start_time": "2021-12-12T05:50:29.224Z"
   },
   {
    "duration": 26,
    "start_time": "2021-12-12T05:50:32.789Z"
   },
   {
    "duration": 2401,
    "start_time": "2021-12-12T05:51:03.448Z"
   },
   {
    "duration": 3,
    "start_time": "2021-12-12T05:51:05.851Z"
   },
   {
    "duration": 348,
    "start_time": "2021-12-12T05:51:05.856Z"
   },
   {
    "duration": 11,
    "start_time": "2021-12-12T05:51:06.206Z"
   },
   {
    "duration": 7719,
    "start_time": "2021-12-12T05:51:06.219Z"
   },
   {
    "duration": 9857,
    "start_time": "2021-12-12T05:51:13.940Z"
   },
   {
    "duration": 4748,
    "start_time": "2021-12-12T05:51:23.798Z"
   },
   {
    "duration": 6321,
    "start_time": "2021-12-12T05:51:28.549Z"
   },
   {
    "duration": 6795,
    "start_time": "2021-12-12T05:51:34.872Z"
   },
   {
    "duration": 34,
    "start_time": "2021-12-12T05:51:41.669Z"
   },
   {
    "duration": 154,
    "start_time": "2021-12-12T05:51:41.705Z"
   },
   {
    "duration": 78,
    "start_time": "2021-12-12T05:51:41.861Z"
   },
   {
    "duration": 26,
    "start_time": "2021-12-12T05:51:41.941Z"
   },
   {
    "duration": 30,
    "start_time": "2021-12-12T05:51:41.968Z"
   },
   {
    "duration": 23,
    "start_time": "2021-12-12T05:51:41.999Z"
   },
   {
    "duration": 46,
    "start_time": "2021-12-12T05:51:42.024Z"
   },
   {
    "duration": 64,
    "start_time": "2021-12-12T05:51:42.072Z"
   },
   {
    "duration": 28,
    "start_time": "2021-12-12T05:51:42.138Z"
   },
   {
    "duration": 4,
    "start_time": "2021-12-12T05:51:42.167Z"
   },
   {
    "duration": 20,
    "start_time": "2021-12-12T05:51:42.188Z"
   },
   {
    "duration": 24,
    "start_time": "2021-12-12T05:51:42.209Z"
   },
   {
    "duration": 44,
    "start_time": "2021-12-12T05:51:42.235Z"
   },
   {
    "duration": 36,
    "start_time": "2021-12-12T05:51:42.281Z"
   },
   {
    "duration": 18,
    "start_time": "2021-12-12T05:51:42.319Z"
   },
   {
    "duration": 14,
    "start_time": "2021-12-12T05:53:07.722Z"
   },
   {
    "duration": 25,
    "start_time": "2021-12-12T05:53:23.846Z"
   },
   {
    "duration": 303,
    "start_time": "2021-12-12T05:54:12.838Z"
   },
   {
    "duration": 2381,
    "start_time": "2021-12-12T05:54:16.680Z"
   },
   {
    "duration": 3,
    "start_time": "2021-12-12T05:54:19.064Z"
   },
   {
    "duration": 361,
    "start_time": "2021-12-12T05:54:19.069Z"
   },
   {
    "duration": 12,
    "start_time": "2021-12-12T05:54:19.432Z"
   },
   {
    "duration": 8003,
    "start_time": "2021-12-12T05:54:19.445Z"
   },
   {
    "duration": 9946,
    "start_time": "2021-12-12T05:54:27.449Z"
   },
   {
    "duration": 5061,
    "start_time": "2021-12-12T05:54:37.397Z"
   },
   {
    "duration": 5549,
    "start_time": "2021-12-12T05:54:42.460Z"
   },
   {
    "duration": 7478,
    "start_time": "2021-12-12T05:54:48.011Z"
   },
   {
    "duration": 23,
    "start_time": "2021-12-12T05:54:55.490Z"
   },
   {
    "duration": 157,
    "start_time": "2021-12-12T05:54:55.514Z"
   },
   {
    "duration": 76,
    "start_time": "2021-12-12T05:54:55.673Z"
   },
   {
    "duration": 25,
    "start_time": "2021-12-12T05:54:55.751Z"
   },
   {
    "duration": 28,
    "start_time": "2021-12-12T05:54:55.777Z"
   },
   {
    "duration": 24,
    "start_time": "2021-12-12T05:54:55.806Z"
   },
   {
    "duration": 3,
    "start_time": "2021-12-12T05:54:55.831Z"
   },
   {
    "duration": 4,
    "start_time": "2021-12-12T05:54:55.836Z"
   },
   {
    "duration": 4,
    "start_time": "2021-12-12T05:54:55.841Z"
   },
   {
    "duration": 10,
    "start_time": "2021-12-12T05:54:55.847Z"
   },
   {
    "duration": 49,
    "start_time": "2021-12-12T05:54:55.859Z"
   },
   {
    "duration": 18,
    "start_time": "2021-12-12T05:54:55.909Z"
   },
   {
    "duration": 21,
    "start_time": "2021-12-12T05:56:30.879Z"
   },
   {
    "duration": 2398,
    "start_time": "2021-12-12T05:57:30.606Z"
   },
   {
    "duration": 3,
    "start_time": "2021-12-12T05:57:33.007Z"
   },
   {
    "duration": 362,
    "start_time": "2021-12-12T05:57:33.013Z"
   },
   {
    "duration": 3,
    "start_time": "2021-12-12T05:57:33.377Z"
   },
   {
    "duration": 21,
    "start_time": "2021-12-12T05:57:33.381Z"
   },
   {
    "duration": 34,
    "start_time": "2021-12-12T05:57:33.404Z"
   },
   {
    "duration": 63,
    "start_time": "2021-12-12T05:57:33.440Z"
   },
   {
    "duration": 25,
    "start_time": "2021-12-12T05:57:33.505Z"
   },
   {
    "duration": 86,
    "start_time": "2021-12-12T05:57:33.533Z"
   },
   {
    "duration": 90,
    "start_time": "2021-12-12T05:57:33.621Z"
   },
   {
    "duration": 168,
    "start_time": "2021-12-12T05:57:33.713Z"
   },
   {
    "duration": 88,
    "start_time": "2021-12-12T05:57:33.887Z"
   },
   {
    "duration": -3716,
    "start_time": "2021-12-12T05:57:37.693Z"
   },
   {
    "duration": -3716,
    "start_time": "2021-12-12T05:57:37.694Z"
   },
   {
    "duration": -3716,
    "start_time": "2021-12-12T05:57:37.695Z"
   },
   {
    "duration": -3715,
    "start_time": "2021-12-12T05:57:37.696Z"
   },
   {
    "duration": -3714,
    "start_time": "2021-12-12T05:57:37.696Z"
   },
   {
    "duration": -3714,
    "start_time": "2021-12-12T05:57:37.697Z"
   },
   {
    "duration": 70,
    "start_time": "2021-12-12T05:58:13.091Z"
   },
   {
    "duration": 2384,
    "start_time": "2021-12-12T05:58:16.609Z"
   },
   {
    "duration": 3,
    "start_time": "2021-12-12T05:58:18.996Z"
   },
   {
    "duration": 367,
    "start_time": "2021-12-12T05:58:19.001Z"
   },
   {
    "duration": 2,
    "start_time": "2021-12-12T05:58:19.370Z"
   },
   {
    "duration": 6,
    "start_time": "2021-12-12T05:58:19.374Z"
   },
   {
    "duration": 4,
    "start_time": "2021-12-12T05:58:19.382Z"
   },
   {
    "duration": 5,
    "start_time": "2021-12-12T05:58:19.387Z"
   },
   {
    "duration": 4,
    "start_time": "2021-12-12T05:58:19.393Z"
   },
   {
    "duration": 4,
    "start_time": "2021-12-12T05:58:19.399Z"
   },
   {
    "duration": 26,
    "start_time": "2021-12-12T05:58:19.404Z"
   },
   {
    "duration": 147,
    "start_time": "2021-12-12T05:58:19.431Z"
   },
   {
    "duration": 73,
    "start_time": "2021-12-12T05:58:19.579Z"
   },
   {
    "duration": 34,
    "start_time": "2021-12-12T05:58:19.654Z"
   },
   {
    "duration": 20,
    "start_time": "2021-12-12T05:58:19.690Z"
   },
   {
    "duration": 23,
    "start_time": "2021-12-12T05:58:19.712Z"
   },
   {
    "duration": 10,
    "start_time": "2021-12-12T05:58:19.737Z"
   },
   {
    "duration": 45,
    "start_time": "2021-12-12T05:58:19.749Z"
   },
   {
    "duration": 19,
    "start_time": "2021-12-12T05:58:19.795Z"
   },
   {
    "duration": 13,
    "start_time": "2021-12-12T05:58:55.683Z"
   },
   {
    "duration": 19,
    "start_time": "2021-12-12T06:01:15.865Z"
   },
   {
    "duration": 12,
    "start_time": "2021-12-12T06:05:13.851Z"
   },
   {
    "duration": 15,
    "start_time": "2021-12-12T06:10:03.954Z"
   },
   {
    "duration": 2549,
    "start_time": "2021-12-12T06:10:15.699Z"
   },
   {
    "duration": 4,
    "start_time": "2021-12-12T06:10:18.250Z"
   },
   {
    "duration": 357,
    "start_time": "2021-12-12T06:10:18.256Z"
   },
   {
    "duration": 2,
    "start_time": "2021-12-12T06:10:18.615Z"
   },
   {
    "duration": 9,
    "start_time": "2021-12-12T06:10:18.618Z"
   },
   {
    "duration": 4,
    "start_time": "2021-12-12T06:10:18.629Z"
   },
   {
    "duration": 4,
    "start_time": "2021-12-12T06:10:18.635Z"
   },
   {
    "duration": 5,
    "start_time": "2021-12-12T06:10:18.640Z"
   },
   {
    "duration": 7,
    "start_time": "2021-12-12T06:10:18.648Z"
   },
   {
    "duration": 26,
    "start_time": "2021-12-12T06:10:18.656Z"
   },
   {
    "duration": 130,
    "start_time": "2021-12-12T06:10:18.683Z"
   },
   {
    "duration": 80,
    "start_time": "2021-12-12T06:10:18.815Z"
   },
   {
    "duration": 27,
    "start_time": "2021-12-12T06:10:18.897Z"
   },
   {
    "duration": 20,
    "start_time": "2021-12-12T06:10:18.926Z"
   },
   {
    "duration": 12,
    "start_time": "2021-12-12T06:10:18.948Z"
   },
   {
    "duration": 39,
    "start_time": "2021-12-12T06:10:18.961Z"
   },
   {
    "duration": 11,
    "start_time": "2021-12-12T06:10:19.002Z"
   },
   {
    "duration": 13,
    "start_time": "2021-12-12T06:10:19.014Z"
   },
   {
    "duration": 84,
    "start_time": "2021-12-12T06:10:42.181Z"
   },
   {
    "duration": 309,
    "start_time": "2021-12-12T06:10:50.572Z"
   },
   {
    "duration": 304,
    "start_time": "2021-12-12T06:10:59.499Z"
   },
   {
    "duration": 14,
    "start_time": "2021-12-12T06:11:05.972Z"
   },
   {
    "duration": 11,
    "start_time": "2021-12-12T06:11:15.711Z"
   },
   {
    "duration": 15,
    "start_time": "2021-12-12T06:11:19.953Z"
   },
   {
    "duration": 11,
    "start_time": "2021-12-12T06:11:20.418Z"
   },
   {
    "duration": 8,
    "start_time": "2021-12-12T06:11:58.579Z"
   },
   {
    "duration": 11,
    "start_time": "2021-12-12T06:11:59.184Z"
   },
   {
    "duration": 2406,
    "start_time": "2021-12-12T06:17:42.112Z"
   },
   {
    "duration": 3,
    "start_time": "2021-12-12T06:17:44.520Z"
   },
   {
    "duration": 363,
    "start_time": "2021-12-12T06:17:44.525Z"
   },
   {
    "duration": 3,
    "start_time": "2021-12-12T06:17:44.889Z"
   },
   {
    "duration": 4,
    "start_time": "2021-12-12T06:17:44.893Z"
   },
   {
    "duration": 4,
    "start_time": "2021-12-12T06:17:44.899Z"
   },
   {
    "duration": 4,
    "start_time": "2021-12-12T06:17:44.904Z"
   },
   {
    "duration": 4,
    "start_time": "2021-12-12T06:17:44.910Z"
   },
   {
    "duration": 3,
    "start_time": "2021-12-12T06:17:44.916Z"
   },
   {
    "duration": 25,
    "start_time": "2021-12-12T06:17:44.920Z"
   },
   {
    "duration": 143,
    "start_time": "2021-12-12T06:17:44.947Z"
   },
   {
    "duration": 73,
    "start_time": "2021-12-12T06:17:45.091Z"
   },
   {
    "duration": 34,
    "start_time": "2021-12-12T06:17:45.166Z"
   },
   {
    "duration": 20,
    "start_time": "2021-12-12T06:17:45.201Z"
   },
   {
    "duration": 12,
    "start_time": "2021-12-12T06:17:45.222Z"
   },
   {
    "duration": 17,
    "start_time": "2021-12-12T06:17:45.236Z"
   },
   {
    "duration": 10,
    "start_time": "2021-12-12T06:17:45.255Z"
   },
   {
    "duration": 25,
    "start_time": "2021-12-12T06:17:45.266Z"
   },
   {
    "duration": 99,
    "start_time": "2021-12-12T06:17:45.292Z"
   },
   {
    "duration": 3233,
    "start_time": "2021-12-12T06:17:45.393Z"
   },
   {
    "duration": -231,
    "start_time": "2021-12-12T06:17:48.859Z"
   },
   {
    "duration": 17,
    "start_time": "2021-12-12T06:18:26.161Z"
   },
   {
    "duration": 12,
    "start_time": "2021-12-12T06:18:27.413Z"
   },
   {
    "duration": 19,
    "start_time": "2021-12-12T06:18:35.849Z"
   },
   {
    "duration": 27,
    "start_time": "2021-12-12T06:19:08.247Z"
   },
   {
    "duration": 20,
    "start_time": "2021-12-12T06:19:08.664Z"
   },
   {
    "duration": 12,
    "start_time": "2021-12-12T06:19:16.963Z"
   },
   {
    "duration": 17,
    "start_time": "2021-12-12T06:52:00.835Z"
   },
   {
    "duration": 17,
    "start_time": "2021-12-12T06:55:18.706Z"
   },
   {
    "duration": 2,
    "start_time": "2021-12-12T06:55:19.939Z"
   },
   {
    "duration": 268,
    "start_time": "2021-12-12T06:55:20.351Z"
   },
   {
    "duration": 17,
    "start_time": "2021-12-12T06:55:35.061Z"
   },
   {
    "duration": 77,
    "start_time": "2021-12-12T06:55:35.938Z"
   },
   {
    "duration": 23,
    "start_time": "2021-12-12T06:56:38.688Z"
   },
   {
    "duration": 17,
    "start_time": "2021-12-12T06:56:39.379Z"
   },
   {
    "duration": 304,
    "start_time": "2021-12-12T06:58:50.714Z"
   },
   {
    "duration": 30,
    "start_time": "2021-12-12T06:59:03.210Z"
   },
   {
    "duration": 18,
    "start_time": "2021-12-12T06:59:04.035Z"
   },
   {
    "duration": 11,
    "start_time": "2021-12-12T06:59:11.942Z"
   },
   {
    "duration": 12,
    "start_time": "2021-12-12T07:00:01.782Z"
   },
   {
    "duration": 7,
    "start_time": "2021-12-12T07:00:18.407Z"
   },
   {
    "duration": 10,
    "start_time": "2021-12-12T07:05:36.267Z"
   },
   {
    "duration": 12,
    "start_time": "2021-12-12T07:12:28.961Z"
   },
   {
    "duration": 258,
    "start_time": "2021-12-12T07:12:30.996Z"
   },
   {
    "duration": 14,
    "start_time": "2021-12-12T07:12:31.987Z"
   },
   {
    "duration": 2761,
    "start_time": "2021-12-12T07:12:42.848Z"
   },
   {
    "duration": 3,
    "start_time": "2021-12-12T07:12:45.611Z"
   },
   {
    "duration": 364,
    "start_time": "2021-12-12T07:12:45.616Z"
   },
   {
    "duration": 2,
    "start_time": "2021-12-12T07:12:45.982Z"
   },
   {
    "duration": 9,
    "start_time": "2021-12-12T07:12:45.986Z"
   },
   {
    "duration": 5,
    "start_time": "2021-12-12T07:12:45.996Z"
   },
   {
    "duration": 6,
    "start_time": "2021-12-12T07:12:46.002Z"
   },
   {
    "duration": 4,
    "start_time": "2021-12-12T07:12:46.011Z"
   },
   {
    "duration": 3,
    "start_time": "2021-12-12T07:12:46.018Z"
   },
   {
    "duration": 26,
    "start_time": "2021-12-12T07:12:46.023Z"
   },
   {
    "duration": 140,
    "start_time": "2021-12-12T07:12:46.051Z"
   },
   {
    "duration": 70,
    "start_time": "2021-12-12T07:12:46.193Z"
   },
   {
    "duration": 35,
    "start_time": "2021-12-12T07:12:46.265Z"
   },
   {
    "duration": 20,
    "start_time": "2021-12-12T07:12:46.302Z"
   },
   {
    "duration": 12,
    "start_time": "2021-12-12T07:12:46.324Z"
   },
   {
    "duration": 20,
    "start_time": "2021-12-12T07:12:46.338Z"
   },
   {
    "duration": 38,
    "start_time": "2021-12-12T07:12:46.359Z"
   },
   {
    "duration": 8,
    "start_time": "2021-12-12T07:12:46.399Z"
   },
   {
    "duration": 109,
    "start_time": "2021-12-12T07:12:46.409Z"
   },
   {
    "duration": 35,
    "start_time": "2021-12-12T07:12:46.519Z"
   },
   {
    "duration": 12,
    "start_time": "2021-12-12T07:12:46.555Z"
   },
   {
    "duration": 29,
    "start_time": "2021-12-12T07:12:46.568Z"
   },
   {
    "duration": 112,
    "start_time": "2021-12-12T07:12:46.600Z"
   },
   {
    "duration": 7,
    "start_time": "2021-12-12T07:12:46.713Z"
   },
   {
    "duration": 12,
    "start_time": "2021-12-12T07:12:46.722Z"
   },
   {
    "duration": 250,
    "start_time": "2021-12-12T07:12:46.736Z"
   },
   {
    "duration": -78,
    "start_time": "2021-12-12T07:12:47.065Z"
   },
   {
    "duration": 9,
    "start_time": "2021-12-12T07:13:07.248Z"
   },
   {
    "duration": 16,
    "start_time": "2021-12-12T07:13:08.259Z"
   },
   {
    "duration": 266,
    "start_time": "2021-12-12T07:13:51.729Z"
   },
   {
    "duration": 2434,
    "start_time": "2021-12-12T07:13:55.168Z"
   },
   {
    "duration": 3,
    "start_time": "2021-12-12T07:13:57.604Z"
   },
   {
    "duration": 357,
    "start_time": "2021-12-12T07:13:57.609Z"
   },
   {
    "duration": 2,
    "start_time": "2021-12-12T07:13:57.968Z"
   },
   {
    "duration": 4,
    "start_time": "2021-12-12T07:13:57.972Z"
   },
   {
    "duration": 4,
    "start_time": "2021-12-12T07:13:57.977Z"
   },
   {
    "duration": 5,
    "start_time": "2021-12-12T07:13:57.983Z"
   },
   {
    "duration": 4,
    "start_time": "2021-12-12T07:13:57.989Z"
   },
   {
    "duration": 3,
    "start_time": "2021-12-12T07:13:57.996Z"
   },
   {
    "duration": 27,
    "start_time": "2021-12-12T07:13:58.001Z"
   },
   {
    "duration": 128,
    "start_time": "2021-12-12T07:13:58.030Z"
   },
   {
    "duration": 82,
    "start_time": "2021-12-12T07:13:58.160Z"
   },
   {
    "duration": 25,
    "start_time": "2021-12-12T07:13:58.244Z"
   },
   {
    "duration": 29,
    "start_time": "2021-12-12T07:13:58.271Z"
   },
   {
    "duration": 13,
    "start_time": "2021-12-12T07:13:58.301Z"
   },
   {
    "duration": 19,
    "start_time": "2021-12-12T07:13:58.315Z"
   },
   {
    "duration": 11,
    "start_time": "2021-12-12T07:13:58.335Z"
   },
   {
    "duration": 9,
    "start_time": "2021-12-12T07:13:58.347Z"
   },
   {
    "duration": 121,
    "start_time": "2021-12-12T07:13:58.357Z"
   },
   {
    "duration": 40,
    "start_time": "2021-12-12T07:13:58.480Z"
   },
   {
    "duration": 12,
    "start_time": "2021-12-12T07:13:58.522Z"
   },
   {
    "duration": 19,
    "start_time": "2021-12-12T07:13:58.535Z"
   },
   {
    "duration": 128,
    "start_time": "2021-12-12T07:13:58.555Z"
   },
   {
    "duration": 7,
    "start_time": "2021-12-12T07:13:58.684Z"
   },
   {
    "duration": 11,
    "start_time": "2021-12-12T07:13:58.693Z"
   },
   {
    "duration": 8,
    "start_time": "2021-12-12T07:13:58.705Z"
   },
   {
    "duration": 15,
    "start_time": "2021-12-12T07:13:58.716Z"
   },
   {
    "duration": 10,
    "start_time": "2021-12-12T07:15:42.433Z"
   },
   {
    "duration": 20,
    "start_time": "2021-12-12T07:16:08.995Z"
   },
   {
    "duration": 12,
    "start_time": "2021-12-12T07:16:19.836Z"
   },
   {
    "duration": 16,
    "start_time": "2021-12-12T07:16:57.006Z"
   },
   {
    "duration": 9,
    "start_time": "2021-12-12T07:17:15.431Z"
   },
   {
    "duration": 266,
    "start_time": "2021-12-12T07:19:00.061Z"
   },
   {
    "duration": 20,
    "start_time": "2021-12-12T07:19:04.301Z"
   },
   {
    "duration": 13,
    "start_time": "2021-12-12T07:19:23.720Z"
   },
   {
    "duration": 11,
    "start_time": "2021-12-12T07:19:36.175Z"
   },
   {
    "duration": 10,
    "start_time": "2021-12-12T07:20:00.709Z"
   },
   {
    "duration": 251,
    "start_time": "2021-12-12T07:20:35.407Z"
   },
   {
    "duration": 4,
    "start_time": "2021-12-12T07:20:47.812Z"
   },
   {
    "duration": 4,
    "start_time": "2021-12-12T07:21:02.022Z"
   },
   {
    "duration": 4,
    "start_time": "2021-12-12T07:21:02.542Z"
   },
   {
    "duration": 4,
    "start_time": "2021-12-12T07:21:09.622Z"
   },
   {
    "duration": 4,
    "start_time": "2021-12-12T07:21:10.169Z"
   },
   {
    "duration": 2443,
    "start_time": "2021-12-12T07:23:24.901Z"
   },
   {
    "duration": 3,
    "start_time": "2021-12-12T07:23:27.346Z"
   },
   {
    "duration": 374,
    "start_time": "2021-12-12T07:23:27.351Z"
   },
   {
    "duration": 2,
    "start_time": "2021-12-12T07:23:27.727Z"
   },
   {
    "duration": 5,
    "start_time": "2021-12-12T07:23:27.730Z"
   },
   {
    "duration": 4,
    "start_time": "2021-12-12T07:23:27.737Z"
   },
   {
    "duration": 4,
    "start_time": "2021-12-12T07:23:27.742Z"
   },
   {
    "duration": 4,
    "start_time": "2021-12-12T07:23:27.748Z"
   },
   {
    "duration": 3,
    "start_time": "2021-12-12T07:23:27.754Z"
   },
   {
    "duration": 26,
    "start_time": "2021-12-12T07:23:27.759Z"
   },
   {
    "duration": 230,
    "start_time": "2021-12-12T07:23:27.787Z"
   },
   {
    "duration": 77,
    "start_time": "2021-12-12T07:23:28.019Z"
   },
   {
    "duration": 25,
    "start_time": "2021-12-12T07:23:28.097Z"
   },
   {
    "duration": 20,
    "start_time": "2021-12-12T07:23:28.124Z"
   },
   {
    "duration": 12,
    "start_time": "2021-12-12T07:23:28.145Z"
   },
   {
    "duration": 36,
    "start_time": "2021-12-12T07:23:28.159Z"
   },
   {
    "duration": 10,
    "start_time": "2021-12-12T07:23:28.197Z"
   },
   {
    "duration": 25,
    "start_time": "2021-12-12T07:23:28.208Z"
   },
   {
    "duration": 96,
    "start_time": "2021-12-12T07:23:28.235Z"
   },
   {
    "duration": 33,
    "start_time": "2021-12-12T07:23:28.333Z"
   },
   {
    "duration": 11,
    "start_time": "2021-12-12T07:23:28.368Z"
   },
   {
    "duration": 16,
    "start_time": "2021-12-12T07:23:28.388Z"
   },
   {
    "duration": 117,
    "start_time": "2021-12-12T07:23:28.407Z"
   },
   {
    "duration": 8,
    "start_time": "2021-12-12T07:23:28.525Z"
   },
   {
    "duration": 27,
    "start_time": "2021-12-12T07:23:28.535Z"
   },
   {
    "duration": 37,
    "start_time": "2021-12-12T07:23:28.564Z"
   },
   {
    "duration": 18,
    "start_time": "2021-12-12T07:23:28.603Z"
   },
   {
    "duration": 25,
    "start_time": "2021-12-12T07:23:28.622Z"
   },
   {
    "duration": 17,
    "start_time": "2021-12-12T08:26:08.821Z"
   },
   {
    "duration": 12,
    "start_time": "2021-12-12T08:29:11.884Z"
   },
   {
    "duration": 54,
    "start_time": "2021-12-12T08:37:02.081Z"
   },
   {
    "duration": 270,
    "start_time": "2021-12-12T08:40:03.701Z"
   },
   {
    "duration": 37,
    "start_time": "2021-12-12T08:40:08.469Z"
   },
   {
    "duration": 54,
    "start_time": "2021-12-12T08:51:37.641Z"
   },
   {
    "duration": 54,
    "start_time": "2021-12-12T08:52:18.033Z"
   },
   {
    "duration": 70,
    "start_time": "2021-12-12T09:11:23.375Z"
   },
   {
    "duration": 53,
    "start_time": "2021-12-12T09:11:35.613Z"
   },
   {
    "duration": 22,
    "start_time": "2021-12-12T09:12:22.303Z"
   },
   {
    "duration": 9,
    "start_time": "2021-12-12T09:18:27.449Z"
   },
   {
    "duration": 15,
    "start_time": "2021-12-12T09:18:32.840Z"
   },
   {
    "duration": 8,
    "start_time": "2021-12-12T09:18:54.675Z"
   },
   {
    "duration": 6,
    "start_time": "2021-12-12T09:19:05.398Z"
   },
   {
    "duration": 11,
    "start_time": "2021-12-12T09:20:50.562Z"
   },
   {
    "duration": 14,
    "start_time": "2021-12-12T09:21:10.454Z"
   },
   {
    "duration": 11,
    "start_time": "2021-12-12T09:21:47.359Z"
   },
   {
    "duration": 10,
    "start_time": "2021-12-12T09:21:58.882Z"
   },
   {
    "duration": 362,
    "start_time": "2021-12-12T09:22:30.823Z"
   },
   {
    "duration": 47,
    "start_time": "2021-12-12T09:22:51.696Z"
   },
   {
    "duration": 13,
    "start_time": "2021-12-12T09:30:45.441Z"
   },
   {
    "duration": 281,
    "start_time": "2021-12-12T09:32:11.556Z"
   },
   {
    "duration": 43,
    "start_time": "2021-12-12T09:32:31.719Z"
   },
   {
    "duration": 60,
    "start_time": "2021-12-12T09:55:36.956Z"
   },
   {
    "duration": 236,
    "start_time": "2021-12-12T10:05:49.625Z"
   },
   {
    "duration": 42,
    "start_time": "2021-12-12T10:05:58.005Z"
   },
   {
    "duration": 5,
    "start_time": "2021-12-12T10:05:59.084Z"
   },
   {
    "duration": 718,
    "start_time": "2021-12-12T10:06:50.034Z"
   },
   {
    "duration": 4,
    "start_time": "2021-12-12T10:07:12.093Z"
   },
   {
    "duration": 76,
    "start_time": "2021-12-12T10:08:06.930Z"
   },
   {
    "duration": 40,
    "start_time": "2021-12-12T10:08:13.170Z"
   },
   {
    "duration": 82,
    "start_time": "2021-12-12T10:09:12.239Z"
   },
   {
    "duration": 121,
    "start_time": "2021-12-12T10:10:20.075Z"
   },
   {
    "duration": 719,
    "start_time": "2021-12-12T10:10:37.814Z"
   },
   {
    "duration": 675,
    "start_time": "2021-12-12T10:10:44.226Z"
   },
   {
    "duration": 651,
    "start_time": "2021-12-12T10:11:05.401Z"
   },
   {
    "duration": 17,
    "start_time": "2021-12-12T10:13:08.523Z"
   },
   {
    "duration": 2896,
    "start_time": "2021-12-12T10:13:58.112Z"
   },
   {
    "duration": 656,
    "start_time": "2021-12-12T10:14:12.483Z"
   },
   {
    "duration": 1359,
    "start_time": "2021-12-12T10:14:35.280Z"
   },
   {
    "duration": 17,
    "start_time": "2021-12-12T10:23:21.252Z"
   },
   {
    "duration": 247,
    "start_time": "2021-12-12T10:23:59.044Z"
   },
   {
    "duration": 656,
    "start_time": "2021-12-12T10:24:13.312Z"
   },
   {
    "duration": 233,
    "start_time": "2021-12-12T10:24:38.497Z"
   },
   {
    "duration": 255,
    "start_time": "2021-12-12T10:24:55.677Z"
   },
   {
    "duration": 240,
    "start_time": "2021-12-12T10:25:03.629Z"
   },
   {
    "duration": 2938,
    "start_time": "2021-12-12T10:26:20.250Z"
   },
   {
    "duration": 3812,
    "start_time": "2021-12-12T10:26:33.090Z"
   },
   {
    "duration": 642,
    "start_time": "2021-12-12T10:27:38.852Z"
   },
   {
    "duration": 242,
    "start_time": "2021-12-12T10:28:04.057Z"
   },
   {
    "duration": 303,
    "start_time": "2021-12-12T10:28:13.928Z"
   },
   {
    "duration": 5,
    "start_time": "2021-12-12T10:28:43.099Z"
   },
   {
    "duration": 5,
    "start_time": "2021-12-12T10:28:53.545Z"
   },
   {
    "duration": 3213,
    "start_time": "2021-12-12T10:29:00.956Z"
   },
   {
    "duration": 5,
    "start_time": "2021-12-12T10:29:07.299Z"
   },
   {
    "duration": 5,
    "start_time": "2021-12-12T10:29:20.174Z"
   },
   {
    "duration": 242,
    "start_time": "2021-12-12T10:29:33.422Z"
   },
   {
    "duration": 6,
    "start_time": "2021-12-12T10:29:41.141Z"
   },
   {
    "duration": 445,
    "start_time": "2021-12-12T14:06:27.840Z"
   },
   {
    "duration": 33123,
    "start_time": "2021-12-12T14:06:32.881Z"
   },
   {
    "duration": 3594,
    "start_time": "2021-12-12T14:07:06.006Z"
   },
   {
    "duration": 383,
    "start_time": "2021-12-12T14:07:09.602Z"
   },
   {
    "duration": 2,
    "start_time": "2021-12-12T14:07:09.988Z"
   },
   {
    "duration": 3,
    "start_time": "2021-12-12T14:07:09.992Z"
   },
   {
    "duration": 4,
    "start_time": "2021-12-12T14:07:09.996Z"
   },
   {
    "duration": 4,
    "start_time": "2021-12-12T14:07:10.002Z"
   },
   {
    "duration": 4,
    "start_time": "2021-12-12T14:07:10.008Z"
   },
   {
    "duration": 5,
    "start_time": "2021-12-12T14:07:10.015Z"
   },
   {
    "duration": 26,
    "start_time": "2021-12-12T14:07:10.022Z"
   },
   {
    "duration": 179,
    "start_time": "2021-12-12T14:07:10.050Z"
   },
   {
    "duration": 81,
    "start_time": "2021-12-12T14:07:10.231Z"
   },
   {
    "duration": 26,
    "start_time": "2021-12-12T14:07:10.314Z"
   },
   {
    "duration": 21,
    "start_time": "2021-12-12T14:07:10.342Z"
   },
   {
    "duration": 31,
    "start_time": "2021-12-12T14:07:10.364Z"
   },
   {
    "duration": 18,
    "start_time": "2021-12-12T14:07:10.396Z"
   },
   {
    "duration": 11,
    "start_time": "2021-12-12T14:07:10.415Z"
   },
   {
    "duration": 10,
    "start_time": "2021-12-12T14:07:10.428Z"
   },
   {
    "duration": 115,
    "start_time": "2021-12-12T14:07:10.440Z"
   },
   {
    "duration": 38,
    "start_time": "2021-12-12T14:07:10.557Z"
   },
   {
    "duration": 11,
    "start_time": "2021-12-12T14:07:10.596Z"
   },
   {
    "duration": 15,
    "start_time": "2021-12-12T14:07:10.609Z"
   },
   {
    "duration": 116,
    "start_time": "2021-12-12T14:07:10.625Z"
   },
   {
    "duration": 7,
    "start_time": "2021-12-12T14:07:10.743Z"
   },
   {
    "duration": 12,
    "start_time": "2021-12-12T14:07:10.751Z"
   },
   {
    "duration": 24,
    "start_time": "2021-12-12T14:07:10.764Z"
   },
   {
    "duration": 8,
    "start_time": "2021-12-12T14:07:10.791Z"
   },
   {
    "duration": 10,
    "start_time": "2021-12-12T14:07:10.800Z"
   },
   {
    "duration": 88,
    "start_time": "2021-12-12T14:07:10.812Z"
   },
   {
    "duration": 58,
    "start_time": "2021-12-12T14:07:10.901Z"
   },
   {
    "duration": 6,
    "start_time": "2021-12-12T14:07:10.960Z"
   },
   {
    "duration": 67,
    "start_time": "2021-12-12T14:07:10.967Z"
   },
   {
    "duration": 59,
    "start_time": "2021-12-12T14:07:11.035Z"
   },
   {
    "duration": 5,
    "start_time": "2021-12-12T14:07:11.096Z"
   },
   {
    "duration": 3208,
    "start_time": "2021-12-12T14:07:11.102Z"
   },
   {
    "duration": 4,
    "start_time": "2021-12-12T14:07:14.312Z"
   },
   {
    "duration": 18,
    "start_time": "2021-12-12T14:07:14.318Z"
   },
   {
    "duration": 4645,
    "start_time": "2021-12-12T14:10:31.304Z"
   },
   {
    "duration": 3386,
    "start_time": "2021-12-12T14:11:02.267Z"
   },
   {
    "duration": 3176,
    "start_time": "2021-12-12T14:11:26.135Z"
   },
   {
    "duration": 3,
    "start_time": "2021-12-12T14:11:29.312Z"
   },
   {
    "duration": 374,
    "start_time": "2021-12-12T14:11:29.317Z"
   },
   {
    "duration": 3,
    "start_time": "2021-12-12T14:11:29.693Z"
   },
   {
    "duration": 5,
    "start_time": "2021-12-12T14:11:29.698Z"
   },
   {
    "duration": 5,
    "start_time": "2021-12-12T14:11:29.704Z"
   },
   {
    "duration": 7,
    "start_time": "2021-12-12T14:11:29.711Z"
   },
   {
    "duration": 6,
    "start_time": "2021-12-12T14:11:29.719Z"
   },
   {
    "duration": 3,
    "start_time": "2021-12-12T14:11:29.727Z"
   },
   {
    "duration": 24,
    "start_time": "2021-12-12T14:11:29.734Z"
   },
   {
    "duration": 143,
    "start_time": "2021-12-12T14:11:29.759Z"
   },
   {
    "duration": 83,
    "start_time": "2021-12-12T14:11:29.904Z"
   },
   {
    "duration": 34,
    "start_time": "2021-12-12T14:11:29.988Z"
   },
   {
    "duration": 25,
    "start_time": "2021-12-12T14:11:30.024Z"
   },
   {
    "duration": 13,
    "start_time": "2021-12-12T14:11:30.051Z"
   },
   {
    "duration": 42,
    "start_time": "2021-12-12T14:11:30.066Z"
   },
   {
    "duration": 13,
    "start_time": "2021-12-12T14:11:30.110Z"
   },
   {
    "duration": 13,
    "start_time": "2021-12-12T14:11:30.125Z"
   },
   {
    "duration": 134,
    "start_time": "2021-12-12T14:11:30.140Z"
   },
   {
    "duration": 42,
    "start_time": "2021-12-12T14:11:30.276Z"
   },
   {
    "duration": 13,
    "start_time": "2021-12-12T14:11:30.319Z"
   },
   {
    "duration": 21,
    "start_time": "2021-12-12T14:11:30.333Z"
   },
   {
    "duration": 119,
    "start_time": "2021-12-12T14:11:30.355Z"
   },
   {
    "duration": 7,
    "start_time": "2021-12-12T14:11:30.475Z"
   },
   {
    "duration": 17,
    "start_time": "2021-12-12T14:11:30.484Z"
   },
   {
    "duration": 16,
    "start_time": "2021-12-12T14:11:30.503Z"
   },
   {
    "duration": 14,
    "start_time": "2021-12-12T14:11:30.523Z"
   },
   {
    "duration": 13,
    "start_time": "2021-12-12T14:11:30.538Z"
   },
   {
    "duration": 92,
    "start_time": "2021-12-12T14:11:30.553Z"
   },
   {
    "duration": 68,
    "start_time": "2021-12-12T14:11:30.647Z"
   },
   {
    "duration": 6,
    "start_time": "2021-12-12T14:11:30.716Z"
   },
   {
    "duration": 52,
    "start_time": "2021-12-12T14:11:30.723Z"
   },
   {
    "duration": 48,
    "start_time": "2021-12-12T14:11:30.788Z"
   },
   {
    "duration": 4,
    "start_time": "2021-12-12T14:11:30.837Z"
   },
   {
    "duration": 3740,
    "start_time": "2021-12-12T14:11:30.842Z"
   },
   {
    "duration": -146,
    "start_time": "2021-12-12T14:11:34.730Z"
   },
   {
    "duration": -146,
    "start_time": "2021-12-12T14:11:34.731Z"
   },
   {
    "duration": -147,
    "start_time": "2021-12-12T14:11:34.733Z"
   },
   {
    "duration": 506,
    "start_time": "2021-12-12T14:12:43.916Z"
   },
   {
    "duration": 4,
    "start_time": "2021-12-12T14:13:06.567Z"
   },
   {
    "duration": 6,
    "start_time": "2021-12-12T14:16:30.810Z"
   },
   {
    "duration": 3,
    "start_time": "2021-12-12T14:16:46.660Z"
   },
   {
    "duration": 2,
    "start_time": "2021-12-12T14:17:52.300Z"
   },
   {
    "duration": 5,
    "start_time": "2021-12-12T14:17:52.646Z"
   },
   {
    "duration": 307,
    "start_time": "2021-12-12T14:18:29.324Z"
   },
   {
    "duration": 325,
    "start_time": "2021-12-12T14:18:39.403Z"
   },
   {
    "duration": 22,
    "start_time": "2021-12-12T14:18:51.771Z"
   },
   {
    "duration": 7,
    "start_time": "2021-12-12T14:19:00.300Z"
   },
   {
    "duration": 7,
    "start_time": "2021-12-12T14:19:15.684Z"
   },
   {
    "duration": 7,
    "start_time": "2021-12-12T14:19:39.452Z"
   },
   {
    "duration": 6,
    "start_time": "2021-12-12T14:19:47.357Z"
   },
   {
    "duration": 2910,
    "start_time": "2021-12-12T14:20:01.431Z"
   },
   {
    "duration": 4535,
    "start_time": "2021-12-12T14:20:29.480Z"
   },
   {
    "duration": 4841,
    "start_time": "2021-12-12T14:23:50.786Z"
   },
   {
    "duration": 3217,
    "start_time": "2021-12-12T14:24:02.593Z"
   },
   {
    "duration": 7,
    "start_time": "2021-12-12T14:24:27.436Z"
   },
   {
    "duration": 7,
    "start_time": "2021-12-12T14:25:17.412Z"
   },
   {
    "duration": 6,
    "start_time": "2021-12-12T14:25:22.482Z"
   },
   {
    "duration": 248,
    "start_time": "2021-12-12T14:25:24.942Z"
   },
   {
    "duration": 7,
    "start_time": "2021-12-12T14:25:27.337Z"
   },
   {
    "duration": 6,
    "start_time": "2021-12-12T14:25:45.106Z"
   },
   {
    "duration": 7,
    "start_time": "2021-12-12T14:25:51.764Z"
   },
   {
    "duration": 5504,
    "start_time": "2021-12-12T14:27:22.932Z"
   },
   {
    "duration": 3086,
    "start_time": "2021-12-12T14:37:56.775Z"
   },
   {
    "duration": 64,
    "start_time": "2021-12-12T14:38:01.522Z"
   },
   {
    "duration": 3223,
    "start_time": "2021-12-12T14:38:01.920Z"
   },
   {
    "duration": 2722,
    "start_time": "2021-12-12T14:38:08.034Z"
   },
   {
    "duration": 4,
    "start_time": "2021-12-12T14:38:10.759Z"
   },
   {
    "duration": 547,
    "start_time": "2021-12-12T14:38:10.765Z"
   },
   {
    "duration": 2,
    "start_time": "2021-12-12T14:38:11.314Z"
   },
   {
    "duration": 5,
    "start_time": "2021-12-12T14:38:11.318Z"
   },
   {
    "duration": 5,
    "start_time": "2021-12-12T14:38:11.324Z"
   },
   {
    "duration": 5,
    "start_time": "2021-12-12T14:38:11.331Z"
   },
   {
    "duration": 4,
    "start_time": "2021-12-12T14:38:11.339Z"
   },
   {
    "duration": 3,
    "start_time": "2021-12-12T14:38:11.345Z"
   },
   {
    "duration": 40,
    "start_time": "2021-12-12T14:38:11.350Z"
   },
   {
    "duration": 245,
    "start_time": "2021-12-12T14:38:11.392Z"
   },
   {
    "duration": 103,
    "start_time": "2021-12-12T14:38:11.639Z"
   },
   {
    "duration": 26,
    "start_time": "2021-12-12T14:38:11.744Z"
   },
   {
    "duration": 24,
    "start_time": "2021-12-12T14:38:11.772Z"
   },
   {
    "duration": 12,
    "start_time": "2021-12-12T14:38:11.798Z"
   },
   {
    "duration": 20,
    "start_time": "2021-12-12T14:38:11.812Z"
   },
   {
    "duration": 10,
    "start_time": "2021-12-12T14:38:11.834Z"
   },
   {
    "duration": 7,
    "start_time": "2021-12-12T14:38:11.846Z"
   },
   {
    "duration": 117,
    "start_time": "2021-12-12T14:38:11.855Z"
   },
   {
    "duration": 41,
    "start_time": "2021-12-12T14:38:11.974Z"
   },
   {
    "duration": 12,
    "start_time": "2021-12-12T14:38:12.017Z"
   },
   {
    "duration": 17,
    "start_time": "2021-12-12T14:38:12.030Z"
   },
   {
    "duration": 120,
    "start_time": "2021-12-12T14:38:12.050Z"
   },
   {
    "duration": 8,
    "start_time": "2021-12-12T14:38:12.172Z"
   },
   {
    "duration": 8,
    "start_time": "2021-12-12T14:38:12.188Z"
   },
   {
    "duration": 9,
    "start_time": "2021-12-12T14:38:12.198Z"
   },
   {
    "duration": 10,
    "start_time": "2021-12-12T14:38:12.209Z"
   },
   {
    "duration": 10,
    "start_time": "2021-12-12T14:38:12.220Z"
   },
   {
    "duration": 106,
    "start_time": "2021-12-12T14:38:12.232Z"
   },
   {
    "duration": 74,
    "start_time": "2021-12-12T14:38:12.340Z"
   },
   {
    "duration": 3219,
    "start_time": "2021-12-12T14:38:12.416Z"
   },
   {
    "duration": -252,
    "start_time": "2021-12-12T14:38:15.890Z"
   },
   {
    "duration": -252,
    "start_time": "2021-12-12T14:38:15.891Z"
   },
   {
    "duration": -252,
    "start_time": "2021-12-12T14:38:15.892Z"
   },
   {
    "duration": -278,
    "start_time": "2021-12-12T14:38:15.919Z"
   },
   {
    "duration": -279,
    "start_time": "2021-12-12T14:38:15.921Z"
   },
   {
    "duration": -278,
    "start_time": "2021-12-12T14:38:15.922Z"
   },
   {
    "duration": -278,
    "start_time": "2021-12-12T14:38:15.923Z"
   },
   {
    "duration": -291,
    "start_time": "2021-12-12T14:38:15.937Z"
   },
   {
    "duration": -290,
    "start_time": "2021-12-12T14:38:15.938Z"
   },
   {
    "duration": -314,
    "start_time": "2021-12-12T14:38:15.963Z"
   },
   {
    "duration": 4,
    "start_time": "2021-12-12T14:38:42.765Z"
   },
   {
    "duration": 3457,
    "start_time": "2021-12-12T14:39:45.723Z"
   },
   {
    "duration": 20772,
    "start_time": "2021-12-12T14:51:35.361Z"
   },
   {
    "duration": 3263,
    "start_time": "2021-12-12T14:52:06.857Z"
   },
   {
    "duration": 305,
    "start_time": "2021-12-12T14:52:46.917Z"
   },
   {
    "duration": 3080,
    "start_time": "2021-12-12T14:53:14.930Z"
   },
   {
    "duration": 290,
    "start_time": "2021-12-12T14:55:11.561Z"
   },
   {
    "duration": 2945,
    "start_time": "2021-12-12T14:55:27.496Z"
   },
   {
    "duration": 2325,
    "start_time": "2021-12-12T15:03:43.093Z"
   },
   {
    "duration": 3,
    "start_time": "2021-12-12T15:03:45.420Z"
   },
   {
    "duration": 373,
    "start_time": "2021-12-12T15:03:45.426Z"
   },
   {
    "duration": 2,
    "start_time": "2021-12-12T15:03:45.801Z"
   },
   {
    "duration": 6,
    "start_time": "2021-12-12T15:03:45.804Z"
   },
   {
    "duration": 5,
    "start_time": "2021-12-12T15:03:45.811Z"
   },
   {
    "duration": 5,
    "start_time": "2021-12-12T15:03:45.817Z"
   },
   {
    "duration": 5,
    "start_time": "2021-12-12T15:03:45.823Z"
   },
   {
    "duration": 5,
    "start_time": "2021-12-12T15:03:45.830Z"
   },
   {
    "duration": 25,
    "start_time": "2021-12-12T15:03:45.836Z"
   },
   {
    "duration": 129,
    "start_time": "2021-12-12T15:03:45.862Z"
   },
   {
    "duration": 72,
    "start_time": "2021-12-12T15:03:45.993Z"
   },
   {
    "duration": 37,
    "start_time": "2021-12-12T15:03:46.066Z"
   },
   {
    "duration": 21,
    "start_time": "2021-12-12T15:03:46.104Z"
   },
   {
    "duration": 13,
    "start_time": "2021-12-12T15:03:46.127Z"
   },
   {
    "duration": 19,
    "start_time": "2021-12-12T15:03:46.142Z"
   },
   {
    "duration": 30,
    "start_time": "2021-12-12T15:03:46.162Z"
   },
   {
    "duration": 8,
    "start_time": "2021-12-12T15:03:46.194Z"
   },
   {
    "duration": 100,
    "start_time": "2021-12-12T15:03:46.204Z"
   },
   {
    "duration": 34,
    "start_time": "2021-12-12T15:03:46.306Z"
   },
   {
    "duration": 11,
    "start_time": "2021-12-12T15:03:46.341Z"
   },
   {
    "duration": 37,
    "start_time": "2021-12-12T15:03:46.354Z"
   },
   {
    "duration": 109,
    "start_time": "2021-12-12T15:03:46.393Z"
   },
   {
    "duration": 7,
    "start_time": "2021-12-12T15:03:46.504Z"
   },
   {
    "duration": 10,
    "start_time": "2021-12-12T15:03:46.512Z"
   },
   {
    "duration": 11,
    "start_time": "2021-12-12T15:03:46.524Z"
   },
   {
    "duration": 85,
    "start_time": "2021-12-12T15:03:46.538Z"
   },
   {
    "duration": -117,
    "start_time": "2021-12-12T15:03:46.741Z"
   },
   {
    "duration": -117,
    "start_time": "2021-12-12T15:03:46.742Z"
   },
   {
    "duration": -117,
    "start_time": "2021-12-12T15:03:46.743Z"
   },
   {
    "duration": -118,
    "start_time": "2021-12-12T15:03:46.745Z"
   },
   {
    "duration": -118,
    "start_time": "2021-12-12T15:03:46.746Z"
   },
   {
    "duration": -118,
    "start_time": "2021-12-12T15:03:46.747Z"
   },
   {
    "duration": -118,
    "start_time": "2021-12-12T15:03:46.748Z"
   },
   {
    "duration": -124,
    "start_time": "2021-12-12T15:03:46.755Z"
   },
   {
    "duration": -125,
    "start_time": "2021-12-12T15:03:46.757Z"
   },
   {
    "duration": -125,
    "start_time": "2021-12-12T15:03:46.758Z"
   },
   {
    "duration": -125,
    "start_time": "2021-12-12T15:03:46.759Z"
   },
   {
    "duration": -126,
    "start_time": "2021-12-12T15:03:46.761Z"
   },
   {
    "duration": -126,
    "start_time": "2021-12-12T15:03:46.762Z"
   },
   {
    "duration": -126,
    "start_time": "2021-12-12T15:03:46.763Z"
   },
   {
    "duration": -126,
    "start_time": "2021-12-12T15:03:46.764Z"
   },
   {
    "duration": 4,
    "start_time": "2021-12-12T15:03:57.013Z"
   },
   {
    "duration": 2306,
    "start_time": "2021-12-12T15:04:01.330Z"
   },
   {
    "duration": 3,
    "start_time": "2021-12-12T15:04:03.638Z"
   },
   {
    "duration": 363,
    "start_time": "2021-12-12T15:04:03.643Z"
   },
   {
    "duration": 2,
    "start_time": "2021-12-12T15:04:04.008Z"
   },
   {
    "duration": 6,
    "start_time": "2021-12-12T15:04:04.012Z"
   },
   {
    "duration": 4,
    "start_time": "2021-12-12T15:04:04.020Z"
   },
   {
    "duration": 5,
    "start_time": "2021-12-12T15:04:04.025Z"
   },
   {
    "duration": 4,
    "start_time": "2021-12-12T15:04:04.031Z"
   },
   {
    "duration": 3,
    "start_time": "2021-12-12T15:04:04.038Z"
   },
   {
    "duration": 25,
    "start_time": "2021-12-12T15:04:04.042Z"
   },
   {
    "duration": 123,
    "start_time": "2021-12-12T15:04:04.068Z"
   },
   {
    "duration": 69,
    "start_time": "2021-12-12T15:04:04.193Z"
   },
   {
    "duration": 34,
    "start_time": "2021-12-12T15:04:04.263Z"
   },
   {
    "duration": 20,
    "start_time": "2021-12-12T15:04:04.299Z"
   },
   {
    "duration": 13,
    "start_time": "2021-12-12T15:04:04.321Z"
   },
   {
    "duration": 17,
    "start_time": "2021-12-12T15:04:04.335Z"
   },
   {
    "duration": 35,
    "start_time": "2021-12-12T15:04:04.354Z"
   },
   {
    "duration": 7,
    "start_time": "2021-12-12T15:04:04.390Z"
   },
   {
    "duration": 102,
    "start_time": "2021-12-12T15:04:04.398Z"
   },
   {
    "duration": 35,
    "start_time": "2021-12-12T15:04:04.501Z"
   },
   {
    "duration": 12,
    "start_time": "2021-12-12T15:04:04.537Z"
   },
   {
    "duration": 18,
    "start_time": "2021-12-12T15:04:04.550Z"
   },
   {
    "duration": 124,
    "start_time": "2021-12-12T15:04:04.569Z"
   },
   {
    "duration": 7,
    "start_time": "2021-12-12T15:04:04.694Z"
   },
   {
    "duration": 10,
    "start_time": "2021-12-12T15:04:04.703Z"
   },
   {
    "duration": 9,
    "start_time": "2021-12-12T15:04:04.714Z"
   },
   {
    "duration": 7,
    "start_time": "2021-12-12T15:04:04.726Z"
   },
   {
    "duration": 16,
    "start_time": "2021-12-12T15:04:04.734Z"
   },
   {
    "duration": 37,
    "start_time": "2021-12-12T15:04:04.752Z"
   },
   {
    "duration": 88,
    "start_time": "2021-12-12T15:04:04.791Z"
   },
   {
    "duration": 61,
    "start_time": "2021-12-12T15:04:04.881Z"
   },
   {
    "duration": 3,
    "start_time": "2021-12-12T15:04:04.944Z"
   },
   {
    "duration": 7,
    "start_time": "2021-12-12T15:04:04.949Z"
   },
   {
    "duration": 70,
    "start_time": "2021-12-12T15:04:04.957Z"
   },
   {
    "duration": 47,
    "start_time": "2021-12-12T15:04:05.028Z"
   },
   {
    "duration": 11,
    "start_time": "2021-12-12T15:04:05.077Z"
   },
   {
    "duration": 81,
    "start_time": "2021-12-12T15:04:05.090Z"
   },
   {
    "duration": -101,
    "start_time": "2021-12-12T15:04:05.273Z"
   },
   {
    "duration": -109,
    "start_time": "2021-12-12T15:04:05.282Z"
   },
   {
    "duration": -110,
    "start_time": "2021-12-12T15:04:05.284Z"
   },
   {
    "duration": -110,
    "start_time": "2021-12-12T15:04:05.285Z"
   },
   {
    "duration": -111,
    "start_time": "2021-12-12T15:04:05.287Z"
   },
   {
    "duration": 20,
    "start_time": "2021-12-12T15:04:09.422Z"
   },
   {
    "duration": 2942,
    "start_time": "2021-12-12T15:06:23.592Z"
   },
   {
    "duration": 2129,
    "start_time": "2021-12-12T15:06:43.430Z"
   },
   {
    "duration": 3075,
    "start_time": "2021-12-12T15:07:40.380Z"
   },
   {
    "duration": 1093,
    "start_time": "2021-12-12T15:07:54.726Z"
   },
   {
    "duration": 3321,
    "start_time": "2021-12-12T15:08:07.821Z"
   },
   {
    "duration": 3018,
    "start_time": "2021-12-12T15:08:19.614Z"
   },
   {
    "duration": 4391,
    "start_time": "2021-12-12T15:08:30.967Z"
   },
   {
    "duration": 3173,
    "start_time": "2021-12-12T15:08:40.055Z"
   },
   {
    "duration": 6,
    "start_time": "2021-12-12T15:12:48.246Z"
   },
   {
    "duration": 6,
    "start_time": "2021-12-12T15:12:56.040Z"
   },
   {
    "duration": 2905,
    "start_time": "2021-12-12T15:13:13.919Z"
   },
   {
    "duration": 7,
    "start_time": "2021-12-12T15:13:18.983Z"
   },
   {
    "duration": 4,
    "start_time": "2021-12-12T15:14:20.170Z"
   },
   {
    "duration": 253,
    "start_time": "2021-12-12T15:20:53.053Z"
   },
   {
    "duration": 3765,
    "start_time": "2021-12-12T15:23:55.607Z"
   },
   {
    "duration": 3064,
    "start_time": "2021-12-12T15:24:06.056Z"
   },
   {
    "duration": 276,
    "start_time": "2021-12-12T15:29:59.292Z"
   },
   {
    "duration": 241,
    "start_time": "2021-12-12T15:30:18.298Z"
   },
   {
    "duration": -210,
    "start_time": "2021-12-13T06:25:03.631Z"
   },
   {
    "duration": -220,
    "start_time": "2021-12-13T06:25:03.642Z"
   },
   {
    "duration": -220,
    "start_time": "2021-12-13T06:25:03.644Z"
   },
   {
    "duration": -220,
    "start_time": "2021-12-13T06:25:03.646Z"
   },
   {
    "duration": -221,
    "start_time": "2021-12-13T06:25:03.648Z"
   },
   {
    "duration": -221,
    "start_time": "2021-12-13T06:25:03.649Z"
   },
   {
    "duration": -221,
    "start_time": "2021-12-13T06:25:03.650Z"
   },
   {
    "duration": -221,
    "start_time": "2021-12-13T06:25:03.651Z"
   },
   {
    "duration": -222,
    "start_time": "2021-12-13T06:25:03.653Z"
   },
   {
    "duration": -223,
    "start_time": "2021-12-13T06:25:03.655Z"
   },
   {
    "duration": -229,
    "start_time": "2021-12-13T06:25:03.662Z"
   },
   {
    "duration": -229,
    "start_time": "2021-12-13T06:25:03.663Z"
   },
   {
    "duration": -229,
    "start_time": "2021-12-13T06:25:03.664Z"
   },
   {
    "duration": -229,
    "start_time": "2021-12-13T06:25:03.665Z"
   },
   {
    "duration": -251,
    "start_time": "2021-12-13T06:25:03.688Z"
   },
   {
    "duration": -250,
    "start_time": "2021-12-13T06:25:03.689Z"
   },
   {
    "duration": -250,
    "start_time": "2021-12-13T06:25:03.690Z"
   },
   {
    "duration": -251,
    "start_time": "2021-12-13T06:25:03.692Z"
   },
   {
    "duration": -251,
    "start_time": "2021-12-13T06:25:03.693Z"
   },
   {
    "duration": -252,
    "start_time": "2021-12-13T06:25:03.695Z"
   },
   {
    "duration": -252,
    "start_time": "2021-12-13T06:25:03.696Z"
   },
   {
    "duration": -253,
    "start_time": "2021-12-13T06:25:03.697Z"
   },
   {
    "duration": -254,
    "start_time": "2021-12-13T06:25:03.699Z"
   },
   {
    "duration": -235,
    "start_time": "2021-12-13T06:25:03.700Z"
   },
   {
    "duration": -235,
    "start_time": "2021-12-13T06:25:03.701Z"
   },
   {
    "duration": -235,
    "start_time": "2021-12-13T06:25:03.702Z"
   },
   {
    "duration": -235,
    "start_time": "2021-12-13T06:25:03.704Z"
   },
   {
    "duration": -243,
    "start_time": "2021-12-13T06:25:03.713Z"
   },
   {
    "duration": -243,
    "start_time": "2021-12-13T06:25:03.714Z"
   },
   {
    "duration": -244,
    "start_time": "2021-12-13T06:25:03.716Z"
   },
   {
    "duration": -244,
    "start_time": "2021-12-13T06:25:03.717Z"
   },
   {
    "duration": -245,
    "start_time": "2021-12-13T06:25:03.719Z"
   },
   {
    "duration": -244,
    "start_time": "2021-12-13T06:25:03.720Z"
   },
   {
    "duration": -272,
    "start_time": "2021-12-13T06:25:03.749Z"
   },
   {
    "duration": -277,
    "start_time": "2021-12-13T06:25:03.755Z"
   },
   {
    "duration": -278,
    "start_time": "2021-12-13T06:25:03.757Z"
   },
   {
    "duration": -278,
    "start_time": "2021-12-13T06:25:03.758Z"
   },
   {
    "duration": -278,
    "start_time": "2021-12-13T06:25:03.760Z"
   },
   {
    "duration": -278,
    "start_time": "2021-12-13T06:25:03.761Z"
   },
   {
    "duration": -278,
    "start_time": "2021-12-13T06:25:03.762Z"
   },
   {
    "duration": -278,
    "start_time": "2021-12-13T06:25:03.763Z"
   },
   {
    "duration": -279,
    "start_time": "2021-12-13T06:25:03.765Z"
   },
   {
    "duration": -279,
    "start_time": "2021-12-13T06:25:03.766Z"
   },
   {
    "duration": 3,
    "start_time": "2021-12-13T06:25:23.045Z"
   },
   {
    "duration": 6,
    "start_time": "2021-12-13T06:25:23.051Z"
   },
   {
    "duration": 391,
    "start_time": "2021-12-13T06:25:23.059Z"
   },
   {
    "duration": 2,
    "start_time": "2021-12-13T06:25:23.452Z"
   },
   {
    "duration": 10,
    "start_time": "2021-12-13T06:25:23.456Z"
   },
   {
    "duration": 6,
    "start_time": "2021-12-13T06:25:23.468Z"
   },
   {
    "duration": 5,
    "start_time": "2021-12-13T06:25:23.476Z"
   },
   {
    "duration": 5,
    "start_time": "2021-12-13T06:25:23.484Z"
   },
   {
    "duration": 5,
    "start_time": "2021-12-13T06:25:23.491Z"
   },
   {
    "duration": 30,
    "start_time": "2021-12-13T06:25:23.498Z"
   },
   {
    "duration": 80,
    "start_time": "2021-12-13T06:25:23.530Z"
   },
   {
    "duration": 29,
    "start_time": "2021-12-13T06:25:23.612Z"
   },
   {
    "duration": 31,
    "start_time": "2021-12-13T06:25:23.643Z"
   },
   {
    "duration": 14,
    "start_time": "2021-12-13T06:25:23.676Z"
   },
   {
    "duration": 23,
    "start_time": "2021-12-13T06:25:23.692Z"
   },
   {
    "duration": 12,
    "start_time": "2021-12-13T06:25:23.717Z"
   },
   {
    "duration": 36,
    "start_time": "2021-12-13T06:25:23.730Z"
   },
   {
    "duration": 36,
    "start_time": "2021-12-13T06:25:23.768Z"
   },
   {
    "duration": 12,
    "start_time": "2021-12-13T06:25:23.805Z"
   },
   {
    "duration": 24,
    "start_time": "2021-12-13T06:25:23.819Z"
   },
   {
    "duration": 32,
    "start_time": "2021-12-13T06:25:23.864Z"
   },
   {
    "duration": 9,
    "start_time": "2021-12-13T06:25:23.898Z"
   },
   {
    "duration": 9,
    "start_time": "2021-12-13T06:25:23.911Z"
   },
   {
    "duration": 9,
    "start_time": "2021-12-13T06:25:23.923Z"
   },
   {
    "duration": 5,
    "start_time": "2021-12-13T06:25:23.964Z"
   },
   {
    "duration": 11,
    "start_time": "2021-12-13T06:25:23.971Z"
   },
   {
    "duration": 13,
    "start_time": "2021-12-13T06:25:23.984Z"
   },
   {
    "duration": 77,
    "start_time": "2021-12-13T06:25:23.999Z"
   },
   {
    "duration": 54,
    "start_time": "2021-12-13T06:25:24.078Z"
   },
   {
    "duration": 2566,
    "start_time": "2021-12-13T06:25:24.133Z"
   },
   {
    "duration": -180,
    "start_time": "2021-12-13T06:25:26.881Z"
   },
   {
    "duration": -180,
    "start_time": "2021-12-13T06:25:26.882Z"
   },
   {
    "duration": -181,
    "start_time": "2021-12-13T06:25:26.884Z"
   },
   {
    "duration": -189,
    "start_time": "2021-12-13T06:25:26.893Z"
   },
   {
    "duration": -190,
    "start_time": "2021-12-13T06:25:26.895Z"
   },
   {
    "duration": -190,
    "start_time": "2021-12-13T06:25:26.896Z"
   },
   {
    "duration": -191,
    "start_time": "2021-12-13T06:25:26.898Z"
   },
   {
    "duration": -191,
    "start_time": "2021-12-13T06:25:26.899Z"
   },
   {
    "duration": -217,
    "start_time": "2021-12-13T06:25:26.926Z"
   },
   {
    "duration": -218,
    "start_time": "2021-12-13T06:25:26.928Z"
   },
   {
    "duration": -218,
    "start_time": "2021-12-13T06:25:26.929Z"
   },
   {
    "duration": -219,
    "start_time": "2021-12-13T06:25:26.931Z"
   },
   {
    "duration": -219,
    "start_time": "2021-12-13T06:25:26.932Z"
   },
   {
    "duration": 10,
    "start_time": "2021-12-13T06:25:50.962Z"
   },
   {
    "duration": 17,
    "start_time": "2021-12-13T06:26:00.110Z"
   },
   {
    "duration": 20,
    "start_time": "2021-12-13T06:26:07.497Z"
   },
   {
    "duration": 17,
    "start_time": "2021-12-13T06:26:28.458Z"
   },
   {
    "duration": 345,
    "start_time": "2021-12-13T06:29:36.474Z"
   },
   {
    "duration": 4,
    "start_time": "2021-12-13T06:29:47.682Z"
   },
   {
    "duration": 4,
    "start_time": "2021-12-13T06:30:18.142Z"
   },
   {
    "duration": 4,
    "start_time": "2021-12-13T06:30:21.864Z"
   },
   {
    "duration": 2,
    "start_time": "2021-12-13T06:30:45.513Z"
   },
   {
    "duration": 11,
    "start_time": "2021-12-13T06:30:45.517Z"
   },
   {
    "duration": 392,
    "start_time": "2021-12-13T06:30:45.530Z"
   },
   {
    "duration": 3,
    "start_time": "2021-12-13T06:30:45.924Z"
   },
   {
    "duration": 7,
    "start_time": "2021-12-13T06:30:45.929Z"
   },
   {
    "duration": 6,
    "start_time": "2021-12-13T06:30:45.937Z"
   },
   {
    "duration": 7,
    "start_time": "2021-12-13T06:30:45.945Z"
   },
   {
    "duration": 8,
    "start_time": "2021-12-13T06:30:45.954Z"
   },
   {
    "duration": 4,
    "start_time": "2021-12-13T06:30:45.964Z"
   },
   {
    "duration": 28,
    "start_time": "2021-12-13T06:30:45.969Z"
   },
   {
    "duration": 88,
    "start_time": "2021-12-13T06:30:45.998Z"
   },
   {
    "duration": 27,
    "start_time": "2021-12-13T06:30:46.088Z"
   },
   {
    "duration": 21,
    "start_time": "2021-12-13T06:30:46.117Z"
   },
   {
    "duration": 28,
    "start_time": "2021-12-13T06:30:46.140Z"
   },
   {
    "duration": 19,
    "start_time": "2021-12-13T06:30:46.170Z"
   },
   {
    "duration": 12,
    "start_time": "2021-12-13T06:30:46.190Z"
   },
   {
    "duration": 10,
    "start_time": "2021-12-13T06:30:46.204Z"
   },
   {
    "duration": 56,
    "start_time": "2021-12-13T06:30:46.215Z"
   },
   {
    "duration": 13,
    "start_time": "2021-12-13T06:30:46.273Z"
   },
   {
    "duration": 18,
    "start_time": "2021-12-13T06:30:46.288Z"
   },
   {
    "duration": 56,
    "start_time": "2021-12-13T06:30:46.308Z"
   },
   {
    "duration": 8,
    "start_time": "2021-12-13T06:30:46.366Z"
   },
   {
    "duration": 9,
    "start_time": "2021-12-13T06:30:46.378Z"
   },
   {
    "duration": 8,
    "start_time": "2021-12-13T06:30:46.390Z"
   },
   {
    "duration": 5,
    "start_time": "2021-12-13T06:30:46.399Z"
   },
   {
    "duration": 11,
    "start_time": "2021-12-13T06:30:46.405Z"
   },
   {
    "duration": 12,
    "start_time": "2021-12-13T06:30:46.418Z"
   },
   {
    "duration": 84,
    "start_time": "2021-12-13T06:30:46.432Z"
   },
   {
    "duration": 67,
    "start_time": "2021-12-13T06:30:46.518Z"
   },
   {
    "duration": 6,
    "start_time": "2021-12-13T06:30:46.586Z"
   },
   {
    "duration": 43,
    "start_time": "2021-12-13T06:30:46.594Z"
   },
   {
    "duration": 58,
    "start_time": "2021-12-13T06:30:46.638Z"
   },
   {
    "duration": 3150,
    "start_time": "2021-12-13T06:30:46.697Z"
   },
   {
    "duration": -160,
    "start_time": "2021-12-13T06:30:50.009Z"
   },
   {
    "duration": -160,
    "start_time": "2021-12-13T06:30:50.010Z"
   },
   {
    "duration": -186,
    "start_time": "2021-12-13T06:30:50.037Z"
   },
   {
    "duration": -190,
    "start_time": "2021-12-13T06:30:50.042Z"
   },
   {
    "duration": -190,
    "start_time": "2021-12-13T06:30:50.043Z"
   },
   {
    "duration": -192,
    "start_time": "2021-12-13T06:30:50.045Z"
   },
   {
    "duration": -191,
    "start_time": "2021-12-13T06:30:50.046Z"
   },
   {
    "duration": -192,
    "start_time": "2021-12-13T06:30:50.048Z"
   },
   {
    "duration": -192,
    "start_time": "2021-12-13T06:30:50.049Z"
   },
   {
    "duration": 5,
    "start_time": "2021-12-13T06:37:35.725Z"
   },
   {
    "duration": 8,
    "start_time": "2021-12-13T06:40:52.300Z"
   },
   {
    "duration": 17,
    "start_time": "2021-12-13T06:40:53.144Z"
   },
   {
    "duration": 692,
    "start_time": "2021-12-13T06:41:58.193Z"
   },
   {
    "duration": 2957,
    "start_time": "2021-12-13T06:43:13.765Z"
   },
   {
    "duration": 669,
    "start_time": "2021-12-13T06:43:27.639Z"
   },
   {
    "duration": 85,
    "start_time": "2021-12-13T06:48:25.760Z"
   },
   {
    "duration": 1396,
    "start_time": "2021-12-13T06:48:35.775Z"
   },
   {
    "duration": 1440,
    "start_time": "2021-12-13T06:48:59.238Z"
   },
   {
    "duration": 74,
    "start_time": "2021-12-13T06:49:06.049Z"
   },
   {
    "duration": 1435,
    "start_time": "2021-12-13T06:49:25.634Z"
   },
   {
    "duration": 1452,
    "start_time": "2021-12-13T06:49:32.531Z"
   },
   {
    "duration": 1466,
    "start_time": "2021-12-13T06:51:13.730Z"
   },
   {
    "duration": 2208,
    "start_time": "2021-12-13T06:51:58.384Z"
   },
   {
    "duration": 737,
    "start_time": "2021-12-13T06:56:38.938Z"
   },
   {
    "duration": 5,
    "start_time": "2021-12-13T06:56:49.159Z"
   },
   {
    "duration": 2548,
    "start_time": "2021-12-13T06:58:34.190Z"
   },
   {
    "duration": 54,
    "start_time": "2021-12-13T06:58:38.271Z"
   },
   {
    "duration": 2469,
    "start_time": "2021-12-13T06:58:38.794Z"
   },
   {
    "duration": 3,
    "start_time": "2021-12-13T06:58:42.177Z"
   },
   {
    "duration": 8,
    "start_time": "2021-12-13T06:58:42.182Z"
   },
   {
    "duration": 425,
    "start_time": "2021-12-13T06:58:42.192Z"
   },
   {
    "duration": 2,
    "start_time": "2021-12-13T06:58:42.619Z"
   },
   {
    "duration": 6,
    "start_time": "2021-12-13T06:58:42.623Z"
   },
   {
    "duration": 6,
    "start_time": "2021-12-13T06:58:42.630Z"
   },
   {
    "duration": 7,
    "start_time": "2021-12-13T06:58:42.638Z"
   },
   {
    "duration": 6,
    "start_time": "2021-12-13T06:58:42.647Z"
   },
   {
    "duration": 4,
    "start_time": "2021-12-13T06:58:42.656Z"
   },
   {
    "duration": 31,
    "start_time": "2021-12-13T06:58:42.663Z"
   },
   {
    "duration": 92,
    "start_time": "2021-12-13T06:58:42.696Z"
   },
   {
    "duration": 30,
    "start_time": "2021-12-13T06:58:42.790Z"
   },
   {
    "duration": 23,
    "start_time": "2021-12-13T06:58:42.822Z"
   },
   {
    "duration": 27,
    "start_time": "2021-12-13T06:58:42.847Z"
   },
   {
    "duration": 22,
    "start_time": "2021-12-13T06:58:42.875Z"
   },
   {
    "duration": 13,
    "start_time": "2021-12-13T06:58:42.899Z"
   },
   {
    "duration": 15,
    "start_time": "2021-12-13T06:58:42.913Z"
   },
   {
    "duration": 67,
    "start_time": "2021-12-13T06:58:42.930Z"
   },
   {
    "duration": 13,
    "start_time": "2021-12-13T06:58:42.999Z"
   },
   {
    "duration": 28,
    "start_time": "2021-12-13T06:58:43.014Z"
   },
   {
    "duration": 41,
    "start_time": "2021-12-13T06:58:43.043Z"
   },
   {
    "duration": 9,
    "start_time": "2021-12-13T06:58:43.086Z"
   },
   {
    "duration": 23,
    "start_time": "2021-12-13T06:58:43.096Z"
   },
   {
    "duration": 13,
    "start_time": "2021-12-13T06:58:43.120Z"
   },
   {
    "duration": 22,
    "start_time": "2021-12-13T06:58:43.135Z"
   },
   {
    "duration": 23,
    "start_time": "2021-12-13T06:58:43.159Z"
   },
   {
    "duration": 20,
    "start_time": "2021-12-13T06:58:43.186Z"
   },
   {
    "duration": 77,
    "start_time": "2021-12-13T06:58:43.208Z"
   },
   {
    "duration": 48,
    "start_time": "2021-12-13T06:58:43.287Z"
   },
   {
    "duration": 2287,
    "start_time": "2021-12-13T06:58:43.337Z"
   },
   {
    "duration": -176,
    "start_time": "2021-12-13T06:58:45.802Z"
   },
   {
    "duration": -176,
    "start_time": "2021-12-13T06:58:45.803Z"
   },
   {
    "duration": -177,
    "start_time": "2021-12-13T06:58:45.804Z"
   },
   {
    "duration": -177,
    "start_time": "2021-12-13T06:58:45.805Z"
   },
   {
    "duration": -178,
    "start_time": "2021-12-13T06:58:45.807Z"
   },
   {
    "duration": -178,
    "start_time": "2021-12-13T06:58:45.808Z"
   },
   {
    "duration": -178,
    "start_time": "2021-12-13T06:58:45.809Z"
   },
   {
    "duration": -179,
    "start_time": "2021-12-13T06:58:45.810Z"
   },
   {
    "duration": -179,
    "start_time": "2021-12-13T06:58:45.811Z"
   },
   {
    "duration": -179,
    "start_time": "2021-12-13T06:58:45.812Z"
   },
   {
    "duration": -180,
    "start_time": "2021-12-13T06:58:45.814Z"
   },
   {
    "duration": -180,
    "start_time": "2021-12-13T06:58:45.815Z"
   },
   {
    "duration": 4,
    "start_time": "2021-12-13T06:58:55.045Z"
   },
   {
    "duration": 3640,
    "start_time": "2021-12-13T07:00:50.235Z"
   },
   {
    "duration": 3370,
    "start_time": "2021-12-13T07:01:16.579Z"
   },
   {
    "duration": 3478,
    "start_time": "2021-12-13T07:02:23.269Z"
   },
   {
    "duration": 4114,
    "start_time": "2021-12-13T07:02:41.638Z"
   },
   {
    "duration": 20,
    "start_time": "2021-12-13T07:03:55.743Z"
   },
   {
    "duration": 42,
    "start_time": "2021-12-13T07:05:05.230Z"
   },
   {
    "duration": 34,
    "start_time": "2021-12-13T07:05:09.379Z"
   },
   {
    "duration": 3768,
    "start_time": "2021-12-13T07:08:25.924Z"
   },
   {
    "duration": 5,
    "start_time": "2021-12-13T07:11:02.416Z"
   },
   {
    "duration": 80,
    "start_time": "2021-12-13T07:11:07.693Z"
   },
   {
    "duration": 76,
    "start_time": "2021-12-13T07:11:28.062Z"
   },
   {
    "duration": 3721,
    "start_time": "2021-12-13T07:11:37.735Z"
   },
   {
    "duration": 3538,
    "start_time": "2021-12-13T07:11:55.353Z"
   },
   {
    "duration": 3035,
    "start_time": "2021-12-13T07:12:19.422Z"
   },
   {
    "duration": 3412,
    "start_time": "2021-12-13T07:13:01.416Z"
   },
   {
    "duration": 3501,
    "start_time": "2021-12-13T07:16:10.991Z"
   },
   {
    "duration": 3613,
    "start_time": "2021-12-13T07:16:27.620Z"
   },
   {
    "duration": 4014,
    "start_time": "2021-12-13T07:16:39.394Z"
   },
   {
    "duration": 18,
    "start_time": "2021-12-13T07:17:46.426Z"
   },
   {
    "duration": 15,
    "start_time": "2021-12-13T07:17:58.507Z"
   },
   {
    "duration": 3781,
    "start_time": "2021-12-13T07:20:25.483Z"
   },
   {
    "duration": 3569,
    "start_time": "2021-12-13T07:22:05.898Z"
   },
   {
    "duration": 4,
    "start_time": "2021-12-13T07:22:59.000Z"
   },
   {
    "duration": 4,
    "start_time": "2021-12-13T07:23:05.988Z"
   },
   {
    "duration": 4224,
    "start_time": "2021-12-13T07:26:11.187Z"
   },
   {
    "duration": 4034,
    "start_time": "2021-12-13T07:26:57.251Z"
   },
   {
    "duration": 3946,
    "start_time": "2021-12-13T07:27:38.484Z"
   },
   {
    "duration": 4065,
    "start_time": "2021-12-13T07:28:12.535Z"
   },
   {
    "duration": 3,
    "start_time": "2021-12-13T08:05:46.308Z"
   },
   {
    "duration": 4,
    "start_time": "2021-12-13T08:05:50.827Z"
   },
   {
    "duration": 244,
    "start_time": "2021-12-13T08:06:15.352Z"
   },
   {
    "duration": 3,
    "start_time": "2021-12-13T08:06:35.128Z"
   },
   {
    "duration": 4,
    "start_time": "2021-12-13T08:06:40.184Z"
   },
   {
    "duration": 3,
    "start_time": "2021-12-13T08:07:05.948Z"
   },
   {
    "duration": 4,
    "start_time": "2021-12-13T08:07:07.132Z"
   },
   {
    "duration": 238,
    "start_time": "2021-12-13T08:07:15.753Z"
   },
   {
    "duration": 4,
    "start_time": "2021-12-13T08:07:16.116Z"
   },
   {
    "duration": 2,
    "start_time": "2021-12-13T08:07:34.333Z"
   },
   {
    "duration": 4,
    "start_time": "2021-12-13T08:07:36.152Z"
   },
   {
    "duration": 14,
    "start_time": "2021-12-13T08:08:00.077Z"
   },
   {
    "duration": 2,
    "start_time": "2021-12-13T08:08:17.905Z"
   },
   {
    "duration": 3,
    "start_time": "2021-12-13T08:08:18.272Z"
   },
   {
    "duration": 3,
    "start_time": "2021-12-13T08:08:47.314Z"
   },
   {
    "duration": 4,
    "start_time": "2021-12-13T08:08:47.696Z"
   },
   {
    "duration": 3,
    "start_time": "2021-12-13T08:08:59.278Z"
   },
   {
    "duration": 4,
    "start_time": "2021-12-13T08:08:59.622Z"
   },
   {
    "duration": 290,
    "start_time": "2021-12-13T08:10:46.284Z"
   },
   {
    "duration": 8,
    "start_time": "2021-12-13T08:11:58.748Z"
   },
   {
    "duration": 4,
    "start_time": "2021-12-13T08:12:48.579Z"
   },
   {
    "duration": 10,
    "start_time": "2021-12-13T08:12:58.802Z"
   },
   {
    "duration": 10,
    "start_time": "2021-12-13T08:13:04.976Z"
   },
   {
    "duration": 24,
    "start_time": "2021-12-13T08:14:02.523Z"
   },
   {
    "duration": 22,
    "start_time": "2021-12-13T08:14:40.147Z"
   },
   {
    "duration": 22,
    "start_time": "2021-12-13T08:15:11.935Z"
   },
   {
    "duration": 221,
    "start_time": "2021-12-13T08:16:25.641Z"
   },
   {
    "duration": 85,
    "start_time": "2021-12-13T08:16:29.059Z"
   },
   {
    "duration": 244,
    "start_time": "2021-12-13T08:16:37.635Z"
   },
   {
    "duration": 228,
    "start_time": "2021-12-13T08:16:55.718Z"
   },
   {
    "duration": 246,
    "start_time": "2021-12-13T08:17:03.708Z"
   },
   {
    "duration": 3,
    "start_time": "2021-12-13T08:29:19.395Z"
   },
   {
    "duration": 4,
    "start_time": "2021-12-13T08:29:23.422Z"
   },
   {
    "duration": 937,
    "start_time": "2021-12-13T08:29:29.706Z"
   },
   {
    "duration": 257,
    "start_time": "2021-12-13T08:31:12.271Z"
   },
   {
    "duration": 86,
    "start_time": "2021-12-13T08:38:01.314Z"
   },
   {
    "duration": 246,
    "start_time": "2021-12-13T08:38:09.622Z"
   },
   {
    "duration": 238,
    "start_time": "2021-12-13T08:40:09.477Z"
   },
   {
    "duration": 411,
    "start_time": "2021-12-13T08:53:11.863Z"
   },
   {
    "duration": 145,
    "start_time": "2021-12-13T08:53:52.835Z"
   },
   {
    "duration": 371,
    "start_time": "2021-12-13T08:54:04.792Z"
   },
   {
    "duration": 221,
    "start_time": "2021-12-13T08:59:08.077Z"
   },
   {
    "duration": 50,
    "start_time": "2021-12-13T09:00:55.895Z"
   },
   {
    "duration": 21,
    "start_time": "2021-12-13T09:01:16.200Z"
   },
   {
    "duration": 51,
    "start_time": "2021-12-13T09:01:38.983Z"
   },
   {
    "duration": 2,
    "start_time": "2021-12-13T09:02:33.723Z"
   },
   {
    "duration": 9,
    "start_time": "2021-12-13T09:02:33.727Z"
   },
   {
    "duration": 410,
    "start_time": "2021-12-13T09:02:33.738Z"
   },
   {
    "duration": 2,
    "start_time": "2021-12-13T09:02:34.150Z"
   },
   {
    "duration": 6,
    "start_time": "2021-12-13T09:02:34.154Z"
   },
   {
    "duration": 4,
    "start_time": "2021-12-13T09:02:34.162Z"
   },
   {
    "duration": 6,
    "start_time": "2021-12-13T09:02:34.168Z"
   },
   {
    "duration": 4,
    "start_time": "2021-12-13T09:02:34.176Z"
   },
   {
    "duration": 5,
    "start_time": "2021-12-13T09:02:34.183Z"
   },
   {
    "duration": 30,
    "start_time": "2021-12-13T09:02:34.190Z"
   },
   {
    "duration": 98,
    "start_time": "2021-12-13T09:02:34.222Z"
   },
   {
    "duration": 29,
    "start_time": "2021-12-13T09:02:34.321Z"
   },
   {
    "duration": 30,
    "start_time": "2021-12-13T09:02:34.352Z"
   },
   {
    "duration": 13,
    "start_time": "2021-12-13T09:02:34.384Z"
   },
   {
    "duration": 22,
    "start_time": "2021-12-13T09:02:34.399Z"
   },
   {
    "duration": 11,
    "start_time": "2021-12-13T09:02:34.423Z"
   },
   {
    "duration": 29,
    "start_time": "2021-12-13T09:02:34.436Z"
   },
   {
    "duration": 36,
    "start_time": "2021-12-13T09:02:34.467Z"
   },
   {
    "duration": 12,
    "start_time": "2021-12-13T09:02:34.505Z"
   },
   {
    "duration": 18,
    "start_time": "2021-12-13T09:02:34.519Z"
   },
   {
    "duration": 31,
    "start_time": "2021-12-13T09:02:34.564Z"
   },
   {
    "duration": 8,
    "start_time": "2021-12-13T09:02:34.596Z"
   },
   {
    "duration": 14,
    "start_time": "2021-12-13T09:02:34.606Z"
   },
   {
    "duration": 12,
    "start_time": "2021-12-13T09:02:34.621Z"
   },
   {
    "duration": 4,
    "start_time": "2021-12-13T09:02:34.635Z"
   },
   {
    "duration": 32,
    "start_time": "2021-12-13T09:02:34.640Z"
   },
   {
    "duration": 11,
    "start_time": "2021-12-13T09:02:34.675Z"
   },
   {
    "duration": 76,
    "start_time": "2021-12-13T09:02:34.688Z"
   },
   {
    "duration": 47,
    "start_time": "2021-12-13T09:02:34.766Z"
   },
   {
    "duration": 53,
    "start_time": "2021-12-13T09:02:34.815Z"
   },
   {
    "duration": 4,
    "start_time": "2021-12-13T09:02:34.870Z"
   },
   {
    "duration": 9,
    "start_time": "2021-12-13T09:02:34.875Z"
   },
   {
    "duration": 36,
    "start_time": "2021-12-13T09:02:34.886Z"
   },
   {
    "duration": 239,
    "start_time": "2021-12-13T09:02:34.924Z"
   },
   {
    "duration": 8,
    "start_time": "2021-12-13T09:02:35.164Z"
   },
   {
    "duration": 29,
    "start_time": "2021-12-13T09:02:35.173Z"
   },
   {
    "duration": 2,
    "start_time": "2021-12-13T09:02:42.193Z"
   },
   {
    "duration": 7,
    "start_time": "2021-12-13T09:02:42.198Z"
   },
   {
    "duration": 406,
    "start_time": "2021-12-13T09:02:42.207Z"
   },
   {
    "duration": 3,
    "start_time": "2021-12-13T09:02:42.615Z"
   },
   {
    "duration": 8,
    "start_time": "2021-12-13T09:02:42.619Z"
   },
   {
    "duration": 4,
    "start_time": "2021-12-13T09:02:42.629Z"
   },
   {
    "duration": 5,
    "start_time": "2021-12-13T09:02:42.635Z"
   },
   {
    "duration": 4,
    "start_time": "2021-12-13T09:02:42.641Z"
   },
   {
    "duration": 3,
    "start_time": "2021-12-13T09:02:42.648Z"
   },
   {
    "duration": 31,
    "start_time": "2021-12-13T09:02:42.653Z"
   },
   {
    "duration": 92,
    "start_time": "2021-12-13T09:02:42.685Z"
   },
   {
    "duration": 31,
    "start_time": "2021-12-13T09:02:42.779Z"
   },
   {
    "duration": 23,
    "start_time": "2021-12-13T09:02:42.812Z"
   },
   {
    "duration": 34,
    "start_time": "2021-12-13T09:02:42.837Z"
   },
   {
    "duration": 22,
    "start_time": "2021-12-13T09:02:42.873Z"
   },
   {
    "duration": 11,
    "start_time": "2021-12-13T09:02:42.897Z"
   },
   {
    "duration": 11,
    "start_time": "2021-12-13T09:02:42.910Z"
   },
   {
    "duration": 66,
    "start_time": "2021-12-13T09:02:42.923Z"
   },
   {
    "duration": 12,
    "start_time": "2021-12-13T09:02:42.991Z"
   },
   {
    "duration": 25,
    "start_time": "2021-12-13T09:02:43.005Z"
   },
   {
    "duration": 43,
    "start_time": "2021-12-13T09:02:43.032Z"
   },
   {
    "duration": 8,
    "start_time": "2021-12-13T09:02:43.077Z"
   },
   {
    "duration": 13,
    "start_time": "2021-12-13T09:02:43.087Z"
   },
   {
    "duration": 10,
    "start_time": "2021-12-13T09:02:43.101Z"
   },
   {
    "duration": 6,
    "start_time": "2021-12-13T09:02:43.112Z"
   },
   {
    "duration": 15,
    "start_time": "2021-12-13T09:02:43.119Z"
   },
   {
    "duration": 34,
    "start_time": "2021-12-13T09:02:43.137Z"
   },
   {
    "duration": 59,
    "start_time": "2021-12-13T09:02:43.173Z"
   },
   {
    "duration": 67,
    "start_time": "2021-12-13T09:02:43.234Z"
   },
   {
    "duration": 43,
    "start_time": "2021-12-13T09:02:43.303Z"
   },
   {
    "duration": 17,
    "start_time": "2021-12-13T09:02:43.348Z"
   },
   {
    "duration": 7,
    "start_time": "2021-12-13T09:02:43.367Z"
   },
   {
    "duration": 43,
    "start_time": "2021-12-13T09:02:43.376Z"
   },
   {
    "duration": 244,
    "start_time": "2021-12-13T09:02:43.421Z"
   },
   {
    "duration": 7,
    "start_time": "2021-12-13T09:02:43.667Z"
   },
   {
    "duration": 29,
    "start_time": "2021-12-13T09:02:43.675Z"
   },
   {
    "duration": 5,
    "start_time": "2021-12-15T07:22:03.398Z"
   },
   {
    "duration": 1874,
    "start_time": "2021-12-15T07:22:03.405Z"
   },
   {
    "duration": -1193,
    "start_time": "2021-12-15T07:22:06.476Z"
   },
   {
    "duration": -1197,
    "start_time": "2021-12-15T07:22:06.482Z"
   },
   {
    "duration": -1198,
    "start_time": "2021-12-15T07:22:06.484Z"
   },
   {
    "duration": -1226,
    "start_time": "2021-12-15T07:22:06.513Z"
   },
   {
    "duration": -1227,
    "start_time": "2021-12-15T07:22:06.515Z"
   },
   {
    "duration": -1227,
    "start_time": "2021-12-15T07:22:06.517Z"
   },
   {
    "duration": -1227,
    "start_time": "2021-12-15T07:22:06.518Z"
   },
   {
    "duration": -1228,
    "start_time": "2021-12-15T07:22:06.520Z"
   },
   {
    "duration": -1227,
    "start_time": "2021-12-15T07:22:06.521Z"
   },
   {
    "duration": -1227,
    "start_time": "2021-12-15T07:22:06.522Z"
   },
   {
    "duration": -1228,
    "start_time": "2021-12-15T07:22:06.524Z"
   },
   {
    "duration": -1228,
    "start_time": "2021-12-15T07:22:06.526Z"
   },
   {
    "duration": -1228,
    "start_time": "2021-12-15T07:22:06.527Z"
   },
   {
    "duration": -1227,
    "start_time": "2021-12-15T07:22:06.528Z"
   },
   {
    "duration": -1228,
    "start_time": "2021-12-15T07:22:06.530Z"
   },
   {
    "duration": -1228,
    "start_time": "2021-12-15T07:22:06.531Z"
   },
   {
    "duration": -1228,
    "start_time": "2021-12-15T07:22:06.533Z"
   },
   {
    "duration": -1228,
    "start_time": "2021-12-15T07:22:06.534Z"
   },
   {
    "duration": -1229,
    "start_time": "2021-12-15T07:22:06.536Z"
   },
   {
    "duration": -1229,
    "start_time": "2021-12-15T07:22:06.537Z"
   },
   {
    "duration": -1235,
    "start_time": "2021-12-15T07:22:06.545Z"
   },
   {
    "duration": -1235,
    "start_time": "2021-12-15T07:22:06.546Z"
   },
   {
    "duration": -1236,
    "start_time": "2021-12-15T07:22:06.548Z"
   },
   {
    "duration": -1236,
    "start_time": "2021-12-15T07:22:06.549Z"
   },
   {
    "duration": -1237,
    "start_time": "2021-12-15T07:22:06.551Z"
   },
   {
    "duration": -1236,
    "start_time": "2021-12-15T07:22:06.552Z"
   },
   {
    "duration": -1236,
    "start_time": "2021-12-15T07:22:06.553Z"
   },
   {
    "duration": -1236,
    "start_time": "2021-12-15T07:22:06.554Z"
   },
   {
    "duration": -1236,
    "start_time": "2021-12-15T07:22:06.556Z"
   },
   {
    "duration": -1239,
    "start_time": "2021-12-15T07:22:06.560Z"
   },
   {
    "duration": -1238,
    "start_time": "2021-12-15T07:22:06.561Z"
   },
   {
    "duration": -1238,
    "start_time": "2021-12-15T07:22:06.563Z"
   },
   {
    "duration": -1237,
    "start_time": "2021-12-15T07:22:06.564Z"
   },
   {
    "duration": -1237,
    "start_time": "2021-12-15T07:22:06.566Z"
   },
   {
    "duration": 264,
    "start_time": "2021-12-15T07:22:25.971Z"
   },
   {
    "duration": 3,
    "start_time": "2021-12-15T07:22:48.212Z"
   },
   {
    "duration": 20,
    "start_time": "2021-12-15T07:22:48.217Z"
   },
   {
    "duration": 546,
    "start_time": "2021-12-15T07:22:48.240Z"
   },
   {
    "duration": 29,
    "start_time": "2021-12-15T07:22:48.789Z"
   },
   {
    "duration": 149,
    "start_time": "2021-12-15T07:22:48.821Z"
   },
   {
    "duration": 55,
    "start_time": "2021-12-15T07:22:48.973Z"
   },
   {
    "duration": 34,
    "start_time": "2021-12-15T07:22:49.030Z"
   },
   {
    "duration": 25,
    "start_time": "2021-12-15T07:22:49.066Z"
   },
   {
    "duration": 23,
    "start_time": "2021-12-15T07:22:49.119Z"
   },
   {
    "duration": 18,
    "start_time": "2021-12-15T07:22:49.145Z"
   },
   {
    "duration": 13,
    "start_time": "2021-12-15T07:22:49.166Z"
   },
   {
    "duration": 87,
    "start_time": "2021-12-15T07:22:49.181Z"
   },
   {
    "duration": 19,
    "start_time": "2021-12-15T07:22:49.270Z"
   },
   {
    "duration": 42,
    "start_time": "2021-12-15T07:22:49.292Z"
   },
   {
    "duration": 45,
    "start_time": "2021-12-15T07:22:49.336Z"
   },
   {
    "duration": 35,
    "start_time": "2021-12-15T07:22:49.383Z"
   },
   {
    "duration": 9,
    "start_time": "2021-12-15T07:22:49.420Z"
   },
   {
    "duration": 12,
    "start_time": "2021-12-15T07:22:49.432Z"
   },
   {
    "duration": 6,
    "start_time": "2021-12-15T07:22:49.447Z"
   },
   {
    "duration": 13,
    "start_time": "2021-12-15T07:22:49.456Z"
   },
   {
    "duration": 63,
    "start_time": "2021-12-15T07:22:49.471Z"
   },
   {
    "duration": 110,
    "start_time": "2021-12-15T07:22:49.536Z"
   },
   {
    "duration": 103,
    "start_time": "2021-12-15T07:22:49.649Z"
   },
   {
    "duration": 77,
    "start_time": "2021-12-15T07:22:49.754Z"
   },
   {
    "duration": 5,
    "start_time": "2021-12-15T07:22:49.833Z"
   },
   {
    "duration": 9,
    "start_time": "2021-12-15T07:22:49.840Z"
   },
   {
    "duration": 100,
    "start_time": "2021-12-15T07:22:49.854Z"
   },
   {
    "duration": 325,
    "start_time": "2021-12-15T07:22:49.957Z"
   },
   {
    "duration": 10,
    "start_time": "2021-12-15T07:22:50.285Z"
   },
   {
    "duration": 28,
    "start_time": "2021-12-15T07:22:50.317Z"
   },
   {
    "duration": 306,
    "start_time": "2021-12-15T07:30:17.754Z"
   },
   {
    "duration": 608,
    "start_time": "2021-12-15T07:30:26.192Z"
   },
   {
    "duration": 592,
    "start_time": "2021-12-15T07:30:35.836Z"
   },
   {
    "duration": 81,
    "start_time": "2021-12-15T07:30:50.065Z"
   },
   {
    "duration": 20,
    "start_time": "2021-12-15T07:31:31.145Z"
   },
   {
    "duration": 20,
    "start_time": "2021-12-15T07:31:42.258Z"
   },
   {
    "duration": 20,
    "start_time": "2021-12-15T07:31:46.404Z"
   },
   {
    "duration": 19,
    "start_time": "2021-12-15T07:32:04.692Z"
   },
   {
    "duration": 3,
    "start_time": "2021-12-15T07:32:10.728Z"
   },
   {
    "duration": 15,
    "start_time": "2021-12-15T07:32:10.734Z"
   },
   {
    "duration": 520,
    "start_time": "2021-12-15T07:32:10.753Z"
   },
   {
    "duration": 30,
    "start_time": "2021-12-15T07:32:11.276Z"
   },
   {
    "duration": 143,
    "start_time": "2021-12-15T07:32:11.309Z"
   },
   {
    "duration": 42,
    "start_time": "2021-12-15T07:32:11.455Z"
   },
   {
    "duration": 39,
    "start_time": "2021-12-15T07:32:11.499Z"
   },
   {
    "duration": 24,
    "start_time": "2021-12-15T07:32:11.541Z"
   },
   {
    "duration": 48,
    "start_time": "2021-12-15T07:32:11.569Z"
   },
   {
    "duration": 19,
    "start_time": "2021-12-15T07:32:11.619Z"
   },
   {
    "duration": 14,
    "start_time": "2021-12-15T07:32:11.640Z"
   },
   {
    "duration": 81,
    "start_time": "2021-12-15T07:32:11.656Z"
   },
   {
    "duration": 17,
    "start_time": "2021-12-15T07:32:11.740Z"
   },
   {
    "duration": 26,
    "start_time": "2021-12-15T07:32:11.759Z"
   },
   {
    "duration": 85,
    "start_time": "2021-12-15T07:32:11.788Z"
   },
   {
    "duration": 16,
    "start_time": "2021-12-15T07:32:11.877Z"
   },
   {
    "duration": 46,
    "start_time": "2021-12-15T07:32:11.896Z"
   },
   {
    "duration": 36,
    "start_time": "2021-12-15T07:32:11.944Z"
   },
   {
    "duration": 38,
    "start_time": "2021-12-15T07:32:11.982Z"
   },
   {
    "duration": 37,
    "start_time": "2021-12-15T07:32:12.023Z"
   },
   {
    "duration": 44,
    "start_time": "2021-12-15T07:32:12.063Z"
   },
   {
    "duration": 106,
    "start_time": "2021-12-15T07:32:12.109Z"
   },
   {
    "duration": 98,
    "start_time": "2021-12-15T07:32:12.219Z"
   },
   {
    "duration": 67,
    "start_time": "2021-12-15T07:32:12.319Z"
   },
   {
    "duration": 77,
    "start_time": "2021-12-15T07:32:12.388Z"
   },
   {
    "duration": 332,
    "start_time": "2021-12-15T07:32:12.467Z"
   },
   {
    "duration": 18,
    "start_time": "2021-12-15T07:32:12.801Z"
   },
   {
    "duration": 44,
    "start_time": "2021-12-15T07:32:12.822Z"
   },
   {
    "duration": 68,
    "start_time": "2021-12-15T07:33:16.573Z"
   },
   {
    "duration": 70,
    "start_time": "2021-12-15T07:34:16.738Z"
   },
   {
    "duration": 71,
    "start_time": "2021-12-15T07:34:27.834Z"
   },
   {
    "duration": 58,
    "start_time": "2021-12-15T07:34:49.760Z"
   },
   {
    "duration": 50,
    "start_time": "2021-12-15T07:35:09.657Z"
   },
   {
    "duration": 51,
    "start_time": "2021-12-15T07:35:14.238Z"
   },
   {
    "duration": 51,
    "start_time": "2021-12-15T07:35:16.907Z"
   },
   {
    "duration": 52,
    "start_time": "2021-12-15T07:35:21.151Z"
   },
   {
    "duration": 72,
    "start_time": "2021-12-15T07:35:23.564Z"
   },
   {
    "duration": 484,
    "start_time": "2021-12-15T07:35:38.387Z"
   },
   {
    "duration": 504,
    "start_time": "2021-12-15T07:35:44.533Z"
   },
   {
    "duration": 77,
    "start_time": "2021-12-15T07:40:38.625Z"
   },
   {
    "duration": 19,
    "start_time": "2021-12-15T07:48:28.494Z"
   },
   {
    "duration": 22,
    "start_time": "2021-12-15T07:57:04.823Z"
   },
   {
    "duration": 12,
    "start_time": "2021-12-15T07:57:27.390Z"
   },
   {
    "duration": 21,
    "start_time": "2021-12-15T07:57:36.346Z"
   },
   {
    "duration": 20,
    "start_time": "2021-12-15T07:57:45.886Z"
   },
   {
    "duration": 19,
    "start_time": "2021-12-15T07:57:56.102Z"
   },
   {
    "duration": 19,
    "start_time": "2021-12-15T07:58:02.480Z"
   },
   {
    "duration": 22,
    "start_time": "2021-12-15T07:58:06.630Z"
   },
   {
    "duration": 22,
    "start_time": "2021-12-15T07:58:10.656Z"
   },
   {
    "duration": 20,
    "start_time": "2021-12-15T07:58:14.165Z"
   },
   {
    "duration": 20,
    "start_time": "2021-12-15T07:58:21.084Z"
   },
   {
    "duration": 21,
    "start_time": "2021-12-15T07:58:25.147Z"
   },
   {
    "duration": 20,
    "start_time": "2021-12-15T07:58:29.323Z"
   },
   {
    "duration": 288,
    "start_time": "2021-12-15T08:09:03.657Z"
   },
   {
    "duration": 27,
    "start_time": "2021-12-15T08:09:08.642Z"
   },
   {
    "duration": 16,
    "start_time": "2021-12-15T08:16:29.979Z"
   },
   {
    "duration": 89,
    "start_time": "2021-12-15T08:16:37.193Z"
   },
   {
    "duration": 17,
    "start_time": "2021-12-15T08:17:31.512Z"
   },
   {
    "duration": 25,
    "start_time": "2021-12-15T08:17:45.677Z"
   },
   {
    "duration": 5,
    "start_time": "2021-12-15T08:19:03.682Z"
   },
   {
    "duration": 299,
    "start_time": "2021-12-15T08:19:03.690Z"
   },
   {
    "duration": 76,
    "start_time": "2021-12-15T08:19:25.344Z"
   },
   {
    "duration": 4,
    "start_time": "2021-12-15T08:19:26.431Z"
   },
   {
    "duration": 25,
    "start_time": "2021-12-15T08:19:27.052Z"
   },
   {
    "duration": 242,
    "start_time": "2021-12-15T08:19:52.835Z"
   },
   {
    "duration": 25,
    "start_time": "2021-12-15T08:19:53.208Z"
   },
   {
    "duration": 4,
    "start_time": "2021-12-15T08:26:32.348Z"
   },
   {
    "duration": 16,
    "start_time": "2021-12-15T08:26:32.355Z"
   },
   {
    "duration": 507,
    "start_time": "2021-12-15T08:26:32.374Z"
   },
   {
    "duration": 28,
    "start_time": "2021-12-15T08:26:32.883Z"
   },
   {
    "duration": 144,
    "start_time": "2021-12-15T08:26:32.913Z"
   },
   {
    "duration": 40,
    "start_time": "2021-12-15T08:26:33.059Z"
   },
   {
    "duration": 44,
    "start_time": "2021-12-15T08:26:33.101Z"
   },
   {
    "duration": 25,
    "start_time": "2021-12-15T08:26:33.149Z"
   },
   {
    "duration": 48,
    "start_time": "2021-12-15T08:26:33.178Z"
   },
   {
    "duration": 19,
    "start_time": "2021-12-15T08:26:33.229Z"
   },
   {
    "duration": 12,
    "start_time": "2021-12-15T08:26:33.251Z"
   },
   {
    "duration": 88,
    "start_time": "2021-12-15T08:26:33.266Z"
   },
   {
    "duration": 18,
    "start_time": "2021-12-15T08:26:33.357Z"
   },
   {
    "duration": 43,
    "start_time": "2021-12-15T08:26:33.378Z"
   },
   {
    "duration": 43,
    "start_time": "2021-12-15T08:26:33.423Z"
   },
   {
    "duration": 16,
    "start_time": "2021-12-15T08:26:33.469Z"
   },
   {
    "duration": 41,
    "start_time": "2021-12-15T08:26:33.488Z"
   },
   {
    "duration": 14,
    "start_time": "2021-12-15T08:26:33.532Z"
   },
   {
    "duration": 11,
    "start_time": "2021-12-15T08:26:33.548Z"
   },
   {
    "duration": 19,
    "start_time": "2021-12-15T08:26:33.561Z"
   },
   {
    "duration": 42,
    "start_time": "2021-12-15T08:26:33.582Z"
   },
   {
    "duration": 68,
    "start_time": "2021-12-15T08:26:33.627Z"
   },
   {
    "duration": 81,
    "start_time": "2021-12-15T08:26:33.699Z"
   },
   {
    "duration": 5,
    "start_time": "2021-12-15T08:26:33.782Z"
   },
   {
    "duration": 26,
    "start_time": "2021-12-15T08:26:33.817Z"
   },
   {
    "duration": 85,
    "start_time": "2021-12-15T08:26:33.846Z"
   },
   {
    "duration": 48,
    "start_time": "2021-12-15T08:26:33.934Z"
   },
   {
    "duration": 325,
    "start_time": "2021-12-15T08:26:33.985Z"
   },
   {
    "duration": 11,
    "start_time": "2021-12-15T08:26:34.312Z"
   },
   {
    "duration": 38,
    "start_time": "2021-12-15T08:26:34.325Z"
   },
   {
    "duration": 51,
    "start_time": "2021-12-15T08:26:34.366Z"
   },
   {
    "duration": 27,
    "start_time": "2021-12-15T08:26:34.419Z"
   },
   {
    "duration": 30,
    "start_time": "2021-12-15T08:27:15.508Z"
   },
   {
    "duration": 259,
    "start_time": "2021-12-15T08:28:40.430Z"
   },
   {
    "duration": 4,
    "start_time": "2021-12-15T08:28:44.740Z"
   },
   {
    "duration": 13,
    "start_time": "2021-12-15T08:28:44.746Z"
   },
   {
    "duration": 539,
    "start_time": "2021-12-15T08:28:44.762Z"
   },
   {
    "duration": 27,
    "start_time": "2021-12-15T08:28:45.303Z"
   },
   {
    "duration": 154,
    "start_time": "2021-12-15T08:28:45.333Z"
   },
   {
    "duration": 49,
    "start_time": "2021-12-15T08:28:45.490Z"
   },
   {
    "duration": 32,
    "start_time": "2021-12-15T08:28:45.541Z"
   },
   {
    "duration": 41,
    "start_time": "2021-12-15T08:28:45.577Z"
   },
   {
    "duration": 23,
    "start_time": "2021-12-15T08:28:45.622Z"
   },
   {
    "duration": 21,
    "start_time": "2021-12-15T08:28:45.648Z"
   },
   {
    "duration": 11,
    "start_time": "2021-12-15T08:28:45.671Z"
   },
   {
    "duration": 81,
    "start_time": "2021-12-15T08:28:45.684Z"
   },
   {
    "duration": 17,
    "start_time": "2021-12-15T08:28:45.767Z"
   },
   {
    "duration": 39,
    "start_time": "2021-12-15T08:28:45.786Z"
   },
   {
    "duration": 45,
    "start_time": "2021-12-15T08:28:45.827Z"
   },
   {
    "duration": 11,
    "start_time": "2021-12-15T08:28:45.874Z"
   },
   {
    "duration": 33,
    "start_time": "2021-12-15T08:28:45.887Z"
   },
   {
    "duration": 19,
    "start_time": "2021-12-15T08:28:45.922Z"
   },
   {
    "duration": 7,
    "start_time": "2021-12-15T08:28:45.944Z"
   },
   {
    "duration": 18,
    "start_time": "2021-12-15T08:28:45.954Z"
   },
   {
    "duration": 17,
    "start_time": "2021-12-15T08:28:45.974Z"
   },
   {
    "duration": 91,
    "start_time": "2021-12-15T08:28:45.993Z"
   },
   {
    "duration": 81,
    "start_time": "2021-12-15T08:28:46.089Z"
   },
   {
    "duration": 45,
    "start_time": "2021-12-15T08:28:46.173Z"
   },
   {
    "duration": 326,
    "start_time": "2021-12-15T08:28:46.220Z"
   },
   {
    "duration": -1206,
    "start_time": "2021-12-15T08:28:47.755Z"
   },
   {
    "duration": -1234,
    "start_time": "2021-12-15T08:28:47.784Z"
   },
   {
    "duration": -1234,
    "start_time": "2021-12-15T08:28:47.785Z"
   },
   {
    "duration": -1234,
    "start_time": "2021-12-15T08:28:47.787Z"
   },
   {
    "duration": -1238,
    "start_time": "2021-12-15T08:28:47.792Z"
   },
   {
    "duration": -1239,
    "start_time": "2021-12-15T08:28:47.794Z"
   },
   {
    "duration": -1238,
    "start_time": "2021-12-15T08:28:47.795Z"
   },
   {
    "duration": -1238,
    "start_time": "2021-12-15T08:28:47.796Z"
   },
   {
    "duration": 5,
    "start_time": "2021-12-15T08:29:34.757Z"
   },
   {
    "duration": 27,
    "start_time": "2021-12-15T08:29:36.297Z"
   },
   {
    "duration": 30,
    "start_time": "2021-12-15T08:33:54.723Z"
   },
   {
    "duration": 3,
    "start_time": "2021-12-15T08:33:55.523Z"
   },
   {
    "duration": 27,
    "start_time": "2021-12-15T08:33:55.883Z"
   },
   {
    "duration": 3,
    "start_time": "2021-12-15T08:34:06.613Z"
   },
   {
    "duration": 8,
    "start_time": "2021-12-15T08:34:06.619Z"
   },
   {
    "duration": 517,
    "start_time": "2021-12-15T08:34:06.630Z"
   },
   {
    "duration": 27,
    "start_time": "2021-12-15T08:34:07.150Z"
   },
   {
    "duration": 138,
    "start_time": "2021-12-15T08:34:07.179Z"
   },
   {
    "duration": 39,
    "start_time": "2021-12-15T08:34:07.319Z"
   },
   {
    "duration": 31,
    "start_time": "2021-12-15T08:34:07.361Z"
   },
   {
    "duration": 37,
    "start_time": "2021-12-15T08:34:07.394Z"
   },
   {
    "duration": 31,
    "start_time": "2021-12-15T08:34:07.435Z"
   },
   {
    "duration": 16,
    "start_time": "2021-12-15T08:34:07.469Z"
   },
   {
    "duration": 37,
    "start_time": "2021-12-15T08:34:07.487Z"
   },
   {
    "duration": 51,
    "start_time": "2021-12-15T08:34:07.527Z"
   },
   {
    "duration": 37,
    "start_time": "2021-12-15T08:34:07.581Z"
   },
   {
    "duration": 19,
    "start_time": "2021-12-15T08:34:07.621Z"
   },
   {
    "duration": 44,
    "start_time": "2021-12-15T08:34:07.642Z"
   },
   {
    "duration": 36,
    "start_time": "2021-12-15T08:34:07.688Z"
   },
   {
    "duration": 11,
    "start_time": "2021-12-15T08:34:07.727Z"
   },
   {
    "duration": 15,
    "start_time": "2021-12-15T08:34:07.741Z"
   },
   {
    "duration": 8,
    "start_time": "2021-12-15T08:34:07.759Z"
   },
   {
    "duration": 57,
    "start_time": "2021-12-15T08:34:07.769Z"
   },
   {
    "duration": 17,
    "start_time": "2021-12-15T08:34:07.828Z"
   },
   {
    "duration": 99,
    "start_time": "2021-12-15T08:34:07.848Z"
   },
   {
    "duration": 82,
    "start_time": "2021-12-15T08:34:07.950Z"
   },
   {
    "duration": 28,
    "start_time": "2021-12-15T08:34:08.034Z"
   },
   {
    "duration": 5,
    "start_time": "2021-12-15T08:34:08.066Z"
   },
   {
    "duration": 59,
    "start_time": "2021-12-15T08:34:08.074Z"
   },
   {
    "duration": 78,
    "start_time": "2021-12-15T08:34:08.139Z"
   },
   {
    "duration": 51,
    "start_time": "2021-12-15T08:34:08.221Z"
   },
   {
    "duration": 337,
    "start_time": "2021-12-15T08:34:08.275Z"
   },
   {
    "duration": 11,
    "start_time": "2021-12-15T08:34:08.618Z"
   },
   {
    "duration": 37,
    "start_time": "2021-12-15T08:34:08.632Z"
   },
   {
    "duration": 58,
    "start_time": "2021-12-15T08:34:08.672Z"
   },
   {
    "duration": 27,
    "start_time": "2021-12-15T08:34:08.733Z"
   },
   {
    "duration": 61,
    "start_time": "2021-12-15T08:35:18.140Z"
   },
   {
    "duration": 270,
    "start_time": "2021-12-15T08:35:40.451Z"
   },
   {
    "duration": 34,
    "start_time": "2021-12-15T08:36:06.274Z"
   },
   {
    "duration": 78,
    "start_time": "2021-12-15T08:36:45.343Z"
   },
   {
    "duration": 31,
    "start_time": "2021-12-15T08:37:48.609Z"
   },
   {
    "duration": 1912,
    "start_time": "2021-12-15T08:38:25.344Z"
   },
   {
    "duration": 258,
    "start_time": "2021-12-15T08:38:32.149Z"
   },
   {
    "duration": 321,
    "start_time": "2021-12-15T08:38:46.730Z"
   },
   {
    "duration": 8,
    "start_time": "2021-12-15T08:38:58.024Z"
   },
   {
    "duration": 7032,
    "start_time": "2021-12-15T08:40:17.708Z"
   },
   {
    "duration": 17,
    "start_time": "2021-12-15T08:40:32.218Z"
   },
   {
    "duration": 18,
    "start_time": "2021-12-15T08:40:42.255Z"
   },
   {
    "duration": 17,
    "start_time": "2021-12-15T08:40:47.685Z"
   },
   {
    "duration": 17,
    "start_time": "2021-12-15T08:40:53.209Z"
   },
   {
    "duration": 18,
    "start_time": "2021-12-15T08:40:57.608Z"
   },
   {
    "duration": 77,
    "start_time": "2021-12-15T08:41:00.530Z"
   },
   {
    "duration": 18,
    "start_time": "2021-12-15T08:41:01.208Z"
   },
   {
    "duration": 17,
    "start_time": "2021-12-15T08:41:10.484Z"
   },
   {
    "duration": 13,
    "start_time": "2021-12-15T08:41:47.820Z"
   },
   {
    "duration": 65,
    "start_time": "2021-12-15T08:42:51.046Z"
   },
   {
    "duration": 57,
    "start_time": "2021-12-15T08:44:23.476Z"
   },
   {
    "duration": 177,
    "start_time": "2021-12-15T08:44:59.522Z"
   },
   {
    "duration": 332,
    "start_time": "2021-12-15T08:53:10.593Z"
   },
   {
    "duration": 412,
    "start_time": "2021-12-15T08:53:44.891Z"
   },
   {
    "duration": 44,
    "start_time": "2021-12-15T08:53:51.867Z"
   },
   {
    "duration": 32,
    "start_time": "2021-12-15T08:54:26.650Z"
   },
   {
    "duration": 45,
    "start_time": "2021-12-15T08:54:36.995Z"
   },
   {
    "duration": 12,
    "start_time": "2021-12-15T09:04:23.151Z"
   },
   {
    "duration": 277,
    "start_time": "2021-12-15T09:04:31.068Z"
   },
   {
    "duration": 264,
    "start_time": "2021-12-15T09:04:44.133Z"
   },
   {
    "duration": 2219,
    "start_time": "2021-12-15T09:06:41.238Z"
   },
   {
    "duration": 44,
    "start_time": "2021-12-15T09:06:54.627Z"
   },
   {
    "duration": 41,
    "start_time": "2021-12-15T09:11:27.084Z"
   },
   {
    "duration": 119,
    "start_time": "2021-12-15T09:12:18.965Z"
   },
   {
    "duration": 89,
    "start_time": "2021-12-15T09:12:56.125Z"
   },
   {
    "duration": 270,
    "start_time": "2021-12-15T09:13:09.780Z"
   },
   {
    "duration": 13,
    "start_time": "2021-12-15T09:13:31.210Z"
   },
   {
    "duration": 925,
    "start_time": "2021-12-15T09:13:37.463Z"
   },
   {
    "duration": 1957,
    "start_time": "2021-12-15T09:13:46.835Z"
   },
   {
    "duration": 1672,
    "start_time": "2021-12-15T09:13:50.693Z"
   },
   {
    "duration": 10,
    "start_time": "2021-12-15T09:13:58.274Z"
   },
   {
    "duration": 20,
    "start_time": "2021-12-15T09:14:04.797Z"
   },
   {
    "duration": 120,
    "start_time": "2021-12-15T09:14:09.891Z"
   },
   {
    "duration": 10,
    "start_time": "2021-12-15T09:14:34.264Z"
   },
   {
    "duration": 257,
    "start_time": "2021-12-15T09:14:40.428Z"
   },
   {
    "duration": 5464,
    "start_time": "2021-12-15T09:14:59.252Z"
   },
   {
    "duration": 10,
    "start_time": "2021-12-15T09:15:16.142Z"
   },
   {
    "duration": 18,
    "start_time": "2021-12-15T09:16:04.029Z"
   },
   {
    "duration": 94,
    "start_time": "2021-12-15T09:16:24.721Z"
   },
   {
    "duration": 277,
    "start_time": "2021-12-15T09:16:52.977Z"
   },
   {
    "duration": 333,
    "start_time": "2021-12-15T09:17:01.600Z"
   },
   {
    "duration": 314,
    "start_time": "2021-12-15T09:17:05.063Z"
   },
   {
    "duration": 27,
    "start_time": "2021-12-15T09:17:45.679Z"
   },
   {
    "duration": 8,
    "start_time": "2021-12-15T09:17:59.159Z"
   },
   {
    "duration": 258,
    "start_time": "2021-12-15T09:18:04.646Z"
   },
   {
    "duration": 12,
    "start_time": "2021-12-15T09:19:07.147Z"
   },
   {
    "duration": 13,
    "start_time": "2021-12-15T09:19:18.117Z"
   },
   {
    "duration": 12,
    "start_time": "2021-12-15T09:25:57.240Z"
   },
   {
    "duration": 107,
    "start_time": "2021-12-15T09:26:47.981Z"
   },
   {
    "duration": 14,
    "start_time": "2021-12-15T09:26:59.558Z"
   },
   {
    "duration": 14,
    "start_time": "2021-12-15T09:27:58.553Z"
   },
   {
    "duration": 15,
    "start_time": "2021-12-15T09:28:07.205Z"
   },
   {
    "duration": 17,
    "start_time": "2021-12-15T09:28:11.319Z"
   },
   {
    "duration": 14,
    "start_time": "2021-12-15T09:28:38.887Z"
   },
   {
    "duration": 15,
    "start_time": "2021-12-15T09:28:58.564Z"
   },
   {
    "duration": 16,
    "start_time": "2021-12-15T09:29:14.826Z"
   },
   {
    "duration": 14,
    "start_time": "2021-12-15T09:29:39.570Z"
   },
   {
    "duration": 13,
    "start_time": "2021-12-15T09:29:50.556Z"
   },
   {
    "duration": 14,
    "start_time": "2021-12-15T09:30:23.228Z"
   },
   {
    "duration": 84,
    "start_time": "2021-12-15T09:30:54.818Z"
   },
   {
    "duration": 157,
    "start_time": "2021-12-15T09:30:59.883Z"
   },
   {
    "duration": 101,
    "start_time": "2021-12-15T09:31:07.158Z"
   },
   {
    "duration": 81,
    "start_time": "2021-12-15T09:31:22.084Z"
   },
   {
    "duration": 85,
    "start_time": "2021-12-15T09:31:30.979Z"
   },
   {
    "duration": 14,
    "start_time": "2021-12-15T09:31:38.042Z"
   },
   {
    "duration": 92,
    "start_time": "2021-12-15T09:32:25.840Z"
   },
   {
    "duration": 83,
    "start_time": "2021-12-15T09:32:49.644Z"
   },
   {
    "duration": 14,
    "start_time": "2021-12-15T09:32:59.592Z"
   },
   {
    "duration": 98,
    "start_time": "2021-12-15T09:33:53.727Z"
   },
   {
    "duration": 6906,
    "start_time": "2021-12-15T09:33:58.843Z"
   },
   {
    "duration": 14,
    "start_time": "2021-12-15T09:34:18.493Z"
   },
   {
    "duration": 86,
    "start_time": "2021-12-15T09:34:44.133Z"
   },
   {
    "duration": 16,
    "start_time": "2021-12-15T09:34:59.166Z"
   },
   {
    "duration": 346,
    "start_time": "2021-12-15T09:35:54.517Z"
   },
   {
    "duration": 297,
    "start_time": "2021-12-15T09:36:02.231Z"
   },
   {
    "duration": 1301,
    "start_time": "2021-12-15T09:36:16.350Z"
   },
   {
    "duration": 534,
    "start_time": "2021-12-15T09:36:24.858Z"
   },
   {
    "duration": 405,
    "start_time": "2021-12-15T09:36:29.614Z"
   },
   {
    "duration": 365,
    "start_time": "2021-12-15T09:36:34.778Z"
   },
   {
    "duration": 340,
    "start_time": "2021-12-15T09:36:40.104Z"
   },
   {
    "duration": 15,
    "start_time": "2021-12-15T09:45:12.984Z"
   },
   {
    "duration": 353,
    "start_time": "2021-12-15T09:46:40.688Z"
   },
   {
    "duration": 362,
    "start_time": "2021-12-15T09:47:12.749Z"
   },
   {
    "duration": 349,
    "start_time": "2021-12-15T09:47:19.156Z"
   },
   {
    "duration": 88,
    "start_time": "2021-12-15T09:47:57.434Z"
   },
   {
    "duration": 446,
    "start_time": "2021-12-15T09:48:08.217Z"
   },
   {
    "duration": 881,
    "start_time": "2021-12-15T09:48:17.692Z"
   },
   {
    "duration": 392,
    "start_time": "2021-12-15T09:48:24.148Z"
   },
   {
    "duration": 396,
    "start_time": "2021-12-15T09:48:28.292Z"
   },
   {
    "duration": 428,
    "start_time": "2021-12-15T09:48:32.991Z"
   },
   {
    "duration": 344,
    "start_time": "2021-12-15T09:48:42.272Z"
   },
   {
    "duration": 360,
    "start_time": "2021-12-15T09:48:48.184Z"
   },
   {
    "duration": 283,
    "start_time": "2021-12-15T10:19:00.309Z"
   },
   {
    "duration": 258,
    "start_time": "2021-12-15T10:20:28.298Z"
   },
   {
    "duration": 275,
    "start_time": "2021-12-15T10:20:42.211Z"
   },
   {
    "duration": 268,
    "start_time": "2021-12-15T10:20:58.806Z"
   },
   {
    "duration": 338,
    "start_time": "2021-12-15T10:24:36.411Z"
   },
   {
    "duration": 17,
    "start_time": "2021-12-15T10:26:43.117Z"
   },
   {
    "duration": 82,
    "start_time": "2021-12-15T10:26:57.425Z"
   },
   {
    "duration": 296,
    "start_time": "2021-12-15T10:27:03.882Z"
   },
   {
    "duration": 512,
    "start_time": "2021-12-15T10:29:03.840Z"
   },
   {
    "duration": 16,
    "start_time": "2021-12-15T10:30:38.512Z"
   },
   {
    "duration": 210,
    "start_time": "2021-12-15T10:34:00.926Z"
   },
   {
    "duration": 7,
    "start_time": "2021-12-15T10:43:46.121Z"
   },
   {
    "duration": 7,
    "start_time": "2021-12-15T10:44:08.483Z"
   },
   {
    "duration": 255,
    "start_time": "2021-12-15T10:46:12.668Z"
   },
   {
    "duration": 418,
    "start_time": "2021-12-15T10:46:26.386Z"
   },
   {
    "duration": 9,
    "start_time": "2021-12-15T10:47:31.092Z"
   },
   {
    "duration": 8,
    "start_time": "2021-12-15T10:47:59.825Z"
   },
   {
    "duration": 8,
    "start_time": "2021-12-15T10:48:06.165Z"
   },
   {
    "duration": 6,
    "start_time": "2021-12-15T10:49:30.403Z"
   },
   {
    "duration": 283,
    "start_time": "2021-12-15T10:49:43.502Z"
   },
   {
    "duration": 283,
    "start_time": "2021-12-15T10:50:05.326Z"
   },
   {
    "duration": 284,
    "start_time": "2021-12-15T10:50:20.509Z"
   },
   {
    "duration": 258,
    "start_time": "2021-12-15T10:50:30.526Z"
   },
   {
    "duration": 7,
    "start_time": "2021-12-15T10:50:56.953Z"
   },
   {
    "duration": 10,
    "start_time": "2021-12-15T10:51:07.303Z"
   },
   {
    "duration": 9,
    "start_time": "2021-12-15T10:51:57.859Z"
   },
   {
    "duration": 6,
    "start_time": "2021-12-15T10:52:59.710Z"
   },
   {
    "duration": 4,
    "start_time": "2021-12-15T10:53:08.908Z"
   },
   {
    "duration": 6,
    "start_time": "2021-12-15T10:53:11.729Z"
   },
   {
    "duration": 6,
    "start_time": "2021-12-15T10:53:23.753Z"
   },
   {
    "duration": 9,
    "start_time": "2021-12-15T10:53:46.730Z"
   },
   {
    "duration": 5,
    "start_time": "2021-12-15T10:53:54.877Z"
   },
   {
    "duration": 5,
    "start_time": "2021-12-15T10:54:10.443Z"
   },
   {
    "duration": 5,
    "start_time": "2021-12-15T10:54:20.913Z"
   },
   {
    "duration": 5,
    "start_time": "2021-12-15T10:54:31.319Z"
   },
   {
    "duration": 8,
    "start_time": "2021-12-15T10:54:31.661Z"
   },
   {
    "duration": 6,
    "start_time": "2021-12-15T10:54:45.420Z"
   },
   {
    "duration": 7,
    "start_time": "2021-12-15T10:54:50.731Z"
   },
   {
    "duration": 11,
    "start_time": "2021-12-15T10:55:48.078Z"
   },
   {
    "duration": 377,
    "start_time": "2021-12-15T10:56:41.118Z"
   },
   {
    "duration": 14115,
    "start_time": "2021-12-15T10:57:17.322Z"
   },
   {
    "duration": 11,
    "start_time": "2021-12-15T10:57:40.905Z"
   },
   {
    "duration": 274,
    "start_time": "2021-12-15T10:59:07.816Z"
   },
   {
    "duration": 216,
    "start_time": "2021-12-15T10:59:20.558Z"
   },
   {
    "duration": 1758,
    "start_time": "2021-12-15T10:59:32.153Z"
   },
   {
    "duration": 89,
    "start_time": "2021-12-15T10:59:47.206Z"
   },
   {
    "duration": 21158,
    "start_time": "2021-12-15T11:00:04.278Z"
   },
   {
    "duration": 22029,
    "start_time": "2021-12-15T11:01:21.302Z"
   },
   {
    "duration": 14559,
    "start_time": "2021-12-15T11:03:13.391Z"
   },
   {
    "duration": 9,
    "start_time": "2021-12-15T11:05:34.103Z"
   },
   {
    "duration": 278,
    "start_time": "2021-12-15T11:06:47.476Z"
   },
   {
    "duration": 261,
    "start_time": "2021-12-15T11:06:54.703Z"
   },
   {
    "duration": 277,
    "start_time": "2021-12-15T11:07:01.561Z"
   },
   {
    "duration": 666,
    "start_time": "2021-12-15T11:08:32.661Z"
   },
   {
    "duration": 271,
    "start_time": "2021-12-15T11:09:28.359Z"
   },
   {
    "duration": 236,
    "start_time": "2021-12-15T11:09:37.004Z"
   },
   {
    "duration": 302,
    "start_time": "2021-12-15T11:10:34.385Z"
   },
   {
    "duration": 9,
    "start_time": "2021-12-15T11:10:58.506Z"
   },
   {
    "duration": 6,
    "start_time": "2021-12-15T11:11:18.992Z"
   },
   {
    "duration": 267,
    "start_time": "2021-12-15T11:11:54.303Z"
   },
   {
    "duration": 201,
    "start_time": "2021-12-15T11:12:29.329Z"
   },
   {
    "duration": 319,
    "start_time": "2021-12-15T11:12:49.181Z"
   },
   {
    "duration": 477,
    "start_time": "2021-12-15T11:13:13.499Z"
   },
   {
    "duration": 254,
    "start_time": "2021-12-15T11:13:57.028Z"
   },
   {
    "duration": 729,
    "start_time": "2021-12-15T11:14:45.093Z"
   },
   {
    "duration": 7,
    "start_time": "2021-12-15T11:15:03.341Z"
   },
   {
    "duration": 270,
    "start_time": "2021-12-15T11:15:22.612Z"
   },
   {
    "duration": 23,
    "start_time": "2021-12-15T11:15:42.904Z"
   },
   {
    "duration": 22,
    "start_time": "2021-12-15T11:15:51.145Z"
   },
   {
    "duration": 27,
    "start_time": "2021-12-15T11:16:39.204Z"
   },
   {
    "duration": 275,
    "start_time": "2021-12-15T11:16:58.255Z"
   },
   {
    "duration": 264,
    "start_time": "2021-12-15T11:17:20.653Z"
   },
   {
    "duration": 20,
    "start_time": "2021-12-15T11:17:29.422Z"
   },
   {
    "duration": 23,
    "start_time": "2021-12-15T11:17:44.066Z"
   },
   {
    "duration": 28,
    "start_time": "2021-12-15T11:17:54.051Z"
   },
   {
    "duration": 290,
    "start_time": "2021-12-15T11:18:02.402Z"
   },
   {
    "duration": 267,
    "start_time": "2021-12-15T11:18:17.257Z"
   },
   {
    "duration": 274,
    "start_time": "2021-12-15T11:18:28.108Z"
   },
   {
    "duration": 22,
    "start_time": "2021-12-15T11:18:44.154Z"
   },
   {
    "duration": 22,
    "start_time": "2021-12-15T11:20:02.240Z"
   },
   {
    "duration": 253,
    "start_time": "2021-12-15T11:20:13.887Z"
   },
   {
    "duration": 249,
    "start_time": "2021-12-15T11:20:36.860Z"
   },
   {
    "duration": 17,
    "start_time": "2021-12-15T11:20:59.721Z"
   },
   {
    "duration": 250,
    "start_time": "2021-12-15T11:21:05.791Z"
   },
   {
    "duration": 277,
    "start_time": "2021-12-15T11:21:18.262Z"
   },
   {
    "duration": 261,
    "start_time": "2021-12-15T11:21:27.476Z"
   },
   {
    "duration": 247,
    "start_time": "2021-12-15T11:23:14.115Z"
   },
   {
    "duration": 260,
    "start_time": "2021-12-15T11:23:35.187Z"
   },
   {
    "duration": 252,
    "start_time": "2021-12-15T11:24:04.974Z"
   },
   {
    "duration": 240,
    "start_time": "2021-12-15T11:24:23.293Z"
   },
   {
    "duration": 263,
    "start_time": "2021-12-15T11:30:32.291Z"
   },
   {
    "duration": 266,
    "start_time": "2021-12-15T11:30:43.153Z"
   },
   {
    "duration": 259,
    "start_time": "2021-12-15T11:31:38.758Z"
   },
   {
    "duration": 201,
    "start_time": "2021-12-15T11:32:00.176Z"
   },
   {
    "duration": 239,
    "start_time": "2021-12-15T11:34:20.083Z"
   },
   {
    "duration": 661,
    "start_time": "2021-12-15T11:34:40.295Z"
   },
   {
    "duration": 243,
    "start_time": "2021-12-15T11:34:46.125Z"
   },
   {
    "duration": 10,
    "start_time": "2021-12-15T11:40:10.949Z"
   },
   {
    "duration": 5,
    "start_time": "2021-12-15T11:40:33.588Z"
   },
   {
    "duration": 6,
    "start_time": "2021-12-15T11:40:36.874Z"
   },
   {
    "duration": 10,
    "start_time": "2021-12-15T11:40:40.228Z"
   },
   {
    "duration": 234,
    "start_time": "2021-12-15T11:42:44.585Z"
   },
   {
    "duration": 238,
    "start_time": "2021-12-15T11:43:20.066Z"
   },
   {
    "duration": 7,
    "start_time": "2021-12-15T11:43:38.488Z"
   },
   {
    "duration": 6,
    "start_time": "2021-12-15T11:43:58.849Z"
   },
   {
    "duration": 10,
    "start_time": "2021-12-15T11:44:07.907Z"
   },
   {
    "duration": 9,
    "start_time": "2021-12-15T11:44:29.250Z"
   },
   {
    "duration": 9,
    "start_time": "2021-12-15T11:48:02.871Z"
   },
   {
    "duration": 8,
    "start_time": "2021-12-15T11:48:08.678Z"
   },
   {
    "duration": 250,
    "start_time": "2021-12-15T11:48:14.933Z"
   },
   {
    "duration": 6,
    "start_time": "2021-12-15T11:48:20.836Z"
   },
   {
    "duration": 6,
    "start_time": "2021-12-15T11:48:29.607Z"
   },
   {
    "duration": 256,
    "start_time": "2021-12-15T11:48:34.610Z"
   },
   {
    "duration": 9,
    "start_time": "2021-12-15T11:48:38.211Z"
   },
   {
    "duration": 13,
    "start_time": "2021-12-15T11:49:00.462Z"
   },
   {
    "duration": 11,
    "start_time": "2021-12-15T11:49:31.717Z"
   },
   {
    "duration": 12,
    "start_time": "2021-12-15T11:49:46.814Z"
   },
   {
    "duration": 262,
    "start_time": "2021-12-15T11:51:04.337Z"
   },
   {
    "duration": 285,
    "start_time": "2021-12-15T11:51:14.947Z"
   },
   {
    "duration": 295,
    "start_time": "2021-12-15T11:51:41.934Z"
   },
   {
    "duration": 278,
    "start_time": "2021-12-15T11:52:08.144Z"
   },
   {
    "duration": 253,
    "start_time": "2021-12-15T11:52:42.579Z"
   },
   {
    "duration": 11,
    "start_time": "2021-12-15T11:52:54.485Z"
   },
   {
    "duration": 9,
    "start_time": "2021-12-15T11:54:09.434Z"
   },
   {
    "duration": 8,
    "start_time": "2021-12-15T11:54:21.090Z"
   },
   {
    "duration": 9,
    "start_time": "2021-12-15T11:54:27.914Z"
   },
   {
    "duration": 13,
    "start_time": "2021-12-15T11:54:39.775Z"
   },
   {
    "duration": 17,
    "start_time": "2021-12-15T11:55:09.610Z"
   },
   {
    "duration": 9,
    "start_time": "2021-12-15T11:55:27.089Z"
   },
   {
    "duration": 265,
    "start_time": "2021-12-15T11:56:11.749Z"
   },
   {
    "duration": 264,
    "start_time": "2021-12-15T12:00:06.022Z"
   },
   {
    "duration": 241,
    "start_time": "2021-12-15T12:00:20.341Z"
   },
   {
    "duration": 258,
    "start_time": "2021-12-15T12:00:32.231Z"
   },
   {
    "duration": 284,
    "start_time": "2021-12-15T12:01:29.975Z"
   },
   {
    "duration": 278,
    "start_time": "2021-12-15T12:01:54.093Z"
   },
   {
    "duration": 276,
    "start_time": "2021-12-15T12:02:01.987Z"
   },
   {
    "duration": 284,
    "start_time": "2021-12-15T12:02:14.886Z"
   },
   {
    "duration": 272,
    "start_time": "2021-12-15T12:02:20.658Z"
   },
   {
    "duration": 262,
    "start_time": "2021-12-15T12:02:28.866Z"
   },
   {
    "duration": 269,
    "start_time": "2021-12-15T12:02:33.881Z"
   },
   {
    "duration": 280,
    "start_time": "2021-12-15T12:02:41.232Z"
   },
   {
    "duration": 6,
    "start_time": "2021-12-15T12:02:48.810Z"
   },
   {
    "duration": 5,
    "start_time": "2021-12-15T12:03:10.981Z"
   },
   {
    "duration": 6,
    "start_time": "2021-12-15T12:03:25.995Z"
   },
   {
    "duration": 6,
    "start_time": "2021-12-15T12:03:31.347Z"
   },
   {
    "duration": 6,
    "start_time": "2021-12-15T12:03:42.265Z"
   },
   {
    "duration": 5,
    "start_time": "2021-12-15T12:03:53.415Z"
   },
   {
    "duration": 6,
    "start_time": "2021-12-15T12:03:59.880Z"
   },
   {
    "duration": 6,
    "start_time": "2021-12-15T12:04:16.994Z"
   },
   {
    "duration": 6,
    "start_time": "2021-12-15T12:04:21.069Z"
   },
   {
    "duration": 7,
    "start_time": "2021-12-15T12:04:24.637Z"
   },
   {
    "duration": 82,
    "start_time": "2021-12-15T12:04:39.592Z"
   },
   {
    "duration": 6,
    "start_time": "2021-12-15T12:04:43.343Z"
   },
   {
    "duration": 8,
    "start_time": "2021-12-15T12:04:51.938Z"
   },
   {
    "duration": 281,
    "start_time": "2021-12-15T12:05:36.313Z"
   },
   {
    "duration": 6,
    "start_time": "2021-12-15T12:05:41.851Z"
   },
   {
    "duration": 568,
    "start_time": "2021-12-15T12:05:53.285Z"
   },
   {
    "duration": 7,
    "start_time": "2021-12-15T12:05:54.107Z"
   },
   {
    "duration": 250,
    "start_time": "2021-12-15T12:29:11.221Z"
   },
   {
    "duration": 246,
    "start_time": "2021-12-15T12:30:51.552Z"
   },
   {
    "duration": 241,
    "start_time": "2021-12-15T12:30:55.924Z"
   },
   {
    "duration": 244,
    "start_time": "2021-12-15T12:35:20.775Z"
   },
   {
    "duration": 268,
    "start_time": "2021-12-15T12:46:49.111Z"
   },
   {
    "duration": 241,
    "start_time": "2021-12-15T12:58:54.620Z"
   },
   {
    "duration": 8160,
    "start_time": "2021-12-15T17:00:13.022Z"
   },
   {
    "duration": 3973,
    "start_time": "2021-12-15T17:00:34.756Z"
   },
   {
    "duration": 5,
    "start_time": "2021-12-15T17:00:38.732Z"
   },
   {
    "duration": 651,
    "start_time": "2021-12-15T17:00:38.740Z"
   },
   {
    "duration": 45,
    "start_time": "2021-12-15T17:00:39.395Z"
   },
   {
    "duration": 156,
    "start_time": "2021-12-15T17:00:39.444Z"
   },
   {
    "duration": 45,
    "start_time": "2021-12-15T17:00:39.602Z"
   },
   {
    "duration": 32,
    "start_time": "2021-12-15T17:00:39.650Z"
   },
   {
    "duration": 48,
    "start_time": "2021-12-15T17:00:39.686Z"
   },
   {
    "duration": 26,
    "start_time": "2021-12-15T17:00:39.737Z"
   },
   {
    "duration": 18,
    "start_time": "2021-12-15T17:00:39.765Z"
   },
   {
    "duration": 39,
    "start_time": "2021-12-15T17:00:39.786Z"
   },
   {
    "duration": 56,
    "start_time": "2021-12-15T17:00:39.827Z"
   },
   {
    "duration": 44,
    "start_time": "2021-12-15T17:00:39.885Z"
   },
   {
    "duration": 21,
    "start_time": "2021-12-15T17:00:39.932Z"
   },
   {
    "duration": 79,
    "start_time": "2021-12-15T17:00:39.956Z"
   },
   {
    "duration": 11,
    "start_time": "2021-12-15T17:00:40.038Z"
   },
   {
    "duration": 39,
    "start_time": "2021-12-15T17:00:40.052Z"
   },
   {
    "duration": 21,
    "start_time": "2021-12-15T17:00:40.093Z"
   },
   {
    "duration": 27,
    "start_time": "2021-12-15T17:00:40.116Z"
   },
   {
    "duration": 22,
    "start_time": "2021-12-15T17:00:40.145Z"
   },
   {
    "duration": 26,
    "start_time": "2021-12-15T17:00:40.169Z"
   },
   {
    "duration": 76,
    "start_time": "2021-12-15T17:00:40.197Z"
   },
   {
    "duration": 91,
    "start_time": "2021-12-15T17:00:40.280Z"
   },
   {
    "duration": 82,
    "start_time": "2021-12-15T17:00:40.374Z"
   },
   {
    "duration": 76,
    "start_time": "2021-12-15T17:00:40.459Z"
   },
   {
    "duration": 193,
    "start_time": "2021-12-15T17:00:40.537Z"
   },
   {
    "duration": 223,
    "start_time": "2021-12-15T17:00:40.732Z"
   },
   {
    "duration": 291,
    "start_time": "2021-12-15T17:00:40.958Z"
   },
   {
    "duration": 269,
    "start_time": "2021-12-15T17:00:41.252Z"
   },
   {
    "duration": 255,
    "start_time": "2021-12-15T17:00:41.523Z"
   },
   {
    "duration": 5,
    "start_time": "2021-12-15T17:00:41.780Z"
   },
   {
    "duration": 35,
    "start_time": "2021-12-15T17:00:41.787Z"
   },
   {
    "duration": 10,
    "start_time": "2021-12-15T17:00:41.825Z"
   },
   {
    "duration": 11,
    "start_time": "2021-12-15T17:00:41.838Z"
   },
   {
    "duration": 15,
    "start_time": "2021-12-15T17:00:41.852Z"
   },
   {
    "duration": 14,
    "start_time": "2021-12-15T17:00:41.870Z"
   },
   {
    "duration": 35,
    "start_time": "2021-12-15T17:00:41.887Z"
   },
   {
    "duration": 265,
    "start_time": "2021-12-15T17:00:41.925Z"
   },
   {
    "duration": -64,
    "start_time": "2021-12-15T17:00:42.256Z"
   },
   {
    "duration": -65,
    "start_time": "2021-12-15T17:00:42.259Z"
   },
   {
    "duration": -67,
    "start_time": "2021-12-15T17:00:42.262Z"
   },
   {
    "duration": 3925,
    "start_time": "2021-12-15T17:10:07.792Z"
   },
   {
    "duration": 4,
    "start_time": "2021-12-15T17:10:11.720Z"
   },
   {
    "duration": 548,
    "start_time": "2021-12-15T17:10:11.729Z"
   },
   {
    "duration": 28,
    "start_time": "2021-12-15T17:10:12.280Z"
   },
   {
    "duration": 129,
    "start_time": "2021-12-15T17:10:12.311Z"
   },
   {
    "duration": 42,
    "start_time": "2021-12-15T17:10:12.442Z"
   },
   {
    "duration": 47,
    "start_time": "2021-12-15T17:10:12.487Z"
   },
   {
    "duration": 24,
    "start_time": "2021-12-15T17:10:12.538Z"
   },
   {
    "duration": 23,
    "start_time": "2021-12-15T17:10:12.566Z"
   },
   {
    "duration": 43,
    "start_time": "2021-12-15T17:10:12.591Z"
   },
   {
    "duration": 12,
    "start_time": "2021-12-15T17:10:12.637Z"
   },
   {
    "duration": 78,
    "start_time": "2021-12-15T17:10:12.651Z"
   },
   {
    "duration": 19,
    "start_time": "2021-12-15T17:10:12.731Z"
   },
   {
    "duration": 20,
    "start_time": "2021-12-15T17:10:12.753Z"
   },
   {
    "duration": 75,
    "start_time": "2021-12-15T17:10:12.775Z"
   },
   {
    "duration": 12,
    "start_time": "2021-12-15T17:10:12.852Z"
   },
   {
    "duration": 10,
    "start_time": "2021-12-15T17:10:12.866Z"
   },
   {
    "duration": 43,
    "start_time": "2021-12-15T17:10:12.879Z"
   },
   {
    "duration": 9,
    "start_time": "2021-12-15T17:10:12.924Z"
   },
   {
    "duration": 16,
    "start_time": "2021-12-15T17:10:12.935Z"
   },
   {
    "duration": 18,
    "start_time": "2021-12-15T17:10:12.953Z"
   },
   {
    "duration": 105,
    "start_time": "2021-12-15T17:10:12.973Z"
   },
   {
    "duration": 100,
    "start_time": "2021-12-15T17:10:13.083Z"
   },
   {
    "duration": 81,
    "start_time": "2021-12-15T17:10:13.185Z"
   },
   {
    "duration": 78,
    "start_time": "2021-12-15T17:10:13.268Z"
   },
   {
    "duration": 192,
    "start_time": "2021-12-15T17:10:13.349Z"
   },
   {
    "duration": 235,
    "start_time": "2021-12-15T17:10:13.543Z"
   },
   {
    "duration": 272,
    "start_time": "2021-12-15T17:10:13.780Z"
   },
   {
    "duration": 264,
    "start_time": "2021-12-15T17:10:14.055Z"
   },
   {
    "duration": 274,
    "start_time": "2021-12-15T17:10:14.321Z"
   },
   {
    "duration": -68,
    "start_time": "2021-12-15T17:10:14.665Z"
   },
   {
    "duration": -68,
    "start_time": "2021-12-15T17:10:14.667Z"
   },
   {
    "duration": -68,
    "start_time": "2021-12-15T17:10:14.668Z"
   },
   {
    "duration": -68,
    "start_time": "2021-12-15T17:10:14.670Z"
   },
   {
    "duration": -69,
    "start_time": "2021-12-15T17:10:14.672Z"
   },
   {
    "duration": -80,
    "start_time": "2021-12-15T17:10:14.685Z"
   },
   {
    "duration": -81,
    "start_time": "2021-12-15T17:10:14.687Z"
   },
   {
    "duration": -82,
    "start_time": "2021-12-15T17:10:14.689Z"
   },
   {
    "duration": -82,
    "start_time": "2021-12-15T17:10:14.690Z"
   },
   {
    "duration": -82,
    "start_time": "2021-12-15T17:10:14.692Z"
   },
   {
    "duration": -82,
    "start_time": "2021-12-15T17:10:14.693Z"
   },
   {
    "duration": 21479,
    "start_time": "2021-12-15T17:11:18.958Z"
   },
   {
    "duration": 5,
    "start_time": "2021-12-15T17:11:40.441Z"
   },
   {
    "duration": 521,
    "start_time": "2021-12-15T17:11:40.449Z"
   },
   {
    "duration": 29,
    "start_time": "2021-12-15T17:11:40.973Z"
   },
   {
    "duration": 128,
    "start_time": "2021-12-15T17:11:41.004Z"
   },
   {
    "duration": 40,
    "start_time": "2021-12-15T17:11:41.135Z"
   },
   {
    "duration": 47,
    "start_time": "2021-12-15T17:11:41.178Z"
   },
   {
    "duration": 24,
    "start_time": "2021-12-15T17:11:41.227Z"
   },
   {
    "duration": 25,
    "start_time": "2021-12-15T17:11:41.255Z"
   },
   {
    "duration": 47,
    "start_time": "2021-12-15T17:11:41.283Z"
   },
   {
    "duration": 12,
    "start_time": "2021-12-15T17:11:41.333Z"
   },
   {
    "duration": 82,
    "start_time": "2021-12-15T17:11:41.348Z"
   },
   {
    "duration": 21,
    "start_time": "2021-12-15T17:11:41.433Z"
   },
   {
    "duration": 171,
    "start_time": "2021-12-15T17:11:41.456Z"
   },
   {
    "duration": 45,
    "start_time": "2021-12-15T17:11:41.629Z"
   },
   {
    "duration": 10,
    "start_time": "2021-12-15T17:11:41.677Z"
   },
   {
    "duration": 31,
    "start_time": "2021-12-15T17:11:41.690Z"
   },
   {
    "duration": 12,
    "start_time": "2021-12-15T17:11:41.724Z"
   },
   {
    "duration": 5,
    "start_time": "2021-12-15T17:11:41.739Z"
   },
   {
    "duration": 12,
    "start_time": "2021-12-15T17:11:41.746Z"
   },
   {
    "duration": 15,
    "start_time": "2021-12-15T17:11:41.760Z"
   },
   {
    "duration": 99,
    "start_time": "2021-12-15T17:11:41.778Z"
   },
   {
    "duration": 93,
    "start_time": "2021-12-15T17:11:41.879Z"
   },
   {
    "duration": 81,
    "start_time": "2021-12-15T17:11:41.975Z"
   },
   {
    "duration": 70,
    "start_time": "2021-12-15T17:11:42.058Z"
   },
   {
    "duration": 188,
    "start_time": "2021-12-15T17:11:42.131Z"
   },
   {
    "duration": 230,
    "start_time": "2021-12-15T17:11:42.326Z"
   },
   {
    "duration": 276,
    "start_time": "2021-12-15T17:11:42.559Z"
   },
   {
    "duration": 262,
    "start_time": "2021-12-15T17:11:42.839Z"
   },
   {
    "duration": 254,
    "start_time": "2021-12-15T17:11:43.103Z"
   },
   {
    "duration": -66,
    "start_time": "2021-12-15T17:11:43.426Z"
   },
   {
    "duration": -66,
    "start_time": "2021-12-15T17:11:43.427Z"
   },
   {
    "duration": -67,
    "start_time": "2021-12-15T17:11:43.429Z"
   },
   {
    "duration": -66,
    "start_time": "2021-12-15T17:11:43.430Z"
   },
   {
    "duration": -67,
    "start_time": "2021-12-15T17:11:43.432Z"
   },
   {
    "duration": -80,
    "start_time": "2021-12-15T17:11:43.446Z"
   },
   {
    "duration": -81,
    "start_time": "2021-12-15T17:11:43.448Z"
   },
   {
    "duration": -80,
    "start_time": "2021-12-15T17:11:43.449Z"
   },
   {
    "duration": -81,
    "start_time": "2021-12-15T17:11:43.451Z"
   },
   {
    "duration": -80,
    "start_time": "2021-12-15T17:11:43.452Z"
   },
   {
    "duration": -81,
    "start_time": "2021-12-15T17:11:43.454Z"
   },
   {
    "duration": 30,
    "start_time": "2021-12-15T17:13:53.904Z"
   },
   {
    "duration": 354,
    "start_time": "2021-12-15T17:13:54.666Z"
   },
   {
    "duration": 258,
    "start_time": "2021-12-15T17:15:12.062Z"
   },
   {
    "duration": 261,
    "start_time": "2021-12-15T17:16:29.504Z"
   },
   {
    "duration": 285,
    "start_time": "2021-12-15T17:17:06.888Z"
   },
   {
    "duration": 280,
    "start_time": "2021-12-15T17:34:48.837Z"
   },
   {
    "duration": 314,
    "start_time": "2021-12-15T17:34:54.264Z"
   },
   {
    "duration": 286,
    "start_time": "2021-12-15T17:35:44.651Z"
   },
   {
    "duration": 280,
    "start_time": "2021-12-15T17:35:49.827Z"
   },
   {
    "duration": 288,
    "start_time": "2021-12-15T17:35:54.831Z"
   },
   {
    "duration": 344,
    "start_time": "2021-12-15T17:36:00.455Z"
   },
   {
    "duration": 394,
    "start_time": "2021-12-15T17:36:10.592Z"
   },
   {
    "duration": 288,
    "start_time": "2021-12-15T17:37:18.352Z"
   },
   {
    "duration": 293,
    "start_time": "2021-12-15T17:37:30.852Z"
   },
   {
    "duration": 291,
    "start_time": "2021-12-15T17:37:40.438Z"
   },
   {
    "duration": 290,
    "start_time": "2021-12-15T17:39:02.301Z"
   },
   {
    "duration": 289,
    "start_time": "2021-12-15T17:39:14.668Z"
   },
   {
    "duration": 285,
    "start_time": "2021-12-15T17:39:20.990Z"
   },
   {
    "duration": 673,
    "start_time": "2021-12-15T17:39:43.515Z"
   },
   {
    "duration": 372,
    "start_time": "2021-12-15T17:39:57.858Z"
   },
   {
    "duration": 372,
    "start_time": "2021-12-15T17:40:23.882Z"
   },
   {
    "duration": 12667,
    "start_time": "2021-12-15T17:41:28.542Z"
   },
   {
    "duration": 4,
    "start_time": "2021-12-15T17:41:41.212Z"
   },
   {
    "duration": 545,
    "start_time": "2021-12-15T17:41:41.219Z"
   },
   {
    "duration": 29,
    "start_time": "2021-12-15T17:41:41.767Z"
   },
   {
    "duration": 131,
    "start_time": "2021-12-15T17:41:41.799Z"
   },
   {
    "duration": 41,
    "start_time": "2021-12-15T17:41:41.932Z"
   },
   {
    "duration": 44,
    "start_time": "2021-12-15T17:41:41.976Z"
   },
   {
    "duration": 25,
    "start_time": "2021-12-15T17:41:42.023Z"
   },
   {
    "duration": 23,
    "start_time": "2021-12-15T17:41:42.052Z"
   },
   {
    "duration": 46,
    "start_time": "2021-12-15T17:41:42.078Z"
   },
   {
    "duration": 12,
    "start_time": "2021-12-15T17:41:42.127Z"
   },
   {
    "duration": 50,
    "start_time": "2021-12-15T17:41:42.142Z"
   },
   {
    "duration": 39,
    "start_time": "2021-12-15T17:41:42.194Z"
   },
   {
    "duration": 22,
    "start_time": "2021-12-15T17:41:42.235Z"
   },
   {
    "duration": 72,
    "start_time": "2021-12-15T17:41:42.259Z"
   },
   {
    "duration": 11,
    "start_time": "2021-12-15T17:41:42.334Z"
   },
   {
    "duration": 12,
    "start_time": "2021-12-15T17:41:42.347Z"
   },
   {
    "duration": 16,
    "start_time": "2021-12-15T17:41:42.361Z"
   },
   {
    "duration": 37,
    "start_time": "2021-12-15T17:41:42.380Z"
   },
   {
    "duration": 20,
    "start_time": "2021-12-15T17:41:42.419Z"
   },
   {
    "duration": 35,
    "start_time": "2021-12-15T17:41:42.441Z"
   },
   {
    "duration": 93,
    "start_time": "2021-12-15T17:41:42.479Z"
   },
   {
    "duration": 91,
    "start_time": "2021-12-15T17:41:42.575Z"
   },
   {
    "duration": 79,
    "start_time": "2021-12-15T17:41:42.668Z"
   },
   {
    "duration": 69,
    "start_time": "2021-12-15T17:41:42.749Z"
   },
   {
    "duration": 201,
    "start_time": "2021-12-15T17:41:42.820Z"
   },
   {
    "duration": 364,
    "start_time": "2021-12-15T17:41:43.026Z"
   },
   {
    "duration": 383,
    "start_time": "2021-12-15T17:41:43.393Z"
   },
   {
    "duration": 510,
    "start_time": "2021-12-15T17:41:43.779Z"
   },
   {
    "duration": 291,
    "start_time": "2021-12-15T17:42:06.185Z"
   },
   {
    "duration": 608,
    "start_time": "2021-12-15T17:42:16.389Z"
   },
   {
    "duration": 318,
    "start_time": "2021-12-15T17:43:01.644Z"
   },
   {
    "duration": 311,
    "start_time": "2021-12-15T17:43:16.133Z"
   },
   {
    "duration": 311,
    "start_time": "2021-12-15T17:46:24.570Z"
   },
   {
    "duration": 353,
    "start_time": "2021-12-15T17:50:02.230Z"
   },
   {
    "duration": 323,
    "start_time": "2021-12-15T17:51:17.928Z"
   },
   {
    "duration": 292,
    "start_time": "2021-12-15T17:51:32.191Z"
   },
   {
    "duration": 355,
    "start_time": "2021-12-15T17:52:03.029Z"
   },
   {
    "duration": 703,
    "start_time": "2021-12-15T17:53:33.728Z"
   },
   {
    "duration": 803,
    "start_time": "2021-12-15T17:53:44.958Z"
   },
   {
    "duration": 878,
    "start_time": "2021-12-15T17:53:59.778Z"
   },
   {
    "duration": 837,
    "start_time": "2021-12-15T17:55:10.853Z"
   },
   {
    "duration": 743,
    "start_time": "2021-12-15T17:55:56.108Z"
   },
   {
    "duration": 767,
    "start_time": "2021-12-15T17:56:08.819Z"
   },
   {
    "duration": 994,
    "start_time": "2021-12-15T17:56:26.255Z"
   },
   {
    "duration": 733,
    "start_time": "2021-12-15T17:56:52.887Z"
   },
   {
    "duration": 83,
    "start_time": "2021-12-15T18:01:35.262Z"
   },
   {
    "duration": 913,
    "start_time": "2021-12-15T18:04:05.556Z"
   },
   {
    "duration": 541,
    "start_time": "2021-12-16T06:22:54.988Z"
   },
   {
    "duration": 26732,
    "start_time": "2021-12-16T06:23:01.267Z"
   },
   {
    "duration": 1572,
    "start_time": "2021-12-16T06:23:28.003Z"
   },
   {
    "duration": 509,
    "start_time": "2021-12-16T06:23:29.578Z"
   },
   {
    "duration": 36,
    "start_time": "2021-12-16T06:23:30.090Z"
   },
   {
    "duration": 146,
    "start_time": "2021-12-16T06:23:30.129Z"
   },
   {
    "duration": 47,
    "start_time": "2021-12-16T06:23:30.278Z"
   },
   {
    "duration": 48,
    "start_time": "2021-12-16T06:23:30.328Z"
   },
   {
    "duration": 30,
    "start_time": "2021-12-16T06:23:30.380Z"
   },
   {
    "duration": 51,
    "start_time": "2021-12-16T06:23:30.413Z"
   },
   {
    "duration": 17,
    "start_time": "2021-12-16T06:23:30.466Z"
   },
   {
    "duration": 16,
    "start_time": "2021-12-16T06:23:30.485Z"
   },
   {
    "duration": 83,
    "start_time": "2021-12-16T06:23:30.503Z"
   },
   {
    "duration": 21,
    "start_time": "2021-12-16T06:23:30.589Z"
   },
   {
    "duration": 25,
    "start_time": "2021-12-16T06:23:30.613Z"
   },
   {
    "duration": 44,
    "start_time": "2021-12-16T06:23:30.660Z"
   },
   {
    "duration": 11,
    "start_time": "2021-12-16T06:23:30.707Z"
   },
   {
    "duration": 41,
    "start_time": "2021-12-16T06:23:30.720Z"
   },
   {
    "duration": 18,
    "start_time": "2021-12-16T06:23:30.764Z"
   },
   {
    "duration": 8,
    "start_time": "2021-12-16T06:23:30.784Z"
   },
   {
    "duration": 30,
    "start_time": "2021-12-16T06:23:30.794Z"
   },
   {
    "duration": 19,
    "start_time": "2021-12-16T06:23:30.826Z"
   },
   {
    "duration": 80,
    "start_time": "2021-12-16T06:23:30.859Z"
   },
   {
    "duration": 93,
    "start_time": "2021-12-16T06:23:30.943Z"
   },
   {
    "duration": 79,
    "start_time": "2021-12-16T06:23:31.039Z"
   },
   {
    "duration": 76,
    "start_time": "2021-12-16T06:23:31.121Z"
   },
   {
    "duration": 230,
    "start_time": "2021-12-16T06:23:31.200Z"
   },
   {
    "duration": 1345,
    "start_time": "2021-12-16T06:23:31.432Z"
   },
   {
    "duration": 14,
    "start_time": "2021-12-16T06:23:32.780Z"
   },
   {
    "duration": 16115,
    "start_time": "2021-12-16T06:23:52.747Z"
   },
   {
    "duration": 5,
    "start_time": "2021-12-16T06:24:08.865Z"
   },
   {
    "duration": 531,
    "start_time": "2021-12-16T06:24:08.874Z"
   },
   {
    "duration": 34,
    "start_time": "2021-12-16T06:24:09.408Z"
   },
   {
    "duration": 136,
    "start_time": "2021-12-16T06:24:09.445Z"
   },
   {
    "duration": 41,
    "start_time": "2021-12-16T06:24:09.584Z"
   },
   {
    "duration": 49,
    "start_time": "2021-12-16T06:24:09.627Z"
   },
   {
    "duration": 24,
    "start_time": "2021-12-16T06:24:09.680Z"
   },
   {
    "duration": 52,
    "start_time": "2021-12-16T06:24:09.707Z"
   },
   {
    "duration": 17,
    "start_time": "2021-12-16T06:24:09.762Z"
   },
   {
    "duration": 13,
    "start_time": "2021-12-16T06:24:09.782Z"
   },
   {
    "duration": 89,
    "start_time": "2021-12-16T06:24:09.797Z"
   },
   {
    "duration": 20,
    "start_time": "2021-12-16T06:24:09.889Z"
   },
   {
    "duration": 47,
    "start_time": "2021-12-16T06:24:09.912Z"
   },
   {
    "duration": 47,
    "start_time": "2021-12-16T06:24:09.963Z"
   },
   {
    "duration": 12,
    "start_time": "2021-12-16T06:24:10.013Z"
   },
   {
    "duration": 44,
    "start_time": "2021-12-16T06:24:10.027Z"
   },
   {
    "duration": 12,
    "start_time": "2021-12-16T06:24:10.073Z"
   },
   {
    "duration": 13,
    "start_time": "2021-12-16T06:24:10.087Z"
   },
   {
    "duration": 17,
    "start_time": "2021-12-16T06:24:10.102Z"
   },
   {
    "duration": 47,
    "start_time": "2021-12-16T06:24:10.121Z"
   },
   {
    "duration": 69,
    "start_time": "2021-12-16T06:24:10.171Z"
   },
   {
    "duration": 68,
    "start_time": "2021-12-16T06:24:10.261Z"
   },
   {
    "duration": 80,
    "start_time": "2021-12-16T06:24:10.331Z"
   },
   {
    "duration": 65,
    "start_time": "2021-12-16T06:24:10.413Z"
   },
   {
    "duration": 235,
    "start_time": "2021-12-16T06:24:10.480Z"
   },
   {
    "duration": 745,
    "start_time": "2021-12-16T06:24:10.717Z"
   },
   {
    "duration": 15,
    "start_time": "2021-12-16T06:24:11.466Z"
   },
   {
    "duration": 16,
    "start_time": "2021-12-16T06:25:38.616Z"
   },
   {
    "duration": 14,
    "start_time": "2021-12-16T06:25:53.141Z"
   },
   {
    "duration": 6,
    "start_time": "2021-12-16T06:26:05.691Z"
   },
   {
    "duration": 19,
    "start_time": "2021-12-16T06:42:51.453Z"
   },
   {
    "duration": 18,
    "start_time": "2021-12-16T06:43:22.087Z"
   },
   {
    "duration": 195,
    "start_time": "2021-12-16T06:43:26.372Z"
   },
   {
    "duration": 20,
    "start_time": "2021-12-16T06:43:35.276Z"
   },
   {
    "duration": 118,
    "start_time": "2021-12-16T06:43:54.500Z"
   },
   {
    "duration": 2699,
    "start_time": "2021-12-16T06:44:48.097Z"
   },
   {
    "duration": 10,
    "start_time": "2021-12-16T06:45:17.327Z"
   },
   {
    "duration": 91,
    "start_time": "2021-12-16T06:46:15.129Z"
   },
   {
    "duration": 6,
    "start_time": "2021-12-16T06:46:15.453Z"
   },
   {
    "duration": 7,
    "start_time": "2021-12-16T06:46:26.744Z"
   },
   {
    "duration": 6,
    "start_time": "2021-12-16T06:48:37.578Z"
   },
   {
    "duration": 7,
    "start_time": "2021-12-16T06:48:47.353Z"
   },
   {
    "duration": 6,
    "start_time": "2021-12-16T06:49:04.279Z"
   },
   {
    "duration": 6,
    "start_time": "2021-12-16T06:49:09.588Z"
   },
   {
    "duration": 8,
    "start_time": "2021-12-16T06:49:19.228Z"
   },
   {
    "duration": 6,
    "start_time": "2021-12-16T06:51:17.735Z"
   },
   {
    "duration": 6,
    "start_time": "2021-12-16T06:54:12.511Z"
   },
   {
    "duration": 5,
    "start_time": "2021-12-16T06:59:08.880Z"
   },
   {
    "duration": 6,
    "start_time": "2021-12-16T06:59:15.511Z"
   },
   {
    "duration": 10,
    "start_time": "2021-12-16T07:01:52.641Z"
   },
   {
    "duration": 12,
    "start_time": "2021-12-16T07:02:07.818Z"
   },
   {
    "duration": 10,
    "start_time": "2021-12-16T07:02:35.553Z"
   },
   {
    "duration": 10,
    "start_time": "2021-12-16T07:03:11.525Z"
   },
   {
    "duration": 36,
    "start_time": "2021-12-16T07:08:35.912Z"
   },
   {
    "duration": 132,
    "start_time": "2021-12-16T07:10:33.455Z"
   },
   {
    "duration": 422,
    "start_time": "2021-12-16T07:10:36.967Z"
   },
   {
    "duration": 70,
    "start_time": "2021-12-16T07:11:31.805Z"
   },
   {
    "duration": 71,
    "start_time": "2021-12-16T07:11:43.318Z"
   },
   {
    "duration": 71,
    "start_time": "2021-12-16T07:12:40.518Z"
   },
   {
    "duration": 67,
    "start_time": "2021-12-16T07:14:09.325Z"
   },
   {
    "duration": 61,
    "start_time": "2021-12-16T07:15:00.569Z"
   },
   {
    "duration": 216,
    "start_time": "2021-12-16T07:15:54.783Z"
   },
   {
    "duration": 219,
    "start_time": "2021-12-16T07:16:05.247Z"
   },
   {
    "duration": 223,
    "start_time": "2021-12-16T07:16:09.449Z"
   },
   {
    "duration": 7,
    "start_time": "2021-12-16T07:16:38.241Z"
   },
   {
    "duration": 212,
    "start_time": "2021-12-16T07:16:58.937Z"
   },
   {
    "duration": 18,
    "start_time": "2021-12-16T07:17:51.147Z"
   },
   {
    "duration": 424,
    "start_time": "2021-12-16T07:19:30.370Z"
   },
   {
    "duration": 26,
    "start_time": "2021-12-16T07:20:06.121Z"
   },
   {
    "duration": 24,
    "start_time": "2021-12-16T07:20:30.120Z"
   },
   {
    "duration": 25,
    "start_time": "2021-12-16T07:20:38.331Z"
   },
   {
    "duration": 24,
    "start_time": "2021-12-16T07:21:11.811Z"
   },
   {
    "duration": 371,
    "start_time": "2021-12-16T07:27:02.757Z"
   },
   {
    "duration": 27,
    "start_time": "2021-12-16T07:27:10.195Z"
   },
   {
    "duration": 27,
    "start_time": "2021-12-16T07:28:41.244Z"
   },
   {
    "duration": 29,
    "start_time": "2021-12-16T07:28:47.242Z"
   },
   {
    "duration": 407,
    "start_time": "2021-12-16T07:36:37.649Z"
   },
   {
    "duration": 718,
    "start_time": "2021-12-16T07:36:52.117Z"
   },
   {
    "duration": 852,
    "start_time": "2021-12-16T07:37:25.509Z"
   },
   {
    "duration": 729,
    "start_time": "2021-12-16T07:37:48.603Z"
   },
   {
    "duration": 847,
    "start_time": "2021-12-16T07:38:16.963Z"
   },
   {
    "duration": 701,
    "start_time": "2021-12-16T07:38:46.893Z"
   },
   {
    "duration": 801,
    "start_time": "2021-12-16T07:39:12.034Z"
   },
   {
    "duration": 128,
    "start_time": "2021-12-16T07:39:55.620Z"
   },
   {
    "duration": 708,
    "start_time": "2021-12-16T07:40:11.477Z"
   },
   {
    "duration": 831,
    "start_time": "2021-12-16T07:41:00.305Z"
   },
   {
    "duration": 28,
    "start_time": "2021-12-16T07:42:03.300Z"
   },
   {
    "duration": 27,
    "start_time": "2021-12-16T07:44:05.691Z"
   },
   {
    "duration": 28,
    "start_time": "2021-12-16T07:44:16.497Z"
   },
   {
    "duration": 27,
    "start_time": "2021-12-16T07:44:22.444Z"
   },
   {
    "duration": 720,
    "start_time": "2021-12-16T07:44:45.801Z"
   },
   {
    "duration": 3,
    "start_time": "2021-12-16T07:47:11.493Z"
   },
   {
    "duration": 27,
    "start_time": "2021-12-16T07:47:12.099Z"
   },
   {
    "duration": 40,
    "start_time": "2021-12-16T07:48:17.353Z"
   },
   {
    "duration": 51,
    "start_time": "2021-12-16T07:48:29.409Z"
   },
   {
    "duration": 67,
    "start_time": "2021-12-16T07:48:57.892Z"
   },
   {
    "duration": 76,
    "start_time": "2021-12-16T07:50:00.018Z"
   },
   {
    "duration": 128,
    "start_time": "2021-12-16T07:51:04.433Z"
   },
   {
    "duration": 132,
    "start_time": "2021-12-16T07:51:25.256Z"
   },
   {
    "duration": 75,
    "start_time": "2021-12-16T07:51:39.563Z"
   },
   {
    "duration": 1088,
    "start_time": "2021-12-16T08:00:30.133Z"
   },
   {
    "duration": 1324,
    "start_time": "2021-12-16T08:00:43.927Z"
   },
   {
    "duration": 199,
    "start_time": "2021-12-16T08:01:33.649Z"
   },
   {
    "duration": 425,
    "start_time": "2021-12-16T08:01:38.080Z"
   },
   {
    "duration": 426,
    "start_time": "2021-12-16T08:01:45.559Z"
   },
   {
    "duration": 793,
    "start_time": "2021-12-16T08:01:50.748Z"
   },
   {
    "duration": 650,
    "start_time": "2021-12-16T08:02:02.534Z"
   },
   {
    "duration": 27,
    "start_time": "2021-12-16T08:02:08.552Z"
   },
   {
    "duration": 379,
    "start_time": "2021-12-16T08:06:36.883Z"
   },
   {
    "duration": 633,
    "start_time": "2021-12-16T08:06:41.729Z"
   },
   {
    "duration": 414,
    "start_time": "2021-12-16T08:07:40.607Z"
   },
   {
    "duration": 1018,
    "start_time": "2021-12-16T08:08:34.740Z"
   },
   {
    "duration": 29,
    "start_time": "2021-12-16T08:16:28.397Z"
   },
   {
    "duration": 7,
    "start_time": "2021-12-16T08:17:00.589Z"
   },
   {
    "duration": 6,
    "start_time": "2021-12-16T08:17:11.235Z"
   },
   {
    "duration": 7,
    "start_time": "2021-12-16T08:17:11.688Z"
   },
   {
    "duration": 8,
    "start_time": "2021-12-16T08:17:44.040Z"
   },
   {
    "duration": 9,
    "start_time": "2021-12-16T08:17:56.803Z"
   },
   {
    "duration": 9,
    "start_time": "2021-12-16T08:17:57.244Z"
   },
   {
    "duration": 29,
    "start_time": "2021-12-16T08:25:06.963Z"
   },
   {
    "duration": 26,
    "start_time": "2021-12-16T08:25:32.643Z"
   },
   {
    "duration": 26,
    "start_time": "2021-12-16T08:25:40.149Z"
   },
   {
    "duration": 27,
    "start_time": "2021-12-16T08:25:50.984Z"
   },
   {
    "duration": 387,
    "start_time": "2021-12-16T08:26:02.218Z"
   },
   {
    "duration": 28,
    "start_time": "2021-12-16T08:26:07.986Z"
   },
   {
    "duration": 707,
    "start_time": "2021-12-16T08:26:16.033Z"
   },
   {
    "duration": 419,
    "start_time": "2021-12-16T08:26:20.860Z"
   },
   {
    "duration": 26,
    "start_time": "2021-12-16T08:26:32.495Z"
   },
   {
    "duration": 716,
    "start_time": "2021-12-16T08:27:56.332Z"
   },
   {
    "duration": 821,
    "start_time": "2021-12-16T08:28:13.411Z"
   },
   {
    "duration": 1145,
    "start_time": "2021-12-16T08:28:21.672Z"
   },
   {
    "duration": 39,
    "start_time": "2021-12-16T08:29:31.370Z"
   },
   {
    "duration": 36,
    "start_time": "2021-12-16T08:29:54.390Z"
   },
   {
    "duration": 38,
    "start_time": "2021-12-16T08:29:59.746Z"
   },
   {
    "duration": 167,
    "start_time": "2021-12-16T08:46:17.986Z"
   },
   {
    "duration": 24,
    "start_time": "2021-12-16T08:46:23.055Z"
   },
   {
    "duration": 24,
    "start_time": "2021-12-16T08:46:49.082Z"
   },
   {
    "duration": 26,
    "start_time": "2021-12-16T08:47:04.047Z"
   },
   {
    "duration": 26,
    "start_time": "2021-12-16T08:47:43.493Z"
   },
   {
    "duration": 31,
    "start_time": "2021-12-16T08:47:49.114Z"
   },
   {
    "duration": 7,
    "start_time": "2021-12-16T08:48:14.705Z"
   },
   {
    "duration": 8,
    "start_time": "2021-12-16T08:48:25.422Z"
   },
   {
    "duration": 415,
    "start_time": "2021-12-16T08:49:05.773Z"
   },
   {
    "duration": -138,
    "start_time": "2021-12-16T08:49:06.329Z"
   },
   {
    "duration": 12,
    "start_time": "2021-12-16T08:49:12.237Z"
   },
   {
    "duration": 14,
    "start_time": "2021-12-16T08:49:17.215Z"
   },
   {
    "duration": 13,
    "start_time": "2021-12-16T08:49:58.153Z"
   },
   {
    "duration": 10,
    "start_time": "2021-12-16T08:50:09.986Z"
   },
   {
    "duration": 5398,
    "start_time": "2021-12-16T08:50:22.713Z"
   },
   {
    "duration": 4622,
    "start_time": "2021-12-16T08:50:35.379Z"
   },
   {
    "duration": 25,
    "start_time": "2021-12-16T08:51:01.665Z"
   },
   {
    "duration": 25,
    "start_time": "2021-12-16T08:51:14.917Z"
   },
   {
    "duration": 28,
    "start_time": "2021-12-16T08:51:39.115Z"
   },
   {
    "duration": 10,
    "start_time": "2021-12-16T08:51:40.612Z"
   },
   {
    "duration": 10,
    "start_time": "2021-12-16T08:51:40.909Z"
   },
   {
    "duration": 759,
    "start_time": "2021-12-16T08:56:46.858Z"
   },
   {
    "duration": 863,
    "start_time": "2021-12-16T09:04:40.377Z"
   },
   {
    "duration": 840,
    "start_time": "2021-12-16T09:04:52.395Z"
   },
   {
    "duration": 740,
    "start_time": "2021-12-16T09:05:01.305Z"
   },
   {
    "duration": 822,
    "start_time": "2021-12-16T09:05:07.991Z"
   },
   {
    "duration": 224,
    "start_time": "2021-12-16T10:19:45.186Z"
   },
   {
    "duration": 222,
    "start_time": "2021-12-16T10:19:51.377Z"
   },
   {
    "duration": 3,
    "start_time": "2021-12-16T10:19:58.752Z"
   },
   {
    "duration": 6,
    "start_time": "2021-12-16T10:19:58.758Z"
   },
   {
    "duration": 552,
    "start_time": "2021-12-16T10:19:58.767Z"
   },
   {
    "duration": 35,
    "start_time": "2021-12-16T10:19:59.321Z"
   },
   {
    "duration": 142,
    "start_time": "2021-12-16T10:19:59.358Z"
   },
   {
    "duration": 41,
    "start_time": "2021-12-16T10:19:59.503Z"
   },
   {
    "duration": 39,
    "start_time": "2021-12-16T10:19:59.546Z"
   },
   {
    "duration": 27,
    "start_time": "2021-12-16T10:19:59.588Z"
   },
   {
    "duration": 59,
    "start_time": "2021-12-16T10:19:59.619Z"
   },
   {
    "duration": 24,
    "start_time": "2021-12-16T10:19:59.683Z"
   },
   {
    "duration": 13,
    "start_time": "2021-12-16T10:19:59.710Z"
   },
   {
    "duration": 137,
    "start_time": "2021-12-16T10:19:59.726Z"
   },
   {
    "duration": 59,
    "start_time": "2021-12-16T10:19:59.879Z"
   },
   {
    "duration": 122,
    "start_time": "2021-12-16T10:19:59.952Z"
   },
   {
    "duration": 181,
    "start_time": "2021-12-16T10:20:00.089Z"
   },
   {
    "duration": 56,
    "start_time": "2021-12-16T10:20:00.274Z"
   },
   {
    "duration": 88,
    "start_time": "2021-12-16T10:20:00.333Z"
   },
   {
    "duration": 14,
    "start_time": "2021-12-16T10:20:00.424Z"
   },
   {
    "duration": 15,
    "start_time": "2021-12-16T10:20:00.440Z"
   },
   {
    "duration": 16,
    "start_time": "2021-12-16T10:20:00.458Z"
   },
   {
    "duration": 16,
    "start_time": "2021-12-16T10:20:00.476Z"
   },
   {
    "duration": 94,
    "start_time": "2021-12-16T10:20:00.495Z"
   },
   {
    "duration": 87,
    "start_time": "2021-12-16T10:20:00.592Z"
   },
   {
    "duration": 84,
    "start_time": "2021-12-16T10:20:00.681Z"
   },
   {
    "duration": 60,
    "start_time": "2021-12-16T10:20:00.768Z"
   },
   {
    "duration": 249,
    "start_time": "2021-12-16T10:20:00.831Z"
   },
   {
    "duration": 26,
    "start_time": "2021-12-16T10:20:01.084Z"
   },
   {
    "duration": 760,
    "start_time": "2021-12-16T10:20:01.113Z"
   },
   {
    "duration": 28,
    "start_time": "2021-12-16T10:20:01.875Z"
   },
   {
    "duration": 788,
    "start_time": "2021-12-16T10:20:01.906Z"
   },
   {
    "duration": 27,
    "start_time": "2021-12-16T10:20:02.698Z"
   },
   {
    "duration": 818,
    "start_time": "2021-12-16T10:20:02.727Z"
   },
   {
    "duration": 231,
    "start_time": "2021-12-16T10:20:19.802Z"
   },
   {
    "duration": 457,
    "start_time": "2021-12-16T10:20:52.692Z"
   },
   {
    "duration": 390,
    "start_time": "2021-12-16T10:21:11.990Z"
   },
   {
    "duration": 395,
    "start_time": "2021-12-16T10:21:22.185Z"
   },
   {
    "duration": 10,
    "start_time": "2021-12-16T10:21:43.661Z"
   },
   {
    "duration": 5325,
    "start_time": "2021-12-16T10:25:26.387Z"
   },
   {
    "duration": 7,
    "start_time": "2021-12-16T10:25:41.687Z"
   },
   {
    "duration": 7,
    "start_time": "2021-12-16T10:26:03.252Z"
   },
   {
    "duration": 8,
    "start_time": "2021-12-16T10:26:49.495Z"
   },
   {
    "duration": 452,
    "start_time": "2021-12-16T10:29:25.466Z"
   },
   {
    "duration": 442,
    "start_time": "2021-12-16T10:29:34.023Z"
   },
   {
    "duration": 442,
    "start_time": "2021-12-16T10:29:38.319Z"
   },
   {
    "duration": 224,
    "start_time": "2021-12-16T10:30:38.429Z"
   },
   {
    "duration": 212,
    "start_time": "2021-12-16T10:32:08.668Z"
   },
   {
    "duration": 141,
    "start_time": "2021-12-16T10:32:30.196Z"
   },
   {
    "duration": 138,
    "start_time": "2021-12-16T10:32:38.716Z"
   },
   {
    "duration": 465,
    "start_time": "2021-12-16T10:32:54.409Z"
   },
   {
    "duration": 213,
    "start_time": "2021-12-16T10:33:39.188Z"
   },
   {
    "duration": 225,
    "start_time": "2021-12-16T10:33:49.376Z"
   },
   {
    "duration": 219,
    "start_time": "2021-12-16T10:34:18.961Z"
   },
   {
    "duration": 428,
    "start_time": "2021-12-16T10:34:25.817Z"
   },
   {
    "duration": 428,
    "start_time": "2021-12-16T10:34:34.443Z"
   },
   {
    "duration": 216,
    "start_time": "2021-12-16T10:34:41.998Z"
   },
   {
    "duration": 213,
    "start_time": "2021-12-16T10:35:21.470Z"
   },
   {
    "duration": 82,
    "start_time": "2021-12-16T10:35:39.776Z"
   },
   {
    "duration": 94,
    "start_time": "2021-12-16T10:35:49.988Z"
   },
   {
    "duration": 4735,
    "start_time": "2021-12-16T10:37:49.276Z"
   },
   {
    "duration": 4820,
    "start_time": "2021-12-16T10:38:15.546Z"
   },
   {
    "duration": 5812,
    "start_time": "2021-12-16T10:39:18.861Z"
   },
   {
    "duration": 214,
    "start_time": "2021-12-16T10:39:38.503Z"
   },
   {
    "duration": 45,
    "start_time": "2021-12-16T10:40:05.741Z"
   },
   {
    "duration": 5334,
    "start_time": "2021-12-16T10:41:22.030Z"
   },
   {
    "duration": 6,
    "start_time": "2021-12-16T10:42:38.186Z"
   },
   {
    "duration": 8,
    "start_time": "2021-12-16T10:43:20.992Z"
   },
   {
    "duration": 8,
    "start_time": "2021-12-16T10:43:33.853Z"
   },
   {
    "duration": 421,
    "start_time": "2021-12-16T10:44:27.679Z"
   },
   {
    "duration": 74,
    "start_time": "2021-12-16T10:45:06.347Z"
   },
   {
    "duration": 109,
    "start_time": "2021-12-16T10:45:12.457Z"
   },
   {
    "duration": 269,
    "start_time": "2021-12-16T10:46:32.747Z"
   },
   {
    "duration": 472,
    "start_time": "2021-12-16T10:48:11.027Z"
   },
   {
    "duration": 357,
    "start_time": "2021-12-16T10:48:36.754Z"
   },
   {
    "duration": 70,
    "start_time": "2021-12-16T10:48:55.563Z"
   },
   {
    "duration": 71,
    "start_time": "2021-12-16T10:49:29.126Z"
   },
   {
    "duration": 367,
    "start_time": "2021-12-16T10:49:46.356Z"
   },
   {
    "duration": 59,
    "start_time": "2021-12-16T10:50:05.695Z"
   },
   {
    "duration": 389,
    "start_time": "2021-12-16T10:50:39.254Z"
   },
   {
    "duration": 392,
    "start_time": "2021-12-16T10:51:31.575Z"
   },
   {
    "duration": 151,
    "start_time": "2021-12-16T11:37:25.531Z"
   },
   {
    "duration": 5,
    "start_time": "2021-12-16T11:37:45.098Z"
   },
   {
    "duration": 6,
    "start_time": "2021-12-16T11:37:47.638Z"
   },
   {
    "duration": 7,
    "start_time": "2021-12-16T11:37:54.411Z"
   },
   {
    "duration": 7,
    "start_time": "2021-12-16T11:38:23.586Z"
   },
   {
    "duration": 8,
    "start_time": "2021-12-16T11:38:33.147Z"
   },
   {
    "duration": 6,
    "start_time": "2021-12-16T11:38:40.429Z"
   },
   {
    "duration": 6,
    "start_time": "2021-12-16T11:39:50.917Z"
   },
   {
    "duration": 8,
    "start_time": "2021-12-16T11:40:12.107Z"
   },
   {
    "duration": 8,
    "start_time": "2021-12-16T11:40:57.688Z"
   },
   {
    "duration": 7,
    "start_time": "2021-12-16T11:41:19.550Z"
   },
   {
    "duration": 7,
    "start_time": "2021-12-16T11:41:23.989Z"
   },
   {
    "duration": 7,
    "start_time": "2021-12-16T11:41:30.699Z"
   },
   {
    "duration": 6,
    "start_time": "2021-12-16T11:41:37.510Z"
   },
   {
    "duration": 8,
    "start_time": "2021-12-16T11:42:22.193Z"
   },
   {
    "duration": 7,
    "start_time": "2021-12-16T11:44:11.294Z"
   },
   {
    "duration": 9,
    "start_time": "2021-12-16T11:44:16.244Z"
   },
   {
    "duration": 8,
    "start_time": "2021-12-16T11:44:39.703Z"
   },
   {
    "duration": 10,
    "start_time": "2021-12-16T11:44:57.991Z"
   },
   {
    "duration": 6,
    "start_time": "2021-12-16T11:45:00.707Z"
   },
   {
    "duration": 8,
    "start_time": "2021-12-16T11:45:02.465Z"
   },
   {
    "duration": 8,
    "start_time": "2021-12-16T11:48:05.518Z"
   },
   {
    "duration": 8,
    "start_time": "2021-12-16T11:48:48.356Z"
   },
   {
    "duration": 10,
    "start_time": "2021-12-16T11:49:09.087Z"
   },
   {
    "duration": 9,
    "start_time": "2021-12-16T11:49:18.864Z"
   },
   {
    "duration": 7,
    "start_time": "2021-12-16T11:50:18.338Z"
   },
   {
    "duration": 8,
    "start_time": "2021-12-16T11:50:32.463Z"
   },
   {
    "duration": 7,
    "start_time": "2021-12-16T11:50:45.251Z"
   },
   {
    "duration": 8,
    "start_time": "2021-12-16T11:50:59.849Z"
   },
   {
    "duration": 8,
    "start_time": "2021-12-16T11:51:10.721Z"
   },
   {
    "duration": 7,
    "start_time": "2021-12-16T11:51:20.876Z"
   },
   {
    "duration": 6,
    "start_time": "2021-12-16T11:51:34.189Z"
   },
   {
    "duration": 5,
    "start_time": "2021-12-16T11:51:52.604Z"
   },
   {
    "duration": 6,
    "start_time": "2021-12-16T11:51:58.375Z"
   },
   {
    "duration": 407,
    "start_time": "2021-12-16T11:52:46.718Z"
   },
   {
    "duration": 6,
    "start_time": "2021-12-16T11:52:54.533Z"
   },
   {
    "duration": 7,
    "start_time": "2021-12-16T11:53:34.020Z"
   },
   {
    "duration": 7,
    "start_time": "2021-12-16T11:53:55.621Z"
   },
   {
    "duration": 7,
    "start_time": "2021-12-16T11:54:15.617Z"
   },
   {
    "duration": 7,
    "start_time": "2021-12-16T11:54:37.036Z"
   },
   {
    "duration": 7,
    "start_time": "2021-12-16T11:57:10.002Z"
   },
   {
    "duration": 10,
    "start_time": "2021-12-16T11:57:40.519Z"
   },
   {
    "duration": 7,
    "start_time": "2021-12-16T11:59:21.623Z"
   },
   {
    "duration": 743,
    "start_time": "2021-12-16T12:00:49.701Z"
   },
   {
    "duration": 9,
    "start_time": "2021-12-16T12:00:56.106Z"
   },
   {
    "duration": 4,
    "start_time": "2021-12-16T12:01:04.444Z"
   },
   {
    "duration": 6,
    "start_time": "2021-12-16T12:01:04.452Z"
   },
   {
    "duration": 540,
    "start_time": "2021-12-16T12:01:04.463Z"
   },
   {
    "duration": 53,
    "start_time": "2021-12-16T12:01:05.006Z"
   },
   {
    "duration": 225,
    "start_time": "2021-12-16T12:01:05.062Z"
   },
   {
    "duration": 55,
    "start_time": "2021-12-16T12:01:05.290Z"
   },
   {
    "duration": 35,
    "start_time": "2021-12-16T12:01:05.360Z"
   },
   {
    "duration": 28,
    "start_time": "2021-12-16T12:01:05.398Z"
   },
   {
    "duration": 66,
    "start_time": "2021-12-16T12:01:05.433Z"
   },
   {
    "duration": 24,
    "start_time": "2021-12-16T12:01:05.503Z"
   },
   {
    "duration": 38,
    "start_time": "2021-12-16T12:01:05.530Z"
   },
   {
    "duration": 88,
    "start_time": "2021-12-16T12:01:05.572Z"
   },
   {
    "duration": 21,
    "start_time": "2021-12-16T12:01:05.663Z"
   },
   {
    "duration": 35,
    "start_time": "2021-12-16T12:01:05.687Z"
   },
   {
    "duration": 80,
    "start_time": "2021-12-16T12:01:05.725Z"
   },
   {
    "duration": 17,
    "start_time": "2021-12-16T12:01:05.808Z"
   },
   {
    "duration": 35,
    "start_time": "2021-12-16T12:01:05.833Z"
   },
   {
    "duration": 23,
    "start_time": "2021-12-16T12:01:05.871Z"
   },
   {
    "duration": 11,
    "start_time": "2021-12-16T12:01:05.900Z"
   },
   {
    "duration": 23,
    "start_time": "2021-12-16T12:01:05.914Z"
   },
   {
    "duration": 146,
    "start_time": "2021-12-16T12:01:05.961Z"
   },
   {
    "duration": 115,
    "start_time": "2021-12-16T12:01:06.111Z"
   },
   {
    "duration": 104,
    "start_time": "2021-12-16T12:01:06.230Z"
   },
   {
    "duration": 88,
    "start_time": "2021-12-16T12:01:06.337Z"
   },
   {
    "duration": 90,
    "start_time": "2021-12-16T12:01:06.427Z"
   },
   {
    "duration": 615,
    "start_time": "2021-12-16T12:01:06.520Z"
   },
   {
    "duration": 25,
    "start_time": "2021-12-16T12:01:07.141Z"
   },
   {
    "duration": 31,
    "start_time": "2021-12-16T12:01:07.169Z"
   },
   {
    "duration": 861,
    "start_time": "2021-12-16T12:01:07.202Z"
   },
   {
    "duration": 36,
    "start_time": "2021-12-16T12:01:08.066Z"
   },
   {
    "duration": 821,
    "start_time": "2021-12-16T12:01:08.105Z"
   },
   {
    "duration": 44,
    "start_time": "2021-12-16T12:01:08.928Z"
   },
   {
    "duration": 843,
    "start_time": "2021-12-16T12:01:08.975Z"
   },
   {
    "duration": 8,
    "start_time": "2021-12-16T12:01:09.820Z"
   },
   {
    "duration": 30,
    "start_time": "2021-12-16T12:01:09.831Z"
   },
   {
    "duration": 7,
    "start_time": "2021-12-16T12:01:09.864Z"
   },
   {
    "duration": 8,
    "start_time": "2021-12-16T12:01:09.874Z"
   },
   {
    "duration": 9,
    "start_time": "2021-12-16T12:01:36.214Z"
   },
   {
    "duration": 8,
    "start_time": "2021-12-16T12:01:49.214Z"
   },
   {
    "duration": 6,
    "start_time": "2021-12-16T12:01:52.095Z"
   },
   {
    "duration": 9,
    "start_time": "2021-12-16T12:01:56.750Z"
   },
   {
    "duration": 7,
    "start_time": "2021-12-16T12:38:49.919Z"
   },
   {
    "duration": 10,
    "start_time": "2021-12-16T12:39:06.325Z"
   },
   {
    "duration": 6,
    "start_time": "2021-12-16T12:39:42.955Z"
   },
   {
    "duration": 6,
    "start_time": "2021-12-16T12:40:40.081Z"
   },
   {
    "duration": 6,
    "start_time": "2021-12-16T12:40:52.446Z"
   },
   {
    "duration": 6,
    "start_time": "2021-12-16T12:40:52.899Z"
   },
   {
    "duration": 6,
    "start_time": "2021-12-16T12:41:03.420Z"
   },
   {
    "duration": 6,
    "start_time": "2021-12-16T12:41:10.267Z"
   },
   {
    "duration": 7,
    "start_time": "2021-12-16T12:41:56.778Z"
   },
   {
    "duration": 3,
    "start_time": "2021-12-16T14:38:24.898Z"
   },
   {
    "duration": 6,
    "start_time": "2021-12-16T14:38:24.907Z"
   },
   {
    "duration": 660,
    "start_time": "2021-12-16T14:38:24.916Z"
   },
   {
    "duration": 34,
    "start_time": "2021-12-16T14:38:25.579Z"
   },
   {
    "duration": 157,
    "start_time": "2021-12-16T14:38:25.616Z"
   },
   {
    "duration": 49,
    "start_time": "2021-12-16T14:38:25.775Z"
   },
   {
    "duration": 53,
    "start_time": "2021-12-16T14:38:25.827Z"
   },
   {
    "duration": 24,
    "start_time": "2021-12-16T14:38:25.882Z"
   },
   {
    "duration": 52,
    "start_time": "2021-12-16T14:38:25.912Z"
   },
   {
    "duration": 18,
    "start_time": "2021-12-16T14:38:25.967Z"
   },
   {
    "duration": 10,
    "start_time": "2021-12-16T14:38:25.988Z"
   },
   {
    "duration": 86,
    "start_time": "2021-12-16T14:38:26.000Z"
   },
   {
    "duration": 18,
    "start_time": "2021-12-16T14:38:26.088Z"
   },
   {
    "duration": 58,
    "start_time": "2021-12-16T14:38:26.109Z"
   },
   {
    "duration": 56,
    "start_time": "2021-12-16T14:38:26.170Z"
   },
   {
    "duration": 39,
    "start_time": "2021-12-16T14:38:26.228Z"
   },
   {
    "duration": 16,
    "start_time": "2021-12-16T14:38:26.270Z"
   },
   {
    "duration": 16,
    "start_time": "2021-12-16T14:38:26.289Z"
   },
   {
    "duration": 5,
    "start_time": "2021-12-16T14:38:26.308Z"
   },
   {
    "duration": 45,
    "start_time": "2021-12-16T14:38:26.316Z"
   },
   {
    "duration": 17,
    "start_time": "2021-12-16T14:38:26.364Z"
   },
   {
    "duration": 88,
    "start_time": "2021-12-16T14:38:26.383Z"
   },
   {
    "duration": 95,
    "start_time": "2021-12-16T14:38:26.473Z"
   },
   {
    "duration": 96,
    "start_time": "2021-12-16T14:38:26.572Z"
   },
   {
    "duration": 60,
    "start_time": "2021-12-16T14:38:26.671Z"
   },
   {
    "duration": 426,
    "start_time": "2021-12-16T14:38:26.734Z"
   },
   {
    "duration": 8,
    "start_time": "2021-12-16T14:38:27.163Z"
   },
   {
    "duration": 30,
    "start_time": "2021-12-16T14:38:27.174Z"
   },
   {
    "duration": 766,
    "start_time": "2021-12-16T14:38:27.206Z"
   },
   {
    "duration": 30,
    "start_time": "2021-12-16T14:38:27.974Z"
   },
   {
    "duration": 761,
    "start_time": "2021-12-16T14:38:28.007Z"
   },
   {
    "duration": 28,
    "start_time": "2021-12-16T14:38:28.771Z"
   },
   {
    "duration": 1037,
    "start_time": "2021-12-16T14:38:28.802Z"
   },
   {
    "duration": 6,
    "start_time": "2021-12-16T14:38:29.842Z"
   },
   {
    "duration": 14,
    "start_time": "2021-12-16T14:38:29.860Z"
   },
   {
    "duration": 12,
    "start_time": "2021-12-16T14:38:29.877Z"
   },
   {
    "duration": 14,
    "start_time": "2021-12-16T14:38:29.894Z"
   },
   {
    "duration": 10,
    "start_time": "2021-12-16T14:50:41.975Z"
   },
   {
    "duration": 6,
    "start_time": "2021-12-16T14:50:42.320Z"
   },
   {
    "duration": 10,
    "start_time": "2021-12-16T14:52:26.364Z"
   },
   {
    "duration": 5,
    "start_time": "2021-12-16T14:52:26.760Z"
   },
   {
    "duration": 12,
    "start_time": "2021-12-16T14:55:02.389Z"
   },
   {
    "duration": 29,
    "start_time": "2021-12-16T14:56:15.007Z"
   },
   {
    "duration": 388,
    "start_time": "2021-12-16T14:56:27.532Z"
   },
   {
    "duration": 43,
    "start_time": "2021-12-16T14:57:21.489Z"
   },
   {
    "duration": 42,
    "start_time": "2021-12-16T14:57:31.129Z"
   },
   {
    "duration": 393,
    "start_time": "2021-12-16T14:58:14.336Z"
   },
   {
    "duration": 580,
    "start_time": "2021-12-16T14:58:24.080Z"
   },
   {
    "duration": 7,
    "start_time": "2021-12-16T14:59:51.094Z"
   },
   {
    "duration": 377,
    "start_time": "2021-12-16T15:00:07.394Z"
   },
   {
    "duration": 7,
    "start_time": "2021-12-16T15:00:15.877Z"
   },
   {
    "duration": 13,
    "start_time": "2021-12-16T15:00:54.390Z"
   },
   {
    "duration": 12,
    "start_time": "2021-12-16T15:02:27.833Z"
   },
   {
    "duration": 12,
    "start_time": "2021-12-16T15:02:31.850Z"
   },
   {
    "duration": 9,
    "start_time": "2021-12-16T15:02:48.290Z"
   },
   {
    "duration": 10,
    "start_time": "2021-12-16T15:02:57.786Z"
   },
   {
    "duration": 246,
    "start_time": "2021-12-16T15:12:19.695Z"
   },
   {
    "duration": 63,
    "start_time": "2021-12-16T15:14:11.797Z"
   },
   {
    "duration": 65,
    "start_time": "2021-12-16T15:14:18.656Z"
   },
   {
    "duration": 332,
    "start_time": "2021-12-16T15:15:09.290Z"
   },
   {
    "duration": 12,
    "start_time": "2021-12-16T15:15:51.931Z"
   },
   {
    "duration": 357,
    "start_time": "2021-12-16T15:19:37.210Z"
   },
   {
    "duration": 244,
    "start_time": "2021-12-16T15:45:23.424Z"
   },
   {
    "duration": 250,
    "start_time": "2021-12-16T15:45:46.597Z"
   },
   {
    "duration": 269,
    "start_time": "2021-12-16T15:45:53.307Z"
   },
   {
    "duration": 13,
    "start_time": "2021-12-16T15:47:16.726Z"
   },
   {
    "duration": 11,
    "start_time": "2021-12-16T15:47:25.706Z"
   },
   {
    "duration": 11,
    "start_time": "2021-12-16T15:47:30.123Z"
   },
   {
    "duration": 11,
    "start_time": "2021-12-16T15:49:52.834Z"
   },
   {
    "duration": 13,
    "start_time": "2021-12-16T15:49:59.868Z"
   },
   {
    "duration": 11,
    "start_time": "2021-12-16T15:50:08.897Z"
   },
   {
    "duration": 276,
    "start_time": "2021-12-16T15:50:26.956Z"
   },
   {
    "duration": 10,
    "start_time": "2021-12-16T15:53:48.255Z"
   },
   {
    "duration": 11,
    "start_time": "2021-12-16T15:53:51.583Z"
   },
   {
    "duration": 29,
    "start_time": "2021-12-16T16:02:34.253Z"
   },
   {
    "duration": 11,
    "start_time": "2021-12-16T18:47:29.781Z"
   },
   {
    "duration": 9,
    "start_time": "2021-12-16T18:47:38.905Z"
   },
   {
    "duration": 53,
    "start_time": "2021-12-16T18:48:06.783Z"
   },
   {
    "duration": 8,
    "start_time": "2021-12-16T18:48:22.895Z"
   },
   {
    "duration": 11,
    "start_time": "2021-12-16T18:48:28.790Z"
   },
   {
    "duration": 1048,
    "start_time": "2021-12-16T18:48:49.893Z"
   },
   {
    "duration": 694,
    "start_time": "2021-12-16T18:48:59.057Z"
   },
   {
    "duration": 599,
    "start_time": "2021-12-16T18:49:05.875Z"
   },
   {
    "duration": 13,
    "start_time": "2021-12-16T18:49:30.945Z"
   },
   {
    "duration": 465,
    "start_time": "2021-12-16T18:49:47.483Z"
   },
   {
    "duration": 43,
    "start_time": "2021-12-16T18:50:05.305Z"
   },
   {
    "duration": 338,
    "start_time": "2021-12-16T18:50:33.862Z"
   },
   {
    "duration": 28,
    "start_time": "2021-12-16T18:50:41.078Z"
   },
   {
    "duration": 1008,
    "start_time": "2021-12-16T18:50:54.250Z"
   },
   {
    "duration": 22,
    "start_time": "2021-12-16T18:51:09.145Z"
   },
   {
    "duration": 2733,
    "start_time": "2021-12-16T18:51:17.452Z"
   },
   {
    "duration": 28,
    "start_time": "2021-12-16T18:51:21.467Z"
   },
   {
    "duration": 705,
    "start_time": "2021-12-16T18:52:48.379Z"
   },
   {
    "duration": 35,
    "start_time": "2021-12-16T18:52:58.029Z"
   },
   {
    "duration": 13,
    "start_time": "2021-12-16T18:53:15.007Z"
   },
   {
    "duration": 32,
    "start_time": "2021-12-16T18:53:15.627Z"
   },
   {
    "duration": 146,
    "start_time": "2021-12-16T18:53:34.918Z"
   },
   {
    "duration": 37,
    "start_time": "2021-12-16T18:54:18.407Z"
   },
   {
    "duration": 4675,
    "start_time": "2021-12-16T18:55:33.745Z"
   },
   {
    "duration": 387,
    "start_time": "2021-12-16T18:55:44.440Z"
   },
   {
    "duration": 396,
    "start_time": "2021-12-16T18:56:01.040Z"
   },
   {
    "duration": 17,
    "start_time": "2021-12-16T18:56:32.576Z"
   },
   {
    "duration": 32,
    "start_time": "2021-12-16T18:56:50.241Z"
   },
   {
    "duration": 39,
    "start_time": "2021-12-16T18:57:12.230Z"
   },
   {
    "duration": 13,
    "start_time": "2021-12-16T18:57:54.591Z"
   },
   {
    "duration": 14,
    "start_time": "2021-12-16T18:58:03.311Z"
   },
   {
    "duration": 394,
    "start_time": "2021-12-16T18:58:28.905Z"
   },
   {
    "duration": 234,
    "start_time": "2021-12-16T18:58:45.167Z"
   },
   {
    "duration": 209,
    "start_time": "2021-12-16T18:58:59.304Z"
   },
   {
    "duration": 29,
    "start_time": "2021-12-16T19:00:27.187Z"
   },
   {
    "duration": 7,
    "start_time": "2021-12-16T19:00:45.556Z"
   },
   {
    "duration": 9,
    "start_time": "2021-12-16T19:00:53.974Z"
   },
   {
    "duration": 29,
    "start_time": "2021-12-16T19:01:39.061Z"
   },
   {
    "duration": 651,
    "start_time": "2021-12-16T19:02:27.424Z"
   },
   {
    "duration": 273,
    "start_time": "2021-12-16T19:02:38.145Z"
   },
   {
    "duration": 340,
    "start_time": "2021-12-16T19:02:41.944Z"
   },
   {
    "duration": 424,
    "start_time": "2021-12-16T19:02:53.194Z"
   },
   {
    "duration": 2870,
    "start_time": "2021-12-16T19:03:03.976Z"
   },
   {
    "duration": 740,
    "start_time": "2021-12-16T19:03:09.762Z"
   },
   {
    "duration": 403,
    "start_time": "2021-12-16T19:03:20.613Z"
   },
   {
    "duration": 14,
    "start_time": "2021-12-16T19:09:38.203Z"
   },
   {
    "duration": 144,
    "start_time": "2021-12-16T19:09:43.348Z"
   },
   {
    "duration": 34,
    "start_time": "2021-12-16T19:09:48.631Z"
   },
   {
    "duration": 817,
    "start_time": "2021-12-16T19:11:41.090Z"
   },
   {
    "duration": 334,
    "start_time": "2021-12-16T19:11:44.425Z"
   },
   {
    "duration": 341,
    "start_time": "2021-12-16T19:11:48.478Z"
   },
   {
    "duration": 499,
    "start_time": "2021-12-16T19:11:51.979Z"
   },
   {
    "duration": 361,
    "start_time": "2021-12-16T19:11:56.183Z"
   },
   {
    "duration": 501,
    "start_time": "2021-12-16T19:11:59.517Z"
   },
   {
    "duration": 16,
    "start_time": "2021-12-16T19:15:14.724Z"
   },
   {
    "duration": 13,
    "start_time": "2021-12-16T19:17:40.820Z"
   },
   {
    "duration": 13,
    "start_time": "2021-12-16T19:17:48.733Z"
   },
   {
    "duration": 12,
    "start_time": "2021-12-16T19:21:22.449Z"
   },
   {
    "duration": 8,
    "start_time": "2021-12-16T19:21:24.913Z"
   },
   {
    "duration": 379,
    "start_time": "2021-12-16T19:22:28.947Z"
   },
   {
    "duration": 419,
    "start_time": "2021-12-16T19:22:34.725Z"
   },
   {
    "duration": 361,
    "start_time": "2021-12-16T19:23:03.938Z"
   },
   {
    "duration": 751,
    "start_time": "2021-12-16T19:23:46.471Z"
   },
   {
    "duration": 404,
    "start_time": "2021-12-16T19:24:12.786Z"
   },
   {
    "duration": 355,
    "start_time": "2021-12-16T19:24:44.329Z"
   },
   {
    "duration": 340,
    "start_time": "2021-12-16T19:25:01.231Z"
   },
   {
    "duration": 420,
    "start_time": "2021-12-16T19:25:16.390Z"
   },
   {
    "duration": 9,
    "start_time": "2021-12-16T19:26:27.193Z"
   },
   {
    "duration": 9,
    "start_time": "2021-12-16T19:26:33.448Z"
   },
   {
    "duration": 11,
    "start_time": "2021-12-16T19:26:44.057Z"
   },
   {
    "duration": 156,
    "start_time": "2021-12-16T19:28:39.580Z"
   },
   {
    "duration": 1195,
    "start_time": "2021-12-16T19:29:31.962Z"
   },
   {
    "duration": 533,
    "start_time": "2021-12-16T19:29:55.664Z"
   },
   {
    "duration": 827,
    "start_time": "2021-12-16T19:30:05.984Z"
   },
   {
    "duration": 161,
    "start_time": "2021-12-16T19:30:25.361Z"
   },
   {
    "duration": 132,
    "start_time": "2021-12-16T19:30:35.583Z"
   },
   {
    "duration": 425,
    "start_time": "2021-12-16T19:30:49.887Z"
   },
   {
    "duration": 11,
    "start_time": "2021-12-16T19:31:26.931Z"
   },
   {
    "duration": 8,
    "start_time": "2021-12-16T19:31:44.177Z"
   },
   {
    "duration": 13,
    "start_time": "2021-12-16T19:31:54.859Z"
   },
   {
    "duration": 12,
    "start_time": "2021-12-16T19:32:14.871Z"
   },
   {
    "duration": 12,
    "start_time": "2021-12-16T19:32:19.022Z"
   },
   {
    "duration": 12,
    "start_time": "2021-12-16T19:32:25.101Z"
   },
   {
    "duration": 11,
    "start_time": "2021-12-16T19:32:30.009Z"
   },
   {
    "duration": 18,
    "start_time": "2021-12-16T19:33:25.245Z"
   },
   {
    "duration": 18,
    "start_time": "2021-12-16T19:33:33.927Z"
   },
   {
    "duration": 19,
    "start_time": "2021-12-16T19:33:41.102Z"
   },
   {
    "duration": 181,
    "start_time": "2021-12-16T19:44:46.090Z"
   },
   {
    "duration": 138,
    "start_time": "2021-12-16T19:45:18.448Z"
   },
   {
    "duration": 126,
    "start_time": "2021-12-16T19:45:48.616Z"
   },
   {
    "duration": 13,
    "start_time": "2021-12-16T19:50:58.676Z"
   },
   {
    "duration": 3,
    "start_time": "2021-12-16T19:56:04.308Z"
   },
   {
    "duration": 14,
    "start_time": "2021-12-16T19:56:04.314Z"
   },
   {
    "duration": 606,
    "start_time": "2021-12-16T19:56:04.333Z"
   },
   {
    "duration": 53,
    "start_time": "2021-12-16T19:56:04.942Z"
   },
   {
    "duration": 161,
    "start_time": "2021-12-16T19:56:04.998Z"
   },
   {
    "duration": 43,
    "start_time": "2021-12-16T19:56:05.162Z"
   },
   {
    "duration": 51,
    "start_time": "2021-12-16T19:56:05.208Z"
   },
   {
    "duration": 25,
    "start_time": "2021-12-16T19:56:05.261Z"
   },
   {
    "duration": 44,
    "start_time": "2021-12-16T19:56:05.292Z"
   },
   {
    "duration": 20,
    "start_time": "2021-12-16T19:56:05.361Z"
   },
   {
    "duration": 20,
    "start_time": "2021-12-16T19:56:05.383Z"
   },
   {
    "duration": 72,
    "start_time": "2021-12-16T19:56:05.406Z"
   },
   {
    "duration": 17,
    "start_time": "2021-12-16T19:56:05.481Z"
   },
   {
    "duration": 25,
    "start_time": "2021-12-16T19:56:05.501Z"
   },
   {
    "duration": 62,
    "start_time": "2021-12-16T19:56:05.529Z"
   },
   {
    "duration": 11,
    "start_time": "2021-12-16T19:56:05.594Z"
   },
   {
    "duration": 16,
    "start_time": "2021-12-16T19:56:05.608Z"
   },
   {
    "duration": 36,
    "start_time": "2021-12-16T19:56:05.627Z"
   },
   {
    "duration": 8,
    "start_time": "2021-12-16T19:56:05.665Z"
   },
   {
    "duration": 15,
    "start_time": "2021-12-16T19:56:05.675Z"
   },
   {
    "duration": 376,
    "start_time": "2021-12-16T19:56:05.693Z"
   },
   {
    "duration": -105,
    "start_time": "2021-12-16T19:56:06.177Z"
   },
   {
    "duration": -106,
    "start_time": "2021-12-16T19:56:06.179Z"
   },
   {
    "duration": -177,
    "start_time": "2021-12-16T19:56:06.252Z"
   },
   {
    "duration": -182,
    "start_time": "2021-12-16T19:56:06.258Z"
   },
   {
    "duration": -182,
    "start_time": "2021-12-16T19:56:06.260Z"
   },
   {
    "duration": -182,
    "start_time": "2021-12-16T19:56:06.262Z"
   },
   {
    "duration": -183,
    "start_time": "2021-12-16T19:56:06.264Z"
   },
   {
    "duration": -183,
    "start_time": "2021-12-16T19:56:06.266Z"
   },
   {
    "duration": -182,
    "start_time": "2021-12-16T19:56:06.267Z"
   },
   {
    "duration": -183,
    "start_time": "2021-12-16T19:56:06.269Z"
   },
   {
    "duration": -184,
    "start_time": "2021-12-16T19:56:06.271Z"
   },
   {
    "duration": -183,
    "start_time": "2021-12-16T19:56:06.272Z"
   },
   {
    "duration": -184,
    "start_time": "2021-12-16T19:56:06.274Z"
   },
   {
    "duration": -185,
    "start_time": "2021-12-16T19:56:06.276Z"
   },
   {
    "duration": -184,
    "start_time": "2021-12-16T19:56:06.277Z"
   },
   {
    "duration": -185,
    "start_time": "2021-12-16T19:56:06.279Z"
   },
   {
    "duration": -185,
    "start_time": "2021-12-16T19:56:06.280Z"
   },
   {
    "duration": 15,
    "start_time": "2021-12-16T19:56:27.904Z"
   },
   {
    "duration": 3,
    "start_time": "2021-12-16T19:56:48.735Z"
   },
   {
    "duration": 6,
    "start_time": "2021-12-16T19:56:48.740Z"
   },
   {
    "duration": 496,
    "start_time": "2021-12-16T19:56:48.749Z"
   },
   {
    "duration": 33,
    "start_time": "2021-12-16T19:56:49.248Z"
   },
   {
    "duration": 148,
    "start_time": "2021-12-16T19:56:49.284Z"
   },
   {
    "duration": 48,
    "start_time": "2021-12-16T19:56:49.435Z"
   },
   {
    "duration": 31,
    "start_time": "2021-12-16T19:56:49.485Z"
   },
   {
    "duration": 46,
    "start_time": "2021-12-16T19:56:49.520Z"
   },
   {
    "duration": 29,
    "start_time": "2021-12-16T19:56:49.570Z"
   },
   {
    "duration": 17,
    "start_time": "2021-12-16T19:56:49.602Z"
   },
   {
    "duration": 43,
    "start_time": "2021-12-16T19:56:49.622Z"
   },
   {
    "duration": 58,
    "start_time": "2021-12-16T19:56:49.667Z"
   },
   {
    "duration": 32,
    "start_time": "2021-12-16T19:56:49.728Z"
   },
   {
    "duration": 25,
    "start_time": "2021-12-16T19:56:49.763Z"
   },
   {
    "duration": 42,
    "start_time": "2021-12-16T19:56:49.790Z"
   },
   {
    "duration": 33,
    "start_time": "2021-12-16T19:56:49.834Z"
   },
   {
    "duration": 16,
    "start_time": "2021-12-16T19:56:49.869Z"
   },
   {
    "duration": 12,
    "start_time": "2021-12-16T19:56:49.888Z"
   },
   {
    "duration": 8,
    "start_time": "2021-12-16T19:56:49.902Z"
   },
   {
    "duration": 63,
    "start_time": "2021-12-16T19:56:49.912Z"
   },
   {
    "duration": 20,
    "start_time": "2021-12-16T19:56:49.978Z"
   },
   {
    "duration": 101,
    "start_time": "2021-12-16T19:56:50.001Z"
   },
   {
    "duration": 127,
    "start_time": "2021-12-16T19:56:50.107Z"
   },
   {
    "duration": 122,
    "start_time": "2021-12-16T19:56:50.238Z"
   },
   {
    "duration": 63,
    "start_time": "2021-12-16T19:56:50.363Z"
   },
   {
    "duration": 422,
    "start_time": "2021-12-16T19:56:50.428Z"
   },
   {
    "duration": 32,
    "start_time": "2021-12-16T19:56:50.853Z"
   },
   {
    "duration": 763,
    "start_time": "2021-12-16T19:56:50.887Z"
   },
   {
    "duration": 32,
    "start_time": "2021-12-16T19:56:51.652Z"
   },
   {
    "duration": 944,
    "start_time": "2021-12-16T19:56:51.686Z"
   },
   {
    "duration": 37,
    "start_time": "2021-12-16T19:56:52.632Z"
   },
   {
    "duration": 768,
    "start_time": "2021-12-16T19:56:52.671Z"
   },
   {
    "duration": 28,
    "start_time": "2021-12-16T19:56:53.442Z"
   },
   {
    "duration": 301,
    "start_time": "2021-12-16T19:56:53.473Z"
   },
   {
    "duration": 12,
    "start_time": "2021-12-16T19:56:53.776Z"
   },
   {
    "duration": 626,
    "start_time": "2021-12-16T19:56:53.791Z"
   },
   {
    "duration": 39,
    "start_time": "2021-12-16T19:56:54.421Z"
   },
   {
    "duration": 380,
    "start_time": "2021-12-16T19:57:19.550Z"
   },
   {
    "duration": 4,
    "start_time": "2021-12-16T19:58:01.234Z"
   },
   {
    "duration": 10,
    "start_time": "2021-12-16T19:58:01.240Z"
   },
   {
    "duration": 518,
    "start_time": "2021-12-16T19:58:01.253Z"
   },
   {
    "duration": 34,
    "start_time": "2021-12-16T19:58:01.773Z"
   },
   {
    "duration": 140,
    "start_time": "2021-12-16T19:58:01.810Z"
   },
   {
    "duration": 40,
    "start_time": "2021-12-16T19:58:01.952Z"
   },
   {
    "duration": 31,
    "start_time": "2021-12-16T19:58:01.995Z"
   },
   {
    "duration": 43,
    "start_time": "2021-12-16T19:58:02.028Z"
   },
   {
    "duration": 30,
    "start_time": "2021-12-16T19:58:02.077Z"
   },
   {
    "duration": 50,
    "start_time": "2021-12-16T19:58:02.111Z"
   },
   {
    "duration": 13,
    "start_time": "2021-12-16T19:58:02.163Z"
   },
   {
    "duration": 80,
    "start_time": "2021-12-16T19:58:02.179Z"
   },
   {
    "duration": 20,
    "start_time": "2021-12-16T19:58:02.262Z"
   },
   {
    "duration": 27,
    "start_time": "2021-12-16T19:58:02.285Z"
   },
   {
    "duration": 80,
    "start_time": "2021-12-16T19:58:02.315Z"
   },
   {
    "duration": 13,
    "start_time": "2021-12-16T19:58:02.398Z"
   },
   {
    "duration": 46,
    "start_time": "2021-12-16T19:58:02.414Z"
   },
   {
    "duration": 10,
    "start_time": "2021-12-16T19:58:02.463Z"
   },
   {
    "duration": 27,
    "start_time": "2021-12-16T19:58:02.476Z"
   },
   {
    "duration": 18,
    "start_time": "2021-12-16T19:58:02.505Z"
   },
   {
    "duration": 93,
    "start_time": "2021-12-16T19:58:02.526Z"
   },
   {
    "duration": 96,
    "start_time": "2021-12-16T19:58:02.622Z"
   },
   {
    "duration": 96,
    "start_time": "2021-12-16T19:58:02.722Z"
   },
   {
    "duration": 72,
    "start_time": "2021-12-16T19:58:02.821Z"
   },
   {
    "duration": 392,
    "start_time": "2021-12-16T19:58:02.897Z"
   },
   {
    "duration": 25,
    "start_time": "2021-12-16T19:58:03.292Z"
   },
   {
    "duration": 755,
    "start_time": "2021-12-16T19:58:03.322Z"
   },
   {
    "duration": 28,
    "start_time": "2021-12-16T19:58:04.079Z"
   },
   {
    "duration": 780,
    "start_time": "2021-12-16T19:58:04.110Z"
   },
   {
    "duration": 26,
    "start_time": "2021-12-16T19:58:04.893Z"
   },
   {
    "duration": 783,
    "start_time": "2021-12-16T19:58:04.922Z"
   },
   {
    "duration": 12,
    "start_time": "2021-12-16T19:58:05.708Z"
   },
   {
    "duration": 293,
    "start_time": "2021-12-16T19:58:05.723Z"
   },
   {
    "duration": 14,
    "start_time": "2021-12-16T19:58:06.019Z"
   },
   {
    "duration": 431,
    "start_time": "2021-12-16T19:58:06.036Z"
   },
   {
    "duration": 20,
    "start_time": "2021-12-16T19:58:06.470Z"
   },
   {
    "duration": 12,
    "start_time": "2021-12-16T20:00:01.996Z"
   },
   {
    "duration": 15,
    "start_time": "2021-12-16T20:00:09.627Z"
   },
   {
    "duration": 14,
    "start_time": "2021-12-16T20:00:24.580Z"
   },
   {
    "duration": 80,
    "start_time": "2021-12-16T20:04:14.729Z"
   },
   {
    "duration": 71,
    "start_time": "2021-12-16T20:04:22.352Z"
   },
   {
    "duration": 64,
    "start_time": "2021-12-16T20:05:07.197Z"
   },
   {
    "duration": 67,
    "start_time": "2021-12-16T20:05:10.439Z"
   },
   {
    "duration": 59,
    "start_time": "2021-12-16T20:05:12.190Z"
   },
   {
    "duration": 210,
    "start_time": "2021-12-17T06:35:26.180Z"
   },
   {
    "duration": 169,
    "start_time": "2021-12-17T06:36:10.548Z"
   },
   {
    "duration": 3,
    "start_time": "2021-12-17T06:36:16.765Z"
   },
   {
    "duration": 1115,
    "start_time": "2021-12-17T06:36:16.771Z"
   },
   {
    "duration": 1182,
    "start_time": "2021-12-17T06:36:17.888Z"
   },
   {
    "duration": 21,
    "start_time": "2021-12-17T06:36:19.072Z"
   },
   {
    "duration": 103,
    "start_time": "2021-12-17T06:36:19.095Z"
   },
   {
    "duration": 32,
    "start_time": "2021-12-17T06:36:19.199Z"
   },
   {
    "duration": 22,
    "start_time": "2021-12-17T06:36:19.233Z"
   },
   {
    "duration": 42,
    "start_time": "2021-12-17T06:36:19.257Z"
   },
   {
    "duration": 17,
    "start_time": "2021-12-17T06:36:19.301Z"
   },
   {
    "duration": 12,
    "start_time": "2021-12-17T06:36:19.320Z"
   },
   {
    "duration": 9,
    "start_time": "2021-12-17T06:36:19.334Z"
   },
   {
    "duration": 59,
    "start_time": "2021-12-17T06:36:19.344Z"
   },
   {
    "duration": 13,
    "start_time": "2021-12-17T06:36:19.405Z"
   },
   {
    "duration": 14,
    "start_time": "2021-12-17T06:36:19.420Z"
   },
   {
    "duration": 30,
    "start_time": "2021-12-17T06:36:19.435Z"
   },
   {
    "duration": 31,
    "start_time": "2021-12-17T06:36:19.467Z"
   },
   {
    "duration": 8,
    "start_time": "2021-12-17T06:36:19.500Z"
   },
   {
    "duration": 8,
    "start_time": "2021-12-17T06:36:19.510Z"
   },
   {
    "duration": 8,
    "start_time": "2021-12-17T06:36:19.520Z"
   },
   {
    "duration": 11,
    "start_time": "2021-12-17T06:36:19.530Z"
   },
   {
    "duration": 84,
    "start_time": "2021-12-17T06:36:19.543Z"
   },
   {
    "duration": 75,
    "start_time": "2021-12-17T06:36:19.628Z"
   },
   {
    "duration": 48,
    "start_time": "2021-12-17T06:36:19.705Z"
   },
   {
    "duration": 58,
    "start_time": "2021-12-17T06:36:19.754Z"
   },
   {
    "duration": 185,
    "start_time": "2021-12-17T06:36:19.813Z"
   },
   {
    "duration": 19,
    "start_time": "2021-12-17T06:36:20.000Z"
   },
   {
    "duration": 505,
    "start_time": "2021-12-17T06:36:20.021Z"
   },
   {
    "duration": 21,
    "start_time": "2021-12-17T06:36:20.528Z"
   },
   {
    "duration": 534,
    "start_time": "2021-12-17T06:36:20.550Z"
   },
   {
    "duration": 25,
    "start_time": "2021-12-17T06:36:21.085Z"
   },
   {
    "duration": 528,
    "start_time": "2021-12-17T06:36:21.112Z"
   },
   {
    "duration": 10,
    "start_time": "2021-12-17T06:36:21.641Z"
   },
   {
    "duration": 199,
    "start_time": "2021-12-17T06:36:21.653Z"
   },
   {
    "duration": 8,
    "start_time": "2021-12-17T06:36:21.854Z"
   },
   {
    "duration": 370,
    "start_time": "2021-12-17T06:36:21.864Z"
   },
   {
    "duration": 15,
    "start_time": "2021-12-17T06:36:22.236Z"
   },
   {
    "duration": 485,
    "start_time": "2021-12-17T06:36:42.321Z"
   },
   {
    "duration": 487,
    "start_time": "2021-12-17T06:38:34.509Z"
   },
   {
    "duration": 569,
    "start_time": "2021-12-17T06:39:22.565Z"
   },
   {
    "duration": 500,
    "start_time": "2021-12-17T06:44:00.485Z"
   },
   {
    "duration": 498,
    "start_time": "2021-12-17T06:45:06.311Z"
   },
   {
    "duration": 608,
    "start_time": "2021-12-17T06:46:31.027Z"
   },
   {
    "duration": 503,
    "start_time": "2021-12-17T06:58:19.388Z"
   },
   {
    "duration": 500,
    "start_time": "2021-12-17T06:58:26.797Z"
   },
   {
    "duration": 486,
    "start_time": "2021-12-17T06:58:39.171Z"
   },
   {
    "duration": 474,
    "start_time": "2021-12-17T06:58:47.210Z"
   },
   {
    "duration": 564,
    "start_time": "2021-12-17T06:58:54.744Z"
   },
   {
    "duration": 506,
    "start_time": "2021-12-17T07:02:21.352Z"
   },
   {
    "duration": 594,
    "start_time": "2021-12-17T07:02:25.800Z"
   },
   {
    "duration": 518,
    "start_time": "2021-12-17T07:02:29.836Z"
   },
   {
    "duration": 511,
    "start_time": "2021-12-17T07:02:34.372Z"
   },
   {
    "duration": 522,
    "start_time": "2021-12-17T07:02:43.321Z"
   },
   {
    "duration": 595,
    "start_time": "2021-12-17T07:02:47.174Z"
   },
   {
    "duration": 61,
    "start_time": "2021-12-17T07:07:44.622Z"
   },
   {
    "duration": 533,
    "start_time": "2021-12-17T07:08:00.912Z"
   },
   {
    "duration": 10,
    "start_time": "2021-12-17T07:34:31.939Z"
   },
   {
    "duration": 185,
    "start_time": "2021-12-17T07:43:32.330Z"
   },
   {
    "duration": 181,
    "start_time": "2021-12-17T07:43:43.187Z"
   },
   {
    "duration": 177,
    "start_time": "2021-12-17T07:44:06.117Z"
   },
   {
    "duration": 285,
    "start_time": "2021-12-17T07:45:52.260Z"
   },
   {
    "duration": 296,
    "start_time": "2021-12-17T07:46:33.537Z"
   },
   {
    "duration": 287,
    "start_time": "2021-12-17T07:47:02.457Z"
   },
   {
    "duration": 181,
    "start_time": "2021-12-17T07:47:39.756Z"
   },
   {
    "duration": 8,
    "start_time": "2021-12-17T08:28:42.506Z"
   },
   {
    "duration": 6,
    "start_time": "2021-12-17T08:28:52.157Z"
   },
   {
    "duration": 7,
    "start_time": "2021-12-17T08:29:10.754Z"
   },
   {
    "duration": 7,
    "start_time": "2021-12-17T08:29:49.567Z"
   },
   {
    "duration": 8,
    "start_time": "2021-12-17T08:29:50.064Z"
   },
   {
    "duration": 7,
    "start_time": "2021-12-17T08:30:14.550Z"
   },
   {
    "duration": 7,
    "start_time": "2021-12-17T08:30:14.939Z"
   },
   {
    "duration": 21,
    "start_time": "2021-12-17T08:31:09.075Z"
   },
   {
    "duration": 7,
    "start_time": "2021-12-17T08:31:22.073Z"
   },
   {
    "duration": 6,
    "start_time": "2021-12-17T08:31:22.344Z"
   },
   {
    "duration": 3,
    "start_time": "2021-12-17T08:32:31.315Z"
   },
   {
    "duration": 7,
    "start_time": "2021-12-17T08:32:31.320Z"
   },
   {
    "duration": 502,
    "start_time": "2021-12-17T08:32:31.330Z"
   },
   {
    "duration": 21,
    "start_time": "2021-12-17T08:32:31.834Z"
   },
   {
    "duration": 101,
    "start_time": "2021-12-17T08:32:31.857Z"
   },
   {
    "duration": 31,
    "start_time": "2021-12-17T08:32:31.960Z"
   },
   {
    "duration": 23,
    "start_time": "2021-12-17T08:32:31.993Z"
   },
   {
    "duration": 17,
    "start_time": "2021-12-17T08:32:32.018Z"
   },
   {
    "duration": 19,
    "start_time": "2021-12-17T08:32:32.038Z"
   },
   {
    "duration": 42,
    "start_time": "2021-12-17T08:32:32.060Z"
   },
   {
    "duration": 7,
    "start_time": "2021-12-17T08:32:32.104Z"
   },
   {
    "duration": 35,
    "start_time": "2021-12-17T08:32:32.113Z"
   },
   {
    "duration": 13,
    "start_time": "2021-12-17T08:32:32.150Z"
   },
   {
    "duration": 41,
    "start_time": "2021-12-17T08:32:32.164Z"
   },
   {
    "duration": 31,
    "start_time": "2021-12-17T08:32:32.207Z"
   },
   {
    "duration": 8,
    "start_time": "2021-12-17T08:32:32.239Z"
   },
   {
    "duration": 9,
    "start_time": "2021-12-17T08:32:32.248Z"
   },
   {
    "duration": 35,
    "start_time": "2021-12-17T08:32:32.259Z"
   },
   {
    "duration": 7,
    "start_time": "2021-12-17T08:32:32.296Z"
   },
   {
    "duration": 14,
    "start_time": "2021-12-17T08:32:32.305Z"
   },
   {
    "duration": 43,
    "start_time": "2021-12-17T08:32:32.321Z"
   },
   {
    "duration": 74,
    "start_time": "2021-12-17T08:32:32.366Z"
   },
   {
    "duration": 60,
    "start_time": "2021-12-17T08:32:32.441Z"
   },
   {
    "duration": 40,
    "start_time": "2021-12-17T08:32:32.502Z"
   },
   {
    "duration": 194,
    "start_time": "2021-12-17T08:32:32.543Z"
   },
   {
    "duration": 19,
    "start_time": "2021-12-17T08:32:32.739Z"
   },
   {
    "duration": 509,
    "start_time": "2021-12-17T08:32:32.762Z"
   },
   {
    "duration": 28,
    "start_time": "2021-12-17T08:32:33.273Z"
   },
   {
    "duration": 495,
    "start_time": "2021-12-17T08:32:33.302Z"
   },
   {
    "duration": 21,
    "start_time": "2021-12-17T08:32:33.799Z"
   },
   {
    "duration": 509,
    "start_time": "2021-12-17T08:32:33.821Z"
   },
   {
    "duration": 9,
    "start_time": "2021-12-17T08:32:34.332Z"
   },
   {
    "duration": 191,
    "start_time": "2021-12-17T08:32:34.342Z"
   },
   {
    "duration": 9,
    "start_time": "2021-12-17T08:32:34.534Z"
   },
   {
    "duration": 291,
    "start_time": "2021-12-17T08:32:34.544Z"
   },
   {
    "duration": 14,
    "start_time": "2021-12-17T08:32:34.836Z"
   },
   {
    "duration": 3,
    "start_time": "2021-12-17T08:39:27.321Z"
   },
   {
    "duration": 13,
    "start_time": "2021-12-17T08:39:27.327Z"
   },
   {
    "duration": 477,
    "start_time": "2021-12-17T08:39:27.343Z"
   },
   {
    "duration": 21,
    "start_time": "2021-12-17T08:39:27.822Z"
   },
   {
    "duration": 90,
    "start_time": "2021-12-17T08:39:27.844Z"
   },
   {
    "duration": 29,
    "start_time": "2021-12-17T08:39:27.936Z"
   },
   {
    "duration": 39,
    "start_time": "2021-12-17T08:39:27.966Z"
   },
   {
    "duration": 16,
    "start_time": "2021-12-17T08:39:28.007Z"
   },
   {
    "duration": 17,
    "start_time": "2021-12-17T08:39:28.025Z"
   },
   {
    "duration": 13,
    "start_time": "2021-12-17T08:39:28.044Z"
   },
   {
    "duration": 37,
    "start_time": "2021-12-17T08:39:28.058Z"
   },
   {
    "duration": 37,
    "start_time": "2021-12-17T08:39:28.096Z"
   },
   {
    "duration": 16,
    "start_time": "2021-12-17T08:39:28.135Z"
   },
   {
    "duration": 43,
    "start_time": "2021-12-17T08:39:28.153Z"
   },
   {
    "duration": 42,
    "start_time": "2021-12-17T08:39:28.198Z"
   },
   {
    "duration": 10,
    "start_time": "2021-12-17T08:39:28.242Z"
   },
   {
    "duration": 8,
    "start_time": "2021-12-17T08:39:28.256Z"
   },
   {
    "duration": 9,
    "start_time": "2021-12-17T08:39:28.291Z"
   },
   {
    "duration": 10,
    "start_time": "2021-12-17T08:39:28.302Z"
   },
   {
    "duration": 14,
    "start_time": "2021-12-17T08:39:28.314Z"
   },
   {
    "duration": 77,
    "start_time": "2021-12-17T08:39:28.329Z"
   },
   {
    "duration": 59,
    "start_time": "2021-12-17T08:39:28.408Z"
   },
   {
    "duration": 74,
    "start_time": "2021-12-17T08:39:28.469Z"
   },
   {
    "duration": 56,
    "start_time": "2021-12-17T08:39:28.546Z"
   },
   {
    "duration": 204,
    "start_time": "2021-12-17T08:39:28.604Z"
   },
   {
    "duration": 21,
    "start_time": "2021-12-17T08:39:28.810Z"
   },
   {
    "duration": 511,
    "start_time": "2021-12-17T08:39:28.835Z"
   },
   {
    "duration": 24,
    "start_time": "2021-12-17T08:39:29.348Z"
   },
   {
    "duration": 605,
    "start_time": "2021-12-17T08:39:29.374Z"
   },
   {
    "duration": 25,
    "start_time": "2021-12-17T08:39:29.982Z"
   },
   {
    "duration": 536,
    "start_time": "2021-12-17T08:39:30.009Z"
   },
   {
    "duration": 10,
    "start_time": "2021-12-17T08:39:30.547Z"
   },
   {
    "duration": 204,
    "start_time": "2021-12-17T08:39:30.559Z"
   },
   {
    "duration": 9,
    "start_time": "2021-12-17T08:39:30.765Z"
   },
   {
    "duration": 343,
    "start_time": "2021-12-17T08:39:30.775Z"
   },
   {
    "duration": 15,
    "start_time": "2021-12-17T08:39:31.120Z"
   },
   {
    "duration": 4,
    "start_time": "2021-12-17T08:50:06.766Z"
   },
   {
    "duration": 409,
    "start_time": "2021-12-17T08:50:06.771Z"
   },
   {
    "duration": 21,
    "start_time": "2021-12-17T08:50:07.182Z"
   },
   {
    "duration": 93,
    "start_time": "2021-12-17T08:50:07.205Z"
   },
   {
    "duration": 28,
    "start_time": "2021-12-17T08:50:07.300Z"
   },
   {
    "duration": 23,
    "start_time": "2021-12-17T08:50:07.330Z"
   },
   {
    "duration": 40,
    "start_time": "2021-12-17T08:50:07.355Z"
   },
   {
    "duration": 17,
    "start_time": "2021-12-17T08:50:07.397Z"
   },
   {
    "duration": 14,
    "start_time": "2021-12-17T08:50:07.417Z"
   },
   {
    "duration": 9,
    "start_time": "2021-12-17T08:50:07.434Z"
   },
   {
    "duration": 66,
    "start_time": "2021-12-17T08:50:07.444Z"
   },
   {
    "duration": 14,
    "start_time": "2021-12-17T08:50:07.512Z"
   },
   {
    "duration": 15,
    "start_time": "2021-12-17T08:50:07.528Z"
   },
   {
    "duration": 55,
    "start_time": "2021-12-17T08:50:07.545Z"
   },
   {
    "duration": 8,
    "start_time": "2021-12-17T08:50:07.601Z"
   },
   {
    "duration": 9,
    "start_time": "2021-12-17T08:50:07.610Z"
   },
   {
    "duration": 9,
    "start_time": "2021-12-17T08:50:07.620Z"
   },
   {
    "duration": 8,
    "start_time": "2021-12-17T08:50:07.630Z"
   },
   {
    "duration": 9,
    "start_time": "2021-12-17T08:50:07.640Z"
   },
   {
    "duration": 75,
    "start_time": "2021-12-17T08:50:07.650Z"
   },
   {
    "duration": 69,
    "start_time": "2021-12-17T08:50:07.727Z"
   },
   {
    "duration": 49,
    "start_time": "2021-12-17T08:50:07.798Z"
   },
   {
    "duration": 62,
    "start_time": "2021-12-17T08:50:07.849Z"
   },
   {
    "duration": 191,
    "start_time": "2021-12-17T08:50:07.913Z"
   },
   {
    "duration": 20,
    "start_time": "2021-12-17T08:50:08.106Z"
   },
   {
    "duration": 490,
    "start_time": "2021-12-17T08:50:08.128Z"
   },
   {
    "duration": 21,
    "start_time": "2021-12-17T08:50:08.621Z"
   },
   {
    "duration": 493,
    "start_time": "2021-12-17T08:50:08.644Z"
   },
   {
    "duration": 21,
    "start_time": "2021-12-17T08:50:09.139Z"
   },
   {
    "duration": 502,
    "start_time": "2021-12-17T08:50:09.161Z"
   },
   {
    "duration": 9,
    "start_time": "2021-12-17T08:50:09.665Z"
   },
   {
    "duration": 269,
    "start_time": "2021-12-17T08:50:09.675Z"
   },
   {
    "duration": 9,
    "start_time": "2021-12-17T08:50:09.945Z"
   },
   {
    "duration": 312,
    "start_time": "2021-12-17T08:50:09.956Z"
   },
   {
    "duration": 23,
    "start_time": "2021-12-17T08:50:10.270Z"
   },
   {
    "duration": 1164,
    "start_time": "2021-12-17T19:29:02.794Z"
   },
   {
    "duration": 386,
    "start_time": "2021-12-17T19:29:03.960Z"
   },
   {
    "duration": 21,
    "start_time": "2021-12-17T19:29:04.348Z"
   },
   {
    "duration": 95,
    "start_time": "2021-12-17T19:29:04.371Z"
   },
   {
    "duration": 32,
    "start_time": "2021-12-17T19:29:04.468Z"
   },
   {
    "duration": 23,
    "start_time": "2021-12-17T19:29:04.502Z"
   },
   {
    "duration": 21,
    "start_time": "2021-12-17T19:29:04.526Z"
   },
   {
    "duration": 18,
    "start_time": "2021-12-17T19:29:04.548Z"
   },
   {
    "duration": 42,
    "start_time": "2021-12-17T19:29:04.569Z"
   },
   {
    "duration": 7,
    "start_time": "2021-12-17T19:29:04.613Z"
   },
   {
    "duration": 38,
    "start_time": "2021-12-17T19:29:04.622Z"
   },
   {
    "duration": 14,
    "start_time": "2021-12-17T19:29:04.662Z"
   },
   {
    "duration": 36,
    "start_time": "2021-12-17T19:29:04.678Z"
   },
   {
    "duration": 32,
    "start_time": "2021-12-17T19:29:04.716Z"
   },
   {
    "duration": 9,
    "start_time": "2021-12-17T19:29:04.750Z"
   },
   {
    "duration": 10,
    "start_time": "2021-12-17T19:29:04.761Z"
   },
   {
    "duration": 43,
    "start_time": "2021-12-17T19:29:04.772Z"
   },
   {
    "duration": 9,
    "start_time": "2021-12-17T19:29:04.816Z"
   },
   {
    "duration": 14,
    "start_time": "2021-12-17T19:29:04.827Z"
   },
   {
    "duration": 73,
    "start_time": "2021-12-17T19:29:04.843Z"
   },
   {
    "duration": 64,
    "start_time": "2021-12-17T19:29:04.918Z"
   },
   {
    "duration": 61,
    "start_time": "2021-12-17T19:29:04.984Z"
   },
   {
    "duration": 61,
    "start_time": "2021-12-17T19:29:05.047Z"
   },
   {
    "duration": 208,
    "start_time": "2021-12-17T19:29:05.110Z"
   },
   {
    "duration": 19,
    "start_time": "2021-12-17T19:29:05.320Z"
   },
   {
    "duration": 480,
    "start_time": "2021-12-17T19:29:05.341Z"
   },
   {
    "duration": 19,
    "start_time": "2021-12-17T19:29:05.824Z"
   },
   {
    "duration": 491,
    "start_time": "2021-12-17T19:29:05.845Z"
   },
   {
    "duration": 18,
    "start_time": "2021-12-17T19:29:06.338Z"
   },
   {
    "duration": 509,
    "start_time": "2021-12-17T19:29:06.358Z"
   },
   {
    "duration": 10,
    "start_time": "2021-12-17T19:29:06.869Z"
   },
   {
    "duration": 248,
    "start_time": "2021-12-17T19:29:06.882Z"
   },
   {
    "duration": 8,
    "start_time": "2021-12-17T19:29:07.132Z"
   },
   {
    "duration": 286,
    "start_time": "2021-12-17T19:29:07.142Z"
   },
   {
    "duration": 13,
    "start_time": "2021-12-17T19:29:07.430Z"
   },
   {
    "duration": 14,
    "start_time": "2021-12-17T19:32:08.951Z"
   },
   {
    "duration": 4,
    "start_time": "2021-12-17T19:32:39.981Z"
   },
   {
    "duration": 10,
    "start_time": "2021-12-19T10:20:37.039Z"
   },
   {
    "duration": 1172,
    "start_time": "2021-12-19T10:20:39.721Z"
   },
   {
    "duration": 430,
    "start_time": "2021-12-19T10:20:40.895Z"
   },
   {
    "duration": 23,
    "start_time": "2021-12-19T10:20:41.327Z"
   },
   {
    "duration": 106,
    "start_time": "2021-12-19T10:20:41.352Z"
   },
   {
    "duration": 35,
    "start_time": "2021-12-19T10:20:41.460Z"
   },
   {
    "duration": 40,
    "start_time": "2021-12-19T10:20:41.496Z"
   },
   {
    "duration": 21,
    "start_time": "2021-12-19T10:20:41.538Z"
   },
   {
    "duration": 18,
    "start_time": "2021-12-19T10:20:41.561Z"
   },
   {
    "duration": 44,
    "start_time": "2021-12-19T10:20:41.581Z"
   },
   {
    "duration": 9,
    "start_time": "2021-12-19T10:20:41.627Z"
   },
   {
    "duration": 37,
    "start_time": "2021-12-19T10:20:41.638Z"
   },
   {
    "duration": 38,
    "start_time": "2021-12-19T10:20:41.677Z"
   },
   {
    "duration": 19,
    "start_time": "2021-12-19T10:20:41.717Z"
   },
   {
    "duration": 31,
    "start_time": "2021-12-19T10:20:41.738Z"
   },
   {
    "duration": 7,
    "start_time": "2021-12-19T10:20:41.771Z"
   },
   {
    "duration": 34,
    "start_time": "2021-12-19T10:20:41.779Z"
   },
   {
    "duration": 8,
    "start_time": "2021-12-19T10:20:41.815Z"
   },
   {
    "duration": 9,
    "start_time": "2021-12-19T10:20:41.825Z"
   },
   {
    "duration": 15,
    "start_time": "2021-12-19T10:20:41.836Z"
   },
   {
    "duration": 78,
    "start_time": "2021-12-19T10:20:41.853Z"
   },
   {
    "duration": 4,
    "start_time": "2021-12-19T10:20:41.932Z"
   },
   {
    "duration": 86,
    "start_time": "2021-12-19T10:20:41.937Z"
   },
   {
    "duration": 46,
    "start_time": "2021-12-19T10:20:42.026Z"
   },
   {
    "duration": 62,
    "start_time": "2021-12-19T10:20:42.074Z"
   },
   {
    "duration": 216,
    "start_time": "2021-12-19T10:20:42.138Z"
   },
   {
    "duration": 22,
    "start_time": "2021-12-19T10:20:42.357Z"
   },
   {
    "duration": 516,
    "start_time": "2021-12-19T10:20:42.381Z"
   },
   {
    "duration": 26,
    "start_time": "2021-12-19T10:20:42.906Z"
   },
   {
    "duration": 620,
    "start_time": "2021-12-19T10:20:42.933Z"
   },
   {
    "duration": 19,
    "start_time": "2021-12-19T10:20:43.555Z"
   },
   {
    "duration": 609,
    "start_time": "2021-12-19T10:20:43.576Z"
   },
   {
    "duration": 8,
    "start_time": "2021-12-19T10:20:44.187Z"
   },
   {
    "duration": 203,
    "start_time": "2021-12-19T10:20:44.197Z"
   },
   {
    "duration": 11,
    "start_time": "2021-12-19T10:20:44.402Z"
   },
   {
    "duration": 380,
    "start_time": "2021-12-19T10:20:44.415Z"
   },
   {
    "duration": 20,
    "start_time": "2021-12-19T10:20:44.796Z"
   },
   {
    "duration": 504,
    "start_time": "2021-12-19T10:39:53.739Z"
   },
   {
    "duration": 366,
    "start_time": "2021-12-19T10:40:11.920Z"
   },
   {
    "duration": 630,
    "start_time": "2021-12-19T10:40:23.253Z"
   },
   {
    "duration": 58,
    "start_time": "2021-12-19T10:40:40.842Z"
   },
   {
    "duration": 367,
    "start_time": "2021-12-19T10:40:47.762Z"
   },
   {
    "duration": 358,
    "start_time": "2021-12-19T10:40:55.561Z"
   },
   {
    "duration": 49,
    "start_time": "2021-12-19T10:43:31.534Z"
   },
   {
    "duration": 47,
    "start_time": "2021-12-19T10:43:46.454Z"
   },
   {
    "duration": 49,
    "start_time": "2021-12-19T10:43:59.662Z"
   },
   {
    "duration": 40,
    "start_time": "2021-12-19T10:44:15.857Z"
   },
   {
    "duration": 36,
    "start_time": "2021-12-19T10:44:20.895Z"
   },
   {
    "duration": 32,
    "start_time": "2021-12-19T10:45:31.326Z"
   },
   {
    "duration": 29,
    "start_time": "2021-12-19T10:45:46.446Z"
   },
   {
    "duration": 21,
    "start_time": "2021-12-19T10:46:59.833Z"
   },
   {
    "duration": 21,
    "start_time": "2021-12-19T10:47:14.681Z"
   },
   {
    "duration": 19,
    "start_time": "2021-12-19T10:47:20.926Z"
   },
   {
    "duration": 9860,
    "start_time": "2021-12-19T10:48:07.287Z"
   },
   {
    "duration": 36,
    "start_time": "2021-12-19T10:48:45.493Z"
   },
   {
    "duration": 111,
    "start_time": "2021-12-19T10:49:24.763Z"
   },
   {
    "duration": 43,
    "start_time": "2021-12-19T10:49:30.523Z"
   },
   {
    "duration": 59,
    "start_time": "2021-12-19T10:50:42.235Z"
   },
   {
    "duration": 36,
    "start_time": "2021-12-19T10:51:22.472Z"
   },
   {
    "duration": 7,
    "start_time": "2021-12-19T10:51:25.512Z"
   },
   {
    "duration": 8721,
    "start_time": "2021-12-19T10:51:44.096Z"
   },
   {
    "duration": 6,
    "start_time": "2021-12-19T10:51:55.869Z"
   },
   {
    "duration": 6,
    "start_time": "2021-12-19T10:52:03.877Z"
   },
   {
    "duration": 5,
    "start_time": "2021-12-19T10:58:34.624Z"
   },
   {
    "duration": 33,
    "start_time": "2021-12-19T10:58:53.119Z"
   },
   {
    "duration": 13,
    "start_time": "2021-12-19T10:58:54.423Z"
   },
   {
    "duration": 7,
    "start_time": "2021-12-19T10:59:08.826Z"
   },
   {
    "duration": 36,
    "start_time": "2021-12-19T10:59:22.987Z"
   },
   {
    "duration": 36,
    "start_time": "2021-12-19T11:00:17.651Z"
   },
   {
    "duration": 39,
    "start_time": "2021-12-19T11:00:18.387Z"
   },
   {
    "duration": 36,
    "start_time": "2021-12-19T11:00:43.520Z"
   },
   {
    "duration": 39,
    "start_time": "2021-12-19T11:01:09.807Z"
   },
   {
    "duration": 352,
    "start_time": "2021-12-19T11:02:02.203Z"
   },
   {
    "duration": 27,
    "start_time": "2021-12-19T11:02:19.503Z"
   },
   {
    "duration": 47,
    "start_time": "2021-12-19T11:02:54.805Z"
   },
   {
    "duration": 22,
    "start_time": "2021-12-19T11:05:35.982Z"
   },
   {
    "duration": 334,
    "start_time": "2021-12-19T11:23:10.565Z"
   },
   {
    "duration": 34,
    "start_time": "2021-12-19T11:23:16.671Z"
   },
   {
    "duration": 35,
    "start_time": "2021-12-19T11:23:17.068Z"
   },
   {
    "duration": 26,
    "start_time": "2021-12-19T11:23:17.486Z"
   },
   {
    "duration": 34,
    "start_time": "2021-12-19T11:23:30.072Z"
   },
   {
    "duration": 33,
    "start_time": "2021-12-19T11:23:30.462Z"
   },
   {
    "duration": 22,
    "start_time": "2021-12-19T11:23:30.934Z"
   },
   {
    "duration": 20,
    "start_time": "2021-12-19T11:23:31.446Z"
   },
   {
    "duration": 11,
    "start_time": "2021-12-19T11:23:33.179Z"
   },
   {
    "duration": 6,
    "start_time": "2021-12-19T11:24:41.681Z"
   },
   {
    "duration": 8,
    "start_time": "2021-12-19T11:24:51.045Z"
   },
   {
    "duration": 15,
    "start_time": "2021-12-19T11:24:56.895Z"
   },
   {
    "duration": 9,
    "start_time": "2021-12-19T11:25:03.641Z"
   },
   {
    "duration": 10,
    "start_time": "2021-12-19T11:25:16.201Z"
   },
   {
    "duration": 14,
    "start_time": "2021-12-19T11:26:40.429Z"
   },
   {
    "duration": 9,
    "start_time": "2021-12-19T11:27:04.254Z"
   },
   {
    "duration": 8,
    "start_time": "2021-12-19T11:27:58.150Z"
   },
   {
    "duration": 14,
    "start_time": "2021-12-19T11:28:14.093Z"
   },
   {
    "duration": 8,
    "start_time": "2021-12-19T11:28:31.599Z"
   },
   {
    "duration": 8,
    "start_time": "2021-12-19T11:28:53.030Z"
   },
   {
    "duration": 13,
    "start_time": "2021-12-19T11:44:26.125Z"
   },
   {
    "duration": 17,
    "start_time": "2021-12-19T11:44:50.796Z"
   },
   {
    "duration": 8,
    "start_time": "2021-12-19T11:45:43.682Z"
   },
   {
    "duration": 64,
    "start_time": "2021-12-19T11:46:46.696Z"
   },
   {
    "duration": 45,
    "start_time": "2021-12-19T11:46:52.307Z"
   },
   {
    "duration": 37,
    "start_time": "2021-12-19T11:47:30.414Z"
   },
   {
    "duration": 1548,
    "start_time": "2021-12-19T11:48:04.718Z"
   },
   {
    "duration": 1418,
    "start_time": "2021-12-19T11:48:20.189Z"
   },
   {
    "duration": 41,
    "start_time": "2021-12-19T11:48:29.487Z"
   },
   {
    "duration": 37,
    "start_time": "2021-12-19T11:48:36.864Z"
   },
   {
    "duration": 39,
    "start_time": "2021-12-19T11:50:10.273Z"
   },
   {
    "duration": 30,
    "start_time": "2021-12-19T11:51:36.123Z"
   },
   {
    "duration": 377,
    "start_time": "2021-12-19T11:51:39.884Z"
   },
   {
    "duration": 30,
    "start_time": "2021-12-19T11:51:42.474Z"
   },
   {
    "duration": 362,
    "start_time": "2021-12-19T11:51:56.395Z"
   },
   {
    "duration": 357,
    "start_time": "2021-12-19T11:51:59.515Z"
   },
   {
    "duration": 390,
    "start_time": "2021-12-19T11:52:02.920Z"
   },
   {
    "duration": 29,
    "start_time": "2021-12-19T11:52:10.658Z"
   },
   {
    "duration": 39,
    "start_time": "2021-12-19T11:53:38.996Z"
   },
   {
    "duration": 365,
    "start_time": "2021-12-19T11:55:57.228Z"
   },
   {
    "duration": 357,
    "start_time": "2021-12-19T11:56:09.355Z"
   },
   {
    "duration": 27,
    "start_time": "2021-12-19T11:57:51.970Z"
   },
   {
    "duration": 26,
    "start_time": "2021-12-19T11:57:56.834Z"
   },
   {
    "duration": 35,
    "start_time": "2021-12-19T11:58:02.526Z"
   },
   {
    "duration": 42,
    "start_time": "2021-12-19T11:58:24.193Z"
   },
   {
    "duration": 30,
    "start_time": "2021-12-19T12:00:27.408Z"
   },
   {
    "duration": 28,
    "start_time": "2021-12-19T12:00:42.718Z"
   },
   {
    "duration": 28,
    "start_time": "2021-12-19T12:00:43.455Z"
   },
   {
    "duration": 23,
    "start_time": "2021-12-19T12:00:43.837Z"
   },
   {
    "duration": 16,
    "start_time": "2021-12-19T12:00:44.252Z"
   },
   {
    "duration": 8,
    "start_time": "2021-12-19T12:00:44.859Z"
   },
   {
    "duration": 17,
    "start_time": "2021-12-19T12:00:56.226Z"
   },
   {
    "duration": 14,
    "start_time": "2021-12-19T12:03:21.242Z"
   },
   {
    "duration": 14,
    "start_time": "2021-12-19T12:03:26.233Z"
   },
   {
    "duration": 33,
    "start_time": "2021-12-19T12:04:33.089Z"
   },
   {
    "duration": 6,
    "start_time": "2021-12-19T12:05:02.017Z"
   },
   {
    "duration": 342,
    "start_time": "2021-12-19T12:05:12.191Z"
   },
   {
    "duration": 4,
    "start_time": "2021-12-19T12:05:21.882Z"
   },
   {
    "duration": 4,
    "start_time": "2021-12-19T12:05:25.120Z"
   },
   {
    "duration": 352,
    "start_time": "2021-12-19T12:09:25.662Z"
   },
   {
    "duration": 344,
    "start_time": "2021-12-19T12:09:46.693Z"
   },
   {
    "duration": 33,
    "start_time": "2021-12-19T12:11:26.686Z"
   },
   {
    "duration": 33,
    "start_time": "2021-12-19T12:11:32.451Z"
   },
   {
    "duration": 34,
    "start_time": "2021-12-19T12:12:17.655Z"
   },
   {
    "duration": 33,
    "start_time": "2021-12-19T12:12:22.046Z"
   },
   {
    "duration": 339,
    "start_time": "2021-12-19T12:13:15.554Z"
   },
   {
    "duration": 336,
    "start_time": "2021-12-19T12:13:37.164Z"
   },
   {
    "duration": 34,
    "start_time": "2021-12-19T12:14:04.556Z"
   },
   {
    "duration": 30,
    "start_time": "2021-12-19T12:14:55.117Z"
   },
   {
    "duration": 33,
    "start_time": "2021-12-19T12:15:03.505Z"
   },
   {
    "duration": 31,
    "start_time": "2021-12-19T12:15:11.448Z"
   },
   {
    "duration": 35,
    "start_time": "2021-12-19T13:00:46.448Z"
   },
   {
    "duration": 7,
    "start_time": "2021-12-19T13:02:39.540Z"
   },
   {
    "duration": 360,
    "start_time": "2021-12-19T13:02:40.316Z"
   },
   {
    "duration": 13,
    "start_time": "2021-12-19T13:02:41.245Z"
   },
   {
    "duration": 3,
    "start_time": "2021-12-19T13:02:46.746Z"
   },
   {
    "duration": 417,
    "start_time": "2021-12-19T13:02:46.751Z"
   },
   {
    "duration": 20,
    "start_time": "2021-12-19T13:02:47.170Z"
   },
   {
    "duration": 89,
    "start_time": "2021-12-19T13:02:47.192Z"
   },
   {
    "duration": 36,
    "start_time": "2021-12-19T13:02:47.283Z"
   },
   {
    "duration": 24,
    "start_time": "2021-12-19T13:02:47.321Z"
   },
   {
    "duration": 16,
    "start_time": "2021-12-19T13:02:47.347Z"
   },
   {
    "duration": 17,
    "start_time": "2021-12-19T13:02:47.364Z"
   },
   {
    "duration": 39,
    "start_time": "2021-12-19T13:02:47.383Z"
   },
   {
    "duration": 14,
    "start_time": "2021-12-19T13:02:47.425Z"
   },
   {
    "duration": 17,
    "start_time": "2021-12-19T13:02:47.440Z"
   },
   {
    "duration": 63,
    "start_time": "2021-12-19T13:02:47.459Z"
   },
   {
    "duration": 15,
    "start_time": "2021-12-19T13:02:47.524Z"
   },
   {
    "duration": 16,
    "start_time": "2021-12-19T13:02:47.541Z"
   },
   {
    "duration": 56,
    "start_time": "2021-12-19T13:02:47.559Z"
   },
   {
    "duration": 8,
    "start_time": "2021-12-19T13:02:47.616Z"
   },
   {
    "duration": 9,
    "start_time": "2021-12-19T13:02:47.625Z"
   },
   {
    "duration": 9,
    "start_time": "2021-12-19T13:02:47.636Z"
   },
   {
    "duration": 10,
    "start_time": "2021-12-19T13:02:47.646Z"
   },
   {
    "duration": 10,
    "start_time": "2021-12-19T13:02:47.658Z"
   },
   {
    "duration": 77,
    "start_time": "2021-12-19T13:02:47.670Z"
   },
   {
    "duration": 27,
    "start_time": "2021-12-19T13:02:47.748Z"
   },
   {
    "duration": 40,
    "start_time": "2021-12-19T13:02:47.777Z"
   },
   {
    "duration": 24,
    "start_time": "2021-12-19T13:02:47.819Z"
   },
   {
    "duration": 18,
    "start_time": "2021-12-19T13:02:47.844Z"
   },
   {
    "duration": 51,
    "start_time": "2021-12-19T13:02:47.864Z"
   },
   {
    "duration": 53,
    "start_time": "2021-12-19T13:02:47.918Z"
   },
   {
    "duration": 63,
    "start_time": "2021-12-19T13:02:47.973Z"
   },
   {
    "duration": 40,
    "start_time": "2021-12-19T13:02:48.038Z"
   },
   {
    "duration": 197,
    "start_time": "2021-12-19T13:02:48.080Z"
   },
   {
    "duration": 28,
    "start_time": "2021-12-19T13:02:48.279Z"
   },
   {
    "duration": 456,
    "start_time": "2021-12-19T13:02:48.309Z"
   },
   {
    "duration": 19,
    "start_time": "2021-12-19T13:02:48.767Z"
   },
   {
    "duration": 482,
    "start_time": "2021-12-19T13:02:48.788Z"
   },
   {
    "duration": 20,
    "start_time": "2021-12-19T13:02:49.272Z"
   },
   {
    "duration": 479,
    "start_time": "2021-12-19T13:02:49.293Z"
   },
   {
    "duration": 9,
    "start_time": "2021-12-19T13:02:49.774Z"
   },
   {
    "duration": 174,
    "start_time": "2021-12-19T13:02:49.784Z"
   },
   {
    "duration": 8,
    "start_time": "2021-12-19T13:02:49.960Z"
   },
   {
    "duration": 360,
    "start_time": "2021-12-19T13:02:49.970Z"
   },
   {
    "duration": 14,
    "start_time": "2021-12-19T13:02:50.332Z"
   },
   {
    "duration": 3,
    "start_time": "2021-12-19T13:43:03.297Z"
   },
   {
    "duration": 429,
    "start_time": "2021-12-19T13:43:03.302Z"
   },
   {
    "duration": 22,
    "start_time": "2021-12-19T13:43:03.733Z"
   },
   {
    "duration": 91,
    "start_time": "2021-12-19T13:43:03.757Z"
   },
   {
    "duration": 30,
    "start_time": "2021-12-19T13:43:03.849Z"
   },
   {
    "duration": 36,
    "start_time": "2021-12-19T13:43:03.881Z"
   },
   {
    "duration": 19,
    "start_time": "2021-12-19T13:43:03.919Z"
   },
   {
    "duration": 33,
    "start_time": "2021-12-19T13:43:03.940Z"
   },
   {
    "duration": 12,
    "start_time": "2021-12-19T13:43:03.975Z"
   },
   {
    "duration": 20,
    "start_time": "2021-12-19T13:43:03.989Z"
   },
   {
    "duration": 37,
    "start_time": "2021-12-19T13:43:04.011Z"
   },
   {
    "duration": 13,
    "start_time": "2021-12-19T13:43:04.050Z"
   },
   {
    "duration": 15,
    "start_time": "2021-12-19T13:43:04.065Z"
   },
   {
    "duration": 33,
    "start_time": "2021-12-19T13:43:04.106Z"
   },
   {
    "duration": 8,
    "start_time": "2021-12-19T13:43:04.141Z"
   },
   {
    "duration": 8,
    "start_time": "2021-12-19T13:43:04.150Z"
   },
   {
    "duration": 8,
    "start_time": "2021-12-19T13:43:04.160Z"
   },
   {
    "duration": 37,
    "start_time": "2021-12-19T13:43:04.170Z"
   },
   {
    "duration": 10,
    "start_time": "2021-12-19T13:43:04.211Z"
   },
   {
    "duration": 47,
    "start_time": "2021-12-19T13:43:04.223Z"
   },
   {
    "duration": 49,
    "start_time": "2021-12-19T13:43:04.272Z"
   },
   {
    "duration": 28,
    "start_time": "2021-12-19T13:43:04.323Z"
   },
   {
    "duration": 23,
    "start_time": "2021-12-19T13:43:04.353Z"
   },
   {
    "duration": 32,
    "start_time": "2021-12-19T13:43:04.378Z"
   },
   {
    "duration": 37,
    "start_time": "2021-12-19T13:43:04.412Z"
   },
   {
    "duration": 71,
    "start_time": "2021-12-19T13:43:04.450Z"
   },
   {
    "duration": 49,
    "start_time": "2021-12-19T13:43:04.523Z"
   },
   {
    "duration": 58,
    "start_time": "2021-12-19T13:43:04.573Z"
   },
   {
    "duration": 204,
    "start_time": "2021-12-19T13:43:04.633Z"
   },
   {
    "duration": 20,
    "start_time": "2021-12-19T13:43:04.839Z"
   },
   {
    "duration": 474,
    "start_time": "2021-12-19T13:43:04.861Z"
   },
   {
    "duration": 21,
    "start_time": "2021-12-19T13:43:05.337Z"
   },
   {
    "duration": 510,
    "start_time": "2021-12-19T13:43:05.359Z"
   },
   {
    "duration": 19,
    "start_time": "2021-12-19T13:43:05.871Z"
   },
   {
    "duration": 525,
    "start_time": "2021-12-19T13:43:05.892Z"
   },
   {
    "duration": 10,
    "start_time": "2021-12-19T13:43:06.418Z"
   },
   {
    "duration": 189,
    "start_time": "2021-12-19T13:43:06.429Z"
   },
   {
    "duration": 9,
    "start_time": "2021-12-19T13:43:06.620Z"
   },
   {
    "duration": 296,
    "start_time": "2021-12-19T13:43:06.630Z"
   },
   {
    "duration": 14,
    "start_time": "2021-12-19T13:43:06.927Z"
   },
   {
    "duration": 1162,
    "start_time": "2021-12-19T17:27:19.477Z"
   },
   {
    "duration": 393,
    "start_time": "2021-12-19T17:27:20.641Z"
   },
   {
    "duration": 23,
    "start_time": "2021-12-19T17:27:21.037Z"
   },
   {
    "duration": 98,
    "start_time": "2021-12-19T17:27:21.062Z"
   },
   {
    "duration": 37,
    "start_time": "2021-12-19T17:27:21.162Z"
   },
   {
    "duration": 24,
    "start_time": "2021-12-19T17:27:21.201Z"
   },
   {
    "duration": 23,
    "start_time": "2021-12-19T17:27:21.227Z"
   },
   {
    "duration": 43,
    "start_time": "2021-12-19T17:27:21.253Z"
   },
   {
    "duration": 11,
    "start_time": "2021-12-19T17:27:21.299Z"
   },
   {
    "duration": 7,
    "start_time": "2021-12-19T17:27:21.312Z"
   },
   {
    "duration": 36,
    "start_time": "2021-12-19T17:27:21.321Z"
   },
   {
    "duration": 38,
    "start_time": "2021-12-19T17:27:21.359Z"
   },
   {
    "duration": 14,
    "start_time": "2021-12-19T17:27:21.399Z"
   },
   {
    "duration": 32,
    "start_time": "2021-12-19T17:27:21.415Z"
   },
   {
    "duration": 8,
    "start_time": "2021-12-19T17:27:21.449Z"
   },
   {
    "duration": 34,
    "start_time": "2021-12-19T17:27:21.458Z"
   },
   {
    "duration": 9,
    "start_time": "2021-12-19T17:27:21.494Z"
   },
   {
    "duration": 9,
    "start_time": "2021-12-19T17:27:21.505Z"
   },
   {
    "duration": 14,
    "start_time": "2021-12-19T17:27:21.515Z"
   },
   {
    "duration": 74,
    "start_time": "2021-12-19T17:27:21.531Z"
   },
   {
    "duration": 38,
    "start_time": "2021-12-19T17:27:21.607Z"
   },
   {
    "duration": 55,
    "start_time": "2021-12-19T17:27:21.647Z"
   },
   {
    "duration": 24,
    "start_time": "2021-12-19T17:27:21.705Z"
   },
   {
    "duration": 18,
    "start_time": "2021-12-19T17:27:21.731Z"
   },
   {
    "duration": 49,
    "start_time": "2021-12-19T17:27:21.751Z"
   },
   {
    "duration": 57,
    "start_time": "2021-12-19T17:27:21.801Z"
   },
   {
    "duration": 62,
    "start_time": "2021-12-19T17:27:21.859Z"
   },
   {
    "duration": 41,
    "start_time": "2021-12-19T17:27:21.922Z"
   },
   {
    "duration": 188,
    "start_time": "2021-12-19T17:27:21.965Z"
   },
   {
    "duration": 20,
    "start_time": "2021-12-19T17:27:22.155Z"
   },
   {
    "duration": 519,
    "start_time": "2021-12-19T17:27:22.191Z"
   },
   {
    "duration": 23,
    "start_time": "2021-12-19T17:27:22.712Z"
   },
   {
    "duration": 492,
    "start_time": "2021-12-19T17:27:22.736Z"
   },
   {
    "duration": 19,
    "start_time": "2021-12-19T17:27:23.230Z"
   },
   {
    "duration": 487,
    "start_time": "2021-12-19T17:27:23.251Z"
   },
   {
    "duration": 10,
    "start_time": "2021-12-19T17:27:23.740Z"
   },
   {
    "duration": 257,
    "start_time": "2021-12-19T17:27:23.752Z"
   },
   {
    "duration": 10,
    "start_time": "2021-12-19T17:27:24.011Z"
   },
   {
    "duration": 293,
    "start_time": "2021-12-19T17:27:24.022Z"
   },
   {
    "duration": 13,
    "start_time": "2021-12-19T17:27:24.317Z"
   },
   {
    "duration": 12,
    "start_time": "2021-12-19T17:27:39.660Z"
   },
   {
    "duration": 261,
    "start_time": "2021-12-19T17:28:24.518Z"
   },
   {
    "duration": 35,
    "start_time": "2021-12-19T17:28:29.299Z"
   },
   {
    "duration": 42,
    "start_time": "2021-12-19T17:31:32.425Z"
   },
   {
    "duration": 23,
    "start_time": "2021-12-19T17:31:37.591Z"
   },
   {
    "duration": 19,
    "start_time": "2021-12-19T17:32:17.461Z"
   },
   {
    "duration": 12,
    "start_time": "2021-12-19T17:32:38.936Z"
   },
   {
    "duration": 178,
    "start_time": "2021-12-19T17:33:44.288Z"
   },
   {
    "duration": 183,
    "start_time": "2021-12-19T17:33:49.918Z"
   },
   {
    "duration": 17,
    "start_time": "2021-12-19T17:33:58.249Z"
   },
   {
    "duration": 7,
    "start_time": "2021-12-19T17:34:06.347Z"
   }
  ],
  "kernelspec": {
   "display_name": "Python 3",
   "language": "python",
   "name": "python3"
  },
  "language_info": {
   "codemirror_mode": {
    "name": "ipython",
    "version": 3
   },
   "file_extension": ".py",
   "mimetype": "text/x-python",
   "name": "python",
   "nbconvert_exporter": "python",
   "pygments_lexer": "ipython3",
   "version": "3.8.5"
  },
  "latex_envs": {
   "LaTeX_envs_menu_present": true,
   "autoclose": true,
   "autocomplete": true,
   "bibliofile": "biblio.bib",
   "cite_by": "apalike",
   "current_citInitial": 1,
   "eqLabelWithNumbers": true,
   "eqNumInitial": 1,
   "hotkeys": {
    "equation": "Ctrl-E",
    "itemize": "Ctrl-I"
   },
   "labels_anchors": false,
   "latex_user_defs": false,
   "report_style_numbering": true,
   "user_envs_cfg": false
  },
  "toc": {
   "base_numbering": 1,
   "nav_menu": {},
   "number_sections": true,
   "sideBar": true,
   "skip_h1_title": true,
   "title_cell": "Table of Contents",
   "title_sidebar": "Contents",
   "toc_cell": true,
   "toc_position": {},
   "toc_section_display": true,
   "toc_window_display": false
  }
 },
 "nbformat": 4,
 "nbformat_minor": 2
}
