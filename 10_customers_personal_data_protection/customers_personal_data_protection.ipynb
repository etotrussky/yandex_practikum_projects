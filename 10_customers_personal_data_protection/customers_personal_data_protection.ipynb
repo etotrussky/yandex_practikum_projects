{
 "cells": [
  {
   "cell_type": "markdown",
   "metadata": {
    "toc": true
   },
   "source": [
    "<h1>Table of Contents<span class=\"tocSkip\"></span></h1>\n",
    "<div class=\"toc\"><ul class=\"toc-item\"><li><span><a href=\"#Загрузка-и-изучение-данных\" data-toc-modified-id=\"Загрузка-и-изучение-данных-1\"><span class=\"toc-item-num\">1&nbsp;&nbsp;</span>Загрузка и изучение данных</a></span></li><li><span><a href=\"#Построение-модели-по-первоначальным-данным\" data-toc-modified-id=\"Построение-модели-по-первоначальным-данным-2\"><span class=\"toc-item-num\">2&nbsp;&nbsp;</span>Построение модели по первоначальным данным</a></span></li><li><span><a href=\"#Проверка-влияния-преобразования-данных-на-качество-линейной-регрессии\" data-toc-modified-id=\"Проверка-влияния-преобразования-данных-на-качество-линейной-регрессии-3\"><span class=\"toc-item-num\">3&nbsp;&nbsp;</span>Проверка влияния преобразования данных на качество линейной регрессии</a></span></li><li><span><a href=\"#Обоснование-математического-аппарата-шифрования-данных\" data-toc-modified-id=\"Обоснование-математического-аппарата-шифрования-данных-4\"><span class=\"toc-item-num\">4&nbsp;&nbsp;</span>Обоснование математического аппарата шифрования данных</a></span></li><li><span><a href=\"#Создание-алгоритма-шифрования-данных\" data-toc-modified-id=\"Создание-алгоритма-шифрования-данных-5\"><span class=\"toc-item-num\">5&nbsp;&nbsp;</span>Создание алгоритма шифрования данных</a></span></li><li><span><a href=\"#Вывод\" data-toc-modified-id=\"Вывод-6\"><span class=\"toc-item-num\">6&nbsp;&nbsp;</span>Вывод</a></span></li></ul></div>"
   ]
  },
  {
   "cell_type": "code",
   "execution_count": 1,
   "metadata": {},
   "outputs": [],
   "source": [
    "import pandas as pd\n",
    "import numpy as np\n",
    "from sklearn.linear_model import LinearRegression\n",
    "from sklearn.model_selection import train_test_split\n",
    "from sklearn.metrics import r2_score, mean_squared_error as mse\n",
    "import random"
   ]
  },
  {
   "cell_type": "markdown",
   "metadata": {},
   "source": [
    "## Загрузка и изучение данных"
   ]
  },
  {
   "cell_type": "code",
   "execution_count": 2,
   "metadata": {},
   "outputs": [],
   "source": [
    "data = pd.read_csv('https://code.s3.yandex.net/datasets/insurance.csv')"
   ]
  },
  {
   "cell_type": "markdown",
   "metadata": {},
   "source": [
    "Выведем 5 случайных строк датасета"
   ]
  },
  {
   "cell_type": "code",
   "execution_count": 3,
   "metadata": {
    "scrolled": false
   },
   "outputs": [
    {
     "data": {
      "text/html": [
       "<div>\n",
       "<style scoped>\n",
       "    .dataframe tbody tr th:only-of-type {\n",
       "        vertical-align: middle;\n",
       "    }\n",
       "\n",
       "    .dataframe tbody tr th {\n",
       "        vertical-align: top;\n",
       "    }\n",
       "\n",
       "    .dataframe thead th {\n",
       "        text-align: right;\n",
       "    }\n",
       "</style>\n",
       "<table border=\"1\" class=\"dataframe\">\n",
       "  <thead>\n",
       "    <tr style=\"text-align: right;\">\n",
       "      <th></th>\n",
       "      <th>Пол</th>\n",
       "      <th>Возраст</th>\n",
       "      <th>Зарплата</th>\n",
       "      <th>Члены семьи</th>\n",
       "      <th>Страховые выплаты</th>\n",
       "    </tr>\n",
       "  </thead>\n",
       "  <tbody>\n",
       "    <tr>\n",
       "      <th>1411</th>\n",
       "      <td>1</td>\n",
       "      <td>31.0</td>\n",
       "      <td>21600.0</td>\n",
       "      <td>0</td>\n",
       "      <td>0</td>\n",
       "    </tr>\n",
       "    <tr>\n",
       "      <th>1289</th>\n",
       "      <td>0</td>\n",
       "      <td>21.0</td>\n",
       "      <td>54800.0</td>\n",
       "      <td>1</td>\n",
       "      <td>0</td>\n",
       "    </tr>\n",
       "    <tr>\n",
       "      <th>3386</th>\n",
       "      <td>1</td>\n",
       "      <td>29.0</td>\n",
       "      <td>41800.0</td>\n",
       "      <td>1</td>\n",
       "      <td>0</td>\n",
       "    </tr>\n",
       "    <tr>\n",
       "      <th>605</th>\n",
       "      <td>1</td>\n",
       "      <td>31.0</td>\n",
       "      <td>52000.0</td>\n",
       "      <td>2</td>\n",
       "      <td>0</td>\n",
       "    </tr>\n",
       "    <tr>\n",
       "      <th>2248</th>\n",
       "      <td>0</td>\n",
       "      <td>39.0</td>\n",
       "      <td>33800.0</td>\n",
       "      <td>0</td>\n",
       "      <td>0</td>\n",
       "    </tr>\n",
       "  </tbody>\n",
       "</table>\n",
       "</div>"
      ],
      "text/plain": [
       "      Пол  Возраст  Зарплата  Члены семьи  Страховые выплаты\n",
       "1411    1     31.0   21600.0            0                  0\n",
       "1289    0     21.0   54800.0            1                  0\n",
       "3386    1     29.0   41800.0            1                  0\n",
       "605     1     31.0   52000.0            2                  0\n",
       "2248    0     39.0   33800.0            0                  0"
      ]
     },
     "execution_count": 3,
     "metadata": {},
     "output_type": "execute_result"
    }
   ],
   "source": [
    "data.sample(5)"
   ]
  },
  {
   "cell_type": "markdown",
   "metadata": {},
   "source": [
    "Выедем общую информацию по датасету"
   ]
  },
  {
   "cell_type": "code",
   "execution_count": 4,
   "metadata": {},
   "outputs": [
    {
     "name": "stdout",
     "output_type": "stream",
     "text": [
      "<class 'pandas.core.frame.DataFrame'>\n",
      "RangeIndex: 5000 entries, 0 to 4999\n",
      "Data columns (total 5 columns):\n",
      " #   Column             Non-Null Count  Dtype  \n",
      "---  ------             --------------  -----  \n",
      " 0   Пол                5000 non-null   int64  \n",
      " 1   Возраст            5000 non-null   float64\n",
      " 2   Зарплата           5000 non-null   float64\n",
      " 3   Члены семьи        5000 non-null   int64  \n",
      " 4   Страховые выплаты  5000 non-null   int64  \n",
      "dtypes: float64(2), int64(3)\n",
      "memory usage: 195.4 KB\n"
     ]
    }
   ],
   "source": [
    "data.info()"
   ]
  },
  {
   "cell_type": "markdown",
   "metadata": {},
   "source": [
    "Пропусков нет, все типы данных корректны"
   ]
  },
  {
   "cell_type": "markdown",
   "metadata": {},
   "source": [
    "Проверим наличие дубликатов"
   ]
  },
  {
   "cell_type": "code",
   "execution_count": 5,
   "metadata": {},
   "outputs": [
    {
     "data": {
      "text/plain": [
       "153"
      ]
     },
     "execution_count": 5,
     "metadata": {},
     "output_type": "execute_result"
    }
   ],
   "source": [
    "data.duplicated().sum()"
   ]
  },
  {
   "cell_type": "markdown",
   "metadata": {},
   "source": [
    "В датасете есть дубликаты. Для решения задачи повышения точности обученной модели их следовало бы удалить, но в данном случае они не помешают сравнению моделей, обученных на оригинальных и преобразованных данных."
   ]
  },
  {
   "cell_type": "markdown",
   "metadata": {},
   "source": [
    "Выделим в датасете признаки и целевую переменную"
   ]
  },
  {
   "cell_type": "code",
   "execution_count": 6,
   "metadata": {},
   "outputs": [],
   "source": [
    "features = data.drop('Страховые выплаты', axis=1)\n",
    "target = data['Страховые выплаты']"
   ]
  },
  {
   "cell_type": "markdown",
   "metadata": {},
   "source": [
    "Разделим датасет на обучающую и тестовую выборки в пропорции 3:1"
   ]
  },
  {
   "cell_type": "code",
   "execution_count": 7,
   "metadata": {},
   "outputs": [],
   "source": [
    "train_features, test_features, train_target, test_target = train_test_split(features, target, test_size=0.25)"
   ]
  },
  {
   "cell_type": "markdown",
   "metadata": {},
   "source": [
    "## Построение модели по первоначальным данным"
   ]
  },
  {
   "cell_type": "code",
   "execution_count": 8,
   "metadata": {
    "scrolled": true
   },
   "outputs": [
    {
     "data": {
      "text/plain": [
       "0.4123336606937037"
      ]
     },
     "execution_count": 8,
     "metadata": {},
     "output_type": "execute_result"
    }
   ],
   "source": [
    "base_model = LinearRegression()\n",
    "base_model.fit(train_features, train_target)\n",
    "predicted = base_model.predict(test_features)\n",
    "r2_score(test_target, predicted)"
   ]
  },
  {
   "cell_type": "markdown",
   "metadata": {},
   "source": [
    "## Проверка влияния преобразования данных на качество линейной регрессии"
   ]
  },
  {
   "cell_type": "markdown",
   "metadata": {},
   "source": [
    "Графики предсказаний для линейной регрессии задаются уравнением:\n",
    "\n",
    "$$ \\large y=\\omega x+\\omega _0, $$\n",
    "\n",
    "где $y$ - предсказания модели, $\\omega$ - матрица весов линейной регрессии, $x$ - матрица признаков, $\\omega_0\\$ - смещение\n",
    "\n",
    "Задача обучения линейной регрессии состоит в том, чтобы добиться минимальной метрики MSE между предсказаниями на обучающей выборке и целевой переменной обучающей выборки. Этого можно добиться тщательным подбором матрицы весов $\\omega$, то есть:\n",
    "\n",
    "$$ \\large \\omega = arg \\: \\underset{\\omega}{min} \\: MSE(X\\omega, y) $$\n",
    "\n",
    "Минимум MSE достигается тогда, когда верно равенство:\n",
    "\n",
    "$$ \\large \\omega = (X^TX)^{-1}X^Ty    $$\n",
    "\n",
    "Преобразуем его:\n",
    "\n",
    "$$ \\large (X^TX)^{-1}X^Ty=X^{-1} \\: [\\overset{E}{(X^T)^{-1} X^T}] \\: y = X^{-1}Ey = X^{-1}y $$\n",
    "\n",
    "Получаем:\n",
    "\n",
    "$$ \\large \\omega = X^{-1}y $$\n",
    "\n",
    "Пусть матрица признаков умножается на некоторую матрицу $M$, тогда выражение (3) приобретает вид:\n",
    "\n",
    "$$ \\large \\omega' = ((XM)^T(XM))^{-1}(XM)^Ty    $$\n",
    "\n",
    "введем замену:\n",
    "\n",
    "$$ \\large A=XM $$\n",
    "\n",
    "тогда (6) преобразуется в:\n",
    "\n",
    "$$ \\large \\omega' = (A^TA)^{-1}A^Ty $$\n",
    "\n",
    "Преобразуем (8) его по аналогии с (4):\n",
    "\n",
    "$$ \\large (A^TA)^{-1}A^Ty = (A)^{-1} \\: [\\overset{E}{(A^T)^{-1} A^T}] \\: y = A^{-1}E y = A^{-1} y $$\n",
    "\n",
    "Из (8) и (9) получаем:\n",
    "\n",
    "$$ \\large \\omega' = A^{-1} y $$\n",
    "\n",
    "Проделаем замену, обратную (7) и преобразуем выражение (10)\n",
    "\n",
    "$$ \\large \\omega' = (XM)^{-1} y = M^{-1} X^{-1} y  $$\n",
    "\n",
    "Учитывая (5) и (11), мы пришли к равенству:\n",
    "\n",
    "$$ \\large \\omega' = M^{-1}\\omega $$\n",
    "\n",
    "Это означает, что переход от первоначальной матрицы весов к преобразованной\" возможен путем умножения ее на обратимую матрицу.\n",
    "\n",
    "***Вывод***\n",
    "\n",
    "При умножении матрицы признаков на обратимую матрицу качество линейной регрессии, заново обученной по новому набору данных, не меняется."
   ]
  },
  {
   "cell_type": "markdown",
   "metadata": {},
   "source": [
    "Второе доказательство\n",
    "\n",
    "$$ \\large \\omega' = ((XM)^T(XM))^{-1}(XM)^Ty    $$\n",
    "\n",
    "$$ \\large \\omega' = (XM)^{-1} ((XM)^T)^{-1} (XM)^T y    $$\n",
    "\n",
    "$$ \\large \\omega' = (XM)^{-1}  \\: [\\overset{E}{((XM)^T)^{-1} (XM)^T}] \\: y    $$\n",
    "\n",
    "$$ \\large \\omega' = (XM)^{-1} \\: E \\: y    $$\n",
    "\n",
    "$$ \\large \\omega' = M^{-1} X^{-1} y    $$\n",
    "\n",
    "$$ \\large \\omega' = M^{-1}  \\: [\\overset{\\omega}{X^{-1} y}]    $$\n",
    "\n",
    "$$ \\large \\omega' = M^{-1} \\omega    $$"
   ]
  },
  {
   "cell_type": "markdown",
   "metadata": {},
   "source": [
    "## Обоснование математического аппарата шифрования данных"
   ]
  },
  {
   "cell_type": "markdown",
   "metadata": {},
   "source": [
    "Для хранения личные данные пользователей можно зашифровать. Для этого матрицу признаков можно умножить на обратимую матрицу-ключ, и потом использовать эти данные в линейной регрессии без потери качества модели. Также по матрицу-ключу возможно восстановить исходные данные."
   ]
  },
  {
   "cell_type": "markdown",
   "metadata": {},
   "source": [
    "Проведем вычисления, подтверждающие это. Умножим матрицу признаков на обратимую матрицу. Есть два способа сделать это: умножить признаки на матрицу слева или справа. В зависимости от выбранного способа будет меняться размерность матрицы.\n",
    "\n",
    "$$ \\large \\overset{(3750, \\: 4)}{X} \\: \\overset{(4, \\: 4)}{M} = \\overset{(3750, \\: 4)}{X'} $$\n",
    "$$ \\large \\overset{(3750, \\: 3750)}{M} \\: \\overset{(3750, \\: 4)}{X} = \\overset{(3750, \\: 4)}{X'} $$\n",
    "\n",
    "У обоих способов есть недостатки. В первом случае размерность ключа мала, так как зависит от числа признаков, и это небезопасно. Во втором случае наблюдается наоборот неконтролируемый рост сложности, потому что с каждым новым клиентом придется менять матрицу-ключ. В рамках учебной задачи остановимся на первом варианте."
   ]
  },
  {
   "cell_type": "markdown",
   "metadata": {},
   "source": [
    "## Создание алгоритма шифрования данных"
   ]
  },
  {
   "cell_type": "markdown",
   "metadata": {},
   "source": [
    "Напишем функцию, подбирающую данным ключ подходящей размерности, и возвращающую преобразованные датасеты вместе с ключом."
   ]
  },
  {
   "cell_type": "code",
   "execution_count": 9,
   "metadata": {},
   "outputs": [],
   "source": [
    "def encoded_data(data1, data2):\n",
    "    key_matrix = [[random.randint(0,999) for i in range(data1.shape[1])] for j in range(data1.shape[1])]\n",
    "    try:\n",
    "        reversed_matrix = np.linalg.inv(key_matrix)\n",
    "    except:\n",
    "        pass\n",
    "    return data1@key_matrix, data2@key_matrix, key_matrix"
   ]
  },
  {
   "cell_type": "markdown",
   "metadata": {},
   "source": [
    "Преобразуем данные при помощи шифратора"
   ]
  },
  {
   "cell_type": "code",
   "execution_count": 10,
   "metadata": {},
   "outputs": [],
   "source": [
    "encoded_train_features, encoded_test_features, key = encoded_data(train_features, test_features)"
   ]
  },
  {
   "cell_type": "markdown",
   "metadata": {},
   "source": [
    "Обучим модель линейной регрессии на новых данных"
   ]
  },
  {
   "cell_type": "code",
   "execution_count": 11,
   "metadata": {},
   "outputs": [
    {
     "data": {
      "text/plain": [
       "0.4123336606937128"
      ]
     },
     "execution_count": 11,
     "metadata": {},
     "output_type": "execute_result"
    }
   ],
   "source": [
    "model = LinearRegression()\n",
    "model.fit(encoded_train_features, train_target)\n",
    "predicted = model.predict(encoded_test_features)\n",
    "r2_score(test_target, predicted)"
   ]
  },
  {
   "cell_type": "markdown",
   "metadata": {},
   "source": [
    "Точность модели не изменилась"
   ]
  },
  {
   "cell_type": "markdown",
   "metadata": {},
   "source": [
    "Проверим обратимость матрицы-ключа. Выведем ключ и обратную к нему матрицу"
   ]
  },
  {
   "cell_type": "code",
   "execution_count": 12,
   "metadata": {},
   "outputs": [
    {
     "data": {
      "text/html": [
       "<div>\n",
       "<style scoped>\n",
       "    .dataframe tbody tr th:only-of-type {\n",
       "        vertical-align: middle;\n",
       "    }\n",
       "\n",
       "    .dataframe tbody tr th {\n",
       "        vertical-align: top;\n",
       "    }\n",
       "\n",
       "    .dataframe thead th {\n",
       "        text-align: right;\n",
       "    }\n",
       "</style>\n",
       "<table border=\"1\" class=\"dataframe\">\n",
       "  <thead>\n",
       "    <tr style=\"text-align: right;\">\n",
       "      <th></th>\n",
       "      <th>0</th>\n",
       "      <th>1</th>\n",
       "      <th>2</th>\n",
       "      <th>3</th>\n",
       "    </tr>\n",
       "  </thead>\n",
       "  <tbody>\n",
       "    <tr>\n",
       "      <th>0</th>\n",
       "      <td>875</td>\n",
       "      <td>78</td>\n",
       "      <td>150</td>\n",
       "      <td>297</td>\n",
       "    </tr>\n",
       "    <tr>\n",
       "      <th>1</th>\n",
       "      <td>509</td>\n",
       "      <td>228</td>\n",
       "      <td>704</td>\n",
       "      <td>126</td>\n",
       "    </tr>\n",
       "    <tr>\n",
       "      <th>2</th>\n",
       "      <td>302</td>\n",
       "      <td>848</td>\n",
       "      <td>240</td>\n",
       "      <td>948</td>\n",
       "    </tr>\n",
       "    <tr>\n",
       "      <th>3</th>\n",
       "      <td>546</td>\n",
       "      <td>838</td>\n",
       "      <td>64</td>\n",
       "      <td>772</td>\n",
       "    </tr>\n",
       "  </tbody>\n",
       "</table>\n",
       "</div>"
      ],
      "text/plain": [
       "     0    1    2    3\n",
       "0  875   78  150  297\n",
       "1  509  228  704  126\n",
       "2  302  848  240  948\n",
       "3  546  838   64  772"
      ]
     },
     "execution_count": 12,
     "metadata": {},
     "output_type": "execute_result"
    }
   ],
   "source": [
    "pd.DataFrame(key)"
   ]
  },
  {
   "cell_type": "code",
   "execution_count": 13,
   "metadata": {},
   "outputs": [
    {
     "data": {
      "text/html": [
       "<div>\n",
       "<style scoped>\n",
       "    .dataframe tbody tr th:only-of-type {\n",
       "        vertical-align: middle;\n",
       "    }\n",
       "\n",
       "    .dataframe tbody tr th {\n",
       "        vertical-align: top;\n",
       "    }\n",
       "\n",
       "    .dataframe thead th {\n",
       "        text-align: right;\n",
       "    }\n",
       "</style>\n",
       "<table border=\"1\" class=\"dataframe\">\n",
       "  <thead>\n",
       "    <tr style=\"text-align: right;\">\n",
       "      <th></th>\n",
       "      <th>0</th>\n",
       "      <th>1</th>\n",
       "      <th>2</th>\n",
       "      <th>3</th>\n",
       "    </tr>\n",
       "  </thead>\n",
       "  <tbody>\n",
       "    <tr>\n",
       "      <th>0</th>\n",
       "      <td>0.000840</td>\n",
       "      <td>0.000100</td>\n",
       "      <td>-0.001084</td>\n",
       "      <td>0.000991</td>\n",
       "    </tr>\n",
       "    <tr>\n",
       "      <th>1</th>\n",
       "      <td>-0.001936</td>\n",
       "      <td>0.000919</td>\n",
       "      <td>-0.002446</td>\n",
       "      <td>0.003599</td>\n",
       "    </tr>\n",
       "    <tr>\n",
       "      <th>2</th>\n",
       "      <td>-0.000254</td>\n",
       "      <td>0.001260</td>\n",
       "      <td>0.000978</td>\n",
       "      <td>-0.001309</td>\n",
       "    </tr>\n",
       "    <tr>\n",
       "      <th>3</th>\n",
       "      <td>0.001529</td>\n",
       "      <td>-0.001173</td>\n",
       "      <td>0.003341</td>\n",
       "      <td>-0.003204</td>\n",
       "    </tr>\n",
       "  </tbody>\n",
       "</table>\n",
       "</div>"
      ],
      "text/plain": [
       "          0         1         2         3\n",
       "0  0.000840  0.000100 -0.001084  0.000991\n",
       "1 -0.001936  0.000919 -0.002446  0.003599\n",
       "2 -0.000254  0.001260  0.000978 -0.001309\n",
       "3  0.001529 -0.001173  0.003341 -0.003204"
      ]
     },
     "execution_count": 13,
     "metadata": {},
     "output_type": "execute_result"
    }
   ],
   "source": [
    "pd.DataFrame(np.linalg.inv(key))"
   ]
  },
  {
   "cell_type": "markdown",
   "metadata": {},
   "source": [
    "## Вывод\n",
    "\n",
    "* Линейная регрессия построена на матричных операциях\n",
    "* Математически и практически доказано, что умножение матрицы признаков на обратимую матрицу не меняет качество линейной регрессии\n",
    "* Это свойство можно использовать для шифрования данных\n",
    "* Умножение ключа слева и справа на матрицу устроено по-разному и имеет разные степени сложности и безопасности"
   ]
  }
 ],
 "metadata": {
  "ExecuteTimeLog": [
   {
    "duration": 1448,
    "start_time": "2022-03-13T20:56:40.690Z"
   },
   {
    "duration": 160,
    "start_time": "2022-03-13T20:56:42.141Z"
   },
   {
    "duration": 23,
    "start_time": "2022-03-13T20:56:42.992Z"
   },
   {
    "duration": 13,
    "start_time": "2022-03-13T20:56:43.952Z"
   },
   {
    "duration": 5,
    "start_time": "2022-03-13T20:56:45.386Z"
   },
   {
    "duration": 8,
    "start_time": "2022-03-13T20:56:46.345Z"
   },
   {
    "duration": 11,
    "start_time": "2022-03-13T20:57:33.660Z"
   },
   {
    "duration": 5,
    "start_time": "2022-03-13T21:05:59.651Z"
   },
   {
    "duration": 6,
    "start_time": "2022-03-13T21:06:00.653Z"
   },
   {
    "duration": 10,
    "start_time": "2022-03-13T21:06:00.991Z"
   },
   {
    "duration": 10,
    "start_time": "2022-03-13T21:06:01.718Z"
   },
   {
    "duration": 12,
    "start_time": "2022-03-13T21:06:02.231Z"
   }
  ],
  "kernelspec": {
   "display_name": "Python 3",
   "language": "python",
   "name": "python3"
  },
  "language_info": {
   "codemirror_mode": {
    "name": "ipython",
    "version": 3
   },
   "file_extension": ".py",
   "mimetype": "text/x-python",
   "name": "python",
   "nbconvert_exporter": "python",
   "pygments_lexer": "ipython3",
   "version": "3.8.5"
  },
  "latex_envs": {
   "LaTeX_envs_menu_present": true,
   "autoclose": true,
   "autocomplete": true,
   "bibliofile": "biblio.bib",
   "cite_by": "apalike",
   "current_citInitial": 1,
   "eqLabelWithNumbers": true,
   "eqNumInitial": 1,
   "hotkeys": {
    "equation": "Ctrl-E",
    "itemize": "Ctrl-I"
   },
   "labels_anchors": false,
   "latex_user_defs": false,
   "report_style_numbering": true,
   "user_envs_cfg": false
  },
  "toc": {
   "base_numbering": 1,
   "nav_menu": {},
   "number_sections": true,
   "sideBar": true,
   "skip_h1_title": false,
   "title_cell": "Table of Contents",
   "title_sidebar": "Contents",
   "toc_cell": true,
   "toc_position": {},
   "toc_section_display": true,
   "toc_window_display": false
  }
 },
 "nbformat": 4,
 "nbformat_minor": 4
}
