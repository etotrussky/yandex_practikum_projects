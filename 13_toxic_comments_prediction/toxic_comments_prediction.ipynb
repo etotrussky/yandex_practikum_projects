{
 "cells": [
  {
   "cell_type": "markdown",
   "metadata": {
    "toc": true
   },
   "source": [
    "<h1>Table of Contents<span class=\"tocSkip\"></span></h1>\n",
    "<div class=\"toc\"><ul class=\"toc-item\"><li><span><a href=\"#Описание-проекта\" data-toc-modified-id=\"Описание-проекта-1\"><span class=\"toc-item-num\">1&nbsp;&nbsp;</span>Описание проекта</a></span></li><li><span><a href=\"#Скачивание-и-импорт-библиотек\" data-toc-modified-id=\"Скачивание-и-импорт-библиотек-2\"><span class=\"toc-item-num\">2&nbsp;&nbsp;</span>Скачивание и импорт библиотек</a></span></li><li><span><a href=\"#Анализ-данных\" data-toc-modified-id=\"Анализ-данных-3\"><span class=\"toc-item-num\">3&nbsp;&nbsp;</span>Анализ данных</a></span><ul class=\"toc-item\"><li><span><a href=\"#Выделение-обучающей-и-тестовой-выборок\" data-toc-modified-id=\"Выделение-обучающей-и-тестовой-выборок-3.1\"><span class=\"toc-item-num\">3.1&nbsp;&nbsp;</span>Выделение обучающей и тестовой выборок</a></span></li><li><span><a href=\"#Удаление-слов-нейтральной-тональности\" data-toc-modified-id=\"Удаление-слов-нейтральной-тональности-3.2\"><span class=\"toc-item-num\">3.2&nbsp;&nbsp;</span>Удаление слов нейтральной тональности</a></span></li></ul></li><li><span><a href=\"#Векторизация-текста-и-обучение-моделей\" data-toc-modified-id=\"Векторизация-текста-и-обучение-моделей-4\"><span class=\"toc-item-num\">4&nbsp;&nbsp;</span>Векторизация текста и обучение моделей</a></span><ul class=\"toc-item\"><li><span><a href=\"#Поиск-наилучших-гиперпараметров-при-помощи-GridSearchCV\" data-toc-modified-id=\"Поиск-наилучших-гиперпараметров-при-помощи-GridSearchCV-4.1\"><span class=\"toc-item-num\">4.1&nbsp;&nbsp;</span>Поиск наилучших гиперпараметров при помощи GridSearchCV</a></span></li><li><span><a href=\"#Поиск-наилучших-гиперпараметров-при-помощи-Optuna\" data-toc-modified-id=\"Поиск-наилучших-гиперпараметров-при-помощи-Optuna-4.2\"><span class=\"toc-item-num\">4.2&nbsp;&nbsp;</span>Поиск наилучших гиперпараметров при помощи Optuna</a></span></li></ul></li><li><span><a href=\"#Вывод\" data-toc-modified-id=\"Вывод-5\"><span class=\"toc-item-num\">5&nbsp;&nbsp;</span>Вывод</a></span></li></ul></div>"
   ]
  },
  {
   "cell_type": "markdown",
   "metadata": {},
   "source": [
    "# Описание проекта"
   ]
  },
  {
   "cell_type": "markdown",
   "metadata": {},
   "source": [
    "***Проект для «Викишоп»***\n",
    "\n",
    "Интернет-магазин «Викишоп» запускает новый сервис. Теперь пользователи могут редактировать и дополнять описания товаров, как в вики-сообществах. То есть клиенты предлагают свои правки и комментируют изменения других. Магазину нужен инструмент, который будет искать токсичные комментарии и отправлять их на модерацию.\n",
    "Обучите модель классифицировать комментарии на позитивные и негативные. В вашем распоряжении набор данных с разметкой о токсичности правок.\n",
    "Постройте модель со значением метрики качества F1 не меньше 0.75."
   ]
  },
  {
   "cell_type": "markdown",
   "metadata": {},
   "source": [
    "# Скачивание и импорт библиотек"
   ]
  },
  {
   "cell_type": "code",
   "execution_count": 1,
   "metadata": {},
   "outputs": [
    {
     "name": "stderr",
     "output_type": "stream",
     "text": [
      "\"{sys.executable}\" ­Ґ пў«пҐвбп ў­гваҐ­­Ґ© Ё«Ё ў­Ґи­Ґ©\n",
      "Є®¬ ­¤®©, ЁбЇ®«­пҐ¬®© Їа®Ја ¬¬®© Ё«Ё Ї ЄҐв­л¬ д ©«®¬.\n"
     ]
    }
   ],
   "source": [
    "!{sys.executable} -m spacy download en"
   ]
  },
  {
   "cell_type": "code",
   "execution_count": 2,
   "metadata": {},
   "outputs": [],
   "source": [
    "import re\n",
    "import sys\n",
    "import time\n",
    "import warnings\n",
    "\n",
    "import geograpy\n",
    "\n",
    "import matplotlib.pyplot as plt\n",
    "\n",
    "import numpy as np\n",
    "\n",
    "import optuna\n",
    "from optuna.samplers import RandomSampler\n",
    "\n",
    "import pandas as pd\n",
    "\n",
    "import spacy\n",
    "\n",
    "import nltk\n",
    "from nltk.corpus import stopwords\n",
    "from nltk.stem import WordNetLemmatizer\n",
    "\n",
    "import sklearn\n",
    "from sklearn.compose import ColumnTransformer\n",
    "from sklearn.exceptions import FitFailedWarning, ConvergenceWarning\n",
    "from sklearn.feature_extraction.text import TfidfVectorizer, CountVectorizer\n",
    "from sklearn.linear_model import LogisticRegression\n",
    "from sklearn.metrics import f1_score\n",
    "from sklearn.model_selection import train_test_split, cross_val_score, GridSearchCV\n",
    "from sklearn.preprocessing import StandardScaler\n",
    "from sklearn.pipeline import Pipeline\n",
    "from sklearn.svm  import SVC\n",
    "from sklearn.utils._testing import ignore_warnings"
   ]
  },
  {
   "cell_type": "code",
   "execution_count": 3,
   "metadata": {
    "scrolled": true
   },
   "outputs": [
    {
     "name": "stderr",
     "output_type": "stream",
     "text": [
      "[nltk_data] Downloading package stopwords to C:\\Users\\Zakhar\n",
      "[nltk_data]     Kousnetsov\\AppData\\Roaming\\nltk_data...\n",
      "[nltk_data]   Package stopwords is already up-to-date!\n",
      "[nltk_data] Downloading package wordnet to C:\\Users\\Zakhar\n",
      "[nltk_data]     Kousnetsov\\AppData\\Roaming\\nltk_data...\n",
      "[nltk_data]   Package wordnet is already up-to-date!\n",
      "[nltk_data] Downloading package punkt to C:\\Users\\Zakhar\n",
      "[nltk_data]     Kousnetsov\\AppData\\Roaming\\nltk_data...\n",
      "[nltk_data]   Package punkt is already up-to-date!\n"
     ]
    },
    {
     "data": {
      "text/plain": [
       "True"
      ]
     },
     "execution_count": 3,
     "metadata": {},
     "output_type": "execute_result"
    }
   ],
   "source": [
    "nltk.download('stopwords')\n",
    "nltk.download('wordnet')\n",
    "nltk.download('punkt')"
   ]
  },
  {
   "cell_type": "code",
   "execution_count": 4,
   "metadata": {},
   "outputs": [],
   "source": [
    "pd.set_option('display.max_colwidth', None)"
   ]
  },
  {
   "cell_type": "markdown",
   "metadata": {},
   "source": [
    "# Анализ данных"
   ]
  },
  {
   "cell_type": "code",
   "execution_count": 5,
   "metadata": {},
   "outputs": [],
   "source": [
    "try:\n",
    "    data = pd.read_csv('toxic_comments.csv')\n",
    "except:\n",
    "    data = pd.read_csv('https://code.s3.yandex.net/datasets/toxic_comments.csv')"
   ]
  },
  {
   "cell_type": "markdown",
   "metadata": {},
   "source": [
    "Посмотрим на содержание датасета"
   ]
  },
  {
   "cell_type": "code",
   "execution_count": 6,
   "metadata": {},
   "outputs": [
    {
     "data": {
      "text/html": [
       "<div>\n",
       "<style scoped>\n",
       "    .dataframe tbody tr th:only-of-type {\n",
       "        vertical-align: middle;\n",
       "    }\n",
       "\n",
       "    .dataframe tbody tr th {\n",
       "        vertical-align: top;\n",
       "    }\n",
       "\n",
       "    .dataframe thead th {\n",
       "        text-align: right;\n",
       "    }\n",
       "</style>\n",
       "<table border=\"1\" class=\"dataframe\">\n",
       "  <thead>\n",
       "    <tr style=\"text-align: right;\">\n",
       "      <th></th>\n",
       "      <th>text</th>\n",
       "      <th>toxic</th>\n",
       "    </tr>\n",
       "  </thead>\n",
       "  <tbody>\n",
       "    <tr>\n",
       "      <th>8552</th>\n",
       "      <td>Javier Patiño \\n\\nNo warnings yet, but the table you were fighting over is unrefernced so I've removed it completely. Snowman</td>\n",
       "      <td>0</td>\n",
       "    </tr>\n",
       "    <tr>\n",
       "      <th>111801</th>\n",
       "      <td>\"\\n\\nYou deleted by addition to the \"\"miscarriage of justice\"\" page. This is a legitimate site and link, and is not spam. It's a valid organization dedicated to fixing wrongful convictions of Kevin Thornton and others, and is used frequently by the Innocence Project and others. Please re-insert.\\n\\n\"</td>\n",
       "      <td>0</td>\n",
       "    </tr>\n",
       "    <tr>\n",
       "      <th>63457</th>\n",
       "      <td>\"\\nTry every single time I type something.... unless you have selective reading as well. The palegoldenrod is used in the header as well, not just in conflict with the yellow.  – (talk) \"</td>\n",
       "      <td>0</td>\n",
       "    </tr>\n",
       "  </tbody>\n",
       "</table>\n",
       "</div>"
      ],
      "text/plain": [
       "                                                                                                                                                                                                                                                                                                                 text  \\\n",
       "8552                                                                                                                                                                                    Javier Patiño \\n\\nNo warnings yet, but the table you were fighting over is unrefernced so I've removed it completely. Snowman   \n",
       "111801  \"\\n\\nYou deleted by addition to the \"\"miscarriage of justice\"\" page. This is a legitimate site and link, and is not spam. It's a valid organization dedicated to fixing wrongful convictions of Kevin Thornton and others, and is used frequently by the Innocence Project and others. Please re-insert.\\n\\n\"   \n",
       "63457                                                                                                                     \"\\nTry every single time I type something.... unless you have selective reading as well. The palegoldenrod is used in the header as well, not just in conflict with the yellow.  – (talk) \"   \n",
       "\n",
       "        toxic  \n",
       "8552        0  \n",
       "111801      0  \n",
       "63457       0  "
      ]
     },
     "execution_count": 6,
     "metadata": {},
     "output_type": "execute_result"
    }
   ],
   "source": [
    "data.sample(3)"
   ]
  },
  {
   "cell_type": "markdown",
   "metadata": {},
   "source": [
    "В датасете содержится некоторое количество твитов с присвоенной каждому оценкой тональности: токсичный или нет. Посмотрим на общую информацию"
   ]
  },
  {
   "cell_type": "code",
   "execution_count": 7,
   "metadata": {
    "scrolled": true
   },
   "outputs": [
    {
     "name": "stdout",
     "output_type": "stream",
     "text": [
      "<class 'pandas.core.frame.DataFrame'>\n",
      "RangeIndex: 159571 entries, 0 to 159570\n",
      "Data columns (total 2 columns):\n",
      " #   Column  Non-Null Count   Dtype \n",
      "---  ------  --------------   ----- \n",
      " 0   text    159571 non-null  object\n",
      " 1   toxic   159571 non-null  int64 \n",
      "dtypes: int64(1), object(1)\n",
      "memory usage: 2.4+ MB\n"
     ]
    }
   ],
   "source": [
    "data.info()"
   ]
  },
  {
   "cell_type": "markdown",
   "metadata": {},
   "source": [
    "Всего в датасете 159571 твит, каждому присвоена оценка, пропусков нет."
   ]
  },
  {
   "cell_type": "markdown",
   "metadata": {},
   "source": [
    "Исследуем дисбаланс классов"
   ]
  },
  {
   "cell_type": "code",
   "execution_count": 8,
   "metadata": {},
   "outputs": [
    {
     "data": {
      "text/plain": [
       "0    0.898321\n",
       "1    0.101679\n",
       "Name: toxic, dtype: float64"
      ]
     },
     "execution_count": 8,
     "metadata": {},
     "output_type": "execute_result"
    }
   ],
   "source": [
    "data['toxic'].value_counts(normalize=True)"
   ]
  },
  {
   "cell_type": "markdown",
   "metadata": {},
   "source": [
    "В целевом признаке прослеживается сильный дисбаланс классов. При обучении нужно будет принять меры по его компенсации"
   ]
  },
  {
   "cell_type": "markdown",
   "metadata": {},
   "source": [
    "Проверим наличие в тексте неинформативных элементов: хэштегов, ip-адресов, цифр. Выведем их количество"
   ]
  },
  {
   "cell_type": "code",
   "execution_count": 9,
   "metadata": {},
   "outputs": [
    {
     "data": {
      "text/html": [
       "<div>\n",
       "<style scoped>\n",
       "    .dataframe tbody tr th:only-of-type {\n",
       "        vertical-align: middle;\n",
       "    }\n",
       "\n",
       "    .dataframe tbody tr th {\n",
       "        vertical-align: top;\n",
       "    }\n",
       "\n",
       "    .dataframe thead th {\n",
       "        text-align: right;\n",
       "    }\n",
       "</style>\n",
       "<table border=\"1\" class=\"dataframe\">\n",
       "  <thead>\n",
       "    <tr style=\"text-align: right;\">\n",
       "      <th></th>\n",
       "      <th>text</th>\n",
       "      <th>toxic</th>\n",
       "    </tr>\n",
       "  </thead>\n",
       "  <tbody>\n",
       "    <tr>\n",
       "      <th>153241</th>\n",
       "      <td>\"\\n\\n Korean article template \\n\\nHi, thanks for your question.  Sorry I'm so late getting back to you.  Life on and off Wikipedia has been full of all sorts of unexpected hecticity...  Anyway, the Korean article template. \\n\\nThe idea behind the template is pretty simple.  The basic idea is that every article should have the following, unless there is some reason to the contrary:\\n a relevant \"\"See also\"\" section, \\n at least one relevant Korea-related category, and\\n a name table.  \\n Template:Korean on the Talk page.\\n\\nIn more detail...\\nThe \"\"See also\"\" section should include a link to the List of Korea-related topics  (LKRT), and anything else that's obviously relevant but not linked in the article text.  If you prefer, you can just put in the LKRT link and let someone else add the others.  If you want to add more, here's the rule I've been following:  look in each category of which the article is a member.  If that category has a main article (like Korea in Category:Korea), then that main article should be linked  either from the text, or from the See also section.  The same for parent categories, within reason.  Here's an example:  Munmu of Silla is a member of the categories Silla and Korean rulers.  Thus, the articles Silla and Rulers of Korea are linked in the article text.  Those two categories are part of Category:Korean history and Category:Korean people.  Thus, History of Korea is linked in the See also section, and so is List of Koreans (well, it is now).   Both of those are members of Category:Korea, hence the link to the LKRT.  \\nYou can find a complete (?) list of Korea-related categories at List of Korea-related topics#Categories.  Or just start at Category:Korea and work your way down.\\nTemplate:Koreanname noimage is fine for the vast majority of articles.  Cut and paste Template talk:Koreanname noimage#Syntax and fill in the blanks.  All Korean name tables require you to specify at least these four variables: hangul, hanja, rr, and mr.  \"\"Rr\"\" stands for Revised Romanization of Korean, and \"\"mr\"\" stands for McCune-Reischauer Romanization.  If you don't know what should go in these fields, just leave them blank  however, at a minimum the hangul should be provided (that allows other editors to verify the article and identify the other name-related information).  You can request help on the Korea-related notice board.  \\nThis one's easy.  Just paste {{Korean}} onto the top of the talk page.  Done!\\n\\nMost of our existing articles should already conform to this, since we just finished a housekeeping sweep in June.  But there are more new ones coming in every day...\\n\\nI've also taken to adding a \"\"Wish list\"\" to the talk pages of new/inactive articles, identifying 2 or 3 things that the article is lacking.  Hopefully this will help other contributors see where they can help.   (Of course, if I can contribute the information myself, I do so).\\n\\nI hope this isn't all too overwhelming.  Your excellent work so far is much appreciated. \\n\\nCheers,\\n\\n \"</td>\n",
       "      <td>0</td>\n",
       "    </tr>\n",
       "  </tbody>\n",
       "</table>\n",
       "</div>"
      ],
      "text/plain": [
       "                                                                                                                                                                                                                                                                                                                                                                                                                                                                                                                                                                                                                                                                                                                                                                                                                                                                                                                                                                                                                                                                                                                                                                                                                                                                                                                                                                                                                                                                                                                                                                                                                                                                                                                                                                                                                                                                                                                                                                                                                                                                                                                                                                                                                                                                                                                                                                                                                                                                                                                                                                                                                                                                                                                                                                                                                                                                                                                                                                                                                                                                                                                                                 text  \\\n",
       "153241  \"\\n\\n Korean article template \\n\\nHi, thanks for your question.  Sorry I'm so late getting back to you.  Life on and off Wikipedia has been full of all sorts of unexpected hecticity...  Anyway, the Korean article template. \\n\\nThe idea behind the template is pretty simple.  The basic idea is that every article should have the following, unless there is some reason to the contrary:\\n a relevant \"\"See also\"\" section, \\n at least one relevant Korea-related category, and\\n a name table.  \\n Template:Korean on the Talk page.\\n\\nIn more detail...\\nThe \"\"See also\"\" section should include a link to the List of Korea-related topics  (LKRT), and anything else that's obviously relevant but not linked in the article text.  If you prefer, you can just put in the LKRT link and let someone else add the others.  If you want to add more, here's the rule I've been following:  look in each category of which the article is a member.  If that category has a main article (like Korea in Category:Korea), then that main article should be linked  either from the text, or from the See also section.  The same for parent categories, within reason.  Here's an example:  Munmu of Silla is a member of the categories Silla and Korean rulers.  Thus, the articles Silla and Rulers of Korea are linked in the article text.  Those two categories are part of Category:Korean history and Category:Korean people.  Thus, History of Korea is linked in the See also section, and so is List of Koreans (well, it is now).   Both of those are members of Category:Korea, hence the link to the LKRT.  \\nYou can find a complete (?) list of Korea-related categories at List of Korea-related topics#Categories.  Or just start at Category:Korea and work your way down.\\nTemplate:Koreanname noimage is fine for the vast majority of articles.  Cut and paste Template talk:Koreanname noimage#Syntax and fill in the blanks.  All Korean name tables require you to specify at least these four variables: hangul, hanja, rr, and mr.  \"\"Rr\"\" stands for Revised Romanization of Korean, and \"\"mr\"\" stands for McCune-Reischauer Romanization.  If you don't know what should go in these fields, just leave them blank  however, at a minimum the hangul should be provided (that allows other editors to verify the article and identify the other name-related information).  You can request help on the Korea-related notice board.  \\nThis one's easy.  Just paste {{Korean}} onto the top of the talk page.  Done!\\n\\nMost of our existing articles should already conform to this, since we just finished a housekeeping sweep in June.  But there are more new ones coming in every day...\\n\\nI've also taken to adding a \"\"Wish list\"\" to the talk pages of new/inactive articles, identifying 2 or 3 things that the article is lacking.  Hopefully this will help other contributors see where they can help.   (Of course, if I can contribute the information myself, I do so).\\n\\nI hope this isn't all too overwhelming.  Your excellent work so far is much appreciated. \\n\\nCheers,\\n\\n \"   \n",
       "\n",
       "        toxic  \n",
       "153241      0  "
      ]
     },
     "metadata": {},
     "output_type": "display_data"
    },
    {
     "name": "stdout",
     "output_type": "stream",
     "text": [
      "Всего в корпусе 3276 текстов с хэштегами\n"
     ]
    },
    {
     "data": {
      "text/html": [
       "<div>\n",
       "<style scoped>\n",
       "    .dataframe tbody tr th:only-of-type {\n",
       "        vertical-align: middle;\n",
       "    }\n",
       "\n",
       "    .dataframe tbody tr th {\n",
       "        vertical-align: top;\n",
       "    }\n",
       "\n",
       "    .dataframe thead th {\n",
       "        text-align: right;\n",
       "    }\n",
       "</style>\n",
       "<table border=\"1\" class=\"dataframe\">\n",
       "  <thead>\n",
       "    <tr style=\"text-align: right;\">\n",
       "      <th></th>\n",
       "      <th>text</th>\n",
       "      <th>toxic</th>\n",
       "    </tr>\n",
       "  </thead>\n",
       "  <tbody>\n",
       "    <tr>\n",
       "      <th>105483</th>\n",
       "      <td>\"Christiania ==\\n\\nflag&gt; http://www.fotw.net/images/d/dk-chris.gif\\nby Edward Mooney, Jr. 2000-12-08\\n\\ninfo&gt;    * you limit your use to a maximum of 5% of the images or content of the website\\n    * you quote the author\\n    * you quote the website (as \"\"FOTW Flags Of The World website at http://flagspot.net/flags/\"\")\\n    * you do not alter in any way the images or the content of the text\\n    * you use the material for non-commercial and non-political purposes only\\n    * if you distribute our material by a non-Internet way (e.g., floppy disks or CD-ROM) you must add this copyright text on every copy of the medium\\n    * if you distribute our materials by a non-Internet way (e.g., floppy disks or CD-ROM) you cannot sell these media\\n    * if you want to mirror the Web, read these additional rules\\n    * If you want to reuse FOTW GeoIndex maps and boundaries' data, read these rules \\n\\n \"</td>\n",
       "      <td>0</td>\n",
       "    </tr>\n",
       "  </tbody>\n",
       "</table>\n",
       "</div>"
      ],
      "text/plain": [
       "                                                                                                                                                                                                                                                                                                                                                                                                                                                                                                                                                                                                                                                                                                                                                                                                                                                                                                                                           text  \\\n",
       "105483  \"Christiania ==\\n\\nflag> http://www.fotw.net/images/d/dk-chris.gif\\nby Edward Mooney, Jr. 2000-12-08\\n\\ninfo>    * you limit your use to a maximum of 5% of the images or content of the website\\n    * you quote the author\\n    * you quote the website (as \"\"FOTW Flags Of The World website at http://flagspot.net/flags/\"\")\\n    * you do not alter in any way the images or the content of the text\\n    * you use the material for non-commercial and non-political purposes only\\n    * if you distribute our material by a non-Internet way (e.g., floppy disks or CD-ROM) you must add this copyright text on every copy of the medium\\n    * if you distribute our materials by a non-Internet way (e.g., floppy disks or CD-ROM) you cannot sell these media\\n    * if you want to mirror the Web, read these additional rules\\n    * If you want to reuse FOTW GeoIndex maps and boundaries' data, read these rules \\n\\n \"   \n",
       "\n",
       "        toxic  \n",
       "105483      0  "
      ]
     },
     "metadata": {},
     "output_type": "display_data"
    },
    {
     "name": "stdout",
     "output_type": "stream",
     "text": [
      "Всего в корпусе 4774 текстов с названиями сайтов\n"
     ]
    }
   ],
   "source": [
    "display(data[data['text'].str.contains(r'#\\S+')].sample())\n",
    "print('Всего в корпусе {} текстов с хэштегами'.format(data['text'].str.contains('#\\S+').sum()))\n",
    "\n",
    "display(data[data['text'].str.contains('http[s]?\\://\\S+')].sample())\n",
    "print('Всего в корпусе {} текстов с названиями сайтов'.format(data['text'].str.contains('http[s]?\\://\\S+').sum()))"
   ]
  },
  {
   "cell_type": "markdown",
   "metadata": {},
   "source": [
    "Очистим все твиты от неинформативных символов и приведем все слова к леммам при помощи библиотеки `spaCy`"
   ]
  },
  {
   "cell_type": "code",
   "execution_count": 10,
   "metadata": {},
   "outputs": [],
   "source": [
    "nlp = spacy.load('en_core_web_sm', disable=['parser', 'ner'])\n",
    "def cleaner_lemmatizer(text):\n",
    "    cleaned_text = ' '.join(re.sub(r'(#\\S+)|(http[s]?\\://\\S+)|[^a-zA-Z]', ' ', text).split())\n",
    "    return ' '.join([token.lemma_ for token in nlp(cleaned_text)]).lower().strip()"
   ]
  },
  {
   "cell_type": "markdown",
   "metadata": {},
   "source": [
    "Убедимся, что это работает"
   ]
  },
  {
   "cell_type": "code",
   "execution_count": 11,
   "metadata": {},
   "outputs": [
    {
     "data": {
      "text/html": [
       "<div>\n",
       "<style scoped>\n",
       "    .dataframe tbody tr th:only-of-type {\n",
       "        vertical-align: middle;\n",
       "    }\n",
       "\n",
       "    .dataframe tbody tr th {\n",
       "        vertical-align: top;\n",
       "    }\n",
       "\n",
       "    .dataframe thead th {\n",
       "        text-align: right;\n",
       "    }\n",
       "</style>\n",
       "<table border=\"1\" class=\"dataframe\">\n",
       "  <thead>\n",
       "    <tr style=\"text-align: right;\">\n",
       "      <th></th>\n",
       "      <th>text</th>\n",
       "    </tr>\n",
       "  </thead>\n",
       "  <tbody>\n",
       "    <tr>\n",
       "      <th>111</th>\n",
       "      <td>comment i could not verify the claim talk</td>\n",
       "    </tr>\n",
       "    <tr>\n",
       "      <th>222</th>\n",
       "      <td>you be wrong although i be block on some occasion i be never block for sockpuppetry or vandalism it be because of dispute on multiple topic with various sock of user hkelkar user vandalpetrol both of which be permabanne i have never use any other account if you be permit to edit then you should get other account delete which say you be indeffe no blast</td>\n",
       "    </tr>\n",
       "    <tr>\n",
       "      <th>333</th>\n",
       "      <td>unsure at this stage its not very clear what wording be actually be discuss</td>\n",
       "    </tr>\n",
       "  </tbody>\n",
       "</table>\n",
       "</div>"
      ],
      "text/plain": [
       "                                                                                                                                                                                                                                                                                                                                                                   text\n",
       "111                                                                                                                                                                                                                                                                                                                           comment i could not verify the claim talk\n",
       "222  you be wrong although i be block on some occasion i be never block for sockpuppetry or vandalism it be because of dispute on multiple topic with various sock of user hkelkar user vandalpetrol both of which be permabanne i have never use any other account if you be permit to edit then you should get other account delete which say you be indeffe no blast\n",
       "333                                                                                                                                                                                                                                                                                         unsure at this stage its not very clear what wording be actually be discuss"
      ]
     },
     "execution_count": 11,
     "metadata": {},
     "output_type": "execute_result"
    }
   ],
   "source": [
    "data.loc[[111, 222, 333], 'text'].apply(func=lambda x: cleaner_lemmatizer(x)).to_frame()"
   ]
  },
  {
   "cell_type": "markdown",
   "metadata": {},
   "source": [
    "Чтобы сэкономить время, загрузим датасет с уже очищенными и лемматизированными твитами "
   ]
  },
  {
   "cell_type": "code",
   "execution_count": 12,
   "metadata": {},
   "outputs": [
    {
     "name": "stdout",
     "output_type": "stream",
     "text": [
      "Wall time: 1.19 s\n"
     ]
    }
   ],
   "source": [
    "%%time\n",
    "try:\n",
    "    data = pd.read_csv('data_cleaned_and lemmatized_v2').drop('Unnamed: 0', axis=1)\n",
    "except:\n",
    "    data['lemmatized'] = data.loc[:, 'text'].apply(func=lambda x: cleaner_lemmatizer(x))"
   ]
  },
  {
   "cell_type": "code",
   "execution_count": 13,
   "metadata": {
    "scrolled": true
   },
   "outputs": [
    {
     "data": {
      "text/html": [
       "<div>\n",
       "<style scoped>\n",
       "    .dataframe tbody tr th:only-of-type {\n",
       "        vertical-align: middle;\n",
       "    }\n",
       "\n",
       "    .dataframe tbody tr th {\n",
       "        vertical-align: top;\n",
       "    }\n",
       "\n",
       "    .dataframe thead th {\n",
       "        text-align: right;\n",
       "    }\n",
       "</style>\n",
       "<table border=\"1\" class=\"dataframe\">\n",
       "  <thead>\n",
       "    <tr style=\"text-align: right;\">\n",
       "      <th></th>\n",
       "      <th>text</th>\n",
       "      <th>toxic</th>\n",
       "      <th>lemmatized</th>\n",
       "    </tr>\n",
       "  </thead>\n",
       "  <tbody>\n",
       "    <tr>\n",
       "      <th>47633</th>\n",
       "      <td>\"\\nNon-free images are strictly limited to certain extremely limited situations where obtaining a replacement is impossible - see WP:NFC. Non-replaceable does not simply mean \"\"not easily available on the Internet\"\" - there are plenty of opportunities to take a free-content picture of a transman for the article. ✽ \"</td>\n",
       "      <td>0</td>\n",
       "      <td>non free image be strictly limit to certain extremely limited situation where obtain a replacement be impossible see wp nfc non replaceable do not simply mean not easily available on the internet there be plenty of opportunity to take a free content picture of a transman for the article</td>\n",
       "    </tr>\n",
       "    <tr>\n",
       "      <th>85234</th>\n",
       "      <td>It seems that it significantly informed her understanding of the use of ICTs and motivated her interest in them.  Admittedly, I don't know offhand of any notable interviews, articles, etc. outside of danah's self-published material that makes this connection.  I personally believe that the media have totally missed this important and interesting connection but that's beyond the scope of this discussion (and a significant weakness in this particular argument).</td>\n",
       "      <td>0</td>\n",
       "      <td>it seem that it significantly inform her understanding of the use of ict and motivate her interest in they admittedly i don t know offhand of any notable interview article etc outside of danah s self publish material that make this connection i personally believe that the medium have totally miss this important and interesting connection but that s beyond the scope of this discussion and a significant weakness in this particular argument</td>\n",
       "    </tr>\n",
       "    <tr>\n",
       "      <th>131847</th>\n",
       "      <td>I did, he just called Tiger a racist, called the black communities racist and called him a failure at golf. Doesnt mean hes a racist.</td>\n",
       "      <td>1</td>\n",
       "      <td>i do he just call tiger a racist call the black community racist and call he a failure at golf do not mean he s a racist</td>\n",
       "    </tr>\n",
       "  </tbody>\n",
       "</table>\n",
       "</div>"
      ],
      "text/plain": [
       "                                                                                                                                                                                                                                                                                                                                                                                                                                                                                   text  \\\n",
       "47633                                                                                                                                                     \"\\nNon-free images are strictly limited to certain extremely limited situations where obtaining a replacement is impossible - see WP:NFC. Non-replaceable does not simply mean \"\"not easily available on the Internet\"\" - there are plenty of opportunities to take a free-content picture of a transman for the article. ✽ \"   \n",
       "85234   It seems that it significantly informed her understanding of the use of ICTs and motivated her interest in them.  Admittedly, I don't know offhand of any notable interviews, articles, etc. outside of danah's self-published material that makes this connection.  I personally believe that the media have totally missed this important and interesting connection but that's beyond the scope of this discussion (and a significant weakness in this particular argument).   \n",
       "131847                                                                                                                                                                                                                                                                                                                                            I did, he just called Tiger a racist, called the black communities racist and called him a failure at golf. Doesnt mean hes a racist.   \n",
       "\n",
       "        toxic  \\\n",
       "47633       0   \n",
       "85234       0   \n",
       "131847      1   \n",
       "\n",
       "                                                                                                                                                                                                                                                                                                                                                                                                                                                       lemmatized  \n",
       "47633                                                                                                                                                             non free image be strictly limit to certain extremely limited situation where obtain a replacement be impossible see wp nfc non replaceable do not simply mean not easily available on the internet there be plenty of opportunity to take a free content picture of a transman for the article  \n",
       "85234   it seem that it significantly inform her understanding of the use of ict and motivate her interest in they admittedly i don t know offhand of any notable interview article etc outside of danah s self publish material that make this connection i personally believe that the medium have totally miss this important and interesting connection but that s beyond the scope of this discussion and a significant weakness in this particular argument  \n",
       "131847                                                                                                                                                                                                                                                                                                                                   i do he just call tiger a racist call the black community racist and call he a failure at golf do not mean he s a racist  "
      ]
     },
     "execution_count": 13,
     "metadata": {},
     "output_type": "execute_result"
    }
   ],
   "source": [
    "data.sample(3)"
   ]
  },
  {
   "cell_type": "markdown",
   "metadata": {},
   "source": [
    "Проверим сводную информацию о датасете вновь"
   ]
  },
  {
   "cell_type": "code",
   "execution_count": 14,
   "metadata": {},
   "outputs": [
    {
     "name": "stdout",
     "output_type": "stream",
     "text": [
      "<class 'pandas.core.frame.DataFrame'>\n",
      "RangeIndex: 159571 entries, 0 to 159570\n",
      "Data columns (total 3 columns):\n",
      " #   Column      Non-Null Count   Dtype \n",
      "---  ------      --------------   ----- \n",
      " 0   text        159571 non-null  object\n",
      " 1   toxic       159571 non-null  int64 \n",
      " 2   lemmatized  159548 non-null  object\n",
      "dtypes: int64(1), object(2)\n",
      "memory usage: 3.7+ MB\n"
     ]
    }
   ],
   "source": [
    "data.info()"
   ]
  },
  {
   "cell_type": "markdown",
   "metadata": {},
   "source": [
    "В лемматазированных текстах появились пропуски. Рассмотрим их отдельно"
   ]
  },
  {
   "cell_type": "code",
   "execution_count": 15,
   "metadata": {},
   "outputs": [
    {
     "data": {
      "text/html": [
       "<div>\n",
       "<style scoped>\n",
       "    .dataframe tbody tr th:only-of-type {\n",
       "        vertical-align: middle;\n",
       "    }\n",
       "\n",
       "    .dataframe tbody tr th {\n",
       "        vertical-align: top;\n",
       "    }\n",
       "\n",
       "    .dataframe thead th {\n",
       "        text-align: right;\n",
       "    }\n",
       "</style>\n",
       "<table border=\"1\" class=\"dataframe\">\n",
       "  <thead>\n",
       "    <tr style=\"text-align: right;\">\n",
       "      <th></th>\n",
       "      <th>text</th>\n",
       "      <th>toxic</th>\n",
       "      <th>lemmatized</th>\n",
       "    </tr>\n",
       "  </thead>\n",
       "  <tbody>\n",
       "    <tr>\n",
       "      <th>76037</th>\n",
       "      <td>http://finance.yahoo.com/news/7-fascinating-nuggets-another-bewildering-150348488.html</td>\n",
       "      <td>0</td>\n",
       "      <td>NaN</td>\n",
       "    </tr>\n",
       "    <tr>\n",
       "      <th>141293</th>\n",
       "      <td>http://www.haaretz.com/news/diplomacy-defense/2-279-calories-per-person-how-israel-made-sure-gaza-didn-t-starve.premium-1.470419</td>\n",
       "      <td>0</td>\n",
       "      <td>NaN</td>\n",
       "    </tr>\n",
       "    <tr>\n",
       "      <th>153616</th>\n",
       "      <td>http://en.wikipedia.org/w/index.php?title=Crash_Bandicoot_%28series%29&amp;diff;=prev&amp;oldid;=484470162]], [], [], [], [] [[</td>\n",
       "      <td>0</td>\n",
       "      <td>NaN</td>\n",
       "    </tr>\n",
       "    <tr>\n",
       "      <th>17311</th>\n",
       "      <td>~ \\n\\n68.193.147.157</td>\n",
       "      <td>0</td>\n",
       "      <td>NaN</td>\n",
       "    </tr>\n",
       "    <tr>\n",
       "      <th>109944</th>\n",
       "      <td>http://www.newswire.ca/fr/story/358197/domaine-pinnacle-ice-cider-now-available-in-new-european-and-asian-markets .</td>\n",
       "      <td>0</td>\n",
       "      <td>NaN</td>\n",
       "    </tr>\n",
       "  </tbody>\n",
       "</table>\n",
       "</div>"
      ],
      "text/plain": [
       "                                                                                                                                    text  \\\n",
       "76037                                             http://finance.yahoo.com/news/7-fascinating-nuggets-another-bewildering-150348488.html   \n",
       "141293  http://www.haaretz.com/news/diplomacy-defense/2-279-calories-per-person-how-israel-made-sure-gaza-didn-t-starve.premium-1.470419   \n",
       "153616           http://en.wikipedia.org/w/index.php?title=Crash_Bandicoot_%28series%29&diff;=prev&oldid;=484470162]], [], [], [], [] [[   \n",
       "17311                                                                                                               ~ \\n\\n68.193.147.157   \n",
       "109944               http://www.newswire.ca/fr/story/358197/domaine-pinnacle-ice-cider-now-available-in-new-european-and-asian-markets .   \n",
       "\n",
       "        toxic lemmatized  \n",
       "76037       0        NaN  \n",
       "141293      0        NaN  \n",
       "153616      0        NaN  \n",
       "17311       0        NaN  \n",
       "109944      0        NaN  "
      ]
     },
     "execution_count": 15,
     "metadata": {},
     "output_type": "execute_result"
    }
   ],
   "source": [
    "data[data['lemmatized'].isna()].sample(5)"
   ]
  },
  {
   "cell_type": "markdown",
   "metadata": {},
   "source": [
    "Все ясно, пропуски связаны с тем, что в оригинальном твите нет текста и лемматизировать нечего. Придется такие наблюдения удалить, так как вряд ли нам удастся вычислить настроение по IP."
   ]
  },
  {
   "cell_type": "code",
   "execution_count": 16,
   "metadata": {},
   "outputs": [],
   "source": [
    "data = data.dropna(axis=0)"
   ]
  },
  {
   "cell_type": "markdown",
   "metadata": {},
   "source": [
    "Для анализа дан довольно большой корпус текста. Для точности обучения данных чем больше, тем лучше, но это может потребовать существенных вычислительных ресурсов, поэтому проверим, не перестает ли увеличиваться число уникальных слов в твитах, начиная  с некоторого значения"
   ]
  },
  {
   "cell_type": "code",
   "execution_count": 17,
   "metadata": {},
   "outputs": [
    {
     "name": "stdout",
     "output_type": "stream",
     "text": [
      "Wall time: 8.16 s\n"
     ]
    },
    {
     "data": {
      "image/png": "[encoded data removed]",
      "text/plain": [
       "<Figure size 1152x432 with 1 Axes>"
      ]
     },
     "metadata": {
      "needs_background": "light"
     },
     "output_type": "display_data"
    }
   ],
   "source": [
    "%%time\n",
    "unique_words = []\n",
    "step = 10\n",
    "lim = np.linspace(0, len(data), 10)\n",
    "for i in lim:\n",
    "    unique_words.append(len(set(' '.join(data.dropna().loc[0:i, 'lemmatized'].values).split())))\n",
    "    \n",
    "plt.figure(figsize=(16, 6))\n",
    "plt.plot(lim, unique_words)\n",
    "plt.title('Динамика изменения частоты встречаемости новых слов по мере роста корпуса ')\n",
    "plt.xlabel('Порядковый номер твита')\n",
    "plt.ylabel('Число уникальных слов в твитах')\n",
    "\n",
    "for line in list(lim):\n",
    "    plt.axvline(x=line, linestyle=':', color='grey')"
   ]
  },
  {
   "cell_type": "markdown",
   "metadata": {},
   "source": [
    "Действительно, в корпусе из нескольких сотен твитов почти в каждом обнаруживаются уникальные для корпуса слова, и по мере увеличения корпуса они встречаются все реже. Однако нельзя сказать, что эта динамика в какой-то момент прекращается, поэтому стоит рассматривать весь корпус целиком."
   ]
  },
  {
   "cell_type": "markdown",
   "metadata": {},
   "source": [
    "## Выделение обучающей и тестовой выборок"
   ]
  },
  {
   "cell_type": "markdown",
   "metadata": {},
   "source": [
    "Разобьем датасет на обучающую и тестовую выборку, приняв объем тестовой за 25%"
   ]
  },
  {
   "cell_type": "code",
   "execution_count": 18,
   "metadata": {},
   "outputs": [],
   "source": [
    "features = data['lemmatized'].to_frame()\n",
    "target = data['toxic']"
   ]
  },
  {
   "cell_type": "code",
   "execution_count": 19,
   "metadata": {},
   "outputs": [],
   "source": [
    "train_features, test_features, train_target, test_target = train_test_split(features, target, test_size=0.25, random_state=123)"
   ]
  },
  {
   "cell_type": "markdown",
   "metadata": {},
   "source": [
    "## Удаление слов нейтральной тональности"
   ]
  },
  {
   "cell_type": "code",
   "execution_count": 20,
   "metadata": {},
   "outputs": [],
   "source": [
    "stop_words = set(stopwords.words('english'))"
   ]
  },
  {
   "cell_type": "markdown",
   "metadata": {},
   "source": [
    "Добавим к списку стоп-слов названия географических объектов, встречающихся в датасете, названия дней и месяцев. Начнем с извлечения из датасета всех географических объектов. Для демонстрации работы возьмем короткий участок датасета"
   ]
  },
  {
   "cell_type": "code",
   "execution_count": 21,
   "metadata": {},
   "outputs": [
    {
     "name": "stdout",
     "output_type": "stream",
     "text": [
      "Wall time: 13.2 s\n"
     ]
    }
   ],
   "source": [
    "%%time\n",
    "places = geograpy.get_geoPlace_context(text=' '.join(data['text'].sample(100)))"
   ]
  },
  {
   "cell_type": "markdown",
   "metadata": {},
   "source": [
    "Выведем по несколько стран, регионов и городов"
   ]
  },
  {
   "cell_type": "code",
   "execution_count": 22,
   "metadata": {},
   "outputs": [
    {
     "data": {
      "text/plain": [
       "['India', 'South Africa', 'United States of America']"
      ]
     },
     "metadata": {},
     "output_type": "display_data"
    },
    {
     "data": {
      "text/plain": [
       "['Incan', 'Karate', 'News']"
      ]
     },
     "metadata": {},
     "output_type": "display_data"
    },
    {
     "data": {
      "text/plain": [
       "['Los Angeles', 'Florence', 'Arras']"
      ]
     },
     "metadata": {},
     "output_type": "display_data"
    }
   ],
   "source": [
    "display(places.countries[:3])\n",
    "display(places.regions[:3])\n",
    "display(places.cities[:3])"
   ]
  },
  {
   "cell_type": "markdown",
   "metadata": {},
   "source": [
    "~~Добавим к списку стоп-слов только названия стран, так как мноиге выявленные библиотекой `geograpy` города и регионы совпадают с простыми словами, и это ухудшает обобщающую способность модели~~ Добавим только дни недели и месяцы"
   ]
  },
  {
   "cell_type": "code",
   "execution_count": 23,
   "metadata": {},
   "outputs": [
    {
     "name": "stdout",
     "output_type": "stream",
     "text": [
      "Количество стоп-слов до: 179\n",
      "Количество стоп-слов после: 198\n"
     ]
    }
   ],
   "source": [
    "print('Количество стоп-слов до: {}'.format(len(stop_words)))\n",
    "\n",
    "stop_words.update([item.lower() for item in pd.date_range('2022-01-01','2023-01-01', freq='MS').month_name()],\n",
    "                  [item.lower() for item in pd.date_range('2022-01-01','2023-01-01', freq='MS').day_name()]\n",
    "                  \n",
    "                 )\n",
    "# [item.lower() for item in places.countries]\n",
    "print('Количество стоп-слов после: {}'.format(len(stop_words)))"
   ]
  },
  {
   "cell_type": "markdown",
   "metadata": {},
   "source": [
    "Число стоп-слов значительно увеличилось. Надеемся, на точности предсказания это тоже скажется. Загрузим заранее сформированный список стоп-слов"
   ]
  },
  {
   "cell_type": "code",
   "execution_count": 24,
   "metadata": {},
   "outputs": [
    {
     "data": {
      "text/plain": [
       "\"try:\\n    with open('stop_words_v3.txt', 'r') as file:\\n        stop_words = set(file.read().splitlines())\\nexcept:\\n    print('Файл не найден, сформируйте список стоп-слов заново')\""
      ]
     },
     "execution_count": 24,
     "metadata": {},
     "output_type": "execute_result"
    }
   ],
   "source": [
    "'''try:\n",
    "    with open('stop_words_v3.txt', 'r') as file:\n",
    "        stop_words = set(file.read().splitlines())\n",
    "except:\n",
    "    print('Файл не найден, сформируйте список стоп-слов заново')'''"
   ]
  },
  {
   "cell_type": "code",
   "execution_count": 25,
   "metadata": {},
   "outputs": [
    {
     "name": "stdout",
     "output_type": "stream",
     "text": [
      "Итого слоп-слов: 198\n"
     ]
    }
   ],
   "source": [
    "print('Итого слоп-слов: {}'.format(len(stop_words)))"
   ]
  },
  {
   "cell_type": "markdown",
   "metadata": {},
   "source": [
    "Будем считать, что большая часть - правда нейтральные слова."
   ]
  },
  {
   "cell_type": "markdown",
   "metadata": {},
   "source": [
    "# Векторизация текста и обучение моделей"
   ]
  },
  {
   "cell_type": "markdown",
   "metadata": {},
   "source": [
    "## Поиск наилучших гиперпараметров при помощи GridSearchCV"
   ]
  },
  {
   "cell_type": "markdown",
   "metadata": {},
   "source": [
    "Построим пайплайн, включающий в себя следующие шаги:\n",
    "* Трансформер, представляющий текст в виде вектора (в качестве трансформера используется мешок слов или TF-IDF)\n",
    "* Модель обучения (рассмотрим логистическую регрессию и метод опорных векторов, другие модели рассматрвиались, но слишком долго обучались и не дали хорошего результата)\n",
    "\n",
    "Также в пайплайн можно было встроить Scaler, однако для текстов все признаки (частоты слов) имеют одинаковый масштаб и это не дало прироста точности\n"
   ]
  },
  {
   "cell_type": "code",
   "execution_count": 26,
   "metadata": {},
   "outputs": [],
   "source": [
    "bow_ct = ColumnTransformer(transformers=[('count_vectorizer', CountVectorizer(stop_words=stop_words), 'lemmatized')])\n",
    "tf_idf_ct = ColumnTransformer(transformers=[('tf_idf_vectorizer', TfidfVectorizer(stop_words=stop_words), 'lemmatized')])\n",
    "\n",
    "lr_clf = LogisticRegression(class_weight='balanced', random_state=123, solver='sag', max_iter=10000, n_jobs=-1)\n",
    "svm_clf = SVC(class_weight='balanced', random_state=123, max_iter=10000)\n",
    "\n",
    "multi_pipe = Pipeline(steps=[('vectorizer', bow_ct), ('classifier', lr_clf)])"
   ]
  },
  {
   "cell_type": "markdown",
   "metadata": {},
   "source": [
    "Переберем несколько гиперпараметров в поисках наилучшей модели"
   ]
  },
  {
   "cell_type": "code",
   "execution_count": 27,
   "metadata": {
    "scrolled": true
   },
   "outputs": [
    {
     "name": "stdout",
     "output_type": "stream",
     "text": [
      "Fitting 3 folds for each of 327 candidates, totalling 981 fits\n"
     ]
    },
    {
     "name": "stderr",
     "output_type": "stream",
     "text": [
      "C:\\anaconda3\\lib\\site-packages\\sklearn\\model_selection\\_validation.py:372: FitFailedWarning: \n",
      "324 fits failed out of a total of 981.\n",
      "The score on these train-test partitions for these parameters will be set to 0.0.\n",
      "If these failures are not expected, you can try to debug them by setting error_score='raise'.\n",
      "\n",
      "Below are more details about the failures:\n",
      "--------------------------------------------------------------------------------\n",
      "324 fits failed with the following error:\n",
      "Traceback (most recent call last):\n",
      "  File \"C:\\anaconda3\\lib\\site-packages\\sklearn\\model_selection\\_validation.py\", line 680, in _fit_and_score\n",
      "    estimator.fit(X_train, y_train, **fit_params)\n",
      "  File \"C:\\anaconda3\\lib\\site-packages\\sklearn\\pipeline.py\", line 390, in fit\n",
      "    Xt = self._fit(X, y, **fit_params_steps)\n",
      "  File \"C:\\anaconda3\\lib\\site-packages\\sklearn\\pipeline.py\", line 348, in _fit\n",
      "    X, fitted_transformer = fit_transform_one_cached(\n",
      "  File \"C:\\anaconda3\\lib\\site-packages\\joblib\\memory.py\", line 352, in __call__\n",
      "    return self.func(*args, **kwargs)\n",
      "  File \"C:\\anaconda3\\lib\\site-packages\\sklearn\\pipeline.py\", line 893, in _fit_transform_one\n",
      "    res = transformer.fit_transform(X, y, **fit_params)\n",
      "  File \"C:\\anaconda3\\lib\\site-packages\\sklearn\\compose\\_column_transformer.py\", line 675, in fit_transform\n",
      "    result = self._fit_transform(X, y, _fit_transform_one)\n",
      "  File \"C:\\anaconda3\\lib\\site-packages\\sklearn\\compose\\_column_transformer.py\", line 606, in _fit_transform\n",
      "    return Parallel(n_jobs=self.n_jobs)(\n",
      "  File \"C:\\anaconda3\\lib\\site-packages\\joblib\\parallel.py\", line 1048, in __call__\n",
      "    if self.dispatch_one_batch(iterator):\n",
      "  File \"C:\\anaconda3\\lib\\site-packages\\joblib\\parallel.py\", line 866, in dispatch_one_batch\n",
      "    self._dispatch(tasks)\n",
      "  File \"C:\\anaconda3\\lib\\site-packages\\joblib\\parallel.py\", line 784, in _dispatch\n",
      "    job = self._backend.apply_async(batch, callback=cb)\n",
      "  File \"C:\\anaconda3\\lib\\site-packages\\joblib\\_parallel_backends.py\", line 208, in apply_async\n",
      "    result = ImmediateResult(func)\n",
      "  File \"C:\\anaconda3\\lib\\site-packages\\joblib\\_parallel_backends.py\", line 572, in __init__\n",
      "    self.results = batch()\n",
      "  File \"C:\\anaconda3\\lib\\site-packages\\joblib\\parallel.py\", line 262, in __call__\n",
      "    return [func(*args, **kwargs)\n",
      "  File \"C:\\anaconda3\\lib\\site-packages\\joblib\\parallel.py\", line 262, in <listcomp>\n",
      "    return [func(*args, **kwargs)\n",
      "  File \"C:\\anaconda3\\lib\\site-packages\\sklearn\\utils\\fixes.py\", line 216, in __call__\n",
      "    return self.function(*args, **kwargs)\n",
      "  File \"C:\\anaconda3\\lib\\site-packages\\sklearn\\pipeline.py\", line 893, in _fit_transform_one\n",
      "    res = transformer.fit_transform(X, y, **fit_params)\n",
      "  File \"C:\\anaconda3\\lib\\site-packages\\sklearn\\feature_extraction\\text.py\", line 2077, in fit_transform\n",
      "    X = super().fit_transform(raw_documents)\n",
      "  File \"C:\\anaconda3\\lib\\site-packages\\sklearn\\feature_extraction\\text.py\", line 1344, in fit_transform\n",
      "    raise ValueError(\"max_df corresponds to < documents than min_df\")\n",
      "ValueError: max_df corresponds to < documents than min_df\n",
      "\n",
      "  warnings.warn(some_fits_failed_message, FitFailedWarning)\n"
     ]
    },
    {
     "name": "stdout",
     "output_type": "stream",
     "text": [
      "Wall time: 12h 10min 59s\n"
     ]
    },
    {
     "name": "stderr",
     "output_type": "stream",
     "text": [
      "C:\\anaconda3\\lib\\site-packages\\sklearn\\svm\\_base.py:284: ConvergenceWarning: Solver terminated early (max_iter=10000).  Consider pre-processing your data with StandardScaler or MinMaxScaler.\n",
      "  warnings.warn(\n"
     ]
    }
   ],
   "source": [
    "%%time\n",
    "\n",
    "params = [{'vectorizer': [tf_idf_ct], \n",
    "           'vectorizer__tf_idf_vectorizer__ngram_range':[(1, 2)], \n",
    "           'classifier': [lr_clf], \n",
    "           'classifier__C': [0.5, 2, 5]\n",
    "          },\n",
    "          \n",
    "          {'vectorizer': [tf_idf_ct], \n",
    "           'vectorizer__tf_idf_vectorizer__ngram_range':[(1,2), (1, 3), (2, 2)],\n",
    "           'vectorizer__tf_idf_vectorizer__max_df':[0.8, 0.9, 1],\n",
    "           'vectorizer__tf_idf_vectorizer__min_df':[2, 5, 10],\n",
    "           'classifier': [svm_clf],\n",
    "           'classifier__C': [0.5, 3, 6, 10],\n",
    "           'classifier__gamma': [0.3, 0.9, 2]\n",
    "          }\n",
    "         ]\n",
    "\n",
    "multi_gs = GridSearchCV(estimator=multi_pipe, param_grid=params, scoring='f1', cv=3, n_jobs=-1, verbose=10, error_score=0.0)\n",
    "multi_gs_res = multi_gs.fit(train_features, train_target).cv_results_"
   ]
  },
  {
   "cell_type": "markdown",
   "metadata": {},
   "source": [
    "Выведем сводную таблицу моделей с разными гиперпараметрами"
   ]
  },
  {
   "cell_type": "code",
   "execution_count": 28,
   "metadata": {
    "scrolled": true
   },
   "outputs": [
    {
     "data": {
      "text/html": [
       "<div>\n",
       "<style scoped>\n",
       "    .dataframe tbody tr th:only-of-type {\n",
       "        vertical-align: middle;\n",
       "    }\n",
       "\n",
       "    .dataframe tbody tr th {\n",
       "        vertical-align: top;\n",
       "    }\n",
       "\n",
       "    .dataframe thead th {\n",
       "        text-align: right;\n",
       "    }\n",
       "</style>\n",
       "<table border=\"1\" class=\"dataframe\">\n",
       "  <thead>\n",
       "    <tr style=\"text-align: right;\">\n",
       "      <th></th>\n",
       "      <th>mean_fit_time</th>\n",
       "      <th>std_fit_time</th>\n",
       "      <th>mean_score_time</th>\n",
       "      <th>std_score_time</th>\n",
       "      <th>param_classifier</th>\n",
       "      <th>param_classifier__C</th>\n",
       "      <th>param_vectorizer</th>\n",
       "      <th>param_vectorizer__tf_idf_vectorizer__ngram_range</th>\n",
       "      <th>param_classifier__gamma</th>\n",
       "      <th>param_vectorizer__tf_idf_vectorizer__max_df</th>\n",
       "      <th>param_vectorizer__tf_idf_vectorizer__min_df</th>\n",
       "      <th>params</th>\n",
       "      <th>split0_test_score</th>\n",
       "      <th>split1_test_score</th>\n",
       "      <th>split2_test_score</th>\n",
       "      <th>mean_test_score</th>\n",
       "      <th>std_test_score</th>\n",
       "      <th>rank_test_score</th>\n",
       "    </tr>\n",
       "  </thead>\n",
       "  <tbody>\n",
       "    <tr>\n",
       "      <th>0</th>\n",
       "      <td>839.312081</td>\n",
       "      <td>3.841229</td>\n",
       "      <td>297.256259</td>\n",
       "      <td>3.598656</td>\n",
       "      <td>SVC(C=3, class_weight='balanced', gamma=0.3, max_iter=10000, random_state=123)</td>\n",
       "      <td>3</td>\n",
       "      <td>ColumnTransformer(transformers=[('tf_idf_vectorizer',\\n                                 TfidfVectorizer(max_df=0.8, min_df=2,\\n                                                 ngram_range=(1, 2),\\n                                                 stop_words={'a', 'about',\\n                                                             'above', 'after',\\n                                                             'again', 'against',\\n                                                             'ain', 'all', 'am',\\n                                                             'an', 'and', 'any',\\n                                                             'april', 'are',\\n                                                             'aren', \"aren't\",\\n                                                             'as', 'at',\\n                                                             'august', 'be',\\n                                                             'because', 'been',\\n                                                             'before', 'being',\\n                                                             'below', 'between',\\n                                                             'both', 'but',\\n                                                             'by', 'can', ...}),\\n                                 'lemmatized')])</td>\n",
       "      <td>(1, 2)</td>\n",
       "      <td>0.3</td>\n",
       "      <td>0.9</td>\n",
       "      <td>2</td>\n",
       "      <td>{'classifier': SVC(C=3, class_weight='balanced', gamma=0.3, max_iter=10000, random_state=123), 'classifier__C': 3, 'classifier__gamma': 0.3, 'vectorizer': ColumnTransformer(transformers=[('tf_idf_vectorizer',\n",
       "                                 TfidfVectorizer(max_df=0.8, min_df=2,\n",
       "                                                 ngram_range=(1, 2),\n",
       "                                                 stop_words={'a', 'about',\n",
       "                                                             'above', 'after',\n",
       "                                                             'again', 'against',\n",
       "                                                             'ain', 'all', 'am',\n",
       "                                                             'an', 'and', 'any',\n",
       "                                                             'april', 'are',\n",
       "                                                             'aren', \"aren't\",\n",
       "                                                             'as', 'at',\n",
       "                                                             'august', 'be',\n",
       "                                                             'because', 'been',\n",
       "                                                             'before', 'being',\n",
       "                                                             'below', 'between',\n",
       "                                                             'both', 'but',\n",
       "                                                             'by', 'can', ...}),\n",
       "                                 'lemmatized')]), 'vectorizer__tf_idf_vectorizer__max_df': 0.9, 'vectorizer__tf_idf_vectorizer__min_df': 2, 'vectorizer__tf_idf_vectorizer__ngram_range': (1, 2)}</td>\n",
       "      <td>0.787381</td>\n",
       "      <td>0.779184</td>\n",
       "      <td>0.774892</td>\n",
       "      <td>0.780486</td>\n",
       "      <td>0.005181</td>\n",
       "      <td>1</td>\n",
       "    </tr>\n",
       "    <tr>\n",
       "      <th>1</th>\n",
       "      <td>840.153359</td>\n",
       "      <td>3.484650</td>\n",
       "      <td>297.419488</td>\n",
       "      <td>2.379613</td>\n",
       "      <td>SVC(C=3, class_weight='balanced', gamma=0.3, max_iter=10000, random_state=123)</td>\n",
       "      <td>3</td>\n",
       "      <td>ColumnTransformer(transformers=[('tf_idf_vectorizer',\\n                                 TfidfVectorizer(max_df=0.8, min_df=2,\\n                                                 ngram_range=(1, 2),\\n                                                 stop_words={'a', 'about',\\n                                                             'above', 'after',\\n                                                             'again', 'against',\\n                                                             'ain', 'all', 'am',\\n                                                             'an', 'and', 'any',\\n                                                             'april', 'are',\\n                                                             'aren', \"aren't\",\\n                                                             'as', 'at',\\n                                                             'august', 'be',\\n                                                             'because', 'been',\\n                                                             'before', 'being',\\n                                                             'below', 'between',\\n                                                             'both', 'but',\\n                                                             'by', 'can', ...}),\\n                                 'lemmatized')])</td>\n",
       "      <td>(1, 2)</td>\n",
       "      <td>0.3</td>\n",
       "      <td>0.8</td>\n",
       "      <td>2</td>\n",
       "      <td>{'classifier': SVC(C=3, class_weight='balanced', gamma=0.3, max_iter=10000, random_state=123), 'classifier__C': 3, 'classifier__gamma': 0.3, 'vectorizer': ColumnTransformer(transformers=[('tf_idf_vectorizer',\n",
       "                                 TfidfVectorizer(max_df=0.8, min_df=2,\n",
       "                                                 ngram_range=(1, 2),\n",
       "                                                 stop_words={'a', 'about',\n",
       "                                                             'above', 'after',\n",
       "                                                             'again', 'against',\n",
       "                                                             'ain', 'all', 'am',\n",
       "                                                             'an', 'and', 'any',\n",
       "                                                             'april', 'are',\n",
       "                                                             'aren', \"aren't\",\n",
       "                                                             'as', 'at',\n",
       "                                                             'august', 'be',\n",
       "                                                             'because', 'been',\n",
       "                                                             'before', 'being',\n",
       "                                                             'below', 'between',\n",
       "                                                             'both', 'but',\n",
       "                                                             'by', 'can', ...}),\n",
       "                                 'lemmatized')]), 'vectorizer__tf_idf_vectorizer__max_df': 0.8, 'vectorizer__tf_idf_vectorizer__min_df': 2, 'vectorizer__tf_idf_vectorizer__ngram_range': (1, 2)}</td>\n",
       "      <td>0.787381</td>\n",
       "      <td>0.779184</td>\n",
       "      <td>0.774892</td>\n",
       "      <td>0.780486</td>\n",
       "      <td>0.005181</td>\n",
       "      <td>1</td>\n",
       "    </tr>\n",
       "    <tr>\n",
       "      <th>2</th>\n",
       "      <td>907.706812</td>\n",
       "      <td>2.957971</td>\n",
       "      <td>315.612825</td>\n",
       "      <td>2.884368</td>\n",
       "      <td>SVC(C=3, class_weight='balanced', gamma=0.3, max_iter=10000, random_state=123)</td>\n",
       "      <td>3</td>\n",
       "      <td>ColumnTransformer(transformers=[('tf_idf_vectorizer',\\n                                 TfidfVectorizer(max_df=0.8, min_df=2,\\n                                                 ngram_range=(1, 2),\\n                                                 stop_words={'a', 'about',\\n                                                             'above', 'after',\\n                                                             'again', 'against',\\n                                                             'ain', 'all', 'am',\\n                                                             'an', 'and', 'any',\\n                                                             'april', 'are',\\n                                                             'aren', \"aren't\",\\n                                                             'as', 'at',\\n                                                             'august', 'be',\\n                                                             'because', 'been',\\n                                                             'before', 'being',\\n                                                             'below', 'between',\\n                                                             'both', 'but',\\n                                                             'by', 'can', ...}),\\n                                 'lemmatized')])</td>\n",
       "      <td>(1, 3)</td>\n",
       "      <td>0.3</td>\n",
       "      <td>0.8</td>\n",
       "      <td>2</td>\n",
       "      <td>{'classifier': SVC(C=3, class_weight='balanced', gamma=0.3, max_iter=10000, random_state=123), 'classifier__C': 3, 'classifier__gamma': 0.3, 'vectorizer': ColumnTransformer(transformers=[('tf_idf_vectorizer',\n",
       "                                 TfidfVectorizer(max_df=0.8, min_df=2,\n",
       "                                                 ngram_range=(1, 2),\n",
       "                                                 stop_words={'a', 'about',\n",
       "                                                             'above', 'after',\n",
       "                                                             'again', 'against',\n",
       "                                                             'ain', 'all', 'am',\n",
       "                                                             'an', 'and', 'any',\n",
       "                                                             'april', 'are',\n",
       "                                                             'aren', \"aren't\",\n",
       "                                                             'as', 'at',\n",
       "                                                             'august', 'be',\n",
       "                                                             'because', 'been',\n",
       "                                                             'before', 'being',\n",
       "                                                             'below', 'between',\n",
       "                                                             'both', 'but',\n",
       "                                                             'by', 'can', ...}),\n",
       "                                 'lemmatized')]), 'vectorizer__tf_idf_vectorizer__max_df': 0.8, 'vectorizer__tf_idf_vectorizer__min_df': 2, 'vectorizer__tf_idf_vectorizer__ngram_range': (1, 3)}</td>\n",
       "      <td>0.786163</td>\n",
       "      <td>0.777389</td>\n",
       "      <td>0.774879</td>\n",
       "      <td>0.779477</td>\n",
       "      <td>0.004837</td>\n",
       "      <td>3</td>\n",
       "    </tr>\n",
       "    <tr>\n",
       "      <th>3</th>\n",
       "      <td>903.359438</td>\n",
       "      <td>6.877142</td>\n",
       "      <td>316.130112</td>\n",
       "      <td>2.778566</td>\n",
       "      <td>SVC(C=3, class_weight='balanced', gamma=0.3, max_iter=10000, random_state=123)</td>\n",
       "      <td>3</td>\n",
       "      <td>ColumnTransformer(transformers=[('tf_idf_vectorizer',\\n                                 TfidfVectorizer(max_df=0.8, min_df=2,\\n                                                 ngram_range=(1, 2),\\n                                                 stop_words={'a', 'about',\\n                                                             'above', 'after',\\n                                                             'again', 'against',\\n                                                             'ain', 'all', 'am',\\n                                                             'an', 'and', 'any',\\n                                                             'april', 'are',\\n                                                             'aren', \"aren't\",\\n                                                             'as', 'at',\\n                                                             'august', 'be',\\n                                                             'because', 'been',\\n                                                             'before', 'being',\\n                                                             'below', 'between',\\n                                                             'both', 'but',\\n                                                             'by', 'can', ...}),\\n                                 'lemmatized')])</td>\n",
       "      <td>(1, 3)</td>\n",
       "      <td>0.3</td>\n",
       "      <td>0.9</td>\n",
       "      <td>2</td>\n",
       "      <td>{'classifier': SVC(C=3, class_weight='balanced', gamma=0.3, max_iter=10000, random_state=123), 'classifier__C': 3, 'classifier__gamma': 0.3, 'vectorizer': ColumnTransformer(transformers=[('tf_idf_vectorizer',\n",
       "                                 TfidfVectorizer(max_df=0.8, min_df=2,\n",
       "                                                 ngram_range=(1, 2),\n",
       "                                                 stop_words={'a', 'about',\n",
       "                                                             'above', 'after',\n",
       "                                                             'again', 'against',\n",
       "                                                             'ain', 'all', 'am',\n",
       "                                                             'an', 'and', 'any',\n",
       "                                                             'april', 'are',\n",
       "                                                             'aren', \"aren't\",\n",
       "                                                             'as', 'at',\n",
       "                                                             'august', 'be',\n",
       "                                                             'because', 'been',\n",
       "                                                             'before', 'being',\n",
       "                                                             'below', 'between',\n",
       "                                                             'both', 'but',\n",
       "                                                             'by', 'can', ...}),\n",
       "                                 'lemmatized')]), 'vectorizer__tf_idf_vectorizer__max_df': 0.9, 'vectorizer__tf_idf_vectorizer__min_df': 2, 'vectorizer__tf_idf_vectorizer__ngram_range': (1, 3)}</td>\n",
       "      <td>0.786163</td>\n",
       "      <td>0.777389</td>\n",
       "      <td>0.774879</td>\n",
       "      <td>0.779477</td>\n",
       "      <td>0.004837</td>\n",
       "      <td>3</td>\n",
       "    </tr>\n",
       "    <tr>\n",
       "      <th>4</th>\n",
       "      <td>888.523786</td>\n",
       "      <td>5.315452</td>\n",
       "      <td>310.464455</td>\n",
       "      <td>0.782798</td>\n",
       "      <td>SVC(C=3, class_weight='balanced', gamma=0.3, max_iter=10000, random_state=123)</td>\n",
       "      <td>6</td>\n",
       "      <td>ColumnTransformer(transformers=[('tf_idf_vectorizer',\\n                                 TfidfVectorizer(max_df=0.8, min_df=2,\\n                                                 ngram_range=(1, 2),\\n                                                 stop_words={'a', 'about',\\n                                                             'above', 'after',\\n                                                             'again', 'against',\\n                                                             'ain', 'all', 'am',\\n                                                             'an', 'and', 'any',\\n                                                             'april', 'are',\\n                                                             'aren', \"aren't\",\\n                                                             'as', 'at',\\n                                                             'august', 'be',\\n                                                             'because', 'been',\\n                                                             'before', 'being',\\n                                                             'below', 'between',\\n                                                             'both', 'but',\\n                                                             'by', 'can', ...}),\\n                                 'lemmatized')])</td>\n",
       "      <td>(1, 3)</td>\n",
       "      <td>0.3</td>\n",
       "      <td>0.9</td>\n",
       "      <td>2</td>\n",
       "      <td>{'classifier': SVC(C=3, class_weight='balanced', gamma=0.3, max_iter=10000, random_state=123), 'classifier__C': 6, 'classifier__gamma': 0.3, 'vectorizer': ColumnTransformer(transformers=[('tf_idf_vectorizer',\n",
       "                                 TfidfVectorizer(max_df=0.8, min_df=2,\n",
       "                                                 ngram_range=(1, 2),\n",
       "                                                 stop_words={'a', 'about',\n",
       "                                                             'above', 'after',\n",
       "                                                             'again', 'against',\n",
       "                                                             'ain', 'all', 'am',\n",
       "                                                             'an', 'and', 'any',\n",
       "                                                             'april', 'are',\n",
       "                                                             'aren', \"aren't\",\n",
       "                                                             'as', 'at',\n",
       "                                                             'august', 'be',\n",
       "                                                             'because', 'been',\n",
       "                                                             'before', 'being',\n",
       "                                                             'below', 'between',\n",
       "                                                             'both', 'but',\n",
       "                                                             'by', 'can', ...}),\n",
       "                                 'lemmatized')]), 'vectorizer__tf_idf_vectorizer__max_df': 0.9, 'vectorizer__tf_idf_vectorizer__min_df': 2, 'vectorizer__tf_idf_vectorizer__ngram_range': (1, 3)}</td>\n",
       "      <td>0.783587</td>\n",
       "      <td>0.774616</td>\n",
       "      <td>0.770121</td>\n",
       "      <td>0.776108</td>\n",
       "      <td>0.005598</td>\n",
       "      <td>5</td>\n",
       "    </tr>\n",
       "    <tr>\n",
       "      <th>5</th>\n",
       "      <td>893.757156</td>\n",
       "      <td>2.501904</td>\n",
       "      <td>309.159850</td>\n",
       "      <td>4.315958</td>\n",
       "      <td>SVC(C=3, class_weight='balanced', gamma=0.3, max_iter=10000, random_state=123)</td>\n",
       "      <td>6</td>\n",
       "      <td>ColumnTransformer(transformers=[('tf_idf_vectorizer',\\n                                 TfidfVectorizer(max_df=0.8, min_df=2,\\n                                                 ngram_range=(1, 2),\\n                                                 stop_words={'a', 'about',\\n                                                             'above', 'after',\\n                                                             'again', 'against',\\n                                                             'ain', 'all', 'am',\\n                                                             'an', 'and', 'any',\\n                                                             'april', 'are',\\n                                                             'aren', \"aren't\",\\n                                                             'as', 'at',\\n                                                             'august', 'be',\\n                                                             'because', 'been',\\n                                                             'before', 'being',\\n                                                             'below', 'between',\\n                                                             'both', 'but',\\n                                                             'by', 'can', ...}),\\n                                 'lemmatized')])</td>\n",
       "      <td>(1, 3)</td>\n",
       "      <td>0.3</td>\n",
       "      <td>0.8</td>\n",
       "      <td>2</td>\n",
       "      <td>{'classifier': SVC(C=3, class_weight='balanced', gamma=0.3, max_iter=10000, random_state=123), 'classifier__C': 6, 'classifier__gamma': 0.3, 'vectorizer': ColumnTransformer(transformers=[('tf_idf_vectorizer',\n",
       "                                 TfidfVectorizer(max_df=0.8, min_df=2,\n",
       "                                                 ngram_range=(1, 2),\n",
       "                                                 stop_words={'a', 'about',\n",
       "                                                             'above', 'after',\n",
       "                                                             'again', 'against',\n",
       "                                                             'ain', 'all', 'am',\n",
       "                                                             'an', 'and', 'any',\n",
       "                                                             'april', 'are',\n",
       "                                                             'aren', \"aren't\",\n",
       "                                                             'as', 'at',\n",
       "                                                             'august', 'be',\n",
       "                                                             'because', 'been',\n",
       "                                                             'before', 'being',\n",
       "                                                             'below', 'between',\n",
       "                                                             'both', 'but',\n",
       "                                                             'by', 'can', ...}),\n",
       "                                 'lemmatized')]), 'vectorizer__tf_idf_vectorizer__max_df': 0.8, 'vectorizer__tf_idf_vectorizer__min_df': 2, 'vectorizer__tf_idf_vectorizer__ngram_range': (1, 3)}</td>\n",
       "      <td>0.783587</td>\n",
       "      <td>0.774616</td>\n",
       "      <td>0.770121</td>\n",
       "      <td>0.776108</td>\n",
       "      <td>0.005598</td>\n",
       "      <td>5</td>\n",
       "    </tr>\n",
       "    <tr>\n",
       "      <th>6</th>\n",
       "      <td>835.714489</td>\n",
       "      <td>6.087284</td>\n",
       "      <td>289.380812</td>\n",
       "      <td>4.711815</td>\n",
       "      <td>SVC(C=3, class_weight='balanced', gamma=0.3, max_iter=10000, random_state=123)</td>\n",
       "      <td>6</td>\n",
       "      <td>ColumnTransformer(transformers=[('tf_idf_vectorizer',\\n                                 TfidfVectorizer(max_df=0.8, min_df=2,\\n                                                 ngram_range=(1, 2),\\n                                                 stop_words={'a', 'about',\\n                                                             'above', 'after',\\n                                                             'again', 'against',\\n                                                             'ain', 'all', 'am',\\n                                                             'an', 'and', 'any',\\n                                                             'april', 'are',\\n                                                             'aren', \"aren't\",\\n                                                             'as', 'at',\\n                                                             'august', 'be',\\n                                                             'because', 'been',\\n                                                             'before', 'being',\\n                                                             'below', 'between',\\n                                                             'both', 'but',\\n                                                             'by', 'can', ...}),\\n                                 'lemmatized')])</td>\n",
       "      <td>(1, 2)</td>\n",
       "      <td>0.3</td>\n",
       "      <td>0.8</td>\n",
       "      <td>2</td>\n",
       "      <td>{'classifier': SVC(C=3, class_weight='balanced', gamma=0.3, max_iter=10000, random_state=123), 'classifier__C': 6, 'classifier__gamma': 0.3, 'vectorizer': ColumnTransformer(transformers=[('tf_idf_vectorizer',\n",
       "                                 TfidfVectorizer(max_df=0.8, min_df=2,\n",
       "                                                 ngram_range=(1, 2),\n",
       "                                                 stop_words={'a', 'about',\n",
       "                                                             'above', 'after',\n",
       "                                                             'again', 'against',\n",
       "                                                             'ain', 'all', 'am',\n",
       "                                                             'an', 'and', 'any',\n",
       "                                                             'april', 'are',\n",
       "                                                             'aren', \"aren't\",\n",
       "                                                             'as', 'at',\n",
       "                                                             'august', 'be',\n",
       "                                                             'because', 'been',\n",
       "                                                             'before', 'being',\n",
       "                                                             'below', 'between',\n",
       "                                                             'both', 'but',\n",
       "                                                             'by', 'can', ...}),\n",
       "                                 'lemmatized')]), 'vectorizer__tf_idf_vectorizer__max_df': 0.8, 'vectorizer__tf_idf_vectorizer__min_df': 2, 'vectorizer__tf_idf_vectorizer__ngram_range': (1, 2)}</td>\n",
       "      <td>0.782919</td>\n",
       "      <td>0.773219</td>\n",
       "      <td>0.770512</td>\n",
       "      <td>0.775550</td>\n",
       "      <td>0.005327</td>\n",
       "      <td>7</td>\n",
       "    </tr>\n",
       "    <tr>\n",
       "      <th>7</th>\n",
       "      <td>825.246846</td>\n",
       "      <td>2.965579</td>\n",
       "      <td>294.506444</td>\n",
       "      <td>1.126151</td>\n",
       "      <td>SVC(C=3, class_weight='balanced', gamma=0.3, max_iter=10000, random_state=123)</td>\n",
       "      <td>6</td>\n",
       "      <td>ColumnTransformer(transformers=[('tf_idf_vectorizer',\\n                                 TfidfVectorizer(max_df=0.8, min_df=2,\\n                                                 ngram_range=(1, 2),\\n                                                 stop_words={'a', 'about',\\n                                                             'above', 'after',\\n                                                             'again', 'against',\\n                                                             'ain', 'all', 'am',\\n                                                             'an', 'and', 'any',\\n                                                             'april', 'are',\\n                                                             'aren', \"aren't\",\\n                                                             'as', 'at',\\n                                                             'august', 'be',\\n                                                             'because', 'been',\\n                                                             'before', 'being',\\n                                                             'below', 'between',\\n                                                             'both', 'but',\\n                                                             'by', 'can', ...}),\\n                                 'lemmatized')])</td>\n",
       "      <td>(1, 2)</td>\n",
       "      <td>0.3</td>\n",
       "      <td>0.9</td>\n",
       "      <td>2</td>\n",
       "      <td>{'classifier': SVC(C=3, class_weight='balanced', gamma=0.3, max_iter=10000, random_state=123), 'classifier__C': 6, 'classifier__gamma': 0.3, 'vectorizer': ColumnTransformer(transformers=[('tf_idf_vectorizer',\n",
       "                                 TfidfVectorizer(max_df=0.8, min_df=2,\n",
       "                                                 ngram_range=(1, 2),\n",
       "                                                 stop_words={'a', 'about',\n",
       "                                                             'above', 'after',\n",
       "                                                             'again', 'against',\n",
       "                                                             'ain', 'all', 'am',\n",
       "                                                             'an', 'and', 'any',\n",
       "                                                             'april', 'are',\n",
       "                                                             'aren', \"aren't\",\n",
       "                                                             'as', 'at',\n",
       "                                                             'august', 'be',\n",
       "                                                             'because', 'been',\n",
       "                                                             'before', 'being',\n",
       "                                                             'below', 'between',\n",
       "                                                             'both', 'but',\n",
       "                                                             'by', 'can', ...}),\n",
       "                                 'lemmatized')]), 'vectorizer__tf_idf_vectorizer__max_df': 0.9, 'vectorizer__tf_idf_vectorizer__min_df': 2, 'vectorizer__tf_idf_vectorizer__ngram_range': (1, 2)}</td>\n",
       "      <td>0.782919</td>\n",
       "      <td>0.773219</td>\n",
       "      <td>0.770512</td>\n",
       "      <td>0.775550</td>\n",
       "      <td>0.005327</td>\n",
       "      <td>7</td>\n",
       "    </tr>\n",
       "    <tr>\n",
       "      <th>8</th>\n",
       "      <td>877.678931</td>\n",
       "      <td>6.353533</td>\n",
       "      <td>324.577345</td>\n",
       "      <td>7.271551</td>\n",
       "      <td>SVC(C=3, class_weight='balanced', gamma=0.3, max_iter=10000, random_state=123)</td>\n",
       "      <td>10</td>\n",
       "      <td>ColumnTransformer(transformers=[('tf_idf_vectorizer',\\n                                 TfidfVectorizer(max_df=0.8, min_df=2,\\n                                                 ngram_range=(1, 2),\\n                                                 stop_words={'a', 'about',\\n                                                             'above', 'after',\\n                                                             'again', 'against',\\n                                                             'ain', 'all', 'am',\\n                                                             'an', 'and', 'any',\\n                                                             'april', 'are',\\n                                                             'aren', \"aren't\",\\n                                                             'as', 'at',\\n                                                             'august', 'be',\\n                                                             'because', 'been',\\n                                                             'before', 'being',\\n                                                             'below', 'between',\\n                                                             'both', 'but',\\n                                                             'by', 'can', ...}),\\n                                 'lemmatized')])</td>\n",
       "      <td>(1, 3)</td>\n",
       "      <td>0.3</td>\n",
       "      <td>0.8</td>\n",
       "      <td>2</td>\n",
       "      <td>{'classifier': SVC(C=3, class_weight='balanced', gamma=0.3, max_iter=10000, random_state=123), 'classifier__C': 10, 'classifier__gamma': 0.3, 'vectorizer': ColumnTransformer(transformers=[('tf_idf_vectorizer',\n",
       "                                 TfidfVectorizer(max_df=0.8, min_df=2,\n",
       "                                                 ngram_range=(1, 2),\n",
       "                                                 stop_words={'a', 'about',\n",
       "                                                             'above', 'after',\n",
       "                                                             'again', 'against',\n",
       "                                                             'ain', 'all', 'am',\n",
       "                                                             'an', 'and', 'any',\n",
       "                                                             'april', 'are',\n",
       "                                                             'aren', \"aren't\",\n",
       "                                                             'as', 'at',\n",
       "                                                             'august', 'be',\n",
       "                                                             'because', 'been',\n",
       "                                                             'before', 'being',\n",
       "                                                             'below', 'between',\n",
       "                                                             'both', 'but',\n",
       "                                                             'by', 'can', ...}),\n",
       "                                 'lemmatized')]), 'vectorizer__tf_idf_vectorizer__max_df': 0.8, 'vectorizer__tf_idf_vectorizer__min_df': 2, 'vectorizer__tf_idf_vectorizer__ngram_range': (1, 3)}</td>\n",
       "      <td>0.781441</td>\n",
       "      <td>0.774801</td>\n",
       "      <td>0.768480</td>\n",
       "      <td>0.774907</td>\n",
       "      <td>0.005292</td>\n",
       "      <td>9</td>\n",
       "    </tr>\n",
       "    <tr>\n",
       "      <th>9</th>\n",
       "      <td>884.746247</td>\n",
       "      <td>3.822683</td>\n",
       "      <td>309.112449</td>\n",
       "      <td>4.597257</td>\n",
       "      <td>SVC(C=3, class_weight='balanced', gamma=0.3, max_iter=10000, random_state=123)</td>\n",
       "      <td>10</td>\n",
       "      <td>ColumnTransformer(transformers=[('tf_idf_vectorizer',\\n                                 TfidfVectorizer(max_df=0.8, min_df=2,\\n                                                 ngram_range=(1, 2),\\n                                                 stop_words={'a', 'about',\\n                                                             'above', 'after',\\n                                                             'again', 'against',\\n                                                             'ain', 'all', 'am',\\n                                                             'an', 'and', 'any',\\n                                                             'april', 'are',\\n                                                             'aren', \"aren't\",\\n                                                             'as', 'at',\\n                                                             'august', 'be',\\n                                                             'because', 'been',\\n                                                             'before', 'being',\\n                                                             'below', 'between',\\n                                                             'both', 'but',\\n                                                             'by', 'can', ...}),\\n                                 'lemmatized')])</td>\n",
       "      <td>(1, 3)</td>\n",
       "      <td>0.3</td>\n",
       "      <td>0.9</td>\n",
       "      <td>2</td>\n",
       "      <td>{'classifier': SVC(C=3, class_weight='balanced', gamma=0.3, max_iter=10000, random_state=123), 'classifier__C': 10, 'classifier__gamma': 0.3, 'vectorizer': ColumnTransformer(transformers=[('tf_idf_vectorizer',\n",
       "                                 TfidfVectorizer(max_df=0.8, min_df=2,\n",
       "                                                 ngram_range=(1, 2),\n",
       "                                                 stop_words={'a', 'about',\n",
       "                                                             'above', 'after',\n",
       "                                                             'again', 'against',\n",
       "                                                             'ain', 'all', 'am',\n",
       "                                                             'an', 'and', 'any',\n",
       "                                                             'april', 'are',\n",
       "                                                             'aren', \"aren't\",\n",
       "                                                             'as', 'at',\n",
       "                                                             'august', 'be',\n",
       "                                                             'because', 'been',\n",
       "                                                             'before', 'being',\n",
       "                                                             'below', 'between',\n",
       "                                                             'both', 'but',\n",
       "                                                             'by', 'can', ...}),\n",
       "                                 'lemmatized')]), 'vectorizer__tf_idf_vectorizer__max_df': 0.9, 'vectorizer__tf_idf_vectorizer__min_df': 2, 'vectorizer__tf_idf_vectorizer__ngram_range': (1, 3)}</td>\n",
       "      <td>0.781441</td>\n",
       "      <td>0.774801</td>\n",
       "      <td>0.768480</td>\n",
       "      <td>0.774907</td>\n",
       "      <td>0.005292</td>\n",
       "      <td>9</td>\n",
       "    </tr>\n",
       "  </tbody>\n",
       "</table>\n",
       "</div>"
      ],
      "text/plain": [
       "   mean_fit_time  std_fit_time  mean_score_time  std_score_time  \\\n",
       "0     839.312081      3.841229       297.256259        3.598656   \n",
       "1     840.153359      3.484650       297.419488        2.379613   \n",
       "2     907.706812      2.957971       315.612825        2.884368   \n",
       "3     903.359438      6.877142       316.130112        2.778566   \n",
       "4     888.523786      5.315452       310.464455        0.782798   \n",
       "5     893.757156      2.501904       309.159850        4.315958   \n",
       "6     835.714489      6.087284       289.380812        4.711815   \n",
       "7     825.246846      2.965579       294.506444        1.126151   \n",
       "8     877.678931      6.353533       324.577345        7.271551   \n",
       "9     884.746247      3.822683       309.112449        4.597257   \n",
       "\n",
       "                                                                 param_classifier  \\\n",
       "0  SVC(C=3, class_weight='balanced', gamma=0.3, max_iter=10000, random_state=123)   \n",
       "1  SVC(C=3, class_weight='balanced', gamma=0.3, max_iter=10000, random_state=123)   \n",
       "2  SVC(C=3, class_weight='balanced', gamma=0.3, max_iter=10000, random_state=123)   \n",
       "3  SVC(C=3, class_weight='balanced', gamma=0.3, max_iter=10000, random_state=123)   \n",
       "4  SVC(C=3, class_weight='balanced', gamma=0.3, max_iter=10000, random_state=123)   \n",
       "5  SVC(C=3, class_weight='balanced', gamma=0.3, max_iter=10000, random_state=123)   \n",
       "6  SVC(C=3, class_weight='balanced', gamma=0.3, max_iter=10000, random_state=123)   \n",
       "7  SVC(C=3, class_weight='balanced', gamma=0.3, max_iter=10000, random_state=123)   \n",
       "8  SVC(C=3, class_weight='balanced', gamma=0.3, max_iter=10000, random_state=123)   \n",
       "9  SVC(C=3, class_weight='balanced', gamma=0.3, max_iter=10000, random_state=123)   \n",
       "\n",
       "  param_classifier__C  \\\n",
       "0                   3   \n",
       "1                   3   \n",
       "2                   3   \n",
       "3                   3   \n",
       "4                   6   \n",
       "5                   6   \n",
       "6                   6   \n",
       "7                   6   \n",
       "8                  10   \n",
       "9                  10   \n",
       "\n",
       "                                                                                                                                                                                                                                                                                                                                                                                                                                                                                                                                                                                                                                                                                                                                                                                                                                                                                                                                                                                                                                                                                                                                                                                                                                                                                                                                                                                                   param_vectorizer  \\\n",
       "0  ColumnTransformer(transformers=[('tf_idf_vectorizer',\\n                                 TfidfVectorizer(max_df=0.8, min_df=2,\\n                                                 ngram_range=(1, 2),\\n                                                 stop_words={'a', 'about',\\n                                                             'above', 'after',\\n                                                             'again', 'against',\\n                                                             'ain', 'all', 'am',\\n                                                             'an', 'and', 'any',\\n                                                             'april', 'are',\\n                                                             'aren', \"aren't\",\\n                                                             'as', 'at',\\n                                                             'august', 'be',\\n                                                             'because', 'been',\\n                                                             'before', 'being',\\n                                                             'below', 'between',\\n                                                             'both', 'but',\\n                                                             'by', 'can', ...}),\\n                                 'lemmatized')])   \n",
       "1  ColumnTransformer(transformers=[('tf_idf_vectorizer',\\n                                 TfidfVectorizer(max_df=0.8, min_df=2,\\n                                                 ngram_range=(1, 2),\\n                                                 stop_words={'a', 'about',\\n                                                             'above', 'after',\\n                                                             'again', 'against',\\n                                                             'ain', 'all', 'am',\\n                                                             'an', 'and', 'any',\\n                                                             'april', 'are',\\n                                                             'aren', \"aren't\",\\n                                                             'as', 'at',\\n                                                             'august', 'be',\\n                                                             'because', 'been',\\n                                                             'before', 'being',\\n                                                             'below', 'between',\\n                                                             'both', 'but',\\n                                                             'by', 'can', ...}),\\n                                 'lemmatized')])   \n",
       "2  ColumnTransformer(transformers=[('tf_idf_vectorizer',\\n                                 TfidfVectorizer(max_df=0.8, min_df=2,\\n                                                 ngram_range=(1, 2),\\n                                                 stop_words={'a', 'about',\\n                                                             'above', 'after',\\n                                                             'again', 'against',\\n                                                             'ain', 'all', 'am',\\n                                                             'an', 'and', 'any',\\n                                                             'april', 'are',\\n                                                             'aren', \"aren't\",\\n                                                             'as', 'at',\\n                                                             'august', 'be',\\n                                                             'because', 'been',\\n                                                             'before', 'being',\\n                                                             'below', 'between',\\n                                                             'both', 'but',\\n                                                             'by', 'can', ...}),\\n                                 'lemmatized')])   \n",
       "3  ColumnTransformer(transformers=[('tf_idf_vectorizer',\\n                                 TfidfVectorizer(max_df=0.8, min_df=2,\\n                                                 ngram_range=(1, 2),\\n                                                 stop_words={'a', 'about',\\n                                                             'above', 'after',\\n                                                             'again', 'against',\\n                                                             'ain', 'all', 'am',\\n                                                             'an', 'and', 'any',\\n                                                             'april', 'are',\\n                                                             'aren', \"aren't\",\\n                                                             'as', 'at',\\n                                                             'august', 'be',\\n                                                             'because', 'been',\\n                                                             'before', 'being',\\n                                                             'below', 'between',\\n                                                             'both', 'but',\\n                                                             'by', 'can', ...}),\\n                                 'lemmatized')])   \n",
       "4  ColumnTransformer(transformers=[('tf_idf_vectorizer',\\n                                 TfidfVectorizer(max_df=0.8, min_df=2,\\n                                                 ngram_range=(1, 2),\\n                                                 stop_words={'a', 'about',\\n                                                             'above', 'after',\\n                                                             'again', 'against',\\n                                                             'ain', 'all', 'am',\\n                                                             'an', 'and', 'any',\\n                                                             'april', 'are',\\n                                                             'aren', \"aren't\",\\n                                                             'as', 'at',\\n                                                             'august', 'be',\\n                                                             'because', 'been',\\n                                                             'before', 'being',\\n                                                             'below', 'between',\\n                                                             'both', 'but',\\n                                                             'by', 'can', ...}),\\n                                 'lemmatized')])   \n",
       "5  ColumnTransformer(transformers=[('tf_idf_vectorizer',\\n                                 TfidfVectorizer(max_df=0.8, min_df=2,\\n                                                 ngram_range=(1, 2),\\n                                                 stop_words={'a', 'about',\\n                                                             'above', 'after',\\n                                                             'again', 'against',\\n                                                             'ain', 'all', 'am',\\n                                                             'an', 'and', 'any',\\n                                                             'april', 'are',\\n                                                             'aren', \"aren't\",\\n                                                             'as', 'at',\\n                                                             'august', 'be',\\n                                                             'because', 'been',\\n                                                             'before', 'being',\\n                                                             'below', 'between',\\n                                                             'both', 'but',\\n                                                             'by', 'can', ...}),\\n                                 'lemmatized')])   \n",
       "6  ColumnTransformer(transformers=[('tf_idf_vectorizer',\\n                                 TfidfVectorizer(max_df=0.8, min_df=2,\\n                                                 ngram_range=(1, 2),\\n                                                 stop_words={'a', 'about',\\n                                                             'above', 'after',\\n                                                             'again', 'against',\\n                                                             'ain', 'all', 'am',\\n                                                             'an', 'and', 'any',\\n                                                             'april', 'are',\\n                                                             'aren', \"aren't\",\\n                                                             'as', 'at',\\n                                                             'august', 'be',\\n                                                             'because', 'been',\\n                                                             'before', 'being',\\n                                                             'below', 'between',\\n                                                             'both', 'but',\\n                                                             'by', 'can', ...}),\\n                                 'lemmatized')])   \n",
       "7  ColumnTransformer(transformers=[('tf_idf_vectorizer',\\n                                 TfidfVectorizer(max_df=0.8, min_df=2,\\n                                                 ngram_range=(1, 2),\\n                                                 stop_words={'a', 'about',\\n                                                             'above', 'after',\\n                                                             'again', 'against',\\n                                                             'ain', 'all', 'am',\\n                                                             'an', 'and', 'any',\\n                                                             'april', 'are',\\n                                                             'aren', \"aren't\",\\n                                                             'as', 'at',\\n                                                             'august', 'be',\\n                                                             'because', 'been',\\n                                                             'before', 'being',\\n                                                             'below', 'between',\\n                                                             'both', 'but',\\n                                                             'by', 'can', ...}),\\n                                 'lemmatized')])   \n",
       "8  ColumnTransformer(transformers=[('tf_idf_vectorizer',\\n                                 TfidfVectorizer(max_df=0.8, min_df=2,\\n                                                 ngram_range=(1, 2),\\n                                                 stop_words={'a', 'about',\\n                                                             'above', 'after',\\n                                                             'again', 'against',\\n                                                             'ain', 'all', 'am',\\n                                                             'an', 'and', 'any',\\n                                                             'april', 'are',\\n                                                             'aren', \"aren't\",\\n                                                             'as', 'at',\\n                                                             'august', 'be',\\n                                                             'because', 'been',\\n                                                             'before', 'being',\\n                                                             'below', 'between',\\n                                                             'both', 'but',\\n                                                             'by', 'can', ...}),\\n                                 'lemmatized')])   \n",
       "9  ColumnTransformer(transformers=[('tf_idf_vectorizer',\\n                                 TfidfVectorizer(max_df=0.8, min_df=2,\\n                                                 ngram_range=(1, 2),\\n                                                 stop_words={'a', 'about',\\n                                                             'above', 'after',\\n                                                             'again', 'against',\\n                                                             'ain', 'all', 'am',\\n                                                             'an', 'and', 'any',\\n                                                             'april', 'are',\\n                                                             'aren', \"aren't\",\\n                                                             'as', 'at',\\n                                                             'august', 'be',\\n                                                             'because', 'been',\\n                                                             'before', 'being',\\n                                                             'below', 'between',\\n                                                             'both', 'but',\\n                                                             'by', 'can', ...}),\\n                                 'lemmatized')])   \n",
       "\n",
       "  param_vectorizer__tf_idf_vectorizer__ngram_range param_classifier__gamma  \\\n",
       "0                                           (1, 2)                     0.3   \n",
       "1                                           (1, 2)                     0.3   \n",
       "2                                           (1, 3)                     0.3   \n",
       "3                                           (1, 3)                     0.3   \n",
       "4                                           (1, 3)                     0.3   \n",
       "5                                           (1, 3)                     0.3   \n",
       "6                                           (1, 2)                     0.3   \n",
       "7                                           (1, 2)                     0.3   \n",
       "8                                           (1, 3)                     0.3   \n",
       "9                                           (1, 3)                     0.3   \n",
       "\n",
       "  param_vectorizer__tf_idf_vectorizer__max_df  \\\n",
       "0                                         0.9   \n",
       "1                                         0.8   \n",
       "2                                         0.8   \n",
       "3                                         0.9   \n",
       "4                                         0.9   \n",
       "5                                         0.8   \n",
       "6                                         0.8   \n",
       "7                                         0.9   \n",
       "8                                         0.8   \n",
       "9                                         0.9   \n",
       "\n",
       "  param_vectorizer__tf_idf_vectorizer__min_df  \\\n",
       "0                                           2   \n",
       "1                                           2   \n",
       "2                                           2   \n",
       "3                                           2   \n",
       "4                                           2   \n",
       "5                                           2   \n",
       "6                                           2   \n",
       "7                                           2   \n",
       "8                                           2   \n",
       "9                                           2   \n",
       "\n",
       "                                                                                                                                                                                                                                                                                                                                                                                                                                                                                                                                                                                                                                                                                                                                                                                                                                                                                                                                                                                                                                                                                                                                                                                                                                                                                                                                                                                                                                                                                                                                                                                                                                                                                                         params  \\\n",
       "0   {'classifier': SVC(C=3, class_weight='balanced', gamma=0.3, max_iter=10000, random_state=123), 'classifier__C': 3, 'classifier__gamma': 0.3, 'vectorizer': ColumnTransformer(transformers=[('tf_idf_vectorizer',\n",
       "                                 TfidfVectorizer(max_df=0.8, min_df=2,\n",
       "                                                 ngram_range=(1, 2),\n",
       "                                                 stop_words={'a', 'about',\n",
       "                                                             'above', 'after',\n",
       "                                                             'again', 'against',\n",
       "                                                             'ain', 'all', 'am',\n",
       "                                                             'an', 'and', 'any',\n",
       "                                                             'april', 'are',\n",
       "                                                             'aren', \"aren't\",\n",
       "                                                             'as', 'at',\n",
       "                                                             'august', 'be',\n",
       "                                                             'because', 'been',\n",
       "                                                             'before', 'being',\n",
       "                                                             'below', 'between',\n",
       "                                                             'both', 'but',\n",
       "                                                             'by', 'can', ...}),\n",
       "                                 'lemmatized')]), 'vectorizer__tf_idf_vectorizer__max_df': 0.9, 'vectorizer__tf_idf_vectorizer__min_df': 2, 'vectorizer__tf_idf_vectorizer__ngram_range': (1, 2)}   \n",
       "1   {'classifier': SVC(C=3, class_weight='balanced', gamma=0.3, max_iter=10000, random_state=123), 'classifier__C': 3, 'classifier__gamma': 0.3, 'vectorizer': ColumnTransformer(transformers=[('tf_idf_vectorizer',\n",
       "                                 TfidfVectorizer(max_df=0.8, min_df=2,\n",
       "                                                 ngram_range=(1, 2),\n",
       "                                                 stop_words={'a', 'about',\n",
       "                                                             'above', 'after',\n",
       "                                                             'again', 'against',\n",
       "                                                             'ain', 'all', 'am',\n",
       "                                                             'an', 'and', 'any',\n",
       "                                                             'april', 'are',\n",
       "                                                             'aren', \"aren't\",\n",
       "                                                             'as', 'at',\n",
       "                                                             'august', 'be',\n",
       "                                                             'because', 'been',\n",
       "                                                             'before', 'being',\n",
       "                                                             'below', 'between',\n",
       "                                                             'both', 'but',\n",
       "                                                             'by', 'can', ...}),\n",
       "                                 'lemmatized')]), 'vectorizer__tf_idf_vectorizer__max_df': 0.8, 'vectorizer__tf_idf_vectorizer__min_df': 2, 'vectorizer__tf_idf_vectorizer__ngram_range': (1, 2)}   \n",
       "2   {'classifier': SVC(C=3, class_weight='balanced', gamma=0.3, max_iter=10000, random_state=123), 'classifier__C': 3, 'classifier__gamma': 0.3, 'vectorizer': ColumnTransformer(transformers=[('tf_idf_vectorizer',\n",
       "                                 TfidfVectorizer(max_df=0.8, min_df=2,\n",
       "                                                 ngram_range=(1, 2),\n",
       "                                                 stop_words={'a', 'about',\n",
       "                                                             'above', 'after',\n",
       "                                                             'again', 'against',\n",
       "                                                             'ain', 'all', 'am',\n",
       "                                                             'an', 'and', 'any',\n",
       "                                                             'april', 'are',\n",
       "                                                             'aren', \"aren't\",\n",
       "                                                             'as', 'at',\n",
       "                                                             'august', 'be',\n",
       "                                                             'because', 'been',\n",
       "                                                             'before', 'being',\n",
       "                                                             'below', 'between',\n",
       "                                                             'both', 'but',\n",
       "                                                             'by', 'can', ...}),\n",
       "                                 'lemmatized')]), 'vectorizer__tf_idf_vectorizer__max_df': 0.8, 'vectorizer__tf_idf_vectorizer__min_df': 2, 'vectorizer__tf_idf_vectorizer__ngram_range': (1, 3)}   \n",
       "3   {'classifier': SVC(C=3, class_weight='balanced', gamma=0.3, max_iter=10000, random_state=123), 'classifier__C': 3, 'classifier__gamma': 0.3, 'vectorizer': ColumnTransformer(transformers=[('tf_idf_vectorizer',\n",
       "                                 TfidfVectorizer(max_df=0.8, min_df=2,\n",
       "                                                 ngram_range=(1, 2),\n",
       "                                                 stop_words={'a', 'about',\n",
       "                                                             'above', 'after',\n",
       "                                                             'again', 'against',\n",
       "                                                             'ain', 'all', 'am',\n",
       "                                                             'an', 'and', 'any',\n",
       "                                                             'april', 'are',\n",
       "                                                             'aren', \"aren't\",\n",
       "                                                             'as', 'at',\n",
       "                                                             'august', 'be',\n",
       "                                                             'because', 'been',\n",
       "                                                             'before', 'being',\n",
       "                                                             'below', 'between',\n",
       "                                                             'both', 'but',\n",
       "                                                             'by', 'can', ...}),\n",
       "                                 'lemmatized')]), 'vectorizer__tf_idf_vectorizer__max_df': 0.9, 'vectorizer__tf_idf_vectorizer__min_df': 2, 'vectorizer__tf_idf_vectorizer__ngram_range': (1, 3)}   \n",
       "4   {'classifier': SVC(C=3, class_weight='balanced', gamma=0.3, max_iter=10000, random_state=123), 'classifier__C': 6, 'classifier__gamma': 0.3, 'vectorizer': ColumnTransformer(transformers=[('tf_idf_vectorizer',\n",
       "                                 TfidfVectorizer(max_df=0.8, min_df=2,\n",
       "                                                 ngram_range=(1, 2),\n",
       "                                                 stop_words={'a', 'about',\n",
       "                                                             'above', 'after',\n",
       "                                                             'again', 'against',\n",
       "                                                             'ain', 'all', 'am',\n",
       "                                                             'an', 'and', 'any',\n",
       "                                                             'april', 'are',\n",
       "                                                             'aren', \"aren't\",\n",
       "                                                             'as', 'at',\n",
       "                                                             'august', 'be',\n",
       "                                                             'because', 'been',\n",
       "                                                             'before', 'being',\n",
       "                                                             'below', 'between',\n",
       "                                                             'both', 'but',\n",
       "                                                             'by', 'can', ...}),\n",
       "                                 'lemmatized')]), 'vectorizer__tf_idf_vectorizer__max_df': 0.9, 'vectorizer__tf_idf_vectorizer__min_df': 2, 'vectorizer__tf_idf_vectorizer__ngram_range': (1, 3)}   \n",
       "5   {'classifier': SVC(C=3, class_weight='balanced', gamma=0.3, max_iter=10000, random_state=123), 'classifier__C': 6, 'classifier__gamma': 0.3, 'vectorizer': ColumnTransformer(transformers=[('tf_idf_vectorizer',\n",
       "                                 TfidfVectorizer(max_df=0.8, min_df=2,\n",
       "                                                 ngram_range=(1, 2),\n",
       "                                                 stop_words={'a', 'about',\n",
       "                                                             'above', 'after',\n",
       "                                                             'again', 'against',\n",
       "                                                             'ain', 'all', 'am',\n",
       "                                                             'an', 'and', 'any',\n",
       "                                                             'april', 'are',\n",
       "                                                             'aren', \"aren't\",\n",
       "                                                             'as', 'at',\n",
       "                                                             'august', 'be',\n",
       "                                                             'because', 'been',\n",
       "                                                             'before', 'being',\n",
       "                                                             'below', 'between',\n",
       "                                                             'both', 'but',\n",
       "                                                             'by', 'can', ...}),\n",
       "                                 'lemmatized')]), 'vectorizer__tf_idf_vectorizer__max_df': 0.8, 'vectorizer__tf_idf_vectorizer__min_df': 2, 'vectorizer__tf_idf_vectorizer__ngram_range': (1, 3)}   \n",
       "6   {'classifier': SVC(C=3, class_weight='balanced', gamma=0.3, max_iter=10000, random_state=123), 'classifier__C': 6, 'classifier__gamma': 0.3, 'vectorizer': ColumnTransformer(transformers=[('tf_idf_vectorizer',\n",
       "                                 TfidfVectorizer(max_df=0.8, min_df=2,\n",
       "                                                 ngram_range=(1, 2),\n",
       "                                                 stop_words={'a', 'about',\n",
       "                                                             'above', 'after',\n",
       "                                                             'again', 'against',\n",
       "                                                             'ain', 'all', 'am',\n",
       "                                                             'an', 'and', 'any',\n",
       "                                                             'april', 'are',\n",
       "                                                             'aren', \"aren't\",\n",
       "                                                             'as', 'at',\n",
       "                                                             'august', 'be',\n",
       "                                                             'because', 'been',\n",
       "                                                             'before', 'being',\n",
       "                                                             'below', 'between',\n",
       "                                                             'both', 'but',\n",
       "                                                             'by', 'can', ...}),\n",
       "                                 'lemmatized')]), 'vectorizer__tf_idf_vectorizer__max_df': 0.8, 'vectorizer__tf_idf_vectorizer__min_df': 2, 'vectorizer__tf_idf_vectorizer__ngram_range': (1, 2)}   \n",
       "7   {'classifier': SVC(C=3, class_weight='balanced', gamma=0.3, max_iter=10000, random_state=123), 'classifier__C': 6, 'classifier__gamma': 0.3, 'vectorizer': ColumnTransformer(transformers=[('tf_idf_vectorizer',\n",
       "                                 TfidfVectorizer(max_df=0.8, min_df=2,\n",
       "                                                 ngram_range=(1, 2),\n",
       "                                                 stop_words={'a', 'about',\n",
       "                                                             'above', 'after',\n",
       "                                                             'again', 'against',\n",
       "                                                             'ain', 'all', 'am',\n",
       "                                                             'an', 'and', 'any',\n",
       "                                                             'april', 'are',\n",
       "                                                             'aren', \"aren't\",\n",
       "                                                             'as', 'at',\n",
       "                                                             'august', 'be',\n",
       "                                                             'because', 'been',\n",
       "                                                             'before', 'being',\n",
       "                                                             'below', 'between',\n",
       "                                                             'both', 'but',\n",
       "                                                             'by', 'can', ...}),\n",
       "                                 'lemmatized')]), 'vectorizer__tf_idf_vectorizer__max_df': 0.9, 'vectorizer__tf_idf_vectorizer__min_df': 2, 'vectorizer__tf_idf_vectorizer__ngram_range': (1, 2)}   \n",
       "8  {'classifier': SVC(C=3, class_weight='balanced', gamma=0.3, max_iter=10000, random_state=123), 'classifier__C': 10, 'classifier__gamma': 0.3, 'vectorizer': ColumnTransformer(transformers=[('tf_idf_vectorizer',\n",
       "                                 TfidfVectorizer(max_df=0.8, min_df=2,\n",
       "                                                 ngram_range=(1, 2),\n",
       "                                                 stop_words={'a', 'about',\n",
       "                                                             'above', 'after',\n",
       "                                                             'again', 'against',\n",
       "                                                             'ain', 'all', 'am',\n",
       "                                                             'an', 'and', 'any',\n",
       "                                                             'april', 'are',\n",
       "                                                             'aren', \"aren't\",\n",
       "                                                             'as', 'at',\n",
       "                                                             'august', 'be',\n",
       "                                                             'because', 'been',\n",
       "                                                             'before', 'being',\n",
       "                                                             'below', 'between',\n",
       "                                                             'both', 'but',\n",
       "                                                             'by', 'can', ...}),\n",
       "                                 'lemmatized')]), 'vectorizer__tf_idf_vectorizer__max_df': 0.8, 'vectorizer__tf_idf_vectorizer__min_df': 2, 'vectorizer__tf_idf_vectorizer__ngram_range': (1, 3)}   \n",
       "9  {'classifier': SVC(C=3, class_weight='balanced', gamma=0.3, max_iter=10000, random_state=123), 'classifier__C': 10, 'classifier__gamma': 0.3, 'vectorizer': ColumnTransformer(transformers=[('tf_idf_vectorizer',\n",
       "                                 TfidfVectorizer(max_df=0.8, min_df=2,\n",
       "                                                 ngram_range=(1, 2),\n",
       "                                                 stop_words={'a', 'about',\n",
       "                                                             'above', 'after',\n",
       "                                                             'again', 'against',\n",
       "                                                             'ain', 'all', 'am',\n",
       "                                                             'an', 'and', 'any',\n",
       "                                                             'april', 'are',\n",
       "                                                             'aren', \"aren't\",\n",
       "                                                             'as', 'at',\n",
       "                                                             'august', 'be',\n",
       "                                                             'because', 'been',\n",
       "                                                             'before', 'being',\n",
       "                                                             'below', 'between',\n",
       "                                                             'both', 'but',\n",
       "                                                             'by', 'can', ...}),\n",
       "                                 'lemmatized')]), 'vectorizer__tf_idf_vectorizer__max_df': 0.9, 'vectorizer__tf_idf_vectorizer__min_df': 2, 'vectorizer__tf_idf_vectorizer__ngram_range': (1, 3)}   \n",
       "\n",
       "   split0_test_score  split1_test_score  split2_test_score  mean_test_score  \\\n",
       "0           0.787381           0.779184           0.774892         0.780486   \n",
       "1           0.787381           0.779184           0.774892         0.780486   \n",
       "2           0.786163           0.777389           0.774879         0.779477   \n",
       "3           0.786163           0.777389           0.774879         0.779477   \n",
       "4           0.783587           0.774616           0.770121         0.776108   \n",
       "5           0.783587           0.774616           0.770121         0.776108   \n",
       "6           0.782919           0.773219           0.770512         0.775550   \n",
       "7           0.782919           0.773219           0.770512         0.775550   \n",
       "8           0.781441           0.774801           0.768480         0.774907   \n",
       "9           0.781441           0.774801           0.768480         0.774907   \n",
       "\n",
       "   std_test_score  rank_test_score  \n",
       "0        0.005181                1  \n",
       "1        0.005181                1  \n",
       "2        0.004837                3  \n",
       "3        0.004837                3  \n",
       "4        0.005598                5  \n",
       "5        0.005598                5  \n",
       "6        0.005327                7  \n",
       "7        0.005327                7  \n",
       "8        0.005292                9  \n",
       "9        0.005292                9  "
      ]
     },
     "execution_count": 28,
     "metadata": {},
     "output_type": "execute_result"
    }
   ],
   "source": [
    "pd.DataFrame(multi_gs_res).sort_values(by='mean_test_score', ascending=False).reset_index(drop=True).head(10)"
   ]
  },
  {
   "cell_type": "markdown",
   "metadata": {},
   "source": [
    "Сохраним лучшую модель и оценим ее точность на тестовой выборке"
   ]
  },
  {
   "cell_type": "code",
   "execution_count": 29,
   "metadata": {
    "scrolled": true
   },
   "outputs": [
    {
     "name": "stdout",
     "output_type": "stream",
     "text": [
      "F1 лучшей модели по версии GridSearchCV: 0.776\n",
      "Wall time: 2min 16s\n"
     ]
    }
   ],
   "source": [
    "%%time\n",
    "print('F1 лучшей модели по версии GridSearchCV: {:.3f}'.format(f1_score(test_target, multi_gs.predict(test_features))))"
   ]
  },
  {
   "cell_type": "markdown",
   "metadata": {},
   "source": [
    "На тестовой выборке модель показала результат не хуже, чем на кросс-валидации"
   ]
  },
  {
   "cell_type": "markdown",
   "metadata": {},
   "source": [
    "## Поиск наилучших гиперпараметров при помощи Optuna"
   ]
  },
  {
   "cell_type": "code",
   "execution_count": 30,
   "metadata": {
    "scrolled": true
   },
   "outputs": [
    {
     "name": "stderr",
     "output_type": "stream",
     "text": [
      "\u001b[32m[I 2022-05-02 02:30:27,312]\u001b[0m A new study created in memory with name: no-name-fa8010e7-e70a-4be3-a46c-f3fdf5bca3aa\u001b[0m\n",
      "C:\\anaconda3\\lib\\site-packages\\optuna\\study\\study.py:393: FutureWarning: `n_jobs` argument has been deprecated in v2.7.0. This feature will be removed in v4.0.0. See https://github.com/optuna/optuna/releases/tag/v2.7.0.\n",
      "  warnings.warn(\n",
      "\u001b[32m[I 2022-05-02 02:37:58,908]\u001b[0m Trial 0 finished with value: 0.7756004104434996 and parameters: {'vectorizer': 'tf_idf_ct', 'estimator': 'svm_clf', 'C': 4.480535885117198, 'gamma': 0.8323096794508871}. Best is trial 0 with value: 0.7756004104434996.\u001b[0m\n"
     ]
    },
    {
     "name": "stdout",
     "output_type": "stream",
     "text": [
      "Wall time: 7min 31s\n"
     ]
    }
   ],
   "source": [
    "%%time\n",
    "\n",
    "def objective(trial):\n",
    "    \n",
    "    vectorizers = trial.suggest_categorical('vectorizer', ['bow_ct', 'tf_idf_ct'])\n",
    "    if vectorizers == 'bow_ct':\n",
    "        vectorizer = ColumnTransformer(transformers=[('count_vectorizer', CountVectorizer(stop_words=stop_words), 'lemmatized')])\n",
    "    elif vectorizers == 'tf_idf_ct':\n",
    "        vectorizer =  ColumnTransformer(transformers=[('tf_idf_vectorizer', TfidfVectorizer(stop_words=stop_words), 'lemmatized')])\n",
    "    \n",
    "    estimators = trial.suggest_categorical('estimator', ['lr_clf', 'svm_clf'])\n",
    "    if estimators == 'lr_clf':\n",
    "        C = trial.suggest_float('C', 0.1, 10)\n",
    "        clf = LogisticRegression(class_weight='balanced', random_state=123, solver='sag', max_iter=10000, n_jobs=-1, C=C)\n",
    "    elif estimators == 'svm_clf':\n",
    "        C = trial.suggest_float('C', 0.1, 10)\n",
    "        gamma = trial.suggest_float('gamma', 0.1, 10)\n",
    "        clf = SVC(class_weight='balanced', random_state=123, max_iter=10000, C=C, gamma=gamma)\n",
    "    \n",
    "    pipe = Pipeline(steps=[('vectorizer', vectorizer), ('classifier', clf)])\n",
    "    \n",
    "    res = cross_val_score(pipe, train_features, train_target, scoring='f1', cv=3, n_jobs=-1, error_score='raise').mean()\n",
    "    \n",
    "    return res\n",
    "        \n",
    "study = optuna.create_study(direction='maximize', sampler=RandomSampler(seed=123))\n",
    "study.optimize(objective, n_trials=1, n_jobs=-1, timeout=4*60*60)\n",
    "\n",
    "trial = study.best_trial    "
   ]
  },
  {
   "cell_type": "markdown",
   "metadata": {},
   "source": [
    "Выведем параметры лучшей модели и сохраним ее для расчета на тестовой выборке "
   ]
  },
  {
   "cell_type": "code",
   "execution_count": 31,
   "metadata": {},
   "outputs": [
    {
     "data": {
      "text/plain": [
       "{'vectorizer': 'tf_idf_ct',\n",
       " 'estimator': 'svm_clf',\n",
       " 'C': 4.480535885117198,\n",
       " 'gamma': 0.8323096794508871}"
      ]
     },
     "execution_count": 31,
     "metadata": {},
     "output_type": "execute_result"
    }
   ],
   "source": [
    "trial.params"
   ]
  },
  {
   "cell_type": "code",
   "execution_count": 32,
   "metadata": {},
   "outputs": [],
   "source": [
    "def detailed_objective(trial):\n",
    "   \n",
    "    vectorizers = trial.suggest_categorical('vectorizer', ['bow_ct', 'tf_idf_ct'])\n",
    "    if vectorizers == 'bow_ct':\n",
    "        vectorizer = ColumnTransformer(transformers=[('count_vectorizer', CountVectorizer(stop_words=stop_words), 'lemmatized')])\n",
    "    elif vectorizers == 'tf_idf_ct':\n",
    "        vectorizer =  ColumnTransformer(transformers=[('tf_idf_vectorizer', TfidfVectorizer(stop_words=stop_words), 'lemmatized')])\n",
    "    \n",
    "    estimators = trial.suggest_categorical('estimator', ['lr_clf', 'svm_clf'])\n",
    "    if estimators == 'lr_clf':\n",
    "        C = trial.suggest_float('C', 0.1, 10)\n",
    "        clf = LogisticRegression(class_weight='balanced', random_state=123, solver='sag', max_iter=10000, n_jobs=-1, C=C)\n",
    "    elif estimators == 'svm_clf':\n",
    "        C = trial.suggest_float('C', 0.1, 10)\n",
    "        gamma = trial.suggest_float('gamma', 0.1, 10)\n",
    "        clf = SVC(class_weight='balanced', random_state=123, max_iter=10000, C=C, gamma=gamma)\n",
    "    \n",
    "    pipe = Pipeline(steps=[('vectorizer', vectorizer), ('classifier', clf)])\n",
    "    \n",
    "    pipe.fit(train_features, train_target)\n",
    "    res = f1_score(test_target, pipe.predict(test_features))\n",
    "    \n",
    "    return res"
   ]
  },
  {
   "cell_type": "code",
   "execution_count": 33,
   "metadata": {},
   "outputs": [
    {
     "name": "stderr",
     "output_type": "stream",
     "text": [
      "C:\\anaconda3\\lib\\site-packages\\sklearn\\svm\\_base.py:284: ConvergenceWarning: Solver terminated early (max_iter=10000).  Consider pre-processing your data with StandardScaler or MinMaxScaler.\n",
      "  warnings.warn(\n"
     ]
    },
    {
     "name": "stdout",
     "output_type": "stream",
     "text": [
      "F1 лучшей модели по версии Optuna: 0.794\n",
      "Wall time: 9min 2s\n"
     ]
    }
   ],
   "source": [
    "%%time\n",
    "print('F1 лучшей модели по версии Optuna: {:.3f}'.format(detailed_objective(study.best_trial)))"
   ]
  },
  {
   "cell_type": "markdown",
   "metadata": {},
   "source": [
    "# Вывод"
   ]
  },
  {
   "cell_type": "markdown",
   "metadata": {},
   "source": [
    "* Лемматизатор библиотеки Spacy лучше справляется с определением словарной формы английских слов\n",
    "* Векторное преобразование по принципу TF-IDF эффективнее, чем bag of words\n",
    "* Среди моделей были рассмотрены линейные модели: логистическая регрессия и метод опорных векторов с регуляризацией. Градиентный бустинг требует слишком большого времени для обучения на таком количестве признаков\n",
    "* В процессе обучения было выявлено переобучение, от которого можно было бы избавиться более тщательной очисткой текста"
   ]
  }
 ],
 "metadata": {
  "kernelspec": {
   "display_name": "Python 3",
   "language": "python",
   "name": "python3"
  },
  "language_info": {
   "codemirror_mode": {
    "name": "ipython",
    "version": 3
   },
   "file_extension": ".py",
   "mimetype": "text/x-python",
   "name": "python",
   "nbconvert_exporter": "python",
   "pygments_lexer": "ipython3",
   "version": "3.8.5"
  },
  "latex_envs": {
   "LaTeX_envs_menu_present": true,
   "autoclose": true,
   "autocomplete": true,
   "bibliofile": "biblio.bib",
   "cite_by": "apalike",
   "current_citInitial": 1,
   "eqLabelWithNumbers": true,
   "eqNumInitial": 1,
   "hotkeys": {
    "equation": "Ctrl-E",
    "itemize": "Ctrl-I"
   },
   "labels_anchors": false,
   "latex_user_defs": false,
   "report_style_numbering": true,
   "user_envs_cfg": false
  },
  "toc": {
   "base_numbering": 1,
   "nav_menu": {},
   "number_sections": true,
   "sideBar": true,
   "skip_h1_title": false,
   "title_cell": "Table of Contents",
   "title_sidebar": "Contents",
   "toc_cell": true,
   "toc_position": {
    "height": "calc(100% - 180px)",
    "left": "10px",
    "top": "150px",
    "width": "463.825px"
   },
   "toc_section_display": true,
   "toc_window_display": true
  }
 },
 "nbformat": 4,
 "nbformat_minor": 4
}
