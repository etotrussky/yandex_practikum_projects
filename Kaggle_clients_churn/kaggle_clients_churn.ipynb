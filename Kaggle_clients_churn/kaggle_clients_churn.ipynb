{
 "cells": [
  {
   "cell_type": "markdown",
   "metadata": {
    "toc": true
   },
   "source": [
    "<h1>Table of Contents<span class=\"tocSkip\"></span></h1>\n",
    "<div class=\"toc\"><ul class=\"toc-item\"><li><span><a href=\"#Домашнее-задание.-Решение-конкурса-на-kaggle.com\" data-toc-modified-id=\"Домашнее-задание.-Решение-конкурса-на-kaggle.com-1\"><span class=\"toc-item-num\">1&nbsp;&nbsp;</span>Домашнее задание. Решение конкурса на kaggle.com</a></span><ul class=\"toc-item\"><li><ul class=\"toc-item\"><li><span><a href=\"#Отправить-ваши-предсказания-в-Stepik.\" data-toc-modified-id=\"Отправить-ваши-предсказания-в-Stepik.-1.0.1\"><span class=\"toc-item-num\">1.0.1&nbsp;&nbsp;</span>Отправить ваши предсказания в Stepik.</a></span></li><li><span><a href=\"#Сделать-полноценный-отчет-о-вашей-работе.\" data-toc-modified-id=\"Сделать-полноценный-отчет-о-вашей-работе.-1.0.2\"><span class=\"toc-item-num\">1.0.2&nbsp;&nbsp;</span>Сделать полноценный отчет о вашей работе.</a></span></li><li><span><a href=\"#Контест-на-Kaggle\" data-toc-modified-id=\"Контест-на-Kaggle-1.0.3\"><span class=\"toc-item-num\">1.0.3&nbsp;&nbsp;</span>Контест на Kaggle</a></span></li><li><span><a href=\"#Несколько-замечаний-по-выполнению-работы\" data-toc-modified-id=\"Несколько-замечаний-по-выполнению-работы-1.0.4\"><span class=\"toc-item-num\">1.0.4&nbsp;&nbsp;</span>Несколько замечаний по выполнению работы</a></span></li></ul></li></ul></li><li><span><a href=\"#Как-проверять?\" data-toc-modified-id=\"Как-проверять?-2\"><span class=\"toc-item-num\">2&nbsp;&nbsp;</span>Как проверять?</a></span></li><li><span><a href=\"#Метрика\" data-toc-modified-id=\"Метрика-3\"><span class=\"toc-item-num\">3&nbsp;&nbsp;</span>Метрика</a></span></li><li><span><a href=\"#Импорты\" data-toc-modified-id=\"Импорты-4\"><span class=\"toc-item-num\">4&nbsp;&nbsp;</span>Импорты</a></span></li><li><span><a href=\"#Первая-часть.-Исследование\" data-toc-modified-id=\"Первая-часть.-Исследование-5\"><span class=\"toc-item-num\">5&nbsp;&nbsp;</span>Первая часть. Исследование</a></span><ul class=\"toc-item\"><li><span><a href=\"#Загрузка-данных-(2-балла)\" data-toc-modified-id=\"Загрузка-данных-(2-балла)-5.1\"><span class=\"toc-item-num\">5.1&nbsp;&nbsp;</span>Загрузка данных (2 балла)</a></span></li><li><span><a href=\"#Анализ-данных-(3-балла)\" data-toc-modified-id=\"Анализ-данных-(3-балла)-5.2\"><span class=\"toc-item-num\">5.2&nbsp;&nbsp;</span>Анализ данных (3 балла)</a></span><ul class=\"toc-item\"><li><span><a href=\"#client_period\" data-toc-modified-id=\"client_period-5.2.1\"><span class=\"toc-item-num\">5.2.1&nbsp;&nbsp;</span>client_period</a></span></li><li><span><a href=\"#monthly_spending\" data-toc-modified-id=\"monthly_spending-5.2.2\"><span class=\"toc-item-num\">5.2.2&nbsp;&nbsp;</span>monthly_spending</a></span></li><li><span><a href=\"#total_spent\" data-toc-modified-id=\"total_spent-5.2.3\"><span class=\"toc-item-num\">5.2.3&nbsp;&nbsp;</span>total_spent</a></span></li><li><span><a href=\"#has_internet_service,-has_online_security_service,-has_online_backup,-has_device_protection,-has_tech_support_access,-has_online,-has_movie_subscription,-has_multiple_phone_numbers\" data-toc-modified-id=\"has_internet_service,-has_online_security_service,-has_online_backup,-has_device_protection,-has_tech_support_access,-has_online,-has_movie_subscription,-has_multiple_phone_numbers-5.2.4\"><span class=\"toc-item-num\">5.2.4&nbsp;&nbsp;</span>has_internet_service, has_online_security_service, has_online_backup, has_device_protection, has_tech_support_access, has_online, has_movie_subscription, has_multiple_phone_numbers</a></span></li><li><span><a href=\"#has_contract_phone,-payment_method\" data-toc-modified-id=\"has_contract_phone,-payment_method-5.2.5\"><span class=\"toc-item-num\">5.2.5&nbsp;&nbsp;</span>has_contract_phone, payment_method</a></span></li><li><span><a href=\"#Churn\" data-toc-modified-id=\"Churn-5.2.6\"><span class=\"toc-item-num\">5.2.6&nbsp;&nbsp;</span>Churn</a></span></li><li><span><a href=\"#Анализ-статистического-различия-в-признаках\" data-toc-modified-id=\"Анализ-статистического-различия-в-признаках-5.2.7\"><span class=\"toc-item-num\">5.2.7&nbsp;&nbsp;</span>Анализ статистического различия в признаках</a></span></li><li><span><a href=\"#Оценка-разделимости-классов\" data-toc-modified-id=\"Оценка-разделимости-классов-5.2.8\"><span class=\"toc-item-num\">5.2.8&nbsp;&nbsp;</span>Оценка разделимости классов</a></span></li></ul></li><li><span><a href=\"#Разделение-на-обучающую-и-тестовую-выборку\" data-toc-modified-id=\"Разделение-на-обучающую-и-тестовую-выборку-5.3\"><span class=\"toc-item-num\">5.3&nbsp;&nbsp;</span>Разделение на обучающую и тестовую выборку</a></span></li><li><span><a href=\"#Применение-линейных-моделей-(3-балла)\" data-toc-modified-id=\"Применение-линейных-моделей-(3-балла)-5.4\"><span class=\"toc-item-num\">5.4&nbsp;&nbsp;</span>Применение линейных моделей (3 балла)</a></span></li><li><span><a href=\"#Применение-дерева-решений\" data-toc-modified-id=\"Применение-дерева-решений-5.5\"><span class=\"toc-item-num\">5.5&nbsp;&nbsp;</span>Применение дерева решений</a></span></li><li><span><a href=\"#Применение-градиентного-бустинга-(2-балла)\" data-toc-modified-id=\"Применение-градиентного-бустинга-(2-балла)-5.6\"><span class=\"toc-item-num\">5.6&nbsp;&nbsp;</span>Применение градиентного бустинга (2 балла)</a></span><ul class=\"toc-item\"><li><span><a href=\"#Обучение-катбуста-из-коробки\" data-toc-modified-id=\"Обучение-катбуста-из-коробки-5.6.1\"><span class=\"toc-item-num\">5.6.1&nbsp;&nbsp;</span>Обучение катбуста из коробки</a></span></li><li><span><a href=\"#Обучение-c-подбором-гиперпараметров-и-детектором-переобучения\" data-toc-modified-id=\"Обучение-c-подбором-гиперпараметров-и-детектором-переобучения-5.6.2\"><span class=\"toc-item-num\">5.6.2&nbsp;&nbsp;</span>Обучение c подбором гиперпараметров и детектором переобучения</a></span></li></ul></li></ul></li><li><span><a href=\"#Выводы\" data-toc-modified-id=\"Выводы-6\"><span class=\"toc-item-num\">6&nbsp;&nbsp;</span>Выводы</a></span></li></ul></div>"
   ]
  },
  {
   "cell_type": "code",
   "execution_count": 1,
   "metadata": {
    "ExecuteTime": {
     "end_time": "2023-10-21T12:12:25.659787Z",
     "start_time": "2023-10-21T12:12:25.653604Z"
    }
   },
   "outputs": [],
   "source": [
    "# !pip install --upgrade pandas"
   ]
  },
  {
   "cell_type": "code",
   "execution_count": 2,
   "metadata": {
    "ExecuteTime": {
     "end_time": "2023-10-21T12:12:25.675034Z",
     "start_time": "2023-10-21T12:12:25.661786Z"
    }
   },
   "outputs": [],
   "source": [
    "# !pip install --upgrade matplotlib"
   ]
  },
  {
   "cell_type": "code",
   "execution_count": 3,
   "metadata": {
    "ExecuteTime": {
     "end_time": "2023-10-21T12:12:25.690330Z",
     "start_time": "2023-10-21T12:12:25.676994Z"
    }
   },
   "outputs": [],
   "source": [
    "# !pip install --upgrade optuna"
   ]
  },
  {
   "cell_type": "code",
   "execution_count": 4,
   "metadata": {
    "ExecuteTime": {
     "end_time": "2023-10-21T12:12:25.705499Z",
     "start_time": "2023-10-21T12:12:25.692296Z"
    }
   },
   "outputs": [],
   "source": [
    "# !pip install --upgrade seaborn"
   ]
  },
  {
   "cell_type": "code",
   "execution_count": 5,
   "metadata": {
    "ExecuteTime": {
     "end_time": "2023-10-21T12:12:25.720833Z",
     "start_time": "2023-10-21T12:12:25.707504Z"
    }
   },
   "outputs": [],
   "source": [
    "# !pip install --upgrade catboost"
   ]
  },
  {
   "cell_type": "code",
   "execution_count": 6,
   "metadata": {
    "ExecuteTime": {
     "end_time": "2023-10-21T12:12:25.735986Z",
     "start_time": "2023-10-21T12:12:25.722797Z"
    }
   },
   "outputs": [],
   "source": [
    "# !pip install --upgrade scipy"
   ]
  },
  {
   "cell_type": "code",
   "execution_count": 7,
   "metadata": {
    "ExecuteTime": {
     "end_time": "2023-10-21T12:12:25.751283Z",
     "start_time": "2023-10-21T12:12:25.737985Z"
    },
    "pycharm": {
     "name": "#%%\n"
    }
   },
   "outputs": [],
   "source": [
    "# pip install umap-learn"
   ]
  },
  {
   "cell_type": "markdown",
   "metadata": {
    "pycharm": {
     "name": "#%% md\n"
    }
   },
   "source": [
    "# Домашнее задание. Решение конкурса на kaggle.com\n",
    "\n",
    "Это домашнее задание посвящено полноценному решению задачи машинного обучения."
   ]
  },
  {
   "cell_type": "markdown",
   "metadata": {
    "pycharm": {
     "name": "#%% md\n"
    }
   },
   "source": [
    "Есть две части этого домашнего задания: \n",
    "\n",
    "### Отправить ваши предсказания в Stepik.\n",
    "За прохождение определенных порогов будут начисляться баллы. Эта часть оценивается из 5 баллов.\n",
    "\n",
    "1) $1.00 \\geqslant score \\geqslant 0.84$ --- 5 баллов\n",
    "\n",
    "2) $0.84 > score \\geqslant 0.77$ --- 4 балла\n",
    "\n",
    "3) $0.77 > score \\geqslant 0.70$ --- 3 балла\n",
    "\n",
    "4) $0.70 > score \\geqslant 0.65$ --- 2 балла\n",
    "\n",
    "5) $0.65 > score \\geqslant 0.6$ --- 1 балл\n",
    "\n",
    "6) $0.60 > score$ --- 0 баллов\n",
    "\n",
    "Для этого мы предварительно разделили данные в задании на две части.\n",
    "* `train.csv`. На этом наборе данных вам необходимо создать и обучить модель. Подробное описание файла есть в ноутбуке.\n",
    "* `test.csv`. В каждой строчке файла `test.csv` указаны признаки тестовых объектов. Предсказания для этого набора необходимо записать в файл submission.csv и сдать в соответствующий шаг на Stepik. Количество попыток ограничено 100 штук.\n",
    "\n",
    "Отправлять в Stepik вы будете файл с ответами `my_submission.csv`. В этом файле вам необходимо для каждого объекта из датасета предсказать вероятность класса 1. Мы подготовили для вас файл с примером посылки `submission.csv`. Ваш файл должен быть оформлен таким же образом. В ноутбуке есть пример оформления файла посылки. Для отправки файла с предсказаниями на Stepik есть отдельный шаг.\n",
    "\n",
    "### Сделать полноценный отчет о вашей работе.\n",
    "Опишите, как вы обработали данные, какие модели попробовали и какие результаты получились (максимум 10 баллов). За каждую выполненную часть будет начислено определенное количество баллов. В этом пункте вам необходимо отправить файл в формате .ipynb на Stepik --- для этого в домашнем задании есть отдельный шаг. Этот пункт оценивается из 10 баллов.\n",
    "\n",
    "**Вторая часть будет проверяться в формате peer-review. Т.е. вашу посылку на Stepik будут проверять 3 других студента, и медианное значение их оценок будет выставлено. Чтобы получить баллы, вам также нужно будет проверить трех других учеников. Это станет доступно после того, как вы сдадите задание сами.**\n",
    "\n",
    "### Контест на Kaggle\n",
    "Для вашего удобства мы подготовили [контест на Kaggle](https://www.kaggle.com/c/advanced-dls-spring-2021/). Тестирующая система на Kaggle выдает те же баллы, что и Stepik. Мы рекомендуем в качестве основной тестирующей системы использовать именно Kaggle, а затем сдать лучшую посылку на Stepik. Так вы привыкните работать с Kaggle. \n",
    "\n",
    "Проблема для российских пользователей Kaggle заключается в том, что подтверждение аккаунта по номеру телефона работает с перебоями или не работает вообще. Без подтвержденного номера телефона вы не сможете совершать посылки в kaggle. Если у вас возникла такая проблема, мы советуем следующие шаги:\n",
    "* Попробовать зарегистрировать аккаунт с аутентификацией через gmail. В таком случае, аккаунт должен работать без подтверждения номера телефона.\n",
    "* Если у вас есть не российский номер, используйте его для верификации аккаунта.\n",
    "* Если на номер телефона не приходит смс для верификации аккаунта, обратитесь в службу поддержки kaggle. Они с переменным успехом умеют подтверждать аккаунты вручную.\n",
    "* Если все же подтвердить аккаунт и получить доступ к сдаче заданий не удалось, используйте только сдачу в Stepik.\n",
    "\n",
    "### Несколько замечаний по выполнению работы\n",
    "* Во всех пунктах указания это минимальный набор вещей, которые стоит сделать. Если вы можете сделать какой-то шаг лучше или добавить что-то свое --- дерзайте!\n",
    "* Пожалуйста, перед сдачей ноутбука убедитесь, что работа чистая и понятная. Это значительно облегчит проверку и повысит ваши ожидаемые баллы. \n",
    "* Если у вас будут проблемы с решением или хочется совета, то пишите в наш чат в телеграме.\n",
    "\n",
    "\n",
    "Данные: [train.csv](https://drive.google.com/file/d/1ERwQ5odiK1Zvi1LtjpkzCMUswYsAX8_K/view?usp=share_link), \n",
    "[test.csv](https://drive.google.com/file/d/1fGw_-RFwvn_LEdt91Jq-7A-wzG6mmH8r/view?usp=share_link), [submission.csv](https://drive.google.com/file/d/199Mt4OYZNaelT83U-HGDsEYs2YcUGQ6y/view?usp=share_link). \n",
    "\n",
    "Если ссылки на данные не работают, их можно скачать [на Kaggle](https://www.kaggle.com/competitions/advanced-dls-spring-2021/data)."
   ]
  },
  {
   "cell_type": "markdown",
   "metadata": {
    "pycharm": {
     "name": "#%% md\n"
    }
   },
   "source": [
    "# Как проверять?\n",
    "\n",
    "Ставьте полный балл, если выполнены все рекомендации или сделано что-то более интересное и сложное. За каждый отсустствующий пункт из рекомендации снижайте 1 балл.\n",
    "\n",
    "**Если решение верное, но не удовлетворяет вашим эстетическим предпочтениям, за это баллы снижать не нужно.**"
   ]
  },
  {
   "cell_type": "markdown",
   "metadata": {
    "pycharm": {
     "name": "#%% md\n"
    }
   },
   "source": [
    "# Метрика\n",
    "\n",
    "Перед решением любой задачи важно понимать, как будет оцениваться ваше решение. В данном случае мы используем стандартную для задачи классификации метрику ROC-AUC. Ее можно вычислить, используя только предсказанные вероятности и истинные классы без конкретного порога классификации + она раотает даже если классы в данных сильно несбалансированны (примеров одного класса в десятки раз больше примеров длугого). Именно поэтому она очень удобна для соревнований.\n",
    "\n",
    "Посчитать ее легко:\n"
   ]
  },
  {
   "cell_type": "code",
   "execution_count": 8,
   "metadata": {
    "ExecuteTime": {
     "end_time": "2023-10-21T12:12:26.970471Z",
     "start_time": "2023-10-21T12:12:26.090367Z"
    },
    "pycharm": {
     "name": "#%%\n"
    }
   },
   "outputs": [
    {
     "data": {
      "text/plain": [
       "0.8333333333333333"
      ]
     },
     "execution_count": 8,
     "metadata": {},
     "output_type": "execute_result"
    }
   ],
   "source": [
    "from sklearn.metrics import roc_auc_score\n",
    "\n",
    "y_true = [\n",
    "    0,\n",
    "    1,\n",
    "    1,\n",
    "    0,\n",
    "    1\n",
    "]\n",
    "\n",
    "y_predictions = [\n",
    "    0.1,\n",
    "    0.9,\n",
    "    0.4,\n",
    "    0.6,\n",
    "    0.61\n",
    "]\n",
    "\n",
    "roc_auc_score(y_true, y_predictions)"
   ]
  },
  {
   "cell_type": "markdown",
   "metadata": {
    "pycharm": {
     "name": "#%% md\n"
    }
   },
   "source": [
    "# Импорты"
   ]
  },
  {
   "cell_type": "code",
   "execution_count": 9,
   "metadata": {
    "ExecuteTime": {
     "end_time": "2023-10-21T12:12:38.375665Z",
     "start_time": "2023-10-21T12:12:26.972432Z"
    },
    "pycharm": {
     "name": "#%%\n"
    }
   },
   "outputs": [
    {
     "name": "stderr",
     "output_type": "stream",
     "text": [
      "C:\\anaconda3\\lib\\site-packages\\pandas\\core\\computation\\expressions.py:20: UserWarning: Pandas requires version '2.7.3' or newer of 'numexpr' (version '2.7.1' currently installed).\n",
      "  from pandas.core.computation.check import NUMEXPR_INSTALLED\n"
     ]
    }
   ],
   "source": [
    "# PyCharm alt+ctrl+o\n",
    "\n",
    "import re\n",
    "\n",
    "import matplotlib.pyplot as plt\n",
    "import numpy as np\n",
    "import pandas as pd\n",
    "import scipy.stats as st\n",
    "import seaborn as sns\n",
    "\n",
    "from sklearn.compose import ColumnTransformer, make_column_selector as selector\n",
    "from sklearn.decomposition import PCA\n",
    "from sklearn.impute import SimpleImputer\n",
    "from sklearn.manifold import TSNE\n",
    "from sklearn.pipeline import Pipeline\n",
    "from sklearn.preprocessing import StandardScaler, OneHotEncoder\n",
    "from sklearn.linear_model import LogisticRegression, LogisticRegressionCV\n",
    "from sklearn.model_selection import train_test_split, GridSearchCV\n",
    "from sklearn.ensemble import RandomForestClassifier\n",
    "\n",
    "from statistics import mean, pstdev\n",
    "\n",
    "\n",
    "import matplotlib.pyplot as plt\n",
    "import numpy as np\n",
    "import pandas as pd\n",
    "import phik\n",
    "import scipy.stats as st\n",
    "import seaborn as sns\n",
    "import umap\n",
    "\n",
    "from sklearn.compose import ColumnTransformer, make_column_selector as selector\n",
    "from sklearn.decomposition import PCA\n",
    "from sklearn.ensemble import RandomForestRegressor\n",
    "from sklearn.feature_selection import GenericUnivariateSelect, mutual_info_regression\n",
    "from sklearn.impute import SimpleImputer\n",
    "from sklearn.linear_model import LinearRegression\n",
    "from sklearn.manifold import TSNE\n",
    "from sklearn.metrics import mean_absolute_error as mae\n",
    "from sklearn.mixture import GaussianMixture\n",
    "from sklearn.model_selection import cross_val_score, GridSearchCV\n",
    "from sklearn.pipeline import Pipeline\n",
    "from sklearn.preprocessing import StandardScaler, OneHotEncoder\n",
    "\n",
    "from catboost import CatBoostClassifier\n",
    "from catboost import Pool\n",
    "from catboost import cv\n",
    "\n",
    "import optuna\n",
    "from optuna.integration import CatBoostPruningCallback\n",
    "\n",
    "rs = 1234"
   ]
  },
  {
   "cell_type": "code",
   "execution_count": 10,
   "metadata": {
    "ExecuteTime": {
     "end_time": "2023-10-21T12:12:38.406668Z",
     "start_time": "2023-10-21T12:12:38.380671Z"
    },
    "pycharm": {
     "name": "#%%\n"
    }
   },
   "outputs": [],
   "source": [
    "%matplotlib inline\n",
    "\n",
    "pd.set_option('display.max_rows', 100)\n",
    "pd.set_option('display.max_columns', 100)\n",
    "pd.set_option('display.float_format', lambda x: '%.4f' % x)\n",
    "pd.set_option('display.expand_frame_repr', True)\n",
    "pd.set_option('display.max_colwidth', 444)\n",
    "\n",
    "# https://seaborn.pydata.org/tutorial/aesthetics.html\n",
    "sns.set()\n",
    "sns.set(rc = {'figure.figsize':(16, 6)})\n",
    "sns.set_style(\"ticks\")\n",
    "sns.set_palette('Accent')\n",
    "plt.rcParams[\"figure.figsize\"] = (16, 6)\n",
    "\n",
    "plt.rcParams['grid.linestyle'] = ''"
   ]
  },
  {
   "cell_type": "markdown",
   "metadata": {
    "pycharm": {
     "name": "#%% md\n"
    }
   },
   "source": [
    "# Первая часть. Исследование"
   ]
  },
  {
   "cell_type": "markdown",
   "metadata": {
    "pycharm": {
     "name": "#%% md\n"
    }
   },
   "source": [
    "## Загрузка данных (2 балла)\n",
    "\n",
    "1) Посмотрите на случайные строчки. (все далее)\n",
    "\n",
    "2) Посмотрите, есть ли в датасете незаполненные значения (nan'ы) с помощью data.isna() или data.info() и, если нужно, замените их на что-то. Будет хорошо, если вы построите табличку с количеством nan в каждой колонке."
   ]
  },
  {
   "cell_type": "code",
   "execution_count": 11,
   "metadata": {
    "ExecuteTime": {
     "end_time": "2023-10-21T12:12:38.470666Z",
     "start_time": "2023-10-21T12:12:38.409667Z"
    },
    "pycharm": {
     "name": "#%%\n"
    }
   },
   "outputs": [],
   "source": [
    "df = pd.read_csv('./train.csv')\n",
    "x_private = pd.read_csv('test.csv')\n",
    "y_private = pd.read_csv('submission.csv')"
   ]
  },
  {
   "cell_type": "markdown",
   "metadata": {
    "pycharm": {
     "name": "#%% md\n"
    }
   },
   "source": [
    "## Анализ данных (3 балла)\n",
    "\n",
    "1) Для численных призанков постройте гистограмму (*plt.hist(...)*) или boxplot (*plt.boxplot(...)*). Для категориальных посчитайте количество каждого значения для каждого признака. Для каждой колонки надо сделать *data.value_counts()* и построить bar диаграммы *plt.bar(...)* или круговые диаграммы *plt.pie(...)* (хорошо, елси вы сможете это сделать на одном гарфике с помощью *plt.subplots(...)*). \n",
    "\n",
    "2) Посмотрите на распределение целевой переменной и скажите, являются ли классы несбалансированными.\n",
    "\n",
    "3) (Если будет желание) Поиграйте с разными библиотеками для визуализации - *sns*, *pandas_visual_analysis*, etc.\n",
    "\n",
    "Второй пункт очень важен, потому что существуют задачи классификации с несбалансированными классами. Например, это может значить, что в датасете намного больше примеров 0 класса. В таких случаях нужно 1) не использовать accuracy как метрику 2) использовать методы борьбы с imbalanced dataset (обычно если датасет сильно несбалансирован, т.е. класса 1 в 20 раз меньше класса 0)."
   ]
  },
  {
   "cell_type": "markdown",
   "metadata": {
    "pycharm": {
     "name": "#%% md\n"
    }
   },
   "source": [
    "Посмотрим на несколько случайных строк из размеченного обучающего датасета"
   ]
  },
  {
   "cell_type": "code",
   "execution_count": 12,
   "metadata": {
    "ExecuteTime": {
     "end_time": "2023-10-21T12:12:38.501667Z",
     "start_time": "2023-10-21T12:12:38.473667Z"
    },
    "pycharm": {
     "name": "#%%\n"
    }
   },
   "outputs": [
    {
     "data": {
      "text/html": [
       "<div>\n",
       "<style scoped>\n",
       "    .dataframe tbody tr th:only-of-type {\n",
       "        vertical-align: middle;\n",
       "    }\n",
       "\n",
       "    .dataframe tbody tr th {\n",
       "        vertical-align: top;\n",
       "    }\n",
       "\n",
       "    .dataframe thead th {\n",
       "        text-align: right;\n",
       "    }\n",
       "</style>\n",
       "<table border=\"1\" class=\"dataframe\">\n",
       "  <thead>\n",
       "    <tr style=\"text-align: right;\">\n",
       "      <th></th>\n",
       "      <th>ClientPeriod</th>\n",
       "      <th>MonthlySpending</th>\n",
       "      <th>TotalSpent</th>\n",
       "      <th>Sex</th>\n",
       "      <th>IsSeniorCitizen</th>\n",
       "      <th>HasPartner</th>\n",
       "      <th>HasChild</th>\n",
       "      <th>HasPhoneService</th>\n",
       "      <th>HasMultiplePhoneNumbers</th>\n",
       "      <th>HasInternetService</th>\n",
       "      <th>HasOnlineSecurityService</th>\n",
       "      <th>HasOnlineBackup</th>\n",
       "      <th>HasDeviceProtection</th>\n",
       "      <th>HasTechSupportAccess</th>\n",
       "      <th>HasOnlineTV</th>\n",
       "      <th>HasMovieSubscription</th>\n",
       "      <th>HasContractPhone</th>\n",
       "      <th>IsBillingPaperless</th>\n",
       "      <th>PaymentMethod</th>\n",
       "      <th>Churn</th>\n",
       "    </tr>\n",
       "  </thead>\n",
       "  <tbody>\n",
       "    <tr>\n",
       "      <th>1052</th>\n",
       "      <td>57</td>\n",
       "      <td>84.5000</td>\n",
       "      <td>4845.4</td>\n",
       "      <td>Female</td>\n",
       "      <td>0</td>\n",
       "      <td>Yes</td>\n",
       "      <td>Yes</td>\n",
       "      <td>Yes</td>\n",
       "      <td>Yes</td>\n",
       "      <td>DSL</td>\n",
       "      <td>Yes</td>\n",
       "      <td>No</td>\n",
       "      <td>Yes</td>\n",
       "      <td>Yes</td>\n",
       "      <td>Yes</td>\n",
       "      <td>Yes</td>\n",
       "      <td>Two year</td>\n",
       "      <td>Yes</td>\n",
       "      <td>Electronic check</td>\n",
       "      <td>0</td>\n",
       "    </tr>\n",
       "    <tr>\n",
       "      <th>3383</th>\n",
       "      <td>33</td>\n",
       "      <td>95.3000</td>\n",
       "      <td>3275.15</td>\n",
       "      <td>Male</td>\n",
       "      <td>0</td>\n",
       "      <td>No</td>\n",
       "      <td>Yes</td>\n",
       "      <td>Yes</td>\n",
       "      <td>Yes</td>\n",
       "      <td>Fiber optic</td>\n",
       "      <td>Yes</td>\n",
       "      <td>No</td>\n",
       "      <td>Yes</td>\n",
       "      <td>No</td>\n",
       "      <td>No</td>\n",
       "      <td>Yes</td>\n",
       "      <td>Month-to-month</td>\n",
       "      <td>Yes</td>\n",
       "      <td>Bank transfer (automatic)</td>\n",
       "      <td>0</td>\n",
       "    </tr>\n",
       "    <tr>\n",
       "      <th>866</th>\n",
       "      <td>70</td>\n",
       "      <td>26.0500</td>\n",
       "      <td>1856.4</td>\n",
       "      <td>Female</td>\n",
       "      <td>0</td>\n",
       "      <td>No</td>\n",
       "      <td>No</td>\n",
       "      <td>Yes</td>\n",
       "      <td>Yes</td>\n",
       "      <td>No</td>\n",
       "      <td>No internet service</td>\n",
       "      <td>No internet service</td>\n",
       "      <td>No internet service</td>\n",
       "      <td>No internet service</td>\n",
       "      <td>No internet service</td>\n",
       "      <td>No internet service</td>\n",
       "      <td>One year</td>\n",
       "      <td>No</td>\n",
       "      <td>Credit card (automatic)</td>\n",
       "      <td>0</td>\n",
       "    </tr>\n",
       "  </tbody>\n",
       "</table>\n",
       "</div>"
      ],
      "text/plain": [
       "      ClientPeriod  MonthlySpending TotalSpent     Sex  IsSeniorCitizen  \\\n",
       "1052            57          84.5000     4845.4  Female                0   \n",
       "3383            33          95.3000    3275.15    Male                0   \n",
       "866             70          26.0500     1856.4  Female                0   \n",
       "\n",
       "     HasPartner HasChild HasPhoneService HasMultiplePhoneNumbers  \\\n",
       "1052        Yes      Yes             Yes                     Yes   \n",
       "3383         No      Yes             Yes                     Yes   \n",
       "866          No       No             Yes                     Yes   \n",
       "\n",
       "     HasInternetService HasOnlineSecurityService      HasOnlineBackup  \\\n",
       "1052                DSL                      Yes                   No   \n",
       "3383        Fiber optic                      Yes                   No   \n",
       "866                  No      No internet service  No internet service   \n",
       "\n",
       "      HasDeviceProtection HasTechSupportAccess          HasOnlineTV  \\\n",
       "1052                  Yes                  Yes                  Yes   \n",
       "3383                  Yes                   No                   No   \n",
       "866   No internet service  No internet service  No internet service   \n",
       "\n",
       "     HasMovieSubscription HasContractPhone IsBillingPaperless  \\\n",
       "1052                  Yes         Two year                Yes   \n",
       "3383                  Yes   Month-to-month                Yes   \n",
       "866   No internet service         One year                 No   \n",
       "\n",
       "                  PaymentMethod  Churn  \n",
       "1052           Electronic check      0  \n",
       "3383  Bank transfer (automatic)      0  \n",
       "866     Credit card (automatic)      0  "
      ]
     },
     "execution_count": 12,
     "metadata": {},
     "output_type": "execute_result"
    }
   ],
   "source": [
    "df.sample(3)"
   ]
  },
  {
   "cell_type": "markdown",
   "metadata": {
    "pycharm": {
     "name": "#%% md\n"
    }
   },
   "source": [
    "Введем обобщенную функцию для вывода информации о датасете"
   ]
  },
  {
   "cell_type": "code",
   "execution_count": 13,
   "metadata": {
    "ExecuteTime": {
     "end_time": "2023-10-21T12:12:38.517665Z",
     "start_time": "2023-10-21T12:12:38.504666Z"
    },
    "pycharm": {
     "name": "#%%\n"
    }
   },
   "outputs": [],
   "source": [
    "def full_info(df):\n",
    "    return pd.DataFrame({'Non-Null Count': (~df.isna()).sum(),\n",
    "                         'Null Count': df.isna().sum(),\n",
    "                         'Nunique': df.nunique(),\n",
    "                         'Dtype': df.dtypes}).join(df.describe().T).rename_axis('Feature', axis=1).fillna('')"
   ]
  },
  {
   "cell_type": "code",
   "execution_count": 14,
   "metadata": {
    "ExecuteTime": {
     "end_time": "2023-10-21T12:12:38.579825Z",
     "start_time": "2023-10-21T12:12:38.520669Z"
    },
    "pycharm": {
     "name": "#%%\n"
    }
   },
   "outputs": [
    {
     "data": {
      "text/html": [
       "<div>\n",
       "<style scoped>\n",
       "    .dataframe tbody tr th:only-of-type {\n",
       "        vertical-align: middle;\n",
       "    }\n",
       "\n",
       "    .dataframe tbody tr th {\n",
       "        vertical-align: top;\n",
       "    }\n",
       "\n",
       "    .dataframe thead th {\n",
       "        text-align: right;\n",
       "    }\n",
       "</style>\n",
       "<table border=\"1\" class=\"dataframe\">\n",
       "  <thead>\n",
       "    <tr style=\"text-align: right;\">\n",
       "      <th>Feature</th>\n",
       "      <th>Non-Null Count</th>\n",
       "      <th>Null Count</th>\n",
       "      <th>Nunique</th>\n",
       "      <th>Dtype</th>\n",
       "      <th>count</th>\n",
       "      <th>mean</th>\n",
       "      <th>std</th>\n",
       "      <th>min</th>\n",
       "      <th>25%</th>\n",
       "      <th>50%</th>\n",
       "      <th>75%</th>\n",
       "      <th>max</th>\n",
       "    </tr>\n",
       "  </thead>\n",
       "  <tbody>\n",
       "    <tr>\n",
       "      <th>ClientPeriod</th>\n",
       "      <td>5282</td>\n",
       "      <td>0</td>\n",
       "      <td>73</td>\n",
       "      <td>int64</td>\n",
       "      <td>5282.0000</td>\n",
       "      <td>32.3970</td>\n",
       "      <td>24.5503</td>\n",
       "      <td>0.0000</td>\n",
       "      <td>9.0000</td>\n",
       "      <td>29.0000</td>\n",
       "      <td>55.0000</td>\n",
       "      <td>72.0000</td>\n",
       "    </tr>\n",
       "    <tr>\n",
       "      <th>MonthlySpending</th>\n",
       "      <td>5282</td>\n",
       "      <td>0</td>\n",
       "      <td>1468</td>\n",
       "      <td>float64</td>\n",
       "      <td>5282.0000</td>\n",
       "      <td>64.9248</td>\n",
       "      <td>30.1765</td>\n",
       "      <td>18.2500</td>\n",
       "      <td>35.4625</td>\n",
       "      <td>70.4000</td>\n",
       "      <td>90.0500</td>\n",
       "      <td>118.7500</td>\n",
       "    </tr>\n",
       "    <tr>\n",
       "      <th>TotalSpent</th>\n",
       "      <td>5282</td>\n",
       "      <td>0</td>\n",
       "      <td>4978</td>\n",
       "      <td>object</td>\n",
       "      <td></td>\n",
       "      <td></td>\n",
       "      <td></td>\n",
       "      <td></td>\n",
       "      <td></td>\n",
       "      <td></td>\n",
       "      <td></td>\n",
       "      <td></td>\n",
       "    </tr>\n",
       "    <tr>\n",
       "      <th>Sex</th>\n",
       "      <td>5282</td>\n",
       "      <td>0</td>\n",
       "      <td>2</td>\n",
       "      <td>object</td>\n",
       "      <td></td>\n",
       "      <td></td>\n",
       "      <td></td>\n",
       "      <td></td>\n",
       "      <td></td>\n",
       "      <td></td>\n",
       "      <td></td>\n",
       "      <td></td>\n",
       "    </tr>\n",
       "    <tr>\n",
       "      <th>IsSeniorCitizen</th>\n",
       "      <td>5282</td>\n",
       "      <td>0</td>\n",
       "      <td>2</td>\n",
       "      <td>int64</td>\n",
       "      <td>5282.0000</td>\n",
       "      <td>0.1594</td>\n",
       "      <td>0.3661</td>\n",
       "      <td>0.0000</td>\n",
       "      <td>0.0000</td>\n",
       "      <td>0.0000</td>\n",
       "      <td>0.0000</td>\n",
       "      <td>1.0000</td>\n",
       "    </tr>\n",
       "    <tr>\n",
       "      <th>HasPartner</th>\n",
       "      <td>5282</td>\n",
       "      <td>0</td>\n",
       "      <td>2</td>\n",
       "      <td>object</td>\n",
       "      <td></td>\n",
       "      <td></td>\n",
       "      <td></td>\n",
       "      <td></td>\n",
       "      <td></td>\n",
       "      <td></td>\n",
       "      <td></td>\n",
       "      <td></td>\n",
       "    </tr>\n",
       "    <tr>\n",
       "      <th>HasChild</th>\n",
       "      <td>5282</td>\n",
       "      <td>0</td>\n",
       "      <td>2</td>\n",
       "      <td>object</td>\n",
       "      <td></td>\n",
       "      <td></td>\n",
       "      <td></td>\n",
       "      <td></td>\n",
       "      <td></td>\n",
       "      <td></td>\n",
       "      <td></td>\n",
       "      <td></td>\n",
       "    </tr>\n",
       "    <tr>\n",
       "      <th>HasPhoneService</th>\n",
       "      <td>5282</td>\n",
       "      <td>0</td>\n",
       "      <td>2</td>\n",
       "      <td>object</td>\n",
       "      <td></td>\n",
       "      <td></td>\n",
       "      <td></td>\n",
       "      <td></td>\n",
       "      <td></td>\n",
       "      <td></td>\n",
       "      <td></td>\n",
       "      <td></td>\n",
       "    </tr>\n",
       "    <tr>\n",
       "      <th>HasMultiplePhoneNumbers</th>\n",
       "      <td>5282</td>\n",
       "      <td>0</td>\n",
       "      <td>3</td>\n",
       "      <td>object</td>\n",
       "      <td></td>\n",
       "      <td></td>\n",
       "      <td></td>\n",
       "      <td></td>\n",
       "      <td></td>\n",
       "      <td></td>\n",
       "      <td></td>\n",
       "      <td></td>\n",
       "    </tr>\n",
       "    <tr>\n",
       "      <th>HasInternetService</th>\n",
       "      <td>5282</td>\n",
       "      <td>0</td>\n",
       "      <td>3</td>\n",
       "      <td>object</td>\n",
       "      <td></td>\n",
       "      <td></td>\n",
       "      <td></td>\n",
       "      <td></td>\n",
       "      <td></td>\n",
       "      <td></td>\n",
       "      <td></td>\n",
       "      <td></td>\n",
       "    </tr>\n",
       "    <tr>\n",
       "      <th>HasOnlineSecurityService</th>\n",
       "      <td>5282</td>\n",
       "      <td>0</td>\n",
       "      <td>3</td>\n",
       "      <td>object</td>\n",
       "      <td></td>\n",
       "      <td></td>\n",
       "      <td></td>\n",
       "      <td></td>\n",
       "      <td></td>\n",
       "      <td></td>\n",
       "      <td></td>\n",
       "      <td></td>\n",
       "    </tr>\n",
       "    <tr>\n",
       "      <th>HasOnlineBackup</th>\n",
       "      <td>5282</td>\n",
       "      <td>0</td>\n",
       "      <td>3</td>\n",
       "      <td>object</td>\n",
       "      <td></td>\n",
       "      <td></td>\n",
       "      <td></td>\n",
       "      <td></td>\n",
       "      <td></td>\n",
       "      <td></td>\n",
       "      <td></td>\n",
       "      <td></td>\n",
       "    </tr>\n",
       "    <tr>\n",
       "      <th>HasDeviceProtection</th>\n",
       "      <td>5282</td>\n",
       "      <td>0</td>\n",
       "      <td>3</td>\n",
       "      <td>object</td>\n",
       "      <td></td>\n",
       "      <td></td>\n",
       "      <td></td>\n",
       "      <td></td>\n",
       "      <td></td>\n",
       "      <td></td>\n",
       "      <td></td>\n",
       "      <td></td>\n",
       "    </tr>\n",
       "    <tr>\n",
       "      <th>HasTechSupportAccess</th>\n",
       "      <td>5282</td>\n",
       "      <td>0</td>\n",
       "      <td>3</td>\n",
       "      <td>object</td>\n",
       "      <td></td>\n",
       "      <td></td>\n",
       "      <td></td>\n",
       "      <td></td>\n",
       "      <td></td>\n",
       "      <td></td>\n",
       "      <td></td>\n",
       "      <td></td>\n",
       "    </tr>\n",
       "    <tr>\n",
       "      <th>HasOnlineTV</th>\n",
       "      <td>5282</td>\n",
       "      <td>0</td>\n",
       "      <td>3</td>\n",
       "      <td>object</td>\n",
       "      <td></td>\n",
       "      <td></td>\n",
       "      <td></td>\n",
       "      <td></td>\n",
       "      <td></td>\n",
       "      <td></td>\n",
       "      <td></td>\n",
       "      <td></td>\n",
       "    </tr>\n",
       "    <tr>\n",
       "      <th>HasMovieSubscription</th>\n",
       "      <td>5282</td>\n",
       "      <td>0</td>\n",
       "      <td>3</td>\n",
       "      <td>object</td>\n",
       "      <td></td>\n",
       "      <td></td>\n",
       "      <td></td>\n",
       "      <td></td>\n",
       "      <td></td>\n",
       "      <td></td>\n",
       "      <td></td>\n",
       "      <td></td>\n",
       "    </tr>\n",
       "    <tr>\n",
       "      <th>HasContractPhone</th>\n",
       "      <td>5282</td>\n",
       "      <td>0</td>\n",
       "      <td>3</td>\n",
       "      <td>object</td>\n",
       "      <td></td>\n",
       "      <td></td>\n",
       "      <td></td>\n",
       "      <td></td>\n",
       "      <td></td>\n",
       "      <td></td>\n",
       "      <td></td>\n",
       "      <td></td>\n",
       "    </tr>\n",
       "    <tr>\n",
       "      <th>IsBillingPaperless</th>\n",
       "      <td>5282</td>\n",
       "      <td>0</td>\n",
       "      <td>2</td>\n",
       "      <td>object</td>\n",
       "      <td></td>\n",
       "      <td></td>\n",
       "      <td></td>\n",
       "      <td></td>\n",
       "      <td></td>\n",
       "      <td></td>\n",
       "      <td></td>\n",
       "      <td></td>\n",
       "    </tr>\n",
       "    <tr>\n",
       "      <th>PaymentMethod</th>\n",
       "      <td>5282</td>\n",
       "      <td>0</td>\n",
       "      <td>4</td>\n",
       "      <td>object</td>\n",
       "      <td></td>\n",
       "      <td></td>\n",
       "      <td></td>\n",
       "      <td></td>\n",
       "      <td></td>\n",
       "      <td></td>\n",
       "      <td></td>\n",
       "      <td></td>\n",
       "    </tr>\n",
       "    <tr>\n",
       "      <th>Churn</th>\n",
       "      <td>5282</td>\n",
       "      <td>0</td>\n",
       "      <td>2</td>\n",
       "      <td>int64</td>\n",
       "      <td>5282.0000</td>\n",
       "      <td>0.2620</td>\n",
       "      <td>0.4398</td>\n",
       "      <td>0.0000</td>\n",
       "      <td>0.0000</td>\n",
       "      <td>0.0000</td>\n",
       "      <td>1.0000</td>\n",
       "      <td>1.0000</td>\n",
       "    </tr>\n",
       "  </tbody>\n",
       "</table>\n",
       "</div>"
      ],
      "text/plain": [
       "Feature                   Non-Null Count  Null Count  Nunique    Dtype  \\\n",
       "ClientPeriod                        5282           0       73    int64   \n",
       "MonthlySpending                     5282           0     1468  float64   \n",
       "TotalSpent                          5282           0     4978   object   \n",
       "Sex                                 5282           0        2   object   \n",
       "IsSeniorCitizen                     5282           0        2    int64   \n",
       "HasPartner                          5282           0        2   object   \n",
       "HasChild                            5282           0        2   object   \n",
       "HasPhoneService                     5282           0        2   object   \n",
       "HasMultiplePhoneNumbers             5282           0        3   object   \n",
       "HasInternetService                  5282           0        3   object   \n",
       "HasOnlineSecurityService            5282           0        3   object   \n",
       "HasOnlineBackup                     5282           0        3   object   \n",
       "HasDeviceProtection                 5282           0        3   object   \n",
       "HasTechSupportAccess                5282           0        3   object   \n",
       "HasOnlineTV                         5282           0        3   object   \n",
       "HasMovieSubscription                5282           0        3   object   \n",
       "HasContractPhone                    5282           0        3   object   \n",
       "IsBillingPaperless                  5282           0        2   object   \n",
       "PaymentMethod                       5282           0        4   object   \n",
       "Churn                               5282           0        2    int64   \n",
       "\n",
       "Feature                      count    mean     std     min     25%     50%  \\\n",
       "ClientPeriod             5282.0000 32.3970 24.5503  0.0000  9.0000 29.0000   \n",
       "MonthlySpending          5282.0000 64.9248 30.1765 18.2500 35.4625 70.4000   \n",
       "TotalSpent                                                                   \n",
       "Sex                                                                          \n",
       "IsSeniorCitizen          5282.0000  0.1594  0.3661  0.0000  0.0000  0.0000   \n",
       "HasPartner                                                                   \n",
       "HasChild                                                                     \n",
       "HasPhoneService                                                              \n",
       "HasMultiplePhoneNumbers                                                      \n",
       "HasInternetService                                                           \n",
       "HasOnlineSecurityService                                                     \n",
       "HasOnlineBackup                                                              \n",
       "HasDeviceProtection                                                          \n",
       "HasTechSupportAccess                                                         \n",
       "HasOnlineTV                                                                  \n",
       "HasMovieSubscription                                                         \n",
       "HasContractPhone                                                             \n",
       "IsBillingPaperless                                                           \n",
       "PaymentMethod                                                                \n",
       "Churn                    5282.0000  0.2620  0.4398  0.0000  0.0000  0.0000   \n",
       "\n",
       "Feature                      75%      max  \n",
       "ClientPeriod             55.0000  72.0000  \n",
       "MonthlySpending          90.0500 118.7500  \n",
       "TotalSpent                                 \n",
       "Sex                                        \n",
       "IsSeniorCitizen           0.0000   1.0000  \n",
       "HasPartner                                 \n",
       "HasChild                                   \n",
       "HasPhoneService                            \n",
       "HasMultiplePhoneNumbers                    \n",
       "HasInternetService                         \n",
       "HasOnlineSecurityService                   \n",
       "HasOnlineBackup                            \n",
       "HasDeviceProtection                        \n",
       "HasTechSupportAccess                       \n",
       "HasOnlineTV                                \n",
       "HasMovieSubscription                       \n",
       "HasContractPhone                           \n",
       "IsBillingPaperless                         \n",
       "PaymentMethod                              \n",
       "Churn                     1.0000   1.0000  "
      ]
     },
     "execution_count": 14,
     "metadata": {},
     "output_type": "execute_result"
    }
   ],
   "source": [
    "full_info(df)"
   ]
  },
  {
   "cell_type": "code",
   "execution_count": 15,
   "metadata": {
    "ExecuteTime": {
     "end_time": "2023-10-21T12:12:38.611795Z",
     "start_time": "2023-10-21T12:12:38.585792Z"
    }
   },
   "outputs": [
    {
     "data": {
      "text/html": [
       "<div>\n",
       "<style scoped>\n",
       "    .dataframe tbody tr th:only-of-type {\n",
       "        vertical-align: middle;\n",
       "    }\n",
       "\n",
       "    .dataframe tbody tr th {\n",
       "        vertical-align: top;\n",
       "    }\n",
       "\n",
       "    .dataframe thead th {\n",
       "        text-align: right;\n",
       "    }\n",
       "</style>\n",
       "<table border=\"1\" class=\"dataframe\">\n",
       "  <thead>\n",
       "    <tr style=\"text-align: right;\">\n",
       "      <th></th>\n",
       "      <th>HasPartner</th>\n",
       "      <th>HasChild</th>\n",
       "      <th>HasPhoneService</th>\n",
       "      <th>HasMultiplePhoneNumbers</th>\n",
       "      <th>HasInternetService</th>\n",
       "      <th>HasOnlineSecurityService</th>\n",
       "      <th>HasOnlineBackup</th>\n",
       "      <th>HasDeviceProtection</th>\n",
       "      <th>HasTechSupportAccess</th>\n",
       "      <th>HasOnlineTV</th>\n",
       "      <th>HasMovieSubscription</th>\n",
       "      <th>HasContractPhone</th>\n",
       "    </tr>\n",
       "  </thead>\n",
       "  <tbody>\n",
       "    <tr>\n",
       "      <th>0</th>\n",
       "      <td>Yes</td>\n",
       "      <td>Yes</td>\n",
       "      <td>Yes</td>\n",
       "      <td>No</td>\n",
       "      <td>No</td>\n",
       "      <td>No internet service</td>\n",
       "      <td>No internet service</td>\n",
       "      <td>No internet service</td>\n",
       "      <td>No internet service</td>\n",
       "      <td>No internet service</td>\n",
       "      <td>No internet service</td>\n",
       "      <td>One year</td>\n",
       "    </tr>\n",
       "    <tr>\n",
       "      <th>1</th>\n",
       "      <td>Yes</td>\n",
       "      <td>No</td>\n",
       "      <td>Yes</td>\n",
       "      <td>Yes</td>\n",
       "      <td>No</td>\n",
       "      <td>No internet service</td>\n",
       "      <td>No internet service</td>\n",
       "      <td>No internet service</td>\n",
       "      <td>No internet service</td>\n",
       "      <td>No internet service</td>\n",
       "      <td>No internet service</td>\n",
       "      <td>Two year</td>\n",
       "    </tr>\n",
       "    <tr>\n",
       "      <th>2</th>\n",
       "      <td>No</td>\n",
       "      <td>No</td>\n",
       "      <td>Yes</td>\n",
       "      <td>No</td>\n",
       "      <td>Fiber optic</td>\n",
       "      <td>No</td>\n",
       "      <td>No</td>\n",
       "      <td>No</td>\n",
       "      <td>Yes</td>\n",
       "      <td>No</td>\n",
       "      <td>No</td>\n",
       "      <td>Month-to-month</td>\n",
       "    </tr>\n",
       "    <tr>\n",
       "      <th>3</th>\n",
       "      <td>Yes</td>\n",
       "      <td>No</td>\n",
       "      <td>Yes</td>\n",
       "      <td>Yes</td>\n",
       "      <td>Fiber optic</td>\n",
       "      <td>No</td>\n",
       "      <td>No</td>\n",
       "      <td>Yes</td>\n",
       "      <td>No</td>\n",
       "      <td>No</td>\n",
       "      <td>No</td>\n",
       "      <td>Month-to-month</td>\n",
       "    </tr>\n",
       "    <tr>\n",
       "      <th>4</th>\n",
       "      <td>Yes</td>\n",
       "      <td>Yes</td>\n",
       "      <td>Yes</td>\n",
       "      <td>Yes</td>\n",
       "      <td>Fiber optic</td>\n",
       "      <td>Yes</td>\n",
       "      <td>Yes</td>\n",
       "      <td>Yes</td>\n",
       "      <td>Yes</td>\n",
       "      <td>Yes</td>\n",
       "      <td>Yes</td>\n",
       "      <td>Two year</td>\n",
       "    </tr>\n",
       "    <tr>\n",
       "      <th>...</th>\n",
       "      <td>...</td>\n",
       "      <td>...</td>\n",
       "      <td>...</td>\n",
       "      <td>...</td>\n",
       "      <td>...</td>\n",
       "      <td>...</td>\n",
       "      <td>...</td>\n",
       "      <td>...</td>\n",
       "      <td>...</td>\n",
       "      <td>...</td>\n",
       "      <td>...</td>\n",
       "      <td>...</td>\n",
       "    </tr>\n",
       "    <tr>\n",
       "      <th>5277</th>\n",
       "      <td>No</td>\n",
       "      <td>No</td>\n",
       "      <td>No</td>\n",
       "      <td>No phone service</td>\n",
       "      <td>DSL</td>\n",
       "      <td>No</td>\n",
       "      <td>No</td>\n",
       "      <td>No</td>\n",
       "      <td>Yes</td>\n",
       "      <td>No</td>\n",
       "      <td>No</td>\n",
       "      <td>Month-to-month</td>\n",
       "    </tr>\n",
       "    <tr>\n",
       "      <th>5278</th>\n",
       "      <td>Yes</td>\n",
       "      <td>No</td>\n",
       "      <td>No</td>\n",
       "      <td>No phone service</td>\n",
       "      <td>DSL</td>\n",
       "      <td>Yes</td>\n",
       "      <td>No</td>\n",
       "      <td>No</td>\n",
       "      <td>Yes</td>\n",
       "      <td>Yes</td>\n",
       "      <td>No</td>\n",
       "      <td>One year</td>\n",
       "    </tr>\n",
       "    <tr>\n",
       "      <th>5279</th>\n",
       "      <td>No</td>\n",
       "      <td>No</td>\n",
       "      <td>Yes</td>\n",
       "      <td>No</td>\n",
       "      <td>DSL</td>\n",
       "      <td>No</td>\n",
       "      <td>No</td>\n",
       "      <td>Yes</td>\n",
       "      <td>Yes</td>\n",
       "      <td>No</td>\n",
       "      <td>No</td>\n",
       "      <td>Month-to-month</td>\n",
       "    </tr>\n",
       "    <tr>\n",
       "      <th>5280</th>\n",
       "      <td>No</td>\n",
       "      <td>No</td>\n",
       "      <td>Yes</td>\n",
       "      <td>Yes</td>\n",
       "      <td>Fiber optic</td>\n",
       "      <td>No</td>\n",
       "      <td>No</td>\n",
       "      <td>No</td>\n",
       "      <td>No</td>\n",
       "      <td>No</td>\n",
       "      <td>No</td>\n",
       "      <td>Month-to-month</td>\n",
       "    </tr>\n",
       "    <tr>\n",
       "      <th>5281</th>\n",
       "      <td>No</td>\n",
       "      <td>Yes</td>\n",
       "      <td>Yes</td>\n",
       "      <td>Yes</td>\n",
       "      <td>DSL</td>\n",
       "      <td>Yes</td>\n",
       "      <td>Yes</td>\n",
       "      <td>No</td>\n",
       "      <td>Yes</td>\n",
       "      <td>Yes</td>\n",
       "      <td>No</td>\n",
       "      <td>Month-to-month</td>\n",
       "    </tr>\n",
       "  </tbody>\n",
       "</table>\n",
       "<p>5282 rows × 12 columns</p>\n",
       "</div>"
      ],
      "text/plain": [
       "     HasPartner HasChild HasPhoneService HasMultiplePhoneNumbers  \\\n",
       "0           Yes      Yes             Yes                      No   \n",
       "1           Yes       No             Yes                     Yes   \n",
       "2            No       No             Yes                      No   \n",
       "3           Yes       No             Yes                     Yes   \n",
       "4           Yes      Yes             Yes                     Yes   \n",
       "...         ...      ...             ...                     ...   \n",
       "5277         No       No              No        No phone service   \n",
       "5278        Yes       No              No        No phone service   \n",
       "5279         No       No             Yes                      No   \n",
       "5280         No       No             Yes                     Yes   \n",
       "5281         No      Yes             Yes                     Yes   \n",
       "\n",
       "     HasInternetService HasOnlineSecurityService      HasOnlineBackup  \\\n",
       "0                    No      No internet service  No internet service   \n",
       "1                    No      No internet service  No internet service   \n",
       "2           Fiber optic                       No                   No   \n",
       "3           Fiber optic                       No                   No   \n",
       "4           Fiber optic                      Yes                  Yes   \n",
       "...                 ...                      ...                  ...   \n",
       "5277                DSL                       No                   No   \n",
       "5278                DSL                      Yes                   No   \n",
       "5279                DSL                       No                   No   \n",
       "5280        Fiber optic                       No                   No   \n",
       "5281                DSL                      Yes                  Yes   \n",
       "\n",
       "      HasDeviceProtection HasTechSupportAccess          HasOnlineTV  \\\n",
       "0     No internet service  No internet service  No internet service   \n",
       "1     No internet service  No internet service  No internet service   \n",
       "2                      No                  Yes                   No   \n",
       "3                     Yes                   No                   No   \n",
       "4                     Yes                  Yes                  Yes   \n",
       "...                   ...                  ...                  ...   \n",
       "5277                   No                  Yes                   No   \n",
       "5278                   No                  Yes                  Yes   \n",
       "5279                  Yes                  Yes                   No   \n",
       "5280                   No                   No                   No   \n",
       "5281                   No                  Yes                  Yes   \n",
       "\n",
       "     HasMovieSubscription HasContractPhone  \n",
       "0     No internet service         One year  \n",
       "1     No internet service         Two year  \n",
       "2                      No   Month-to-month  \n",
       "3                      No   Month-to-month  \n",
       "4                     Yes         Two year  \n",
       "...                   ...              ...  \n",
       "5277                   No   Month-to-month  \n",
       "5278                   No         One year  \n",
       "5279                   No   Month-to-month  \n",
       "5280                   No   Month-to-month  \n",
       "5281                   No   Month-to-month  \n",
       "\n",
       "[5282 rows x 12 columns]"
      ]
     },
     "execution_count": 15,
     "metadata": {},
     "output_type": "execute_result"
    }
   ],
   "source": [
    "df.filter(like='Has')"
   ]
  },
  {
   "cell_type": "markdown",
   "metadata": {
    "pycharm": {
     "name": "#%% md\n"
    }
   },
   "source": [
    "***Выводы***\n",
    "* Нотацию нужно привести к змеиной\n",
    "* Всего есть 20 признаков, тип многих некорректен\n",
    "* Пропусков нет\n",
    "* В признаках, которые должны быть булевыми, встречается по 3 и более уникальных значений\n",
    "\n",
    "Обработаем все по очереди"
   ]
  },
  {
   "cell_type": "code",
   "execution_count": 16,
   "metadata": {
    "ExecuteTime": {
     "end_time": "2023-10-21T12:12:38.627827Z",
     "start_time": "2023-10-21T12:12:38.614790Z"
    },
    "pycharm": {
     "name": "#%%\n"
    }
   },
   "outputs": [],
   "source": [
    "df.columns = ['_'.join(name).lower() for name in [re.findall(r'([A-Z][a-z]+)', col) for col in df.columns]]\n",
    "x_private.columns = ['_'.join(name).lower() for name in [re.findall(r'([A-Z][a-z]+)', col) for col in x_private.columns]]"
   ]
  },
  {
   "cell_type": "markdown",
   "metadata": {
    "pycharm": {
     "name": "#%% md\n"
    }
   },
   "source": [
    "Проверим датасет на дубликаты и удалим обнаруженные"
   ]
  },
  {
   "cell_type": "code",
   "execution_count": 17,
   "metadata": {
    "ExecuteTime": {
     "end_time": "2023-10-21T12:12:38.675826Z",
     "start_time": "2023-10-21T12:12:38.631791Z"
    },
    "pycharm": {
     "name": "#%%\n"
    }
   },
   "outputs": [
    {
     "name": "stdout",
     "output_type": "stream",
     "text": [
      "В датасете 14 дубликатов\n",
      "...loading...\n",
      "В датасете 0 дубликатов\n"
     ]
    }
   ],
   "source": [
    "print(f'В датасете {df.duplicated().sum()} дубликатов')\n",
    "df = df.drop_duplicates().reset_index(drop=True)\n",
    "print(f'...loading...\\nВ датасете {df.duplicated().sum()} дубликатов')"
   ]
  },
  {
   "cell_type": "markdown",
   "metadata": {
    "pycharm": {
     "name": "#%% md\n"
    }
   },
   "source": [
    "### client_period"
   ]
  },
  {
   "cell_type": "code",
   "execution_count": 19,
   "metadata": {
    "ExecuteTime": {
     "end_time": "2023-10-21T12:12:38.992572Z",
     "start_time": "2023-10-21T12:12:38.709790Z"
    },
    "pycharm": {
     "name": "#%%\n"
    }
   },
   "outputs": [
    {
     "data": {
      "image/png": "[encoded data removed]",
      "text/plain": [
       "<Figure size 1152x432 with 1 Axes>"
      ]
     },
     "metadata": {},
     "output_type": "display_data"
    }
   ],
   "source": [
    "df['client_period'].hist(bins=20, ec='k');\n",
    "plt.xlabel('client_period');"
   ]
  },
  {
   "cell_type": "markdown",
   "metadata": {
    "pycharm": {
     "name": "#%% md\n"
    }
   },
   "source": [
    "Пики приходятся на 0 и 72 месяца. Скорее всего 73 месяца назад компания начала работу и сразу провела мощную промо-кампанию. А сейчас (0 месяцев назад) привела еще мног оклиентов и теперь заинтересована в их сохранении"
   ]
  },
  {
   "cell_type": "markdown",
   "metadata": {
    "pycharm": {
     "name": "#%% md\n"
    }
   },
   "source": [
    "### monthly_spending"
   ]
  },
  {
   "cell_type": "code",
   "execution_count": 20,
   "metadata": {
    "ExecuteTime": {
     "end_time": "2023-10-21T12:12:39.211723Z",
     "start_time": "2023-10-21T12:12:38.994087Z"
    },
    "pycharm": {
     "name": "#%%\n"
    }
   },
   "outputs": [
    {
     "data": {
      "image/png": "[encoded data removed]",
      "text/plain": [
       "<Figure size 1152x432 with 1 Axes>"
      ]
     },
     "metadata": {},
     "output_type": "display_data"
    }
   ],
   "source": [
    "df['monthly_spending'].hist(bins=30, ec='k');\n",
    "plt.xlabel('monthly_spending');"
   ]
  },
  {
   "cell_type": "markdown",
   "metadata": {
    "pycharm": {
     "name": "#%% md\n"
    }
   },
   "source": [
    "Видимо, ~20 у.е. - это цена базового тарифа. Аномалий в признаке не наблюдается"
   ]
  },
  {
   "cell_type": "markdown",
   "metadata": {
    "pycharm": {
     "name": "#%% md\n"
    }
   },
   "source": [
    "### total_spent"
   ]
  },
  {
   "cell_type": "markdown",
   "metadata": {
    "pycharm": {
     "name": "#%% md\n"
    }
   },
   "source": [
    "Признак `total_spent` имеет тип object"
   ]
  },
  {
   "cell_type": "code",
   "execution_count": 21,
   "metadata": {
    "ExecuteTime": {
     "end_time": "2023-10-21T12:12:39.241722Z",
     "start_time": "2023-10-21T12:12:39.212724Z"
    },
    "pycharm": {
     "name": "#%%\n"
    }
   },
   "outputs": [
    {
     "name": "stdout",
     "output_type": "stream",
     "text": [
      "Пять случайных уникальных значений\n"
     ]
    },
    {
     "data": {
      "text/plain": [
       "[' ', '100.2', '100.25', '100.35', '100.4']"
      ]
     },
     "metadata": {},
     "output_type": "display_data"
    },
    {
     "name": "stdout",
     "output_type": "stream",
     "text": [
      "------\n",
      "Пять наиболее частых значений\n"
     ]
    },
    {
     "data": {
      "text/plain": [
       "total_spent\n",
       "         9\n",
       "19.75    8\n",
       "20.2     7\n",
       "20.05    5\n",
       "19.9     5\n",
       "Name: count, dtype: int64"
      ]
     },
     "metadata": {},
     "output_type": "display_data"
    }
   ],
   "source": [
    "print('Пять случайных уникальных значений')\n",
    "display(sorted(df['total_spent'].unique())[:5])\n",
    "print('------\\nПять наиболее частых значений')\n",
    "display(df['total_spent'].value_counts().head())"
   ]
  },
  {
   "cell_type": "markdown",
   "metadata": {
    "pycharm": {
     "name": "#%% md\n"
    }
   },
   "source": [
    "Среди значений есть пропуски, обозначенные пустой строкой. По логике, этот признак можно получить перемножением продолжительности сотрудничества с банком и средних ежемесяных трат. Убедимся в этом по корреляции признаков"
   ]
  },
  {
   "cell_type": "code",
   "execution_count": 22,
   "metadata": {
    "ExecuteTime": {
     "end_time": "2023-10-21T12:12:39.256722Z",
     "start_time": "2023-10-21T12:12:39.243724Z"
    },
    "pycharm": {
     "name": "#%%\n"
    }
   },
   "outputs": [
    {
     "data": {
      "text/html": [
       "<div>\n",
       "<style scoped>\n",
       "    .dataframe tbody tr th:only-of-type {\n",
       "        vertical-align: middle;\n",
       "    }\n",
       "\n",
       "    .dataframe tbody tr th {\n",
       "        vertical-align: top;\n",
       "    }\n",
       "\n",
       "    .dataframe thead th {\n",
       "        text-align: right;\n",
       "    }\n",
       "</style>\n",
       "<table border=\"1\" class=\"dataframe\">\n",
       "  <thead>\n",
       "    <tr style=\"text-align: right;\">\n",
       "      <th></th>\n",
       "      <th>0</th>\n",
       "      <th>total_spent</th>\n",
       "    </tr>\n",
       "  </thead>\n",
       "  <tbody>\n",
       "    <tr>\n",
       "      <th>0</th>\n",
       "      <td>1.0000</td>\n",
       "      <td>0.9996</td>\n",
       "    </tr>\n",
       "    <tr>\n",
       "      <th>total_spent</th>\n",
       "      <td>0.9996</td>\n",
       "      <td>1.0000</td>\n",
       "    </tr>\n",
       "  </tbody>\n",
       "</table>\n",
       "</div>"
      ],
      "text/plain": [
       "                 0  total_spent\n",
       "0           1.0000       0.9996\n",
       "total_spent 0.9996       1.0000"
      ]
     },
     "execution_count": 22,
     "metadata": {},
     "output_type": "execute_result"
    }
   ],
   "source": [
    "pd.concat([df['client_period']*df['monthly_spending'], df['total_spent'].replace(' ', np.nan).astype('float')], axis=1).corr()"
   ]
  },
  {
   "cell_type": "markdown",
   "metadata": {
    "pycharm": {
     "name": "#%% md\n"
    }
   },
   "source": [
    "Корреляция явная. Удалять признак пока не будем. Проведем замену"
   ]
  },
  {
   "cell_type": "code",
   "execution_count": 23,
   "metadata": {
    "ExecuteTime": {
     "end_time": "2023-10-21T12:12:39.336723Z",
     "start_time": "2023-10-21T12:12:39.257724Z"
    },
    "pycharm": {
     "name": "#%%\n"
    }
   },
   "outputs": [],
   "source": [
    "df['total_spent'] = df.apply(lambda x: x['client_period']*x['monthly_spending'] if x['total_spent']==' ' else x['total_spent'], axis=1).astype('float')\n",
    "\n",
    "x_private['total_spent'] = x_private.apply(lambda x: x['client_period']*x['monthly_spending'] if x['total_spent']==' ' else x['total_spent'], axis=1).astype('float')"
   ]
  },
  {
   "cell_type": "markdown",
   "metadata": {
    "pycharm": {
     "name": "#%% md\n"
    }
   },
   "source": [
    "### has_internet_service, has_online_security_service, has_online_backup, has_device_protection, has_tech_support_access, has_online, has_movie_subscription, has_multiple_phone_numbers"
   ]
  },
  {
   "cell_type": "markdown",
   "metadata": {
    "pycharm": {
     "name": "#%% md\n"
    }
   },
   "source": [
    "Во многих булевых признаках присутствуют значения, которые так или иначе можно привести к категориям \"да\" или \"нет\". Сделаем это."
   ]
  },
  {
   "cell_type": "code",
   "execution_count": 24,
   "metadata": {
    "ExecuteTime": {
     "end_time": "2023-10-21T12:12:39.384725Z",
     "start_time": "2023-10-21T12:12:39.339725Z"
    },
    "pycharm": {
     "name": "#%%\n"
    }
   },
   "outputs": [
    {
     "name": "stdout",
     "output_type": "stream",
     "text": [
      "['No' 'Fiber optic' 'DSL']\n",
      "['No' 'Yes']\n",
      "признак HAS_ONLINE_SECURITY_SERVICE\n",
      "До замены:\n",
      "['No internet service' 'No' 'Yes']\n",
      "После замены:\n",
      "['No' 'Yes']\n",
      "\n",
      "-----\n",
      "\n",
      "признак HAS_ONLINE_BACKUP\n",
      "До замены:\n",
      "['No internet service' 'No' 'Yes']\n",
      "После замены:\n",
      "['No' 'Yes']\n",
      "\n",
      "-----\n",
      "\n",
      "признак HAS_DEVICE_PROTECTION\n",
      "До замены:\n",
      "['No internet service' 'No' 'Yes']\n",
      "После замены:\n",
      "['No' 'Yes']\n",
      "\n",
      "-----\n",
      "\n",
      "признак HAS_TECH_SUPPORT_ACCESS\n",
      "До замены:\n",
      "['No internet service' 'Yes' 'No']\n",
      "После замены:\n",
      "['No' 'Yes']\n",
      "\n",
      "-----\n",
      "\n",
      "признак HAS_ONLINE\n",
      "До замены:\n",
      "['No internet service' 'No' 'Yes']\n",
      "После замены:\n",
      "['No' 'Yes']\n",
      "\n",
      "-----\n",
      "\n",
      "признак HAS_MOVIE_SUBSCRIPTION\n",
      "До замены:\n",
      "['No internet service' 'No' 'Yes']\n",
      "После замены:\n",
      "['No' 'Yes']\n",
      "\n",
      "-----\n",
      "\n",
      "признак HAS_MULTIPLE_PHONE_NUMBERS\n",
      "До замены:\n",
      "['No' 'Yes' 'No phone service']\n",
      "После замены:\n",
      "['No' 'Yes']\n",
      "\n",
      "-----\n",
      "\n"
     ]
    }
   ],
   "source": [
    "# display(df['has_internet_service'].value_counts())\n",
    "print(df['has_internet_service'].unique())\n",
    "df['has_internet_service'] = df['has_internet_service'].replace(['Fiber optic', 'DSL'], 'Yes')\n",
    "x_private['has_internet_service'] = x_private['has_internet_service'].replace(['Fiber optic', 'DSL'], 'Yes')\n",
    "# display(df['has_internet_service'].value_counts())\n",
    "print(df['has_internet_service'].unique())\n",
    "\n",
    "for feature in ['has_online_security_service',\n",
    "                'has_online_backup',\n",
    "                'has_device_protection',\n",
    "                'has_tech_support_access',\n",
    "                'has_online',\n",
    "                'has_movie_subscription',\n",
    "                'has_multiple_phone_numbers']:\n",
    "    print(f'признак {feature.upper()}\\nДо замены:')\n",
    "    print(df[feature].unique())\n",
    "    df[feature] = df[feature].replace(['No phone service', 'No internet service'], 'No')\n",
    "    x_private[feature] = x_private[feature].replace(['No phone service', 'No internet service'], 'No')\n",
    "    print('После замены:')\n",
    "    print(df[feature].unique())\n",
    "    print('\\n-----\\n')"
   ]
  },
  {
   "cell_type": "code",
   "execution_count": 25,
   "metadata": {
    "ExecuteTime": {
     "end_time": "2023-10-21T12:12:39.416722Z",
     "start_time": "2023-10-21T12:12:39.387727Z"
    },
    "pycharm": {
     "name": "#%%\n"
    }
   },
   "outputs": [],
   "source": [
    "for feature in ['sex',\n",
    "                'is_senior_citizen',\n",
    "                'has_partner',\n",
    "                'has_child',\n",
    "                'has_phone_service',\n",
    "                'is_billing_paperless',\n",
    "                'has_internet_service',\n",
    "                'has_online_security_service',\n",
    "                'has_online_backup',\n",
    "                'has_device_protection',\n",
    "                'has_tech_support_access',\n",
    "                'has_online',\n",
    "                'has_movie_subscription',\n",
    "                'has_multiple_phone_numbers',\n",
    "                'churn']:\n",
    "    df[feature] = df[feature].isin(['Female', 'Yes', 1]).astype('bool')\n",
    "    try:\n",
    "        x_private[feature] = x_private[feature].isin(['Female', 'Yes', 1]).astype('bool')\n",
    "    except:\n",
    "        pass"
   ]
  },
  {
   "cell_type": "markdown",
   "metadata": {
    "pycharm": {
     "name": "#%% md\n"
    }
   },
   "source": [
    "### has_contract_phone, payment_method"
   ]
  },
  {
   "cell_type": "markdown",
   "metadata": {
    "pycharm": {
     "name": "#%% md\n"
    }
   },
   "source": [
    "Исследуем оставшиеся признаки"
   ]
  },
  {
   "cell_type": "code",
   "execution_count": 26,
   "metadata": {
    "ExecuteTime": {
     "end_time": "2023-10-21T12:12:39.432762Z",
     "start_time": "2023-10-21T12:12:39.418724Z"
    },
    "pycharm": {
     "name": "#%%\n"
    }
   },
   "outputs": [
    {
     "name": "stdout",
     "output_type": "stream",
     "text": [
      "\n",
      "has_contract_phone👇\n"
     ]
    },
    {
     "data": {
      "text/plain": [
       "has_contract_phone\n",
       "Month-to-month    2906\n",
       "Two year          1280\n",
       "One year          1082\n",
       "Name: count, dtype: int64"
      ]
     },
     "metadata": {},
     "output_type": "display_data"
    },
    {
     "name": "stdout",
     "output_type": "stream",
     "text": [
      "\n",
      "payment_method👇\n"
     ]
    },
    {
     "data": {
      "text/plain": [
       "payment_method\n",
       "Electronic check             1780\n",
       "Mailed check                 1186\n",
       "Bank transfer (automatic)    1159\n",
       "Credit card (automatic)      1143\n",
       "Name: count, dtype: int64"
      ]
     },
     "metadata": {},
     "output_type": "display_data"
    }
   ],
   "source": [
    "for feature in ['has_contract_phone', 'payment_method']:\n",
    "    print(f'\\n{feature}👇')\n",
    "    display(df[feature].value_counts())"
   ]
  },
  {
   "cell_type": "markdown",
   "metadata": {},
   "source": [
    "### Churn"
   ]
  },
  {
   "cell_type": "markdown",
   "metadata": {},
   "source": [
    "Посмотрим на распределение таргета"
   ]
  },
  {
   "cell_type": "code",
   "execution_count": 27,
   "metadata": {
    "ExecuteTime": {
     "end_time": "2023-10-21T12:12:39.622775Z",
     "start_time": "2023-10-21T12:12:39.434724Z"
    }
   },
   "outputs": [
    {
     "data": {
      "image/png": "[encoded data removed]",
      "text/plain": [
       "<Figure size 1152x432 with 1 Axes>"
      ]
     },
     "metadata": {},
     "output_type": "display_data"
    }
   ],
   "source": [
    "df['churn'].value_counts(normalize=True).plot.barh();\n",
    "plt.title('Исследлвание дисбаланса классов в таргете');\n",
    "plt.xlabel('Доля класса');"
   ]
  },
  {
   "cell_type": "markdown",
   "metadata": {},
   "source": [
    "Есть дисбаланс, но не критический. В этом случае можно будет практически ничего не делать для балансировки. Но на всякий случай учтем это при подборе гиперпараметров"
   ]
  },
  {
   "cell_type": "markdown",
   "metadata": {
    "pycharm": {
     "name": "#%% md\n"
    }
   },
   "source": [
    "### Анализ статистического различия в признаках"
   ]
  },
  {
   "cell_type": "markdown",
   "metadata": {
    "pycharm": {
     "name": "#%% md\n"
    }
   },
   "source": [
    "Посчитаем критерий Стьюдента для всех числовых признаков и запишем отобранные признаки в отдельный список"
   ]
  },
  {
   "cell_type": "code",
   "execution_count": 28,
   "metadata": {
    "ExecuteTime": {
     "end_time": "2023-10-21T12:12:39.638773Z",
     "start_time": "2023-10-21T12:12:39.624774Z"
    },
    "pycharm": {
     "name": "#%%\n"
    }
   },
   "outputs": [],
   "source": [
    "st_imp_features = []"
   ]
  },
  {
   "cell_type": "code",
   "execution_count": 29,
   "metadata": {
    "ExecuteTime": {
     "end_time": "2023-10-21T12:12:39.653773Z",
     "start_time": "2023-10-21T12:12:39.640776Z"
    },
    "pycharm": {
     "name": "#%%\n"
    }
   },
   "outputs": [],
   "source": [
    "def hist_plotter(df, class_feature, alfa=0.05, q=0.05, height=6, bins=40, highlight_significant=False):\n",
    "\n",
    "    lst = []\n",
    "    for col in df.select_dtypes(include=('int', 'float')).columns:\n",
    "        q = 0.05\n",
    "        d1 = df[(df[class_feature]==True)& (~df[col].isna())][col]\n",
    "        d2 = df[(df[class_feature]==False)&(~df[col].isna())][col]\n",
    "\n",
    "        d1 = d1[(d1>d1.quantile(q)) & (d1<d1.quantile(1-q))]\n",
    "        d2 = d2[(d2>d2.quantile(q)) & (d2<d2.quantile(1-q))]\n",
    "\n",
    "        fig, ax = plt.subplots(1, 1, figsize=(16, height))\n",
    "        ax.hist(d1, density=True, bins=bins, alpha=0.5, label='1')\n",
    "        ax.hist(d2, density=True, bins=bins, alpha=0.5, label='0');\n",
    "        ax.axvline(d1.mean(), color=sns.color_palette()[0]) #, color='#cfe3f9'\n",
    "        ax.axvline(d2.mean(), color=sns.color_palette()[1]) #, color='#ffd9c0'\n",
    "        ax.legend();\n",
    "        ax.set_title(col)\n",
    "\n",
    "        pvalue=st.ttest_ind(d1, d2, equal_var=False).pvalue\n",
    "        plt.figtext(0.12, -0.2, f'При размерах выборок '\n",
    "              f'{d1.shape[0]}/{d2.shape[0]} '\n",
    "              f'и nunique={df[col].nunique()} '\n",
    "              f'p-value для {col} равен {pvalue:.3f}')\n",
    "        if highlight_significant:\n",
    "            if pvalue < alfa:\n",
    "                # fig.patch.set_linewidth(5)\n",
    "                # fig.patch.set_edgecolor('#8de5a1')\n",
    "                fig.patch.set_facecolor('#8de5a1')\n",
    "                lst.append(col)\n",
    "    return lst"
   ]
  },
  {
   "cell_type": "code",
   "execution_count": 30,
   "metadata": {
    "ExecuteTime": {
     "end_time": "2023-10-21T12:12:40.720819Z",
     "start_time": "2023-10-21T12:12:39.658773Z"
    },
    "pycharm": {
     "name": "#%%\n"
    }
   },
   "outputs": [
    {
     "data": {
      "image/png": "[encoded data removed]",
      "text/plain": [
       "<Figure size 1152x144 with 1 Axes>"
      ]
     },
     "metadata": {},
     "output_type": "display_data"
    },
    {
     "data": {
      "image/png": "[encoded data removed]",
      "text/plain": [
       "<Figure size 1152x144 with 1 Axes>"
      ]
     },
     "metadata": {},
     "output_type": "display_data"
    },
    {
     "data": {
      "image/png": "[encoded data removed]",
      "text/plain": [
       "<Figure size 1152x144 with 1 Axes>"
      ]
     },
     "metadata": {},
     "output_type": "display_data"
    }
   ],
   "source": [
    "st_imp_features = hist_plotter(df, alfa=0.05, q=0.05, height=2, class_feature='churn', bins=30, highlight_significant=True)"
   ]
  },
  {
   "cell_type": "markdown",
   "metadata": {
    "pycharm": {
     "name": "#%% md\n"
    }
   },
   "source": [
    "Видно, что чем дольше клиент пользуется услугами оператора, тем выше его лояльность. Ну это логично"
   ]
  },
  {
   "cell_type": "markdown",
   "metadata": {
    "pycharm": {
     "name": "#%% md\n"
    }
   },
   "source": [
    "Для булевых признаков проверим хи-квадрат тест"
   ]
  },
  {
   "cell_type": "code",
   "execution_count": 31,
   "metadata": {
    "ExecuteTime": {
     "end_time": "2023-10-21T12:12:40.927817Z",
     "start_time": "2023-10-21T12:12:40.723819Z"
    },
    "pycharm": {
     "name": "#%%\n"
    }
   },
   "outputs": [
    {
     "name": "stdout",
     "output_type": "stream",
     "text": [
      "\t---SEX---\n"
     ]
    },
    {
     "data": {
      "text/plain": [
       "sex    churn\n",
       "False  False   0.7427\n",
       "       True    0.2573\n",
       "True   False   0.7356\n",
       "       True    0.2644\n",
       "Name: proportion, dtype: float64"
      ]
     },
     "metadata": {},
     "output_type": "display_data"
    },
    {
     "name": "stdout",
     "output_type": "stream",
     "text": [
      "pvalue=0.577  \n",
      "\n",
      "\n",
      "\t---IS_SENIOR_CITIZEN---\n"
     ]
    },
    {
     "data": {
      "text/plain": [
       "is_senior_citizen  churn\n",
       "False              False   0.7694\n",
       "                   True    0.2306\n",
       "True               False   0.5803\n",
       "                   True    0.4197\n",
       "Name: proportion, dtype: float64"
      ]
     },
     "metadata": {},
     "output_type": "display_data"
    },
    {
     "name": "stdout",
     "output_type": "stream",
     "text": [
      "pvalue=0.000 <-Значимый результат! \n",
      "\n",
      "\n",
      "\t---HAS_PARTNER---\n"
     ]
    },
    {
     "data": {
      "text/plain": [
       "has_partner  churn\n",
       "False        False   0.6763\n",
       "             True    0.3237\n",
       "True         False   0.8048\n",
       "             True    0.1952\n",
       "Name: proportion, dtype: float64"
      ]
     },
     "metadata": {},
     "output_type": "display_data"
    },
    {
     "name": "stdout",
     "output_type": "stream",
     "text": [
      "pvalue=0.000 <-Значимый результат! \n",
      "\n",
      "\n",
      "\t---HAS_CHILD---\n"
     ]
    },
    {
     "data": {
      "text/plain": [
       "has_child  churn\n",
       "False      False   0.6920\n",
       "           True    0.3080\n",
       "True       False   0.8468\n",
       "           True    0.1532\n",
       "Name: proportion, dtype: float64"
      ]
     },
     "metadata": {},
     "output_type": "display_data"
    },
    {
     "name": "stdout",
     "output_type": "stream",
     "text": [
      "pvalue=0.000 <-Значимый результат! \n",
      "\n",
      "\n",
      "\t---HAS_PHONE_SERVICE---\n"
     ]
    },
    {
     "data": {
      "text/plain": [
       "has_phone_service  churn\n",
       "False              False   0.7524\n",
       "                   True    0.2476\n",
       "True               False   0.7377\n",
       "                   True    0.2623\n",
       "Name: proportion, dtype: float64"
      ]
     },
     "metadata": {},
     "output_type": "display_data"
    },
    {
     "name": "stdout",
     "output_type": "stream",
     "text": [
      "pvalue=0.502  \n",
      "\n",
      "\n",
      "\t---HAS_MULTIPLE_PHONE_NUMBERS---\n"
     ]
    },
    {
     "data": {
      "text/plain": [
       "has_multiple_phone_numbers  churn\n",
       "False                       False   0.7551\n",
       "                            True    0.2449\n",
       "True                        False   0.7178\n",
       "                            True    0.2822\n",
       "Name: proportion, dtype: float64"
      ]
     },
     "metadata": {},
     "output_type": "display_data"
    },
    {
     "name": "stdout",
     "output_type": "stream",
     "text": [
      "pvalue=0.003 <-Значимый результат! \n",
      "\n",
      "\n",
      "\t---HAS_INTERNET_SERVICE---\n"
     ]
    },
    {
     "data": {
      "text/plain": [
       "has_internet_service  churn\n",
       "False                 False   0.9295\n",
       "                      True    0.0705\n",
       "True                  False   0.6869\n",
       "                      True    0.3131\n",
       "Name: proportion, dtype: float64"
      ]
     },
     "metadata": {},
     "output_type": "display_data"
    },
    {
     "name": "stdout",
     "output_type": "stream",
     "text": [
      "pvalue=0.000 <-Значимый результат! \n",
      "\n",
      "\n",
      "\t---HAS_ONLINE_SECURITY_SERVICE---\n"
     ]
    },
    {
     "data": {
      "text/plain": [
       "has_online_security_service  churn\n",
       "False                        False   0.6882\n",
       "                             True    0.3118\n",
       "True                         False   0.8640\n",
       "                             True    0.1360\n",
       "Name: proportion, dtype: float64"
      ]
     },
     "metadata": {},
     "output_type": "display_data"
    },
    {
     "name": "stdout",
     "output_type": "stream",
     "text": [
      "pvalue=0.000 <-Значимый результат! \n",
      "\n",
      "\n",
      "\t---HAS_ONLINE_BACKUP---\n"
     ]
    },
    {
     "data": {
      "text/plain": [
       "has_online_backup  churn\n",
       "False              False   0.7118\n",
       "                   True    0.2882\n",
       "True               False   0.7916\n",
       "                   True    0.2084\n",
       "Name: proportion, dtype: float64"
      ]
     },
     "metadata": {},
     "output_type": "display_data"
    },
    {
     "name": "stdout",
     "output_type": "stream",
     "text": [
      "pvalue=0.000 <-Значимый результат! \n",
      "\n",
      "\n",
      "\t---HAS_DEVICE_PROTECTION---\n"
     ]
    },
    {
     "data": {
      "text/plain": [
       "has_device_protection  churn\n",
       "False                  False   0.7178\n",
       "                       True    0.2822\n",
       "True                   False   0.7796\n",
       "                       True    0.2204\n",
       "Name: proportion, dtype: float64"
      ]
     },
     "metadata": {},
     "output_type": "display_data"
    },
    {
     "name": "stdout",
     "output_type": "stream",
     "text": [
      "pvalue=0.000 <-Значимый результат! \n",
      "\n",
      "\n",
      "\t---HAS_TECH_SUPPORT_ACCESS---\n"
     ]
    },
    {
     "data": {
      "text/plain": [
       "has_tech_support_access  churn\n",
       "False                    False   0.6928\n",
       "                         True    0.3072\n",
       "True                     False   0.8517\n",
       "                         True    0.1483\n",
       "Name: proportion, dtype: float64"
      ]
     },
     "metadata": {},
     "output_type": "display_data"
    },
    {
     "name": "stdout",
     "output_type": "stream",
     "text": [
      "pvalue=0.000 <-Значимый результат! \n",
      "\n",
      "\n",
      "\t---HAS_ONLINE---\n"
     ]
    },
    {
     "data": {
      "text/plain": [
       "has_online  churn\n",
       "False       False   0.7607\n",
       "            True    0.2393\n",
       "True        False   0.7052\n",
       "            True    0.2948\n",
       "Name: proportion, dtype: float64"
      ]
     },
     "metadata": {},
     "output_type": "display_data"
    },
    {
     "name": "stdout",
     "output_type": "stream",
     "text": [
      "pvalue=0.000 <-Значимый результат! \n",
      "\n",
      "\n",
      "\t---HAS_MOVIE_SUBSCRIPTION---\n"
     ]
    },
    {
     "data": {
      "text/plain": [
       "has_movie_subscription  churn\n",
       "False                   False   0.7578\n",
       "                        True    0.2422\n",
       "True                    False   0.7102\n",
       "                        True    0.2898\n",
       "Name: proportion, dtype: float64"
      ]
     },
     "metadata": {},
     "output_type": "display_data"
    },
    {
     "name": "stdout",
     "output_type": "stream",
     "text": [
      "pvalue=0.000 <-Значимый результат! \n",
      "\n",
      "\n",
      "\t---HAS_CONTRACT_PHONE---\n"
     ]
    },
    {
     "data": {
      "text/plain": [
       "has_contract_phone  churn\n",
       "Month-to-month      False   0.5798\n",
       "                    True    0.4202\n",
       "One year            False   0.8891\n",
       "                    True    0.1109\n",
       "Two year            False   0.9742\n",
       "                    True    0.0258\n",
       "Name: proportion, dtype: float64"
      ]
     },
     "metadata": {},
     "output_type": "display_data"
    },
    {
     "name": "stdout",
     "output_type": "stream",
     "text": [
      "pvalue=0.000 <-Значимый результат! \n",
      "\n",
      "\n",
      "\t---IS_BILLING_PAPERLESS---\n"
     ]
    },
    {
     "data": {
      "text/plain": [
       "is_billing_paperless  churn\n",
       "False                 False   0.8421\n",
       "                      True    0.1579\n",
       "True                  False   0.6694\n",
       "                      True    0.3306\n",
       "Name: proportion, dtype: float64"
      ]
     },
     "metadata": {},
     "output_type": "display_data"
    },
    {
     "name": "stdout",
     "output_type": "stream",
     "text": [
      "pvalue=0.000 <-Значимый результат! \n",
      "\n",
      "\n",
      "\t---PAYMENT_METHOD---\n"
     ]
    },
    {
     "data": {
      "text/plain": [
       "payment_method             churn\n",
       "Bank transfer (automatic)  False   0.8318\n",
       "                           True    0.1682\n",
       "Credit card (automatic)    False   0.8556\n",
       "                           True    0.1444\n",
       "Electronic check           False   0.5573\n",
       "                           True    0.4427\n",
       "Mailed check               False   0.8094\n",
       "                           True    0.1906\n",
       "Name: proportion, dtype: float64"
      ]
     },
     "metadata": {},
     "output_type": "display_data"
    },
    {
     "name": "stdout",
     "output_type": "stream",
     "text": [
      "pvalue=0.000 <-Значимый результат! \n",
      "\n",
      "\n"
     ]
    }
   ],
   "source": [
    "alfa=0.05\n",
    "for col in df.select_dtypes(include=['bool', 'object']).columns:\n",
    "    if not col=='churn':\n",
    "        print(f'\\t---{col.upper()}---')\n",
    "        display(df.groupby([col])['churn'].value_counts(normalize=True))\n",
    "        pivot = df.pivot_table(index=col, columns='churn', values='client_period' , aggfunc='count')\n",
    "        pvalue=st.chi2_contingency(pivot).pvalue\n",
    "        print(f'pvalue={pvalue:.3f} {\"<-Значимый результат!\" if pvalue<alfa else \"\"} \\n\\n')\n",
    "        if pvalue < alfa:\n",
    "            st_imp_features.append(col)"
   ]
  },
  {
   "cell_type": "markdown",
   "metadata": {
    "pycharm": {
     "name": "#%% md\n"
    }
   },
   "source": [
    "### Оценка разделимости классов"
   ]
  },
  {
   "cell_type": "code",
   "execution_count": 32,
   "metadata": {
    "ExecuteTime": {
     "end_time": "2023-10-21T12:12:40.942817Z",
     "start_time": "2023-10-21T12:12:40.928819Z"
    },
    "pycharm": {
     "name": "#%%\n"
    }
   },
   "outputs": [],
   "source": [
    "transformer = ColumnTransformer(transformers=\n",
    "                                [('nums_standard', StandardScaler(), selector(dtype_include=['int', 'float'])),\n",
    "                                 ('cats', OneHotEncoder(drop='first', handle_unknown='ignore'), selector(dtype_include='object'))],\n",
    "                                remainder='passthrough')"
   ]
  },
  {
   "cell_type": "code",
   "execution_count": 33,
   "metadata": {
    "ExecuteTime": {
     "end_time": "2023-10-21T12:12:40.958817Z",
     "start_time": "2023-10-21T12:12:40.944819Z"
    },
    "pycharm": {
     "name": "#%%\n"
    }
   },
   "outputs": [],
   "source": [
    "def pca_tsne(df):\n",
    "    tr = transformer.fit_transform(df.drop('churn', axis=1))\n",
    "    pca = PCA(n_components=2).fit_transform(tr)\n",
    "    pca_df = pd.DataFrame(pca)\n",
    "    pca_df['class'] = df['churn']\n",
    "\n",
    "    tsne = TSNE(n_components=2).fit_transform(tr)\n",
    "    tsne_df = pd.DataFrame(tsne)\n",
    "    tsne_df['class'] = df['churn']\n",
    "\n",
    "    fig, (ax1, ax2) = plt.subplots(1, 2, figsize=(16, 8))\n",
    "\n",
    "    ax1.set_title('PCA')\n",
    "    sns.scatterplot(data=pca_df.sort_values('class'), x=0, y=1, hue='class', alpha=1, ax=ax1);\n",
    "\n",
    "    ax2.set_title('t-SNE')\n",
    "    sns.scatterplot(data=tsne_df.sort_values('class'), x=0, y=1, hue='class', alpha=1, ax=ax2);"
   ]
  },
  {
   "cell_type": "code",
   "execution_count": 34,
   "metadata": {
    "ExecuteTime": {
     "end_time": "2023-10-21T12:13:14.664223Z",
     "start_time": "2023-10-21T12:12:40.960819Z"
    },
    "pycharm": {
     "name": "#%%\n"
    }
   },
   "outputs": [
    {
     "name": "stderr",
     "output_type": "stream",
     "text": [
      "C:\\anaconda3\\lib\\site-packages\\sklearn\\manifold\\_t_sne.py:800: FutureWarning: The default initialization in TSNE will change from 'random' to 'pca' in 1.2.\n",
      "  warnings.warn(\n",
      "C:\\anaconda3\\lib\\site-packages\\sklearn\\manifold\\_t_sne.py:810: FutureWarning: The default learning rate in TSNE will change from 200.0 to 'auto' in 1.2.\n",
      "  warnings.warn(\n"
     ]
    },
    {
     "name": "stdout",
     "output_type": "stream",
     "text": [
      "Wall time: 32.7 s\n"
     ]
    },
    {
     "data": {
      "image/png": "[encoded data removed]",
      "text/plain": [
       "<Figure size 1152x576 with 2 Axes>"
      ]
     },
     "metadata": {},
     "output_type": "display_data"
    }
   ],
   "source": [
    "%%time\n",
    "pca_tsne(df);"
   ]
  },
  {
   "cell_type": "markdown",
   "metadata": {
    "pycharm": {
     "name": "#%% md\n"
    }
   },
   "source": [
    "Классы разделимы"
   ]
  },
  {
   "cell_type": "markdown",
   "metadata": {
    "pycharm": {
     "name": "#%% md\n"
    }
   },
   "source": [
    "(Дополнительно) Если вы нашли какие-то ошибки в данных или выбросы, то можете их убрать. Тут можно поэксперементировать с обработкой данных как угодно, но не за баллы."
   ]
  },
  {
   "cell_type": "markdown",
   "metadata": {
    "pycharm": {
     "name": "#%% md\n"
    }
   },
   "source": []
  },
  {
   "cell_type": "markdown",
   "metadata": {
    "pycharm": {
     "name": "#%% md\n"
    }
   },
   "source": [
    "## Разделение на обучающую и тестовую выборку"
   ]
  },
  {
   "cell_type": "code",
   "execution_count": 35,
   "metadata": {
    "ExecuteTime": {
     "end_time": "2023-10-21T12:13:14.679535Z",
     "start_time": "2023-10-21T12:13:14.667223Z"
    },
    "pycharm": {
     "name": "#%%\n"
    }
   },
   "outputs": [],
   "source": [
    "x = df.drop('churn', axis=1)\n",
    "y = df['churn']"
   ]
  },
  {
   "cell_type": "code",
   "execution_count": 36,
   "metadata": {
    "ExecuteTime": {
     "end_time": "2023-10-21T12:13:14.709688Z",
     "start_time": "2023-10-21T12:13:14.682537Z"
    },
    "pycharm": {
     "name": "#%%\n"
    }
   },
   "outputs": [],
   "source": [
    "x_train, x_test, y_train, y_test = train_test_split(x, y, test_size=0.2, random_state=rs)"
   ]
  },
  {
   "cell_type": "markdown",
   "metadata": {
    "pycharm": {
     "name": "#%% md\n"
    }
   },
   "source": [
    "## Применение линейных моделей (3 балла)\n",
    "\n",
    "1) Обработайте данные для того, чтобы к ним можно было применить LogisticRegression. Т.е. отнормируйте числовые признаки, а категориальные закодируйте с помощью one-hot-encoding'а. \n",
    "\n",
    "2) С помощью кроссвалидации или разделения на train/valid выборку протестируйте разные значения гиперпараметра C и выберите лучший (можно тестировать С=100, 10, 1, 0.1, 0.01, 0.001) по метрике ROC-AUC. \n",
    "\n",
    "Если вы разделяете на train/valid, то используйте LogisticRegressionCV. Он сам при вызове .fit() подберет параметр С. (не забудьте передать scroing='roc_auc', чтобы при кроссвалидации сравнивались значения этой метрики, и refit=True, чтобы при потом модель обучилась на всем датасете с лучшим параметром C). \n",
    "\n",
    "\n",
    "(более сложный вариант) Если вы будете использовать кроссвалидацию, то преобразования данных и LogisticRegression нужно соединить в один Pipeline с помощью make_pipeline, как это делалось во втором семинаре. Потом pipeline надо передать в GridSearchCV. Для one-hot-encoding'a можно испльзовать комбинацию LabelEncoder + OneHotEncoder (сначала превращаем строчки в числа, а потом числа првращаем в one-hot вектора.)"
   ]
  },
  {
   "cell_type": "code",
   "execution_count": 37,
   "metadata": {
    "ExecuteTime": {
     "end_time": "2023-10-21T12:13:17.136245Z",
     "start_time": "2023-10-21T12:13:14.711691Z"
    },
    "pycharm": {
     "name": "#%%\n"
    }
   },
   "outputs": [
    {
     "data": {
      "text/html": [
       "<style>#sk-container-id-1 {color: black;background-color: white;}#sk-container-id-1 pre{padding: 0;}#sk-container-id-1 div.sk-toggleable {background-color: white;}#sk-container-id-1 label.sk-toggleable__label {cursor: pointer;display: block;width: 100%;margin-bottom: 0;padding: 0.3em;box-sizing: border-box;text-align: center;}#sk-container-id-1 label.sk-toggleable__label-arrow:before {content: \"▸\";float: left;margin-right: 0.25em;color: #696969;}#sk-container-id-1 label.sk-toggleable__label-arrow:hover:before {color: black;}#sk-container-id-1 div.sk-estimator:hover label.sk-toggleable__label-arrow:before {color: black;}#sk-container-id-1 div.sk-toggleable__content {max-height: 0;max-width: 0;overflow: hidden;text-align: left;background-color: #f0f8ff;}#sk-container-id-1 div.sk-toggleable__content pre {margin: 0.2em;color: black;border-radius: 0.25em;background-color: #f0f8ff;}#sk-container-id-1 input.sk-toggleable__control:checked~div.sk-toggleable__content {max-height: 200px;max-width: 100%;overflow: auto;}#sk-container-id-1 input.sk-toggleable__control:checked~label.sk-toggleable__label-arrow:before {content: \"▾\";}#sk-container-id-1 div.sk-estimator input.sk-toggleable__control:checked~label.sk-toggleable__label {background-color: #d4ebff;}#sk-container-id-1 div.sk-label input.sk-toggleable__control:checked~label.sk-toggleable__label {background-color: #d4ebff;}#sk-container-id-1 input.sk-hidden--visually {border: 0;clip: rect(1px 1px 1px 1px);clip: rect(1px, 1px, 1px, 1px);height: 1px;margin: -1px;overflow: hidden;padding: 0;position: absolute;width: 1px;}#sk-container-id-1 div.sk-estimator {font-family: monospace;background-color: #f0f8ff;border: 1px dotted black;border-radius: 0.25em;box-sizing: border-box;margin-bottom: 0.5em;}#sk-container-id-1 div.sk-estimator:hover {background-color: #d4ebff;}#sk-container-id-1 div.sk-parallel-item::after {content: \"\";width: 100%;border-bottom: 1px solid gray;flex-grow: 1;}#sk-container-id-1 div.sk-label:hover label.sk-toggleable__label {background-color: #d4ebff;}#sk-container-id-1 div.sk-serial::before {content: \"\";position: absolute;border-left: 1px solid gray;box-sizing: border-box;top: 0;bottom: 0;left: 50%;z-index: 0;}#sk-container-id-1 div.sk-serial {display: flex;flex-direction: column;align-items: center;background-color: white;padding-right: 0.2em;padding-left: 0.2em;position: relative;}#sk-container-id-1 div.sk-item {position: relative;z-index: 1;}#sk-container-id-1 div.sk-parallel {display: flex;align-items: stretch;justify-content: center;background-color: white;position: relative;}#sk-container-id-1 div.sk-item::before, #sk-container-id-1 div.sk-parallel-item::before {content: \"\";position: absolute;border-left: 1px solid gray;box-sizing: border-box;top: 0;bottom: 0;left: 50%;z-index: -1;}#sk-container-id-1 div.sk-parallel-item {display: flex;flex-direction: column;z-index: 1;position: relative;background-color: white;}#sk-container-id-1 div.sk-parallel-item:first-child::after {align-self: flex-end;width: 50%;}#sk-container-id-1 div.sk-parallel-item:last-child::after {align-self: flex-start;width: 50%;}#sk-container-id-1 div.sk-parallel-item:only-child::after {width: 0;}#sk-container-id-1 div.sk-dashed-wrapped {border: 1px dashed gray;margin: 0 0.4em 0.5em 0.4em;box-sizing: border-box;padding-bottom: 0.4em;background-color: white;}#sk-container-id-1 div.sk-label label {font-family: monospace;font-weight: bold;display: inline-block;line-height: 1.2em;}#sk-container-id-1 div.sk-label-container {text-align: center;}#sk-container-id-1 div.sk-container {/* jupyter's `normalize.less` sets `[hidden] { display: none; }` but bootstrap.min.css set `[hidden] { display: none !important; }` so we also need the `!important` here to be able to override the default hidden behavior on the sphinx rendered scikit-learn.org. See: https://github.com/scikit-learn/scikit-learn/issues/21755 */display: inline-block !important;position: relative;}#sk-container-id-1 div.sk-text-repr-fallback {display: none;}</style><div id=\"sk-container-id-1\" class=\"sk-top-container\"><div class=\"sk-text-repr-fallback\"><pre>GridSearchCV(cv=5,\n",
       "             estimator=Pipeline(steps=[(&#x27;tr&#x27;,\n",
       "                                        ColumnTransformer(remainder=&#x27;passthrough&#x27;,\n",
       "                                                          transformers=[(&#x27;nums_standard&#x27;,\n",
       "                                                                         StandardScaler(),\n",
       "                                                                         &lt;sklearn.compose._column_transformer.make_column_selector object at 0x0000016A95404430&gt;),\n",
       "                                                                        (&#x27;cats&#x27;,\n",
       "                                                                         OneHotEncoder(drop=&#x27;first&#x27;,\n",
       "                                                                                       handle_unknown=&#x27;ignore&#x27;),\n",
       "                                                                         &lt;sklearn.compose._column_transformer.make_column_selector object at 0x0000016A954044F0&gt;)])),\n",
       "                                       (&#x27;lr&#x27;,\n",
       "                                        LogisticRegression(max_iter=100000.0,\n",
       "                                                           random_state=1234))]),\n",
       "             param_grid={&#x27;lr__C&#x27;: [0.001, 0.01, 0.1, 1, 10, 100, 1000, 10000,\n",
       "                                   100000]},\n",
       "             scoring=&#x27;roc_auc&#x27;)</pre><b>In a Jupyter environment, please rerun this cell to show the HTML representation or trust the notebook. <br />On GitHub, the HTML representation is unable to render, please try loading this page with nbviewer.org.</b></div><div class=\"sk-container\" hidden><div class=\"sk-item sk-dashed-wrapped\"><div class=\"sk-label-container\"><div class=\"sk-label sk-toggleable\"><input class=\"sk-toggleable__control sk-hidden--visually\" id=\"sk-estimator-id-1\" type=\"checkbox\" ><label for=\"sk-estimator-id-1\" class=\"sk-toggleable__label sk-toggleable__label-arrow\">GridSearchCV</label><div class=\"sk-toggleable__content\"><pre>GridSearchCV(cv=5,\n",
       "             estimator=Pipeline(steps=[(&#x27;tr&#x27;,\n",
       "                                        ColumnTransformer(remainder=&#x27;passthrough&#x27;,\n",
       "                                                          transformers=[(&#x27;nums_standard&#x27;,\n",
       "                                                                         StandardScaler(),\n",
       "                                                                         &lt;sklearn.compose._column_transformer.make_column_selector object at 0x0000016A95404430&gt;),\n",
       "                                                                        (&#x27;cats&#x27;,\n",
       "                                                                         OneHotEncoder(drop=&#x27;first&#x27;,\n",
       "                                                                                       handle_unknown=&#x27;ignore&#x27;),\n",
       "                                                                         &lt;sklearn.compose._column_transformer.make_column_selector object at 0x0000016A954044F0&gt;)])),\n",
       "                                       (&#x27;lr&#x27;,\n",
       "                                        LogisticRegression(max_iter=100000.0,\n",
       "                                                           random_state=1234))]),\n",
       "             param_grid={&#x27;lr__C&#x27;: [0.001, 0.01, 0.1, 1, 10, 100, 1000, 10000,\n",
       "                                   100000]},\n",
       "             scoring=&#x27;roc_auc&#x27;)</pre></div></div></div><div class=\"sk-parallel\"><div class=\"sk-parallel-item\"><div class=\"sk-item\"><div class=\"sk-label-container\"><div class=\"sk-label sk-toggleable\"><input class=\"sk-toggleable__control sk-hidden--visually\" id=\"sk-estimator-id-2\" type=\"checkbox\" ><label for=\"sk-estimator-id-2\" class=\"sk-toggleable__label sk-toggleable__label-arrow\">estimator: Pipeline</label><div class=\"sk-toggleable__content\"><pre>Pipeline(steps=[(&#x27;tr&#x27;,\n",
       "                 ColumnTransformer(remainder=&#x27;passthrough&#x27;,\n",
       "                                   transformers=[(&#x27;nums_standard&#x27;,\n",
       "                                                  StandardScaler(),\n",
       "                                                  &lt;sklearn.compose._column_transformer.make_column_selector object at 0x0000016A95404430&gt;),\n",
       "                                                 (&#x27;cats&#x27;,\n",
       "                                                  OneHotEncoder(drop=&#x27;first&#x27;,\n",
       "                                                                handle_unknown=&#x27;ignore&#x27;),\n",
       "                                                  &lt;sklearn.compose._column_transformer.make_column_selector object at 0x0000016A954044F0&gt;)])),\n",
       "                (&#x27;lr&#x27;,\n",
       "                 LogisticRegression(max_iter=100000.0, random_state=1234))])</pre></div></div></div><div class=\"sk-serial\"><div class=\"sk-item\"><div class=\"sk-serial\"><div class=\"sk-item sk-dashed-wrapped\"><div class=\"sk-label-container\"><div class=\"sk-label sk-toggleable\"><input class=\"sk-toggleable__control sk-hidden--visually\" id=\"sk-estimator-id-3\" type=\"checkbox\" ><label for=\"sk-estimator-id-3\" class=\"sk-toggleable__label sk-toggleable__label-arrow\">tr: ColumnTransformer</label><div class=\"sk-toggleable__content\"><pre>ColumnTransformer(remainder=&#x27;passthrough&#x27;,\n",
       "                  transformers=[(&#x27;nums_standard&#x27;, StandardScaler(),\n",
       "                                 &lt;sklearn.compose._column_transformer.make_column_selector object at 0x0000016A95404430&gt;),\n",
       "                                (&#x27;cats&#x27;,\n",
       "                                 OneHotEncoder(drop=&#x27;first&#x27;,\n",
       "                                               handle_unknown=&#x27;ignore&#x27;),\n",
       "                                 &lt;sklearn.compose._column_transformer.make_column_selector object at 0x0000016A954044F0&gt;)])</pre></div></div></div><div class=\"sk-parallel\"><div class=\"sk-parallel-item\"><div class=\"sk-item\"><div class=\"sk-label-container\"><div class=\"sk-label sk-toggleable\"><input class=\"sk-toggleable__control sk-hidden--visually\" id=\"sk-estimator-id-4\" type=\"checkbox\" ><label for=\"sk-estimator-id-4\" class=\"sk-toggleable__label sk-toggleable__label-arrow\">nums_standard</label><div class=\"sk-toggleable__content\"><pre>&lt;sklearn.compose._column_transformer.make_column_selector object at 0x0000016A95404430&gt;</pre></div></div></div><div class=\"sk-serial\"><div class=\"sk-item\"><div class=\"sk-estimator sk-toggleable\"><input class=\"sk-toggleable__control sk-hidden--visually\" id=\"sk-estimator-id-5\" type=\"checkbox\" ><label for=\"sk-estimator-id-5\" class=\"sk-toggleable__label sk-toggleable__label-arrow\">StandardScaler</label><div class=\"sk-toggleable__content\"><pre>StandardScaler()</pre></div></div></div></div></div></div><div class=\"sk-parallel-item\"><div class=\"sk-item\"><div class=\"sk-label-container\"><div class=\"sk-label sk-toggleable\"><input class=\"sk-toggleable__control sk-hidden--visually\" id=\"sk-estimator-id-6\" type=\"checkbox\" ><label for=\"sk-estimator-id-6\" class=\"sk-toggleable__label sk-toggleable__label-arrow\">cats</label><div class=\"sk-toggleable__content\"><pre>&lt;sklearn.compose._column_transformer.make_column_selector object at 0x0000016A954044F0&gt;</pre></div></div></div><div class=\"sk-serial\"><div class=\"sk-item\"><div class=\"sk-estimator sk-toggleable\"><input class=\"sk-toggleable__control sk-hidden--visually\" id=\"sk-estimator-id-7\" type=\"checkbox\" ><label for=\"sk-estimator-id-7\" class=\"sk-toggleable__label sk-toggleable__label-arrow\">OneHotEncoder</label><div class=\"sk-toggleable__content\"><pre>OneHotEncoder(drop=&#x27;first&#x27;, handle_unknown=&#x27;ignore&#x27;)</pre></div></div></div></div></div></div><div class=\"sk-parallel-item\"><div class=\"sk-item\"><div class=\"sk-label-container\"><div class=\"sk-label sk-toggleable\"><input class=\"sk-toggleable__control sk-hidden--visually\" id=\"sk-estimator-id-8\" type=\"checkbox\" ><label for=\"sk-estimator-id-8\" class=\"sk-toggleable__label sk-toggleable__label-arrow\">remainder</label><div class=\"sk-toggleable__content\"><pre></pre></div></div></div><div class=\"sk-serial\"><div class=\"sk-item\"><div class=\"sk-estimator sk-toggleable\"><input class=\"sk-toggleable__control sk-hidden--visually\" id=\"sk-estimator-id-9\" type=\"checkbox\" ><label for=\"sk-estimator-id-9\" class=\"sk-toggleable__label sk-toggleable__label-arrow\">passthrough</label><div class=\"sk-toggleable__content\"><pre>passthrough</pre></div></div></div></div></div></div></div></div><div class=\"sk-item\"><div class=\"sk-estimator sk-toggleable\"><input class=\"sk-toggleable__control sk-hidden--visually\" id=\"sk-estimator-id-10\" type=\"checkbox\" ><label for=\"sk-estimator-id-10\" class=\"sk-toggleable__label sk-toggleable__label-arrow\">LogisticRegression</label><div class=\"sk-toggleable__content\"><pre>LogisticRegression(max_iter=100000.0, random_state=1234)</pre></div></div></div></div></div></div></div></div></div></div></div></div>"
      ],
      "text/plain": [
       "GridSearchCV(cv=5,\n",
       "             estimator=Pipeline(steps=[('tr',\n",
       "                                        ColumnTransformer(remainder='passthrough',\n",
       "                                                          transformers=[('nums_standard',\n",
       "                                                                         StandardScaler(),\n",
       "                                                                         <sklearn.compose._column_transformer.make_column_selector object at 0x0000016A95404430>),\n",
       "                                                                        ('cats',\n",
       "                                                                         OneHotEncoder(drop='first',\n",
       "                                                                                       handle_unknown='ignore'),\n",
       "                                                                         <sklearn.compose._column_transformer.make_column_selector object at 0x0000016A954044F0>)])),\n",
       "                                       ('lr',\n",
       "                                        LogisticRegression(max_iter=100000.0,\n",
       "                                                           random_state=1234))]),\n",
       "             param_grid={'lr__C': [0.001, 0.01, 0.1, 1, 10, 100, 1000, 10000,\n",
       "                                   100000]},\n",
       "             scoring='roc_auc')"
      ]
     },
     "execution_count": 37,
     "metadata": {},
     "output_type": "execute_result"
    }
   ],
   "source": [
    "lr_transformer = ColumnTransformer(transformers=\n",
    "                                [('nums_standard', StandardScaler(), selector(dtype_include=['int', 'float'])),\n",
    "                                 ('cats', OneHotEncoder(drop='first', handle_unknown='ignore'), selector(dtype_include='object'))],\n",
    "                                remainder='passthrough')\n",
    "\n",
    "lr_pipe = Pipeline([('tr', lr_transformer), ('lr', LogisticRegression(random_state=rs, max_iter=10e4))])\n",
    "\n",
    "lr_params = {'lr__C': [0.001, 0.01, 0.1, 1, 10, 100, 1000, 10000, 100000]}\n",
    "\n",
    "lr_gs = GridSearchCV(lr_pipe, param_grid=lr_params, cv=5, scoring='roc_auc', refit=True)\n",
    "lr_gs.fit(x_train, y_train)"
   ]
  },
  {
   "cell_type": "code",
   "execution_count": 38,
   "metadata": {
    "ExecuteTime": {
     "end_time": "2023-10-21T12:13:17.166748Z",
     "start_time": "2023-10-21T12:13:17.138210Z"
    },
    "pycharm": {
     "name": "#%%\n"
    }
   },
   "outputs": [
    {
     "data": {
      "text/html": [
       "<div>\n",
       "<style scoped>\n",
       "    .dataframe tbody tr th:only-of-type {\n",
       "        vertical-align: middle;\n",
       "    }\n",
       "\n",
       "    .dataframe tbody tr th {\n",
       "        vertical-align: top;\n",
       "    }\n",
       "\n",
       "    .dataframe thead th {\n",
       "        text-align: right;\n",
       "    }\n",
       "</style>\n",
       "<table border=\"1\" class=\"dataframe\">\n",
       "  <thead>\n",
       "    <tr style=\"text-align: right;\">\n",
       "      <th></th>\n",
       "      <th>mean_fit_time</th>\n",
       "      <th>std_fit_time</th>\n",
       "      <th>mean_score_time</th>\n",
       "      <th>std_score_time</th>\n",
       "      <th>param_lr__C</th>\n",
       "      <th>params</th>\n",
       "      <th>split0_test_score</th>\n",
       "      <th>split1_test_score</th>\n",
       "      <th>split2_test_score</th>\n",
       "      <th>split3_test_score</th>\n",
       "      <th>split4_test_score</th>\n",
       "      <th>mean_test_score</th>\n",
       "      <th>std_test_score</th>\n",
       "      <th>rank_test_score</th>\n",
       "    </tr>\n",
       "  </thead>\n",
       "  <tbody>\n",
       "    <tr>\n",
       "      <th>4</th>\n",
       "      <td>0.0486</td>\n",
       "      <td>0.0020</td>\n",
       "      <td>0.0078</td>\n",
       "      <td>0.0005</td>\n",
       "      <td>10</td>\n",
       "      <td>{'lr__C': 10}</td>\n",
       "      <td>0.8290</td>\n",
       "      <td>0.8342</td>\n",
       "      <td>0.8575</td>\n",
       "      <td>0.8524</td>\n",
       "      <td>0.8465</td>\n",
       "      <td>0.8439</td>\n",
       "      <td>0.0108</td>\n",
       "      <td>1</td>\n",
       "    </tr>\n",
       "    <tr>\n",
       "      <th>5</th>\n",
       "      <td>0.0498</td>\n",
       "      <td>0.0013</td>\n",
       "      <td>0.0078</td>\n",
       "      <td>0.0004</td>\n",
       "      <td>100</td>\n",
       "      <td>{'lr__C': 100}</td>\n",
       "      <td>0.8288</td>\n",
       "      <td>0.8342</td>\n",
       "      <td>0.8576</td>\n",
       "      <td>0.8524</td>\n",
       "      <td>0.8465</td>\n",
       "      <td>0.8439</td>\n",
       "      <td>0.0108</td>\n",
       "      <td>2</td>\n",
       "    </tr>\n",
       "    <tr>\n",
       "      <th>3</th>\n",
       "      <td>0.0510</td>\n",
       "      <td>0.0036</td>\n",
       "      <td>0.0071</td>\n",
       "      <td>0.0010</td>\n",
       "      <td>1</td>\n",
       "      <td>{'lr__C': 1}</td>\n",
       "      <td>0.8292</td>\n",
       "      <td>0.8340</td>\n",
       "      <td>0.8572</td>\n",
       "      <td>0.8523</td>\n",
       "      <td>0.8467</td>\n",
       "      <td>0.8439</td>\n",
       "      <td>0.0107</td>\n",
       "      <td>3</td>\n",
       "    </tr>\n",
       "    <tr>\n",
       "      <th>7</th>\n",
       "      <td>0.0480</td>\n",
       "      <td>0.0042</td>\n",
       "      <td>0.0067</td>\n",
       "      <td>0.0009</td>\n",
       "      <td>10000</td>\n",
       "      <td>{'lr__C': 10000}</td>\n",
       "      <td>0.8288</td>\n",
       "      <td>0.8342</td>\n",
       "      <td>0.8576</td>\n",
       "      <td>0.8523</td>\n",
       "      <td>0.8465</td>\n",
       "      <td>0.8439</td>\n",
       "      <td>0.0108</td>\n",
       "      <td>4</td>\n",
       "    </tr>\n",
       "    <tr>\n",
       "      <th>8</th>\n",
       "      <td>0.0458</td>\n",
       "      <td>0.0013</td>\n",
       "      <td>0.0078</td>\n",
       "      <td>0.0013</td>\n",
       "      <td>100000</td>\n",
       "      <td>{'lr__C': 100000}</td>\n",
       "      <td>0.8288</td>\n",
       "      <td>0.8342</td>\n",
       "      <td>0.8576</td>\n",
       "      <td>0.8523</td>\n",
       "      <td>0.8465</td>\n",
       "      <td>0.8439</td>\n",
       "      <td>0.0108</td>\n",
       "      <td>4</td>\n",
       "    </tr>\n",
       "    <tr>\n",
       "      <th>6</th>\n",
       "      <td>0.0452</td>\n",
       "      <td>0.0015</td>\n",
       "      <td>0.0068</td>\n",
       "      <td>0.0004</td>\n",
       "      <td>1000</td>\n",
       "      <td>{'lr__C': 1000}</td>\n",
       "      <td>0.8288</td>\n",
       "      <td>0.8342</td>\n",
       "      <td>0.8576</td>\n",
       "      <td>0.8523</td>\n",
       "      <td>0.8465</td>\n",
       "      <td>0.8439</td>\n",
       "      <td>0.0108</td>\n",
       "      <td>6</td>\n",
       "    </tr>\n",
       "    <tr>\n",
       "      <th>2</th>\n",
       "      <td>0.0401</td>\n",
       "      <td>0.0037</td>\n",
       "      <td>0.0072</td>\n",
       "      <td>0.0012</td>\n",
       "      <td>0.1000</td>\n",
       "      <td>{'lr__C': 0.1}</td>\n",
       "      <td>0.8301</td>\n",
       "      <td>0.8328</td>\n",
       "      <td>0.8543</td>\n",
       "      <td>0.8515</td>\n",
       "      <td>0.8464</td>\n",
       "      <td>0.8430</td>\n",
       "      <td>0.0098</td>\n",
       "      <td>7</td>\n",
       "    </tr>\n",
       "    <tr>\n",
       "      <th>1</th>\n",
       "      <td>0.0294</td>\n",
       "      <td>0.0009</td>\n",
       "      <td>0.0077</td>\n",
       "      <td>0.0005</td>\n",
       "      <td>0.0100</td>\n",
       "      <td>{'lr__C': 0.01}</td>\n",
       "      <td>0.8289</td>\n",
       "      <td>0.8281</td>\n",
       "      <td>0.8470</td>\n",
       "      <td>0.8456</td>\n",
       "      <td>0.8405</td>\n",
       "      <td>0.8380</td>\n",
       "      <td>0.0081</td>\n",
       "      <td>8</td>\n",
       "    </tr>\n",
       "    <tr>\n",
       "      <th>0</th>\n",
       "      <td>0.0265</td>\n",
       "      <td>0.0024</td>\n",
       "      <td>0.0096</td>\n",
       "      <td>0.0019</td>\n",
       "      <td>0.0010</td>\n",
       "      <td>{'lr__C': 0.001}</td>\n",
       "      <td>0.8228</td>\n",
       "      <td>0.8252</td>\n",
       "      <td>0.8344</td>\n",
       "      <td>0.8347</td>\n",
       "      <td>0.8309</td>\n",
       "      <td>0.8296</td>\n",
       "      <td>0.0048</td>\n",
       "      <td>9</td>\n",
       "    </tr>\n",
       "  </tbody>\n",
       "</table>\n",
       "</div>"
      ],
      "text/plain": [
       "   mean_fit_time  std_fit_time  mean_score_time  std_score_time param_lr__C  \\\n",
       "4         0.0486        0.0020           0.0078          0.0005          10   \n",
       "5         0.0498        0.0013           0.0078          0.0004         100   \n",
       "3         0.0510        0.0036           0.0071          0.0010           1   \n",
       "7         0.0480        0.0042           0.0067          0.0009       10000   \n",
       "8         0.0458        0.0013           0.0078          0.0013      100000   \n",
       "6         0.0452        0.0015           0.0068          0.0004        1000   \n",
       "2         0.0401        0.0037           0.0072          0.0012      0.1000   \n",
       "1         0.0294        0.0009           0.0077          0.0005      0.0100   \n",
       "0         0.0265        0.0024           0.0096          0.0019      0.0010   \n",
       "\n",
       "              params  split0_test_score  split1_test_score  split2_test_score  \\\n",
       "4      {'lr__C': 10}             0.8290             0.8342             0.8575   \n",
       "5     {'lr__C': 100}             0.8288             0.8342             0.8576   \n",
       "3       {'lr__C': 1}             0.8292             0.8340             0.8572   \n",
       "7   {'lr__C': 10000}             0.8288             0.8342             0.8576   \n",
       "8  {'lr__C': 100000}             0.8288             0.8342             0.8576   \n",
       "6    {'lr__C': 1000}             0.8288             0.8342             0.8576   \n",
       "2     {'lr__C': 0.1}             0.8301             0.8328             0.8543   \n",
       "1    {'lr__C': 0.01}             0.8289             0.8281             0.8470   \n",
       "0   {'lr__C': 0.001}             0.8228             0.8252             0.8344   \n",
       "\n",
       "   split3_test_score  split4_test_score  mean_test_score  std_test_score  \\\n",
       "4             0.8524             0.8465           0.8439          0.0108   \n",
       "5             0.8524             0.8465           0.8439          0.0108   \n",
       "3             0.8523             0.8467           0.8439          0.0107   \n",
       "7             0.8523             0.8465           0.8439          0.0108   \n",
       "8             0.8523             0.8465           0.8439          0.0108   \n",
       "6             0.8523             0.8465           0.8439          0.0108   \n",
       "2             0.8515             0.8464           0.8430          0.0098   \n",
       "1             0.8456             0.8405           0.8380          0.0081   \n",
       "0             0.8347             0.8309           0.8296          0.0048   \n",
       "\n",
       "   rank_test_score  \n",
       "4                1  \n",
       "5                2  \n",
       "3                3  \n",
       "7                4  \n",
       "8                4  \n",
       "6                6  \n",
       "2                7  \n",
       "1                8  \n",
       "0                9  "
      ]
     },
     "execution_count": 38,
     "metadata": {},
     "output_type": "execute_result"
    }
   ],
   "source": [
    "pd.DataFrame(lr_gs.cv_results_).sort_values('rank_test_score')"
   ]
  },
  {
   "cell_type": "code",
   "execution_count": 39,
   "metadata": {
    "ExecuteTime": {
     "end_time": "2023-10-21T12:13:17.182033Z",
     "start_time": "2023-10-21T12:13:17.170874Z"
    }
   },
   "outputs": [
    {
     "data": {
      "text/plain": [
       "0.8438981448520846"
      ]
     },
     "execution_count": 39,
     "metadata": {},
     "output_type": "execute_result"
    }
   ],
   "source": [
    "lr_gs.best_score_"
   ]
  },
  {
   "cell_type": "code",
   "execution_count": 40,
   "metadata": {
    "ExecuteTime": {
     "end_time": "2023-10-21T12:13:17.197208Z",
     "start_time": "2023-10-21T12:13:17.184004Z"
    },
    "pycharm": {
     "name": "#%%\n"
    }
   },
   "outputs": [
    {
     "data": {
      "text/plain": [
       "{'lr__C': 10}"
      ]
     },
     "execution_count": 40,
     "metadata": {},
     "output_type": "execute_result"
    }
   ],
   "source": [
    "lr_gs.best_params_"
   ]
  },
  {
   "cell_type": "code",
   "execution_count": 41,
   "metadata": {
    "ExecuteTime": {
     "end_time": "2023-10-21T12:13:17.212618Z",
     "start_time": "2023-10-21T12:13:17.199332Z"
    },
    "pycharm": {
     "name": "#%%\n"
    }
   },
   "outputs": [],
   "source": [
    "lr_best_model = lr_gs.best_estimator_"
   ]
  },
  {
   "cell_type": "markdown",
   "metadata": {},
   "source": [
    "Посмотрим, какой скор на тестовой выборке, которую модель не видела"
   ]
  },
  {
   "cell_type": "code",
   "execution_count": 42,
   "metadata": {
    "ExecuteTime": {
     "end_time": "2023-10-21T12:13:17.227806Z",
     "start_time": "2023-10-21T12:13:17.214583Z"
    }
   },
   "outputs": [
    {
     "data": {
      "text/plain": [
       "0.8431791424556606"
      ]
     },
     "execution_count": 42,
     "metadata": {},
     "output_type": "execute_result"
    }
   ],
   "source": [
    "roc_auc_score(y_test, lr_best_model.predict_proba(x_test)[:, 1])"
   ]
  },
  {
   "cell_type": "markdown",
   "metadata": {},
   "source": [
    "Скор схож с обучением, этого свидетельствует об отсутствии переобучения. Хотя в данной задаче сильно влияние random_state. Например, при random_state=123 скоры следующие: 0.85/0.81 при стандартном отклонении кросс-валидации = 0.01"
   ]
  },
  {
   "cell_type": "markdown",
   "metadata": {},
   "source": [
    "Сохраним в файл предсказание текущей модели, а также текущей модели, но уже обученной на полном размеченном наборе данных"
   ]
  },
  {
   "cell_type": "code",
   "execution_count": 43,
   "metadata": {
    "ExecuteTime": {
     "end_time": "2023-10-21T12:13:17.305813Z",
     "start_time": "2023-10-21T12:13:17.229111Z"
    }
   },
   "outputs": [],
   "source": [
    "y_private.assign(**{'Churn': lr_best_model.predict_proba(x_private)[:, 1]}).to_csv('lr_train_sample.csv', index=False)\n",
    "# 0.84512 on Kaggle\n",
    "\n",
    "y_private.assign(**{'Churn': lr_best_model.fit(x, y).predict_proba(x_private)[:, 1]}).to_csv('lr_full_sample.csv', index=False)\n",
    "# 0.84572 on Kaggle"
   ]
  },
  {
   "cell_type": "markdown",
   "metadata": {
    "pycharm": {
     "name": "#%% md\n"
    }
   },
   "source": [
    "## Применение дерева решений"
   ]
  },
  {
   "cell_type": "code",
   "execution_count": 44,
   "metadata": {
    "ExecuteTime": {
     "end_time": "2023-10-21T12:13:54.287703Z",
     "start_time": "2023-10-21T12:13:17.307778Z"
    },
    "pycharm": {
     "name": "#%%\n"
    }
   },
   "outputs": [
    {
     "data": {
      "text/html": [
       "<style>#sk-container-id-2 {color: black;background-color: white;}#sk-container-id-2 pre{padding: 0;}#sk-container-id-2 div.sk-toggleable {background-color: white;}#sk-container-id-2 label.sk-toggleable__label {cursor: pointer;display: block;width: 100%;margin-bottom: 0;padding: 0.3em;box-sizing: border-box;text-align: center;}#sk-container-id-2 label.sk-toggleable__label-arrow:before {content: \"▸\";float: left;margin-right: 0.25em;color: #696969;}#sk-container-id-2 label.sk-toggleable__label-arrow:hover:before {color: black;}#sk-container-id-2 div.sk-estimator:hover label.sk-toggleable__label-arrow:before {color: black;}#sk-container-id-2 div.sk-toggleable__content {max-height: 0;max-width: 0;overflow: hidden;text-align: left;background-color: #f0f8ff;}#sk-container-id-2 div.sk-toggleable__content pre {margin: 0.2em;color: black;border-radius: 0.25em;background-color: #f0f8ff;}#sk-container-id-2 input.sk-toggleable__control:checked~div.sk-toggleable__content {max-height: 200px;max-width: 100%;overflow: auto;}#sk-container-id-2 input.sk-toggleable__control:checked~label.sk-toggleable__label-arrow:before {content: \"▾\";}#sk-container-id-2 div.sk-estimator input.sk-toggleable__control:checked~label.sk-toggleable__label {background-color: #d4ebff;}#sk-container-id-2 div.sk-label input.sk-toggleable__control:checked~label.sk-toggleable__label {background-color: #d4ebff;}#sk-container-id-2 input.sk-hidden--visually {border: 0;clip: rect(1px 1px 1px 1px);clip: rect(1px, 1px, 1px, 1px);height: 1px;margin: -1px;overflow: hidden;padding: 0;position: absolute;width: 1px;}#sk-container-id-2 div.sk-estimator {font-family: monospace;background-color: #f0f8ff;border: 1px dotted black;border-radius: 0.25em;box-sizing: border-box;margin-bottom: 0.5em;}#sk-container-id-2 div.sk-estimator:hover {background-color: #d4ebff;}#sk-container-id-2 div.sk-parallel-item::after {content: \"\";width: 100%;border-bottom: 1px solid gray;flex-grow: 1;}#sk-container-id-2 div.sk-label:hover label.sk-toggleable__label {background-color: #d4ebff;}#sk-container-id-2 div.sk-serial::before {content: \"\";position: absolute;border-left: 1px solid gray;box-sizing: border-box;top: 0;bottom: 0;left: 50%;z-index: 0;}#sk-container-id-2 div.sk-serial {display: flex;flex-direction: column;align-items: center;background-color: white;padding-right: 0.2em;padding-left: 0.2em;position: relative;}#sk-container-id-2 div.sk-item {position: relative;z-index: 1;}#sk-container-id-2 div.sk-parallel {display: flex;align-items: stretch;justify-content: center;background-color: white;position: relative;}#sk-container-id-2 div.sk-item::before, #sk-container-id-2 div.sk-parallel-item::before {content: \"\";position: absolute;border-left: 1px solid gray;box-sizing: border-box;top: 0;bottom: 0;left: 50%;z-index: -1;}#sk-container-id-2 div.sk-parallel-item {display: flex;flex-direction: column;z-index: 1;position: relative;background-color: white;}#sk-container-id-2 div.sk-parallel-item:first-child::after {align-self: flex-end;width: 50%;}#sk-container-id-2 div.sk-parallel-item:last-child::after {align-self: flex-start;width: 50%;}#sk-container-id-2 div.sk-parallel-item:only-child::after {width: 0;}#sk-container-id-2 div.sk-dashed-wrapped {border: 1px dashed gray;margin: 0 0.4em 0.5em 0.4em;box-sizing: border-box;padding-bottom: 0.4em;background-color: white;}#sk-container-id-2 div.sk-label label {font-family: monospace;font-weight: bold;display: inline-block;line-height: 1.2em;}#sk-container-id-2 div.sk-label-container {text-align: center;}#sk-container-id-2 div.sk-container {/* jupyter's `normalize.less` sets `[hidden] { display: none; }` but bootstrap.min.css set `[hidden] { display: none !important; }` so we also need the `!important` here to be able to override the default hidden behavior on the sphinx rendered scikit-learn.org. See: https://github.com/scikit-learn/scikit-learn/issues/21755 */display: inline-block !important;position: relative;}#sk-container-id-2 div.sk-text-repr-fallback {display: none;}</style><div id=\"sk-container-id-2\" class=\"sk-top-container\"><div class=\"sk-text-repr-fallback\"><pre>GridSearchCV(cv=5,\n",
       "             estimator=Pipeline(steps=[(&#x27;tr&#x27;,\n",
       "                                        ColumnTransformer(remainder=&#x27;passthrough&#x27;,\n",
       "                                                          transformers=[(&#x27;cats&#x27;,\n",
       "                                                                         OneHotEncoder(drop=&#x27;first&#x27;,\n",
       "                                                                                       handle_unknown=&#x27;ignore&#x27;),\n",
       "                                                                         &lt;sklearn.compose._column_transformer.make_column_selector object at 0x0000016A95414910&gt;)])),\n",
       "                                       (&#x27;rfc&#x27;,\n",
       "                                        RandomForestClassifier(random_state=1234))]),\n",
       "             param_grid={&#x27;rfc__max_depth&#x27;: [4, 5, 6, 7, 8],\n",
       "                         &#x27;rfc__n_estimators&#x27;: (40, 50, 60, 70, 80, 90, 100)},\n",
       "             scoring=&#x27;roc_auc&#x27;)</pre><b>In a Jupyter environment, please rerun this cell to show the HTML representation or trust the notebook. <br />On GitHub, the HTML representation is unable to render, please try loading this page with nbviewer.org.</b></div><div class=\"sk-container\" hidden><div class=\"sk-item sk-dashed-wrapped\"><div class=\"sk-label-container\"><div class=\"sk-label sk-toggleable\"><input class=\"sk-toggleable__control sk-hidden--visually\" id=\"sk-estimator-id-11\" type=\"checkbox\" ><label for=\"sk-estimator-id-11\" class=\"sk-toggleable__label sk-toggleable__label-arrow\">GridSearchCV</label><div class=\"sk-toggleable__content\"><pre>GridSearchCV(cv=5,\n",
       "             estimator=Pipeline(steps=[(&#x27;tr&#x27;,\n",
       "                                        ColumnTransformer(remainder=&#x27;passthrough&#x27;,\n",
       "                                                          transformers=[(&#x27;cats&#x27;,\n",
       "                                                                         OneHotEncoder(drop=&#x27;first&#x27;,\n",
       "                                                                                       handle_unknown=&#x27;ignore&#x27;),\n",
       "                                                                         &lt;sklearn.compose._column_transformer.make_column_selector object at 0x0000016A95414910&gt;)])),\n",
       "                                       (&#x27;rfc&#x27;,\n",
       "                                        RandomForestClassifier(random_state=1234))]),\n",
       "             param_grid={&#x27;rfc__max_depth&#x27;: [4, 5, 6, 7, 8],\n",
       "                         &#x27;rfc__n_estimators&#x27;: (40, 50, 60, 70, 80, 90, 100)},\n",
       "             scoring=&#x27;roc_auc&#x27;)</pre></div></div></div><div class=\"sk-parallel\"><div class=\"sk-parallel-item\"><div class=\"sk-item\"><div class=\"sk-label-container\"><div class=\"sk-label sk-toggleable\"><input class=\"sk-toggleable__control sk-hidden--visually\" id=\"sk-estimator-id-12\" type=\"checkbox\" ><label for=\"sk-estimator-id-12\" class=\"sk-toggleable__label sk-toggleable__label-arrow\">estimator: Pipeline</label><div class=\"sk-toggleable__content\"><pre>Pipeline(steps=[(&#x27;tr&#x27;,\n",
       "                 ColumnTransformer(remainder=&#x27;passthrough&#x27;,\n",
       "                                   transformers=[(&#x27;cats&#x27;,\n",
       "                                                  OneHotEncoder(drop=&#x27;first&#x27;,\n",
       "                                                                handle_unknown=&#x27;ignore&#x27;),\n",
       "                                                  &lt;sklearn.compose._column_transformer.make_column_selector object at 0x0000016A95414910&gt;)])),\n",
       "                (&#x27;rfc&#x27;, RandomForestClassifier(random_state=1234))])</pre></div></div></div><div class=\"sk-serial\"><div class=\"sk-item\"><div class=\"sk-serial\"><div class=\"sk-item sk-dashed-wrapped\"><div class=\"sk-label-container\"><div class=\"sk-label sk-toggleable\"><input class=\"sk-toggleable__control sk-hidden--visually\" id=\"sk-estimator-id-13\" type=\"checkbox\" ><label for=\"sk-estimator-id-13\" class=\"sk-toggleable__label sk-toggleable__label-arrow\">tr: ColumnTransformer</label><div class=\"sk-toggleable__content\"><pre>ColumnTransformer(remainder=&#x27;passthrough&#x27;,\n",
       "                  transformers=[(&#x27;cats&#x27;,\n",
       "                                 OneHotEncoder(drop=&#x27;first&#x27;,\n",
       "                                               handle_unknown=&#x27;ignore&#x27;),\n",
       "                                 &lt;sklearn.compose._column_transformer.make_column_selector object at 0x0000016A95414910&gt;)])</pre></div></div></div><div class=\"sk-parallel\"><div class=\"sk-parallel-item\"><div class=\"sk-item\"><div class=\"sk-label-container\"><div class=\"sk-label sk-toggleable\"><input class=\"sk-toggleable__control sk-hidden--visually\" id=\"sk-estimator-id-14\" type=\"checkbox\" ><label for=\"sk-estimator-id-14\" class=\"sk-toggleable__label sk-toggleable__label-arrow\">cats</label><div class=\"sk-toggleable__content\"><pre>&lt;sklearn.compose._column_transformer.make_column_selector object at 0x0000016A95414910&gt;</pre></div></div></div><div class=\"sk-serial\"><div class=\"sk-item\"><div class=\"sk-estimator sk-toggleable\"><input class=\"sk-toggleable__control sk-hidden--visually\" id=\"sk-estimator-id-15\" type=\"checkbox\" ><label for=\"sk-estimator-id-15\" class=\"sk-toggleable__label sk-toggleable__label-arrow\">OneHotEncoder</label><div class=\"sk-toggleable__content\"><pre>OneHotEncoder(drop=&#x27;first&#x27;, handle_unknown=&#x27;ignore&#x27;)</pre></div></div></div></div></div></div><div class=\"sk-parallel-item\"><div class=\"sk-item\"><div class=\"sk-label-container\"><div class=\"sk-label sk-toggleable\"><input class=\"sk-toggleable__control sk-hidden--visually\" id=\"sk-estimator-id-16\" type=\"checkbox\" ><label for=\"sk-estimator-id-16\" class=\"sk-toggleable__label sk-toggleable__label-arrow\">remainder</label><div class=\"sk-toggleable__content\"><pre></pre></div></div></div><div class=\"sk-serial\"><div class=\"sk-item\"><div class=\"sk-estimator sk-toggleable\"><input class=\"sk-toggleable__control sk-hidden--visually\" id=\"sk-estimator-id-17\" type=\"checkbox\" ><label for=\"sk-estimator-id-17\" class=\"sk-toggleable__label sk-toggleable__label-arrow\">passthrough</label><div class=\"sk-toggleable__content\"><pre>passthrough</pre></div></div></div></div></div></div></div></div><div class=\"sk-item\"><div class=\"sk-estimator sk-toggleable\"><input class=\"sk-toggleable__control sk-hidden--visually\" id=\"sk-estimator-id-18\" type=\"checkbox\" ><label for=\"sk-estimator-id-18\" class=\"sk-toggleable__label sk-toggleable__label-arrow\">RandomForestClassifier</label><div class=\"sk-toggleable__content\"><pre>RandomForestClassifier(random_state=1234)</pre></div></div></div></div></div></div></div></div></div></div></div></div>"
      ],
      "text/plain": [
       "GridSearchCV(cv=5,\n",
       "             estimator=Pipeline(steps=[('tr',\n",
       "                                        ColumnTransformer(remainder='passthrough',\n",
       "                                                          transformers=[('cats',\n",
       "                                                                         OneHotEncoder(drop='first',\n",
       "                                                                                       handle_unknown='ignore'),\n",
       "                                                                         <sklearn.compose._column_transformer.make_column_selector object at 0x0000016A95414910>)])),\n",
       "                                       ('rfc',\n",
       "                                        RandomForestClassifier(random_state=1234))]),\n",
       "             param_grid={'rfc__max_depth': [4, 5, 6, 7, 8],\n",
       "                         'rfc__n_estimators': (40, 50, 60, 70, 80, 90, 100)},\n",
       "             scoring='roc_auc')"
      ]
     },
     "execution_count": 44,
     "metadata": {},
     "output_type": "execute_result"
    }
   ],
   "source": [
    "tf_transformer = ColumnTransformer(transformers=\n",
    "                                [('cats', OneHotEncoder(drop='first', handle_unknown='ignore'), selector(dtype_include='object'))],\n",
    "                                remainder='passthrough')\n",
    "\n",
    "\n",
    "\n",
    "rf_pipe = Pipeline([('tr', tf_transformer), ('rfc', RandomForestClassifier(random_state=rs))])\n",
    "\n",
    "rf_params = {'rfc__n_estimators': (40, 50, 60, 70, 80, 90, 100), 'rfc__max_depth': [4, 5, 6, 7, 8]}\n",
    "\n",
    "rf_gs = GridSearchCV(rf_pipe, param_grid=rf_params, cv=5, scoring='roc_auc', refit=True)\n",
    "rf_gs.fit(x_train, y_train,)"
   ]
  },
  {
   "cell_type": "code",
   "execution_count": 45,
   "metadata": {
    "ExecuteTime": {
     "end_time": "2023-10-21T12:13:54.319739Z",
     "start_time": "2023-10-21T12:13:54.289707Z"
    },
    "pycharm": {
     "name": "#%%\n"
    }
   },
   "outputs": [
    {
     "data": {
      "text/html": [
       "<div>\n",
       "<style scoped>\n",
       "    .dataframe tbody tr th:only-of-type {\n",
       "        vertical-align: middle;\n",
       "    }\n",
       "\n",
       "    .dataframe tbody tr th {\n",
       "        vertical-align: top;\n",
       "    }\n",
       "\n",
       "    .dataframe thead th {\n",
       "        text-align: right;\n",
       "    }\n",
       "</style>\n",
       "<table border=\"1\" class=\"dataframe\">\n",
       "  <thead>\n",
       "    <tr style=\"text-align: right;\">\n",
       "      <th></th>\n",
       "      <th>mean_fit_time</th>\n",
       "      <th>std_fit_time</th>\n",
       "      <th>mean_score_time</th>\n",
       "      <th>std_score_time</th>\n",
       "      <th>param_rfc__max_depth</th>\n",
       "      <th>param_rfc__n_estimators</th>\n",
       "      <th>params</th>\n",
       "      <th>split0_test_score</th>\n",
       "      <th>split1_test_score</th>\n",
       "      <th>split2_test_score</th>\n",
       "      <th>split3_test_score</th>\n",
       "      <th>split4_test_score</th>\n",
       "      <th>mean_test_score</th>\n",
       "      <th>std_test_score</th>\n",
       "      <th>rank_test_score</th>\n",
       "    </tr>\n",
       "  </thead>\n",
       "  <tbody>\n",
       "    <tr>\n",
       "      <th>27</th>\n",
       "      <td>0.2540</td>\n",
       "      <td>0.0049</td>\n",
       "      <td>0.0222</td>\n",
       "      <td>0.0010</td>\n",
       "      <td>7</td>\n",
       "      <td>100</td>\n",
       "      <td>{'rfc__max_depth': 7, 'rfc__n_estimators': 100}</td>\n",
       "      <td>0.8196</td>\n",
       "      <td>0.8432</td>\n",
       "      <td>0.8523</td>\n",
       "      <td>0.8501</td>\n",
       "      <td>0.8488</td>\n",
       "      <td>0.8428</td>\n",
       "      <td>0.0120</td>\n",
       "      <td>1</td>\n",
       "    </tr>\n",
       "    <tr>\n",
       "      <th>25</th>\n",
       "      <td>0.2108</td>\n",
       "      <td>0.0050</td>\n",
       "      <td>0.0204</td>\n",
       "      <td>0.0030</td>\n",
       "      <td>7</td>\n",
       "      <td>80</td>\n",
       "      <td>{'rfc__max_depth': 7, 'rfc__n_estimators': 80}</td>\n",
       "      <td>0.8203</td>\n",
       "      <td>0.8432</td>\n",
       "      <td>0.8517</td>\n",
       "      <td>0.8497</td>\n",
       "      <td>0.8483</td>\n",
       "      <td>0.8427</td>\n",
       "      <td>0.0115</td>\n",
       "      <td>2</td>\n",
       "    </tr>\n",
       "    <tr>\n",
       "      <th>26</th>\n",
       "      <td>0.2236</td>\n",
       "      <td>0.0058</td>\n",
       "      <td>0.0208</td>\n",
       "      <td>0.0015</td>\n",
       "      <td>7</td>\n",
       "      <td>90</td>\n",
       "      <td>{'rfc__max_depth': 7, 'rfc__n_estimators': 90}</td>\n",
       "      <td>0.8197</td>\n",
       "      <td>0.8423</td>\n",
       "      <td>0.8525</td>\n",
       "      <td>0.8499</td>\n",
       "      <td>0.8486</td>\n",
       "      <td>0.8426</td>\n",
       "      <td>0.0119</td>\n",
       "      <td>3</td>\n",
       "    </tr>\n",
       "    <tr>\n",
       "      <th>24</th>\n",
       "      <td>0.1852</td>\n",
       "      <td>0.0051</td>\n",
       "      <td>0.0182</td>\n",
       "      <td>0.0007</td>\n",
       "      <td>7</td>\n",
       "      <td>70</td>\n",
       "      <td>{'rfc__max_depth': 7, 'rfc__n_estimators': 70}</td>\n",
       "      <td>0.8207</td>\n",
       "      <td>0.8425</td>\n",
       "      <td>0.8505</td>\n",
       "      <td>0.8501</td>\n",
       "      <td>0.8479</td>\n",
       "      <td>0.8423</td>\n",
       "      <td>0.0112</td>\n",
       "      <td>4</td>\n",
       "    </tr>\n",
       "    <tr>\n",
       "      <th>18</th>\n",
       "      <td>0.2062</td>\n",
       "      <td>0.0073</td>\n",
       "      <td>0.0202</td>\n",
       "      <td>0.0015</td>\n",
       "      <td>6</td>\n",
       "      <td>80</td>\n",
       "      <td>{'rfc__max_depth': 6, 'rfc__n_estimators': 80}</td>\n",
       "      <td>0.8215</td>\n",
       "      <td>0.8411</td>\n",
       "      <td>0.8528</td>\n",
       "      <td>0.8477</td>\n",
       "      <td>0.8483</td>\n",
       "      <td>0.8423</td>\n",
       "      <td>0.0110</td>\n",
       "      <td>5</td>\n",
       "    </tr>\n",
       "    <tr>\n",
       "      <th>19</th>\n",
       "      <td>0.2254</td>\n",
       "      <td>0.0138</td>\n",
       "      <td>0.0200</td>\n",
       "      <td>0.0010</td>\n",
       "      <td>6</td>\n",
       "      <td>90</td>\n",
       "      <td>{'rfc__max_depth': 6, 'rfc__n_estimators': 90}</td>\n",
       "      <td>0.8220</td>\n",
       "      <td>0.8409</td>\n",
       "      <td>0.8526</td>\n",
       "      <td>0.8472</td>\n",
       "      <td>0.8481</td>\n",
       "      <td>0.8422</td>\n",
       "      <td>0.0108</td>\n",
       "      <td>6</td>\n",
       "    </tr>\n",
       "    <tr>\n",
       "      <th>20</th>\n",
       "      <td>0.2563</td>\n",
       "      <td>0.0219</td>\n",
       "      <td>0.0232</td>\n",
       "      <td>0.0012</td>\n",
       "      <td>6</td>\n",
       "      <td>100</td>\n",
       "      <td>{'rfc__max_depth': 6, 'rfc__n_estimators': 100}</td>\n",
       "      <td>0.8217</td>\n",
       "      <td>0.8405</td>\n",
       "      <td>0.8524</td>\n",
       "      <td>0.8474</td>\n",
       "      <td>0.8483</td>\n",
       "      <td>0.8421</td>\n",
       "      <td>0.0109</td>\n",
       "      <td>7</td>\n",
       "    </tr>\n",
       "    <tr>\n",
       "      <th>34</th>\n",
       "      <td>0.2852</td>\n",
       "      <td>0.0082</td>\n",
       "      <td>0.0242</td>\n",
       "      <td>0.0026</td>\n",
       "      <td>8</td>\n",
       "      <td>100</td>\n",
       "      <td>{'rfc__max_depth': 8, 'rfc__n_estimators': 100}</td>\n",
       "      <td>0.8230</td>\n",
       "      <td>0.8423</td>\n",
       "      <td>0.8484</td>\n",
       "      <td>0.8494</td>\n",
       "      <td>0.8465</td>\n",
       "      <td>0.8420</td>\n",
       "      <td>0.0098</td>\n",
       "      <td>8</td>\n",
       "    </tr>\n",
       "    <tr>\n",
       "      <th>23</th>\n",
       "      <td>0.1721</td>\n",
       "      <td>0.0050</td>\n",
       "      <td>0.0173</td>\n",
       "      <td>0.0007</td>\n",
       "      <td>7</td>\n",
       "      <td>60</td>\n",
       "      <td>{'rfc__max_depth': 7, 'rfc__n_estimators': 60}</td>\n",
       "      <td>0.8204</td>\n",
       "      <td>0.8424</td>\n",
       "      <td>0.8505</td>\n",
       "      <td>0.8496</td>\n",
       "      <td>0.8468</td>\n",
       "      <td>0.8419</td>\n",
       "      <td>0.0111</td>\n",
       "      <td>9</td>\n",
       "    </tr>\n",
       "    <tr>\n",
       "      <th>17</th>\n",
       "      <td>0.1849</td>\n",
       "      <td>0.0063</td>\n",
       "      <td>0.0186</td>\n",
       "      <td>0.0014</td>\n",
       "      <td>6</td>\n",
       "      <td>70</td>\n",
       "      <td>{'rfc__max_depth': 6, 'rfc__n_estimators': 70}</td>\n",
       "      <td>0.8212</td>\n",
       "      <td>0.8401</td>\n",
       "      <td>0.8532</td>\n",
       "      <td>0.8473</td>\n",
       "      <td>0.8476</td>\n",
       "      <td>0.8419</td>\n",
       "      <td>0.0112</td>\n",
       "      <td>10</td>\n",
       "    </tr>\n",
       "    <tr>\n",
       "      <th>22</th>\n",
       "      <td>0.1392</td>\n",
       "      <td>0.0049</td>\n",
       "      <td>0.0150</td>\n",
       "      <td>0.0013</td>\n",
       "      <td>7</td>\n",
       "      <td>50</td>\n",
       "      <td>{'rfc__max_depth': 7, 'rfc__n_estimators': 50}</td>\n",
       "      <td>0.8186</td>\n",
       "      <td>0.8431</td>\n",
       "      <td>0.8499</td>\n",
       "      <td>0.8499</td>\n",
       "      <td>0.8464</td>\n",
       "      <td>0.8416</td>\n",
       "      <td>0.0117</td>\n",
       "      <td>11</td>\n",
       "    </tr>\n",
       "    <tr>\n",
       "      <th>16</th>\n",
       "      <td>0.1623</td>\n",
       "      <td>0.0070</td>\n",
       "      <td>0.0162</td>\n",
       "      <td>0.0008</td>\n",
       "      <td>6</td>\n",
       "      <td>60</td>\n",
       "      <td>{'rfc__max_depth': 6, 'rfc__n_estimators': 60}</td>\n",
       "      <td>0.8206</td>\n",
       "      <td>0.8390</td>\n",
       "      <td>0.8536</td>\n",
       "      <td>0.8469</td>\n",
       "      <td>0.8478</td>\n",
       "      <td>0.8416</td>\n",
       "      <td>0.0115</td>\n",
       "      <td>12</td>\n",
       "    </tr>\n",
       "    <tr>\n",
       "      <th>32</th>\n",
       "      <td>0.2188</td>\n",
       "      <td>0.0083</td>\n",
       "      <td>0.0200</td>\n",
       "      <td>0.0009</td>\n",
       "      <td>8</td>\n",
       "      <td>80</td>\n",
       "      <td>{'rfc__max_depth': 8, 'rfc__n_estimators': 80}</td>\n",
       "      <td>0.8220</td>\n",
       "      <td>0.8434</td>\n",
       "      <td>0.8485</td>\n",
       "      <td>0.8484</td>\n",
       "      <td>0.8452</td>\n",
       "      <td>0.8415</td>\n",
       "      <td>0.0100</td>\n",
       "      <td>13</td>\n",
       "    </tr>\n",
       "    <tr>\n",
       "      <th>33</th>\n",
       "      <td>0.2556</td>\n",
       "      <td>0.0147</td>\n",
       "      <td>0.0238</td>\n",
       "      <td>0.0024</td>\n",
       "      <td>8</td>\n",
       "      <td>90</td>\n",
       "      <td>{'rfc__max_depth': 8, 'rfc__n_estimators': 90}</td>\n",
       "      <td>0.8224</td>\n",
       "      <td>0.8426</td>\n",
       "      <td>0.8477</td>\n",
       "      <td>0.8490</td>\n",
       "      <td>0.8456</td>\n",
       "      <td>0.8414</td>\n",
       "      <td>0.0098</td>\n",
       "      <td>14</td>\n",
       "    </tr>\n",
       "    <tr>\n",
       "      <th>21</th>\n",
       "      <td>0.1126</td>\n",
       "      <td>0.0040</td>\n",
       "      <td>0.0124</td>\n",
       "      <td>0.0008</td>\n",
       "      <td>7</td>\n",
       "      <td>40</td>\n",
       "      <td>{'rfc__max_depth': 7, 'rfc__n_estimators': 40}</td>\n",
       "      <td>0.8184</td>\n",
       "      <td>0.8432</td>\n",
       "      <td>0.8498</td>\n",
       "      <td>0.8499</td>\n",
       "      <td>0.8458</td>\n",
       "      <td>0.8414</td>\n",
       "      <td>0.0118</td>\n",
       "      <td>15</td>\n",
       "    </tr>\n",
       "    <tr>\n",
       "      <th>14</th>\n",
       "      <td>0.1240</td>\n",
       "      <td>0.0091</td>\n",
       "      <td>0.0134</td>\n",
       "      <td>0.0005</td>\n",
       "      <td>6</td>\n",
       "      <td>40</td>\n",
       "      <td>{'rfc__max_depth': 6, 'rfc__n_estimators': 40}</td>\n",
       "      <td>0.8202</td>\n",
       "      <td>0.8412</td>\n",
       "      <td>0.8519</td>\n",
       "      <td>0.8475</td>\n",
       "      <td>0.8451</td>\n",
       "      <td>0.8412</td>\n",
       "      <td>0.0110</td>\n",
       "      <td>16</td>\n",
       "    </tr>\n",
       "    <tr>\n",
       "      <th>15</th>\n",
       "      <td>0.1393</td>\n",
       "      <td>0.0114</td>\n",
       "      <td>0.0148</td>\n",
       "      <td>0.0011</td>\n",
       "      <td>6</td>\n",
       "      <td>50</td>\n",
       "      <td>{'rfc__max_depth': 6, 'rfc__n_estimators': 50}</td>\n",
       "      <td>0.8204</td>\n",
       "      <td>0.8400</td>\n",
       "      <td>0.8524</td>\n",
       "      <td>0.8466</td>\n",
       "      <td>0.8452</td>\n",
       "      <td>0.8409</td>\n",
       "      <td>0.0110</td>\n",
       "      <td>17</td>\n",
       "    </tr>\n",
       "    <tr>\n",
       "      <th>31</th>\n",
       "      <td>0.1990</td>\n",
       "      <td>0.0103</td>\n",
       "      <td>0.0188</td>\n",
       "      <td>0.0023</td>\n",
       "      <td>8</td>\n",
       "      <td>70</td>\n",
       "      <td>{'rfc__max_depth': 8, 'rfc__n_estimators': 70}</td>\n",
       "      <td>0.8210</td>\n",
       "      <td>0.8442</td>\n",
       "      <td>0.8475</td>\n",
       "      <td>0.8476</td>\n",
       "      <td>0.8441</td>\n",
       "      <td>0.8409</td>\n",
       "      <td>0.0101</td>\n",
       "      <td>18</td>\n",
       "    </tr>\n",
       "    <tr>\n",
       "      <th>30</th>\n",
       "      <td>0.1830</td>\n",
       "      <td>0.0224</td>\n",
       "      <td>0.0176</td>\n",
       "      <td>0.0005</td>\n",
       "      <td>8</td>\n",
       "      <td>60</td>\n",
       "      <td>{'rfc__max_depth': 8, 'rfc__n_estimators': 60}</td>\n",
       "      <td>0.8216</td>\n",
       "      <td>0.8422</td>\n",
       "      <td>0.8482</td>\n",
       "      <td>0.8469</td>\n",
       "      <td>0.8424</td>\n",
       "      <td>0.8403</td>\n",
       "      <td>0.0096</td>\n",
       "      <td>19</td>\n",
       "    </tr>\n",
       "    <tr>\n",
       "      <th>10</th>\n",
       "      <td>0.2034</td>\n",
       "      <td>0.0417</td>\n",
       "      <td>0.0204</td>\n",
       "      <td>0.0059</td>\n",
       "      <td>5</td>\n",
       "      <td>70</td>\n",
       "      <td>{'rfc__max_depth': 5, 'rfc__n_estimators': 70}</td>\n",
       "      <td>0.8171</td>\n",
       "      <td>0.8409</td>\n",
       "      <td>0.8499</td>\n",
       "      <td>0.8436</td>\n",
       "      <td>0.8498</td>\n",
       "      <td>0.8403</td>\n",
       "      <td>0.0121</td>\n",
       "      <td>20</td>\n",
       "    </tr>\n",
       "    <tr>\n",
       "      <th>29</th>\n",
       "      <td>0.1471</td>\n",
       "      <td>0.0028</td>\n",
       "      <td>0.0148</td>\n",
       "      <td>0.0004</td>\n",
       "      <td>8</td>\n",
       "      <td>50</td>\n",
       "      <td>{'rfc__max_depth': 8, 'rfc__n_estimators': 50}</td>\n",
       "      <td>0.8218</td>\n",
       "      <td>0.8423</td>\n",
       "      <td>0.8481</td>\n",
       "      <td>0.8466</td>\n",
       "      <td>0.8417</td>\n",
       "      <td>0.8401</td>\n",
       "      <td>0.0095</td>\n",
       "      <td>21</td>\n",
       "    </tr>\n",
       "    <tr>\n",
       "      <th>11</th>\n",
       "      <td>0.1920</td>\n",
       "      <td>0.0191</td>\n",
       "      <td>0.0194</td>\n",
       "      <td>0.0019</td>\n",
       "      <td>5</td>\n",
       "      <td>80</td>\n",
       "      <td>{'rfc__max_depth': 5, 'rfc__n_estimators': 80}</td>\n",
       "      <td>0.8171</td>\n",
       "      <td>0.8397</td>\n",
       "      <td>0.8497</td>\n",
       "      <td>0.8436</td>\n",
       "      <td>0.8504</td>\n",
       "      <td>0.8401</td>\n",
       "      <td>0.0122</td>\n",
       "      <td>22</td>\n",
       "    </tr>\n",
       "    <tr>\n",
       "      <th>12</th>\n",
       "      <td>0.2256</td>\n",
       "      <td>0.0142</td>\n",
       "      <td>0.0208</td>\n",
       "      <td>0.0017</td>\n",
       "      <td>5</td>\n",
       "      <td>90</td>\n",
       "      <td>{'rfc__max_depth': 5, 'rfc__n_estimators': 90}</td>\n",
       "      <td>0.8169</td>\n",
       "      <td>0.8399</td>\n",
       "      <td>0.8485</td>\n",
       "      <td>0.8441</td>\n",
       "      <td>0.8498</td>\n",
       "      <td>0.8398</td>\n",
       "      <td>0.0120</td>\n",
       "      <td>23</td>\n",
       "    </tr>\n",
       "    <tr>\n",
       "      <th>13</th>\n",
       "      <td>0.2378</td>\n",
       "      <td>0.0108</td>\n",
       "      <td>0.0240</td>\n",
       "      <td>0.0024</td>\n",
       "      <td>5</td>\n",
       "      <td>100</td>\n",
       "      <td>{'rfc__max_depth': 5, 'rfc__n_estimators': 100}</td>\n",
       "      <td>0.8162</td>\n",
       "      <td>0.8399</td>\n",
       "      <td>0.8489</td>\n",
       "      <td>0.8440</td>\n",
       "      <td>0.8500</td>\n",
       "      <td>0.8398</td>\n",
       "      <td>0.0123</td>\n",
       "      <td>24</td>\n",
       "    </tr>\n",
       "    <tr>\n",
       "      <th>9</th>\n",
       "      <td>0.1474</td>\n",
       "      <td>0.0041</td>\n",
       "      <td>0.0164</td>\n",
       "      <td>0.0014</td>\n",
       "      <td>5</td>\n",
       "      <td>60</td>\n",
       "      <td>{'rfc__max_depth': 5, 'rfc__n_estimators': 60}</td>\n",
       "      <td>0.8158</td>\n",
       "      <td>0.8406</td>\n",
       "      <td>0.8501</td>\n",
       "      <td>0.8433</td>\n",
       "      <td>0.8487</td>\n",
       "      <td>0.8397</td>\n",
       "      <td>0.0124</td>\n",
       "      <td>25</td>\n",
       "    </tr>\n",
       "    <tr>\n",
       "      <th>8</th>\n",
       "      <td>0.1354</td>\n",
       "      <td>0.0158</td>\n",
       "      <td>0.0172</td>\n",
       "      <td>0.0025</td>\n",
       "      <td>5</td>\n",
       "      <td>50</td>\n",
       "      <td>{'rfc__max_depth': 5, 'rfc__n_estimators': 50}</td>\n",
       "      <td>0.8164</td>\n",
       "      <td>0.8412</td>\n",
       "      <td>0.8498</td>\n",
       "      <td>0.8430</td>\n",
       "      <td>0.8479</td>\n",
       "      <td>0.8396</td>\n",
       "      <td>0.0120</td>\n",
       "      <td>26</td>\n",
       "    </tr>\n",
       "    <tr>\n",
       "      <th>7</th>\n",
       "      <td>0.1154</td>\n",
       "      <td>0.0096</td>\n",
       "      <td>0.0128</td>\n",
       "      <td>0.0013</td>\n",
       "      <td>5</td>\n",
       "      <td>40</td>\n",
       "      <td>{'rfc__max_depth': 5, 'rfc__n_estimators': 40}</td>\n",
       "      <td>0.8179</td>\n",
       "      <td>0.8405</td>\n",
       "      <td>0.8509</td>\n",
       "      <td>0.8427</td>\n",
       "      <td>0.8448</td>\n",
       "      <td>0.8393</td>\n",
       "      <td>0.0113</td>\n",
       "      <td>27</td>\n",
       "    </tr>\n",
       "    <tr>\n",
       "      <th>28</th>\n",
       "      <td>0.1191</td>\n",
       "      <td>0.0058</td>\n",
       "      <td>0.0132</td>\n",
       "      <td>0.0008</td>\n",
       "      <td>8</td>\n",
       "      <td>40</td>\n",
       "      <td>{'rfc__max_depth': 8, 'rfc__n_estimators': 40}</td>\n",
       "      <td>0.8199</td>\n",
       "      <td>0.8405</td>\n",
       "      <td>0.8465</td>\n",
       "      <td>0.8444</td>\n",
       "      <td>0.8403</td>\n",
       "      <td>0.8383</td>\n",
       "      <td>0.0095</td>\n",
       "      <td>28</td>\n",
       "    </tr>\n",
       "    <tr>\n",
       "      <th>3</th>\n",
       "      <td>0.2375</td>\n",
       "      <td>0.0408</td>\n",
       "      <td>0.0248</td>\n",
       "      <td>0.0066</td>\n",
       "      <td>4</td>\n",
       "      <td>70</td>\n",
       "      <td>{'rfc__max_depth': 4, 'rfc__n_estimators': 70}</td>\n",
       "      <td>0.8184</td>\n",
       "      <td>0.8367</td>\n",
       "      <td>0.8468</td>\n",
       "      <td>0.8390</td>\n",
       "      <td>0.8486</td>\n",
       "      <td>0.8379</td>\n",
       "      <td>0.0108</td>\n",
       "      <td>29</td>\n",
       "    </tr>\n",
       "    <tr>\n",
       "      <th>6</th>\n",
       "      <td>0.3103</td>\n",
       "      <td>0.0515</td>\n",
       "      <td>0.0242</td>\n",
       "      <td>0.0010</td>\n",
       "      <td>4</td>\n",
       "      <td>100</td>\n",
       "      <td>{'rfc__max_depth': 4, 'rfc__n_estimators': 100}</td>\n",
       "      <td>0.8168</td>\n",
       "      <td>0.8357</td>\n",
       "      <td>0.8473</td>\n",
       "      <td>0.8397</td>\n",
       "      <td>0.8491</td>\n",
       "      <td>0.8377</td>\n",
       "      <td>0.0116</td>\n",
       "      <td>30</td>\n",
       "    </tr>\n",
       "    <tr>\n",
       "      <th>4</th>\n",
       "      <td>0.2248</td>\n",
       "      <td>0.0250</td>\n",
       "      <td>0.0215</td>\n",
       "      <td>0.0061</td>\n",
       "      <td>4</td>\n",
       "      <td>80</td>\n",
       "      <td>{'rfc__max_depth': 4, 'rfc__n_estimators': 80}</td>\n",
       "      <td>0.8175</td>\n",
       "      <td>0.8362</td>\n",
       "      <td>0.8469</td>\n",
       "      <td>0.8390</td>\n",
       "      <td>0.8487</td>\n",
       "      <td>0.8377</td>\n",
       "      <td>0.0111</td>\n",
       "      <td>31</td>\n",
       "    </tr>\n",
       "    <tr>\n",
       "      <th>5</th>\n",
       "      <td>0.2206</td>\n",
       "      <td>0.0346</td>\n",
       "      <td>0.0214</td>\n",
       "      <td>0.0031</td>\n",
       "      <td>4</td>\n",
       "      <td>90</td>\n",
       "      <td>{'rfc__max_depth': 4, 'rfc__n_estimators': 90}</td>\n",
       "      <td>0.8177</td>\n",
       "      <td>0.8357</td>\n",
       "      <td>0.8469</td>\n",
       "      <td>0.8387</td>\n",
       "      <td>0.8491</td>\n",
       "      <td>0.8376</td>\n",
       "      <td>0.0111</td>\n",
       "      <td>32</td>\n",
       "    </tr>\n",
       "    <tr>\n",
       "      <th>2</th>\n",
       "      <td>0.1640</td>\n",
       "      <td>0.0276</td>\n",
       "      <td>0.0199</td>\n",
       "      <td>0.0059</td>\n",
       "      <td>4</td>\n",
       "      <td>60</td>\n",
       "      <td>{'rfc__max_depth': 4, 'rfc__n_estimators': 60}</td>\n",
       "      <td>0.8176</td>\n",
       "      <td>0.8361</td>\n",
       "      <td>0.8464</td>\n",
       "      <td>0.8383</td>\n",
       "      <td>0.8480</td>\n",
       "      <td>0.8373</td>\n",
       "      <td>0.0108</td>\n",
       "      <td>33</td>\n",
       "    </tr>\n",
       "    <tr>\n",
       "      <th>1</th>\n",
       "      <td>0.1138</td>\n",
       "      <td>0.0115</td>\n",
       "      <td>0.0137</td>\n",
       "      <td>0.0017</td>\n",
       "      <td>4</td>\n",
       "      <td>50</td>\n",
       "      <td>{'rfc__max_depth': 4, 'rfc__n_estimators': 50}</td>\n",
       "      <td>0.8179</td>\n",
       "      <td>0.8375</td>\n",
       "      <td>0.8463</td>\n",
       "      <td>0.8372</td>\n",
       "      <td>0.8469</td>\n",
       "      <td>0.8372</td>\n",
       "      <td>0.0105</td>\n",
       "      <td>34</td>\n",
       "    </tr>\n",
       "    <tr>\n",
       "      <th>0</th>\n",
       "      <td>0.0956</td>\n",
       "      <td>0.0037</td>\n",
       "      <td>0.0114</td>\n",
       "      <td>0.0005</td>\n",
       "      <td>4</td>\n",
       "      <td>40</td>\n",
       "      <td>{'rfc__max_depth': 4, 'rfc__n_estimators': 40}</td>\n",
       "      <td>0.8180</td>\n",
       "      <td>0.8372</td>\n",
       "      <td>0.8446</td>\n",
       "      <td>0.8381</td>\n",
       "      <td>0.8455</td>\n",
       "      <td>0.8367</td>\n",
       "      <td>0.0099</td>\n",
       "      <td>35</td>\n",
       "    </tr>\n",
       "  </tbody>\n",
       "</table>\n",
       "</div>"
      ],
      "text/plain": [
       "    mean_fit_time  std_fit_time  mean_score_time  std_score_time  \\\n",
       "27         0.2540        0.0049           0.0222          0.0010   \n",
       "25         0.2108        0.0050           0.0204          0.0030   \n",
       "26         0.2236        0.0058           0.0208          0.0015   \n",
       "24         0.1852        0.0051           0.0182          0.0007   \n",
       "18         0.2062        0.0073           0.0202          0.0015   \n",
       "19         0.2254        0.0138           0.0200          0.0010   \n",
       "20         0.2563        0.0219           0.0232          0.0012   \n",
       "34         0.2852        0.0082           0.0242          0.0026   \n",
       "23         0.1721        0.0050           0.0173          0.0007   \n",
       "17         0.1849        0.0063           0.0186          0.0014   \n",
       "22         0.1392        0.0049           0.0150          0.0013   \n",
       "16         0.1623        0.0070           0.0162          0.0008   \n",
       "32         0.2188        0.0083           0.0200          0.0009   \n",
       "33         0.2556        0.0147           0.0238          0.0024   \n",
       "21         0.1126        0.0040           0.0124          0.0008   \n",
       "14         0.1240        0.0091           0.0134          0.0005   \n",
       "15         0.1393        0.0114           0.0148          0.0011   \n",
       "31         0.1990        0.0103           0.0188          0.0023   \n",
       "30         0.1830        0.0224           0.0176          0.0005   \n",
       "10         0.2034        0.0417           0.0204          0.0059   \n",
       "29         0.1471        0.0028           0.0148          0.0004   \n",
       "11         0.1920        0.0191           0.0194          0.0019   \n",
       "12         0.2256        0.0142           0.0208          0.0017   \n",
       "13         0.2378        0.0108           0.0240          0.0024   \n",
       "9          0.1474        0.0041           0.0164          0.0014   \n",
       "8          0.1354        0.0158           0.0172          0.0025   \n",
       "7          0.1154        0.0096           0.0128          0.0013   \n",
       "28         0.1191        0.0058           0.0132          0.0008   \n",
       "3          0.2375        0.0408           0.0248          0.0066   \n",
       "6          0.3103        0.0515           0.0242          0.0010   \n",
       "4          0.2248        0.0250           0.0215          0.0061   \n",
       "5          0.2206        0.0346           0.0214          0.0031   \n",
       "2          0.1640        0.0276           0.0199          0.0059   \n",
       "1          0.1138        0.0115           0.0137          0.0017   \n",
       "0          0.0956        0.0037           0.0114          0.0005   \n",
       "\n",
       "   param_rfc__max_depth param_rfc__n_estimators  \\\n",
       "27                    7                     100   \n",
       "25                    7                      80   \n",
       "26                    7                      90   \n",
       "24                    7                      70   \n",
       "18                    6                      80   \n",
       "19                    6                      90   \n",
       "20                    6                     100   \n",
       "34                    8                     100   \n",
       "23                    7                      60   \n",
       "17                    6                      70   \n",
       "22                    7                      50   \n",
       "16                    6                      60   \n",
       "32                    8                      80   \n",
       "33                    8                      90   \n",
       "21                    7                      40   \n",
       "14                    6                      40   \n",
       "15                    6                      50   \n",
       "31                    8                      70   \n",
       "30                    8                      60   \n",
       "10                    5                      70   \n",
       "29                    8                      50   \n",
       "11                    5                      80   \n",
       "12                    5                      90   \n",
       "13                    5                     100   \n",
       "9                     5                      60   \n",
       "8                     5                      50   \n",
       "7                     5                      40   \n",
       "28                    8                      40   \n",
       "3                     4                      70   \n",
       "6                     4                     100   \n",
       "4                     4                      80   \n",
       "5                     4                      90   \n",
       "2                     4                      60   \n",
       "1                     4                      50   \n",
       "0                     4                      40   \n",
       "\n",
       "                                             params  split0_test_score  \\\n",
       "27  {'rfc__max_depth': 7, 'rfc__n_estimators': 100}             0.8196   \n",
       "25   {'rfc__max_depth': 7, 'rfc__n_estimators': 80}             0.8203   \n",
       "26   {'rfc__max_depth': 7, 'rfc__n_estimators': 90}             0.8197   \n",
       "24   {'rfc__max_depth': 7, 'rfc__n_estimators': 70}             0.8207   \n",
       "18   {'rfc__max_depth': 6, 'rfc__n_estimators': 80}             0.8215   \n",
       "19   {'rfc__max_depth': 6, 'rfc__n_estimators': 90}             0.8220   \n",
       "20  {'rfc__max_depth': 6, 'rfc__n_estimators': 100}             0.8217   \n",
       "34  {'rfc__max_depth': 8, 'rfc__n_estimators': 100}             0.8230   \n",
       "23   {'rfc__max_depth': 7, 'rfc__n_estimators': 60}             0.8204   \n",
       "17   {'rfc__max_depth': 6, 'rfc__n_estimators': 70}             0.8212   \n",
       "22   {'rfc__max_depth': 7, 'rfc__n_estimators': 50}             0.8186   \n",
       "16   {'rfc__max_depth': 6, 'rfc__n_estimators': 60}             0.8206   \n",
       "32   {'rfc__max_depth': 8, 'rfc__n_estimators': 80}             0.8220   \n",
       "33   {'rfc__max_depth': 8, 'rfc__n_estimators': 90}             0.8224   \n",
       "21   {'rfc__max_depth': 7, 'rfc__n_estimators': 40}             0.8184   \n",
       "14   {'rfc__max_depth': 6, 'rfc__n_estimators': 40}             0.8202   \n",
       "15   {'rfc__max_depth': 6, 'rfc__n_estimators': 50}             0.8204   \n",
       "31   {'rfc__max_depth': 8, 'rfc__n_estimators': 70}             0.8210   \n",
       "30   {'rfc__max_depth': 8, 'rfc__n_estimators': 60}             0.8216   \n",
       "10   {'rfc__max_depth': 5, 'rfc__n_estimators': 70}             0.8171   \n",
       "29   {'rfc__max_depth': 8, 'rfc__n_estimators': 50}             0.8218   \n",
       "11   {'rfc__max_depth': 5, 'rfc__n_estimators': 80}             0.8171   \n",
       "12   {'rfc__max_depth': 5, 'rfc__n_estimators': 90}             0.8169   \n",
       "13  {'rfc__max_depth': 5, 'rfc__n_estimators': 100}             0.8162   \n",
       "9    {'rfc__max_depth': 5, 'rfc__n_estimators': 60}             0.8158   \n",
       "8    {'rfc__max_depth': 5, 'rfc__n_estimators': 50}             0.8164   \n",
       "7    {'rfc__max_depth': 5, 'rfc__n_estimators': 40}             0.8179   \n",
       "28   {'rfc__max_depth': 8, 'rfc__n_estimators': 40}             0.8199   \n",
       "3    {'rfc__max_depth': 4, 'rfc__n_estimators': 70}             0.8184   \n",
       "6   {'rfc__max_depth': 4, 'rfc__n_estimators': 100}             0.8168   \n",
       "4    {'rfc__max_depth': 4, 'rfc__n_estimators': 80}             0.8175   \n",
       "5    {'rfc__max_depth': 4, 'rfc__n_estimators': 90}             0.8177   \n",
       "2    {'rfc__max_depth': 4, 'rfc__n_estimators': 60}             0.8176   \n",
       "1    {'rfc__max_depth': 4, 'rfc__n_estimators': 50}             0.8179   \n",
       "0    {'rfc__max_depth': 4, 'rfc__n_estimators': 40}             0.8180   \n",
       "\n",
       "    split1_test_score  split2_test_score  split3_test_score  \\\n",
       "27             0.8432             0.8523             0.8501   \n",
       "25             0.8432             0.8517             0.8497   \n",
       "26             0.8423             0.8525             0.8499   \n",
       "24             0.8425             0.8505             0.8501   \n",
       "18             0.8411             0.8528             0.8477   \n",
       "19             0.8409             0.8526             0.8472   \n",
       "20             0.8405             0.8524             0.8474   \n",
       "34             0.8423             0.8484             0.8494   \n",
       "23             0.8424             0.8505             0.8496   \n",
       "17             0.8401             0.8532             0.8473   \n",
       "22             0.8431             0.8499             0.8499   \n",
       "16             0.8390             0.8536             0.8469   \n",
       "32             0.8434             0.8485             0.8484   \n",
       "33             0.8426             0.8477             0.8490   \n",
       "21             0.8432             0.8498             0.8499   \n",
       "14             0.8412             0.8519             0.8475   \n",
       "15             0.8400             0.8524             0.8466   \n",
       "31             0.8442             0.8475             0.8476   \n",
       "30             0.8422             0.8482             0.8469   \n",
       "10             0.8409             0.8499             0.8436   \n",
       "29             0.8423             0.8481             0.8466   \n",
       "11             0.8397             0.8497             0.8436   \n",
       "12             0.8399             0.8485             0.8441   \n",
       "13             0.8399             0.8489             0.8440   \n",
       "9              0.8406             0.8501             0.8433   \n",
       "8              0.8412             0.8498             0.8430   \n",
       "7              0.8405             0.8509             0.8427   \n",
       "28             0.8405             0.8465             0.8444   \n",
       "3              0.8367             0.8468             0.8390   \n",
       "6              0.8357             0.8473             0.8397   \n",
       "4              0.8362             0.8469             0.8390   \n",
       "5              0.8357             0.8469             0.8387   \n",
       "2              0.8361             0.8464             0.8383   \n",
       "1              0.8375             0.8463             0.8372   \n",
       "0              0.8372             0.8446             0.8381   \n",
       "\n",
       "    split4_test_score  mean_test_score  std_test_score  rank_test_score  \n",
       "27             0.8488           0.8428          0.0120                1  \n",
       "25             0.8483           0.8427          0.0115                2  \n",
       "26             0.8486           0.8426          0.0119                3  \n",
       "24             0.8479           0.8423          0.0112                4  \n",
       "18             0.8483           0.8423          0.0110                5  \n",
       "19             0.8481           0.8422          0.0108                6  \n",
       "20             0.8483           0.8421          0.0109                7  \n",
       "34             0.8465           0.8420          0.0098                8  \n",
       "23             0.8468           0.8419          0.0111                9  \n",
       "17             0.8476           0.8419          0.0112               10  \n",
       "22             0.8464           0.8416          0.0117               11  \n",
       "16             0.8478           0.8416          0.0115               12  \n",
       "32             0.8452           0.8415          0.0100               13  \n",
       "33             0.8456           0.8414          0.0098               14  \n",
       "21             0.8458           0.8414          0.0118               15  \n",
       "14             0.8451           0.8412          0.0110               16  \n",
       "15             0.8452           0.8409          0.0110               17  \n",
       "31             0.8441           0.8409          0.0101               18  \n",
       "30             0.8424           0.8403          0.0096               19  \n",
       "10             0.8498           0.8403          0.0121               20  \n",
       "29             0.8417           0.8401          0.0095               21  \n",
       "11             0.8504           0.8401          0.0122               22  \n",
       "12             0.8498           0.8398          0.0120               23  \n",
       "13             0.8500           0.8398          0.0123               24  \n",
       "9              0.8487           0.8397          0.0124               25  \n",
       "8              0.8479           0.8396          0.0120               26  \n",
       "7              0.8448           0.8393          0.0113               27  \n",
       "28             0.8403           0.8383          0.0095               28  \n",
       "3              0.8486           0.8379          0.0108               29  \n",
       "6              0.8491           0.8377          0.0116               30  \n",
       "4              0.8487           0.8377          0.0111               31  \n",
       "5              0.8491           0.8376          0.0111               32  \n",
       "2              0.8480           0.8373          0.0108               33  \n",
       "1              0.8469           0.8372          0.0105               34  \n",
       "0              0.8455           0.8367          0.0099               35  "
      ]
     },
     "execution_count": 45,
     "metadata": {},
     "output_type": "execute_result"
    }
   ],
   "source": [
    "pd.DataFrame(rf_gs.cv_results_).sort_values('rank_test_score')"
   ]
  },
  {
   "cell_type": "code",
   "execution_count": 46,
   "metadata": {
    "ExecuteTime": {
     "end_time": "2023-10-21T12:13:54.334707Z",
     "start_time": "2023-10-21T12:13:54.321705Z"
    }
   },
   "outputs": [
    {
     "data": {
      "text/plain": [
       "0.8427929783154383"
      ]
     },
     "execution_count": 46,
     "metadata": {},
     "output_type": "execute_result"
    }
   ],
   "source": [
    "rf_gs.best_score_"
   ]
  },
  {
   "cell_type": "code",
   "execution_count": 47,
   "metadata": {
    "ExecuteTime": {
     "end_time": "2023-10-21T12:13:54.349707Z",
     "start_time": "2023-10-21T12:13:54.338707Z"
    },
    "pycharm": {
     "name": "#%%\n"
    }
   },
   "outputs": [
    {
     "data": {
      "text/plain": [
       "{'rfc__max_depth': 7, 'rfc__n_estimators': 100}"
      ]
     },
     "execution_count": 47,
     "metadata": {},
     "output_type": "execute_result"
    }
   ],
   "source": [
    "rf_gs.best_params_"
   ]
  },
  {
   "cell_type": "code",
   "execution_count": 48,
   "metadata": {
    "ExecuteTime": {
     "end_time": "2023-10-21T12:13:54.365712Z",
     "start_time": "2023-10-21T12:13:54.353707Z"
    },
    "pycharm": {
     "name": "#%%\n"
    }
   },
   "outputs": [],
   "source": [
    "rf_best_model = rf_gs.best_estimator_"
   ]
  },
  {
   "cell_type": "markdown",
   "metadata": {},
   "source": [
    "Сохраним в файл предсказание текущей модели, а также текущей модели, но уже обученной на полном размеченном наборе данных"
   ]
  },
  {
   "cell_type": "code",
   "execution_count": 49,
   "metadata": {
    "ExecuteTime": {
     "end_time": "2023-10-21T12:13:54.823702Z",
     "start_time": "2023-10-21T12:13:54.367708Z"
    }
   },
   "outputs": [],
   "source": [
    "y_private.assign(**{'Churn': rf_best_model.predict_proba(x_private)[:, 1]}).to_csv('rf_train_sample.csv', index=False)\n",
    "# 0.84478 on Kaggle\n",
    "\n",
    "y_private.assign(**{'Churn': rf_best_model.fit(x, y).predict_proba(x_private)[:, 1]}).to_csv('rf_full_sample.csv', index=False)\n",
    "# 0.846 on Kaggle"
   ]
  },
  {
   "cell_type": "markdown",
   "metadata": {
    "pycharm": {
     "name": "#%% md\n"
    }
   },
   "source": [
    "Выпишите какое лучшее качество и с какими параметрами вам удалось получить"
   ]
  },
  {
   "cell_type": "markdown",
   "metadata": {
    "pycharm": {
     "name": "#%% md\n"
    }
   },
   "source": [
    "## Применение градиентного бустинга (2 балла)\n",
    "\n",
    "Если вы хотите получить баллы за точный ответ, то стоит попробовать градиентный бустинг. Часто градиентный бустинг с параметрами по умолчанию даст вам 80% результата за 0% усилий.\n",
    "\n",
    "Мы будем использовать catboost, поэтому нам не надо кодировать категориальные признаки. Catboost сделает это сам (в .fit() надо передать cat_features=cat_cols). А численные признаки нормировать для моделей, основанных на деревьях не нужно.\n",
    "\n",
    "1) Разделите выборку на train/valid. Протестируйте catboost cо стандартными параметрами.\n",
    "\n",
    "2) Протестируйте разные занчения параметроа количества деревьев и learning_rate'а и выберите лучшую по метрике ROC-AUC комбинацию. \n",
    "\n",
    "(Дополнительно) Есть некоторые сложности с тем, чтобы использовать CatBoostClassifier вместе с GridSearchCV, поэтому мы не просим использовать кроссвалидацию. Но можете попробовать)"
   ]
  },
  {
   "cell_type": "code",
   "execution_count": 50,
   "metadata": {
    "ExecuteTime": {
     "end_time": "2023-10-21T12:13:54.839738Z",
     "start_time": "2023-10-21T12:13:54.825702Z"
    },
    "pycharm": {
     "name": "#%%\n"
    }
   },
   "outputs": [],
   "source": [
    "# https://www.youtube.com/watch?v=wQt4kgAOgV0"
   ]
  },
  {
   "cell_type": "markdown",
   "metadata": {
    "pycharm": {
     "name": "#%% md\n"
    }
   },
   "source": [
    "Выделим категориальные признаки"
   ]
  },
  {
   "cell_type": "code",
   "execution_count": 51,
   "metadata": {
    "ExecuteTime": {
     "end_time": "2023-10-21T12:13:54.855738Z",
     "start_time": "2023-10-21T12:13:54.841703Z"
    },
    "pycharm": {
     "name": "#%%\n"
    }
   },
   "outputs": [
    {
     "data": {
      "text/plain": [
       "['has_contract_phone', 'payment_method']"
      ]
     },
     "execution_count": 51,
     "metadata": {},
     "output_type": "execute_result"
    }
   ],
   "source": [
    "cat_features = df.select_dtypes(include='object').columns.to_list()\n",
    "cat_features"
   ]
  },
  {
   "cell_type": "markdown",
   "metadata": {
    "pycharm": {
     "name": "#%% md\n"
    }
   },
   "source": [
    "Чтобы уловить наступление переобучения, выделим валидационную выборку"
   ]
  },
  {
   "cell_type": "code",
   "execution_count": 52,
   "metadata": {
    "ExecuteTime": {
     "end_time": "2023-10-21T12:13:54.871705Z",
     "start_time": "2023-10-21T12:13:54.857706Z"
    },
    "pycharm": {
     "name": "#%%\n"
    }
   },
   "outputs": [],
   "source": [
    "x_train_cb, x_val, y_train_cb, y_val = train_test_split(x_train, y_train, test_size=0.2, random_state=rs)"
   ]
  },
  {
   "cell_type": "code",
   "execution_count": 53,
   "metadata": {
    "ExecuteTime": {
     "end_time": "2023-10-21T12:13:54.918738Z",
     "start_time": "2023-10-21T12:13:54.873706Z"
    }
   },
   "outputs": [],
   "source": [
    "pool = Pool(data=x_train_cb, label=y_train_cb, cat_features=cat_features)"
   ]
  },
  {
   "cell_type": "markdown",
   "metadata": {},
   "source": [
    "### Обучение катбуста из коробки"
   ]
  },
  {
   "cell_type": "code",
   "execution_count": 54,
   "metadata": {
    "ExecuteTime": {
     "end_time": "2023-10-21T12:13:56.471736Z",
     "start_time": "2023-10-21T12:13:54.920704Z"
    }
   },
   "outputs": [
    {
     "name": "stdout",
     "output_type": "stream",
     "text": [
      "Learning rate set to 0.015714\n",
      "0:\ttest: 0.8215880\tbest: 0.8215880 (0)\ttotal: 175ms\tremaining: 29m 8s\n",
      "Stopped by overfitting detector  (50 iterations wait)\n",
      "\n",
      "bestTest = 0.8467696307\n",
      "bestIteration = 3\n",
      "\n",
      "Shrink model to first 4 iterations.\n"
     ]
    },
    {
     "data": {
      "text/plain": [
       "<catboost.core.CatBoostClassifier at 0x16a9522b520>"
      ]
     },
     "execution_count": 54,
     "metadata": {},
     "output_type": "execute_result"
    }
   ],
   "source": [
    "cbc = CatBoostClassifier(iterations=9999,\n",
    "                         loss_function='Logloss',\n",
    "                         eval_metric='AUC',\n",
    "                         random_seed=rs,\n",
    "                         early_stopping_rounds=50,\n",
    "                        )\n",
    "\n",
    "cbc.fit(X=pool, \n",
    "        eval_set=(x_val, y_val),\n",
    "        verbose=100,\n",
    "       )"
   ]
  },
  {
   "cell_type": "markdown",
   "metadata": {},
   "source": [
    "### Обучение c подбором гиперпараметров и детектором переобучения"
   ]
  },
  {
   "cell_type": "markdown",
   "metadata": {},
   "source": [
    "Воспользуемся всеми благами катбуста и подберем для него оптимальные гиперпараметры при помощи оптуны."
   ]
  },
  {
   "cell_type": "code",
   "execution_count": 55,
   "metadata": {
    "ExecuteTime": {
     "end_time": "2023-10-21T12:13:56.487705Z",
     "start_time": "2023-10-21T12:13:56.473704Z"
    }
   },
   "outputs": [],
   "source": [
    "def objective(trial):\n",
    "    \n",
    "    params = {'loss_function': trial.suggest_categorical('loss_function', ['Logloss']),\n",
    "              'learning_rate': trial.suggest_float('learning_rate', 0.01, 0.1),\n",
    "              'eval_metric': trial.suggest_categorical('eval_metric', ['AUC']),\n",
    "              'l2_leaf_reg': trial.suggest_float('l2_leaf_reg', 1, 10),\n",
    "              'max_depth': trial.suggest_int('max_depth', 5, 10),\n",
    "              'random_strength': trial.suggest_float('random_strength', 0.0, 2.0),\n",
    "              'subsample': trial.suggest_float(\"subsample\", 0.5, 1.0),\n",
    "              'auto_class_weights': trial.suggest_categorical('auto_class_weights', ['Balanced']),\n",
    "#               'grow_policy': trial.suggest_categorical('grow_policy', ['SymmetricTree', 'Lossguide']),\n",
    "              \n",
    "              'iterations': trial.suggest_int('iterations', 9999, 9999),\n",
    "              'random_seed': trial.suggest_categorical('random_seed', [rs]),\n",
    "              'early_stopping_rounds': trial.suggest_categorical('early_stopping_rounds', [30]),\n",
    "             }\n",
    "\n",
    "    cbc = CatBoostClassifier(**params)\n",
    "\n",
    "    cbc.fit(X=pool,\n",
    "            eval_set=(x_val, y_val),\n",
    "            logging_level='Silent',\n",
    "           )\n",
    "\n",
    "    return cbc.get_best_score()['validation']['AUC']"
   ]
  },
  {
   "cell_type": "code",
   "execution_count": 56,
   "metadata": {
    "ExecuteTime": {
     "end_time": "2023-10-21T12:14:11.938418Z",
     "start_time": "2023-10-21T12:13:56.489705Z"
    },
    "scrolled": true
   },
   "outputs": [
    {
     "name": "stderr",
     "output_type": "stream",
     "text": [
      "[I 2023-10-21 15:13:56,490] A new study created in memory with name: no-name-2415ba08-1bf8-444a-9f38-1ad091cd69d3\n",
      "[I 2023-10-21 15:13:59,350] Trial 0 finished with value: 0.8506116675586819 and parameters: {'loss_function': 'Logloss', 'learning_rate': 0.037364140221295236, 'eval_metric': 'AUC', 'l2_leaf_reg': 5.086482405371646, 'max_depth': 10, 'random_strength': 1.3196006064828767, 'subsample': 0.9800734497345334, 'auto_class_weights': 'Balanced', 'iterations': 9999, 'random_seed': 1234, 'early_stopping_rounds': 30}. Best is trial 0 with value: 0.8506116675586819.\n",
      "[I 2023-10-21 15:14:08,045] Trial 1 finished with value: 0.8518808777429467 and parameters: {'loss_function': 'Logloss', 'learning_rate': 0.01643916578785642, 'eval_metric': 'AUC', 'l2_leaf_reg': 1.740332064531174, 'max_depth': 8, 'random_strength': 0.6540562099096048, 'subsample': 0.762966525386926, 'auto_class_weights': 'Balanced', 'iterations': 9999, 'random_seed': 1234, 'early_stopping_rounds': 30}. Best is trial 1 with value: 0.8518808777429467.\n",
      "[I 2023-10-21 15:14:11,927] Trial 2 finished with value: 0.8520223258658919 and parameters: {'loss_function': 'Logloss', 'learning_rate': 0.05840683568400573, 'eval_metric': 'AUC', 'l2_leaf_reg': 4.437430701757585, 'max_depth': 10, 'random_strength': 0.932002961852042, 'subsample': 0.7342180497147632, 'auto_class_weights': 'Balanced', 'iterations': 9999, 'random_seed': 1234, 'early_stopping_rounds': 30}. Best is trial 2 with value: 0.8520223258658919.\n"
     ]
    }
   ],
   "source": [
    "study = optuna.create_study(directions=[\"maximize\"])\n",
    "study.optimize(objective, n_trials=3, timeout=9*60*60)"
   ]
  },
  {
   "cell_type": "code",
   "execution_count": 57,
   "metadata": {
    "ExecuteTime": {
     "end_time": "2023-10-21T12:14:11.953752Z",
     "start_time": "2023-10-21T12:14:11.940416Z"
    }
   },
   "outputs": [
    {
     "name": "stdout",
     "output_type": "stream",
     "text": [
      "достигнут AUC 0.852\n"
     ]
    },
    {
     "data": {
      "text/plain": [
       "{'loss_function': 'Logloss',\n",
       " 'learning_rate': 0.05840683568400573,\n",
       " 'eval_metric': 'AUC',\n",
       " 'l2_leaf_reg': 4.437430701757585,\n",
       " 'max_depth': 10,\n",
       " 'random_strength': 0.932002961852042,\n",
       " 'subsample': 0.7342180497147632,\n",
       " 'auto_class_weights': 'Balanced',\n",
       " 'iterations': 9999,\n",
       " 'random_seed': 1234,\n",
       " 'early_stopping_rounds': 30}"
      ]
     },
     "execution_count": 57,
     "metadata": {},
     "output_type": "execute_result"
    }
   ],
   "source": [
    "print(f'достигнут AUC {study.best_value:.4}')\n",
    "study.best_params"
   ]
  },
  {
   "cell_type": "markdown",
   "metadata": {},
   "source": [
    "При запуске на несколько часов были выделены следующие гиперпараметры\n",
    "\n",
    "rs=1234\n",
    "[I 2023-10-20 15:10:49,855] Trial 97 finished with value: 0.8610291306674822 and parameters: {'loss_function': 'Logloss', 'learning_rate': 0.08762575403047994, 'eval_metric': 'AUC', 'l2_leaf_reg': 1.8575638782725983, 'max_depth': 7, 'random_strength': 1.8098318632678099, 'subsample': 0.588989772023291, 'auto_class_weights': 'Balanced', 'iterations': 9999, 'random_seed': 1234, 'early_stopping_rounds': 30}. Best is trial 97 with value: 0.8610291306674822."
   ]
  },
  {
   "cell_type": "code",
   "execution_count": 58,
   "metadata": {
    "ExecuteTime": {
     "end_time": "2023-10-21T12:14:11.969806Z",
     "start_time": "2023-10-21T12:14:11.955716Z"
    }
   },
   "outputs": [],
   "source": [
    "best_cbc_params = {'loss_function': 'Logloss', \n",
    "                   'learning_rate': 0.08762575403047994, \n",
    "                   'eval_metric': 'AUC', \n",
    "                   'l2_leaf_reg': 1.8575638782725983, \n",
    "                   'max_depth': 7, \n",
    "                   'random_strength': 1.8098318632678099, \n",
    "                   'subsample': 0.588989772023291, \n",
    "                   'auto_class_weights': 'Balanced', \n",
    "                   'iterations': 9999, \n",
    "                   'random_seed': 1234, \n",
    "                   'early_stopping_rounds': 30,\n",
    "                   'use_best_model': True}"
   ]
  },
  {
   "cell_type": "markdown",
   "metadata": {},
   "source": [
    "Теперь выясним число итераций, которое понадобилось бустингу на таких гиперпараметрах"
   ]
  },
  {
   "cell_type": "code",
   "execution_count": 59,
   "metadata": {
    "ExecuteTime": {
     "end_time": "2023-10-21T12:14:14.933040Z",
     "start_time": "2023-10-21T12:14:11.971930Z"
    }
   },
   "outputs": [
    {
     "data": {
      "application/vnd.jupyter.widget-view+json": {
       "model_id": "df04b9547ae944c482c4e78912d542e6",
       "version_major": 2,
       "version_minor": 0
      },
      "text/plain": [
       "MetricVisualizer(layout=Layout(align_self='stretch', height='500px'))"
      ]
     },
     "metadata": {},
     "output_type": "display_data"
    },
    {
     "name": "stdout",
     "output_type": "stream",
     "text": [
      "0:\ttest: 0.8078943\tbest: 0.8078943 (0)\ttotal: 24ms\tremaining: 4m\n",
      "100:\ttest: 0.8603295\tbest: 0.8610291 (83)\ttotal: 2.46s\tremaining: 4m 1s\n",
      "Stopped by overfitting detector  (30 iterations wait)\n",
      "\n",
      "bestTest = 0.8610291307\n",
      "bestIteration = 83\n",
      "\n",
      "Shrink model to first 84 iterations.\n"
     ]
    }
   ],
   "source": [
    "cbc_best = CatBoostClassifier(**best_cbc_params)\n",
    "\n",
    "cbc_best.fit(X=pool,\n",
    "             eval_set=(x_val, y_val),\n",
    "             plot=True,\n",
    "             verbose=100,\n",
    "             );"
   ]
  },
  {
   "cell_type": "code",
   "execution_count": 60,
   "metadata": {
    "ExecuteTime": {
     "end_time": "2023-10-21T12:14:14.949000Z",
     "start_time": "2023-10-21T12:14:14.935002Z"
    }
   },
   "outputs": [
    {
     "name": "stdout",
     "output_type": "stream",
     "text": [
      "Скор тот же, число деревьев 84\n"
     ]
    }
   ],
   "source": [
    "print(f'Скор тот же, число деревьев {cbc_best.tree_count_}')"
   ]
  },
  {
   "cell_type": "markdown",
   "metadata": {},
   "source": [
    "Сохраним в файл предсказание текущей модели"
   ]
  },
  {
   "cell_type": "code",
   "execution_count": 61,
   "metadata": {
    "ExecuteTime": {
     "end_time": "2023-10-21T12:14:14.979039Z",
     "start_time": "2023-10-21T12:14:14.951000Z"
    }
   },
   "outputs": [],
   "source": [
    "y_private.assign(**{'Churn': cbc_best.predict_proba(x_private)[:, 1]}).to_csv('cbc_train_sample_st_iter.csv', index=False)\n",
    "# 0.84891 on Kaggle"
   ]
  },
  {
   "cell_type": "markdown",
   "metadata": {},
   "source": [
    "Также сохраним предсказания модели, обученной на полном размеченном наборе данных"
   ]
  },
  {
   "cell_type": "code",
   "execution_count": 62,
   "metadata": {
    "ExecuteTime": {
     "end_time": "2023-10-21T12:14:14.995002Z",
     "start_time": "2023-10-21T12:14:14.981000Z"
    }
   },
   "outputs": [],
   "source": [
    "cbc_best_full = CatBoostClassifier(**best_cbc_params).set_params(**{'iterations': cbc_best.tree_count_, \n",
    "                                                                    'use_best_model': False})"
   ]
  },
  {
   "cell_type": "code",
   "execution_count": 63,
   "metadata": {
    "ExecuteTime": {
     "end_time": "2023-10-21T12:14:16.872280Z",
     "start_time": "2023-10-21T12:14:14.998002Z"
    }
   },
   "outputs": [
    {
     "data": {
      "text/plain": [
       "<catboost.core.CatBoostClassifier at 0x16a951b81c0>"
      ]
     },
     "execution_count": 63,
     "metadata": {},
     "output_type": "execute_result"
    }
   ],
   "source": [
    "cbc_best_full.fit(x, y, \n",
    "             cat_features=cat_features,\n",
    "             logging_level='Silent'\n",
    "            )"
   ]
  },
  {
   "cell_type": "code",
   "execution_count": 64,
   "metadata": {
    "ExecuteTime": {
     "end_time": "2023-10-21T12:14:16.902690Z",
     "start_time": "2023-10-21T12:14:16.874257Z"
    }
   },
   "outputs": [],
   "source": [
    "y_private.assign(**{'Churn': cbc_best_full.predict_proba(x_private)[:, 1]}).to_csv('cbc_full_sample_st_iter.csv', index=False)\n",
    "# 0.85009 on Kaggle"
   ]
  },
  {
   "cell_type": "markdown",
   "metadata": {},
   "source": [
    "Увеличим число итераций на 35% (примерно настолько объем данных а полноц выборке больше, чем в обучающей, опытным путем было проверено увеличение на 20%...50%) и опять обучим модель на всех размеченных данных"
   ]
  },
  {
   "cell_type": "code",
   "execution_count": 65,
   "metadata": {
    "ExecuteTime": {
     "end_time": "2023-10-21T12:14:19.569001Z",
     "start_time": "2023-10-21T12:14:16.904654Z"
    }
   },
   "outputs": [
    {
     "data": {
      "text/plain": [
       "<catboost.core.CatBoostClassifier at 0x16a95236730>"
      ]
     },
     "execution_count": 65,
     "metadata": {},
     "output_type": "execute_result"
    }
   ],
   "source": [
    "cbc_best_full_iter_increased = CatBoostClassifier(**best_cbc_params).set_params(**{'iterations': round(1.37*cbc_best.tree_count_), \n",
    "                                                                                   'use_best_model': False})\n",
    "\n",
    "cbc_best_full_iter_increased.fit(x, y, \n",
    "             cat_features=cat_features,\n",
    "             logging_level='Silent'\n",
    "            )"
   ]
  },
  {
   "cell_type": "code",
   "execution_count": 66,
   "metadata": {
    "ExecuteTime": {
     "end_time": "2023-10-21T12:14:19.601001Z",
     "start_time": "2023-10-21T12:14:19.570967Z"
    }
   },
   "outputs": [],
   "source": [
    "y_private.assign(**{'Churn': cbc_best_full_iter_increased.predict_proba(x_private)[:, 1]}).to_csv('cbc_full_sample__iter+37%.csv', index=False)\n",
    "# 0.85255 on Kaggle - 1001 место\n",
    "# http://joxi.ru/ZrJ341NikJwYkm"
   ]
  },
  {
   "cell_type": "markdown",
   "metadata": {},
   "source": [
    "# Выводы\n",
    "* Были рассмотрены логистическая регрессия, случайный лес и градиентный бустинг (catboost))\n",
    "* Самым значимым фактором ~во всем этом вашем дата сайнс~ является random_state. От него решения часто колеблются на сотые доли (это много)\n",
    "* Лучше всех себя показал градиентный бустинг, но его пришлось тонко настраивать\n",
    "* Фишки, которые работают:\n",
    "\n",
    "    + Обучение на полном датасете перед предсказаниями на каггле\n",
    "    + Увеличение числа итераций по отношению к тому, которое было получено на обучающей выборке\n",
    "\n"
   ]
  }
 ],
 "metadata": {
  "colab": {
   "authorship_tag": "ABX9TyNLhaHLxDgfaE0WjMnuolO1",
   "provenance": []
  },
  "kernelspec": {
   "display_name": "Python 3",
   "language": "python",
   "name": "python3"
  },
  "language_info": {
   "codemirror_mode": {
    "name": "ipython",
    "version": 3
   },
   "file_extension": ".py",
   "mimetype": "text/x-python",
   "name": "python",
   "nbconvert_exporter": "python",
   "pygments_lexer": "ipython3",
   "version": "3.8.5"
  },
  "latex_envs": {
   "LaTeX_envs_menu_present": true,
   "autoclose": true,
   "autocomplete": true,
   "bibliofile": "biblio.bib",
   "cite_by": "apalike",
   "current_citInitial": 1,
   "eqLabelWithNumbers": true,
   "eqNumInitial": 1,
   "hotkeys": {
    "equation": "Ctrl-E",
    "itemize": "Ctrl-I"
   },
   "labels_anchors": false,
   "latex_user_defs": false,
   "report_style_numbering": true,
   "user_envs_cfg": false
  },
  "toc": {
   "base_numbering": 1,
   "nav_menu": {},
   "number_sections": true,
   "sideBar": true,
   "skip_h1_title": false,
   "title_cell": "Table of Contents",
   "title_sidebar": "Contents",
   "toc_cell": true,
   "toc_position": {
    "height": "calc(100% - 180px)",
    "left": "10px",
    "top": "150px",
    "width": "307.2px"
   },
   "toc_section_display": true,
   "toc_window_display": true
  }
 },
 "nbformat": 4,
 "nbformat_minor": 1
}
